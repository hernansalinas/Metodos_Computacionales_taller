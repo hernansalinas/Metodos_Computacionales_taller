{
 "cells": [
  {
   "cell_type": "markdown",
   "metadata": {},
   "source": [
    "# Problemas \n",
    "\n",
    "## 1. Area\n",
    "\n",
    "Hallar el área de un segmento circular cuya area sea igual a una cuarta parte del área del circulo. Para la solución se sugiere lo siguiente:\n",
    "\n",
    "a) Encontrar la ecuacion trascendental.\n",
    "\n",
    "b) Con la ecuación anterior, definir una funcion $f(\\theta)=0$. Emplee la funcion labmda de python.\n",
    "\n",
    "c) Construir una data frame de pandas con la columna \"theta\" con 1000 registros(filas) entre $[-2\\pi, 2\\pi]$. Sugerencia, para construir el data frame emplee la función linspace como sigue : np.linspace(-2\\*np.pi, 2\\*np.pi, 1000 )\n",
    "\n",
    "d) Construir una segunda columna titulada \"F_theta\" con los registros f(theta)\n",
    "\n",
    "f) Realice un gráfico de  \"F_theta\" vs \"theta\". Identifique el intervalo de la raiz.\n",
    "\n",
    "Estime el valor del ángulo empleando los siguientes metodos(Emplee  la documentacion):\n",
    "\n",
    "g) [Bisección](https://docs.scipy.org/doc/scipy/reference/generated/scipy.optimize.bisect.html)\n",
    "\n",
    "h) [Newton-Rapshon](https://docs.scipy.org/doc/scipy/reference/generated/scipy.optimize.newton.html)\n",
    "\n",
    "i) [Secante](https://docs.scipy.org/doc/scipy/reference/generated/scipy.optimize.newton.html) \n",
    "\n",
    "j) [Punto Fijo](https://docs.scipy.org/doc/scipy/reference/generated/scipy.optimize.fixed_point.html)\n"
   ]
  },
  {
   "cell_type": "code",
   "execution_count": 1,
   "metadata": {},
   "outputs": [],
   "source": [
    "#librerias\n",
    "import numpy as np\n",
    "import pandas as pd\n",
    "import matplotlib.pylab as plt\n",
    "from scipy import optimize"
   ]
  },
  {
   "cell_type": "markdown",
   "metadata": {},
   "source": [
    "##### a) Encontrar la ecuacion trascendental.\n",
    "\n",
    "Primero planteamos las ecuaciones que describen el área de una circulo y segmento circular.\n",
    "\n",
    "\\begin{equation}\n",
    "\\text{Ac: Área del circulo}\n",
    "\\end{equation} \n",
    "\n",
    "\\begin{equation}\n",
    "\\text{As: Área de un segmento circular} \n",
    "\\end{equation} \n",
    "\n",
    "\\begin{equation}\n",
    "Ac = 2{\\pi}r^2 \\\\\n",
    "\\end{equation} \n",
    "\n",
    "\\begin{equation}\n",
    "As = \\frac{1}{2}(\\theta - \\sin\\theta)r^2\n",
    "\\end{equation} \n",
    "\n",
    "Por otro lado se nos pide que el area del segmento circular sea igual a una cuarta parte del área del circulo, es decir:\n",
    "\n",
    "\\begin{equation}\n",
    "\\frac{1}{4}Ac = As \\\\\n",
    "\\end{equation}\n",
    "\n",
    "\\begin{equation}\n",
    "\\frac{1}{4}{\\pi}r^2 = \\frac{1}{2}(\\theta - \\sin\\theta)r^2 \\\\\n",
    "\\end{equation}\n",
    "\n",
    "\\begin{equation}\n",
    "\\frac{\\pi}{2} = \\theta - \\sin\\theta \\\\\n",
    "\\end{equation}\n",
    "\n",
    "\\begin{equation}\n",
    "f(\\theta)= \\theta - \\sin\\theta - \\frac{\\pi}{2}=0\n",
    "\\end{equation}"
   ]
  },
  {
   "cell_type": "markdown",
   "metadata": {},
   "source": [
    "##### b) Con la ecuación anterior, definir una funcion $f(\\theta)=0$. Emplee la funcion labmda de python."
   ]
  },
  {
   "cell_type": "code",
   "execution_count": 2,
   "metadata": {},
   "outputs": [],
   "source": [
    "f = lambda theta: theta - np.sin(theta) - np.pi/2 #Función labmda del problema"
   ]
  },
  {
   "cell_type": "markdown",
   "metadata": {},
   "source": [
    "##### c) Construir una data frame de pandas con la columna \"theta\" con 1000 registros(filas) entre  [−2𝜋,2𝜋] . Sugerencia, para construir el data frame emplee la función linspace como sigue : np.linspace(-2*np.pi, 2*np.pi, 1000 )"
   ]
  },
  {
   "cell_type": "code",
   "execution_count": 3,
   "metadata": {},
   "outputs": [],
   "source": [
    "theta = np.linspace(-2 * np.pi, 2 * np.pi, 1000) #Divide el intervalo en 1000\n",
    "\n",
    "df = pd.DataFrame() #Crea el dataFrame.\n",
    "df[\"theta\"] = theta #Agrega una columna theta y los valores."
   ]
  },
  {
   "cell_type": "markdown",
   "metadata": {},
   "source": [
    "##### d) Construir una segunda columna titulada \"F_theta\" con los registros f(theta)"
   ]
  },
  {
   "cell_type": "code",
   "execution_count": 4,
   "metadata": {},
   "outputs": [],
   "source": [
    "df[\"F_theta\"] = f(theta) #Agrega una columna F_theta con la evalución de los valores theta."
   ]
  },
  {
   "cell_type": "markdown",
   "metadata": {},
   "source": [
    "##### f) Realice un gráfico de  \"F_theta\" vs \"theta\". Identifique el intervalo de la raiz.\n"
   ]
  },
  {
   "cell_type": "code",
   "execution_count": 5,
   "metadata": {},
   "outputs": [
    {
     "data": {
      "image/png": "[encoded data removed]",
      "text/plain": [
       "<Figure size 432x288 with 1 Axes>"
      ]
     },
     "metadata": {
      "needs_background": "light"
     },
     "output_type": "display_data"
    }
   ],
   "source": [
    "#Crear grafica.\n",
    "plt.figure()\n",
    "plt.plot(df[\"theta\"], df[\"F_theta\"])\n",
    "plt.xlabel(\"$\\\\theta$\")\n",
    "plt.ylabel(\"$f(\\\\theta)$\")\n",
    "plt.grid()\n",
    "plt.show()"
   ]
  },
  {
   "cell_type": "markdown",
   "metadata": {},
   "source": [
    "##### Estime el valor del ángulo empleando los siguientes metodos(Emplee  la documentacion):\n",
    "\n",
    "##### g) [Bisección](https://docs.scipy.org/doc/scipy/reference/generated/scipy.optimize.bisect.html)\n",
    "\n",
    "##### h) [Newton-Rapshon](https://docs.scipy.org/doc/scipy/reference/generated/scipy.optimize.newton.html)\n",
    "\n",
    "##### i) [Secante](https://docs.scipy.org/doc/scipy/reference/generated/scipy.optimize.newton.html) \n",
    "\n",
    "##### j) [Punto Fijo](https://docs.scipy.org/doc/scipy/reference/generated/scipy.optimize.fixed_point.html)"
   ]
  },
  {
   "cell_type": "code",
   "execution_count": 6,
   "metadata": {},
   "outputs": [
    {
     "name": "stdout",
     "output_type": "stream",
     "text": [
      "El ángulo encontrado por el metodo de bisección es: 2.31 radianes.\n",
      "\n"
     ]
    }
   ],
   "source": [
    "#Metodo de bisección\n",
    "root_biseccion = optimize.bisect(f, 0, 4)\n",
    "print(f\"El ángulo encontrado por el metodo de bisección es: {root_biseccion:.3} radianes.\\n\")"
   ]
  },
  {
   "cell_type": "code",
   "execution_count": 7,
   "metadata": {},
   "outputs": [
    {
     "name": "stdout",
     "output_type": "stream",
     "text": [
      "El ángulo encontrado por el metodo de Newton-Rapshon es: 2.31 radianes.\n",
      "\n"
     ]
    }
   ],
   "source": [
    "#Metodo de Newton-Rapshon\n",
    "root_newton_rapshon = optimize.newton(f, 2)\n",
    "print(f\"El ángulo encontrado por el metodo de Newton-Rapshon es: {root_newton_rapshon:.3} radianes.\\n\")"
   ]
  },
  {
   "cell_type": "code",
   "execution_count": 8,
   "metadata": {},
   "outputs": [
    {
     "name": "stdout",
     "output_type": "stream",
     "text": [
      "El ángulo encontrado por el metodo de punto dijo es: 2.31 radianes.\n",
      "\n"
     ]
    }
   ],
   "source": [
    "#Metodo de punto fijo\n",
    "root_punto_fijo = optimize.fixed_point(lambda x: x-f(x),2)\n",
    "print(f\"El ángulo encontrado por el metodo de punto dijo es: {root_punto_fijo:.3} radianes.\\n\")"
   ]
  },
  {
   "cell_type": "markdown",
   "metadata": {},
   "source": [
    "# 2. Movimiento de proyectiles en presencia de viento.\n",
    "\n",
    "Supongamos que un proyectil es lanzado desde el origen con una rapidez $v=vo( \\cos \\theta , \\sin \\theta) $. Supongamos además que el efecto del viento sobre el proyectil es el de una fuerza proporcional a la velocidad relativa entre el viento y el proyectil. Teniendo presente que si $u$ es la velocidad del viento y $\\alpha$ el ángulo que hace dirección de esta velocidad con el eje x, se puede entrontrar las siguientes ecuaciones diferenciales, asociada al estado de movimiento del [proyectil](https://iopscience.iop.org/article/10.1088/0143-0807/36/2/025016/meta):\n",
    "\n",
    "\n",
    "\\begin{equation}\n",
    "m\\frac{dv_x}{dt} = -mb(v_x-u\\cos \\alpha )\n",
    "\\end{equation}\n",
    "\n",
    "\\begin{equation}\n",
    "m\\frac{dv_y}{dt} = -mg-mb(v_x-u\\sin \\alpha ),\n",
    "\\end{equation}\n",
    "\n",
    "donde b es el párametro de rozamiento. La soluciones a las ecuaciones anteriores vienen dadas por:\n",
    "\n",
    "Posición en x\n",
    "\\begin{equation}\n",
    "x=(u\\cos \\alpha) t + \\frac{1}{b} (v_0\\cos \\theta_0 -u \\cos\\alpha)(1-\\mathrm{exp}(-bt))\n",
    "\\end{equation}\n",
    "\n",
    "Posicion en y \n",
    "\\begin{equation}\n",
    "y= \\frac{1}{b}\\left(\\frac{g}{b}+v_0 \\sin \\theta_0 -u\\sin\\alpha \\right)(1-\\mathrm{exp}(-bt))-\\left( \\frac{g}{b}-u\\sin\\alpha\\right)t\n",
    "\\end{equation}\n",
    "\n",
    "Ver imagen:  http://www.sc.ehu.es/sbweb/fisica3/fluidos/viento/parabolico.html\n",
    "\n",
    "0. Establezca las siguietnes condiciones inciales.\n",
    "\n",
    "    v0 = 60 #Velocidad en m/s\n",
    "\n",
    "    alpha = np.pi #Angulo del viento\n",
    "\n",
    "    theta = np.deg2rad(45) #Angulo de lanzamiento\n",
    "\n",
    "    u = v0/2             #rapidez del viento\n",
    "\n",
    "    b = 0.05             #Parametro de friccion \n",
    "\n",
    "    g = 9.8                #Aceleracion de la gravedad m/s2\n",
    "\n",
    "    Params = (alpha, v0, b, u,g)  #Parametros en tupla.\n",
    "\n",
    "1. Defina dos funciones, una para x y otra para y. \n",
    "2. Construya un diccionario con las claves \"X\", \"Y\", \"Tiempo\".\n",
    "3. Con el diccionario construya un data frame de pandas llamado df con los nombres de columnas \"X\", \"Y\", \"Tiempo\"  https://pandas.pydata.org/docs/reference/api/pandas.DataFrame.from_dict.html. Defina 1000 registros para el intervalo de tiempo elegido.\n",
    "4. Realice un gráfico de x como función del tiempo, de y como función del tiempo y la trayectoria de la partícula (df[\"X\"], df[\"tiempo\"], df[\"Y\"]).\n",
    "5. Determine el alcance máximo de la partícula, para ello tome  la solucion teórica con $y=0$, solucione numéricamente la ecuación para t y remplace este valor en la ecuación para x. Resuelvalo para $\\theta=45^{o}$.  \n",
    "6. Construya una  grafica del alcance máximo R como función de $\\theta$, varie $\\theta$  entre 10 y 90 grados cada 5 grados.\n",
    "7. Realice una interpolacion de R como función de theta."
   ]
  },
  {
   "cell_type": "markdown",
   "metadata": {},
   "source": [
    "#####  0. Establezca las siguietnes condiciones inciales."
   ]
  },
  {
   "cell_type": "code",
   "execution_count": 9,
   "metadata": {},
   "outputs": [],
   "source": [
    "# Condiciones iniciales \n",
    "v0 = 60 # Velocidad en m/s.\n",
    "alpha = np.pi # Angulo de viento.\n",
    "theta = np.deg2rad(45) # Angulo de lanzamiento.\n",
    "u = v0/2 # Rapidez del viento.\n",
    "b = 0.05 # Parametro de fricción.\n",
    "g = 9.8 # Acelaración de la gravedad m/s^2."
   ]
  },
  {
   "cell_type": "markdown",
   "metadata": {},
   "source": [
    "###### 1. Defina dos funciones, una para x y otra para y. "
   ]
  },
  {
   "cell_type": "code",
   "execution_count": 10,
   "metadata": {},
   "outputs": [],
   "source": [
    "def postion_x (t): # Función de posición en el eje x.\n",
    "    # Ti: termino i.\n",
    "    T1 = u*np.cos(alpha)*t                        \n",
    "    T2 = (1./b)*(v0*np.cos(theta) - u*np.cos(alpha))   \n",
    "    T3 = 1 - np.e**(-b*t)\n",
    "    return T1 + T2*T3\n",
    "\n",
    "    \n",
    "def postion_y (t): # Función de posición en el eje y.\n",
    "    # Ti: termino i.\n",
    "    T1 = (1./b)*(g/b + v0*np.sin(theta) - u*np.sin(alpha)) \n",
    "    T2 = (1 - np.e**(- b * t)) \n",
    "    T3 = (g / b - u *  np.sin(alpha))*t\n",
    "    return T1* T2 - T3\n"
   ]
  },
  {
   "cell_type": "markdown",
   "metadata": {},
   "source": [
    "##### 2. Construya un diccionario con las claves \"X\", \"Y\", \"Tiempo\"."
   ]
  },
  {
   "cell_type": "code",
   "execution_count": 11,
   "metadata": {},
   "outputs": [],
   "source": [
    "t = np.linspace(0, 10, 1000) # Tiempo\n",
    "x = postion_x(t) # Evaluar posición en x.\n",
    "y = postion_y(t) # Evaluar posición en y.\n",
    "positions_tiempo = {\"X\":x, \"Y\":y, \"Tiempo\":t} # Diccionario con las claves \"X\", \"Y\", \"Tiempo\""
   ]
  },
  {
   "cell_type": "markdown",
   "metadata": {},
   "source": [
    "##### 3. Con el diccionario construya un data frame de pandas llamado df con los nombres de columnas \"X\", \"Y\", \"Tiempo\""
   ]
  },
  {
   "cell_type": "code",
   "execution_count": 12,
   "metadata": {},
   "outputs": [],
   "source": [
    "df = pd.DataFrame.from_dict(positions_tiempo) # Dataframe del diccionario \"positions_tiempo\""
   ]
  },
  {
   "cell_type": "markdown",
   "metadata": {},
   "source": [
    "##### 4. Realice un gráfico de x como función del tiempo, de y como función del tiempo y la trayectoria de la partícula (df[\"X\"], df[\"tiempo\"], df[\"Y\"])."
   ]
  },
  {
   "cell_type": "code",
   "execution_count": 13,
   "metadata": {},
   "outputs": [
    {
     "data": {
      "image/png": "[encoded data removed]",
      "text/plain": [
       "<Figure size 720x288 with 2 Axes>"
      ]
     },
     "metadata": {
      "needs_background": "light"
     },
     "output_type": "display_data"
    }
   ],
   "source": [
    "# Crear gráfica de x, y como funciones de tiempo.\n",
    "plt.figure(figsize=(10, 4))\n",
    "plt.subplot(121)\n",
    "plt.plot(df[\"Tiempo\"], df[\"X\"], label = \"pos_x\")\n",
    "plt.plot(df[\"Tiempo\"], df[\"Y\"], label = \"pos_y\")\n",
    "plt.xlabel(\"t(s)\")\n",
    "plt.ylabel(\"Posición(m)\")\n",
    "plt.title(\"Angulo de lanzamiento = \" + str(\"%.3lf\"%theta) + \"rad\")\n",
    "plt.grid()\n",
    "plt.legend()\n",
    "plt.subplot(122)\n",
    "plt.plot(df[\"X\"], df[\"Y\"], label=\"trayectoria\") \n",
    "plt.xlabel(\"x(m)\")\n",
    "plt.ylabel(\"y(m)\")\n",
    "plt.title(\"Angulo de lanzamiento = \" + str(\"%.3lf\"%theta) + \"rad\")\n",
    "plt.grid()\n",
    "plt.legend()\n",
    "plt.show()"
   ]
  },
  {
   "cell_type": "markdown",
   "metadata": {},
   "source": [
    "##### 5. Determine el alcance máximo de la partícula, para ello tome  la solucion teórica con $y=0$, solucione numéricamente la ecuación para t y remplace este valor en la ecuación para x. Resuelvalo para $\\theta=45^{o}$.  \n",
    "\n",
    "Para determinar el alcance máximo se debe hallar el instante de tiempo donde y = 0, para esto es necesario encontrar las raíces de la función position_y y posteriormente evaluar estas en la función position_x."
   ]
  },
  {
   "cell_type": "code",
   "execution_count": 14,
   "metadata": {},
   "outputs": [
    {
     "name": "stdout",
     "output_type": "stream",
     "text": [
      "El alcance máximo con solución teórica y = 0 y ángulo de lanzamiento de 45 grados es: 239.61 m\n"
     ]
    }
   ],
   "source": [
    "root_position_y = optimize.newton(postion_y, 7) # Determinar las raices de position_y\n",
    "R = postion_x(root_position_y) # Alcance maximo R\n",
    "print(f\"El alcance máximo con solución teórica y = 0 y ángulo de lanzamiento de 45 grados es: {R:.5} m\")"
   ]
  },
  {
   "cell_type": "markdown",
   "metadata": {},
   "source": [
    "##### 6. Construya una  grafica del alcance máximo R como función de $\\theta$, varie $\\theta$  entre 10 y 90 grados cada 5 grados."
   ]
  },
  {
   "cell_type": "code",
   "execution_count": 15,
   "metadata": {},
   "outputs": [
    {
     "name": "stdout",
     "output_type": "stream",
     "text": [
      "    Angle  Root Position y       Scope\n",
      "0    10.0         2.089913  114.092050\n",
      "1    15.0         3.089693  159.114248\n",
      "2    20.0         4.051319  195.251607\n",
      "3    25.0         4.969343  222.192572\n",
      "4    30.0         5.838759  239.866010\n",
      "5    35.0         6.654990  248.413854\n",
      "6    40.0         7.413869  248.164280\n",
      "7    45.0         8.111627  239.606149\n",
      "8    50.0         8.744883  223.365113\n",
      "9    55.0         9.310630  200.181558\n",
      "10   60.0         9.806233  170.890414\n",
      "11   65.0        10.229417  136.402731\n",
      "12   70.0        10.578262   97.688848\n",
      "13   75.0        10.851205   55.762972\n",
      "14   80.0        11.047030   11.668920\n",
      "15   85.0        11.164872  -33.533198\n",
      "16   90.0        11.204210  -78.779601\n"
     ]
    },
    {
     "data": {
      "image/png": "[encoded data removed]",
      "text/plain": [
       "<Figure size 720x288 with 1 Axes>"
      ]
     },
     "metadata": {
      "needs_background": "light"
     },
     "output_type": "display_data"
    }
   ],
   "source": [
    "\n",
    "def angle_roots_scope(): # Metodo para obtener un df con las raices con los angulos variando entre 10 y 90 grados cada 5 grados.\n",
    "    theta_variable = np.linspace(10,90,17) #Crea un ndarray de 10 a 90 espaciado de a 5.\n",
    "    roots_angle_variable = [] # Array donde se guardaran las raices mediante se varia el angulo theta.\n",
    "    \n",
    "    y = lambda t: ((1./b)*(g/b + v0*np.sin(theta) - u*np.sin(alpha)))*(  # Función lambda posición y.\n",
    "        (1 - np.e**(- b * t))) - (g / b - u * np.sin(alpha))*t \n",
    "    \n",
    "    x = lambda t,theta: u*np.cos(alpha)*t  + (1./b)*((v0*np.cos(np.deg2rad( # Función lambda posición x.\n",
    "        theta))) - (u*np.cos(alpha))) * (1 - np.e**(-b*t))\n",
    "    \n",
    "    for i in theta_variable: # Ciclo para hallar las raíces variando el Angulo de lanzamiento theta.\n",
    "        theta = np.deg2rad(i)\n",
    "        roots_angle_variable.append(optimize.newton(y, 7, maxiter=1000))\n",
    "    \n",
    "    angle_root_ditinari = {\"Angle\": theta_variable, \"Root Position y\": roots_angle_variable} # Crar diccionario.\n",
    "    angle_root_df = pd.DataFrame.from_dict(angle_root_ditinari) # Crear Dataframe.\n",
    "    angle_root_df[\"Scope\"] = x(np.array(roots_angle_variable),theta_variable) # Agrega el Scope al dataframe.\n",
    "    return angle_root_df\n",
    "\n",
    "\n",
    "angle_roots_scope_df = angle_roots_scope() # Crear el df.\n",
    "print(angle_roots_scope_df)\n",
    "\n",
    "# Crear gráfica de alcance máximo R como función de 𝜃. \n",
    "plt.figure(figsize=(10, 4))\n",
    "plt.plot(angle_roots_scope_df[\"Angle\"], angle_roots_scope_df[\"Scope\"],\"o\",label = \"Scope\")\n",
    "plt.xlabel(\"$θ$(deg)\")\n",
    "plt.ylabel(\"Scope(m)\")\n",
    "plt.title(\"$θ$ vs R\")\n",
    "plt.grid()\n",
    "plt.legend()\n",
    "plt.show()\n"
   ]
  },
  {
   "cell_type": "markdown",
   "metadata": {},
   "source": [
    "##### 7. Realice una interpolacion de R como función de theta."
   ]
  },
  {
   "cell_type": "code",
   "execution_count": 16,
   "metadata": {},
   "outputs": [
    {
     "data": {
      "image/png": "[encoded data removed]",
      "text/plain": [
       "<Figure size 1080x288 with 3 Axes>"
      ]
     },
     "metadata": {
      "needs_background": "light"
     },
     "output_type": "display_data"
    }
   ],
   "source": [
    "# Importar el metodo para interpolar \n",
    "from scipy.interpolate import interp1d\n",
    "\n",
    "angles = np.array(angle_roots_scope_df[\"Angle\"]) # Ángulos de lanzamiento.\n",
    "r_scope = np.array(angle_roots_scope_df[\"Scope\"]) # Alcances máximos(Scope).\n",
    "\n",
    "# Interpolaciones.\n",
    "f_interp_linear = interp1d(angles, r_scope, kind = 'linear') # Interpolación lineal.\n",
    "f_interp_quadratic = interp1d(angles, r_scope, kind = 'quadratic') # Interpolación cuadratica.\n",
    "f_interp_cubic = interp1d(angles, r_scope, kind = 'cubic') # Interpolación cubica.\n",
    "\n",
    "X = np.linspace(10, 90, 100)\n",
    "Y_linear = f_interp_linear(X)\n",
    "Y_quadratic = f_interp_quadratic(X)\n",
    "Y_cubic = f_interp_cubic(X)\n",
    "\n",
    "\n",
    "# Construir la graficas.\n",
    "plt.figure(figsize=(15, 4))\n",
    "# Grafica interpolación lineal.\n",
    "plt.subplot(131)\n",
    "plt.plot(X, Y_linear, 'r', label = 'I.lineal')\n",
    "plt.plot(angle_roots_scope_df[\"Angle\"], angle_roots_scope_df[\"Scope\"],\"o\",label = \"points\")\n",
    "plt.xlabel(\"$θ$(deg)\")\n",
    "plt.ylabel(\"Scope(m)\")\n",
    "plt.title(\"Interpolación lineal\")\n",
    "plt.legend()\n",
    "plt.grid()\n",
    "# Grafica interpolación cuadratica.\n",
    "plt.subplot(132)\n",
    "plt.plot(X, Y_quadratic, 'y', label = 'I.cuadratica')\n",
    "plt.plot(angle_roots_scope_df[\"Angle\"], angle_roots_scope_df[\"Scope\"],\"o\",label = \"points\")\n",
    "plt.xlabel(\"$θ$(deg)\")\n",
    "plt.ylabel(\"Scope(m)\")\n",
    "plt.title(\"Interpolación cuadratica\")\n",
    "plt.legend()\n",
    "plt.grid()\n",
    "# Grafica interpolación cubica.\n",
    "plt.subplot(133)\n",
    "plt.plot(X, Y_cubic, 'g',label = 'I.cubica')\n",
    "plt.plot(angle_roots_scope_df[\"Angle\"], angle_roots_scope_df[\"Scope\"],\"o\",label = \"points\")\n",
    "plt.xlabel(\"$θ$(deg)\")\n",
    "plt.ylabel(\"Scope(m)\")\n",
    "plt.title(\"Interpolación cubica\")\n",
    "plt.legend()\n",
    "plt.grid()\n",
    "plt.show()"
   ]
  }
 ],
 "metadata": {
  "kernelspec": {
   "display_name": "Python 3",
   "language": "python",
   "name": "python3"
  },
  "language_info": {
   "codemirror_mode": {
    "name": "ipython",
    "version": 3
   },
   "file_extension": ".py",
   "mimetype": "text/x-python",
   "name": "python",
   "nbconvert_exporter": "python",
   "pygments_lexer": "ipython3",
   "version": "3.8.5"
  }
 },
 "nbformat": 4,
 "nbformat_minor": 4
}
