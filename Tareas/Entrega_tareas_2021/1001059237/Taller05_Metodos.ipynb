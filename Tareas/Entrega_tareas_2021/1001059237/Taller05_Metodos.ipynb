{
  "nbformat": 4,
  "nbformat_minor": 0,
  "metadata": {
    "colab": {
      "name": "Taller05_Metodos.ipynb",
      "provenance": [],
      "collapsed_sections": []
    },
    "kernelspec": {
      "name": "python3",
      "display_name": "Python 3"
    },
    "language_info": {
      "name": "python"
    }
  },
  "cells": [
    {
      "cell_type": "markdown",
      "metadata": {
        "id": "iMtlmOQm42xm"
      },
      "source": [
        "# Problemas \n",
        "\n",
        "#1. Area \n",
        "Hallar el área de un segmento circular cuya area sea igual a una cuarta parte del área del circulo. Para la solución se sugiere lo siguiente:\n",
        "\n",
        "a) Encontrar la ecuacion trascendental.\n",
        "\n",
        "b) Con la ecuación anterior, definir una funcion $f(\\theta)=0$. Emplee la funcion labmda de python.\n",
        "\n",
        "c) Construir una data frame de pandas con la columna \"theta\" con 1000 registros(filas) entre $[-2\\pi, 2\\pi]$. Sugerencia, para construir el data frame emplee la función linspace como sigue : np.linspace(-2*np.pi, 2*np.pi, 1000 )\n",
        "\n",
        "d) Construir una segunda columna titulada \"F_theta\" con los registros f(theta)\n",
        "\n",
        "f) Realice un gráfico de  \"F_theta\" vs \"theta\". Identifique el intervalo de la raiz.\n",
        "\n",
        "Estime el valor del ángulo empleando los siguientes metodos(Emplee  la documentacion):\n",
        "\n",
        "g) [Bisección](https://docs.scipy.org/doc/scipy/reference/generated/scipy.optimize.bisect.html)\n",
        "\n",
        "h) [Newton-Rapshon](https://docs.scipy.org/doc/scipy/reference/generated/scipy.optimize.newton.html)\n",
        "\n",
        "i) [Secante](https://docs.scipy.org/doc/scipy/reference/generated/scipy.optimize.newton.html) \n",
        "\n",
        "j) [Punto Fijo](https://docs.scipy.org/doc/scipy/reference/generated/scipy.optimize.fixed_point.html)\n",
        "\n",
        "\n"
      ]
    },
    {
      "cell_type": "markdown",
      "metadata": {
        "id": "kTMWxoI58qXQ"
      },
      "source": [
        "\n",
        "\\begin{equation}\n",
        "A = As - 2\\frac{(r\\cos\\theta/2 )(r\\sin\\theta/2)}{2} \n",
        "\\end{equation}\n",
        "\n",
        "\n",
        "\\begin{equation}\n",
        "\\theta-\\sin \\theta = \\frac{\\pi}{2}\n",
        "\\end{equation}\n",
        "\n",
        "\n",
        "\n",
        "\\begin{equation}\n",
        "f(\\theta)= \\theta- \\sin \\theta - \\frac{\\pi}{2}=0\n",
        "\\end{equation}"
      ]
    },
    {
      "cell_type": "code",
      "metadata": {
        "id": "1rBnaTtP43Zj",
        "colab": {
          "base_uri": "https://localhost:8080/",
          "height": 320
        },
        "outputId": "0e9392da-807a-4a03-d756-66915ab61212"
      },
      "source": [
        "import numpy as np\n",
        "import pandas as pd\n",
        "import matplotlib.pyplot as plt\n",
        "from scipy import optimize, interpolate\n",
        "from scipy.special import lambertw\n",
        "# A y B\n",
        "def f(theta): \n",
        "  return theta-np.sin(theta)-np.pi/2 #funcion igualada a cero donde la original es igualada a pi/2\n",
        "\n",
        "def f_prima(theta):\n",
        "  return 1 - np.cos(theta) \n",
        "# C\n",
        "df = pd.DataFrame({\"theta\":np.linspace(-2*np.pi,2*np.pi,1000)}) # Dataframe  con los angulos\n",
        "# D\n",
        "df[\"f(theta)\"] = f(np.linspace(-2*np.pi,2*np.pi,1000)) # columna con valores\n",
        "\n",
        "# F\n",
        "plt.plot(df[\"theta\"],df[\"f(theta)\"]) # Grafico  F_theta\" vs \"theta\"\n",
        "\n",
        "#G\n",
        "# Primer argumento: funcion, segundo: primer punto, tercero: segundo punto\n",
        "print(\"resultado con bisect\",optimize.bisect(f,1,4))\n",
        "\n",
        "# Primer argumento: funcion, segundo: valor, tercero: derivada funcion\n",
        "print(\"resultado con rangente\",optimize.newton(f,1,f_prima))\n",
        "\n",
        "# Primer argumento: funcion, segundo: valor\n",
        "print(\"resultado con newton\",optimize.newton(f,1))"
      ],
      "execution_count": 31,
      "outputs": [
        {
          "output_type": "stream",
          "text": [
            "resultado con bisect 2.309881460010274\n",
            "resultado con rangente 2.309881460010057\n",
            "resultado con newton 2.3098814600100575\n"
          ],
          "name": "stdout"
        },
        {
          "output_type": "display_data",
          "data": {
            "image/png": "[encoded data removed]",
            "text/plain": [
              "<Figure size 432x288 with 1 Axes>"
            ]
          },
          "metadata": {
            "tags": [],
            "needs_background": "light"
          }
        }
      ]
    },
    {
      "cell_type": "markdown",
      "metadata": {
        "id": "AqZSU8CE46S9"
      },
      "source": [
        "\n",
        "\n",
        "\n",
        "# 2. Movimiento de proyectiles en presencia de viento.\n",
        "\n",
        "Supongamos que un proyectil es lanzado desde el origen con una rapidez $v=vo( \\cos \\theta , \\sin \\theta $. Supongamos además que el efecto del viento sobre el proyectil es el de una fuerza proporcional a la velocidad relativa entre el viento y el proyectil. Teniendo presente que si u es la velocidad del viento y $\\alpha$ el ángulo que hace dirección de esta velocidad con el eje x, se puede entrontrar las siguientes ecuaciones diferenciales, asociada al estado de movimiento del [proyectil](https://iopscience.iop.org/article/10.1088/0143-0807/36/2/025016/meta):\n",
        "\n",
        "\n",
        "\\begin{equation}\n",
        "m\\frac{dv_x}{dt} = -mb(v_x-u\\cos \\alpha )\n",
        "\\end{equation}\n",
        "\n",
        "\\begin{equation}\n",
        "m\\frac{dv_y}{dt} = -mg-mb(v_x-u\\sin \\alpha ),\n",
        "\\end{equation}\n",
        "\n",
        "donde b es el párametro de rozamiento. La soluciones a las ecuaciones anteriores vienen dadas por:\n",
        "\n",
        "Posición en x\n",
        "\\begin{equation}\n",
        "x=(u\\cos \\alpha) t + \\frac{1}{b} (v_0\\cos \\theta_0 -u \\cos\\alpha)(1-\\mathrm{exp}(-bt))\n",
        "\\end{equation}\n",
        "\n",
        "Posicion en y \n",
        "\\begin{equation}\n",
        "y= \\frac{1}{b}\\left(\\frac{g}{b}+v_0 \\sin \\theta_0 -u\\sin\\alpha \\right)(1-\\mathrm{exp}(-bt))-\\left( \\frac{g}{b}-u\\sin\\alpha\\right)t\n",
        "\\end{equation}\n",
        "\n",
        "Ver imagen:  http://www.sc.ehu.es/sbweb/fisica3/fluidos/viento/parabolico.html\n",
        "\n",
        "\n",
        "0. Establezca las siguietnes condiciones inciales.\n",
        "\n",
        "```\n",
        "#Parametros iniciales\n",
        "\n",
        "v0 = 60 #Velocidad en m/s\n",
        "alpha = np.pi #Angulo del viento\n",
        "theta = np.deg2rad(45) #Angulo de lanzamiento\n",
        "u = v0/2             #rapidez del viento\n",
        "b = 0.05             #Parametro de friccion \n",
        "g = 9.8                #Aceleracion de la gravedad m/s2\n",
        "\n",
        "Params = (alpha, v0, b, u,g)  #Parametros en tupla.\n",
        "\n",
        "```\n",
        "\n",
        "\n",
        "\n",
        "1. Defina dos funciones, una para x y otra para y. \n",
        "\n",
        "```\n",
        "\n",
        "#Posicion en x\n",
        "def pos_x(t, theta, alpha, v0, b, u,g):\n",
        "  x = #escriba aca la expresión\n",
        "  return x\n",
        "\n",
        "#Posicion en y\n",
        "def pos_y(t, theta, alpha, v0, b, u,g):\n",
        "\n",
        "\n",
        "  y = #escriba aca la expresión\n",
        "  return y \n",
        "\n",
        "```\n",
        "\n",
        "2. Construya un diccionario con las claves \"X\", \"Y\", \"Tiempo\"\n",
        "\n",
        "3. Con el diccionario construya un data frame de pandas llamado df con los nombres de columnas \"X\", \"Y\", \"Tiempo\"  https://pandas.pydata.org/docs/reference/api/pandas.DataFrame.from_dict.html. Defina 1000 regitros para el intervalo de tiempo elegido.\n",
        "\n",
        "\n",
        "4. Realice un gráfico de x como función del tiempo, de y como función del tiempo y la trayectoria de la partícula (df[\"X\"], df[\"tiempo\"], df[\"Y\"]).\n",
        "\n",
        "\n",
        "5. Determine el alcance máximo de la partícula, para ello tome  la solucion teórica con $y=0$, solucione numéricamente la ecuación para t y remplace este valor en la ecuación para x. Resuelvalo para $\\theta=45^{o}$.  \n",
        "\n",
        "6. Construya una  grafica del alcance máximo R como función de $\\theta$, varie $\\theta$  entre 10 y 80 grados cada 5 grados.\n",
        "\n",
        "7. Realice una interpolacion de R como función de theta.\n",
        "\n",
        "\n",
        "\n",
        "\n",
        "\n",
        "\n",
        "\n"
      ]
    },
    {
      "cell_type": "markdown",
      "metadata": {
        "id": "EYAWT8BjupdY"
      },
      "source": [
        "\\begin{equation}\n",
        "x=(u\\cos \\alpha) t + \\frac{1}{b} (v_0\\cos \\theta_0 -u \\cos\\alpha)(1-\\mathrm{exp}(-bt))\n",
        "\\end{equation}\n",
        "\n",
        "Posicion en y \n",
        "\\begin{equation}\n",
        "y= \\frac{1}{b}\\left(\\frac{g}{b}+v_0 \\sin \\theta_0 -u\\sin\\alpha \\right)(1-\\mathrm{exp}(-bt))-\\left( \\frac{g}{b}-u\\sin\\alpha\\right)t\n",
        "\\end{equation}"
      ]
    },
    {
      "cell_type": "code",
      "metadata": {
        "id": "HEEtRuug464L"
      },
      "source": [
        "v0 = 60 #Velocidad en m/s\n",
        "alpha = np.pi #Angulo del viento\n",
        "theta = np.deg2rad(45) #Angulo de lanzamiento\n",
        "u = v0/2             #rapidez del viento\n",
        "b = 0.05             #Parametro de friccion \n",
        "g = 9.8                #Aceleracion de la gravedad m/s2\n",
        "\n",
        "# 1.\n",
        "def pos_x(t, theta, alpha, v0, b, u, g): # Funcion de posicion x\n",
        "  x = (u*np.cos(alpha)*t)+((v0*np.cos(theta)-u*np.cos(alpha))*(1-np.exp(-b*t)))/b\n",
        "  return x\n",
        "\n",
        "def pos_y(t, theta, alpha, v0, b, u,g): # Funcion de posicion y\n",
        "  y = (1/b)*((g/b)+(v0*np.sin(theta))-u*np.sin(alpha))*(1-np.exp(-b*t))-((g/b)-u*np.sin(alpha))*t\n",
        "  return y "
      ],
      "execution_count": null,
      "outputs": []
    },
    {
      "cell_type": "code",
      "metadata": {
        "id": "hW5ZEzM0Z6R2"
      },
      "source": [
        "# 2 y 3\n",
        "time = np.linspace(0,30,1000)\n",
        "list_x = pos_x(time,theta,alpha,v0,b,u,g) # Lista de posiciones en X\n",
        "list_y = pos_y(time,theta,alpha,v0,b,u,g) # Lista de posiciones en Y\n",
        "df = pd.DataFrame({\"X\":list_x,\"Y\":list_y,\"Tiempo\":time})\n"
      ],
      "execution_count": 25,
      "outputs": []
    },
    {
      "cell_type": "code",
      "metadata": {
        "colab": {
          "base_uri": "https://localhost:8080/",
          "height": 299
        },
        "id": "f6FWOzhycLBa",
        "outputId": "a09a6ff3-0efe-4879-defe-6943a20f1ebc"
      },
      "source": [
        "# 4.A\n",
        "plt.plot(df[\"Tiempo\"],df[\"X\"])\n",
        "plt.title(\"X en funcion del Tiempo\")"
      ],
      "execution_count": null,
      "outputs": [
        {
          "output_type": "execute_result",
          "data": {
            "text/plain": [
              "Text(0.5, 1.0, 'X en funcion del Tiempo')"
            ]
          },
          "metadata": {
            "tags": []
          },
          "execution_count": 4
        },
        {
          "output_type": "display_data",
          "data": {
            "image/png": "[encoded data removed]",
            "text/plain": [
              "<Figure size 432x288 with 1 Axes>"
            ]
          },
          "metadata": {
            "tags": [],
            "needs_background": "light"
          }
        }
      ]
    },
    {
      "cell_type": "code",
      "metadata": {
        "colab": {
          "base_uri": "https://localhost:8080/",
          "height": 299
        },
        "id": "-KJ-Vjb5d1Tq",
        "outputId": "39fd6072-1040-4974-9123-ea79be2660e7"
      },
      "source": [
        "#4.B\n",
        "plt.plot(df[\"Tiempo\"],df[\"Y\"])\n",
        "plt.title(\"Y en funcion del Tiempo\")"
      ],
      "execution_count": null,
      "outputs": [
        {
          "output_type": "execute_result",
          "data": {
            "text/plain": [
              "Text(0.5, 1.0, 'Y en funcion del Tiempo')"
            ]
          },
          "metadata": {
            "tags": []
          },
          "execution_count": 5
        },
        {
          "output_type": "display_data",
          "data": {
            "image/png": "[encoded data removed]",
            "text/plain": [
              "<Figure size 432x288 with 1 Axes>"
            ]
          },
          "metadata": {
            "tags": [],
            "needs_background": "light"
          }
        }
      ]
    },
    {
      "cell_type": "code",
      "metadata": {
        "colab": {
          "base_uri": "https://localhost:8080/",
          "height": 281
        },
        "id": "uuP6IWbRd4_a",
        "outputId": "748c2a5e-1b6a-48da-ed8b-eb1ba3e82ec7"
      },
      "source": [
        "# 4.C\n",
        "plt.plot(df[\"X\"],df[\"Y\"])\n",
        "plt.title(\"Y VS X\")\n",
        "plt.grid()"
      ],
      "execution_count": null,
      "outputs": [
        {
          "output_type": "display_data",
          "data": {
            "image/png": "[encoded data removed]",
            "text/plain": [
              "<Figure size 432x288 with 1 Axes>"
            ]
          },
          "metadata": {
            "tags": [],
            "needs_background": "light"
          }
        }
      ]
    },
    {
      "cell_type": "markdown",
      "metadata": {
        "id": "Ti8s2Ty8XSvC"
      },
      "source": [
        "Con la ecuacion de y igualada a 0\n",
        "\\begin{equation}\n",
        "0= \\frac{1}{b}\\left(\\frac{g}{b}+v_0 \\sin \\theta_0 -u\\sin\\alpha \\right)(1-e^{-bt})-\\left( \\frac{g}{b}-u\\sin\\alpha\\right)\n",
        "\\end{equation}\n",
        "\\begin{equation}\n",
        "(\\frac{g}{b}-u\\sin\\alpha)t = (\\frac{1}{b}\\left(\\frac{g}{b}+v_0 \\sin \\theta_0 -u\\sin\\alpha \\right)(1-e^{-bt}))\n",
        "\\end{equation}\n",
        "\n",
        "\\begin{equation}\n",
        "(\\frac{g}{b}-u\\sin\\alpha)t = \\left(\\frac{g}{b}+v_0 \\sin \\theta_0 -u\\sin\\alpha \\right)(\\frac{1}{b}-\\frac{1}{b}e^{-bt})\n",
        "\\end{equation}\n",
        "\n",
        "\\begin{equation}\n",
        "(\\frac{g}{b}-u\\sin\\alpha)t = \\frac{1}{b}\\left(\\frac{g}{b}+v_0 \\sin \\theta_0 -u\\sin\\alpha \\right)- \\left(\\frac{g}{b}+v_0 \\sin \\theta_0 -u\\sin\\alpha \\right)\\frac{1}{b}e^{-bt}\n",
        "\\end{equation}\n",
        "\n",
        "\\begin{equation}\n",
        "(\\frac{g}{b}-u\\sin\\alpha)t - \\frac{1}{b}\\left(\\frac{g}{b}+v_0 \\sin \\theta_0 -u\\sin\\alpha \\right)= - \\left(\\frac{g}{b}+v_0 \\sin \\theta_0 -u\\sin\\alpha \\right)\\frac{1}{b}e^{-bt}\n",
        "\\end{equation}\n",
        "\n",
        "\\begin{equation}\n",
        "\\frac{(\\frac{g}{b}-u\\sin\\alpha)}{ -\\left(\\frac{1}{b}(\\frac{g}{b}+v_0 \\sin \\theta_0 -u\\sin\\alpha \\right))}t +1=\n",
        "e^{-bt}\n",
        "\\end{equation}\n",
        "\n",
        "\\begin{equation}\n",
        "-b\\frac{(\\frac{g}{b}-u\\sin\\alpha)}{ \\left(\\frac{g}{b}+v_0 \\sin \\theta_0- u\\sin\\alpha \\right)}t +1=\n",
        "e^{-bt}\n",
        "\\end{equation}\n",
        "\n"
      ]
    },
    {
      "cell_type": "markdown",
      "metadata": {
        "id": "kupTh48_gtLi"
      },
      "source": [
        "Usando la funcion W de lambert donde $y = xe^{x}$ entonces $x = W(y)$\n",
        "\n",
        "Con la ecuacion \n",
        "\\begin{equation}\n",
        "p^{ax+b}=cx+d\n",
        "\\end{equation}\n",
        "\n",
        "Siendo $p >0$ y $c,d\\neq 0$ . La solucion de la ecuacion es:\n",
        "\\begin{equation}\n",
        "x=-{\\frac {W(-{\\frac {a\\ln p}{c}}\\,p^{b-{\\frac {ad}{c}}})}{a\\ln p}}-{\\frac {d}{c}}\n",
        "\\end{equation}"
      ]
    },
    {
      "cell_type": "markdown",
      "metadata": {
        "id": "EnjSQ1X8jCCY"
      },
      "source": [
        "Sea:\n",
        "\n",
        "$p = e$\n",
        "\n",
        "$a = -b $\n",
        "\n",
        "$b = 0$\n",
        "\n",
        "$c = -b\\frac{(\\frac{g}{b}-u\\sin\\alpha)}{(\\frac{g}{b}+v_0 \\sin \\theta_0 -u\\sin\\alpha )}$\n",
        "\n",
        "$d = 1$"
      ]
    },
    {
      "cell_type": "markdown",
      "metadata": {
        "id": "vw0rDTqKkb8t"
      },
      "source": [
        "\\begin{equation}\n",
        "x=-{\\frac {W_0(-{\\frac {a\\ln p}{c}}\\,p^{b-{\\frac {ad}{c}}})}{a\\ln p}}-{\\frac {d}{c}}\n",
        "\\end{equation}\n",
        "\n",
        "\n",
        "\n",
        "Se remplaza con los valores\n",
        "\n",
        "\n",
        "\n",
        "\n",
        "\\begin{equation}\n",
        "t = \\frac{-W_0(-(-b)\\frac{\\ln{e}}{-b\\frac{(\\frac{g}{b}-u\\sin\\alpha)}{(\\frac{g}{b}+v_0 \\sin \\theta_0 -u\\sin\\alpha )}}*e^{-\\frac{(-b)(1)}{-b\\frac{(\\frac{g}{b}-u\\sin\\alpha)}{(\\frac{g}{b}+v_0 \\sin \\theta_0 -u\\sin\\alpha )}}})}\n",
        "{-b*\\ln{e}}-\\frac{1}{-b\\frac{(\\frac{g}{b}-u\\sin\\alpha)}{(\\frac{g}{b}+v_0 \\sin \\theta_0 -u\\sin\\alpha )}}\n",
        "\\end{equation}\n",
        "\n",
        "\\begin{equation}\n",
        "t = \\frac{W_0(-\\frac{(\\frac{g}{b}+v_0 \\sin \\theta_0 -u\\sin\\alpha )}{(\\frac{g}{b}-u\\sin\\alpha){}}*e^{-\\frac{(\\frac{g}{b}+v_0 \\sin \\theta_0 -u\\sin\\alpha )}{(\\frac{g}{b}-u\\sin\\alpha)}})}\n",
        "{b}+\\frac{(\\frac{g}{b}+v_0 \\sin \\theta_0 -u\\sin\\alpha )}{b(\\frac{g}{b}-u\\sin\\alpha)}\n",
        "\\end{equation}\n",
        "\n",
        "La ecuacion del tiempo total del vuelo viene dada por\n",
        "\n",
        "\\begin{equation}\n",
        "t_{total} = \\frac{W_0(-(1+\\frac{v_0 \\sin \\theta_0 }{\\frac{g}{b}-u\\sin\\alpha})*e^{-(1+\\frac{v_0 \\sin \\theta_0}{\\frac{g}{b}-u\\sin\\alpha})})}\n",
        "{b}+\\frac{(1+\\frac{v_0 \\sin \\theta_0}{\\frac{g}{b}-u\\sin\\alpha})}{b}\n",
        "\\end{equation}"
      ]
    },
    {
      "cell_type": "code",
      "metadata": {
        "colab": {
          "base_uri": "https://localhost:8080/",
          "height": 301
        },
        "id": "YToWzgqvs0QE",
        "outputId": "833e8afb-0db8-4ef0-eaee-9107a8db5f4b"
      },
      "source": [
        "def time_final(v0,theta,alpha,g,b,u):  # Funcion que halla el tiempo final \n",
        "                                      # Dados los parametros iniciales\n",
        "  used = 1+(v0*np.sin(theta))/((g/b)-u*np.sin(alpha))\n",
        "  first = (sc.special.lambertw(-used*np.exp(-used)))\n",
        "  second = (used)\n",
        "  return np.real(first+second)/b\n",
        "\n",
        "times = []\n",
        "thetas = np.arange(0,91,5)\n",
        "# Creacion de lista con el punto final de x dependiendo del angulo\n",
        "# 5\n",
        "# A partir del tiempo final, se halla la posicion final de x\n",
        "for i in thetas:\n",
        "  times.append(time_final(v0,np.deg2rad(i),alpha,g,b,u))\n",
        "x_ =  pos_x(np.array(times), np.deg2rad(thetas),np.pi,60,0.05,30,9.8) \n",
        "# 6\n",
        "#Grafico de x respecto a theta\n",
        "plt.plot(thetas,x_,\"ko\")\n",
        "plt.ylabel(\"Posicion x\")\n",
        "plt.xlabel(r\"angle($\\theta$)\")  "
      ],
      "execution_count": 36,
      "outputs": [
        {
          "output_type": "execute_result",
          "data": {
            "text/plain": [
              "Text(0.5, 0, 'angle($\\\\theta$)')"
            ]
          },
          "metadata": {
            "tags": []
          },
          "execution_count": 36
        },
        {
          "output_type": "display_data",
          "data": {
            "image/png": "[encoded data removed]",
            "text/plain": [
              "<Figure size 432x288 with 1 Axes>"
            ]
          },
          "metadata": {
            "tags": [],
            "needs_background": "light"
          }
        }
      ]
    },
    {
      "cell_type": "code",
      "metadata": {
        "colab": {
          "base_uri": "https://localhost:8080/",
          "height": 317
        },
        "id": "fSNhtG570ji0",
        "outputId": "2c51a5e4-bc8d-4084-c669-86902012ba67"
      },
      "source": [
        "# 7\n",
        "f=sc.interpolate.interp1d(thetas,x_) # Interpolacion a partir del df1\n",
        "plt.grid()\n",
        "plt.plot(thetas, x_, \"ko\")\n",
        "plt.plot(thetas,x_,\"r-\")\n",
        "plt.title(\"Interpolacion \")\n",
        "plt.ylabel(\"Posicion x\")\n",
        "plt.xlabel(r\"angle($\\theta$)\")  "
      ],
      "execution_count": 37,
      "outputs": [
        {
          "output_type": "execute_result",
          "data": {
            "text/plain": [
              "Text(0.5, 0, 'angle($\\\\theta$)')"
            ]
          },
          "metadata": {
            "tags": []
          },
          "execution_count": 37
        },
        {
          "output_type": "display_data",
          "data": {
            "image/png": "[encoded data removed]",
            "text/plain": [
              "<Figure size 432x288 with 1 Axes>"
            ]
          },
          "metadata": {
            "tags": [],
            "needs_background": "light"
          }
        }
      ]
    }
  ]
}