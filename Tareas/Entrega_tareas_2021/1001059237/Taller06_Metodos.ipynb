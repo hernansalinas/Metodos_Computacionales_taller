{
  "nbformat": 4,
  "nbformat_minor": 0,
  "metadata": {
    "colab": {
      "name": "Taller06_Metodos.ipynb",
      "provenance": [],
      "collapsed_sections": []
    },
    "kernelspec": {
      "name": "python3",
      "display_name": "Python 3"
    }
  },
  "cells": [
    {
      "cell_type": "code",
      "metadata": {
        "id": "P2nPTRL6kOKi"
      },
      "source": [
        " import numpy as np\n",
        "import sympy as sp\n",
        "import scipy as sc\n",
        "import pandas as pd\n",
        "from scipy.misc import derivative\n",
        "from sympy import init_printing\n",
        "import matplotlib.pylab as plt\n",
        "init_printing() "
      ],
      "execution_count": 2,
      "outputs": []
    },
    {
      "cell_type": "markdown",
      "metadata": {
        "id": "pBgX4KV08EEw"
      },
      "source": [
        "# Tarea Derivada\n",
        "\n",
        "Los siguientes datos, son datos experimentales de un péndulo simple tomadas a través de una cámara web y procesados con el programa kinovea. Dados los datos en formato csv, se pide  construir un programa que realice lo siguiente: \n",
        "\n",
        "1. Leer el archivo csv a través de un Data Frame de Pandas, las columnas del data frame deberan ser:\n",
        "\n",
        "col=[\"Tiempo[ms]\", \"AnguloDeg\", \"AnguloRad\"]\n",
        "\n",
        "2. Construya una grafica de :\n",
        "plt.plot(df['Tiempo[ms]'], df['AnguloDeg'],\"b-\")\n",
        "\n",
        "¿Qué puede concluir respecto al movimiento del pendulo?\n",
        "\n",
        "\n",
        "3. Calculo la transformada de fourier de los datos obtenidos, para encontrar la frecuencia de oscilacion del sistema, para ello realice lo siguiente:\n",
        "\n",
        "- importe la librerias de scipy fft, fftfreq.\n",
        "- Aplique la transformada de fourier como sigue:\n",
        "\n",
        "```\n",
        "tf = fft(df['AnguloRad'].values)\n",
        "T = 33E-3 #Paso del tiempo\n",
        "N = len(df['Tiempo[ms]'])\n",
        "xf = fftfreq(N, T)[:N//2]\n",
        "\n",
        "plt.plot(xf[1:N//2], np.abs(tf[1:N//2]),\"o-\")\n",
        "plt.ylabel(\"TF\")\n",
        "plt.xlabel(\"Frecuencia\")\n",
        "plt.xlim(0, 2)\n",
        "\n",
        "```\n",
        "\n",
        "-  Para las valores en el eje x y eje y de la anterior gráfica, realice una interpolación. \n",
        "\n",
        "- Encuentra el valor máximo empleando metodos de diferenciación.\n",
        "\n",
        "\n",
        "\n",
        "\n",
        "\n"
      ]
    },
    {
      "cell_type": "code",
      "metadata": {
        "id": "YL3BB1w78f3r"
      },
      "source": [
        "import pandas as pd"
      ],
      "execution_count": 3,
      "outputs": []
    },
    {
      "cell_type": "code",
      "metadata": {
        "id": "TeqNmFGqG3TW"
      },
      "source": [
        "route = \"https://docs.google.com/spreadsheets/d/e/2PACX-1vT8btHZ-A6ChzV5Rx_CQmCzbhO10J7R6LvQAyHx9qOCoCDAL9RJgaGUATf2z5lTMo-SjByvrnaX02Cz/pub?output=csv\"\n",
        "df = pd.read_csv(route,\";\")"
      ],
      "execution_count": 4,
      "outputs": []
    },
    {
      "cell_type": "code",
      "metadata": {
        "id": "e1WzA7aPHFH7"
      },
      "source": [
        "col = [\"Tiempo[ms]\", \"AnguloDeg\", \"AnguloRad\"]\n",
        "#1. Como hacer un rename \n",
        "# https://pandas.pydata.org/pandas-docs/stable/reference/api/pandas.DataFrame.rename.html\n",
        "\n",
        "#2. Como pasar los valores del angulo que son tipo string a float "
      ],
      "execution_count": 5,
      "outputs": []
    },
    {
      "cell_type": "code",
      "metadata": {
        "colab": {
          "base_uri": "https://localhost:8080/",
          "height": 424
        },
        "id": "tb4CwYCEUifF",
        "outputId": "f3439edd-40ba-4e2b-a8a3-9f2819cd2ed2"
      },
      "source": [
        "df = df.rename(columns = {'Tiempo (ms)':\"Tiempo[ms]\", 'Ángulo 1,':'AnguloDeg'})\n",
        "df"
      ],
      "execution_count": 6,
      "outputs": [
        {
          "output_type": "execute_result",
          "data": {
            "text/html": [
              "<div>\n",
              "<style scoped>\n",
              "    .dataframe tbody tr th:only-of-type {\n",
              "        vertical-align: middle;\n",
              "    }\n",
              "\n",
              "    .dataframe tbody tr th {\n",
              "        vertical-align: top;\n",
              "    }\n",
              "\n",
              "    .dataframe thead th {\n",
              "        text-align: right;\n",
              "    }\n",
              "</style>\n",
              "<table border=\"1\" class=\"dataframe\">\n",
              "  <thead>\n",
              "    <tr style=\"text-align: right;\">\n",
              "      <th></th>\n",
              "      <th>Tiempo[ms]</th>\n",
              "      <th>AnguloDeg</th>\n",
              "    </tr>\n",
              "  </thead>\n",
              "  <tbody>\n",
              "    <tr>\n",
              "      <th>0</th>\n",
              "      <td>9</td>\n",
              "      <td>59,289611816406</td>\n",
              "    </tr>\n",
              "    <tr>\n",
              "      <th>1</th>\n",
              "      <td>42</td>\n",
              "      <td>59,9823265075684</td>\n",
              "    </tr>\n",
              "    <tr>\n",
              "      <th>2</th>\n",
              "      <td>75</td>\n",
              "      <td>61,2374534606934</td>\n",
              "    </tr>\n",
              "    <tr>\n",
              "      <th>3</th>\n",
              "      <td>108</td>\n",
              "      <td>63,49247741699</td>\n",
              "    </tr>\n",
              "    <tr>\n",
              "      <th>4</th>\n",
              "      <td>142</td>\n",
              "      <td>65,3887710571289</td>\n",
              "    </tr>\n",
              "    <tr>\n",
              "      <th>...</th>\n",
              "      <td>...</td>\n",
              "      <td>...</td>\n",
              "    </tr>\n",
              "    <tr>\n",
              "      <th>2842</th>\n",
              "      <td>94709</td>\n",
              "      <td>94,9375762939453</td>\n",
              "    </tr>\n",
              "    <tr>\n",
              "      <th>2843</th>\n",
              "      <td>94743</td>\n",
              "      <td>96,479850769043</td>\n",
              "    </tr>\n",
              "    <tr>\n",
              "      <th>2844</th>\n",
              "      <td>94776</td>\n",
              "      <td>97,9406890869141</td>\n",
              "    </tr>\n",
              "    <tr>\n",
              "      <th>2845</th>\n",
              "      <td>94809</td>\n",
              "      <td>99,3180923461914</td>\n",
              "    </tr>\n",
              "    <tr>\n",
              "      <th>2846</th>\n",
              "      <td>94843</td>\n",
              "      <td>100,637817382813</td>\n",
              "    </tr>\n",
              "  </tbody>\n",
              "</table>\n",
              "<p>2847 rows × 2 columns</p>\n",
              "</div>"
            ],
            "text/plain": [
              "      Tiempo[ms]         AnguloDeg\n",
              "0              9   59,289611816406\n",
              "1             42  59,9823265075684\n",
              "2             75  61,2374534606934\n",
              "3            108    63,49247741699\n",
              "4            142  65,3887710571289\n",
              "...          ...               ...\n",
              "2842       94709  94,9375762939453\n",
              "2843       94743   96,479850769043\n",
              "2844       94776  97,9406890869141\n",
              "2845       94809  99,3180923461914\n",
              "2846       94843  100,637817382813\n",
              "\n",
              "[2847 rows x 2 columns]"
            ]
          },
          "metadata": {},
          "execution_count": 6
        }
      ]
    },
    {
      "cell_type": "code",
      "metadata": {
        "id": "-47fs6x8JKtJ"
      },
      "source": [
        "df[\"AnguloDeg\"] = df[\"AnguloDeg\"].apply(lambda x:x.replace(\",\",\".\")).astype(float)"
      ],
      "execution_count": 7,
      "outputs": []
    },
    {
      "cell_type": "code",
      "metadata": {
        "id": "tVfn_E8nLRRN"
      },
      "source": [
        "df[\"AnguloRad\"] = np.deg2rad(df[\"AnguloDeg\"])-np.pi"
      ],
      "execution_count": 8,
      "outputs": []
    },
    {
      "cell_type": "code",
      "metadata": {
        "id": "p9F3PLJALfxh",
        "colab": {
          "base_uri": "https://localhost:8080/",
          "height": 285
        },
        "outputId": "0a632884-350d-46bb-da24-6bce0cbb7c07"
      },
      "source": [
        "plt.figure()\n",
        "plt.plot(df[\"Tiempo[ms]\"], df[\"AnguloDeg\"], \"b-\")\n",
        "plt.xlim(0, 30000 )"
      ],
      "execution_count": 9,
      "outputs": [
        {
          "output_type": "execute_result",
          "data": {
            "image/png": "[encoded data removed]",
            "text/latex": "$\\displaystyle \\left( 0.0, \\  30000.0\\right)$",
            "text/plain": [
              "(0.0, 30000.0)"
            ]
          },
          "metadata": {},
          "execution_count": 9
        },
        {
          "output_type": "display_data",
          "data": {
            "image/png": "[encoded data removed]",
            "text/plain": [
              "<Figure size 432x288 with 1 Axes>"
            ]
          },
          "metadata": {
            "needs_background": "light"
          }
        }
      ]
    },
    {
      "cell_type": "markdown",
      "metadata": {
        "id": "eXHgjAySNyNX"
      },
      "source": [
        "### Como vemos en la grafica, el movimiento del pendulo es amortiguado"
      ]
    },
    {
      "cell_type": "code",
      "metadata": {
        "id": "3Zlw0fsFNo3n"
      },
      "source": [
        "from scipy.fft import fft, fftfreq"
      ],
      "execution_count": 10,
      "outputs": []
    },
    {
      "cell_type": "code",
      "metadata": {
        "id": "wLgV5RziLn8o",
        "colab": {
          "base_uri": "https://localhost:8080/",
          "height": 279
        },
        "outputId": "7f23d80e-7320-4a05-a2b4-ceb602b19c78"
      },
      "source": [
        "tf = fft(df['AnguloRad'].values)\n",
        "T = 33E-3 #Paso del tiempo\n",
        "N = len(df['Tiempo[ms]'])\n",
        "xf = fftfreq(N, T)[:N//2]\n",
        "x_fourier = xf[1:N//2]\n",
        "y_fourier = np.abs(tf[1:N//2])\n",
        "plt.plot(x_fourier, y_fourier,\"o\",markersize=3)\n",
        "plt.ylabel(\"TF\")\n",
        "plt.xlabel(\"Frecuencia\")\n",
        "plt.xlim(0, 2)\n",
        "plt.grid()"
      ],
      "execution_count": 11,
      "outputs": [
        {
          "output_type": "display_data",
          "data": {
            "image/png": "[encoded data removed]",
            "text/plain": [
              "<Figure size 432x288 with 1 Axes>"
            ]
          },
          "metadata": {
            "needs_background": "light"
          }
        }
      ]
    },
    {
      "cell_type": "code",
      "metadata": {
        "id": "JaAjQOvcOC-6"
      },
      "source": [
        "from scipy import interpolate, optimize\n",
        "import scipy as sc\n",
        "import numpy\n",
        "interpolation = interpolate.CubicSpline(x_fourier,y_fourier)"
      ],
      "execution_count": 12,
      "outputs": []
    },
    {
      "cell_type": "code",
      "metadata": {
        "id": "wWMmIjR5SIGN",
        "colab": {
          "base_uri": "https://localhost:8080/",
          "height": 265
        },
        "outputId": "c0c92de3-5380-489d-a82d-e5f8b76f7bad"
      },
      "source": [
        "plt.plot(x_fourier, y_fourier,\"r.\")\n",
        "plt.plot(x_fourier, interpolation(x_fourier),\"b\" ) \n",
        "plt.xlim(0.25, 1)\n",
        "plt.grid()"
      ],
      "execution_count": 13,
      "outputs": [
        {
          "output_type": "display_data",
          "data": {
            "image/png": "[encoded data removed]",
            "text/plain": [
              "<Figure size 432x288 with 1 Axes>"
            ]
          },
          "metadata": {
            "needs_background": "light"
          }
        }
      ]
    },
    {
      "cell_type": "markdown",
      "metadata": {
        "id": "_vE4vkUqSh_P"
      },
      "source": [
        "#El valor obtenido por el modulo scipy"
      ]
    },
    {
      "cell_type": "code",
      "metadata": {
        "id": "o0xqzvEySlAI",
        "colab": {
          "base_uri": "https://localhost:8080/"
        },
        "outputId": "efe50b7a-2ca8-48ce-811d-4409a6a2a3c0"
      },
      "source": [
        "minus_interpolation = interpolate.CubicSpline(x_fourier, -y_fourier)\n",
        "min_x= optimize.fmin_powell(minus_interpolation, 0.2)"
      ],
      "execution_count": 14,
      "outputs": [
        {
          "output_type": "stream",
          "name": "stdout",
          "text": [
            "Optimization terminated successfully.\n",
            "         Current function value: -417.867925\n",
            "         Iterations: 2\n",
            "         Function evaluations: 44\n"
          ]
        }
      ]
    },
    {
      "cell_type": "code",
      "metadata": {
        "id": "JSp45yTmS-Wb",
        "colab": {
          "base_uri": "https://localhost:8080/",
          "height": 37
        },
        "outputId": "0785fe86-16a2-43f5-ba10-0f9390109d6a"
      },
      "source": [
        "abs(minus_interpolation(min_x))"
      ],
      "execution_count": 15,
      "outputs": [
        {
          "output_type": "execute_result",
          "data": {
            "image/png": "[encoded data removed]",
            "text/latex": "$\\displaystyle 417.867924631318$",
            "text/plain": [
              "417.86792463131843"
            ]
          },
          "metadata": {},
          "execution_count": 15
        }
      ]
    },
    {
      "cell_type": "code",
      "metadata": {
        "colab": {
          "base_uri": "https://localhost:8080/"
        },
        "id": "mzlcTmt_mp7M",
        "outputId": "129907b9-0710-4015-ab0a-d7dd233778cd"
      },
      "source": [
        "derivada = np.vectorize(sc.misc.derivative ) \n",
        "derivada_ = derivada( interpolation, min_x, dx=0.000001 ) \n",
        "print(\"Con la derivada hallamos que el valor {}, es un punto maximo\".format(min_x))"
      ],
      "execution_count": 19,
      "outputs": [
        {
          "output_type": "stream",
          "name": "stdout",
          "text": [
            "Con la derivada hallamos que el valor 0.6715600030592099, es un punto maximo\n"
          ]
        }
      ]
    }
  ]
}