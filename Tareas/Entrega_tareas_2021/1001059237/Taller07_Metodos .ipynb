{
  "nbformat": 4,
  "nbformat_minor": 0,
  "metadata": {
    "colab": {
      "name": "Taller07_Metodos.ipynb",
      "provenance": [],
      "collapsed_sections": [
        "xPvs6gkK804Z",
        "32SdInxjf9dq",
        "21vSNhaDjQeV"
      ]
    },
    "kernelspec": {
      "name": "python3",
      "display_name": "Python 3"
    },
    "language_info": {
      "name": "python"
    }
  },
  "cells": [
    {
      "cell_type": "code",
      "metadata": {
        "id": "DqtcystATKp6"
      },
      "source": [
        "import numpy as np\n",
        "import math as mt\n",
        "import pandas as pd \n",
        "import matplotlib.pyplot as plt\n",
        "import scipy.integrate as integrate\n",
        "from decimal import Decimal\n",
        "from scipy import misc,special\n",
        "import random as rd\n",
        "import warnings\n",
        "import sympy as sl"
      ],
      "execution_count": null,
      "outputs": []
    },
    {
      "cell_type": "markdown",
      "metadata": {
        "id": "H70KA1rleaeh"
      },
      "source": [
        "PREPARACION PARA EL 2 PARCIAL DE METODOS"
      ]
    },
    {
      "cell_type": "markdown",
      "metadata": {
        "id": "pmc-WGHqpy0R"
      },
      "source": [
        "1. Derivadas.\n",
        "En el metodo Smoothed-particle hydrodynamics (SPH) se emplean diferentes kernel de aproximación para calcular las propiedades de un fluído en cada punto del espacio. Uno de ellos es el Kernel de Lucy detallado a continuación:\n",
        "\n",
        "Lucy's Quartic Kernel\n",
        "$$\n",
        "W(R, h)= \\alpha_D \\left\\{\n",
        "  \\begin{matrix} \\left(1+3q)(1- q)^3\\right) &  0\\leq q \\leq h  \\\\ \n",
        "  0 & in\\ the\\ other\\ case.\n",
        "  \\end{matrix}\n",
        "\\right.\n",
        "$$\n",
        "donde,\n",
        "\n",
        "$$\n",
        "q=\\frac{|(\\vec{r}-\\vec{r}')|}{h}\n",
        "$$\n",
        "y $\\alpha_D$ es la constante de normalización:\n",
        "\n",
        "en 2 dimensiones, viene dada por:$$\n",
        "\\alpha_D = \\frac{5}{\\pi h^2}\n",
        "$$\n",
        "\n",
        "en 3 dimensiones, viene dada por:$$\n",
        "\\alpha_D = \\frac{105}{16\\pi h^3}\n",
        "$$\n",
        "\n",
        "Para el kernel de Lucy en 2D encontrar su derivada a través de los siguientes pasos:\n",
        "\n",
        "1. Realizar un gráfico del kernel de Lucy. \\\\\n",
        "2. Encontrar la derivada empleanda la libreria simbolica \\\\\n",
        "3. Realizar un grafico de los cálculos encontrados con la libreria simbólica y comparar con la derivada numérica de los datos del punto 1. \\\\\n",
        "\n",
        "Recuerde siempre comparar sus resultados con sus cálculos realizados en papel y lapiz.\n",
        "\n",
        "Opcional.\n",
        "\n",
        "Resolver el problema en 3D"
      ]
    },
    {
      "cell_type": "code",
      "metadata": {
        "id": "HdUnYRozrF5L",
        "colab": {
          "base_uri": "https://localhost:8080/"
        },
        "outputId": "16aec5d7-92b5-479d-c45e-ddb29c0209d7"
      },
      "source": [
        "#Referenecias:\n",
        "#https://ephyslab.uvigo.es/wp-content/uploads/2019/04/1_ACT_Anxo_2012_OK.pdf\n",
        "#https://ephyslab.uvigo.es/wp-content/uploads/2019/04/TFG_Sara_Ferreiro.pdf\n",
        "#Usar sympy \n",
        "#r vector de posicion\n",
        "# W funcion de peso o kernel  W_ab=W(r_a-r_b,h)\n",
        "# h es la distancia de interacción llamada distancia de suavizado que controla el dominio de Ω\n",
        "# R = r - r´, claro esta con la flecha arriba de vectores\n",
        "\n",
        "def vectores(n, h): # Crear los puntos aleatoriamente, y por tanto, los vectores aleatoriamente\n",
        "  lista_vectores = [[h, h]] # usamos el centro como referencia, para restar los vectores\n",
        "  for i in range(n):\n",
        "    r = np.array([rd.randint(0, 2*h),rd.randint(0, 2*h)]) # creamos un vector aleatoriamente\n",
        "    lista_vectores.append(r)\n",
        "  return np.array(lista_vectores) # devolvemos un array con todos los vectores creados\n",
        "\n",
        "def q(x): # recibimos todos los vectores, y creamos a q, por definicion\n",
        "  lista_q = []\n",
        "  for i in range(1, len(x)):\n",
        "    q = (np.linalg.norm(x[0] - x[i])) / h # con p.linalg.norm hacemos la maginutd de un vector \n",
        "    lista_q.append(q)\n",
        "  return np.array(lista_q) # devolvemos un array con todos los valores de q obtenidos \n",
        "\n",
        "def w(x, h): # La funcion W(R,h)\n",
        "  lista_w = []\n",
        "  for i in range(len(x)):\n",
        "    if (0 <= x[i]) and (x[i] <= 1): # filtro para ver que q si cumpla laas condiciones\n",
        "      z = (1 + (3 * x[i])) * (1 - (x[i]))**3\n",
        "      lista_w.append(z)\n",
        "    else:\n",
        "      z = 0\n",
        "      lista_w.append(z)\n",
        "  return np.array(lista_w) # devolvemos un arraray con todos los valores de la funcion W(q)\n",
        "\n",
        "def f(x):\n",
        "  return (1 + (3 * x)) * (1 - x)**3 # la funcion W, para derivar  \n",
        "\n",
        "#Vamos a generar un radio de 2h con h = 30\n",
        "h = 30 # radio donde deben estar las particulas\n",
        "n = 1000 # numero de vectores que se generaran aleatoriamente\n",
        "alpha_2d = (5) / (np.pi * (h)**2 ) # constante normalizadora que vale 0.015915494309189534\n",
        "\n",
        "vectores_r = vectores(n, h) # es una matriz, cada fila es un vector, estos vectores son aleatorios \n",
        "los_q = q(vectores_r) # array con los valores de q \n",
        "los_w = w(los_q, h) #array con los valores de la funcion W(q)\n",
        "\n",
        "#Derivada hecha con scipy, es el mismo resultado que con scipy\n",
        "derivar = np.vectorize(misc.derivative) # vectorizamos la funcion derivar\n",
        "derivada = derivar(f, los_q, dx = 1e-6) # derivada es la funcion W´(q)\n",
        "\n",
        "#Derivada hecha con sympy, es el mismo resultado que con scipy \n",
        "m = sl.Symbol('m') # creamos la variable m \n",
        "mostrar = diff((1 + (3 * m)) * (1 - m)**3) # \n",
        "dm = sl.lambdify(m, mostrar, \"numpy\") #la funcion -12*(-1 + m)**2*m, es la funcion f derivada a mano \n",
        "print(mostrar)"
      ],
      "execution_count": null,
      "outputs": [
        {
          "output_type": "stream",
          "name": "stdout",
          "text": [
            "3*(1 - m)**3 - 3*(1 - m)**2*(3*m + 1)\n"
          ]
        }
      ]
    },
    {
      "cell_type": "code",
      "metadata": {
        "colab": {
          "base_uri": "https://localhost:8080/",
          "height": 374
        },
        "id": "qkEp4bb1bJYV",
        "outputId": "d6cc43f6-f5f6-4cc3-88f5-fa782bb1840e"
      },
      "source": [
        "plt.figure(figsize=(7,5))\n",
        "plt.plot(los_q, w(los_q, h), \"r.\", label = \"$W(q)$\")\n",
        "plt.plot(los_q, dm(los_q), \"b.\", label = \"$W´(q)$\") #dm(los_q) se puede cambiar por el metodo hecho con scipy, la variable derivada, y funciona igualmente\n",
        "plt.title(r'$\\frac{\\rmd}{\\rm dq}W(q) \\ vs \\ W(q)$', size = 20)\n",
        "plt.xlabel(\"puntos de q\", size = 15)\n",
        "plt.ylabel(r'$W(q) \\ and \\ \\frac{\\rm d}{\\rm dq}W(q) $', size = 15)\n",
        "plt.legend()\n",
        "plt.grid()\n"
      ],
      "execution_count": null,
      "outputs": [
        {
          "output_type": "display_data",
          "data": {
            "image/png": "[encoded data removed]",
            "text/plain": [
              "<Figure size 504x360 with 1 Axes>"
            ]
          },
          "metadata": {
            "needs_background": "light"
          }
        }
      ]
    },
    {
      "cell_type": "code",
      "metadata": {
        "id": "fPhidU5R2_JC"
      },
      "source": [
        "def max_value(f_, a, b): # Funcion utilizada para hallar el valor maximo de una funcion\n",
        "    x = sp.symbols(\"x\") \n",
        "    x_ = np.linspace(a, b, 100)\n",
        "    fk = sp.lambdify(x, f_, 'numpy') #Volver la funcion de Sympy a numpy\n",
        "    fk_x = fk(x_) # Si es solo un valor devuelve el mismo\n",
        "    if isinstance(fk_x,int):\n",
        "      return [0,fk_x]\n",
        "    return max(list(map(abs, fk_x))) # Si es una lista, devuelve el maximo"
      ],
      "execution_count": null,
      "outputs": []
    },
    {
      "cell_type": "code",
      "metadata": {
        "id": "chq9f9qFTlpj"
      },
      "source": [
        "import sympy as sp\n",
        "import scipy as sc"
      ],
      "execution_count": null,
      "outputs": []
    },
    {
      "cell_type": "markdown",
      "metadata": {
        "id": "E56Yd_0fRVNI"
      },
      "source": [
        "#Regla del trapezoide\n",
        "###Sea\n",
        "\\begin{equation}\n",
        "x_0 = a \\\\\n",
        "x_1 = b \\\\\n",
        "h = b-a \n",
        "\\end{equation}\n",
        "###Usando el polinomio de Lagrange de grado 1\n",
        "\\begin{equation}\n",
        "P_1(x)= \\frac{(x-x_1)}{(x_0-x_1)}f(x_0)+\\frac{(x-x_1)}{(x_1-x_0)}f(x_1)\n",
        "\\end{equation}\n",
        "###La integral queda de la forma\n",
        "\\begin{equation}\n",
        "\\int_{a}^{b}f(x) = \\int_{x_0}^{x_1} \\left[ \\frac{(x-x_1)}{(x_0-x_1)}f(x_0)+\\frac{(x-x_0)}{(x_1-x_0)}f(x_1) \\right]dx\\\\\n",
        "+\\frac{1}{2} \\int_{x_0}^{x_1}f''(\\xi(x))(x-x_0)(x-x_1)dx\n",
        "\\end{equation}\n",
        "###siendo el error asociado\n",
        "\\begin{equation}\n",
        "\\frac{1}{2} \\int_{x_0}^{x_1}f''(\\xi(x))(x-x_0)(x-x_1)dx\n",
        "\\end{equation}\n",
        "\n",
        "###Usando el teorema de  valor medio ponderado para integrales \n",
        "###Si $g$ es continua en $[a,b]$ y $g$ no cambia de signo en $[a,b]$ entonces existe un numero $c$ en $(a,b)$ tal que \n",
        "\\begin{equation}\n",
        " \\int_{a}^{b}f(x)g(x)dx=f(c)\\int_{a}^{b}f(g)dx\n",
        "\\end{equation}\n",
        "\n",
        "\n",
        "###Como $(x-x_0)(x-x_1)$ no cambia de signo en el intervalo $[x_0,x_1]$, entonces\n",
        "\\begin{align}\n",
        "\\int_{x_0}^{x_1}f''(\\xi(x))(x-x_0)(x-x_1)dx = &f''(\\xi)\\int_{x_0}^{x_1}(x-x_0)(x-x_1)dx\\\\\n",
        "=&f''(\\xi) \\left[\\frac{x^3}{3}-\\frac{(x_1+x_0)}{2}x^2+x_0x_1x  \\right]_{x_0}^{x_1}\\\\\n",
        "=&-\\frac{h^3}{6}f''(\\xi)\n",
        "\\end{align}\n",
        " \n",
        "###Insertando esto en la ecuacion, y resolviendo la integral\n",
        "\n",
        "\\begin{align}\n",
        "\\int_{a}^{b}f(x) =& \\left[ \\frac{(x-x_1)^2}{2(x_0-x_1)}f(x_0)+\\frac{(x-x_0)^2}{2(x_1-x_0)}f(x_1) \\right]_{x_0}^{x_1}-\\frac{h^3}{12}f''(\\xi)\\\\\n",
        "=&\\frac{(x_1-x_0)}{2}[f(x_0)+f(x_1)]-\\frac{h^3}{12}f''(\\xi)\n",
        "\\end{align}\n",
        "\n",
        "###Finalmente la regla del trapezoide queda definida por \n",
        "\\begin{equation}\n",
        "\\int_{a}^{b}f(x)dx = \\frac{h}{2}[f(x_0)+f(x_1)]-\\frac{h^3}{12}f''(\\xi)\n",
        "\\end{equation}\n",
        "\n",
        "###Importante aclarar que la regla del trapezoide tiene un error asociado de $f''$ por lo que da exacto cuando la segunda derivada de la funcion es cero, como ocurre con los polinomios de grado uno "
      ]
    },
    {
      "cell_type": "code",
      "metadata": {
        "id": "OP5aE0peTMiZ"
      },
      "source": [
        "def trapz(f, a, b): # Funcion para la regla del trapezoide normal\n",
        "  \n",
        "  h = b-a\n",
        "  f_0 = f(a)\n",
        "  f_1 = f(b)\n",
        "  x = sp.symbols(\"x\")\n",
        "  f2 = sp.diff(f(x),x,2)  # Hallar la segunda derivada para calcular el error\n",
        "  val = max_value(f2,a,b) \n",
        "  max_val = val[1] if isinstance(val,list) else val  # El maximo valor de la derivada\n",
        "  integral = (h/2)*(f_0+f_1)-max_value(f2,a,b)*((h**3)/12) # Calculo de la integral\n",
        "  return integral"
      ],
      "execution_count": null,
      "outputs": []
    },
    {
      "cell_type": "markdown",
      "metadata": {
        "id": "xPvs6gkK804Z"
      },
      "source": [
        "#Regla del trapezoide compuesto\n",
        "###Si queremos hallar la integral de $f$ desde $a$ hasta $b$, se pueden realizar sucesivas integrales con el metodo del trapecio para intervalos igualmente espacios con nodos $\\{x_0,x_1,x_2,...,x_n\\}$  siendo $n$ intervalos espaciados por $h = \\frac{(b-a)}{n}$\n",
        "\n",
        "###Para cada par $[x_{j-1},x_j]$ se aplica el metodo del trapecio, con $x_j = a+jh$\n",
        "\n",
        "\\begin{align}\n",
        "\\int_{a}^{b}f(x)dx = &\\left|\\frac{h}{2}[f(x_0)+f(x_1)] -\\frac{h^3}{12}f''(\\xi)\\right|+\\left|\\frac{h}{2}[f(x_1)+f(x_2)] -\\frac{h^3}{12}f''(\\xi)\\right|+ ... +&\\left|\\frac{h}{2}[f(x_{n-1})+f(x_n)]-\\frac{h^3}{12}f''(\\xi)\\right| \\\\\n",
        "=&\\frac{h}{2}\\left| f(a) +\\sum_{j=1}^{n-1}+f(b)\\right|-\\frac{h^3}{12}\\sum_{j=1}^{n}f''(\\xi_j)\n",
        "\\end{align}\n",
        "###El teorema del valor medio implica que\n",
        "\\begin{align}\n",
        "\\min_{x\\in[a,b]}f''(x) \\leq f''(\\xi_j) \\leq \\max_{x\\in[a,b]}f''(x) \\\\\n",
        "n\\min_{x\\in[a,b]}f''(x) \\leq \\sum_{j=i}^{n}f''(\\xi_j) \\leq n\\max_{x\\in[a,b]}f''(x) \\\\\n",
        "\\min_{x\\in[a,b]}f''(x) \\leq \\frac{1}{n}\\sum_{j=i}^{n}f''(\\xi_j) \\leq\\max_{x\\in[a,b]}f''(x)\n",
        "\\end{align}\n",
        "###Por el teorema del valor medio, existe un $u\\in[a,b]$ tal que\n",
        "\\begin{equation}\n",
        "f^{(4)}(\\mu) = \\frac{1}{n}\\sum_{j=i}^{n}f''(\\xi_j) \n",
        "\\end{equation}\n",
        "###Remplazando en la ecuación\n",
        "\\begin{equation}\n",
        "-\\frac{h^3}{12}\\sum_{j=1}^{n}f''(\\xi_j) = -\\frac{h^3}{12}nf^{(4)}(\\mu) \\\\\n",
        "\\text{Como $h =\\frac{b-a}{n}$} \\\\\n",
        "-\\frac{h^3}{12}nf^{(4)}(\\mu) = \\frac{b-a}{12}h^2f''(\\mu)\n",
        "\\end{equation}\n",
        "###La Regla del Trapezoide Compuesta es\n",
        "\\begin{equation}\n",
        "\\int_{a}^{b}f(x)=\\frac{h}{2}\\left[ f(a) +\\sum_{j=1}^{n-1}f(x_j)+f(b)\\right]-\\frac{b-a}{12}h^2f''(\\mu)\n",
        "\\end{equation}\n"
      ]
    },
    {
      "cell_type": "markdown",
      "metadata": {
        "id": "qgTeWmM6NZOf"
      },
      "source": [
        "#Calculo del error en la regla del trapezoide compuesto\n",
        "###El error de la regla esta dado por el valor \n",
        "\\begin{equation}\n",
        "\\frac{b-a}{12}h^2f''(\\mu) < \\epsilon\n",
        "\\end{equation}\n",
        "###Donde $\\epsilon$ es el maximo error que se quiere tener, teniendo en cuenta que $h = \\frac{b-a}{n}$\n",
        "\\begin{equation}\n",
        "\\frac{b-a}{12}h^2f''(\\mu) = \\frac{(b-a)^3}{12n^2}f''(\\mu) < \\epsilon \\\\\n",
        "(b-a)\\sqrt{\\frac{(b-a)}{12\\epsilon}f''(\\mu)} = n \\\\\n",
        "\\end{equation}\n",
        "###Tomando a $f''(\\mu)$ como el maximo valor de $f''(x)$, $x\\in[a,b]$.\n",
        "###El valor $\\lceil n \\rceil$ es el numero de intervalos que se deben usar en la regla del trapezoide compuesto (sin el termino del error), para obtener un valor igual a $\\int_{a}^{b}f(x)$ con un error $\\epsilon$"
      ]
    },
    {
      "cell_type": "code",
      "metadata": {
        "id": "RhQ5Jo4nVrm1"
      },
      "source": [
        "def trapz_c(f,a,b,eps,n=0):\n",
        "\n",
        "  def intervals(f2,a,b,eps):\n",
        "    b_a = b-a  # Definiendo la diferencia de los limites\n",
        "    val = max_value(f2,a,b)\n",
        "    f2_u = val[1] if isinstance(val, list) else val # Valor maximo\n",
        "    n = (b_a)*np.sqrt((b_a*f2_u)/(12*eps)) # Hallando el numero de intervalos \n",
        "    return int(np.ceil(n))\n",
        "  T0= f(a)\n",
        "  T1 = f(b)\n",
        "  x = sp.symbols(\"x\")\n",
        "  f2 = sp.diff(f(x),x,2) \n",
        "  if n==0: # Si no se da una cantidad especifica de intervalos, hallarlos segun \n",
        "            #El error dado\n",
        "    n = intervals(f2, a, b, eps)\n",
        "  h = (b-a)/n\n",
        "  x_ = np.linspace(a,b,n+1)\n",
        "  f = np.vectorize(f)\n",
        "  Tj = sum(f(x_[1:-1])) #Calcular la sumatoria de los x_j \n",
        "  return float((h/2)*(T0+2*Tj+T1)) # Valor de la integral"
      ],
      "execution_count": null,
      "outputs": []
    },
    {
      "cell_type": "markdown",
      "metadata": {
        "id": "HnsOWVJKBSqp"
      },
      "source": [
        "#Regla Simpson\n",
        "###La regla simpson parte de un punto muy similar a la regla del trapecio\n",
        "\\begin{equation}\n",
        "x_0 = a \\\\\n",
        "x_1 = b \\\\\n",
        "h = \\frac{b-a}{2}\n",
        "\\end{equation}\n",
        "###Y se usa el polinomio de Lagrange de grado 2\n",
        "\\begin{equation}\n",
        "P_2(x)= \\frac{(x-x_1)(x-x_2)}{(x_0-x_1)(x_0-x_2)}f(x_0)+\\frac{(x-x_0)(x-x_2)}{(x_1-x_0)(x_1-x_2)}f(x_1)+\\frac{(x-x_0)(x-x_1)}{(x_2-x_0)(x_2-x_1)}f(x_2)\n",
        "\\end{equation}\n",
        "\n",
        "###La integral queda de la forma\n",
        "\\begin{align}\n",
        "\\int_{a}^{b}f(x)dx= &\\int_{x_0}^{x_2}\\left[\\frac{(x-x_1)(x-x_2)}{(x_0-x_1)(x_0-x_2)}f(x_0)+\\frac{(x-x_0)(x-x_2)}{(x_1-x_0)(x_1-x_2)}f(x_1)+\n",
        "\\frac{(x-x_0)(x-x_1)}{(x_2-x_0)(x_2-x_1)}f(x_2)\\right]dx\\\\\n",
        "+&\\int_{x_0}^{x_2}\\frac{(x-x_0)(x-x_1)(x-x_2)}{6}f^{(3)}(\\xi(x))dx\n",
        "\\end{align}\n",
        "###Donde el error asociado es\n",
        "\\begin{equation}\n",
        "\\int_{x_0}^{x_2}\\frac{(x-x_0)(x-x_1)(x-x_2)}{6}f^{(3)}(\\xi(x))dx\n",
        "\\end{equation}\n",
        "###Usando el polinomios de Taylor de grado 3 para $f$ sobre x$_1$\n",
        "\\begin{equation}\n",
        "f(x) = f(x_1)+f'(x_1)(x-x_1)+\\frac{f''(x_1)}{2}(x-x_1)^2+\\frac{f'''(x_1)}{6}(x-x_1)^3+\\frac{f^{(4)}(\\xi(x))}{24}(x-x_1)^4\n",
        "\\end{equation}\n",
        "###De este modo la integral queda\n",
        "\\begin{align}\n",
        "\\int_{a}^{b}f(x)dx= &\\left[f(x_1)(x-x_1)+\\frac{f'(x_1)}{2}(x-x_1)^2+\\frac{f''(x_1)}{6}(x-x_1)^3+\\frac{f'''(x_1)}{24}(x-x_1)^4\\right]_{x_0}^{x_2} \\\\\n",
        "+&\\frac{1}{24}\\int_{x_0}^{x_2}f^{(4)}(\\xi(x))(x-x_1)^4dx\n",
        "\\end{align}\n",
        "###Al igual que en el metodo del trapecio, se usa el teorema del  valor medio ponderado. Como $(x-x_4)^4$ nunca es negativo en $[x_0,x_2]$, el teorema implica que:\n",
        "\\begin{equation}\n",
        "\\frac{1}{24}\\int_{x_0}^{x_2}f^{(4)}(\\xi(x))(x-x_1)^4dx = \\frac{f^{(4)}(\\xi_1)}{24}\\int_{x_0}^{x_2}(x-x_1)^4dx = \\left. \\frac{f^{(4)}(\\xi_1)}{120}(x-x_1)^5\\right|_{x_0}^{x_2}\n",
        "\\end{equation}\n",
        "###Para un numero $\\xi_1$ en $(x_0,x_2)$\n",
        "\n",
        "Como $h = \\frac{(b-a)}{2} = x_2-x_1 = x_1-x_0$\n",
        "\n",
        "$(x_2-x_1)^2-(x_0-x_1)^2 =(x_2-x_1)^k-(x_0-x_1)^k = 0 $ con $k$ impar\n",
        "\n",
        "###Mientras que \n",
        "\n",
        "$(x_2-x_1)^3-(x_0-x_1)^3 = 2h^3$ \n",
        "\n",
        "$(x_2-x_1)^k-(x_0-x_1)^k = 2h^k $  con $k $ impar\n",
        "\n",
        "###Teniendo esta regla en cuenta, la integral queda:\n",
        "\\begin{align}\n",
        "\\int_{a}^{b}f(x)dx=&\\left[f(x_1)(x-x_1)+\\frac{f'(x_1)}{2}(x-x_1)^2+\\frac{f''(x_1)}{6}(x-x_1)^3+\\frac{f'''(x_1)}{24}(x-x_1)^4\\right]_{x_0}^{x_2}+ \\left. \\frac{f^{(4)}(\\xi_1)}{120}(x-x_1)^5\\right|_{x_0}^{x_2}\\\\\n",
        "=&2hf(x_1)+\\frac{h^3}{3}f''(x_1)+\\frac{f^{(4)}(\\xi_1)}{60}h^5\n",
        "\\end{align}\n",
        "\n",
        "###Ahora recordando la formula de la segunda derivada en un punto\n",
        "\\begin{equation}\n",
        "f''(x_0) = \\frac{1}{h^2}[f(x_0-h)-2f(x_0)+f(x_0+h)]- \\frac{h^2}{12}f^{(4)}(\\xi)\n",
        "\\end{equation}\n",
        "\n",
        "###Se remplaza en la ecuacion\n",
        "\\begin{align}\n",
        "\\int_{a}^{b}f(x)dx =& 2hf(x_1)+\\frac{h^3}{3}\\left[\\frac{1}{h^2}[f(x_0)-2f(x_1)+f(x_2)]-\\frac{h^2}{12}f^{(4)}(\\xi_2)\\right]+\\frac{f^{(4)}(\\xi_1)}{60}h^5 \\\\\n",
        "=& \\frac{h}{3}[f(x_0]+4f(x_1)+f(x_2)]-\\frac{h^5}{12} \\left[ \\frac{1}{3}f^{(4)}(\\xi_2)- \\frac{1}{5}f^{(4)}(\\xi_1)\\right] \\\\\n",
        "=& \\frac{h}{3}[f(x_0]+4f(x_1)+f(x_2)]-\\frac{h^5}{90}f^{(4)}(\\xi)\n",
        "\\end{align}\n",
        "\n",
        "###El metodo de Simpson queda finalmente\n",
        "\\begin{equation}\n",
        "\\int_{x_0}^{x_2}f(x)dx = \\frac{h}{3}[f(x_0)+4f(x_1)+f(x_2)]-\\frac{h^5}{90}f^{(4)}(\\xi)\n",
        "\\end{equation}\n",
        "\n",
        "###El error en la regla de Simpson involucra una cuarta derivada, por lo que si la funcion es de grado 3 o menor el resultado sera exacto"
      ]
    },
    {
      "cell_type": "code",
      "metadata": {
        "id": "jlCeh0XUeAxy"
      },
      "source": [
        "def Simpson(f,a,b): # Funcion para la regla de Simpson basica\n",
        "  h = (b-a)/2\n",
        "  f_0 = f(a)\n",
        "  f_1 = f(a+h) \n",
        "  f_2 = f(b)\n",
        "  x = sp.symbols(\"x\")\n",
        "  f4 = sp.diff(f(x), x, 4) # Hallando la cuarta derivada para el calculo del error\n",
        "  val = max_value(f4,a,b) #\n",
        "  max_val = val[1] if isinstance(val, list) else val # Maximo valor utilizado \n",
        "  return (h/3)*(f_0+4*f_1+f_2)-((h**5)/90)*max_val # Calculo de la integral\n"
      ],
      "execution_count": null,
      "outputs": []
    },
    {
      "cell_type": "markdown",
      "metadata": {
        "id": "32SdInxjf9dq"
      },
      "source": [
        "# Regla de Simpson Compuesta\n",
        "###Generalizando la regla de Simpson, se usa divide un intervalo $[a,b]$ en $n$ subintervalos y se aplica la regla de Simpson a cada par de subintervalos consecutivos.\n",
        "\n",
        "###Con $h = \\frac{(b-a)}{n}$ y $x_j = a +jh$ para cada $j = 0,1,2,...,n$ con $n$ un entero par\n",
        "\\begin{align}\n",
        "\\int_{a}^{b}f(x)dx=& \\sum_{j=1}^{n/2}\\int_{x_{2j-2}}^{2j}f(x)dx \\\\\n",
        "=&\\sum_{j=1}^{n/2}\\left\\{\\frac{h}{3}[f(x_{2j-2})+4f(x_{2j-1})+f(x_{2j})]-\\frac{h^5}{90}f^{(4)}(\\xi_j) \\right\\}\n",
        "\\end{align}\n",
        "\\begin{equation}\n",
        "\\text{Viendo que}\n",
        "\\sum_{j=1}^{n/2}f(x_{2j})= \\sum_{j=1}^{(n/2)-1}f(x_{2j})+f(x_n) \\\\\n",
        "\\text{  y  }\n",
        "\\sum_{j=1}^{n/2}f(x_{2j-2}) = f(x_0)+\\sum_{j=2}^{n/2}f(x_{2j-2}) \\text{  Con k = j-1  } \\sum_{j=2}^{n/2}f(x_{2j-2}) = \\sum_{k=1}^{(n/2)-1}f(x_{2k})\n",
        "\\end{equation}\n",
        "###La ecuacion de la integral \n",
        "\\begin{align}\n",
        "\\int_{a}^{b}f(x)dx=& \\sum_{j=1}^{n/2}\\left\\{\\frac{h}{3}[f(x_{2j-2})+4f(x_{2j-1})+f(x_{2j})]-\\frac{h^5}{90}f^{(4)}(\\xi_j) \\right\\} \\\\\n",
        "=&\\frac{h}{3}\\left[f(x_0)+2\\sum_{j=1}^{(n/2)-1}f(x_{2j})+4\\sum_{j=1}^{n/2}f(x_{2j-1})+f(x_{n})\\right]-\\frac{h^5}{90}\\sum_{j=1}^{n/2}f^{(4)}(\\xi_j) \n",
        "\\end{align}\n",
        "### De igual manera que en la regla del trapecio compuesta\n",
        "\\begin{align}\n",
        "\\min_{x\\in[a,b]}f^{(4)}(x) \\leq f^{(4)}(\\xi_j) \\leq \\max_{x\\in[a,b]}f^{(4)}(x) \\\\\n",
        "\\frac{n}{2}\\min_{x\\in[a,b]}f^{(4)}(x) \\leq \\sum_{j=i}^{n/2}f^{(4)}(\\xi_j) \\leq \\frac{n}{2}\\max_{x\\in[a,b]}f^{(4)}(x) \\\\\n",
        "\\min_{x\\in[a,b]}f^{(4)}(x) \\leq \\frac{2}{n}\\sum_{j=i}^{n/2}f^{(4)}(\\xi_j) \\leq \\max_{x\\in[a,b]}f^{(4)}(x)\n",
        "\\end{align}\n",
        "###Por el teorema del valor medio, existe un $u\\in[a,b]$ tal que\n",
        "\\begin{equation}\n",
        "f^{(4)}(\\mu) = \\frac{2}{n}\\sum_{j=i}^{2/n}f^{(4)}(\\xi_j) \n",
        "\\end{equation}\n",
        "### Remplazando en la ecuación\n",
        "\\begin{equation}\n",
        "-\\frac{h^5}{90}\\sum_{j=1}^{n/2}f^{(4)}(\\xi_j) = -\\frac{h^5}{180}nf^{(4)}(\\mu)\n",
        "\\end{equation}\n",
        "### Como $h = \\frac{b-a}{n}$\n",
        "\\begin{equation}\n",
        "-\\frac{h^5}{180}nf^{(4)}(\\mu) = -\\frac{(b-a)}{180}h^4f^{(4)}(\\mu)\n",
        "\\end{equation}\n",
        "### Asi la regla de Simpson Compuesta es\n",
        "\\begin{equation}\n",
        "\\int_{a}^{b}f(x)dx= \\frac{h}{3}\\left[f(x_a)+2\\sum_{j=1}^{(n/2)-1}f(x_{2j})+4\\sum_{j=1}^{n/2}f(x_{2j-1})+f(x_{b})\\right]-\\frac{(b-a)}{180}h^4f^{(4)}(\\mu)\n",
        "\\end{equation}"
      ]
    },
    {
      "cell_type": "markdown",
      "metadata": {
        "id": "ikDuVGeF0WM4"
      },
      "source": [
        "#Calculo del error en la regla de Simpson compuesta\n",
        "### De igual manera que en la regla del trapecio compuesta\n",
        "\\begin{equation}\n",
        "\\frac{(b-a)}{180}h^4f^{(4)}(\\mu) \\leq \\epsilon \\\\\n",
        "\\frac{(b-a)^5}{180 n^4}f^{(4)}(\\mu) \\leq \\epsilon \\\\\n",
        "(b-a)\\sqrt[4]{\\frac{(b-a)}{180 \\epsilon}f^{(4)}(\\mu)} \\leq n\n",
        "\\end{equation}\n",
        "###Tomando a $f^{(4)}(\\mu)$ como el maximo valor de $f^{(4)}(x)$, $x\\in[a,b]$.\n",
        "###El valor $\\lceil n \\rceil$ es el numero de intervalos que se deben usar en la regla del trapezoide compuesto (sin el termino del error), para obtener un valor igual a $\\int_{a}^{b}f(x)$ con un error $\\epsilon$"
      ]
    },
    {
      "cell_type": "code",
      "metadata": {
        "id": "WwqGrAZgIfKa"
      },
      "source": [
        "def simpson_c(f, a, b, eps, n = 0): # Funcion para la regla de Simpson compuesta\n",
        "  def intervals(f4, a, b, eps): # Funcion que halla la cantidad de intervalos\n",
        "    val = max_value(f4,a,b)\n",
        "    max_val = val[1] if isinstance(val, list) else val #Valor maximo\n",
        "    n = (b - a) * (((b - a) * max_val) / (180 * eps)) ** (1 / 4) #Calculo de intervalos\n",
        "    return int(np.ceil(n))\n",
        "\n",
        "  f_a = f(a)\n",
        "  f_b = f(b)\n",
        "  x = sp.symbols(\"x\")\n",
        "  f4 = sp.diff(f(x), x, 4) #Cuarta integral para el error\n",
        "  if n==0: # Si no se dan cantidad de intervalos, hallarlos segun error minimo\n",
        "    n = intervals(f4, a, b, eps)\n",
        "    if n == 0:\n",
        "      return Simpson(f,a,b) # Si usando la regla se obtienen 0 intervalos, se puede\n",
        "                            # Calcular con la regla de Simpson normal\n",
        "  N = 2*n # Se remplaza en la formula n por 2N para poder calcular los intervalos\n",
        "  h = (b - a) / N \n",
        "  x_ = np.linspace(a, b, N+1)\n",
        "\n",
        "  f = np.vectorize(f)\n",
        "  T_even = sum(f(x_[2:-1:2])) # Suma de x_j pares\n",
        "  T_odd = sum(f(x_[1::2])) # Suma de x_j impares\n",
        "  integral = (h / 3) * (f_a + 2 * T_even + 4 * T_odd + f_b) #Integral\n",
        "  return float(integral)"
      ],
      "execution_count": null,
      "outputs": []
    },
    {
      "cell_type": "markdown",
      "metadata": {
        "id": "21vSNhaDjQeV"
      },
      "source": [
        "# Metodo de Cuadratura\n",
        "\n",
        "###El principio basico del metodo de cuadratura es seleccionar unos $\\{x_0,x_1,x_2,...,x_n\\}$ nodos de un intervalo $[a,b]$ y luego integrar el polinomio de lagrange de la funcion a integrar\n",
        "\\begin{equation}\n",
        "P_n(x)= \\sum_{i=0}^nf(x_i)L_i(x)\n",
        "\\end{equation}\n",
        "###al integral junto con el termino para el error\n",
        "\\begin{align}\n",
        "\\int_{a}^{b}f(x)dx=& \\int_{a}^{b}\\sum_{i=0}^nf(x_i)L_i(x)dx+\\int_{a}^{b}\\prod_{i=0}^{n}(x-x_i)\\frac{f^{(n+1)}(\\xi(x))}{(n+1)!}dx \\\\\n",
        "=&\\sum_{i=0}^nf(x_i)a_i(x)+\\frac{1}{(n+1)!}\\int_{a}^{b}\\prod_{i=0}^{n}(x-x_i)f^{(n+1)}(\\xi(x))dx\n",
        "\\end{align}\n",
        "###Donde $\\xi(x)$ esta en $[a,b]$ y para cada $x$ se tiene que:\n",
        "\\begin{equation}\n",
        "a_i = \\int_{a}^{b}L_i(x)dx,\\quad \\text{para cada }i=0,1,..,n\n",
        "\\end{equation}\n",
        "###Asi la ecuacion cuadratica queda de la forma\n",
        "\\begin{equation}\n",
        "\\int_{a}^{b}f(x)dx = \\sum_{i=0}^nf(x_i)a_i(x)+\\frac{1}{(n+1)!}\\int_{a}^{b}\\prod_{i=0}^{n}(x-x_i)f^{(n+1)}(\\xi(x))dx \\\\ \n",
        "\\end{equation}\n",
        "###Donde El error de la ecuacion esta dado por \n",
        "\\begin{equation}\n",
        "\\frac{1}{(n+1)!}\\int_{a}^{b}\\prod_{i=0}^{n}(x-x_i)f^{(n+1)}(\\xi(x))dx \\\\ \n",
        "\\end{equation}\n",
        "\n",
        "###Como el metodo de cuadratura involucra otra integral, vamos a usar el metodo de scipy\n"
      ]
    },
    {
      "cell_type": "markdown",
      "metadata": {
        "id": "weRxyKlW5cbk"
      },
      "source": [
        "# Solucion de ejercicios con los metodos"
      ]
    },
    {
      "cell_type": "code",
      "metadata": {
        "id": "BFdguppL6cF5"
      },
      "source": [
        "eps = 1e-5"
      ],
      "execution_count": null,
      "outputs": []
    },
    {
      "cell_type": "markdown",
      "metadata": {
        "id": "91JA0d826ZGx"
      },
      "source": [
        "\\begin{equation}\n",
        "\\int_{0}^{1}e^{1-x^2}dx \n",
        "\\end{equation}"
      ]
    },
    {
      "cell_type": "markdown",
      "metadata": {
        "id": "IaR8B2qi6Rec"
      },
      "source": [
        "###Metodo Trapezoide"
      ]
    },
    {
      "cell_type": "code",
      "metadata": {
        "id": "8ICxQGzfrJUO"
      },
      "source": [
        "f = lambda x: sp.exp(1-x**2)"
      ],
      "execution_count": null,
      "outputs": []
    },
    {
      "cell_type": "code",
      "metadata": {
        "colab": {
          "base_uri": "https://localhost:8080/"
        },
        "id": "ozZmQS1Z6Tmc",
        "outputId": "e0418b8d-e9b4-4fd6-ac31-cd4bd16268b4"
      },
      "source": [
        "trapz_c(f,0,1,eps)"
      ],
      "execution_count": null,
      "outputs": [
        {
          "output_type": "execute_result",
          "data": {
            "text/plain": [
              "2.0300747956956595"
            ]
          },
          "metadata": {},
          "execution_count": 61
        }
      ]
    },
    {
      "cell_type": "markdown",
      "metadata": {
        "id": "-ucBi5yI6O9g"
      },
      "source": [
        "### Metodo Simpson"
      ]
    },
    {
      "cell_type": "code",
      "metadata": {
        "id": "0AICiSgq0LkG",
        "colab": {
          "base_uri": "https://localhost:8080/"
        },
        "outputId": "dc9828d5-e316-4a39-d1f6-515a3d543567"
      },
      "source": [
        "simpson_c(f,0,1,eps)"
      ],
      "execution_count": null,
      "outputs": [
        {
          "output_type": "execute_result",
          "data": {
            "text/plain": [
              "2.0300785362303193"
            ]
          },
          "metadata": {},
          "execution_count": 62
        }
      ]
    },
    {
      "cell_type": "markdown",
      "metadata": {
        "id": "KwxCZRc4ryCe"
      },
      "source": [
        "### Metodo Cuadratura"
      ]
    },
    {
      "cell_type": "code",
      "metadata": {
        "colab": {
          "base_uri": "https://localhost:8080/"
        },
        "id": "MrT16oUprDqS",
        "outputId": "db3eebbf-ec72-49c4-9a58-48aae855c71b"
      },
      "source": [
        "integrate.quad(f,0,1)[0]"
      ],
      "execution_count": null,
      "outputs": [
        {
          "output_type": "execute_result",
          "data": {
            "text/plain": [
              "2.030078469278705"
            ]
          },
          "metadata": {},
          "execution_count": 63
        }
      ]
    },
    {
      "cell_type": "markdown",
      "metadata": {
        "id": "ObPM1OFm6nOf"
      },
      "source": [
        "Con el hecho de\n",
        "\\begin{equation}\n",
        "\\int_{-\\infty}^{\\infty}f(x)dx =\\int_{0}^{1}\\left[f(1/t-1)+f(1/t+1) \\right]t^{-2}dt\n",
        "\\end{equation}\n",
        "\\begin{equation}\n",
        "\\int_{-\\infty}^{\\infty}\\frac{1}{1+x^2}dx =\\int_{0}^{1}\\frac{1}{t^2(1+(1/t-1)^2)}dt+\\int_{0}^{1}\\frac{1}{t^2(1+(-1/t+1)^2)}dt \\\\\n",
        "\\int_{0}^{1}\\frac{1}{1-2t+2t^2}dt+\\int_{0}^{1}\\frac{1}{1-2t+2t^2}dt =2\\int_{0}^{1}\\frac{1}{1-2t+2t^2}dt\n",
        "\\end{equation}"
      ]
    },
    {
      "cell_type": "code",
      "metadata": {
        "id": "rZaaIewqsnQB"
      },
      "source": [
        "f = lambda x: (1)/(1-(2*x)+2*(x**2))"
      ],
      "execution_count": null,
      "outputs": []
    },
    {
      "cell_type": "markdown",
      "metadata": {
        "id": "4JJrsSfg8nIc"
      },
      "source": [
        "### Metodo trapezoide\n"
      ]
    },
    {
      "cell_type": "code",
      "metadata": {
        "colab": {
          "base_uri": "https://localhost:8080/"
        },
        "id": "XanVCVX466NT",
        "outputId": "50a5330d-731c-4fd2-aa8c-0a31271df70d"
      },
      "source": [
        "value = trapz_c(f,0,1,1e-5)*2\n",
        "value"
      ],
      "execution_count": null,
      "outputs": [
        {
          "output_type": "execute_result",
          "data": {
            "text/plain": [
              "3.141587676831256"
            ]
          },
          "metadata": {},
          "execution_count": 65
        }
      ]
    },
    {
      "cell_type": "markdown",
      "metadata": {
        "id": "CBjHIpR58e-B"
      },
      "source": [
        "### Metodo Simpson"
      ]
    },
    {
      "cell_type": "code",
      "metadata": {
        "colab": {
          "base_uri": "https://localhost:8080/"
        },
        "id": "ZVNOw8N065Dz",
        "outputId": "8bfbba9a-96ef-4a7b-e697-81f2e699e6a2"
      },
      "source": [
        "value = simpson_c(f,0,1,1e-5) *2\n",
        "value"
      ],
      "execution_count": null,
      "outputs": [
        {
          "output_type": "execute_result",
          "data": {
            "text/plain": [
              "3.141592653461338"
            ]
          },
          "metadata": {},
          "execution_count": 66
        }
      ]
    },
    {
      "cell_type": "markdown",
      "metadata": {
        "id": "KhXdDs3rr7eC"
      },
      "source": [
        "### Metodo Cuadratura"
      ]
    },
    {
      "cell_type": "code",
      "metadata": {
        "colab": {
          "base_uri": "https://localhost:8080/"
        },
        "id": "bYpz9r-fsPOC",
        "outputId": "6d29edca-b792-414f-c921-db6b3dcc6334"
      },
      "source": [
        "integrate.quad(f,0,1)[0]*2"
      ],
      "execution_count": null,
      "outputs": [
        {
          "output_type": "execute_result",
          "data": {
            "text/plain": [
              "3.1415926535897936"
            ]
          },
          "metadata": {},
          "execution_count": 67
        }
      ]
    },
    {
      "cell_type": "markdown",
      "metadata": {
        "id": "iVYuGqFJVkPE"
      },
      "source": [
        "#Metodo de Simpson para integral Doble\n",
        "\\begin{equation}\n",
        "\\int_{a}^{b}\\int_{c(x)}^{d(x)}f(x,y)dydx \n",
        "\\end{equation}\n",
        "Haciendo $k(x) = \\frac{d(x)-c(x)}{2}$\n",
        "\\begin{align}\n",
        "\\int_{a}^{b}\\int_{c(x)}^{d(x)}f(x,y)dydx \\approx& \\int_{a}^{b}\\frac{k(x)}{3}\\left[f(x,c(x))+4f(x,c(x)+k(x))+f(x,d(x))\\right]dx \\\\\n",
        "=& \\frac{hk(a)}{9}[f(a,c(a))+4f(a,c(a)+k(a))+f(a,d(a))]\\\\\n",
        "+&\\frac{4hk(a+h)}{9}[f(a+h,c(a+h))+4f(a+h,c(a+h)+k(a+h))+f(a+h,d(a+h))] \\\\\n",
        "+&\\frac{hk(b)}{9}[f(b,c(b))+4f(b,c(b)+k(b))+f(b,d(b))]\n",
        "\\end{align}"
      ]
    },
    {
      "cell_type": "markdown",
      "metadata": {
        "id": "EdbWQQ4Ib_EC"
      },
      "source": [
        "# Metodo Trapezoide para integral Doble\n",
        "\\begin{equation}\n",
        "\\int_{a}^{b}\\int_{c(x)}^{d(x)}f(x,y)dydx \n",
        "\\end{equation}\n",
        "Haciendo $k(x) = \\frac{d(x)-c(x)}{N}$ y tomando $h = \\frac{b-a}{n}$. Ademas $x_i =a+ih$\n",
        "\\begin{align}\n",
        "\\int_{a}^{b}\\int_{c(x)}^{d(x)}f(x,y)dydx \\approx& \\int_{a}^{b}\\frac{k(x)}{2}\\left[f(x,c(x))+2\\sum_{j=!}^{N-1}f(x,c(x)+jk(x))+f(x,d(x))\\right]dx \\\\\n",
        "=&\\frac{hk(a)}{4}\\left[f(a,c(a))+2\\sum_{j=1}^{N-1}f(a,c(a)+jk(a))+f(a,d(a))\\right] \\\\\n",
        "+&\\sum_{i=1}^{n-1}\\frac{hk(x_i)}{2}f(x_i,c(x_i))+\\sum_{i=1}^{n-1}hk(x_i)\\sum_{j=!}^{N-1}f(x_i,c(x_i)+jk(x_i))+\\sum_{i=1}^{n-1}\\frac{hk(x_i)}{2}f(x_i,d(x_i)) \\\\\n",
        "+&\\frac{hk(b)}{4}\\left[f(b,c(b))+2\\sum_{j=1}^{N-1}f(b,c(b)+jk(b))+f(b,d(b))\\right]\n",
        "\\end{align}"
      ]
    },
    {
      "cell_type": "code",
      "metadata": {
        "id": "xTfhreUfjI2M"
      },
      "source": [
        ""
      ],
      "execution_count": null,
      "outputs": []
    },
    {
      "cell_type": "markdown",
      "metadata": {
        "id": "sokXZXl_ev0l"
      },
      "source": [
        "#Metodo Cuadratura para integral doble\n",
        "\\begin{align}\n",
        "\\int_{a}^{b}\\int_{c(x)}^{d(x)}f(x,y)dydx \\approx& \\sum_{i=0}^nf(x,c(x)+)a_i(x+,c(x))dx \n",
        "\\end{align} "
      ]
    },
    {
      "cell_type": "markdown",
      "metadata": {
        "id": "Zhk1hEkNjGxp"
      },
      "source": [
        "# Como no hay un metodo de Cuadratura para la doble integral, se va a usar el metodo dblquad de scipy"
      ]
    },
    {
      "cell_type": "markdown",
      "metadata": {
        "id": "oyypt11Yu4tL"
      },
      "source": [
        "\\begin{equation}\n",
        "\\int_{0}^{\\pi/4}\\int_{\\sin x}^{\\cos x}(2y\\sin x+\\cos^2 x)dydx\n",
        "\\end{equation}"
      ]
    },
    {
      "cell_type": "code",
      "metadata": {
        "id": "0xx90eBfxnAF"
      },
      "source": [
        "f = lambda x,y: 2*y*np.sin(x)+np.cos(x)**2\n",
        "c = lambda x: np.sin(x)\n",
        "d = lambda x: np.cos(x)\n",
        "a = 0\n",
        "b = np.pi/4"
      ],
      "execution_count": null,
      "outputs": []
    },
    {
      "cell_type": "markdown",
      "metadata": {
        "id": "f3J_tmWy2MSN"
      },
      "source": [
        "# Metodo de Cuadratura"
      ]
    },
    {
      "cell_type": "code",
      "metadata": {
        "colab": {
          "base_uri": "https://localhost:8080/"
        },
        "id": "fAs6PYbU2PCU",
        "outputId": "71f1a475-0a9b-4561-9ddf-49eb07c1c6f5"
      },
      "source": [
        "sc.integrate.dblquad(f,0,np.pi/4,c,d)[0]"
      ],
      "execution_count": null,
      "outputs": [
        {
          "output_type": "execute_result",
          "data": {
            "text/plain": [
              "0.4041197515454243"
            ]
          },
          "metadata": {},
          "execution_count": 69
        }
      ]
    },
    {
      "cell_type": "markdown",
      "metadata": {
        "id": "iewHCY1HICoz"
      },
      "source": [
        "\\begin{equation}\n",
        "\\int_{e}^{2e}\\frac{1}{ln(x)}dx\n",
        "\\end{equation}\n"
      ]
    },
    {
      "cell_type": "code",
      "metadata": {
        "id": "-AnqRgcas6xv"
      },
      "source": [
        "f = lambda x: 1/sp.log(x)"
      ],
      "execution_count": null,
      "outputs": []
    },
    {
      "cell_type": "markdown",
      "metadata": {
        "id": "DlKo6lzfId0a"
      },
      "source": [
        "### Metodo Trapezoide"
      ]
    },
    {
      "cell_type": "code",
      "metadata": {
        "colab": {
          "base_uri": "https://localhost:8080/"
        },
        "id": "VeosMELJIdRx",
        "outputId": "119fac26-ec87-408b-cead-9819a1a29822"
      },
      "source": [
        "trapz_c(f,np.e,2*np.e,1e-5)"
      ],
      "execution_count": null,
      "outputs": [
        {
          "output_type": "execute_result",
          "data": {
            "text/plain": [
              "2.0038133069438278"
            ]
          },
          "metadata": {},
          "execution_count": 71
        }
      ]
    },
    {
      "cell_type": "markdown",
      "metadata": {
        "id": "ie4ox5VuJtL2"
      },
      "source": [
        "### Metodo Simpson\n"
      ]
    },
    {
      "cell_type": "code",
      "metadata": {
        "colab": {
          "base_uri": "https://localhost:8080/"
        },
        "id": "D5lbX3qWJx9C",
        "outputId": "86f7e02b-6536-49e5-96b2-d15db92538ec"
      },
      "source": [
        "simpson_c(f,np.e,2*np.e,1e-5)"
      ],
      "execution_count": null,
      "outputs": [
        {
          "output_type": "execute_result",
          "data": {
            "text/plain": [
              "2.0038106419449373"
            ]
          },
          "metadata": {},
          "execution_count": 72
        }
      ]
    },
    {
      "cell_type": "markdown",
      "metadata": {
        "id": "ex_s19YMtAJY"
      },
      "source": [
        "### Metodo Cuadratura"
      ]
    },
    {
      "cell_type": "code",
      "metadata": {
        "colab": {
          "base_uri": "https://localhost:8080/"
        },
        "id": "_JsgUbYAs_Bx",
        "outputId": "6505ce92-4519-48ca-9794-a01e275f52bf"
      },
      "source": [
        "integrate.quad(f,np.e,2*np.e)[0]"
      ],
      "execution_count": null,
      "outputs": [
        {
          "output_type": "execute_result",
          "data": {
            "text/plain": [
              "2.0038105616240243"
            ]
          },
          "metadata": {},
          "execution_count": 73
        }
      ]
    },
    {
      "cell_type": "markdown",
      "metadata": {
        "id": "S15o-eifWjcr"
      },
      "source": [
        "#1)\n",
        "\\begin{equation}\n",
        "v^2=2gR\\int_{1}^{\\infty}z^{-2}dz \\quad \\text{Tomando a  }z = \\frac{x}{R} ,\\quad dz =\\frac{dx}{R}\n",
        "\\end{equation} \n",
        "$R$ es el radio terrestre, $g$ es la aceleracion de la gravedad. \n",
        "\n",
        "Usando la formula\n",
        "\\begin{equation}\n",
        "\\int_{a}^{\\infty}f(x)dx=\\int_{0}^{1/a}t^2f(\\frac{1}{t})dt\n",
        "\\end{equation} \n",
        "La integral\n",
        "\\begin{equation}\n",
        "\\int_{1}^{\\infty}z^{-2}dz=\\int_{R}^{\\infty}\\frac{R}{x^2}dx=\\int_{0}^{1/R}R dt=R\\int_{0}^{1/R}dt \n",
        "\\end{equation} "
      ]
    },
    {
      "cell_type": "code",
      "metadata": {
        "colab": {
          "base_uri": "https://localhost:8080/"
        },
        "id": "yVgjF5yTcDiy",
        "outputId": "d63cc98a-f173-48a1-f0b2-7c40c120775f"
      },
      "source": [
        "f = lambda x: 1\n",
        "g = 9.81 # Metros/segundo^2\n",
        "R = 6371000 # Metros\n",
        "integral = R*simpson_c(f,0,1/R,1e-5)\n",
        "print(((g*R*2*integral)**0.5)/1000, \"kilometros por segundo\")"
      ],
      "execution_count": null,
      "outputs": [
        {
          "output_type": "stream",
          "name": "stdout",
          "text": [
            "11.18029606048069 kilometros por segundo\n"
          ]
        }
      ]
    },
    {
      "cell_type": "markdown",
      "metadata": {
        "id": "dR3-Kilb62rl"
      },
      "source": [
        "#Quadratura gaussiana\n",
        "\\begin{equation}\n",
        "\\int_{-1}^{1}f(x)dx \\approx \\sum_{i=1}^{n}c_if(x_i)\n",
        "\\end{equation}\n",
        "###Donde los $x_i$ son las raices del polinomio de legrende de grado $n$ y los $c_i$ son\n",
        "\\begin{equation}\n",
        "c_i = \\frac{2}{(1-x_i^2)[P_n'(x_i)]^2}\n",
        "\\end{equation}\n",
        "Con $P_n$ el polinomio de Legrende de grado $n$\n",
        "\n",
        "Si una integral no tiene los limites $-1$,$1$, se modifica haciendo un cambio de variable\n",
        "\\begin{equation}\n",
        "u = \\frac{2x-a-b}{b-a} \\quad x = \\frac{1}{2}[(b-a)u+a+b]\\\\\n",
        "\\text{Si $x = a$} \\\\\n",
        "u = -1 \\\\\n",
        "\\text{Si $x = b$} \\\\\n",
        "u = 1 \\\\\n",
        "\\end{equation}\n",
        "\\begin{align}\n",
        "\\int_{a}^{b}f(x)dx = &\\int_{-1}^{1}f\\left(\\frac{b-a}{2}u+\\frac{b+a}{2}\\right)\\left(\\frac{b-a}{2}\\right)du \\\\\n",
        " =&\\left(\\frac{b-a}{2}\\right)\\int_{-1}^{1}f\\left(\\frac{b-a}{2}u+\\frac{b+a}{2}\\right)du \\approx \\left(\\frac{b-a}{2}\\right)\\sum_{i=1}^{n}c_if\\left(\\frac{b-a}{2}u_i+\\frac{b+a}{2}\\right)\n",
        "\\end{align}"
      ]
    },
    {
      "cell_type": "code",
      "metadata": {
        "id": "ll-mm3f66wWr"
      },
      "source": [
        "def Gauss(f,a,b,n): # Calculo de la cuadratura gaussiana\n",
        "  f_ = lambda x: f(((b-a)/2)*x+(a+b)/2)\n",
        "  roots = special.roots_legendre(n)[0].astype(Decimal) # Raices del polinomio de\n",
        "                                                      # Legrende\n",
        "  ci = special.roots_legendre(n)[1].astype(Decimal)  # Valores de C_i\n",
        "  suma = Decimal(np.dot(ci,f_(roots)))  # La sumatoria de los valores C_i*raices\n",
        "  integral = (Decimal((b-a))/Decimal(2))*suma # Calculo de integral\n",
        "  return np.float128(integral)\n",
        "f = lambda x: np.e**(-x)"
      ],
      "execution_count": null,
      "outputs": []
    },
    {
      "cell_type": "markdown",
      "metadata": {
        "id": "fZSkAshEO4gg"
      },
      "source": [
        "\\begin{equation}\n",
        "\\int_{0}^{1}e^{-t}dt\n",
        "\\end{equation}\n"
      ]
    },
    {
      "cell_type": "code",
      "metadata": {
        "id": "VIT6HRFwly6_"
      },
      "source": [
        "f = lambda x: np.e**(-x)\n",
        "n = np.linspace(2,200,100).astype(int) # Valores para evaluar\n",
        "a = 0\n",
        "b = 1\n",
        "real_value = 1-(1/(np.e))\n",
        "# Usando los metodos para la misma funcion\n",
        "val_trapz = np.array([trapz_c(f,a, b,1,n_i) for n_i in n])\n",
        "val_simpson = np.array([simpson_c(f,a ,b,1,n_i) for n_i in n])\n",
        "val_gauss = np.array([Gauss(f,a ,b,n_i) for n_i in n])"
      ],
      "execution_count": null,
      "outputs": []
    },
    {
      "cell_type": "code",
      "metadata": {
        "id": "1J9BFxKvFsKY"
      },
      "source": [
        "#Calculo de error para cada uno\n",
        "relative_trapz = abs((val_trapz-real_value)/real_value)\n",
        "relative_simpson = abs((val_simpson-real_value)/real_value)\n",
        "relative_gauss = abs((val_gauss-real_value)/real_value)"
      ],
      "execution_count": null,
      "outputs": []
    },
    {
      "cell_type": "code",
      "metadata": {
        "colab": {
          "base_uri": "https://localhost:8080/",
          "height": 600
        },
        "id": "a-zpWk26Ig6A",
        "outputId": "e5d8c577-0c3b-4f7a-f418-69ff06c45f8a"
      },
      "source": [
        "# Graficacion\n",
        "plt.figure(figsize=(10,10))\n",
        "plt.loglog(n,relative_trapz,\"b-\")\n",
        "plt.loglog(n,relative_simpson,\"r-\")\n",
        "plt.loglog(n,relative_gauss,\"g-\")\n",
        "plt.grid()"
      ],
      "execution_count": null,
      "outputs": [
        {
          "output_type": "display_data",
          "data": {
            "image/png": "[encoded data removed]",
            "text/plain": [
              "<Figure size 720x720 with 1 Axes>"
            ]
          },
          "metadata": {
            "needs_background": "light"
          }
        }
      ]
    },
    {
      "cell_type": "markdown",
      "metadata": {
        "id": "4bKP-Fsu8l_8"
      },
      "source": [
        "La grafica nos puestra la regla de la potencia donde $\\epsilon \\approx CN^\\alpha$, de tal manera \n",
        "\\begin{equation}\n",
        "log(\\epsilon (N)) = \\alpha log(N)+B\n",
        "\\end{equation}\n",
        " donde $B = log(C)$ y el valor $\\alpha$ es la pendiente de la grafica\n"
      ]
    },
    {
      "cell_type": "code",
      "metadata": {
        "colab": {
          "base_uri": "https://localhost:8080/"
        },
        "id": "vjvudgIu8lQC",
        "outputId": "8dd588dd-5f25-4335-d505-19cee3978fcd"
      },
      "source": [
        "logtrapz = np.log10(relative_trapz)\n",
        "logsimps = np.log10(relative_simpson)  \n",
        "logn = np.log10(n)\n",
        "alpha_1 = ((logtrapz[-1]-logtrapz[0])/(logn[-1]-logn[0]))\n",
        "alpha_2 = ((logsimps[-1]-logsimps[0])/(logn[-1]-logn[0]))\n",
        "print(alpha_1,alpha_2)"
      ],
      "execution_count": null,
      "outputs": [
        {
          "output_type": "stream",
          "name": "stdout",
          "text": [
            "-1.9990987945268675 -3.998142652494453\n"
          ]
        }
      ]
    },
    {
      "cell_type": "markdown",
      "metadata": {
        "id": "yvcHj6WOHWRE"
      },
      "source": [
        "\\begin{align}\n",
        "\\alpha_1= &-1.99909 \\quad &\\text{Metodo trapezoidal} \\\\\n",
        "\\alpha_2 =& -3.9981 \\quad &\\text{Metodo Simpson}\n",
        "\\end{align}"
      ]
    },
    {
      "cell_type": "markdown",
      "metadata": {
        "id": "WyjJlXVQH7yA"
      },
      "source": [
        "Ahora podemos encontrar $B$ como un promedio de $log(\\epsilon (N)) = \\alpha log(N)+B$ evaluado en cada $N$"
      ]
    },
    {
      "cell_type": "code",
      "metadata": {
        "colab": {
          "base_uri": "https://localhost:8080/"
        },
        "id": "4Z45WnWZH7BQ",
        "outputId": "d8a88e55-372e-45eb-8158-98e15f5931da"
      },
      "source": [
        "C_1 = 10**(sum(logtrapz-alpha_1*logn)/len(logn))\n",
        "C_2 = 10**(sum(logsimps-alpha_2*logn)/len(logn))\n",
        "print(C_1,C_2)"
      ],
      "execution_count": null,
      "outputs": [
        {
          "output_type": "stream",
          "name": "stdout",
          "text": [
            "0.0830031012378819 0.0003444329626712162\n"
          ]
        }
      ]
    },
    {
      "cell_type": "markdown",
      "metadata": {
        "id": "sd7whuHRLSGA"
      },
      "source": [
        "\\begin{align}\n",
        "C_1= &0.0830031 \\quad &\\text{Metodo trapezoidal} \\\\\n",
        "C_2 =&0.0003444 \\quad &\\text{Metodo Simpson}\n",
        "\\end{align}\n",
        "Las regla de la potencia queda\n",
        "\\begin{align}\n",
        "&\\text{Metodo trapezoidal }= \\epsilon \\approx 0.0830031N^{-1.99909}\\\\\n",
        "&\\text{Metodo Simpson }= = \\epsilon \\approx 0.0003444N^{-3.9981}\n",
        "\\end{align}"
      ]
    }
  ]
}