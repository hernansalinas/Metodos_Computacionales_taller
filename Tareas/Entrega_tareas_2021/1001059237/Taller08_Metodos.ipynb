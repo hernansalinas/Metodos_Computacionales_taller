{
  "nbformat": 4,
  "nbformat_minor": 0,
  "metadata": {
    "colab": {
      "name": "Taller08_Metodos.ipynb",
      "provenance": [],
      "collapsed_sections": []
    },
    "kernelspec": {
      "name": "python3",
      "display_name": "Python 3"
    },
    "language_info": {
      "name": "python"
    }
  },
  "cells": [
    {
      "cell_type": "markdown",
      "metadata": {
        "id": "z2BC6C8-H-tF"
      },
      "source": [
        "1. The next  problems are examples of how elliptic integrals enter into realistic physics problems. It is straightforward to evaluate any integral numerically using the techniques of this chapter, but it may be difficult for you to  know if the answers you obtain are correct. One way to hone your integral\u0002evaluating skills is to compare your answers from quadrature to power series\n",
        "expressions, or to a polynomial approximations of know precision. To help you in this regard, we present here a polynomial approximation for an elliptic integral (Abramowitz and Stegun, 1972):\n",
        "\n",
        "\\begin{equation}\n",
        "K(m)=\\int_{0}^{\\pi/2} \\frac{\\mathrm{d\\phi}}{\\sqrt{1-m\\sin^2\\phi}}\n",
        "\\end{equation}\n",
        "\n",
        "\\begin{equation}\n",
        "\\approx a_0+a_1m_1+a_2m_1 - [ b_0+b_1m_1+b_2m_1^2]\\ln m_1 + \\epsilon(m) \n",
        "\\end{equation}\n",
        "\n",
        "\n",
        "\n",
        "$m_1 = 1-m$, \n",
        "\n",
        "$ 0 \\le m \\le1 $\n",
        "\n",
        "$\\epsilon(m)\\leq 3\\times 10^{-5}$\n",
        "\n",
        "\n",
        "\n",
        "$a_0 = 1.3862944$\n",
        "\n",
        "$b_0 = 0.5$\n",
        "\n",
        "$a_1 = 0.1119723$\n",
        "\n",
        "$b_1 = 0.1213478$\n",
        "\n",
        "$a_2 = 0.00725296$\n",
        "\n",
        "$b_2 = 0.0288729$\n"
      ]
    },
    {
      "cell_type": "code",
      "metadata": {
        "id": "ekr-_grs6uCX"
      },
      "source": [
        "import random\n",
        "import numpy as np\n",
        "import sympy as sp\n",
        "import matplotlib.pylab as plt\n",
        "from scipy import integrate"
      ],
      "execution_count": null,
      "outputs": []
    },
    {
      "cell_type": "markdown",
      "metadata": {
        "id": "ixNUNpq4-56s"
      },
      "source": [
        "\\begin{equation}\n",
        "\\int_{a}^{b}f(x)=\\frac{h}{2}\\left[ f(a) +\\sum_{j=1}^{n-1}f(x_j)+f(b)\\right]-\\frac{b-a}{12}h^2f''(\\mu)\n",
        "\\end{equation}"
      ]
    },
    {
      "cell_type": "code",
      "metadata": {
        "id": "hoC-Eglm5t0A"
      },
      "source": [
        "def max_value(f_, a, b): # Funcion para hallar el maximo valor\n",
        "    x = sp.symbols(\"x\")\n",
        "    x_ = np.linspace(a, b, 100)\n",
        "    fk = sp.lambdify(x, f_, 'numpy')\n",
        "    fk_x = fk(x_)\n",
        "    if isinstance(fk_x,int):\n",
        "      return [0,fk_x]\n",
        "    return max(list(map(abs, fk_x)))\n",
        "\n",
        "def trapz_c(f,a,b,eps,n=0): # Funcion para el calculo de una integral con \n",
        "                            # El metodo trapezoidal\n",
        "  \"\"\"\n",
        "  Function Composite Trapezoidal Rule\n",
        "  f: Function to Integrate\n",
        "  a: Bottom Limit\n",
        "  b: Upper Limit\n",
        "  eps: Max Error\n",
        "  \"\"\"\n",
        "  def intervals(f2,a,b,eps):\n",
        "    b_a = b-a\n",
        "    val = max_value(f2,a,b)\n",
        "    f2_u = val[1] if isinstance(val, list) else val\n",
        "    n = (b_a)*np.sqrt((b_a*f2_u)/(12*eps))\n",
        "    return int(np.ceil(n))\n",
        "\n",
        "  T0= f(a)\n",
        "  T1 = f(b)\n",
        "  x = sp.symbols(\"x\")\n",
        "  f2 = sp.diff(f(x),x,2)\n",
        "  if n==0:\n",
        "    n = intervals(f2, a, b, eps)\n",
        "  h = (b-a)/n\n",
        "  x_ = np.linspace(a,b,n+1)\n",
        "  f = np.vectorize(f)\n",
        "  Tj = sum(f(x_[1:-1]))\n",
        "  return float((h/2)*(T0+2*Tj+T1))\n",
        "\n",
        "def Approx(m): # La aproximacion dada por definicion\n",
        "  a0 = 1.3862944\n",
        "  a1 = 0.1119723\n",
        "  a2 = 0.0725296\n",
        "  b0 = 0.5\n",
        "  b1 = 0.1213478\n",
        "  b2 = 0.0288729\n",
        "  m1 = 1-m\n",
        "  error = 1e-7\n",
        "  return a0+a1*m1+a2*m1**2-(b0+b1*m1+b2*m1**2)*np.log(m1)+error\n"
      ],
      "execution_count": null,
      "outputs": []
    },
    {
      "cell_type": "code",
      "metadata": {
        "id": "ZIJqzCOpy12P"
      },
      "source": [
        "# Calculo con trapezoide y la aproximacion para un valor m aleatorio entre 0 y 1\n",
        "m = random.random()\n",
        "f = lambda x: 1/(sp.sqrt(1-m*sp.sin(x)**2))\n",
        "print(\"Con un valor de {} en la funcion K(m)\".format(m))\n",
        "trapz = trapz_c(f,0,np.pi/2,1e-7)\n",
        "print(trapz,\"Es el valor obtenido con el metodo del trapezoide Compuesto\")\n",
        "aaprox = Approx(m)\n",
        "print(aaprox,\"Es el valor obtenido con la aproximacion\")\n"
      ],
      "execution_count": null,
      "outputs": []
    },
    {
      "cell_type": "markdown",
      "metadata": {
        "id": "G6HsBn7_HZol"
      },
      "source": [
        " Figure 5.7 shows a current loop of radius a carrying a current I. The point P\n",
        "is a distance r from the center of the loop with spherical coordinates (r, θ, φ).\n",
        "Jackson (1988) solves for the φ component of the vector potential at point P\n",
        "in terms of elliptic integrals:\n",
        "\n",
        "\\begin{equation}\n",
        "A_{\\phi}(r, \\theta)=\\frac{\\mu_0}{4\\pi}\\frac{4Ia}{\\sqrt{a^2+r^2+2ar\\sin \\theta}}\\left(\\frac{(2-k^2)K(k)-2E(k)}{k^2} \\right)\n",
        "\\end{equation}\n",
        "\n",
        "\n",
        "where \n",
        "\n",
        "\\begin{equation}\n",
        "K(k)=\\int_{0}^{\\pi/2} \\frac{\\mathrm{d\\phi}}{\\sqrt{1-k^2\\sin^2\\phi}}\n",
        "\\end{equation}\n",
        "\n",
        "\n",
        "\\begin{equation}\n",
        "E(k)=\\int_{0}^{\\pi/2} \\mathrm{d\\phi} \\sqrt{1-k^2\\sin^2\\phi}\n",
        "\\end{equation}\n",
        "\n",
        "\n",
        "\\begin{equation}\n",
        "k^2=\\frac{4ar\\sin\\theta}{a^2+r^2+2ar\\sin\\theta}\n",
        "\\end{equation}\n",
        "\n",
        "\n",
        "\n",
        "Here K(k) is a complete elliptic integral of the first kind and E(k) is a complete\n",
        "elliptic integral of the second kind. For a = 1, I = 3, and μ0∕4π = 1, compute\n",
        "and plot\n",
        "\n",
        "$\n",
        "a) Aφ(r = 1.1, θ) vs. θ. \\\\\n",
        "b) Aφ(r, θ = π∕3) vs. r\n",
        "$\n",
        "\n",
        "#Resolver el punto b"
      ]
    },
    {
      "cell_type": "markdown",
      "metadata": {
        "id": "EmU7PLinNna_"
      },
      "source": [
        "\n",
        "# Funcion para k^2\n",
        "\n",
        "\\begin{equation}\n",
        "k^2=\\frac{4ar\\sin\\theta}{a^2+r^2+2ar\\sin\\theta}\n",
        "\\end{equation}\n",
        "\n",
        "para $theta=\\pi/2$\n",
        "\n",
        "\n",
        "---\n",
        "\n",
        "\n",
        "\n",
        "$k^2 = \\frac{4*1.1}{1+1.1^2+2*1.1}$\n",
        "\n"
      ]
    },
    {
      "cell_type": "code",
      "metadata": {
        "id": "nd4sxDgSHaEU"
      },
      "source": [
        "def k_square(r, theta, a):  \n",
        "  num = 4*a*r*np.sin(theta)\n",
        "  den = a**2+r**2+2*a*r*np.sin(theta) \n",
        "  return num/den\n",
        "\n",
        "theta = np.linspace(0, np.pi/2, 100)"
      ],
      "execution_count": null,
      "outputs": []
    },
    {
      "cell_type": "code",
      "metadata": {
        "id": "oo4kym3WNypg"
      },
      "source": [
        "plt.plot(theta, k_square(1.1,theta, 1 ))\n",
        "plt.xlabel(\"$\\\\theta$\")\n",
        "plt.ylabel(\"$k^2(r, \\\\theta)$\")"
      ],
      "execution_count": null,
      "outputs": []
    },
    {
      "cell_type": "markdown",
      "metadata": {
        "id": "UI1d_fd1P3P5"
      },
      "source": [
        "\\begin{equation}\n",
        "K(k)=\\int_{0}^{\\pi/2} \\frac{\\mathrm{d\\phi}}{\\sqrt{1-k^2\\sin^2\\phi}}\n",
        "\\end{equation}\n",
        "\n"
      ]
    },
    {
      "cell_type": "code",
      "metadata": {
        "id": "ItpXs3xbN47b"
      },
      "source": [
        "K_ = lambda k, phi: 1./np.sqrt( 1 - (k * np.sin(phi)) **2 )"
      ],
      "execution_count": null,
      "outputs": []
    },
    {
      "cell_type": "code",
      "metadata": {
        "id": "tyjICQyxOES2"
      },
      "source": [
        "# Validacion de las funciones a integrar\n",
        "\n",
        "phi = np.linspace(0,np.pi/2, 100  )\n",
        "theta = np.pi/3\n",
        "k2 = k_square(1.1,theta , 1)\n",
        "plt.plot(phi, K_( np.sqrt(k2) , phi ), label=f\"theta={theta}\")\n",
        "\n",
        "theta = np.pi/4\n",
        "k2 = k_square(1.1,theta , 1)\n",
        "plt.plot(phi, K_( np.sqrt(k2) , phi ), label=f\"theta={theta}\")\n",
        "plt.legend()"
      ],
      "execution_count": null,
      "outputs": []
    },
    {
      "cell_type": "code",
      "metadata": {
        "id": "9UPd-TG0WdZx"
      },
      "source": [
        "#Solucion de la Integral empleando el metodo de trapecio\n",
        "# para un valor theta, r, a \n",
        "phi = np.linspace(0, np.pi/2, 100 )\n",
        "theta = np.pi/3\n",
        "r = 1.1\n",
        "a = 1\n",
        "k2 = k_square(r, theta , a)\n",
        "y = K_( np.sqrt(k2) , phi )\n",
        "integrate.trapz(y, phi )"
      ],
      "execution_count": null,
      "outputs": []
    },
    {
      "cell_type": "markdown",
      "metadata": {
        "id": "6mtqp8MxRz_b"
      },
      "source": [
        "\n",
        "\\begin{equation}\n",
        "E(k)=\\int_{0}^{\\pi/2} \\mathrm{d\\phi} \\sqrt{1-k^2\\sin^2\\phi}\n",
        "\\end{equation}\n"
      ]
    },
    {
      "cell_type": "code",
      "metadata": {
        "id": "3lVVLu15QX9n"
      },
      "source": [
        "E_ = lambda k, phi: np.sqrt( 1 - (k * np.sin(phi)) **2 )"
      ],
      "execution_count": null,
      "outputs": []
    },
    {
      "cell_type": "code",
      "metadata": {
        "id": "P8coUgCVR3k3"
      },
      "source": [
        "# Validacion de las funciones a integrar\n",
        "phi = np.linspace(0,np.pi/2, 100  )\n",
        "theta = np.pi/3\n",
        "\n",
        "#Graficacion de E vs theta\n",
        "plt.figure()\n",
        "k2 = k_square(1.1,theta , 1)\n",
        "plt.plot(phi, E_( np.sqrt(k2) , phi ), label=f\"theta={theta}\")\n",
        "\n",
        "theta = np.pi/4\n",
        "k2 = k_square(1.1,theta , 1)\n",
        "plt.plot(phi, E_( np.sqrt(k2) , phi ), label=f\"theta={theta}\")\n",
        "plt.legend()\n"
      ],
      "execution_count": null,
      "outputs": []
    },
    {
      "cell_type": "code",
      "metadata": {
        "id": "aZjZcnweXb42"
      },
      "source": [
        "#Solucion de la Integral empleando el metodo de trapecio\n",
        "# para un valor theta, r, a \n",
        "\n",
        "phi = np.linspace(0, np.pi/2, 100 )\n",
        "theta = np.pi/3\n",
        "r = 1.1\n",
        "a = 1\n",
        "k2 = k_square(r, theta , a)\n",
        "y = E_( np.sqrt(k2) , phi )\n",
        "print(integrate.trapz(y, phi ))"
      ],
      "execution_count": null,
      "outputs": []
    },
    {
      "cell_type": "markdown",
      "metadata": {
        "id": "h7gHYBPxXrtT"
      },
      "source": [
        "\n",
        "\\begin{equation}\n",
        "A_{\\phi}(r, \\theta)=\\frac{\\mu_0}{4\\pi}\\frac{4Ia}{\\sqrt{a^2+r^2+2ar\\sin \\theta}}\\left(\\frac{(2-k^2)K(k)-2E(k)}{k^2} \\right)\n",
        "\\end{equation}\n"
      ]
    },
    {
      "cell_type": "code",
      "metadata": {
        "id": "KZFmxDn3Vtx2"
      },
      "source": [
        "# Calculo del potencial\n",
        "\n",
        "E_ = lambda k, phi: np.sqrt( 1 - (k * np.sin(phi)) **2 )\n",
        "K_ = lambda k, phi: 1./np.sqrt( 1 - (k * np.sin(phi)) **2 )\n",
        "\n",
        "def k_square(r, theta, a):  \n",
        "  num = 4*a*r*np.sin(theta)\n",
        "  den = a**2+r**2+2*a*r*np.sin(theta) \n",
        "  return num/den\n",
        "\n",
        "\n",
        "\n",
        "def Apotencial(r, theta, phi, a, I, cte = 1 ):\n",
        "  \n",
        "  T11 = cte*4*I*a\n",
        "  T12 = np.sqrt( a**2 + r**2 + 2*a*r*np.sin(theta))\n",
        "  T1 = T11/T12\n",
        "\n",
        "  k2 = k_square(r, theta, a)\n",
        "  T21 = (2 - k2)\n",
        "  K = integrate.trapz(K_(np.sqrt(k2), phi), phi)\n",
        "  T2 = T21*K\n",
        "  \n",
        "  E =  integrate.trapz(E_(np.sqrt(k2), phi), phi)\n",
        "  A = T1*(T2 - 2*E)/k2\n",
        "\n",
        "  return A\n",
        "\n",
        "  \n"
      ],
      "execution_count": null,
      "outputs": []
    },
    {
      "cell_type": "code",
      "metadata": {
        "id": "yiIO8lZ8ZloR"
      },
      "source": [
        "# Paramtros \n",
        "theta = np.pi/3\n",
        "r = 1.1\n",
        "a = 1.0\n",
        "I = 3.0\n",
        "phi = np.linspace(0, np.pi/2, 100)\n",
        "\n",
        "A = Apotencial(r, theta, phi, a, I, cte = 1 )\n",
        "print(A)"
      ],
      "execution_count": null,
      "outputs": []
    },
    {
      "cell_type": "code",
      "metadata": {
        "id": "ZWRT2XeNZ4vw"
      },
      "source": [
        "r = 1.1 # Punto donde calcular el potencial \n",
        "a = 1.0 # RAdio de la espira, unidades computacionales\n",
        "I = 3.0 #Corriente que circula por la espira, unidades computacionales\n",
        "N = 100 # Numero o resolución en theta y phi\n",
        "\n",
        "\n",
        "theta = np.linspace(0.01, np.pi/2, N)\n",
        "phi = np.linspace(0, np.pi/2, N)\n",
        "\n",
        "Ap_T = np.zeros(len(theta))\n",
        "\n",
        "for i, t in enumerate(theta):\n",
        "    Ap_T[i] = Apotencial(r, t, phi, a, I, cte = 1 )\n",
        "\n"
      ],
      "execution_count": null,
      "outputs": []
    },
    {
      "cell_type": "code",
      "metadata": {
        "id": "LLZgdfKnbVI-"
      },
      "source": [
        "# Grafica de potencial en funcion de r\n",
        "plt.plot(theta, Ap_T)\n",
        "plt.xlabel(\"$\\\\theta$\")\n",
        "plt.ylabel(\"$A(r=1.1, \\\\theta)$\")"
      ],
      "execution_count": null,
      "outputs": []
    },
    {
      "cell_type": "code",
      "metadata": {
        "id": "inyxdP2Fu9o_"
      },
      "source": [
        "theta = np.pi/3 # Punto donde calcular el potencial \n",
        "a = 1.0 # RAdio de la espira, unidades computacionales\n",
        "I = 3.0 #Corriente que circula por la espira, unidades computacionales\n",
        "N = 100 # Numero o resolución en theta y phi\n",
        "\n",
        "\n",
        "r = np.linspace(0.01, 1, N)\n",
        "phi = np.linspace(0, np.pi/2, N)\n",
        "Ap_r = np.zeros(len(r))\n",
        "# Grafica de potencial en funcion de r\n",
        "for i, r_ in enumerate(r):\n",
        "  Ap_r[i] = Apotencial(r_,theta,phi,a,I,cte=1)\n",
        "\n",
        "plt.plot(r, Ap_r)\n",
        "plt.xlabel(\"$r$\")\n",
        "plt.ylabel(\"$A(r, \\\\theta =\\\\pi/3)$\")"
      ],
      "execution_count": null,
      "outputs": []
    }
  ]
}