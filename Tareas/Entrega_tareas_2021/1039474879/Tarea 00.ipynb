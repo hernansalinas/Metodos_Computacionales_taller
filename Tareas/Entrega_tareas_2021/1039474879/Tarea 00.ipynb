{
 "cells": [
  {
   "cell_type": "markdown",
   "metadata": {},
   "source": [
    "# Tarea00 Métodos Computacionales.\n",
    "### Gabriel Cataño Sánchez.  \n",
    "#### CC: 1039474879"
   ]
  },
  {
   "cell_type": "code",
   "execution_count": 49,
   "metadata": {},
   "outputs": [],
   "source": [
    "import numpy as np\n",
    "import matplotlib.pyplot as plt"
   ]
  },
  {
   "cell_type": "markdown",
   "metadata": {},
   "source": [
    "### 1. Factorial de un número."
   ]
  },
  {
   "cell_type": "code",
   "execution_count": 47,
   "metadata": {},
   "outputs": [],
   "source": [
    "def factorial(n):\n",
    "    \"\"\"\n",
    "    Función que calcula el factorial de un número.\n",
    "    Input:\n",
    "        n: Número al que se le quiere calcular el factorial.\n",
    "    Output:\n",
    "        f(n): Factorial del número .  \n",
    "     \"\"\"\n",
    "    fact=1                   #Factorial comienza con el valor igual a 1\n",
    "    for i in range(1,n+1):\n",
    "        fact = i*fact        #Ciclo para múltiplicar por el anterior termino arrojado en la variable\n",
    "    return(fact)"
   ]
  },
  {
   "cell_type": "code",
   "execution_count": 48,
   "metadata": {},
   "outputs": [
    {
     "data": {
      "text/plain": [
       "120"
      ]
     },
     "execution_count": 48,
     "metadata": {},
     "output_type": "execute_result"
    }
   ],
   "source": [
    "factorial(5)"
   ]
  },
  {
   "cell_type": "markdown",
   "metadata": {},
   "source": [
    "### 2. Clase de número."
   ]
  },
  {
   "cell_type": "code",
   "execution_count": 104,
   "metadata": {},
   "outputs": [],
   "source": [
    "def Div(n):\n",
    "    \"\"\"\n",
    "    Calcula los divisores de un número y los pone en una lista\n",
    "    \"\"\"\n",
    "    L = [a for a in range(1,n) if n%a==0]\n",
    "    return L\n",
    "\n",
    "def Sum(list):\n",
    "    \"\"\"\n",
    "    Suma los elementos de una lista\n",
    "    \"\"\"\n",
    "    s = 0\n",
    "    for numero in(list):\n",
    "        s+=numero\n",
    "    return s\n",
    "\n",
    "def Def_Ab(a,b):\n",
    "    \"\"\"\n",
    "    Nos dice si dos números son defectivos o abundantes\n",
    "    \"\"\"\n",
    "    if Sum(Div(a)) < a and Sum(Div(b)) < b:\n",
    "        return f\"{a} y {b} son números defectivos\"\n",
    "    elif Sum(Div(a)) > a and Sum(Div(b)) > b:\n",
    "        return f\"{a} y {b} son números abundantes\"\n",
    "    elif Sum(Div(a)) > a and Sum(Div(b)) < b:\n",
    "        return f\"{a} es un número abundante y {b} es un número defectivo\"\n",
    "    elif Sum(Div(a)) < a and Sum(Div(b)) > b:\n",
    "        return f\"{a} es un número defectivo y {b} es un número abundante\"\n",
    "    elif Sum(Div(a)) > a and Sum(Div(b)) > b:\n",
    "        return f\"{a} y {b} son números abundantes\"\n",
    "        \n",
    "\n",
    "def Am_Pr(a,b):\n",
    "    \"\"\"\n",
    "    Nos dice si dos números son amigos ó cual de ellos es número primo\n",
    "    \"\"\"\n",
    "    if a == Sum(Div(b)) and b == Sum(Div(a)):\n",
    "        return f\"{a} y {b} son números amigos\"\n",
    "    elif Div(a) == [1] and Div(b) != [1]:\n",
    "        return f\"{a} es número primo y {b} no es número primo\"\n",
    "    elif Div(a) == [1] and Div(b) != [1]:\n",
    "        return f\"{b} es número primo y {a} no es número primo\"\n",
    "    elif Div(a) == [1] and Div(b) == [1]:\n",
    "        return f\"{a} y {b} son números primos\"\n",
    "        \n",
    "        \n",
    "def Per(a,b):\n",
    "    \"\"\"\n",
    "    Nos dice si dos números son perfectos \n",
    "    \"\"\"\n",
    "    if Sum(Div(a)) == a and Sum(Div(b)) == b:\n",
    "        return f\"{a} y {b} son números perfectos\"\n",
    "    elif Sum(Div(a)) == a and Sum(Div(b)) != b:\n",
    "        return f\"{a} es número perfecto y {b} no es número perfecto\"\n",
    "    elif Sum(Div(a)) != a and Sum(Div(b)) == b:\n",
    "        return f\"{b} es número perfecto y {a} no es número perfecto\"\n",
    "\n",
    "def Semi(n):\n",
    "    \"\"\"\n",
    "    Calcula la suma de los divisores de un número para saber si es semiperfecto\n",
    "    \"\"\"\n",
    "    for i in range(len(Div(n))):\n",
    "        if Sum(Div(n))-Div(n)[i] == n:\n",
    "            return f\"{n} es número semiperfecto\"\n",
    "\n",
    "def clase_numero(a,b):\n",
    "    \"\"\"\n",
    "    Nos dice que clase de número son a y b\n",
    "    \"\"\"\n",
    "    return f'{Def_Ab(a,b) , Am_Pr(a,b) , Per(a,b)}'\n",
    "    \n",
    "              "
   ]
  },
  {
   "cell_type": "code",
   "execution_count": 114,
   "metadata": {},
   "outputs": [
    {
     "data": {
      "text/plain": [
       "\"(None, None, '6 es número perfecto y 18 no es número perfecto')\""
      ]
     },
     "execution_count": 114,
     "metadata": {},
     "output_type": "execute_result"
    }
   ],
   "source": [
    "clase_numero(6,18)"
   ]
  },
  {
   "cell_type": "markdown",
   "metadata": {},
   "source": [
    "### 3. Número Palíndromo."
   ]
  },
  {
   "cell_type": "code",
   "execution_count": 7,
   "metadata": {},
   "outputs": [],
   "source": [
    "def palindromo(n):\n",
    "    \"\"\"\n",
    "    Función que nos dice si un número es palíndromo.\n",
    "    Input:\n",
    "        n: Número entero.\n",
    "    Output:\n",
    "        True: Si n es palíndromo.\n",
    "        False: Si no lo es.\n",
    "    \"\"\"\n",
    "    r=0              #Contador\n",
    "    p=n              #Variable temporal\n",
    "    while(n>0):\n",
    "        d=n%10       #Módulo para el último dígito\n",
    "        r=r*10+d     #Desplaza el último dígito al primer lugar\n",
    "        n=n//10      #División entera para el último dígito\n",
    "    if (p==r):\n",
    "        return(True)\n",
    "    else:\n",
    "        return(False)"
   ]
  },
  {
   "cell_type": "code",
   "execution_count": 8,
   "metadata": {},
   "outputs": [
    {
     "data": {
      "text/plain": [
       "False"
      ]
     },
     "execution_count": 8,
     "metadata": {},
     "output_type": "execute_result"
    }
   ],
   "source": [
    "palindromo(1111349111111)"
   ]
  },
  {
   "cell_type": "markdown",
   "metadata": {},
   "source": [
    "### 4. Término en la mitad de una cadena, número de vocales y consonantes, cadena invertida."
   ]
  },
  {
   "cell_type": "code",
   "execution_count": 56,
   "metadata": {},
   "outputs": [],
   "source": [
    "def caracter_med(cad):\n",
    "    \"\"\"\n",
    "    Función que encuentra el caracter en la mitad de una cadena.\n",
    "    input:\n",
    "        cad: Cadena.\n",
    "    Output:\n",
    "        True: Si el caractr de la mitad es una vocal.\n",
    "        False: Si es una consonante.\n",
    "    \"\"\"\n",
    "    m = len(cad)//2              #Número de caracteres en la cadena dividida entermanete por la mitad\n",
    "    if cad[m]=='a' or cad[m]=='e'or cad[m]=='i' or cad[m]=='o' or cad[m]=='u' \\\n",
    "    or cad[m]=='A'or cad[m]=='E' or cad[m]=='I' or cad[m]=='O'or cad[m]=='U':\n",
    "        return(True)\n",
    "    else:\n",
    "        return(False)\n",
    "        \n",
    "def cont_voc(cad):\n",
    "    \"\"\"\n",
    "    Función para contar vocales en una cadena.\n",
    "    Input:\n",
    "        cad: Cadena.\n",
    "    Output:\n",
    "        v: Cantidad de vocales.\n",
    "    \"\"\"\n",
    "    v = 0                    #Contador\n",
    "    for c in cad:\n",
    "        if c=='a' or c=='e'or c=='i' or c=='o' or c=='u' \\\n",
    "        or c=='A'or c=='E' or c=='I' or c=='O'or c=='U':\n",
    "            v=v+1\n",
    "    return v\n",
    "\n",
    "def cont_cons(cad):\n",
    "    \"\"\"\n",
    "    Función que cuenta las consonantes en una cadena.\n",
    "    Input:\n",
    "        cad: Cadena.\n",
    "    Output:\n",
    "        cn: Cantidad de consonantes.\n",
    "    \"\"\"\n",
    "    v = cont_voc(cad)        #Número de vocales\n",
    "    cn = len(cad) - v        #Nnúmero de caracteres menos las vocales\n",
    "    return cn\n",
    "\n",
    "def cad_inver(cad):\n",
    "    \"\"\"\n",
    "    Función que invierte los caracteres de una cadena.\n",
    "    Input:\n",
    "        cad: Cadena.\n",
    "    Output:\n",
    "        inver: Cadena invertida.\n",
    "    \"\"\"\n",
    "    inver = \"\"                  #Lista de cadena vacía\n",
    "    for l in cad:\n",
    "        inver = l + inver       #Añade las letras a la lista vacía\n",
    "    return inver\n",
    "\n",
    "def cadena(cad):\n",
    "    \"\"\"\n",
    "    Función que retorna todos los process realizados anteriormente.\n",
    "    \"\"\"\n",
    "    return[caracter_med(cad),cont_voc(cad),cont_cons(cad),cad_inver(cad)]"
   ]
  },
  {
   "cell_type": "code",
   "execution_count": 57,
   "metadata": {},
   "outputs": [
    {
     "data": {
      "text/plain": [
       "[True, 5, 5, 'ogaleicrum']"
      ]
     },
     "execution_count": 57,
     "metadata": {},
     "output_type": "execute_result"
    }
   ],
   "source": [
    "cadena('murcielago')"
   ]
  },
  {
   "cell_type": "markdown",
   "metadata": {},
   "source": [
    "### 5. n-ésimo término de la sucesión de Fibonacci."
   ]
  },
  {
   "cell_type": "code",
   "execution_count": 24,
   "metadata": {},
   "outputs": [],
   "source": [
    "def fibonacci(n):\n",
    "    \"\"\"\n",
    "    Función que calcula el n-ésimo término de la sucesión de fibonacci.\n",
    "    Input:\n",
    "        n: n-ésimo término, n pertenece a los naturales.\n",
    "    Output:\n",
    "        f(n): Valor de la sucesión en el n-ésimo término.\n",
    "    \"\"\"\n",
    "    f0=0                           #Primer Término de la sucesión \n",
    "    f1=1                           #Segundo término de la sucesión\n",
    "    if n==1:\n",
    "        return(f0)\n",
    "    elif n==1:\n",
    "        return(f1)\n",
    "    else:\n",
    "        for i in range(1,n):\n",
    "            fn = f0+f1             #Obtención del siguiente término\n",
    "            f0 = f1                \n",
    "            f1 = fn      \n",
    "        return (f1)"
   ]
  },
  {
   "cell_type": "code",
   "execution_count": 25,
   "metadata": {},
   "outputs": [
    {
     "data": {
      "text/plain": [
       "12586269025"
      ]
     },
     "execution_count": 25,
     "metadata": {},
     "output_type": "execute_result"
    }
   ],
   "source": [
    "fibonacci(50)"
   ]
  },
  {
   "cell_type": "markdown",
   "metadata": {},
   "source": [
    "### 6. Quicksort en un arreglo."
   ]
  },
  {
   "cell_type": "code",
   "execution_count": 139,
   "metadata": {},
   "outputs": [],
   "source": [
    "def quicksort(v):\n",
    "    \"\"\"\n",
    "    Función que ordena los elementos de un arreglo de menor a mayor.\n",
    "    Input:\n",
    "        v: Arreglo de números en desorden.\n",
    "    Output:\n",
    "        q(v): Arreglo ordenado de forma ascendente. \n",
    "    \"\"\"\n",
    "    L = v\n",
    "    for i in range(len(L)):\n",
    "        for j in range(len(L)-1):\n",
    "            a = L[i]                          # a es el término i-ésimo de la lista\n",
    "            b = L[j]                          # b es el término j-ésimo de la lista, j es menor que i.\n",
    "            if L[j] > L[i]:\n",
    "                L[i] = b                      # cuuando b es mayor que a, se cambian las posiciones\n",
    "                L[j] = a\n",
    "            else:\n",
    "                L[i] = a                      # si b es menor que a, se deja igual la posición de los términos\n",
    "                L[j] = b\n",
    "    print(L)"
   ]
  },
  {
   "cell_type": "code",
   "execution_count": 140,
   "metadata": {},
   "outputs": [
    {
     "name": "stdout",
     "output_type": "stream",
     "text": [
      "[11, 12, 12, 12, 22, 22, 22, 24, 31, 32, 41, 42, 232]\n"
     ]
    }
   ],
   "source": [
    "v = [22, 32, 42, 12, 22, 31, 41, 11, 12, 232, 24, 12, 22]\n",
    "w = quicksort(v)"
   ]
  },
  {
   "cell_type": "code",
   "execution_count": null,
   "metadata": {},
   "outputs": [],
   "source": []
  }
 ],
 "metadata": {
  "kernelspec": {
   "display_name": "Python 3",
   "language": "python",
   "name": "python3"
  },
  "language_info": {
   "codemirror_mode": {
    "name": "ipython",
    "version": 3
   },
   "file_extension": ".py",
   "mimetype": "text/x-python",
   "name": "python",
   "nbconvert_exporter": "python",
   "pygments_lexer": "ipython3",
   "version": "3.9.2"
  }
 },
 "nbformat": 4,
 "nbformat_minor": 4
}
