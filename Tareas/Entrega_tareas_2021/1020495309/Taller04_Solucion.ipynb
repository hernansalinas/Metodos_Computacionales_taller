{
  "nbformat": 4,
  "nbformat_minor": 0,
  "metadata": {
    "colab": {
      "name": "Taller04-Equations",
      "provenance": [],
      "collapsed_sections": []
    },
    "kernelspec": {
      "name": "python3",
      "display_name": "Python 3"
    },
    "language_info": {
      "name": "python"
    }
  },
  "cells": [
    {
      "cell_type": "code",
      "metadata": {
        "id": "koi0UXRMkqVh"
      },
      "source": [
        "import numpy as np\n",
        "from scipy import optimize\n",
        "import matplotlib.pylab as plt"
      ],
      "execution_count": 1,
      "outputs": []
    },
    {
      "cell_type": "markdown",
      "metadata": {
        "id": "xFExnU59rAzQ"
      },
      "source": [
        "**PUNTO 1**"
      ]
    },
    {
      "cell_type": "code",
      "metadata": {
        "colab": {
          "base_uri": "https://localhost:8080/"
        },
        "id": "b-HiPRmnlSBH",
        "outputId": "8577678c-4428-46ff-da19-6d7f62b2f2f7"
      },
      "source": [
        "#Hallar los ceros de la ecuación: exp(x)- 2 = cos(exp(x)-2), así nos queda la función f(x)= cos(exp(x)-2) - exp(x)+ 2\n",
        "\n",
        "Fx_1 = lambda x: np.exp(x)- 2\n",
        "Fx_2 = lambda x: np.cos(Fx_1(x))\n",
        "Fx = lambda x: Fx_2(x) - Fx_1(x)\n",
        "\n",
        "raiz_b = optimize.bisect(Fx,1,4) #Bisection Method\n",
        "raiz_n = optimize.newton(Fx,3)   #Newton-Raphson Method\n",
        "print(\"{},{}\".format(\"Raiz por el método de Bisección:\" , raiz_b))\n",
        "print(\"{},{}\".format(\"Raiz por el método de Newton-Raphson:\" , raiz_n))  \n",
        "print(\"{},{}\".format(\"Diferencia entre las raíces (raiz_b - raiz_n):\", raiz_b-raiz_n))"
      ],
      "execution_count": 29,
      "outputs": [
        {
          "output_type": "stream",
          "text": [
            "Raiz por el método de Bisección:,1.007623971657722\n",
            "Raiz por el método de Newton-Raphson:,1.0076239716581368\n",
            "Diferencia entre las raíces (raiz_b - raiz_n):,-4.147793219999585e-13\n"
          ],
          "name": "stdout"
        }
      ]
    },
    {
      "cell_type": "markdown",
      "metadata": {
        "id": "2mPz7XQWrHZe"
      },
      "source": [
        "**PUNTO 2**"
      ]
    },
    {
      "cell_type": "code",
      "metadata": {
        "colab": {
          "base_uri": "https://localhost:8080/"
        },
        "id": "yan_Qyl-rJtx",
        "outputId": "c660a3aa-f68e-413f-c033-4153a71d56b4"
      },
      "source": [
        "#Ecuacion: x(t) = (-2g/w^2) * ( (exp(wt)-exp(-wt))/2  ) - sen(wt)\n",
        "t = 1 # s\n",
        "g = 9.76 # m/s^2\n",
        "x = 0.51 # m\n",
        "\n",
        "ho_1 = lambda omega : (-2*g)/(omega**2 - x) * (np.exp(omega*t)-np.exp(-omega*t))/(2*x)\n",
        "ho_2 = lambda omega : -np.sin(-omega*t)/x\n",
        "ho = lambda omega : ho_1(omega) + ho_2(omega)\n",
        "\n",
        "raiz2_n = optimize.newton(ho,3)   #Newton-Raphson Method\n",
        "print(\"{},{}\".format(\"Raiz por el método de Newton-Raphson:\" , raiz2_n))"
      ],
      "execution_count": 46,
      "outputs": [
        {
          "output_type": "stream",
          "text": [
            "Raiz por el método de Newton-Raphson:,-3.6646626014709945e-17\n"
          ],
          "name": "stdout"
        }
      ]
    },
    {
      "cell_type": "markdown",
      "metadata": {
        "id": "YKSGGIsgvX0L"
      },
      "source": [
        "**PUNTO 3**"
      ]
    },
    {
      "cell_type": "code",
      "metadata": {
        "colab": {
          "base_uri": "https://localhost:8080/"
        },
        "id": "e9FzJpqAvaNC",
        "outputId": "a06fff80-6d94-4aa0-b56d-3164c07a46e2"
      },
      "source": [
        "# Ecuación: V = L*((pi*r^2)/2 - r^2*arcsen(h/r) - h*(r^2 - h^2)^(1/2))\n",
        "\n",
        "V = 12.4 #pies\n",
        "L = 10 #pies\n",
        "r = 1 #pies\n",
        "\n",
        "gh_1 = lambda h : (np.pi*0.5 - np.arcsin(h/r))* r**2 \n",
        "gh_2 = lambda h : - h*(r**2 - h**2)**(1/2)\n",
        "gh = lambda h : (L/V)*(gh_1(h) + gh_2(h))\n",
        "\n",
        "raiz3_n = optimize.newton(gh,0)   #Newton-Raphson Method\n",
        "print(\"{},{}\".format(\"La profundidad del agua es:\" , r - raiz3_n))"
      ],
      "execution_count": 53,
      "outputs": [
        {
          "output_type": "stream",
          "text": [
            "La profundidad del agua es:,1.1102119445993708e-08\n"
          ],
          "name": "stdout"
        }
      ]
    },
    {
      "cell_type": "markdown",
      "metadata": {
        "id": "pMDsHmOp1rLd"
      },
      "source": [
        "**PUNTO 4**"
      ]
    },
    {
      "cell_type": "code",
      "metadata": {
        "colab": {
          "base_uri": "https://localhost:8080/"
        },
        "id": "wweezck41pX5",
        "outputId": "d1a5127c-44b5-4cb2-973f-e7b72af7d824"
      },
      "source": [
        "#Valores dados, tenemos que llegar a que alpha = 33\n",
        "l = 89 #pulg\n",
        "h = 49 #pulg\n",
        "D = 55\n",
        "beta = 0.064*np.pi #11.5 grados en radianes\n",
        "#Definicion de ecuaciones con los valores dados\n",
        "A = l*np.sin(beta)\n",
        "B = l*np.cos(beta)\n",
        "C = (h+0.5*D)*np.sin(beta)-0.5*D*np.tan(beta)\n",
        "E = (h+0.5*D)*np.cos(beta)-0.5*D\n",
        "#Funcion General\n",
        "Function = lambda alpha: A*np.sin(alpha)*np.cos(alpha) + B*np.sin(alpha)**2 - C*np.cos(alpha) - E*np.sin(alpha)\n",
        "raiz_alpha = optimize.bisect(Function,0,5)\n",
        "raiz_grados = (180/np.pi)*raiz_alpha\n",
        "print(\"La raiz es:\", raiz_grados)\n",
        "#FIJEMONOS QUE DIO APROXIMADAMENTE 33grados, ASÍ QUE ACABAMOS DE COMPROBAR LO QUE NOS PIDEN."
      ],
      "execution_count": 23,
      "outputs": [
        {
          "output_type": "stream",
          "text": [
            "La raiz es: 32.97064403893084\n"
          ],
          "name": "stdout"
        }
      ]
    },
    {
      "cell_type": "markdown",
      "metadata": {
        "id": "DE55cqlf76MR"
      },
      "source": [
        "**PUNTO 5 - REPRODUCCIÓN DEL FRACTAL QUE SE HIZO EN LA CLASE CAMBIANDO UN POCO LAS FUNCIONES PARA EXPERIMENTAR**"
      ]
    },
    {
      "cell_type": "code",
      "metadata": {
        "colab": {
          "base_uri": "https://localhost:8080/",
          "height": 286
        },
        "id": "2ja8dp0J78yx",
        "outputId": "11efd1a2-a22b-48ed-823f-bb70b79bb931"
      },
      "source": [
        "from PIL import Image\n",
        "Npx_X = 80 #Numero de pixeles en x\n",
        "Npx_Y = 80 #Numero de pixeles en y\n",
        "\n",
        "image = Image.new(\"RGB\", (Npx_X, Npx_Y)) #Creacion de la imagen inicial\n",
        "\n",
        "npx = np.arange(0, Npx_X)\n",
        "npy = np.arange(0, Npx_Y)\n",
        "\n",
        "xmin = -1\n",
        "xmax = 1\n",
        "ymin = -1\n",
        "ymax = 1\n",
        "#Transformación al plano complejo en un rectangulo (xmin, xmax), (ymin, ymax)\n",
        "zx = npx * (xmax - xmin) / (Npx_X - 1)   + xmin\n",
        "zy = npy * (ymax-ymin) / (Npx_Y - 1) + ymin\n",
        "\n",
        "#Definicion  la funcion y las derivada \n",
        "def f(z): \n",
        "  return z**2 - 1\n",
        "\n",
        "def fp(z): \n",
        "  return 3*z**2\n",
        "\n",
        "h = 1E-4\n",
        "def fpn(z, h): \n",
        "  return (f(z+h)-f(z))/h\n",
        "a = 0.2\n",
        "Niteraciones = 120\n",
        "eps = 1E-8\n",
        "\n",
        "x = - 1\n",
        "for zx_ in zx:\n",
        "  x = x + 1 \n",
        "  y = -1\n",
        "  for zy_ in zy: \n",
        "      y = y + 1\n",
        "      Z_0 = complex(zx_, zy_)\n",
        "    \n",
        "      for i in range(0, Niteraciones): \n",
        "        Z = Z_0 - a * f(Z_0)/fp(Z_0)\n",
        "\n",
        "        if( abs(Z-Z_0)<= eps):\n",
        "          break \n",
        "          \n",
        "        Z_0 = Z\n",
        "      r, g, b = i % 4 *64 , i % 8 *16, i% 16* 16\n",
        "      \n",
        "      image.putpixel((x,y), (r,g,b) )\n",
        "plt.imshow(image)"
      ],
      "execution_count": 32,
      "outputs": [
        {
          "output_type": "execute_result",
          "data": {
            "text/plain": [
              "<matplotlib.image.AxesImage at 0x7f7eab11e750>"
            ]
          },
          "metadata": {
            "tags": []
          },
          "execution_count": 32
        },
        {
          "output_type": "display_data",
          "data": {
            "image/png": "[encoded data removed]",
            "text/plain": [
              "<Figure size 432x288 with 1 Axes>"
            ]
          },
          "metadata": {
            "tags": [],
            "needs_background": "light"
          }
        }
      ]
    }
  ]
}