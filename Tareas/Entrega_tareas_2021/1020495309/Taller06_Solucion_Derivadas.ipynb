{
  "nbformat": 4,
  "nbformat_minor": 0,
  "metadata": {
    "colab": {
      "name": "Taller06_Solucion_Derivadas",
      "provenance": [],
      "collapsed_sections": []
    },
    "kernelspec": {
      "name": "python3",
      "display_name": "Python 3"
    },
    "language_info": {
      "name": "python"
    }
  },
  "cells": [
    {
      "cell_type": "code",
      "metadata": {
        "id": "n5d3-bxESvL1"
      },
      "source": [
        "import numpy as np\n",
        "import sympy as sp\n",
        "import scipy as sc\n",
        "import pandas as pd\n",
        "from scipy import misc\n",
        "from scipy.misc import derivative\n",
        "from sympy import init_printing\n",
        "import matplotlib.pylab as plt"
      ],
      "execution_count": 3,
      "outputs": []
    },
    {
      "cell_type": "markdown",
      "metadata": {
        "id": "hvc60J_zUDyA"
      },
      "source": [
        "**PUNTO 1**"
      ]
    },
    {
      "cell_type": "code",
      "metadata": {
        "id": "u1ebomiaT422"
      },
      "source": [
        "#FUNCION PARA CALCULAR LA DERIVADA DE UN ARRAY (CON try Y except)\n",
        "def derivate(func,x0,**kwargs):\n",
        "    '''\n",
        "    Vectorized replacement of scipy.misc derivative:\n",
        "        from scipy.misc import derivative\n",
        "    For usage check the derivative help, e.g, in jupyter: \n",
        "        from scipy.misc import derivative\n",
        "        derivative?\n",
        "    '''\n",
        "    try:\n",
        "        #x0: can be an array or a list  \n",
        "        nn=np.asarray(x0).shape[0] # force error if float is used \n",
        "        fp=np.vectorize(misc.derivative)\n",
        "    except IndexError:\n",
        "        fp=misc.derivative\n",
        "        \n",
        "    return fp(func,x0,**kwargs)"
      ],
      "execution_count": null,
      "outputs": []
    },
    {
      "cell_type": "code",
      "metadata": {
        "id": "HpB7Nw48UQS0"
      },
      "source": [
        "t = np.array([1.00, 1.01, 1.02, 1.03, 1.04]) #tiempo [segundos]\n",
        "i = np.array([3.10, 3.12, 3.14, 3.18, 3.24]) #corriente [amperios]\n",
        "data = {\"tiempo\": t,\"corriente\": i}\n",
        "df = pd.DataFrame(data)"
      ],
      "execution_count": null,
      "outputs": []
    },
    {
      "cell_type": "code",
      "metadata": {
        "id": "FZ41JaiwVQCx"
      },
      "source": [
        "derivada_corriente = (df.corriente.values[1:]-df.corriente.values[:-1])/0.01  #0.01 es el paso del tiempo\n",
        "L = 0.98 #inductancia [herios]\n",
        "R = 0.142 #resistencia [ohms]\n",
        "V = L * derivada_corriente + R * df[\"corriente\"][:-1]"
      ],
      "execution_count": null,
      "outputs": []
    },
    {
      "cell_type": "code",
      "metadata": {
        "colab": {
          "base_uri": "https://localhost:8080/",
          "height": 283
        },
        "id": "Ce-S6GMVXN2v",
        "outputId": "d78867d4-9427-4d43-e4ea-da497b8a18af"
      },
      "source": [
        "plt.plot(df.tiempo, df.corriente,\"ro-\")"
      ],
      "execution_count": null,
      "outputs": [
        {
          "output_type": "execute_result",
          "data": {
            "text/plain": [
              "[<matplotlib.lines.Line2D at 0x7fa8f606f390>]"
            ]
          },
          "metadata": {},
          "execution_count": 23
        },
        {
          "output_type": "display_data",
          "data": {
            "image/png": "[encoded data removed]",
            "text/plain": [
              "<Figure size 432x288 with 1 Axes>"
            ]
          },
          "metadata": {
            "needs_background": "light"
          }
        }
      ]
    },
    {
      "cell_type": "code",
      "metadata": {
        "colab": {
          "base_uri": "https://localhost:8080/",
          "height": 283
        },
        "id": "YdIj9lI9V3OO",
        "outputId": "9cf104e5-b92d-4c01-fcfd-2af58dd352e4"
      },
      "source": [
        "plt.plot(df.tiempo[:-1], derivada_corriente,\"ro-\")"
      ],
      "execution_count": null,
      "outputs": [
        {
          "output_type": "execute_result",
          "data": {
            "text/plain": [
              "[<matplotlib.lines.Line2D at 0x7fa8f5fd3b10>]"
            ]
          },
          "metadata": {},
          "execution_count": 24
        },
        {
          "output_type": "display_data",
          "data": {
            "image/png": "[encoded data removed]",
            "text/plain": [
              "<Figure size 432x288 with 1 Axes>"
            ]
          },
          "metadata": {
            "needs_background": "light"
          }
        }
      ]
    },
    {
      "cell_type": "markdown",
      "metadata": {
        "id": "m8fklwUTUGqx"
      },
      "source": [
        "**PUNTO 2**\n"
      ]
    },
    {
      "cell_type": "code",
      "metadata": {
        "id": "hoCBd4PRUOMz"
      },
      "source": [
        "route = \"https://docs.google.com/spreadsheets/d/e/2PACX-1vT8btHZ-A6ChzV5Rx_CQmCzbhO10J7R6LvQAyHx9qOCoCDAL9RJgaGUATf2z5lTMo-SjByvrnaX02Cz/pub?output=csv\""
      ],
      "execution_count": 1,
      "outputs": []
    },
    {
      "cell_type": "code",
      "metadata": {
        "id": "dvpgYAOSUt61"
      },
      "source": [
        "df = pd.read_csv(route,\";\")"
      ],
      "execution_count": 16,
      "outputs": []
    },
    {
      "cell_type": "code",
      "metadata": {
        "id": "X96LA483U3D1"
      },
      "source": [
        "col = [\"Tiempo[ms]\", \"AnguloDeg\", \"AnguloRad\"]\n",
        "df = df.rename(columns = {'Tiempo (ms)':\"Tiempo[ms]\", 'Ángulo 1,':'AnguloDeg'}) #Renombrar las columnas\n"
      ],
      "execution_count": 17,
      "outputs": []
    },
    {
      "cell_type": "code",
      "metadata": {
        "id": "9WVgOSs5UNnE"
      },
      "source": [
        "eval_ = np.vectorize(eval) #Vectorizando la funcion \"eval\", para poderla usar sobre toda la columna\n",
        "df[\"AnguloDeg\"] = df[\"AnguloDeg\"].str.replace(\",\",\".\").astype(\"float64\")"
      ],
      "execution_count": 18,
      "outputs": []
    },
    {
      "cell_type": "code",
      "metadata": {
        "id": "IOrM-tVzWYpI"
      },
      "source": [
        "df[\"AnguloRad\"] = np.deg2rad(df[\"AnguloDeg\"].values)"
      ],
      "execution_count": 19,
      "outputs": []
    },
    {
      "cell_type": "code",
      "metadata": {
        "colab": {
          "base_uri": "https://localhost:8080/",
          "height": 283
        },
        "id": "DlLSAwyRW3yz",
        "outputId": "baee8918-a76e-4615-a9f7-5f8439eb31d4"
      },
      "source": [
        "plt.figure()\n",
        "plt.plot(df[\"Tiempo[ms]\"],df[\"AnguloRad\"],\"r.\")\n",
        "plt.xlim(0,30000)"
      ],
      "execution_count": 24,
      "outputs": [
        {
          "output_type": "execute_result",
          "data": {
            "text/plain": [
              "(0.0, 30000.0)"
            ]
          },
          "metadata": {},
          "execution_count": 24
        },
        {
          "output_type": "display_data",
          "data": {
            "image/png": "[encoded data removed]",
            "text/plain": [
              "<Figure size 432x288 with 1 Axes>"
            ]
          },
          "metadata": {
            "needs_background": "light"
          }
        }
      ]
    },
    {
      "cell_type": "code",
      "metadata": {
        "id": "GkktJsJYXs1e"
      },
      "source": [
        "#Como a medida que el tiempo aumenta el ángulo disminuye, se concluye que es un movimiento amortiguado"
      ],
      "execution_count": null,
      "outputs": []
    },
    {
      "cell_type": "code",
      "metadata": {
        "id": "IqlKQLd4X50s"
      },
      "source": [
        "from scipy.fft import fft,fftfreq"
      ],
      "execution_count": 25,
      "outputs": []
    },
    {
      "cell_type": "code",
      "metadata": {
        "colab": {
          "base_uri": "https://localhost:8080/",
          "height": 297
        },
        "id": "BhaUk4ENYEyB",
        "outputId": "12bf0068-7ebe-4e8b-c500-af51f7ad0668"
      },
      "source": [
        "tf = fft(df[\"AnguloRad\"].values) #Transformada de Fourier\n",
        "T = 33E-3 #Paso del tiempo\n",
        "N = len(df[\"Tiempo[ms]\"]) #Número de datos de tiempo\n",
        "xf = fftfreq(N, T)[:N//2] #Frecuencia\n",
        "plt.plot(xf[1:N//2],np.abs(tf[1:N//2]),\"o-\")\n",
        "plt.ylabel(\"TF\")\n",
        "plt.xlabel(\"Frecuencia\")\n",
        "plt.xlim(0.6,0.75) #Mejor en este intervalo, pues es donde se encuentra este pico (para el intervalo que propone el ejercicio el grafico se ve poco adecuado)"
      ],
      "execution_count": 34,
      "outputs": [
        {
          "output_type": "execute_result",
          "data": {
            "text/plain": [
              "(0.6, 0.75)"
            ]
          },
          "metadata": {},
          "execution_count": 34
        },
        {
          "output_type": "display_data",
          "data": {
            "image/png": "[encoded data removed]",
            "text/plain": [
              "<Figure size 432x288 with 1 Axes>"
            ]
          },
          "metadata": {
            "needs_background": "light"
          }
        }
      ]
    },
    {
      "cell_type": "code",
      "metadata": {
        "id": "XNMEpUByaC84"
      },
      "source": [
        "#Interpolación\n",
        "from scipy.interpolate import CubicSpline\n",
        "cs = CubicSpline(xf[1:N//2], np.abs(tf[1:N//2]))\n"
      ],
      "execution_count": 36,
      "outputs": []
    },
    {
      "cell_type": "code",
      "metadata": {
        "colab": {
          "base_uri": "https://localhost:8080/"
        },
        "id": "0HevUlnna1oc",
        "outputId": "55efec15-c440-4b7a-e389-1ddec3a403cf"
      },
      "source": [
        "#Minimo\n",
        "from scipy import optimize\n",
        "minimo = optimize.fmin_powell(cs, 0.2)\n",
        "abs(cs(minimo))"
      ],
      "execution_count": 45,
      "outputs": [
        {
          "output_type": "stream",
          "name": "stdout",
          "text": [
            "Optimization terminated successfully.\n",
            "         Current function value: 0.842280\n",
            "         Iterations: 4\n",
            "         Function evaluations: 71\n"
          ]
        },
        {
          "output_type": "execute_result",
          "data": {
            "text/plain": [
              "0.8422796094453178"
            ]
          },
          "metadata": {},
          "execution_count": 45
        }
      ]
    },
    {
      "cell_type": "code",
      "metadata": {
        "colab": {
          "base_uri": "https://localhost:8080/"
        },
        "id": "QVH_AmMbbPw_",
        "outputId": "af578a09-e487-4ff7-e5c2-3ff9d3401946"
      },
      "source": [
        "abs(cs(minimo))"
      ],
      "execution_count": 44,
      "outputs": [
        {
          "output_type": "execute_result",
          "data": {
            "text/plain": [
              "array(0.84227961)"
            ]
          },
          "metadata": {},
          "execution_count": 44
        }
      ]
    }
  ]
}