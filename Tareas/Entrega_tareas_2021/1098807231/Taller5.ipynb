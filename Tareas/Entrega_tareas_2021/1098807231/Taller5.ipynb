{
  "nbformat": 4,
  "nbformat_minor": 0,
  "metadata": {
    "colab": {
      "name": "Taller5.ipynb",
      "provenance": []
    },
    "kernelspec": {
      "name": "python3",
      "display_name": "Python 3"
    },
    "language_info": {
      "name": "python"
    }
  },
  "cells": [
    {
      "cell_type": "markdown",
      "metadata": {
        "id": "9_469lCEC9eD"
      },
      "source": [
        "Tarea 5  Natali André Julio Beltran CC.1098807231       Brayan Alejandro Murillo González CC. 1007338060   \n",
        "          "
      ]
    },
    {
      "cell_type": "code",
      "metadata": {
        "id": "X3NqKVl6fyL0"
      },
      "source": [
        "import numpy as np\n",
        "from scipy import optimize\n",
        "import matplotlib.pylab as plt\n",
        "import pandas as pd"
      ],
      "execution_count": 1,
      "outputs": []
    },
    {
      "cell_type": "markdown",
      "metadata": {
        "id": "D6hQjX2hM1oT"
      },
      "source": [
        "# Problemas \n",
        "\n",
        "#1. Area \n",
        "Hallar el área de un segmento circular cuya area sea igual a una cuarta parte del área del circulo. Para la solución se sugiere lo siguiente:\n",
        "\n",
        "a) Encontrar la ecuacion trascendental.\n",
        "\n",
        "b) Con la ecuación anterior, definir una funcion $f(\\theta)=0$. Emplee la funcion labmda de python.\n",
        "\n",
        "c) Construir una data frame de pandas con la columna \"theta\" con 1000 registros(filas) entre $[-2\\pi, 2\\pi]$. Sugerencia, para construir el data frame emplee la función linspace como sigue : np.linspace(-2\\*np.pi, 2\\*np.pi, 1000 )\n",
        "\n",
        "d) Construir una segunda columna titulada \"F_theta\" con los registros f(theta)\n",
        "\n",
        "f) Realice un gráfico de  \"F_theta\" vs \"theta\". Identifique el intervalo de la raiz.\n",
        "\n",
        "Estime el valor del ángulo empleando los siguientes metodos(Emplee  la documentacion):\n",
        "\n",
        "g) [Bisección](https://docs.scipy.org/doc/scipy/reference/generated/scipy.optimize.bisect.html)\n",
        "\n",
        "h) [Newton-Rapshon](https://docs.scipy.org/doc/scipy/reference/generated/scipy.optimize.newton.html)\n",
        "\n",
        "i) [Secante](https://docs.scipy.org/doc/scipy/reference/generated/scipy.optimize.newton.html) \n",
        "\n",
        "j) [Punto Fijo](https://docs.scipy.org/doc/scipy/reference/generated/scipy.optimize.fixed_point.html)\n"
      ]
    },
    {
      "cell_type": "markdown",
      "metadata": {
        "id": "TcNUGF0NGR3W"
      },
      "source": [
        "SOLUCIÓN"
      ]
    },
    {
      "cell_type": "markdown",
      "metadata": {
        "id": "wmJJ8TmWMTY6"
      },
      "source": [
        "![Captura.PNG](data:image/png;base64,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)"
      ]
    },
    {
      "cell_type": "markdown",
      "metadata": {
        "id": "ig_AXv07mG8E"
      },
      "source": [
        "\\begin{equation}\n",
        "b=r\\cos(\\theta/2) \\hspace{1cm}\n",
        "h= r\\sin(\\theta/2)\n",
        "\\end{equation}\n",
        "\n",
        "\\begin{equation}\n",
        "A_{triangulo}=2[\\frac{r^2}{2}cos(\\theta/2)sin(\\theta/2)]=\\frac{r^2 \\sin(\\theta)}{2}\n",
        "\\end{equation}\n",
        "\n",
        "\\begin{equation}\n",
        "A_{sector\\ circular}=\\frac{r^2 \\theta}{2}\n",
        "\\end{equation}\n",
        "\n",
        "\\begin{equation}\n",
        "A_{total}=A_{sector\\ circular}-A_{triangulo}=\\frac{r^2}{2}(\\theta-sin(\\theta))\n",
        "\\end{equation}\n",
        "\n",
        "\\begin{equation}\n",
        "A_{total}=\\frac{\\pi r^2}{4}=\\frac{r^2}{2}(\\theta-sin(\\theta)\n",
        "\\end{equation}\n",
        "\n",
        "\\begin{equation}\n",
        "f(\\theta)=\\theta-sin(\\theta)-\\frac{\\pi}{2}=0\\ (\\ ecuacion\\ trascendental)\n",
        "\\end{equation}\n",
        "\n",
        "\n",
        "\n"
      ]
    },
    {
      "cell_type": "markdown",
      "metadata": {
        "id": "xXDXwWEqCBp7"
      },
      "source": [
        "**Punto (b)**"
      ]
    },
    {
      "cell_type": "code",
      "metadata": {
        "id": "9ExSQbvngPdp"
      },
      "source": [
        "\"\"\"Funcion para hallar el area del segmento R de la figura cuando f(θ)=πr^2/4  \"\"\"\n",
        "f = lambda θ : θ-np.sin(θ)-np.pi*0.5\n",
        "\n",
        "\"\"\"Derivada de la funcion para el metodo de secante\"\"\"\n",
        "fprim = lambda θ: 1-np.cos(θ)\n"
      ],
      "execution_count": 2,
      "outputs": []
    },
    {
      "cell_type": "markdown",
      "metadata": {
        "id": "kZ4JtUlqCK3L"
      },
      "source": [
        "**Puntos (c) y (d)**"
      ]
    },
    {
      "cell_type": "code",
      "metadata": {
        "id": "RVV-kRdLhhZm"
      },
      "source": [
        "\n",
        "θ=np.linspace(-2*np.pi,2*np.pi,1000) # Array con 1000 valores de theta entre -2π y 2π\n",
        "\n",
        "\"\"\" Dataframe con los valores de θ y el area de la region R\"\"\"\n",
        "\n",
        "df = pd.DataFrame()\n",
        "df[\"Angulo\"] = θ\n",
        "df[\"Area\"] = f(θ)\n"
      ],
      "execution_count": 3,
      "outputs": []
    },
    {
      "cell_type": "markdown",
      "metadata": {
        "id": "P3LLMz5bCY6c"
      },
      "source": [
        "**Punto (f)**"
      ]
    },
    {
      "cell_type": "code",
      "metadata": {
        "colab": {
          "base_uri": "https://localhost:8080/",
          "height": 300
        },
        "id": "7dXzGUa97ov3",
        "outputId": "fff9a077-1daf-4743-fd43-18f8d12a6024"
      },
      "source": [
        "\"\"\" Grafico de la ecuacion trascendental como funcion de θ para hallar las raices \"\"\"\n",
        "\n",
        "plt.figure()\n",
        "plt.plot(df[\"Angulo\"], df[\"Area\"], label=\"$f(\\\\theta)$\" )\n",
        "plt.xlabel(\"$\\\\theta$\")\n",
        "plt.ylabel(\"f(θ)\")\n",
        "plt.axvline(x=1, color=\"gray\") # Linea vertical para identificar el intervalo\n",
        "plt.axvline(x=3,color=\"gray\")\n",
        "plt.legend()\n",
        "plt.grid()\n",
        "plt.show()\n",
        "\n",
        "\n",
        "\"\"\" El intervalo se encuentra entre θ=1 , θ=3\"\"\""
      ],
      "execution_count": 4,
      "outputs": [
        {
          "output_type": "display_data",
          "data": {
            "image/png": "[encoded data removed]",
            "text/plain": [
              "<Figure size 432x288 with 1 Axes>"
            ]
          },
          "metadata": {
            "tags": [],
            "needs_background": "light"
          }
        },
        {
          "output_type": "execute_result",
          "data": {
            "application/vnd.google.colaboratory.intrinsic+json": {
              "type": "string"
            },
            "text/plain": [
              "' El intervalo se encuentra entre θ=1 , θ=3'"
            ]
          },
          "metadata": {
            "tags": []
          },
          "execution_count": 4
        }
      ]
    },
    {
      "cell_type": "markdown",
      "metadata": {
        "id": "SarbyUB4Cfbi"
      },
      "source": [
        "**Puntos (g), (h), (i), (j)**"
      ]
    },
    {
      "cell_type": "code",
      "metadata": {
        "id": "ySJetgxDMdUx"
      },
      "source": [
        "\"\"\"Raices mediante los distintos metodos\"\"\"\n",
        "\n",
        "root = optimize.newton(f,2,fprime=None )   # Metodo de Newton\n",
        "root1 = optimize.newton(f,2,fprime=fprim ) # Medoto de Secante\n",
        "root2 = optimize.bisect(f,1,3)             # Metodo de Biseccion\n",
        "#root3=optimize.fixed_point(f,2) No pude solucionar el problema de por que no encuentra la raiz con este método\n",
        "\n",
        "\"\"\"Diccionario con los metodos empleados y sus respectivas raices\"\"\"\n",
        "d = {\"M.Newton\":root, \"M.Secant\":root1, \"M.bisect\":root2}"
      ],
      "execution_count": 5,
      "outputs": []
    },
    {
      "cell_type": "markdown",
      "metadata": {
        "id": "kRSZ4QQOM_kv"
      },
      "source": [
        "# 2. Movimiento de proyectiles en presencia de viento.\n",
        "\n",
        "Supongamos que un proyectil es lanzado desde el origen con una rapidez $v=vo( \\cos \\theta , \\sin \\theta) $. Supongamos además que el efecto del viento sobre el proyectil es el de una fuerza proporcional a la velocidad relativa entre el viento y el proyectil. Teniendo presente que si $u$ es la velocidad del viento y $\\alpha$ el ángulo que hace dirección de esta velocidad con el eje x, se puede entrontrar las siguientes ecuaciones diferenciales, asociada al estado de movimiento del [proyectil](https://iopscience.iop.org/article/10.1088/0143-0807/36/2/025016/meta):\n",
        "\n",
        "\n",
        "\\begin{equation}\n",
        "m\\frac{dv_x}{dt} = -mb(v_x-u\\cos \\alpha )\n",
        "\\end{equation}\n",
        "\n",
        "\\begin{equation}\n",
        "m\\frac{dv_y}{dt} = -mg-mb(v_x-u\\sin \\alpha ),\n",
        "\\end{equation}\n",
        "\n",
        "donde b es el párametro de rozamiento. La soluciones a las ecuaciones anteriores vienen dadas por:\n",
        "\n",
        "Posición en x\n",
        "\\begin{equation}\n",
        "x=(u\\cos \\alpha) t + \\frac{1}{b} (v_0\\cos \\theta_0 -u \\cos\\alpha)(1-\\mathrm{exp}(-bt))\n",
        "\\end{equation}\n",
        "\n",
        "Posicion en y \n",
        "\\begin{equation}\n",
        "y= \\frac{1}{b}\\left(\\frac{g}{b}+v_0 \\sin \\theta_0 -u\\sin\\alpha \\right)(1-\\mathrm{exp}(-bt))-\\left( \\frac{g}{b}-u\\sin\\alpha\\right)t\n",
        "\\end{equation}\n",
        "\n",
        "Ver imagen:  http://www.sc.ehu.es/sbweb/fisica3/fluidos/viento/parabolico.html\n",
        "\n",
        "\n",
        "0. Establezca las siguietnes condiciones inciales.\n",
        "\n",
        "```\n",
        "#Parametros iniciales\n",
        "\n",
        "v0 = 60 #Velocidad en m/s\n",
        "alpha = np.pi #Angulo del viento\n",
        "theta = np.deg2rad(45) #Angulo de lanzamiento\n",
        "u = v0/2             #rapidez del viento\n",
        "b = 0.05             #Parametro de friccion \n",
        "g = 9.8                #Aceleracion de la gravedad m/s2\n",
        "\n",
        "Params = (alpha, v0, b, u,g)  #Parametros en tupla.\n",
        "\n",
        "```\n",
        "\n",
        "\n",
        "\n",
        "1. Defina dos funciones, una para x y otra para y. \n",
        "\n",
        "```\n",
        "\n",
        "#Posicion en x\n",
        "def pos_x(t, theta, alpha, v0, b, u,g):\n",
        "  x = #escriba aca la expresión\n",
        "  return x\n",
        "\n",
        "#Posicion en y\n",
        "def pos_y(t, theta, alpha, v0, b, u,g):\n",
        "\n",
        "\n",
        "  y = #escriba aca la expresión\n",
        "  return y \n",
        "\n",
        "```\n",
        "\n",
        "2. Construya un diccionario con las claves \"X\", \"Y\", \"Tiempo\"\n",
        "\n",
        "3. Con el diccionario construya un data frame de pandas llamado df con los nombres de columnas \"X\", \"Y\", \"Tiempo\"  https://pandas.pydata.org/docs/reference/api/pandas.DataFrame.from_dict.html. Defina 1000 registros para el intervalo de tiempo elegido.\n",
        "\n",
        "\n",
        "4. Realice un gráfico de x como función del tiempo, de y como función del tiempo y la trayectoria de la partícula (df[\"X\"], df[\"tiempo\"], df[\"Y\"]).\n",
        "\n",
        "\n",
        "5. Determine el alcance máximo de la partícula, para ello tome  la solucion teórica con $y=0$, solucione numéricamente la ecuación para t y remplace este valor en la ecuación para x. Resuelvalo para $\\theta=45^{o}$.  \n",
        "\n",
        "6. Construya una  grafica del alcance máximo R como función de $\\theta$, varie $\\theta$  entre 10 y 90 grados cada 5 grados.\n",
        "\n",
        "7. Realice una interpolacion de R como función de theta."
      ]
    },
    {
      "cell_type": "markdown",
      "metadata": {
        "id": "nGfuWJrAEdOS"
      },
      "source": [
        "**Punto 0**"
      ]
    },
    {
      "cell_type": "code",
      "metadata": {
        "id": "B3Bf8F9mNCl3"
      },
      "source": [
        "\"\"\" Parametros Iniciales \"\"\"\n",
        "\n",
        "v0 = 60                #Velocidad en m/s\n",
        "alpha = np.pi          #Angulo del viento\n",
        "theta = np.deg2rad(45) #Angulo de lanzamiento\n",
        "u = v0/2               #rapidez del viento\n",
        "b = 0.05               #Parametro de friccion \n",
        "g = 9.8                #Aceleracion de la gravedad m/s2\n",
        "\n",
        "params = (alpha,v0, b, u,g) # Tupla con los parametros iniciales"
      ],
      "execution_count": 6,
      "outputs": []
    },
    {
      "cell_type": "markdown",
      "metadata": {
        "id": "YAM6rVBdA2vY"
      },
      "source": [
        "**Punto 1**"
      ]
    },
    {
      "cell_type": "code",
      "metadata": {
        "id": "vYm0F__WNiWf"
      },
      "source": [
        "\n",
        "\n",
        "\"\"\"Funcion para la posicion en X \"\"\"\n",
        "def pos_x(t,*args):\n",
        "\n",
        "  T1 = u*np.cos(alpha)*t\n",
        "  T2 = (1./b)*(v0*np.cos(theta) - u*np.cos(alpha) )\n",
        "  T3 = (1 - np.e**(-b*t))\n",
        "\n",
        "  return T1+T2*T3\n",
        "\n",
        "\"\"\" Funcion para la posicion en  Y \"\"\"\n",
        "def pos_y(t, *args):\n",
        " \n",
        "  T1 = (1./b)*(g/b + v0*np.sin(theta) - u*np.sin(alpha) ) #termino 1\n",
        "  T2 = (1 - np.e**(- b * t)) #termino 2\n",
        "  T3 = (g / b - u *  np.sin(alpha))*t #termino 3\n",
        "  y = T1*T2-T3\n",
        "  return y \n",
        "\n"
      ],
      "execution_count": 7,
      "outputs": []
    },
    {
      "cell_type": "markdown",
      "metadata": {
        "id": "HRhjT2auBEBT"
      },
      "source": [
        "**Punto 2 y 3**"
      ]
    },
    {
      "cell_type": "code",
      "metadata": {
        "colab": {
          "base_uri": "https://localhost:8080/",
          "height": 424
        },
        "id": "xn06fWJ8BBH7",
        "outputId": "e804b81b-5476-465d-cc20-57feb0a71845"
      },
      "source": [
        "t = np.linspace(0,10,1000) # Array con mil datos entre 0 y 10 para el tiempo}\n",
        "\n",
        "variables={\"X\":pos_x(t,params),\"Y\":pos_y(t,params),\"Tiempo\":t} # Diccionario con las claves de Posicion X, Posicion Y, Tiempo\n",
        "\n",
        "\"\"\" Dataframe con los datos de Posicion X, Posicion Y, Tiempo \"\"\"\n",
        "df = pd.DataFrame(variables)\n",
        "df"
      ],
      "execution_count": 8,
      "outputs": [
        {
          "output_type": "execute_result",
          "data": {
            "text/html": [
              "<div>\n",
              "<style scoped>\n",
              "    .dataframe tbody tr th:only-of-type {\n",
              "        vertical-align: middle;\n",
              "    }\n",
              "\n",
              "    .dataframe tbody tr th {\n",
              "        vertical-align: top;\n",
              "    }\n",
              "\n",
              "    .dataframe thead th {\n",
              "        text-align: right;\n",
              "    }\n",
              "</style>\n",
              "<table border=\"1\" class=\"dataframe\">\n",
              "  <thead>\n",
              "    <tr style=\"text-align: right;\">\n",
              "      <th></th>\n",
              "      <th>X</th>\n",
              "      <th>Y</th>\n",
              "      <th>Tiempo</th>\n",
              "    </tr>\n",
              "  </thead>\n",
              "  <tbody>\n",
              "    <tr>\n",
              "      <th>0</th>\n",
              "      <td>0.000000</td>\n",
              "      <td>0.000000</td>\n",
              "      <td>0.00000</td>\n",
              "    </tr>\n",
              "    <tr>\n",
              "      <th>1</th>\n",
              "      <td>0.424507</td>\n",
              "      <td>0.424092</td>\n",
              "      <td>0.01001</td>\n",
              "    </tr>\n",
              "    <tr>\n",
              "      <th>2</th>\n",
              "      <td>0.848652</td>\n",
              "      <td>0.846989</td>\n",
              "      <td>0.02002</td>\n",
              "    </tr>\n",
              "    <tr>\n",
              "      <th>3</th>\n",
              "      <td>1.272434</td>\n",
              "      <td>1.268694</td>\n",
              "      <td>0.03003</td>\n",
              "    </tr>\n",
              "    <tr>\n",
              "      <th>4</th>\n",
              "      <td>1.695854</td>\n",
              "      <td>1.689205</td>\n",
              "      <td>0.04004</td>\n",
              "    </tr>\n",
              "    <tr>\n",
              "      <th>...</th>\n",
              "      <td>...</td>\n",
              "      <td>...</td>\n",
              "      <td>...</td>\n",
              "    </tr>\n",
              "    <tr>\n",
              "      <th>995</th>\n",
              "      <td>269.391938</td>\n",
              "      <td>-81.678639</td>\n",
              "      <td>9.95996</td>\n",
              "    </tr>\n",
              "    <tr>\n",
              "      <th>996</th>\n",
              "      <td>269.532136</td>\n",
              "      <td>-82.190486</td>\n",
              "      <td>9.96997</td>\n",
              "    </tr>\n",
              "    <tr>\n",
              "      <th>997</th>\n",
              "      <td>269.672115</td>\n",
              "      <td>-82.703059</td>\n",
              "      <td>9.97998</td>\n",
              "    </tr>\n",
              "    <tr>\n",
              "      <th>998</th>\n",
              "      <td>269.811873</td>\n",
              "      <td>-83.216357</td>\n",
              "      <td>9.98999</td>\n",
              "    </tr>\n",
              "    <tr>\n",
              "      <th>999</th>\n",
              "      <td>269.951411</td>\n",
              "      <td>-83.730380</td>\n",
              "      <td>10.00000</td>\n",
              "    </tr>\n",
              "  </tbody>\n",
              "</table>\n",
              "<p>1000 rows × 3 columns</p>\n",
              "</div>"
            ],
            "text/plain": [
              "              X          Y    Tiempo\n",
              "0      0.000000   0.000000   0.00000\n",
              "1      0.424507   0.424092   0.01001\n",
              "2      0.848652   0.846989   0.02002\n",
              "3      1.272434   1.268694   0.03003\n",
              "4      1.695854   1.689205   0.04004\n",
              "..          ...        ...       ...\n",
              "995  269.391938 -81.678639   9.95996\n",
              "996  269.532136 -82.190486   9.96997\n",
              "997  269.672115 -82.703059   9.97998\n",
              "998  269.811873 -83.216357   9.98999\n",
              "999  269.951411 -83.730380  10.00000\n",
              "\n",
              "[1000 rows x 3 columns]"
            ]
          },
          "metadata": {
            "tags": []
          },
          "execution_count": 8
        }
      ]
    },
    {
      "cell_type": "markdown",
      "metadata": {
        "id": "VjS4QuzzBNTr"
      },
      "source": [
        "**Punto 4**"
      ]
    },
    {
      "cell_type": "code",
      "metadata": {
        "colab": {
          "base_uri": "https://localhost:8080/",
          "height": 442
        },
        "id": "5g5jVDjvS2cJ",
        "outputId": "fadbb4c1-3b0a-4aae-e576-b2b7808283de"
      },
      "source": [
        "\n",
        "\"\"\" Grafica de la posicion X en funcion del tiempo \"\"\"\n",
        "\n",
        "plt.figure(figsize=(20,7)) # Tamaño de la grafica\n",
        "plt.subplot(131)           # Para mostrar varias graficas\n",
        "plt.plot(df[\"Tiempo\"],df[\"X\"],label=\"Pos_x\")  # Puntos a graficar\n",
        "plt.xlabel(\"Tiempo [s]\")  # Nombre del eje x\n",
        "plt.ylabel(\"X [m]\")       # Nombre del eje y\n",
        "plt.legend()\n",
        "plt.grid()                # Cuadricula en la grafica\n",
        "\n",
        "\"\"\" Grafica de la posicion Y en funcion del tiempo \"\"\"\n",
        "plt.subplot(132)\n",
        "plt.plot(df[\"Tiempo\"],df[\"Y\"],label=\"Pos_Y\",color=\"orange\")\n",
        "plt.xlabel(\"Tiempo[s]\")\n",
        "plt.ylabel(\"Y [m]\")\n",
        "plt.legend()\n",
        "plt.grid()\n",
        "\n",
        "\"\"\" Grafica de la trayectoria del proyectil \"\"\"\n",
        "plt.subplot(133)\n",
        "plt.plot(df[\"X\"],df[\"Y\"],label=\"Trayectoria\",color=\"red\")\n",
        "plt.xlabel(\"X [m])\")\n",
        "plt.ylabel(\"Y [m]\")\n",
        "plt.legend()\n",
        "plt.grid()\n"
      ],
      "execution_count": 9,
      "outputs": [
        {
          "output_type": "display_data",
          "data": {
            "image/png": "[encoded data removed]",
            "text/plain": [
              "<Figure size 1440x504 with 3 Axes>"
            ]
          },
          "metadata": {
            "tags": [],
            "needs_background": "light"
          }
        }
      ]
    },
    {
      "cell_type": "markdown",
      "metadata": {
        "id": "Xo73PF6xBlcL"
      },
      "source": [
        "**Punto 5**"
      ]
    },
    {
      "cell_type": "code",
      "metadata": {
        "colab": {
          "base_uri": "https://localhost:8080/"
        },
        "id": "zYdsPN8WWnzP",
        "outputId": "6d299030-971c-408a-a09c-4bf3c8754115"
      },
      "source": [
        "\"\"\" El tiempo de vuelo corresponde a el valor de t en el que y=0, hay dos puntos en los que y vale 0, en t=0 y al final del vuelo\"\"\"\n",
        "\n",
        "\n",
        "t_vuelo = optimize.newton(pos_y,8,fprime=None) # Igualando la funcion de pos_y=0 y hallando t con el metodo de newton encontramos el tiempo de vuelo\n",
        "\n",
        "x_max = pos_x(t_vuelo)  # El alcance maximo en x corresponde a la funcion pos_x evaluada en t=t_vuelo\n",
        "\n",
        "print(\"El alcance maximo en X es de : %f\" %(x_max))\n",
        "\n",
        "\n"
      ],
      "execution_count": 10,
      "outputs": [
        {
          "output_type": "stream",
          "text": [
            "El alcance maximo en X es de : 239.606149\n"
          ],
          "name": "stdout"
        }
      ]
    },
    {
      "cell_type": "markdown",
      "metadata": {
        "id": "yXYIHbxvBqE6"
      },
      "source": [
        "**Punto 6**"
      ]
    },
    {
      "cell_type": "code",
      "metadata": {
        "colab": {
          "base_uri": "https://localhost:8080/",
          "height": 583
        },
        "id": "p5-YCSrPq1MK",
        "outputId": "cef1dbeb-56a0-4dde-acc4-4e86d08a6f60"
      },
      "source": [
        "\n",
        "theta=np.arange(np.deg2rad(10),np.deg2rad(95),np.deg2rad(5)) # Array de valores de tetha entre 10° y 90 ° con un intervalo de 5°\n",
        "t=np.linspace(0,20,1000) # Array de 1000 valores de t de 0 a 20\n",
        "\n",
        "\n",
        "times=np.zeros(len(theta)) # Array para almacenar tiempos de vuelo variando el angulo inicial\n",
        "xmax=np.zeros(len(theta))  # Array para almacenar distancias maximas variando el angulo inicial\n",
        "\n",
        "\n",
        "\n",
        "\"\"\" Como se necesita variar theta de 10 a 90° se construye un ciclo for donde i toma los valores de theta y los remplaza en la funcion de pos_x y pos_y\"\"\"\n",
        "\n",
        "\n",
        "\"\"\" En cada ciclo se iguala la pos_y con su respectivo theta, a 0, esto con el fin de hallar el tiempo de vuelo\"\"\"\n",
        "\n",
        "\"\"\" Para hallar el X0 de los metodos de optimize.newton, se estima partiendo de el tiempo de vuelo suponiendo que no hay rozamiento del aire,\n",
        " cerca de este punto debe encontrarse la raiz buscada\"\"\"\n",
        "\n",
        "\n",
        "count=-1 # Contador que indicara el indice para ir agregando los tiempos de vuelo: t_vuelo y x_max a los arrays times, xmax\n",
        "for i in theta:\n",
        "  count=count+1\n",
        "\n",
        "  \"\"\"Funcion pos_y donde i=θ0 ira variando\"\"\"\n",
        "  def pos_y(t,*args):\n",
        "    T1 = (1./b)*(g/b + v0*np.sin(i) - u*np.sin(alpha) ) #termino 1\n",
        "    T2 = (1 - np.e**(- b * t)) #termino 2\n",
        "    T3 = (g / b - u *  np.sin(alpha))*t #termino 3\n",
        "    y =T1*T2-T3\n",
        "    return (y)\n",
        "\n",
        "  tv=2*v0*np.sin(i)/g # Tiempo de vuelo sin rozamiento\n",
        "  t_vuelo=optimize.newton(pos_y,tv,args=(params)) # Tiempo de vuelo con un θ0 especifico\n",
        "  times[count]=t_vuelo  # Se almacenan los tiempos de vuelo en un array\n",
        "\n",
        "  \"\"\"Funcion pos_x donde i=θ0 ira variando\"\"\"\n",
        "  def pos_x(t,*args):\n",
        "    T1=u*np.cos(alpha)*t\n",
        "    T2=(1./b)*(v0*np.cos(i) - u*np.cos(alpha) )\n",
        "    T3 = (1 - np.e**(-b*t))\n",
        "    x=T1+T2*T3\n",
        "    return x\n",
        "    \n",
        "  xmax[count]=pos_x(tv,params) # Se almacena el alcance maximo en un array, donde xmax es el valor de la funcion con el angulo expecifico evaluado en t_vuelo\n",
        "\n",
        "\n",
        "d={\"Angulo\":np.rad2deg(theta),\"xmax\":xmax,\"T_vuelo\":times} # Diccionario con los angulos, alcances maximos y tiempos de vuelo\n",
        "df=pd.DataFrame(d)\n",
        "df\n",
        "\n"
      ],
      "execution_count": 11,
      "outputs": [
        {
          "output_type": "execute_result",
          "data": {
            "text/html": [
              "<div>\n",
              "<style scoped>\n",
              "    .dataframe tbody tr th:only-of-type {\n",
              "        vertical-align: middle;\n",
              "    }\n",
              "\n",
              "    .dataframe tbody tr th {\n",
              "        vertical-align: top;\n",
              "    }\n",
              "\n",
              "    .dataframe thead th {\n",
              "        text-align: right;\n",
              "    }\n",
              "</style>\n",
              "<table border=\"1\" class=\"dataframe\">\n",
              "  <thead>\n",
              "    <tr style=\"text-align: right;\">\n",
              "      <th></th>\n",
              "      <th>Angulo</th>\n",
              "      <th>xmax</th>\n",
              "      <th>T_vuelo</th>\n",
              "    </tr>\n",
              "  </thead>\n",
              "  <tbody>\n",
              "    <tr>\n",
              "      <th>0</th>\n",
              "      <td>10.0</td>\n",
              "      <td>115.918015</td>\n",
              "      <td>2.089913</td>\n",
              "    </tr>\n",
              "    <tr>\n",
              "      <th>1</th>\n",
              "      <td>15.0</td>\n",
              "      <td>162.709800</td>\n",
              "      <td>3.089693</td>\n",
              "    </tr>\n",
              "    <tr>\n",
              "      <th>2</th>\n",
              "      <td>20.0</td>\n",
              "      <td>200.760140</td>\n",
              "      <td>4.051319</td>\n",
              "    </tr>\n",
              "    <tr>\n",
              "      <th>3</th>\n",
              "      <td>25.0</td>\n",
              "      <td>229.485905</td>\n",
              "      <td>4.969343</td>\n",
              "    </tr>\n",
              "    <tr>\n",
              "      <th>4</th>\n",
              "      <td>30.0</td>\n",
              "      <td>248.597420</td>\n",
              "      <td>5.838759</td>\n",
              "    </tr>\n",
              "    <tr>\n",
              "      <th>5</th>\n",
              "      <td>35.0</td>\n",
              "      <td>258.075567</td>\n",
              "      <td>6.654990</td>\n",
              "    </tr>\n",
              "    <tr>\n",
              "      <th>6</th>\n",
              "      <td>40.0</td>\n",
              "      <td>258.144759</td>\n",
              "      <td>7.413869</td>\n",
              "    </tr>\n",
              "    <tr>\n",
              "      <th>7</th>\n",
              "      <td>45.0</td>\n",
              "      <td>249.243712</td>\n",
              "      <td>8.111627</td>\n",
              "    </tr>\n",
              "    <tr>\n",
              "      <th>8</th>\n",
              "      <td>50.0</td>\n",
              "      <td>231.995546</td>\n",
              "      <td>8.744883</td>\n",
              "    </tr>\n",
              "    <tr>\n",
              "      <th>9</th>\n",
              "      <td>55.0</td>\n",
              "      <td>207.178402</td>\n",
              "      <td>9.310630</td>\n",
              "    </tr>\n",
              "    <tr>\n",
              "      <th>10</th>\n",
              "      <td>60.0</td>\n",
              "      <td>175.697372</td>\n",
              "      <td>9.806233</td>\n",
              "    </tr>\n",
              "    <tr>\n",
              "      <th>11</th>\n",
              "      <td>65.0</td>\n",
              "      <td>138.558261</td>\n",
              "      <td>10.229417</td>\n",
              "    </tr>\n",
              "    <tr>\n",
              "      <th>12</th>\n",
              "      <td>70.0</td>\n",
              "      <td>96.843421</td>\n",
              "      <td>10.578262</td>\n",
              "    </tr>\n",
              "    <tr>\n",
              "      <th>13</th>\n",
              "      <td>75.0</td>\n",
              "      <td>51.689720</td>\n",
              "      <td>10.851205</td>\n",
              "    </tr>\n",
              "    <tr>\n",
              "      <th>14</th>\n",
              "      <td>80.0</td>\n",
              "      <td>4.268515</td>\n",
              "      <td>11.047030</td>\n",
              "    </tr>\n",
              "    <tr>\n",
              "      <th>15</th>\n",
              "      <td>85.0</td>\n",
              "      <td>-44.232577</td>\n",
              "      <td>11.164872</td>\n",
              "    </tr>\n",
              "    <tr>\n",
              "      <th>16</th>\n",
              "      <td>90.0</td>\n",
              "      <td>-92.626421</td>\n",
              "      <td>11.204210</td>\n",
              "    </tr>\n",
              "  </tbody>\n",
              "</table>\n",
              "</div>"
            ],
            "text/plain": [
              "    Angulo        xmax    T_vuelo\n",
              "0     10.0  115.918015   2.089913\n",
              "1     15.0  162.709800   3.089693\n",
              "2     20.0  200.760140   4.051319\n",
              "3     25.0  229.485905   4.969343\n",
              "4     30.0  248.597420   5.838759\n",
              "5     35.0  258.075567   6.654990\n",
              "6     40.0  258.144759   7.413869\n",
              "7     45.0  249.243712   8.111627\n",
              "8     50.0  231.995546   8.744883\n",
              "9     55.0  207.178402   9.310630\n",
              "10    60.0  175.697372   9.806233\n",
              "11    65.0  138.558261  10.229417\n",
              "12    70.0   96.843421  10.578262\n",
              "13    75.0   51.689720  10.851205\n",
              "14    80.0    4.268515  11.047030\n",
              "15    85.0  -44.232577  11.164872\n",
              "16    90.0  -92.626421  11.204210"
            ]
          },
          "metadata": {
            "tags": []
          },
          "execution_count": 11
        }
      ]
    },
    {
      "cell_type": "code",
      "metadata": {
        "colab": {
          "base_uri": "https://localhost:8080/",
          "height": 357
        },
        "id": "OZ17LoJ4Gtz8",
        "outputId": "2224be0b-4290-4d02-d18d-551edbab6ac7"
      },
      "source": [
        "\"\"\" Grafica del alcance maximo en funcion de theta, matplotlib une los pares ordenados [θ,xmax] como una funcion continua pero son pares ordenados\"\"\"\n",
        "\n",
        "plt.figure(figsize=(10,5))\n",
        "plt.plot(df[\"Angulo\"],df[\"xmax\"],label=(\"$X_{max}(\\\\theta)$\"))\n",
        "plt.legend()\n",
        "plt.xlabel=(\"$\\\\theta$\")\n",
        "plt.ylabel=(\"$X_{max}(\\\\theta)$\")\n",
        "plt.grid()\n",
        "\n",
        "\"\"\" Se observa que a medida que crece θ llega a un punto de alcance maximo aproximadamente de 250, luego el viento empieza a arrastrar el\n",
        " proyectil haciendo que caiga cada vez mas atrás hasta que en 90 grados el proyectil cae mas atrás de donde se lanzo, en un  x negativo\"\"\"\n"
      ],
      "execution_count": 12,
      "outputs": [
        {
          "output_type": "execute_result",
          "data": {
            "application/vnd.google.colaboratory.intrinsic+json": {
              "type": "string"
            },
            "text/plain": [
              "' Se observa que a medida que crece θ llega a un punto de alcance maximo aproximadamente de 250, luego el viento empieza a arrastrar el\\n proyectil haciendo que caiga cada vez mas atrás hasta que en 90 grados el proyectil cae mas atrás de donde se lanzo, en un  x negativo'"
            ]
          },
          "metadata": {
            "tags": []
          },
          "execution_count": 12
        },
        {
          "output_type": "display_data",
          "data": {
            "image/png": "[encoded data removed]",
            "text/plain": [
              "<Figure size 720x360 with 1 Axes>"
            ]
          },
          "metadata": {
            "tags": [],
            "needs_background": "light"
          }
        }
      ]
    },
    {
      "cell_type": "markdown",
      "metadata": {
        "id": "vk0pYTjeBzd0"
      },
      "source": [
        "**Punto 7**"
      ]
    },
    {
      "cell_type": "code",
      "metadata": {
        "colab": {
          "base_uri": "https://localhost:8080/",
          "height": 302
        },
        "id": "H28KNeR4I9MY",
        "outputId": "f8c39381-d5f1-48d8-8f4d-9fd1b06d3e52"
      },
      "source": [
        "\n",
        "\n",
        "poli=np.polyfit(df[\"Angulo\"],df[\"xmax\"],deg=2) # Ajuste polinomial para los pares ordenados [θ,xmax], esta funcion devuelve los coeficientes en un polinomio de grado 2\n",
        "\n",
        "poli=np.poly1d(poli,variable=\"θ\") # Representacion polinomial de los valores de los coeficientes en un polinomio donde la variable es θ\n",
        "\n",
        "print(poli)\n",
        "\n",
        "\"\"\"Grafica del ajuste polinomial y los pares ordenados [θ,xmax], se observa que el polinomio se ajusta bien a todos los pares ordenados\"\"\"\n",
        "\n",
        "plt.plot(df[\"Angulo\"],poli(df[\"Angulo\"]))\n",
        "plt.plot(df[\"Angulo\"],df[\"xmax\"],\"ro\",color=\"red\")\n",
        "plt.grid()\n"
      ],
      "execution_count": 13,
      "outputs": [
        {
          "output_type": "stream",
          "text": [
            "         2\n",
            "-0.1384 θ + 10.72 θ + 39.48\n"
          ],
          "name": "stdout"
        },
        {
          "output_type": "display_data",
          "data": {
            "image/png": "[encoded data removed]",
            "text/plain": [
              "<Figure size 432x288 with 1 Axes>"
            ]
          },
          "metadata": {
            "tags": [],
            "needs_background": "light"
          }
        }
      ]
    }
  ]
}