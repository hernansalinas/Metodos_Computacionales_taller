{
 "cells": [
  {
   "cell_type": "markdown",
   "metadata": {
    "id": "MMlXWYzl_mrF"
   },
   "source": [
    "\n",
    "#Métodos computacionales: Tarea 07.\n",
    "Por:  Mariana Toro Escobar y Juan Esteban Ospina Holguín."
   ]
  },
  {
   "cell_type": "code",
   "execution_count": 1,
   "metadata": {
    "id": "P2nPTRL6kOKi"
   },
   "outputs": [],
   "source": [
    "#Librerias\n",
    "import numpy as np\n",
    "import sympy as sp\n",
    "import scipy as sc\n",
    "import pandas as pd\n",
    "from scipy import optimize\n",
    "from scipy import fft\n",
    "from scipy.misc import derivative\n",
    "from sympy import init_printing\n",
    "import matplotlib.pylab as plt\n",
    "from scipy.fft import fft, fftfreq\n",
    "from scipy.interpolate import CubicSpline\n",
    "init_printing() "
   ]
  },
  {
   "cell_type": "markdown",
   "metadata": {
    "id": "pBgX4KV08EEw"
   },
   "source": [
    "# Tarea Derivada\n",
    "\n",
    "Los siguientes datos, son datos experimentales de un péndulo simple tomadas a través de una cámara web y procesados con el programa kinovea. Dados los datos en formato csv, se pide  construir un programa que realice lo siguiente: \n",
    "\n",
    "1. Leer el archivo csv a través de un Data Frame de Pandas, las columnas del data frame deberan ser:\n",
    "\n",
    "col=[\"Tiempo[ms]\", \"AnguloDeg\", \"AnguloRad\"]\n",
    "\n",
    "\n",
    "\n",
    "\n",
    "\n",
    "\n"
   ]
  },
  {
   "cell_type": "code",
   "execution_count": 2,
   "metadata": {
    "colab": {
     "base_uri": "https://localhost:8080/",
     "height": 419
    },
    "id": "TeqNmFGqG3TW",
    "outputId": "5d41ca35-4d73-44d2-988a-7ec6021c1a60"
   },
   "outputs": [
    {
     "data": {
      "text/html": [
       "<div>\n",
       "<style scoped>\n",
       "    .dataframe tbody tr th:only-of-type {\n",
       "        vertical-align: middle;\n",
       "    }\n",
       "\n",
       "    .dataframe tbody tr th {\n",
       "        vertical-align: top;\n",
       "    }\n",
       "\n",
       "    .dataframe thead th {\n",
       "        text-align: right;\n",
       "    }\n",
       "</style>\n",
       "<table border=\"1\" class=\"dataframe\">\n",
       "  <thead>\n",
       "    <tr style=\"text-align: right;\">\n",
       "      <th></th>\n",
       "      <th>Tiempo (ms)</th>\n",
       "      <th>Ángulo 1,</th>\n",
       "    </tr>\n",
       "  </thead>\n",
       "  <tbody>\n",
       "    <tr>\n",
       "      <th>0</th>\n",
       "      <td>9</td>\n",
       "      <td>59,289611816406</td>\n",
       "    </tr>\n",
       "    <tr>\n",
       "      <th>1</th>\n",
       "      <td>42</td>\n",
       "      <td>59,9823265075684</td>\n",
       "    </tr>\n",
       "    <tr>\n",
       "      <th>2</th>\n",
       "      <td>75</td>\n",
       "      <td>61,2374534606934</td>\n",
       "    </tr>\n",
       "    <tr>\n",
       "      <th>3</th>\n",
       "      <td>108</td>\n",
       "      <td>63,49247741699</td>\n",
       "    </tr>\n",
       "    <tr>\n",
       "      <th>4</th>\n",
       "      <td>142</td>\n",
       "      <td>65,3887710571289</td>\n",
       "    </tr>\n",
       "    <tr>\n",
       "      <th>...</th>\n",
       "      <td>...</td>\n",
       "      <td>...</td>\n",
       "    </tr>\n",
       "    <tr>\n",
       "      <th>2842</th>\n",
       "      <td>94709</td>\n",
       "      <td>94,9375762939453</td>\n",
       "    </tr>\n",
       "    <tr>\n",
       "      <th>2843</th>\n",
       "      <td>94743</td>\n",
       "      <td>96,479850769043</td>\n",
       "    </tr>\n",
       "    <tr>\n",
       "      <th>2844</th>\n",
       "      <td>94776</td>\n",
       "      <td>97,9406890869141</td>\n",
       "    </tr>\n",
       "    <tr>\n",
       "      <th>2845</th>\n",
       "      <td>94809</td>\n",
       "      <td>99,3180923461914</td>\n",
       "    </tr>\n",
       "    <tr>\n",
       "      <th>2846</th>\n",
       "      <td>94843</td>\n",
       "      <td>100,637817382813</td>\n",
       "    </tr>\n",
       "  </tbody>\n",
       "</table>\n",
       "<p>2847 rows × 2 columns</p>\n",
       "</div>"
      ],
      "text/plain": [
       "      Tiempo (ms)         Ángulo 1,\n",
       "0               9   59,289611816406\n",
       "1              42  59,9823265075684\n",
       "2              75  61,2374534606934\n",
       "3             108    63,49247741699\n",
       "4             142  65,3887710571289\n",
       "...           ...               ...\n",
       "2842        94709  94,9375762939453\n",
       "2843        94743   96,479850769043\n",
       "2844        94776  97,9406890869141\n",
       "2845        94809  99,3180923461914\n",
       "2846        94843  100,637817382813\n",
       "\n",
       "[2847 rows x 2 columns]"
      ]
     },
     "execution_count": 2,
     "metadata": {},
     "output_type": "execute_result"
    }
   ],
   "source": [
    "route = \"https://docs.google.com/spreadsheets/d/e/2PACX-1vT8btHZ-A6ChzV5Rx_CQmCzbhO10J7R6LvQAyHx9qOCoCDAL9RJgaGUATf2z5lTMo-SjByvrnaX02Cz/pub?output=csv\"\n",
    "df = pd.read_csv(route,\";\")#Se leen los datos y se muestran \n",
    "df"
   ]
  },
  {
   "cell_type": "code",
   "execution_count": 3,
   "metadata": {
    "colab": {
     "base_uri": "https://localhost:8080/",
     "height": 419
    },
    "id": "tb4CwYCEUifF",
    "outputId": "6656b628-4778-4bea-e121-b4b6857bfca3"
   },
   "outputs": [
    {
     "data": {
      "text/html": [
       "<div>\n",
       "<style scoped>\n",
       "    .dataframe tbody tr th:only-of-type {\n",
       "        vertical-align: middle;\n",
       "    }\n",
       "\n",
       "    .dataframe tbody tr th {\n",
       "        vertical-align: top;\n",
       "    }\n",
       "\n",
       "    .dataframe thead th {\n",
       "        text-align: right;\n",
       "    }\n",
       "</style>\n",
       "<table border=\"1\" class=\"dataframe\">\n",
       "  <thead>\n",
       "    <tr style=\"text-align: right;\">\n",
       "      <th></th>\n",
       "      <th>Tiempo[ms]</th>\n",
       "      <th>AnguloDeg</th>\n",
       "    </tr>\n",
       "  </thead>\n",
       "  <tbody>\n",
       "    <tr>\n",
       "      <th>0</th>\n",
       "      <td>9</td>\n",
       "      <td>59,289611816406</td>\n",
       "    </tr>\n",
       "    <tr>\n",
       "      <th>1</th>\n",
       "      <td>42</td>\n",
       "      <td>59,9823265075684</td>\n",
       "    </tr>\n",
       "    <tr>\n",
       "      <th>2</th>\n",
       "      <td>75</td>\n",
       "      <td>61,2374534606934</td>\n",
       "    </tr>\n",
       "    <tr>\n",
       "      <th>3</th>\n",
       "      <td>108</td>\n",
       "      <td>63,49247741699</td>\n",
       "    </tr>\n",
       "    <tr>\n",
       "      <th>4</th>\n",
       "      <td>142</td>\n",
       "      <td>65,3887710571289</td>\n",
       "    </tr>\n",
       "    <tr>\n",
       "      <th>...</th>\n",
       "      <td>...</td>\n",
       "      <td>...</td>\n",
       "    </tr>\n",
       "    <tr>\n",
       "      <th>2842</th>\n",
       "      <td>94709</td>\n",
       "      <td>94,9375762939453</td>\n",
       "    </tr>\n",
       "    <tr>\n",
       "      <th>2843</th>\n",
       "      <td>94743</td>\n",
       "      <td>96,479850769043</td>\n",
       "    </tr>\n",
       "    <tr>\n",
       "      <th>2844</th>\n",
       "      <td>94776</td>\n",
       "      <td>97,9406890869141</td>\n",
       "    </tr>\n",
       "    <tr>\n",
       "      <th>2845</th>\n",
       "      <td>94809</td>\n",
       "      <td>99,3180923461914</td>\n",
       "    </tr>\n",
       "    <tr>\n",
       "      <th>2846</th>\n",
       "      <td>94843</td>\n",
       "      <td>100,637817382813</td>\n",
       "    </tr>\n",
       "  </tbody>\n",
       "</table>\n",
       "<p>2847 rows × 2 columns</p>\n",
       "</div>"
      ],
      "text/plain": [
       "      Tiempo[ms]         AnguloDeg\n",
       "0              9   59,289611816406\n",
       "1             42  59,9823265075684\n",
       "2             75  61,2374534606934\n",
       "3            108    63,49247741699\n",
       "4            142  65,3887710571289\n",
       "...          ...               ...\n",
       "2842       94709  94,9375762939453\n",
       "2843       94743   96,479850769043\n",
       "2844       94776  97,9406890869141\n",
       "2845       94809  99,3180923461914\n",
       "2846       94843  100,637817382813\n",
       "\n",
       "[2847 rows x 2 columns]"
      ]
     },
     "execution_count": 3,
     "metadata": {},
     "output_type": "execute_result"
    }
   ],
   "source": [
    "df = df.rename(columns = {\"Tiempo (ms)\":\"Tiempo[ms]\", 'Ángulo 1,':'AnguloDeg'})#Se cambia el nombre a las columnas \n",
    "df"
   ]
  },
  {
   "cell_type": "code",
   "execution_count": 4,
   "metadata": {
    "id": "5lWYAF8PJQn6"
   },
   "outputs": [],
   "source": [
    "eval_= np.vectorize(eval )\n",
    "d = eval_(df[\"AnguloDeg\"].str.replace(\",\", \".\"))#Se remplaza la ',' por '.', esto para buscar cambiar el formato str a float"
   ]
  },
  {
   "cell_type": "code",
   "execution_count": 5,
   "metadata": {
    "id": "808BtRIT_icq"
   },
   "outputs": [],
   "source": [
    "df[\"AnguloDeg\"] = df[\"AnguloDeg\"].str.replace(\",\", \".\").astype(\"float64\") #Para la columna 'AnguloDeg' se cambia el fomrmato str a float"
   ]
  },
  {
   "cell_type": "code",
   "execution_count": 6,
   "metadata": {
    "colab": {
     "base_uri": "https://localhost:8080/",
     "height": 419
    },
    "id": "5V1BqIt4KY8M",
    "outputId": "1822caf5-9920-4ac5-c034-9031e6fb58ac",
    "scrolled": true
   },
   "outputs": [
    {
     "data": {
      "text/html": [
       "<div>\n",
       "<style scoped>\n",
       "    .dataframe tbody tr th:only-of-type {\n",
       "        vertical-align: middle;\n",
       "    }\n",
       "\n",
       "    .dataframe tbody tr th {\n",
       "        vertical-align: top;\n",
       "    }\n",
       "\n",
       "    .dataframe thead th {\n",
       "        text-align: right;\n",
       "    }\n",
       "</style>\n",
       "<table border=\"1\" class=\"dataframe\">\n",
       "  <thead>\n",
       "    <tr style=\"text-align: right;\">\n",
       "      <th></th>\n",
       "      <th>Tiempo[ms]</th>\n",
       "      <th>AnguloDeg</th>\n",
       "      <th>AnguloRad</th>\n",
       "    </tr>\n",
       "  </thead>\n",
       "  <tbody>\n",
       "    <tr>\n",
       "      <th>0</th>\n",
       "      <td>9</td>\n",
       "      <td>59.289612</td>\n",
       "      <td>1.034799</td>\n",
       "    </tr>\n",
       "    <tr>\n",
       "      <th>1</th>\n",
       "      <td>42</td>\n",
       "      <td>59.982327</td>\n",
       "      <td>1.046889</td>\n",
       "    </tr>\n",
       "    <tr>\n",
       "      <th>2</th>\n",
       "      <td>75</td>\n",
       "      <td>61.237453</td>\n",
       "      <td>1.068795</td>\n",
       "    </tr>\n",
       "    <tr>\n",
       "      <th>3</th>\n",
       "      <td>108</td>\n",
       "      <td>63.492477</td>\n",
       "      <td>1.108153</td>\n",
       "    </tr>\n",
       "    <tr>\n",
       "      <th>4</th>\n",
       "      <td>142</td>\n",
       "      <td>65.388771</td>\n",
       "      <td>1.141249</td>\n",
       "    </tr>\n",
       "    <tr>\n",
       "      <th>...</th>\n",
       "      <td>...</td>\n",
       "      <td>...</td>\n",
       "      <td>...</td>\n",
       "    </tr>\n",
       "    <tr>\n",
       "      <th>2842</th>\n",
       "      <td>94709</td>\n",
       "      <td>94.937576</td>\n",
       "      <td>1.656973</td>\n",
       "    </tr>\n",
       "    <tr>\n",
       "      <th>2843</th>\n",
       "      <td>94743</td>\n",
       "      <td>96.479851</td>\n",
       "      <td>1.683891</td>\n",
       "    </tr>\n",
       "    <tr>\n",
       "      <th>2844</th>\n",
       "      <td>94776</td>\n",
       "      <td>97.940689</td>\n",
       "      <td>1.709387</td>\n",
       "    </tr>\n",
       "    <tr>\n",
       "      <th>2845</th>\n",
       "      <td>94809</td>\n",
       "      <td>99.318092</td>\n",
       "      <td>1.733428</td>\n",
       "    </tr>\n",
       "    <tr>\n",
       "      <th>2846</th>\n",
       "      <td>94843</td>\n",
       "      <td>100.637817</td>\n",
       "      <td>1.756461</td>\n",
       "    </tr>\n",
       "  </tbody>\n",
       "</table>\n",
       "<p>2847 rows × 3 columns</p>\n",
       "</div>"
      ],
      "text/plain": [
       "      Tiempo[ms]   AnguloDeg  AnguloRad\n",
       "0              9   59.289612   1.034799\n",
       "1             42   59.982327   1.046889\n",
       "2             75   61.237453   1.068795\n",
       "3            108   63.492477   1.108153\n",
       "4            142   65.388771   1.141249\n",
       "...          ...         ...        ...\n",
       "2842       94709   94.937576   1.656973\n",
       "2843       94743   96.479851   1.683891\n",
       "2844       94776   97.940689   1.709387\n",
       "2845       94809   99.318092   1.733428\n",
       "2846       94843  100.637817   1.756461\n",
       "\n",
       "[2847 rows x 3 columns]"
      ]
     },
     "execution_count": 6,
     "metadata": {},
     "output_type": "execute_result"
    }
   ],
   "source": [
    "df[\"AnguloRad\"] = np.deg2rad(df[\"AnguloDeg\"].values )# Se crea columna de angulo en radianes y se completa el Data Frame pedido\n",
    "df"
   ]
  },
  {
   "cell_type": "markdown",
   "metadata": {
    "id": "9h3e905J_icr"
   },
   "source": [
    "2. Construya una grafica de :\n",
    "plt.plot(df['Tiempo[ms]'], df['AnguloDeg'],\"b-\")\n",
    "\n",
    "¿Qué puede concluir respecto al movimiento del pendulo?\n",
    "\n",
    "\n"
   ]
  },
  {
   "cell_type": "code",
   "execution_count": 7,
   "metadata": {
    "colab": {
     "base_uri": "https://localhost:8080/",
     "height": 283
    },
    "id": "p9F3PLJALfxh",
    "outputId": "e501e4c0-fca6-470b-ca3f-def0a4ce35f6"
   },
   "outputs": [
    {
     "data": {
      "image/png": "[encoded data removed]",
      "text/plain": [
       "<Figure size 432x288 with 1 Axes>"
      ]
     },
     "metadata": {
      "needs_background": "light"
     },
     "output_type": "display_data"
    }
   ],
   "source": [
    "plt.figure()\n",
    "plt.plot(df[\"Tiempo[ms]\"], df[\"AnguloRad\"], \"r-\")\n",
    "plt.xlabel('$Tiempo[ms]$')\n",
    "plt.ylabel('$Angulo[Rad]$')\n",
    "plt.xlim(0, 34843  );"
   ]
  },
  {
   "cell_type": "markdown",
   "metadata": {
    "id": "mg6rZyXc_icu"
   },
   "source": [
    "Notamos que a medida que pasa el tiempo el angulo se hace mas pequeño, por lo que se concluye que el pendulo es amortiguado.\n",
    "así, cuando $t\\rightarrow \\infty$, entonces $Angulo\\rightarrow 0$"
   ]
  },
  {
   "cell_type": "markdown",
   "metadata": {
    "id": "ULaRv8Ir_icw"
   },
   "source": [
    "3. Calculo la transformada de fourier de los datos obtenidos, para encontrar la frecuencia de oscilacion del sistema, para ello realice lo siguiente:\n",
    "\n",
    "importe la librerias de scipy fft, fftfreq.\n",
    "Aplique la transformada de fourier como sigue:\n",
    "\n",
    "tf = fft(df['AnguloRad'].values)\n",
    "\n",
    "T = 33E-3 #Paso del tiempo\n",
    "\n",
    "N = len(df['Tiempo[ms]'])\n",
    "\n",
    "xf = fftfreq(N, T)[:N//2]\n",
    "\n",
    "plt.plot(xf[1:N//2], np.abs(tf[1:N//2]),\"o-\")\n",
    "\n",
    "plt.ylabel(\"TF\")\n",
    "\n",
    "plt.xlabel(\"Frecuencia\")\n",
    "\n",
    "plt.xlim(0, 2)\n",
    "\n",
    "Para las valores en el eje x y eje y de la anterior gráfica, realice una interpolación.\n",
    "\n",
    "Encuentra el valor máximo empleando metodos de diferenciación."
   ]
  },
  {
   "cell_type": "code",
   "execution_count": 8,
   "metadata": {
    "colab": {
     "base_uri": "https://localhost:8080/",
     "height": 279
    },
    "id": "wLgV5RziLn8o",
    "outputId": "0e951436-3d51-48e3-8c26-ac6f38581f77"
   },
   "outputs": [
    {
     "data": {
      "image/png": "[encoded data removed]",
      "text/plain": [
       "<Figure size 432x288 with 1 Axes>"
      ]
     },
     "metadata": {
      "needs_background": "light"
     },
     "output_type": "display_data"
    }
   ],
   "source": [
    "tf = fft(df['AnguloRad'].values)\n",
    "T = 33E-3 #Paso del tiempo\n",
    "N = len(df['Tiempo[ms]'])\n",
    "xf = fftfreq(N, T)[:N//2]\n",
    "plt.plot(xf[1:N//2], np.abs(tf[1:N//2]),\"o-\",color = 'darkblue')\n",
    "plt.ylabel(\"TF\")\n",
    "plt.xlabel(\"Frecuencia\")\n",
    "plt.xlim(0.25, 1);"
   ]
  },
  {
   "cell_type": "code",
   "execution_count": 9,
   "metadata": {
    "id": "UBNzNonNQFBj"
   },
   "outputs": [],
   "source": [
    "cs = CubicSpline(xf[1:N//2], np.abs(tf[1:N//2]))"
   ]
  },
  {
   "cell_type": "code",
   "execution_count": 10,
   "metadata": {
    "colab": {
     "base_uri": "https://localhost:8080/",
     "height": 279
    },
    "id": "wWMmIjR5SIGN",
    "outputId": "0d8d6515-b9e0-472e-c09b-87c354a3d930"
   },
   "outputs": [
    {
     "data": {
      "image/png": "[encoded data removed]",
      "text/plain": [
       "<Figure size 432x288 with 1 Axes>"
      ]
     },
     "metadata": {
      "needs_background": "light"
     },
     "output_type": "display_data"
    }
   ],
   "source": [
    "plt.plot(xf[1:N//2], np.abs(tf[1:N//2]),\"r.\",label = 'Transformada')\n",
    "plt.plot(abs(xf[1:N//2]), abs(cs(xf[1:N//2])),color = 'darkblue',label = 'Interpolación' ) \n",
    "plt.xlim(0.25, 1)\n",
    "plt.xlabel('Frecuencia')\n",
    "plt.ylabel('TF')\n",
    "plt.legend();"
   ]
  },
  {
   "cell_type": "code",
   "execution_count": 11,
   "metadata": {
    "colab": {
     "base_uri": "https://localhost:8080/"
    },
    "id": "o0xqzvEySlAI",
    "outputId": "4601e14a-9544-427f-8152-ebdf5fd78bf0"
   },
   "outputs": [
    {
     "name": "stdout",
     "output_type": "stream",
     "text": [
      "Optimization terminated successfully.\n",
      "         Current function value: -417.867925\n",
      "         Iterations: 2\n",
      "         Function evaluations: 44\n"
     ]
    },
    {
     "data": {
      "text/plain": [
       "array([0.67156])"
      ]
     },
     "execution_count": 11,
     "metadata": {},
     "output_type": "execute_result"
    }
   ],
   "source": [
    "cs = CubicSpline(xf[1:N//2], -np.abs(tf[1:N//2]))\n",
    "min = optimize.fmin_powell(cs, 0.2)\n",
    "min"
   ]
  },
  {
   "cell_type": "markdown",
   "metadata": {
    "id": "ETUPavvI_ic3"
   },
   "source": [
    "Ahora nos propondremos encontrar el máximo para la interpolación cs usando derivadas.\n",
    "Sabemos de la teoría que una función tiene máximo o mínimo cuando su derivada es cero. Así que calculamos la derivada para cs\n",
    "\n"
   ]
  },
  {
   "cell_type": "code",
   "execution_count": 12,
   "metadata": {
    "id": "WUz3NPCL_ic4"
   },
   "outputs": [],
   "source": [
    "from scipy import misc #Código tomado del texto guía, capitulo 5\n",
    "def derivate(func,x0,**kwargs):\n",
    "    '''\n",
    "    Vectorized replacement of scipy.misc derivative:\n",
    "        from scipy.misc import derivative\n",
    "    For usage check the derivative help, e.g, in jupyter: \n",
    "        from scipy.misc import derivative\n",
    "        derivative?\n",
    "    '''\n",
    "    try:\n",
    "        #x0: can be an array or a list  \n",
    "        nn=np.asarray(x0).shape[0] # force error if float is used \n",
    "        fp=np.vectorize(misc.derivative)\n",
    "    except IndexError:\n",
    "        fp=misc.derivative\n",
    "        \n",
    "    return fp(func,x0,**kwargs)"
   ]
  },
  {
   "cell_type": "code",
   "execution_count": 18,
   "metadata": {
    "colab": {
     "base_uri": "https://localhost:8080/",
     "height": 269
    },
    "id": "u5ctMJnS_ic4",
    "outputId": "afe28368-2209-4204-b715-5ca583ec4a0b"
   },
   "outputs": [
    {
     "data": {
      "image/png": "[encoded data removed]",
      "text/plain": [
       "<Figure size 432x288 with 1 Axes>"
      ]
     },
     "metadata": {
      "needs_background": "light"
     },
     "output_type": "display_data"
    }
   ],
   "source": [
    "t = np.linspace(0.5,0.7,1000)#Espacio donde se evalúa la derivada\n",
    "q = derivate(cs, t , dx = 1E-5)#puntos de la derivada\n",
    "plt.plot(t,q, label = 'Derivada')#se grafican los puntos\n",
    "plt.plot(t,-cs(t), label = 'Interpolación de la transformada')\n",
    "plt.xlim(0.5,0.7)#Límites\n",
    "plt.ylim(-100,500)\n",
    "plt.grid()\n",
    "plt.legend();"
   ]
  },
  {
   "cell_type": "code",
   "execution_count": 23,
   "metadata": {
    "colab": {
     "base_uri": "https://localhost:8080/"
    },
    "id": "34oQ006R_ic4",
    "outputId": "6ee056b7-ed5d-4d4f-d9e2-7b37a037813e",
    "scrolled": true
   },
   "outputs": [
    {
     "data": {
      "text/plain": [
       "array([4.94448930e-01, 6.71560005e-01, 9.32750945e+05])"
      ]
     },
     "execution_count": 23,
     "metadata": {},
     "output_type": "execute_result"
    }
   ],
   "source": [
    "cs2 = CubicSpline(t, q)#Hacemos una interpolación para los puntos de la derivada\n",
    "cs2.roots()#Se muestran las raíces de la derivada"
   ]
  },
  {
   "cell_type": "markdown",
   "metadata": {
    "id": "fETmJ9jv_ic5"
   },
   "source": [
    "Se muestran tres raíces donde la derivada se hace cero. Notamos que cerca de $0.4$ y cerca de $0.65$ la gráfica azul pasa por cero.\n",
    "Pero nos interesa el segundo valor, pues es donde la transformada es máxima, así que encontramos el valore de frecuencia $f = 0.67156$\n",
    "\n",
    "\n",
    "Así el máximo será:\n"
   ]
  },
  {
   "cell_type": "code",
   "execution_count": 15,
   "metadata": {
    "colab": {
     "base_uri": "https://localhost:8080/",
     "height": 37
    },
    "id": "_YieICpv_ic5",
    "outputId": "516efe70-cb71-4df1-a7fc-379d083a897c"
   },
   "outputs": [
    {
     "data": {
      "image/png": "[encoded data removed]",
      "text/latex": [
       "$\\displaystyle 417.86792463130047$"
      ],
      "text/plain": [
       "417.86792463130047"
      ]
     },
     "execution_count": 15,
     "metadata": {},
     "output_type": "execute_result"
    }
   ],
   "source": [
    "-cs(cs2.roots()[1])"
   ]
  }
 ],
 "metadata": {
  "colab": {
   "collapsed_sections": [],
   "name": "Tarea_07_Derivadas.ipynb",
   "provenance": []
  },
  "kernelspec": {
   "display_name": "Python 3",
   "language": "python",
   "name": "python3"
  },
  "language_info": {
   "codemirror_mode": {
    "name": "ipython",
    "version": 3
   },
   "file_extension": ".py",
   "mimetype": "text/x-python",
   "name": "python",
   "nbconvert_exporter": "python",
   "pygments_lexer": "ipython3",
   "version": "3.8.5"
  }
 },
 "nbformat": 4,
 "nbformat_minor": 1
}
