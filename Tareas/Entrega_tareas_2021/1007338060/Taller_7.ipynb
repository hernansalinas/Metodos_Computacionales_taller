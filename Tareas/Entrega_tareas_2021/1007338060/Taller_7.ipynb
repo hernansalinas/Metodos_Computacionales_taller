{
  "nbformat": 4,
  "nbformat_minor": 0,
  "metadata": {
    "colab": {
      "name": "Taller 7.ipynb",
      "provenance": [],
      "collapsed_sections": []
    },
    "kernelspec": {
      "name": "python3",
      "display_name": "Python 3"
    },
    "language_info": {
      "name": "python"
    }
  },
  "cells": [
    {
      "cell_type": "markdown",
      "metadata": {
        "id": "NcIiAGS-DXso"
      },
      "source": [
        "# Taller 7\n",
        "\n",
        "-Natali André Julio Beltrán - 1098807231\\\n",
        "-Brayan Alejandro Murillo González - 1007338060"
      ]
    },
    {
      "cell_type": "code",
      "metadata": {
        "id": "DeKV_cMGMT4x"
      },
      "source": [
        "import sympy as sp \n",
        "import numpy as np\n",
        "import scipy as sc\n",
        "from mpl_toolkits.mplot3d import axes3d\n",
        "import matplotlib.pyplot as plt\n",
        "from mpl_toolkits import mplot3d\n",
        "import pandas as pd\n",
        "from sympy import Symbol\n",
        "from scipy import misc"
      ],
      "execution_count": 1,
      "outputs": []
    },
    {
      "cell_type": "markdown",
      "metadata": {
        "id": "HSPc0J94qcHN"
      },
      "source": [
        "# Lucy's quartics kernerl"
      ]
    },
    {
      "cell_type": "code",
      "metadata": {
        "colab": {
          "base_uri": "https://localhost:8080/",
          "height": 279
        },
        "id": "kJYMIMxhA-By",
        "outputId": "6932abf1-a133-4be0-c2e1-edcda21b1d8a"
      },
      "source": [
        "\n",
        "lucy_eq = lambda q: (1+3*q)*(1-q)**3  # Funcion numpy del kernel de lucy\n",
        "\n",
        "\"\"\"\n",
        "Parametros para la función\n",
        "\"\"\"\n",
        "a = 0\n",
        "h = 1\n",
        "x = np.linspace(a-1 , a+1 , 300)\n",
        "alpha = 5/(4*h)   \n",
        "\n",
        "def lucy_f(x,h,a):\n",
        "  x = np.linspace(a-1,a+1,300) # Arreglo de posiciones en x\n",
        "  alpha = 5/(4*h)              # Constante dimensional\n",
        "  q = abs(x-a)/h               # Valores de q \n",
        "  w = np.zeros(len(q))         # Arreglo para almacenar los valores de la funcion\n",
        "\n",
        "  \"\"\" Ciclo para filtrar los valores de la función dadas las condiciones de q \"\"\"\n",
        "  for i in range(0,len(q)):\n",
        "    if q[i]<=1 and q[i]>0:\n",
        "      w[i] = alpha*(1+3*q[i])*(1-q[i])**3\n",
        "    else :\n",
        "      w[i] = 0\n",
        "  return (w)\n",
        "\n",
        "\"\"\" Grafica del kernel de lucy en 1-D \"\"\"  \n",
        "plt.plot(x,lucy_f(x,h,a),label=\"W(q,h)\")\n",
        "plt.xlabel(\"x\")\n",
        "plt.ylabel(\"W\")\n",
        "plt.legend()\n",
        "plt.grid()\n"
      ],
      "execution_count": 2,
      "outputs": [
        {
          "output_type": "display_data",
          "data": {
            "image/png": "[encoded data removed]",
            "text/plain": [
              "<Figure size 432x288 with 1 Axes>"
            ]
          },
          "metadata": {
            "needs_background": "light"
          }
        }
      ]
    },
    {
      "cell_type": "code",
      "metadata": {
        "colab": {
          "base_uri": "https://localhost:8080/",
          "height": 66
        },
        "id": "ip4ofo6yS9S8",
        "outputId": "821039dc-2dd6-41c0-9ca3-af4a76510c54"
      },
      "source": [
        "\"\"\" Derivada simbólica del kernel de lucy \"\"\"\n",
        "q = Symbol('q')\n",
        "lucyds = sp.diff(lucy_eq(q),q) # Funcion en formato scipy\n",
        "lucydn = sp.lambdify(q,alpha*lucyds, 'numpy') # Funcion convertida a numpy\n",
        "h=Symbol(\"h\")\n",
        "alpha= 5/(4*h)\n",
        "alpha*(lucyds)"
      ],
      "execution_count": 3,
      "outputs": [
        {
          "output_type": "execute_result",
          "data": {
            "text/latex": "$\\displaystyle \\frac{5 \\left(3 \\left(1 - q\\right)^{3} - 3 \\left(1 - q\\right)^{2} \\left(3 q + 1\\right)\\right)}{4 h}$",
            "text/plain": [
              "5*(3*(1 - q)**3 - 3*(1 - q)**2*(3*q + 1))/(4*h)"
            ]
          },
          "metadata": {},
          "execution_count": 3
        }
      ]
    },
    {
      "cell_type": "code",
      "metadata": {
        "id": "f1fi2POpTBZd"
      },
      "source": [
        "h=1\n",
        "\"\"\" Funcion de la derivada del kernel de lucy\"\"\"\n",
        "def lucy_der(x,h,a):\n",
        "  alpha = 5/(4*h)\n",
        "  q = abs(x-a)/h\n",
        "  w = np.zeros(len(q))\n",
        "\n",
        "  for i in range(0,len(q)):\n",
        "    if q[i] <= 1 and q[i] > 0:\n",
        "      w[i] = alpha * lucydn(q[i])\n",
        "    if x[i] < 0:\n",
        "      w[i] = -alpha*lucydn(q[i])\n",
        "    if q[i] > 1:\n",
        "      w[i] = 0\n",
        "\n",
        "  return (w)\n",
        "\n"
      ],
      "execution_count": 4,
      "outputs": []
    },
    {
      "cell_type": "code",
      "metadata": {
        "colab": {
          "base_uri": "https://localhost:8080/",
          "height": 281
        },
        "id": "Tdukq1BeVK_0",
        "outputId": "80c17e4d-5aff-44e0-f376-2e576b4f7b8e"
      },
      "source": [
        "\"\"\" Grafica del kernel de lucy en 1-D y su primera derivada\"\"\"  \n",
        "plt.plot(x,lucy_f(x,h,a),label=\"W(q,h)\")\n",
        "plt.plot(x,lucy_der(x,h,a),label=\"W'(q,h)\")\n",
        "plt.xlabel(\"x\")\n",
        "plt.ylabel(\"W',W\")\n",
        "plt.legend()\n",
        "plt.grid()"
      ],
      "execution_count": 5,
      "outputs": [
        {
          "output_type": "display_data",
          "data": {
            "image/png": "[encoded data removed]",
            "text/plain": [
              "<Figure size 432x288 with 1 Axes>"
            ]
          },
          "metadata": {
            "needs_background": "light"
          }
        }
      ]
    },
    {
      "cell_type": "code",
      "metadata": {
        "colab": {
          "base_uri": "https://localhost:8080/",
          "height": 279
        },
        "id": "AD9Pi3dBcL4E",
        "outputId": "2657cc42-052a-452d-9143-4ba11638fea2"
      },
      "source": [
        "\"\"\" Derivada numérica del kernel de lucy \"\"\"\n",
        "\n",
        "a = 0\n",
        "h = 1\n",
        "x = np.linspace(-2,2,200)\n",
        "q = abs(x-a)/h\n",
        "alpha = 5/(4*h)\n",
        "\n",
        "\"\"\" Funcion de la derivada del kernel de lucy(numérica)\"\"\"\n",
        "def lucy_dern(x,h,a):\n",
        "  alpha = 5/(4*h)\n",
        "  q = abs(x-a)/h\n",
        "  w = np.zeros(len(q))\n",
        "\n",
        "  for i in range(0,len(q)):\n",
        "    if q[i] <= 1 and q[i] > 0:\n",
        "      w[i] = misc.derivative(lucy_eq,q[i],dx = 0.0001)\n",
        "    if x[i] < 0:\n",
        "      w[i] = -misc.derivative(lucy_eq,q[i],dx = 0.0001)\n",
        "    if q[i] > 1:\n",
        "      w[i] = 0\n",
        "\n",
        "  return (w)\n",
        "plt.plot(x,lucy_dern(x,1,0),label=\"W'(q,h\")\n",
        "plt.xlabel(\"x\")\n",
        "plt.ylabel(\"W'\")\n",
        "plt.legend()\n",
        "plt.grid()\n"
      ],
      "execution_count": 6,
      "outputs": [
        {
          "output_type": "display_data",
          "data": {
            "image/png": "[encoded data removed]",
            "text/plain": [
              "<Figure size 432x288 with 1 Axes>"
            ]
          },
          "metadata": {
            "needs_background": "light"
          }
        }
      ]
    },
    {
      "cell_type": "markdown",
      "metadata": {
        "id": "CdykG3v2K7_q"
      },
      "source": [
        "## Método del trapecio \n",
        "\n",
        "Se quiere aproximar la integral $\\int_{x_0}^{x_1}f(x)dx$ numéricamente en un intervalo cerrado $[x_0,x_1]$para ello definimos el polinomio de lagrange $P_{1}(x)$ dado por:\n",
        "\\begin{equation}\n",
        "P_{1}(x)= \\frac{x-x_{1}}{x_{0}-x_{1}}f(x_{0})+\\frac{x-x_{0}}{x_{1}-x_{0}}f(x_{1})\n",
        "\\end{equation}\n",
        "\n",
        "Sea $h=x_1-x_0$\n",
        "\\\n",
        "Luego se tiene que: $$P_1(x)\\approx f(x) $$\n",
        "\n",
        "Reemplazando en la integral se tiene:\n",
        "\n",
        "\\begin{equation}\\tag{2}\n",
        "\\int_{x_0}^{x_1}f(x)dx=\\int_{x_0}^{x_1}\\left[\\frac{x-x_{1}}{x_{0}-x_{1}}f(x_{0})+\\frac{x-x_{0}}{x_{1}-x_{0}}f(x_{1})\\right]dx+\\frac{1}{(n+1)!}\\\n",
        "\\int_{x_0}^{x_1}\\prod_{i=0}^{n}(x-x_i)f^{(n+1)}(\\xi(x))dx\n",
        "\\end{equation}\n",
        "\n",
        "Donde $n$ corresponde al orden del polinomio de lagrange el cual es $n=1$\\\n",
        "Reemplazando se obtiene:\n",
        "\n",
        "\\begin{equation}\n",
        "\\int_{x_0}^{x_1}f(x)dx=\\int_{x_0}^{x_1}\\left[\\frac{x-x_1}{x_0-x_{1}}f(x_0)+\\frac{x-x_0}{x_1-x_0}f(x_{1})\\right] dx+\\frac{1}{2}\\\n",
        "\\int_{x_0}^{x_1}(x-x_0)(x-x_1)f^{''}(\\xi(x))dx\n",
        "\\end{equation}\n",
        "\\\n",
        "El producto $(x-x_0)(x-x_1)$ no cambia de signo en el intervalo  $[x_0,x_1]$ por lo que el teorema del valor medio ponderado para integrales se puede aplicar al termino del error para obtener valores de $\\xi(x)$ para los valores $(x_0,x_1)$ de esto se obtiene que:\n",
        "\n",
        "\\begin{equation}\n",
        "\\int_{x_0}^{x_1}(x-x_0)(x-x_1) f^{''}(\\xi(x)) dx\n",
        "=f^{''}(\\xi(x)\\int_{x_0}^{x_1}(x-x_0)(x-x_1)dx\n",
        "\\end{equation}\n",
        "\n",
        "$$\n",
        "=f^{''}(\\xi)\\sideset{}{_{x_0}^{x_1}}{\\left[\\frac{x^3}{3}-\\frac{x_1+x_0}{2}x^2+x_0x_1x\\right]}\n",
        "$$\n",
        "\\\n",
        "$$=-\\frac{h^3}{6}f^{''}(\\xi)$$\n",
        "\n",
        "\n",
        "Ahora remplazando este resultado en $(2)$ y desarrollando se tiene:\n",
        "\\begin{equation}\n",
        "\\int_{x_0}^{x_1}f(x)dx=\\sideset{}{_{x_0}^{x_1}}{\\left[\\frac{(x-x_1)^2}{2(x_0-x_1)}f(x_{0})+\\frac{(x-x_0)^2}{2(x_1-x_0)}f(x_1)\\right]}dx-\\frac{h^3}{12}f^{''}(\\xi)\n",
        "\\end{equation}\n",
        "\n",
        "\\\n",
        "\\begin{equation}\n",
        "=\\frac{(x_1-x_0)}{2}\\left[f(x_0)+f(x_1)\\right]-\\frac{h^3}{12}f^{''}(\\xi)\n",
        "\\end{equation}\n",
        "\\\n",
        "Luego como $h=x_1-x_0$\n",
        "se tiene la siguiente regla:\n",
        "\\\n",
        "\\begin{equation}\n",
        "\\int_{x_0}^{x_1}f(x)dx=\\frac{h}{2}\\left[f(x_0)+f(x_1)\\right]-\\frac{h^3}{12}f^{''}(\\xi)\n",
        "\\end{equation}\n",
        "\n",
        "Esto recibe el nombre de regla trapezoidal porque cuando f es una función con valores\n",
        "positivos $\\int_{x_0}^{x_1}f(x)dx$ se aproxima mediante el área de un trapecio.\n",
        "El término de error para la regla trapezoidal implica $f^\"$, por lo que la regla da el resultado\n",
        "exacto cuando se aplica a cualquier función cuya segunda derivada es idénticamente cero, es\n",
        "decir, cualquier polinomio de grado uno o menos.\n",
        "\n",
        "\n"
      ]
    },
    {
      "cell_type": "markdown",
      "metadata": {
        "id": "yp-pFGHtHpjZ"
      },
      "source": [
        "# Regla de Simpson\n",
        "\n",
        "\n",
        "\n",
        "La regla de Simpson resulta de la integración sobre $[a, b]$ del segundo polinomio de\n",
        "Lagrange con nodos igualmente espaciados $x_0 = a, x_2 = b$, y $x_1 = a + h$, en donde\n",
        "$h = (b − a)/2$. \n",
        "Por lo tanto:\n",
        "\n",
        "\n",
        "\\begin{equation} \\tag{1}\n",
        "\\int_{x_0}^{x_2}f(x)dx\n",
        "=\\int_{x_0}^{x_2}\\left[\\frac{(x-x_1)(x-x_2)}{(x_0-x_1)(x_0-x_2)}f(x_0)+\\frac{(x-x_0)(x-x_2)}{(x_1-x_0)(x_1-x_2)}f(x_{1})+\\frac{(x-x_0)(x-x_1)}{(x_2-x_0)(x_2-x_1)}f(x_2)\\right] dx\\\\\n",
        "+\\int_{x_0}^{x_2}\\frac{(x-x_0)(x-x_1)(x-x_2)}{6}f^{(3)}(\\xi(x))\n",
        "\\end{equation}\n",
        "\n",
        "\n",
        "\n",
        "Al deducir la regla de Simpson de esta forma, sin embargo, da un solo término de error $O(h4)$\n",
        "relacionado con $f^{(3)}$. Al aproximar el problema de otra forma, se puede derivar otro término\n",
        "de orden superior relacionado con $f^{(4)}$.\n",
        "Para ilustrar este método alternativo, suponga que $f$ se expande en el tercer polinomio de\n",
        "Taylor alrededor de $x_1$. Entonces, para cada $x$ en $[x_0, x_2]$, existe un número $\\xi(x)$ en $[x_0, x_2]$ con:\n",
        "\n",
        "\n",
        "\\begin{equation}\n",
        "f(x)=f(x_1)+f^{'}(x_1)(x-x_1)+\\frac{f^{\"}(x_1)}{2}(x-x_1)^2+\\frac{f^{'''}(x_1)}{6}(x-x_1)^3+\\frac{f^{(4)}(\\xi(x))}{24}(x-x_1)^4\n",
        "\\end{equation}\n",
        "\n",
        "y la integral:\n",
        "\n",
        "\n",
        "\\begin{equation}\\tag{2}\n",
        "\\int_{x_0}^{x_2}f(x)dx = \\sideset{}{_{x_0}^{x_2}}{\\left[f(x_1)+f^{'}(x_1)(x-x_1)+\\frac{f^{\"}(x_1)}{2}(x-x_1)^2+\\frac{f^{'''}(x_1)}{6}(x-x_1)^3+\\frac{f^{(4)}(\\xi(x))}{24}(x-x_1)^4\\right]}\\\\\n",
        "+\\frac{1}{24}\\int_{x_0}^{x_2}f^{(4)}(\\xi(x))(x-x_1)^4dx\n",
        "\\end{equation}\\\\\n",
        "\n",
        "Puesto que $(x-x_1)^4$ nunca es negativo en $[x_0, x_2]$, el teorema de valor promedio ponderado\n",
        "para las integrales implica que:\n",
        "\n",
        "\\begin{equation}\n",
        "\\frac{1}{24}\\int_{x_0}^{x_2}f^{(4)}(\\xi(x))(x-x_1)^4 dx\n",
        "=\\frac{f^{(4)}(\\xi_1)}{24}\\int_{x_0}^{x_2}(x-x_1)^4 dx\n",
        "=\\frac{f^{(4)}(\\xi_1)}{120}\\sideset{}{_{x_0}^{x_1}}{\\left[(x-x_1)^{5}\\right]}\n",
        "\\end{equation}\n",
        "\n",
        "\n",
        "Para algún número $\\xi_1$ en $(x_1,x_2)$\\\n",
        "Sin embargo, $h=x_2-x_1=x_1-x_0$ , por lo que:\n",
        "\n",
        "$$(x_2-x_1)^2-(x_0-x_1)^2=(x_2-x_1)^4-(x_0-x_1)^4=0$$\n",
        "\n",
        "mientras\n",
        "$$(x_2-x_1)^3-(x_0-x_1)^3=2h^3$$\n",
        "$$(x_2-x_1)^5-(x_0-x_1)^5=2h^5$$\n",
        "\n",
        "Por consiguiente la ecuación $(2)$ se puede reescribir como:\n",
        "\\begin{equation}\\tag{3}\n",
        "\\int_{x_0}^{x_2}f(x)dx=2hf(x_1)+\\frac{h^3}{3}f^{''}(x_1)+\\frac{f^{(4)}(\\xi_1)}{60}h^5\n",
        "\\end{equation}\n",
        "\n",
        "\n",
        "Ahora si reemplazamos $f^{''}(x_1)$ por medio de la aproximación:\n",
        "\\begin{equation}\n",
        "f^{''}(x_1)=\\left[\\frac{1}{h^2}(f(x_0)-2f(x_1)+f(x_2))-\\frac{h^2}{12}f^{(4)}(\\xi_2)\\right]\n",
        "\\end{equation}\n",
        " \n",
        "La ecuacion $(3)$ queda:\n",
        "\\begin{equation}\n",
        "\\int_{x_0}^{x_2}f(x)dx=2hf(x_1)+\\frac{h^3}{3}\\left[\\frac{1}{h^2}(f(x_0)-2f(x_1)+f(x_2))-\\frac{h^2}{12}f^{(4)}(\\xi_2)\\right]+\\frac{f^{(4)}(\\xi_1)}{60}h^5\n",
        "\\end{equation}\n",
        "\n",
        "\\begin{equation}\n",
        "=\\frac{h}{3}\\left[f(x_0)+4f(x_1)+f(x_2)\\right]-\\frac{h^5}{12}\\left[\\frac{1}{3}f^{(4)}(\\xi_2)-\\frac{1}{5}f^{(4)}(\\xi_1)\\right]\n",
        "\\end{equation}\n",
        "\n",
        "Con métodos alternos se puede mostrar (consulte el ejercicio 26) que los valores $\\xi_1$ y $\\xi_2$ en\n",
        "esta expresión se pueden reemplazar mediante un valor común $\\xi$ en $(x0, x2)$. Esto da la regla\n",
        "de Simpson:\n",
        "\n",
        "\\begin{equation}\n",
        "\\int_{x_0}^{x_2}f(x)dx=\\frac{h}{3}\\left[f(x_0)+4f(x_1)+f(x_2)\\right]-\\frac{h^5}{90}f^{(4)}(\\xi)\n",
        "\\end{equation}\n",
        "\n",
        "El término de error en la regla de Simpson implica la cuarta derivada de $f(x)$, por lo que da\n",
        "resultados exactos cuando se aplica a cualquier polinomio de grado tres o menos.\n"
      ]
    },
    {
      "cell_type": "markdown",
      "metadata": {
        "id": "jfZyaVsCNHab"
      },
      "source": [
        "# Cuadratura Gaussiana\n",
        "\n",
        "\n",
        "\\begin{equation}\n",
        "\\int_{a}^{b}f(x)dx=\\int_{-1}^{1}f\\left(\\frac{(b-a)t+(b+a)}{2}\\right)\\frac{b-a}{2}\n",
        "\\end{equation}"
      ]
    },
    {
      "cell_type": "code",
      "metadata": {
        "id": "c43HYOFrKpM1"
      },
      "source": [
        "import sympy as sp \n",
        "import numpy as np\n",
        "import matplotlib.pylab as plt\n",
        "from sympy import init_printing\n",
        "from sympy import solve,Eq\n",
        "import scipy as sc\n",
        "from scipy import optimize \n",
        "import scipy.integrate as integrate\n",
        "import math as m\n"
      ],
      "execution_count": 7,
      "outputs": []
    },
    {
      "cell_type": "markdown",
      "metadata": {
        "id": "Z1XC8tpWUN1m"
      },
      "source": [
        "# Función para el metodo del trapecio"
      ]
    },
    {
      "cell_type": "code",
      "metadata": {
        "id": "lHe1pVbNUHmp"
      },
      "source": [
        "def integr_trap(f_s,f,a,b,epsilon):\n",
        "\n",
        "  \"\"\"\n",
        "  f_s : función de scipy\n",
        "  f : funcion numpy\n",
        "  a : limite inferior de la integral\n",
        "  b : limite superior de la integral\n",
        "  epsilon : Precisión del cálculo\n",
        "  \n",
        "  \"\"\"\n",
        "\n",
        "  x = sp.symbols(\"x\")\n",
        "\n",
        "  f2 = sp.diff(f_s(x), x, 2) #Segunda derivada de la función \n",
        "\n",
        "\n",
        "  fxn5 = sp.lambdify(x, -f2, 'numpy')  # se convierte la funcion de scipy a numpy\n",
        "   \n",
        "  fp = sc.optimize.fminbound(fxn5,a,b) # Maximo de la segunda derivada de la función en el rango [a,b]\n",
        "\n",
        "  Max = abs(-fxn5(fp))    #Valor del maximo de la segunda derivada de la función\n",
        "\n",
        "  h = np.sqrt((12*epsilon)/(Max*(b-a))) # Valor del h\n",
        "\n",
        "  N = int((b-a)/h)+1         # Numero de intervalos\n",
        "\n",
        "  x = np.linspace(a, b, N+1) # Valores de x para evaluar la integral\n",
        "\n",
        "  x_interior = x[1:-1]  #Puntos del interior\n",
        "\n",
        "  \"\"\"Formula del trapecio\"\"\"\n",
        "  \n",
        "  T1 =  (f(a))\n",
        "\n",
        "  T3 =  (f(b))\n",
        "\n",
        "  T2 =  sum(f(x_interior))\n",
        "\n",
        "  trap_f = T1 + 2*T2 + T3\n",
        "\n",
        "  trap_f = 0.5*h*trap_f\n",
        "\n",
        "  return  (trap_f)"
      ],
      "execution_count": 8,
      "outputs": []
    },
    {
      "cell_type": "markdown",
      "metadata": {
        "id": "2aTdtSqOURpY"
      },
      "source": [
        "# Función para el método de Simpson"
      ]
    },
    {
      "cell_type": "code",
      "metadata": {
        "id": "HKRN-nopUJQI"
      },
      "source": [
        "def simpson(f_s,f, a, b, epsilon):\n",
        "  \"\"\"\n",
        "  Aproxima la integral de $f$ en $[a,b]$ mediante la fórmula compuesta \n",
        "  de Simpson con N subintervalos\n",
        "  \"\"\"\n",
        "  x = sp.symbols(\"x\")\n",
        "\n",
        "  f2 = sp.diff(f_s(x), x, 2) #Segunda derivada de la función \n",
        "\n",
        "\n",
        "  fxn5 = sp.lambdify(x, -f2, 'numpy')  # se convierte la funcion de scipy a numpy\n",
        "   \n",
        "  fp = sc.optimize.fminbound(fxn5,a,b) # Maximo de la segunda derivada de la función en el rango [a,b]\n",
        "\n",
        "  M = abs(-fxn5(fp))  #Valor del maximo de la segunda derivada de la función\n",
        "\n",
        "  N = int(((b-a)**5*M/(epsilon*180*2**4))**(1./4))+1 # Numero de intervalos\n",
        "  \n",
        "  n_nodos = 2*N+1 # (N+1 extremos de subintervalos) + (N puntos medios)\n",
        "  \n",
        "  x = np.linspace(a, b, n_nodos)\n",
        "\n",
        "  x_impar = x[1: :2] # Nodos con coordenada impar (ptos medios)\n",
        "\n",
        "  x_par = x[2:n_nodos-1:2] # Nodos con coordenada par (salvo el primero y el último)\n",
        "\n",
        "  h = (b-a)/(2*N) # Distancia entre dos nodos de integración\n",
        "\n",
        "  cuad = h/3*(f(a) + 2*sum(f(x_par)) + 4*sum(f(x_impar)) + f(b)) # F. comp. de Simpson\n",
        "\n",
        "  return cuad  "
      ],
      "execution_count": 9,
      "outputs": []
    },
    {
      "cell_type": "markdown",
      "metadata": {
        "id": "9ppdsQ6XUXIT"
      },
      "source": [
        "#**Integración**"
      ]
    },
    {
      "cell_type": "markdown",
      "metadata": {
        "id": "s8PIs7WBTmL_"
      },
      "source": [
        "$$ \\int_{0}^{1}e^{1-x^2}dx$$"
      ]
    },
    {
      "cell_type": "code",
      "metadata": {
        "id": "3Lu5PpXjkt0u",
        "colab": {
          "base_uri": "https://localhost:8080/"
        },
        "outputId": "8a7e337b-41ae-4f3a-c293-1aff68be9d41"
      },
      "source": [
        "\n",
        "f1_s=lambda x: sp.exp(1-x**2) # Funcion en formato de scipy\n",
        "f1=lambda x: np.exp(1-x**2)   # Funcion en formato de numpy\n",
        "a=0 # Limite inferior de la integral\n",
        "b=1 # Limite superior de la integral\n",
        "eps=1*10**-5  # epsilon de la exactitud \n",
        "\n",
        "\n",
        "\"\"\" Valores de las integrales con los distintos métodos\"\"\"\n",
        "valor={\"Trapezoide\":\"%5lf\" %(integr_trap(f1_s,f1,a,b,eps)),'Simpson':\"%5lf\" %(simpson(f1_s,f1,a,b,eps)),\"Cuadratura\":\"%5lf\" %(integrate.quad(f1,a,b,epsabs=1e-05)[0])}\n",
        "valor"
      ],
      "execution_count": 10,
      "outputs": [
        {
          "output_type": "execute_result",
          "data": {
            "text/plain": [
              "{'Cuadratura': '2.030078', 'Simpson': '2.030095', 'Trapezoide': '2.044242'}"
            ]
          },
          "metadata": {},
          "execution_count": 10
        }
      ]
    },
    {
      "cell_type": "markdown",
      "metadata": {
        "id": "nbWK4qoQV4cx"
      },
      "source": [
        "$$\\int_{-\\infty}^{\\infty}\\frac{1}{1+x^2}dx$$"
      ]
    },
    {
      "cell_type": "code",
      "metadata": {
        "id": "JgC6x-FPliyH",
        "colab": {
          "base_uri": "https://localhost:8080/"
        },
        "outputId": "4f348359-8368-4f47-c793-e887d4efe42f"
      },
      "source": [
        "f2= lambda x: 1/(1+x**2) # Funcion en formato de numpy\n",
        "a=np.NINF # Simbolo de menos infinito en numpy\n",
        "b=np.inf  # Simbolo de infinito en numpy\n",
        "\n",
        "valor=integrate.quad(f2,a,b,full_output=0, epsabs=1e-05)[0]\n",
        "print(\"%5lf\" %(valor))"
      ],
      "execution_count": 11,
      "outputs": [
        {
          "output_type": "stream",
          "name": "stdout",
          "text": [
            "3.141593\n"
          ]
        }
      ]
    },
    {
      "cell_type": "markdown",
      "metadata": {
        "id": "0ksbx-tlmw-l"
      },
      "source": [
        " La integral $$\\int_{0}^{\\frac{\\pi}{4}}\\int_{sin(x)}^{cos(x)}\\left[2ysin(x)+cos^{2}(x)\\right]dydx$$\n",
        " Puede reescribirse como:\n",
        "\n",
        " $$ \\int_{0}^{\\frac{\\pi}{4}}\\left[\\int_{sin(x)}^{cos(x)}2ysin(x)dy+\\int_{sin(x)}^{cos(x)}cos^2(x)dy\\right]dx $$\n",
        "\n",
        " Se separan las dos integrales dentro de las llaves y se resuelven por aparte, la primer integral sería:\n",
        " $$\\int_{sin(x)}^{cos(x)}2ysin(x)dy$$\\\n",
        " $$=sin(x)\\int_{sin(x)}^{cos(x)}2ydy$$\\\n",
        " $$=sin(x)\\sideset{}{_{sin(x)}^{cos(x)}}{\\left[y^2\\right]}$$\\\n",
        " $$=sin(x)(cos^{2}(x)-sin^{2}(x))$$\\\n",
        "\n",
        "Ahora la segunda integral:\n",
        "$$\\int_{sin(x)}^{cos(x)}cos^2(x)dy$$\\\n",
        "$$=cos^2(x)\\int_{sin(x)}^{cos(x)}dy$$\\\n",
        "$$=cos^2(x)\\sideset{}{_{sin(x)}^{cos(x)}}{\\left[y\\right]}$$\\\n",
        "$$=cos^2(x)(cos(x)-sin(x))$$\n",
        "\n",
        "Finalmente nos queda la integral:\n",
        "$$\\int_{0}^{\\frac{\\pi}{4}}\\left[sin(x)(cos^{2}(x)-sin^{2}(x))+cos^2(x)(cos(x)-sin(x))\\right]dx$$\n"
      ]
    },
    {
      "cell_type": "code",
      "metadata": {
        "id": "cLDJAuxZcuY7",
        "colab": {
          "base_uri": "https://localhost:8080/"
        },
        "outputId": "fc5f3ae6-1373-4d26-9953-2126222f3356"
      },
      "source": [
        "\n",
        "f3_s=lambda x: (sp.sin(x)*((sp.cos(x))**2-(sp.sin(x))**2))+(sp.cos(x)**2*(sp.cos(x)-sp.sin(x))) # Funcion en formato de scipy\n",
        "f3=lambda x: (np.sin(x)*((np.cos(x))**2-(np.sin(x))**2))+(np.cos(x)**2*(np.cos(x)-np.sin(x)))   # Funcion en formato de numpy\n",
        "epsilon=1e-5\n",
        "a=0\n",
        "b=np.pi*0.25\n",
        "valor={\"Trapezoide\":\"%5lf\" %(integr_trap(f3_s,f3,a,b,eps)),'Simpson':\"%5lf\" %(simpson(f3_s,f3,a,b,eps)),\"Cuadratura\":\"%5lf\" %(integrate.quad(f3,a,b,epsabs=1e-05)[0])}\n",
        "valor"
      ],
      "execution_count": 12,
      "outputs": [
        {
          "output_type": "execute_result",
          "data": {
            "text/plain": [
              "{'Cuadratura': '0.511845', 'Simpson': '0.514456', 'Trapezoide': '0.922684'}"
            ]
          },
          "metadata": {},
          "execution_count": 12
        }
      ]
    },
    {
      "cell_type": "markdown",
      "metadata": {
        "id": "hKlcznPcYMCm"
      },
      "source": [
        "$$\\int_{e}^{2e}\\frac{1}{ln(x)}dx$$"
      ]
    },
    {
      "cell_type": "code",
      "metadata": {
        "id": "CtVbYw0wte7F",
        "colab": {
          "base_uri": "https://localhost:8080/"
        },
        "outputId": "9ce026cb-29d2-4acc-feae-13e35dac0d2d"
      },
      "source": [
        "f4_s=lambda x: 1/sp.log(x) # Funcion en formato de scipy\n",
        "f4=lambda x: 1/np.log(x)   # Funcion en formato de numpy\n",
        "a=np.e   # Limite inferior de la integral\n",
        "b=2*np.e # Limite superior de la integral\n",
        "eps=1e-5\n",
        "\n",
        "valor={\"Trapezoide\":\"%5lf\" %(integr_trap(f4_s,f4,a,b,eps)),'Simpson':\"%5lf\" %(simpson(f4_s,f4,a,b,eps)),\"Cuadratura\":\"%5lf\" %(integrate.quad(f4,a,b,epsabs=1e-05)[0])}\n",
        "valor\n"
      ],
      "execution_count": 13,
      "outputs": [
        {
          "output_type": "execute_result",
          "data": {
            "text/plain": [
              "{'Cuadratura': '2.003811', 'Simpson': '2.003816', 'Trapezoide': '2.006240'}"
            ]
          },
          "metadata": {},
          "execution_count": 13
        }
      ]
    },
    {
      "cell_type": "markdown",
      "metadata": {
        "id": "hc8J1PexvHoS"
      },
      "source": [
        "# Velocidad de escape\n"
      ]
    },
    {
      "cell_type": "markdown",
      "metadata": {
        "id": "rOSp59YGxtFJ"
      },
      "source": [
        "se tiene la ecuación: $$v^2=2gR\\int_{1}^{\\infty}\\frac{1}{z^2}dz$$\n",
        "extraemos la integral: $$\\int_{1}^{\\infty}\\frac{1}{z^2}dz$$\n",
        "Se soluciona con la funcion integrate.quad:\n"
      ]
    },
    {
      "cell_type": "code",
      "metadata": {
        "id": "wbwm-SiEz8Bb",
        "colab": {
          "base_uri": "https://localhost:8080/"
        },
        "outputId": "c70e9a5b-f6f9-4776-98b2-d8ee97cbe17e"
      },
      "source": [
        "f=lambda z: 1/(z**2) # funcion que está dentro de la integral\n",
        "a=1      # Limite inferior\n",
        "b=np.inf # Limite superior que es infinito\n",
        "\n",
        "valor=integrate.quad(f,a,b,full_output=0, epsabs=1e-05)[0]  # Valor de la integral en función de Z\n",
        "valor\n",
        "\n"
      ],
      "execution_count": 14,
      "outputs": [
        {
          "output_type": "execute_result",
          "data": {
            "text/plain": [
              "1.0"
            ]
          },
          "metadata": {},
          "execution_count": 14
        }
      ]
    },
    {
      "cell_type": "markdown",
      "metadata": {
        "id": "G69OCmn6ngua"
      },
      "source": [
        "La integral $$\\int_{1}^{\\infty}\\frac{1}{z^2}dz=1$$\n",
        "para $z=\\frac{x}{R}$\\\n",
        "Por tanto la expresión de la velocidad de escape es:\n",
        "$$ v=\\sqrt{2gR}$$"
      ]
    },
    {
      "cell_type": "code",
      "metadata": {
        "colab": {
          "base_uri": "https://localhost:8080/"
        },
        "id": "4vhO1vNCA2SE",
        "outputId": "84d32ff5-b8c2-4a53-eb94-bd30f4ca5078"
      },
      "source": [
        "g=9.8\n",
        "R=6370000\n",
        "print(\"La velocidad de escape es de: %5lf [m/s]\"  %(np.sqrt(2*g*R)))\n"
      ],
      "execution_count": 15,
      "outputs": [
        {
          "output_type": "stream",
          "name": "stdout",
          "text": [
            "La velocidad de escape es de: 11173.719166 [m/s]\n"
          ]
        }
      ]
    },
    {
      "cell_type": "markdown",
      "metadata": {
        "id": "Xf2RPrt1APLt"
      },
      "source": [
        "#PUNTO 6"
      ]
    },
    {
      "cell_type": "code",
      "metadata": {
        "id": "DofKwH9P_9NX"
      },
      "source": [
        "def integr_trap(f_s,f,a,b,epsilon,N):\n",
        "\n",
        "  \"\"\"\n",
        "  f_s : función de scipy\n",
        "  f : funcion numpy\n",
        "  a : limite inferior de la integral\n",
        "  b : limite superior de la integral\n",
        "  epsilon : Precisión del cálculo\n",
        "  \n",
        "  \"\"\"\n",
        "\n",
        "  x = sp.symbols(\"x\")\n",
        "\n",
        "  f2 = sp.diff(f_s(x), x, 2) #Segunda derivada de la función \n",
        "\n",
        "\n",
        "  fxn5 = sp.lambdify(x, -f2, 'numpy')  # se convierte la funcion de scipy a numpy\n",
        "   \n",
        "  fp = sc.optimize.fminbound(fxn5,a,b) # Maximo de la segunda derivada de la función en el rango [a,b]\n",
        "\n",
        "  Max = abs(-fxn5(fp))    #Valor del maximo de la segunda derivada de la función\n",
        "\n",
        "  h = np.sqrt((12*epsilon)/(Max*(b-a))) # Valor del h\n",
        "\n",
        "  x = np.linspace(a, b, N+1) # Valores de x para evaluar la integral\n",
        "\n",
        "  x_interior = x[1:-1]  #Puntos del interior\n",
        "\n",
        "  \"\"\"Formula del trapecio\"\"\"\n",
        "  \n",
        "  T1 =  (f(a))\n",
        "\n",
        "  T3 =  (f(b))\n",
        "\n",
        "  T2 =  sum(f(x_interior))\n",
        "\n",
        "  trap_f = T1 + 2*T2 + T3\n",
        "\n",
        "  trap_f = 0.5*h*trap_f\n",
        "\n",
        "  return  (trap_f)"
      ],
      "execution_count": 16,
      "outputs": []
    },
    {
      "cell_type": "code",
      "metadata": {
        "id": "-YuYTfj0_9S_"
      },
      "source": [
        "def simpson(f_s,f, a, b, epsilon,N):\n",
        "  \"\"\"\n",
        "  Aproxima la integral de $f$ en $[a,b]$ mediante la fórmula compuesta \n",
        "  de Simpson con N subintervalos\n",
        "  \"\"\"\n",
        "  x = sp.symbols(\"x\")\n",
        "\n",
        "  f2 = sp.diff(f_s(x), x, 2) #Segunda derivada de la función \n",
        "\n",
        "\n",
        "  fxn5 = sp.lambdify(x, -f2, 'numpy')  # se convierte la funcion de scipy a numpy\n",
        "   \n",
        "  fp = sc.optimize.fminbound(fxn5,a,b) # Maximo de la segunda derivada de la función en el rango [a,b]\n",
        "\n",
        "  M = abs(-fxn5(fp))  #Valor del maximo de la segunda derivada de la función\n",
        "  \n",
        "  n_nodos = 2*N+1 # (N+1 extremos de subintervalos) + (N puntos medios)\n",
        "  \n",
        "  x = np.linspace(a, b, n_nodos)\n",
        "\n",
        "  x_impar = x[1: :2] # Nodos con coordenada impar (ptos medios)\n",
        "\n",
        "  x_par = x[2:n_nodos-1:2] # Nodos con coordenada par (salvo el primero y el último)\n",
        "\n",
        "  h = (b-a)/(2*N) # Distancia entre dos nodos de integración\n",
        "\n",
        "  cuad = h/3*(f(a) + 2*sum(f(x_par)) + 4*sum(f(x_impar)) + f(b)) # F. comp. de Simpson\n",
        "\n",
        "  return cuad  "
      ],
      "execution_count": 17,
      "outputs": []
    },
    {
      "cell_type": "code",
      "metadata": {
        "id": "rodmlluHAU78",
        "colab": {
          "base_uri": "https://localhost:8080/",
          "height": 238
        },
        "outputId": "af14dfb2-66f3-4799-cffb-0e0ad5abcb06"
      },
      "source": [
        "\n",
        "f_s = lambda t: sp.exp(-t)  # Funcion en formato sympy\n",
        "f = lambda t: np.exp(-t)    # Funcion en formato numpy\n",
        "\n",
        "a = 0   # Limites de integración\n",
        "b = 1\n",
        "\n",
        "eps = 1e-7  # Epsilon de la exactitud\n",
        "  \n",
        "N = [2,10,20,40,80,160]   # Valores de N (Numero de particiones)\n",
        "\n",
        "trap = np.zeros(len(N)) # arreglo para almacenar los valores de la integral con el método del trapecio\n",
        "er_trap = []        # Lista para almacenar el error del valor de la integral con el metodo del trapecio\n",
        "\n",
        "simp = np.zeros(len(N))  # arreglo para almacenar los valores de la integral con el método del trapecio\n",
        "er_simp = []      # Lista para almacenar el error del valor de la integral con el metodo de simpson\n",
        "\n",
        "\n",
        "# Ciclo para evaluar la integral con cada metodo y almacenar los valores en los respectivos arrays anteriores\n",
        "for i in range(0,len(N)):\n",
        "  numer = integrate.quad(f,a,b)[0]\n",
        "  trap[i] = integr_trap(f_s,f,a,b,eps,N[i])\n",
        "  simp[i] = simpson(f_s,f,a,b,eps,N[i])\n",
        "\n",
        "\n",
        "# Ciclo para calcular el error de cada metodo y almacenar los valores en los respectivos arrays :\n",
        "  er_trap.append(abs(trap[i]-numer)/numer)\n",
        "  er_simp.append(abs(simp[i]-numer)/numer)\n",
        "\n",
        "\" Dataframe para organizar los valores de N y los errores\"\n",
        "df=pd.DataFrame()\n",
        "df[\"N\"]=N\n",
        "df[\"e_trapecio\"]=er_trap\n",
        "df[\"e_simpson\"]=er_simp\n",
        "df"
      ],
      "execution_count": 18,
      "outputs": [
        {
          "output_type": "execute_result",
          "data": {
            "text/html": [
              "<div>\n",
              "<style scoped>\n",
              "    .dataframe tbody tr th:only-of-type {\n",
              "        vertical-align: middle;\n",
              "    }\n",
              "\n",
              "    .dataframe tbody tr th {\n",
              "        vertical-align: top;\n",
              "    }\n",
              "\n",
              "    .dataframe thead th {\n",
              "        text-align: right;\n",
              "    }\n",
              "</style>\n",
              "<table border=\"1\" class=\"dataframe\">\n",
              "  <thead>\n",
              "    <tr style=\"text-align: right;\">\n",
              "      <th></th>\n",
              "      <th>N</th>\n",
              "      <th>e_trapecio</th>\n",
              "      <th>e_simpson</th>\n",
              "    </tr>\n",
              "  </thead>\n",
              "  <tbody>\n",
              "    <tr>\n",
              "      <th>0</th>\n",
              "      <td>2</td>\n",
              "      <td>0.997764</td>\n",
              "      <td>2.154097e-05</td>\n",
              "    </tr>\n",
              "    <tr>\n",
              "      <th>1</th>\n",
              "      <td>10</td>\n",
              "      <td>0.989036</td>\n",
              "      <td>3.471189e-08</td>\n",
              "    </tr>\n",
              "    <tr>\n",
              "      <th>2</th>\n",
              "      <td>20</td>\n",
              "      <td>0.978086</td>\n",
              "      <td>2.169977e-09</td>\n",
              "    </tr>\n",
              "    <tr>\n",
              "      <th>3</th>\n",
              "      <td>40</td>\n",
              "      <td>0.956180</td>\n",
              "      <td>1.356309e-10</td>\n",
              "    </tr>\n",
              "    <tr>\n",
              "      <th>4</th>\n",
              "      <td>80</td>\n",
              "      <td>0.912363</td>\n",
              "      <td>8.476657e-12</td>\n",
              "    </tr>\n",
              "    <tr>\n",
              "      <th>5</th>\n",
              "      <td>160</td>\n",
              "      <td>0.824728</td>\n",
              "      <td>5.300655e-13</td>\n",
              "    </tr>\n",
              "  </tbody>\n",
              "</table>\n",
              "</div>"
            ],
            "text/plain": [
              "     N  e_trapecio     e_simpson\n",
              "0    2    0.997764  2.154097e-05\n",
              "1   10    0.989036  3.471189e-08\n",
              "2   20    0.978086  2.169977e-09\n",
              "3   40    0.956180  1.356309e-10\n",
              "4   80    0.912363  8.476657e-12\n",
              "5  160    0.824728  5.300655e-13"
            ]
          },
          "metadata": {},
          "execution_count": 18
        }
      ]
    },
    {
      "cell_type": "code",
      "metadata": {
        "id": "RqD05v55E4Hm",
        "colab": {
          "base_uri": "https://localhost:8080/",
          "height": 269
        },
        "outputId": "44a63604-a695-4c36-ef46-ddbaffcc7e99"
      },
      "source": [
        "loge_simp = np.log(er_simp) # Log del error abosoluto de simpson\n",
        "loge_trap = np.log(er_trap) # Log del error absoluto\n",
        "Nlog = np.log(N)            # Log de N\n",
        "\n",
        "\n",
        "fig, axes = plt.subplots(2, 1) \n",
        "axes[0].plot(Nlog, loge_simp, label=\"Log(Simpson) vs Log(N)\") # Grafica log-log del error con el metodo de simpson vs N\n",
        "axes[1].plot(Nlog, loge_trap, label=\"Log(Trap) vs Log(N)\")# Grafica log-log del error con el metodo de trapecio vs N\n",
        "axes[1].legend()\n",
        "axes[0].legend()\n",
        "axes[0].grid()\n",
        "axes[1].grid()"
      ],
      "execution_count": 19,
      "outputs": [
        {
          "output_type": "display_data",
          "data": {
            "image/png": "[encoded data removed]",
            "text/plain": [
              "<Figure size 432x288 with 2 Axes>"
            ]
          },
          "metadata": {
            "needs_background": "light"
          }
        }
      ]
    }
  ]
}