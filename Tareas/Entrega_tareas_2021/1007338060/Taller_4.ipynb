{
  "nbformat": 4,
  "nbformat_minor": 0,
  "metadata": {
    "colab": {
      "name": "Taller_4.ipynb",
      "provenance": [],
      "collapsed_sections": []
    },
    "kernelspec": {
      "name": "python3",
      "display_name": "Python 3"
    },
    "language_info": {
      "name": "python"
    }
  },
  "cells": [
    {
      "cell_type": "markdown",
      "metadata": {
        "id": "0zR0txvPZqgj"
      },
      "source": [
        "$$\\textbf{Taller 4} \\\\ \\textbf{Natali André Julio Beltran - 1098807231}\\\\ \\textbf{Brayan Alejandro Murillo González - 1007338060}$$"
      ]
    },
    {
      "cell_type": "code",
      "metadata": {
        "id": "MRPmbwM3YZ5b"
      },
      "source": [
        "import math as m\n",
        "import numpy as np\n",
        "import matplotlib as plt\n",
        "from pylab import *\n",
        "import scipy as sp\n",
        "from scipy import optimize\n",
        "import pandas as pd\n",
        "\n"
      ],
      "execution_count": 251,
      "outputs": []
    },
    {
      "cell_type": "markdown",
      "metadata": {
        "id": "b9dNyBn2fnsJ"
      },
      "source": [
        "PUNTO 1"
      ]
    },
    {
      "cell_type": "markdown",
      "metadata": {
        "id": "IOvt3wU8gyaa"
      },
      "source": [
        "$$e^{x}-2=cos(e^{x}-2)$$\n",
        "\n",
        "$$f(x)=e^{x}-2-cos(e^{x}-2)$$"
      ]
    },
    {
      "cell_type": "code",
      "metadata": {
        "colab": {
          "base_uri": "https://localhost:8080/",
          "height": 286
        },
        "id": "XJwfXdNcYoAI",
        "outputId": "467dfe46-9b52-4ad3-c162-ede975b74f41"
      },
      "source": [
        "\"\"\" Se definen la función f(x) a partir de la ecuacion dada\"\"\"\n",
        "\n",
        "def f(x):\n",
        "  f=np.exp(x)-2-np.cos(np.exp(x)-2)\n",
        "  return f \n",
        "\n",
        "\"\"\" Se define la derivada de la función anterior para utilizar el metodo de la secante\"\"\"  \n",
        "def fpr(x):\n",
        "  return np.exp(x)+np.sin(np.exp(x)-2)*np.exp(x)\n",
        "  \n",
        "\n",
        "\n",
        "\"\"\" Se crea un arreglo para x y se evalua en f(x) para graficar\"\"\"  \n",
        "x=np.arange(-2.5,2,0.1) # Valores de x entre -2.5 < x < 0.1 para graficar\n",
        "\n",
        "plot(x,f(x),label=\"$f(x)$\")\n",
        "plt.grid()\n",
        "plt.legend()\n",
        "\n"
      ],
      "execution_count": 252,
      "outputs": [
        {
          "output_type": "execute_result",
          "data": {
            "text/plain": [
              "<matplotlib.legend.Legend at 0x7f72dcc33290>"
            ]
          },
          "metadata": {
            "tags": []
          },
          "execution_count": 252
        },
        {
          "output_type": "display_data",
          "data": {
            "image/png": "[encoded data removed]",
            "text/plain": [
              "<Figure size 432x288 with 1 Axes>"
            ]
          },
          "metadata": {
            "tags": [],
            "needs_background": "light"
          }
        }
      ]
    },
    {
      "cell_type": "code",
      "metadata": {
        "id": "zvNtNgxMaja5",
        "colab": {
          "base_uri": "https://localhost:8080/",
          "height": 36
        },
        "outputId": "7a84cf72-1581-4ef8-ce77-8f17b1ee138e"
      },
      "source": [
        "root1=optimize.newton(f,0.5)          # Raiz por metodo de Newton\n",
        "root2=optimize.newton(f,0.5,fpr)        # Raiz por metodo de secante  \n",
        "root3=optimize.bisect(f,0.5,3)        # Raiz por metodo de biseccion \n",
        "root4=optimize.fixed_point(f,1.05)     # Raiz por metodo de punto fijo\n",
        "\n",
        "\n",
        "\"\"\" Se crea un dataframe con las raices obtenidas con los distintos metodos para comparar \"\"\"\n",
        "\n",
        "df=pd.DataFrame()\n",
        "df[\"Método\"]=[\"Newton\",\"Secant\",\"Bisección\",\"Punto fijo\"]\n",
        "df[\"Raíz\"]=[root1,root2,root3,root4]\n",
        "\n",
        "df\n",
        "\"\"\" Se observa que el unico valor distinto para la raiz es el obtenido con el metodo de punto fijo \"\"\""
      ],
      "execution_count": 253,
      "outputs": [
        {
          "output_type": "execute_result",
          "data": {
            "application/vnd.google.colaboratory.intrinsic+json": {
              "type": "string"
            },
            "text/plain": [
              "' Se observa que el unico valor distinto para la raiz es el obtenido con el metodo de punto fijo '"
            ]
          },
          "metadata": {
            "tags": []
          },
          "execution_count": 253
        }
      ]
    },
    {
      "cell_type": "markdown",
      "metadata": {
        "id": "L4-dvF4WkcPl"
      },
      "source": [
        "PUNTO 2 "
      ]
    },
    {
      "cell_type": "markdown",
      "metadata": {
        "id": "eYgVhj43mJit"
      },
      "source": [
        "$$ x(t) = -\\frac{g}{2\\omega^2} \\left( \\frac{e^{\\omega t}-e^{-\\omega t}}{2}\\right) -\\sin\\omega t \\ \\ \\ \\ (1)$$"
      ]
    },
    {
      "cell_type": "markdown",
      "metadata": {
        "id": "a4pXBQnyoO1B"
      },
      "source": [
        "cuando $$x(1)=0.51$$ \n",
        "\n"
      ]
    },
    {
      "cell_type": "markdown",
      "metadata": {
        "id": "SmC2bQTWmbju"
      },
      "source": [
        "$$f(w) = 2\\omega^2\\  0.51\\sin\\omega  \\ + \\ g \\ sinh (\\omega)   $$"
      ]
    },
    {
      "cell_type": "code",
      "metadata": {
        "colab": {
          "base_uri": "https://localhost:8080/",
          "height": 283
        },
        "id": "OfMNct-fkoOs",
        "outputId": "98fcd9fd-302f-404b-97d3-ed93bde9120a"
      },
      "source": [
        "\n",
        "\"\"\" Se remplazan los valores de x=0.51 t=1 en la ecuacion uno, se iguala a cero y se construye la funcion \"\"\"\n",
        "\n",
        "def f(w):\n",
        "  f=(2*w**2)*(0.51+np.sin(w))+g*np.sinh(w)\n",
        "  return (f)\n",
        "\n",
        "g=9.76 # Valor de la gravedad\n",
        "\n",
        "\"\"\" Se grafica la funcion para tener una idea de en que punto se encuentra la raiz \"\"\"\n",
        "x = np.linspace(-2, 2, 100) # Valores de x entre -2 < x < 2 para graficar\n",
        "\n",
        "plt.plot(x, f(x), label=\"f(x)\")\n",
        "plt.grid()\n",
        "plt.legend()\n",
        "\n",
        "\n"
      ],
      "execution_count": 254,
      "outputs": [
        {
          "output_type": "execute_result",
          "data": {
            "text/plain": [
              "<matplotlib.legend.Legend at 0x7f72dcba9050>"
            ]
          },
          "metadata": {
            "tags": []
          },
          "execution_count": 254
        },
        {
          "output_type": "display_data",
          "data": {
            "image/png": "[encoded data removed]",
            "text/plain": [
              "<Figure size 432x288 with 1 Axes>"
            ]
          },
          "metadata": {
            "tags": [],
            "needs_background": "light"
          }
        }
      ]
    },
    {
      "cell_type": "code",
      "metadata": {
        "colab": {
          "base_uri": "https://localhost:8080/",
          "height": 55
        },
        "id": "pzSAYL3y4PiJ",
        "outputId": "318d6f1b-7e2f-4fe0-b1f9-e29b533f53f7"
      },
      "source": [
        "\"\"\" Calculo de la raiz por el metodo de Newton-Raphson  \"\"\"\n",
        "\n",
        "root=optimize.newton(f,-0.5)\n",
        "print(\"La velocidad con la que cambia el ángulo es aproximadamente: %f°\" %(root))\n",
        "\n",
        "\n",
        "\n",
        "\"\"\" El angulo es constante, cambia a una velocidad de aproximadamente 0° por segundo \"\"\""
      ],
      "execution_count": 255,
      "outputs": [
        {
          "output_type": "stream",
          "text": [
            "La velocidad con la que cambia el ángulo es aproximadamente: -0.000000°\n"
          ],
          "name": "stdout"
        },
        {
          "output_type": "execute_result",
          "data": {
            "application/vnd.google.colaboratory.intrinsic+json": {
              "type": "string"
            },
            "text/plain": [
              "' El angulo es constante, cambia a una velocidad de aproximadamente 0° por segundo '"
            ]
          },
          "metadata": {
            "tags": []
          },
          "execution_count": 255
        }
      ]
    },
    {
      "cell_type": "markdown",
      "metadata": {
        "id": "AdQpMYM4q6pI"
      },
      "source": [
        "PUNTO 3"
      ]
    },
    {
      "cell_type": "markdown",
      "metadata": {
        "id": "vZ-JBBc52TXK"
      },
      "source": [
        "$$V=L \\left ( \\frac{1}{2}\\pi r^2 -r^2 \\arcsin{\\frac{h}{r}}-h(r^2-h^2) ^{1/2} \\right)$$"
      ]
    },
    {
      "cell_type": "markdown",
      "metadata": {
        "id": "RK2WpIoaX7CA"
      },
      "source": [
        "$$ L=10, \\ V=12.4,\\ r=1  $$"
      ]
    },
    {
      "cell_type": "markdown",
      "metadata": {
        "id": "wUFxSj802YDI"
      },
      "source": [
        "$$ f(h)=5 \\pi-10\\ arcsin(h)-10h(1-h^2)^\\frac{1}{2}-12.4=0$$"
      ]
    },
    {
      "cell_type": "code",
      "metadata": {
        "colab": {
          "base_uri": "https://localhost:8080/",
          "height": 286
        },
        "id": "mni-m3re1biY",
        "outputId": "0cece033-8cac-49ca-d6c3-0687267a3140"
      },
      "source": [
        "\n",
        "\"\"\"\" Se define la función f(h) a partir de la ecuacion dada para el volumen remplazando los valores de L,V,r dados en el problema\"\"\"\n",
        "\n",
        "def f(h):\n",
        "  return 5*np.pi-10*np.arcsin(h)-(10*h*(1-h**2)**(1/2))-12.4\n",
        "  \n",
        "\"\"\" Se grafica la funcion para tener una idea de en que punto se encuentra la raiz \"\"\"\n",
        "h=np.arange(0,1,0.01)\n",
        "\n",
        "plot(h,f(h), label=\"$f(h)$\")\n",
        "plt.grid()\n",
        "plt.legend()"
      ],
      "execution_count": 256,
      "outputs": [
        {
          "output_type": "execute_result",
          "data": {
            "text/plain": [
              "<matplotlib.legend.Legend at 0x7f72dcb92490>"
            ]
          },
          "metadata": {
            "tags": []
          },
          "execution_count": 256
        },
        {
          "output_type": "display_data",
          "data": {
            "image/png": "[encoded data removed]",
            "text/plain": [
              "<Figure size 432x288 with 1 Axes>"
            ]
          },
          "metadata": {
            "tags": [],
            "needs_background": "light"
          }
        }
      ]
    },
    {
      "cell_type": "code",
      "metadata": {
        "colab": {
          "base_uri": "https://localhost:8080/"
        },
        "id": "mvV5jXyN4Mqr",
        "outputId": "99c02691-be48-42ee-e507-3f4a7f3335e4"
      },
      "source": [
        "\"\"\" Calculo de la raiz por el metodo de Newton-Raphson  \"\"\"\n",
        "\n",
        "h1=optimize.newton(f,0.2)\n",
        "\n",
        "print(\"La profundidad del agua para L=10[ft], r=1[ft], V=12.4[ft] es de: %f[ft] \" %(1-h1)) "
      ],
      "execution_count": 257,
      "outputs": [
        {
          "output_type": "stream",
          "text": [
            "La profundidad del agua para L=10[ft], r=1[ft], V=12.4[ft] es de: 0.833834[ft] \n"
          ],
          "name": "stdout"
        }
      ]
    },
    {
      "cell_type": "markdown",
      "metadata": {
        "id": "X8uDteMn5TTo"
      },
      "source": [
        "PUNTO 3"
      ]
    },
    {
      "cell_type": "code",
      "metadata": {
        "id": "DVA3o7QUR9Vg"
      },
      "source": [
        ""
      ],
      "execution_count": 257,
      "outputs": []
    },
    {
      "cell_type": "markdown",
      "metadata": {
        "id": "zu50QZWB5Xto"
      },
      "source": [
        "$$A \\sin(\\alpha) \\cos(\\alpha)+B \\sin^2(\\alpha) - C \\cos(\\alpha) -  E  \\sin(\\alpha)=0\\ \\ \\ \\ (1)$$ \n",
        "\n",
        "\n",
        "\n",
        "donde; \n",
        "$$\n",
        "A = l \\sin(\\beta)\n",
        "\\$$\n",
        "\n",
        "$$\n",
        "B = l \\cos(\\beta)\n",
        "$$\n",
        "$$\n",
        "C = (h + 0.5 D )\\sin(\\beta) - 0.5 D \\tan(\\beta)\n",
        "$$\n",
        "$$\n",
        "E = (h + 0.5 D ) \\cos(\\beta) - 0.5 * D\n",
        "$$\n",
        "\n",
        "\n",
        "Para los valores $l=89$pulg, $h=49$pul, $D=55$, $\\beta=11.5$ , el angulo $ \\alpha$ se aproximara a 33"
      ]
    },
    {
      "cell_type": "code",
      "metadata": {
        "colab": {
          "base_uri": "https://localhost:8080/",
          "height": 283
        },
        "id": "anWQ-tLC58kV",
        "outputId": "a95998e8-effc-4617-a51b-1af78e0dec6f"
      },
      "source": [
        "\"\"\" Definimos cada uno de los coeficientes A,B,C,E para construir la funcion que dependa unicamente de alpha \"\"\"\n",
        "l,h,D,beta=89,49,55,11.5\n",
        "l=89\n",
        "h=49\n",
        "D=55\n",
        "beta= np.radians(11.5) # El angulo beta dado se convierte a radianes\n",
        "\n",
        "A=l*np.sin(beta)\n",
        "B=l*np.cos(beta)\n",
        "C=(h+0.5*D)*np.sin(beta)-0.5*D*(np.tan(beta))\n",
        "E=(h+0.5*D)*np.cos(beta)-0.5*D\n",
        "\n",
        "\"\"\" Una vez establecidos los coeficientes de la ecuación (1) se define dentro de python como una funcion de α\"\"\"\n",
        "def f(α):\n",
        "  return A*np.sin(α)*np.cos(α)+B*((np.sin(α))**2)-C*np.cos(α)-E*np.sin(α)\n",
        "  \n",
        "\"\"\" Graficamos la funcion\"\"\"\n",
        "α=np.arange(-2*np.pi,2*np.pi,0.1) # Valores de α entre -2π < α < 2π para graficar\n",
        "y=f(α)\n",
        "\n",
        "plot(α,y,label=\"f (α)\")\n",
        "plt.grid()\n",
        "plt.legend()\n"
      ],
      "execution_count": 258,
      "outputs": [
        {
          "output_type": "execute_result",
          "data": {
            "text/plain": [
              "<matplotlib.legend.Legend at 0x7f72dcb254d0>"
            ]
          },
          "metadata": {
            "tags": []
          },
          "execution_count": 258
        },
        {
          "output_type": "display_data",
          "data": {
            "image/png": "[encoded data removed]",
            "text/plain": [
              "<Figure size 432x288 with 1 Axes>"
            ]
          },
          "metadata": {
            "tags": [],
            "needs_background": "light"
          }
        }
      ]
    },
    {
      "cell_type": "code",
      "metadata": {
        "colab": {
          "base_uri": "https://localhost:8080/"
        },
        "id": "ywU-hYYI8QPR",
        "outputId": "6e3b7d52-9ce7-4a51-f8ba-ed6987ab3599"
      },
      "source": [
        "\n",
        "\"\"\" Calculo de la raiz por el metodo de Newton-Raphson  \"\"\"\n",
        "\n",
        "alpha1=optimize.newton(f,1)         # Angulo en radianes obtenido con el metodo de newton\n",
        "\n",
        "print(\"El angulo alpha es de aproximadamente: \",(np.degrees(alpha1)))"
      ],
      "execution_count": 259,
      "outputs": [
        {
          "output_type": "stream",
          "text": [
            "El angulo alpha es de aproximadamente:  32.9721748224196\n"
          ],
          "name": "stdout"
        }
      ]
    }
  ]
}