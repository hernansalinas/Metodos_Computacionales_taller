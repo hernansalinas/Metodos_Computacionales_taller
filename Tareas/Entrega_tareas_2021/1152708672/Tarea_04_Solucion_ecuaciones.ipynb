{
  "nbformat": 4,
  "nbformat_minor": 0,
  "metadata": {
    "colab": {
      "name": "Tarea_04_Solucion_ecuaciones.ipynb",
      "provenance": [],
      "collapsed_sections": []
    },
    "kernelspec": {
      "name": "python3",
      "display_name": "Python 3"
    },
    "language_info": {
      "name": "python"
    }
  },
  "cells": [
    {
      "cell_type": "markdown",
      "metadata": {
        "id": "-lyGNw49xEFh"
      },
      "source": [
        "#**Grupo 7**\n",
        "\n",
        "##- Miguel Angel Gómez Pineda\n",
        "##**Compañero de trabajo:**\n",
        "##- Camilo Londoño Vera"
      ]
    },
    {
      "cell_type": "markdown",
      "metadata": {
        "id": "L4CfhxnTGbCC"
      },
      "source": [
        "# Taller Resolver los siguientes problemas, por el metodo de la biseccion, Punto fijo, newton, secante, etc.\n"
      ]
    },
    {
      "cell_type": "markdown",
      "metadata": {
        "id": "K7NYBXj_GcOz"
      },
      "source": [
        "1. *Encontrar* los ceros de $e^{x}-2= \\cos(e^x-2)$\n",
        "\n",
        "------------------------"
      ]
    },
    {
      "cell_type": "code",
      "metadata": {
        "id": "5QdH2vRZGPHx"
      },
      "source": [
        "# Importar librerias\n",
        "\n",
        "import numpy as np\n",
        "from scipy import optimize\n",
        "import matplotlib.pylab as plt"
      ],
      "execution_count": 96,
      "outputs": []
    },
    {
      "cell_type": "markdown",
      "metadata": {
        "id": "Y1RQ5-gmyBnx"
      },
      "source": [
        "##Se tiene que $e^{x}-2= \\cos(e^x-2)$ puede reescribirse como la función: $f(x) = e^{x} - 2 - \\cos(e^x-2)$"
      ]
    },
    {
      "cell_type": "code",
      "metadata": {
        "id": "D8qBw0jExkP8"
      },
      "source": [
        "# Primero se gráfica para observar donde pueden estar las raices de la función \n",
        "\n",
        "f = lambda x: (np.exp(x)-2)-(np.cos(np.exp(x)-2))\n",
        "\n",
        "x = np.linspace(-2, 2, 100)"
      ],
      "execution_count": 97,
      "outputs": []
    },
    {
      "cell_type": "code",
      "metadata": {
        "colab": {
          "base_uri": "https://localhost:8080/",
          "height": 283
        },
        "id": "xAJ9KkCK4U5J",
        "outputId": "a7e667e4-f3a8-4aa3-9fe7-ce88b7b2f498"
      },
      "source": [
        "plt.plot(x, f(x), label=\"f(x)\")\n",
        "plt.grid()\n",
        "plt.legend()"
      ],
      "execution_count": 98,
      "outputs": [
        {
          "output_type": "execute_result",
          "data": {
            "text/plain": [
              "<matplotlib.legend.Legend at 0x7fa7b925e510>"
            ]
          },
          "metadata": {
            "tags": []
          },
          "execution_count": 98
        },
        {
          "output_type": "display_data",
          "data": {
            "image/png": "[encoded data removed]",
            "text/plain": [
              "<Figure size 432x288 with 1 Axes>"
            ]
          },
          "metadata": {
            "tags": [],
            "needs_background": "light"
          }
        }
      ]
    },
    {
      "cell_type": "markdown",
      "metadata": {
        "id": "J9ZDVzzM5HNG"
      },
      "source": [
        "##Se puede observar que la raiz esta aproximadamente en $x = 1$\n",
        "\n",
        "##Por lo que se hace la prueba por los métodos de Bisección y Newton"
      ]
    },
    {
      "cell_type": "code",
      "metadata": {
        "colab": {
          "base_uri": "https://localhost:8080/"
        },
        "id": "5-u6CHUF4mg_",
        "outputId": "8fb1a7c3-415f-4649-e440-97f0bed96499"
      },
      "source": [
        "# Método de Bisección\n",
        "\n",
        "root_bisect = optimize.bisect(f, 0, 4)\n",
        "print('La raiz por el metodo de biseccion es:  {}'.format(root_bisect))"
      ],
      "execution_count": 99,
      "outputs": [
        {
          "output_type": "stream",
          "text": [
            "La raiz por el metodo de biseccion es:  1.0076239716563578\n"
          ],
          "name": "stdout"
        }
      ]
    },
    {
      "cell_type": "code",
      "metadata": {
        "colab": {
          "base_uri": "https://localhost:8080/"
        },
        "id": "t__Nou3K6kOU",
        "outputId": "7ca46195-8e87-4753-9858-e154915db74a"
      },
      "source": [
        "# Método de Newton\n",
        "\n",
        "root_newt = optimize.newton(f,1)\n",
        "print('La raiz por el metodo de Newton es:  {}'.format(root_newt))"
      ],
      "execution_count": 100,
      "outputs": [
        {
          "output_type": "stream",
          "text": [
            "La raiz por el metodo de Newton es:  1.0076239716581368\n"
          ],
          "name": "stdout"
        }
      ]
    },
    {
      "cell_type": "code",
      "metadata": {
        "colab": {
          "base_uri": "https://localhost:8080/"
        },
        "id": "1YqlRj2l7A1Z",
        "outputId": "139447f8-d057-479b-bf00-a053a0f571ae"
      },
      "source": [
        "# El error asociado a ambos calculos es de\n",
        "root_newt-root_bisect"
      ],
      "execution_count": 101,
      "outputs": [
        {
          "output_type": "execute_result",
          "data": {
            "text/plain": [
              "1.7790213746593508e-12"
            ]
          },
          "metadata": {
            "tags": []
          },
          "execution_count": 101
        }
      ]
    },
    {
      "cell_type": "markdown",
      "metadata": {
        "id": "ndL_QIQn7eM-"
      },
      "source": [
        "---------------\n",
        "\n",
        "2. Una particula parte del reposo sobre un plano inclinado uniforme, cuyo ángulo \n",
        "$\\theta$ cambia con una rapidez constante de : \n",
        "\n",
        "\\begin{equation}\n",
        "\\frac{\\mathrm{d}\\theta}{\\mathrm{d} t} = \\omega < 0\n",
        "\\end{equation}\n",
        "\n",
        "Al final de t segundos, la posición del objeto esta dada por: \n",
        "\n",
        "\n",
        "\\begin{equation}\n",
        "x(t) = -\\frac{g}{2\\omega^2} \\left( \\frac{e^{\\omega t}-e^{-\\omega t}}{2}\\right) -\\sin\\omega t\n",
        "\\end{equation}\n",
        "\n",
        "\n",
        "Suponga que la partícula se desplazo 0.51m en 1s. Encuentre, con una exactitud de $10^{-5}$, la rapidez $\\omega$ con que $\\theta$ cambia. Suponga que $g=9.76m/s$\n",
        "\n",
        "\n",
        "![Plano Inclinado](https://raw.githubusercontent.com/hernansalinas/Metodos_Computacionales_taller/main/sesiones/images/ecuacion_1_variable/Fig0.png)\n",
        "\n",
        "-------------------------"
      ]
    },
    {
      "cell_type": "markdown",
      "metadata": {
        "id": "eWCh1tsOTsuB"
      },
      "source": [
        "##Para este punto se toma:\n",
        "\n",
        "\\begin{equation}\n",
        "x(t) = -\\frac{g}{2\\omega^2} \\left( \\frac{e^{\\omega t}-e^{-\\omega t}}{2}\\right) -\\sin\\omega t\n",
        "\\end{equation}\n",
        "\n",
        "\\begin{equation}\n",
        "f(\\omega,t ) = 2\\omega^2(x(t)+\\sin \\omega t )\n",
        "\\end{equation}\n",
        "\n",
        "\n",
        "\\begin{equation}\n",
        "g(\\omega,t ) = -g\\left( \\frac{e^{\\omega t}-e^{-\\omega t}}{2}\\right) \n",
        "\\end{equation}\n"
      ]
    },
    {
      "cell_type": "code",
      "metadata": {
        "colab": {
          "base_uri": "https://localhost:8080/",
          "height": 264
        },
        "id": "vOgXpJ0K7cNX",
        "outputId": "d9342847-ff77-427d-864f-2671aef87271"
      },
      "source": [
        "# Primero haciendo la gráfica\n",
        "\n",
        "f = lambda omega : 2*omega**2 * (0.51+np.sin(omega))\n",
        "g = lambda omega : -9.76* 0.5*(np.exp(omega)-np.exp(-omega))\n",
        "\n",
        "h = lambda omega : f(omega)-g(omega)\n",
        "omega = np.linspace(-2*np.pi, 2*np.pi)\n",
        "plt.figure()\n",
        "plt.plot(omega, h(omega) )\n",
        "plt.grid()"
      ],
      "execution_count": 102,
      "outputs": [
        {
          "output_type": "display_data",
          "data": {
            "image/png": "[encoded data removed]",
            "text/plain": [
              "<Figure size 432x288 with 1 Axes>"
            ]
          },
          "metadata": {
            "tags": [],
            "needs_background": "light"
          }
        }
      ]
    },
    {
      "cell_type": "markdown",
      "metadata": {
        "id": "jWORUwLFSI64"
      },
      "source": [
        "##Se puede observar que la raiz esta en aproximadamente $0$ por lo que se usa el método de Newton."
      ]
    },
    {
      "cell_type": "code",
      "metadata": {
        "colab": {
          "base_uri": "https://localhost:8080/"
        },
        "id": "vpfyW8F2QfvH",
        "outputId": "52eee44c-fdb3-4d5c-c5bb-8220e1c51e4f"
      },
      "source": [
        "root_newt = optimize.newton(h, 2)\n",
        "print('La raiz por el metodo de Newton es:  {}'.format(root_newt))"
      ],
      "execution_count": 103,
      "outputs": [
        {
          "output_type": "stream",
          "text": [
            "La raiz por el metodo de Newton es:  6.113797822835222e-17\n"
          ],
          "name": "stdout"
        }
      ]
    },
    {
      "cell_type": "markdown",
      "metadata": {
        "id": "w-2qhc3fSx7P"
      },
      "source": [
        "---------------------------\n",
        "\n",
        "3. Un reservorio de longitud L tiene una seccion transveral en forma de semicirculo con radio r.\n",
        "\n",
        "\\begin{equation}\n",
        "V=L \\left ( \\frac{1}{2}\\pi r^2 -r^2 \\arcsin{\\frac{h}{r}}-h(r^2-h^2) ^{1/2} \\right)\n",
        "\\end{equation}\n",
        "\n",
        "Determinar la profundidad del agua para L=10pies, r=1pies, V=12.4pies\n",
        "\n",
        "\n",
        "![Reservorio](https://raw.githubusercontent.com/hernansalinas/Metodos_Computacionales_taller/main/sesiones/images/ecuacion_1_variable/Fig1.png)\n",
        "\n",
        "--------------------------\n"
      ]
    },
    {
      "cell_type": "code",
      "metadata": {
        "colab": {
          "base_uri": "https://localhost:8080/",
          "height": 265
        },
        "id": "SpbfW54RR8zX",
        "outputId": "88e060c7-b4b5-42f4-e99f-880c999015b3"
      },
      "source": [
        "# Primero se gráfica para observar donde puede estar la raiz\n",
        "\n",
        "r = 1\n",
        "j = lambda h: (10*((0.5*np.pi)-(np.arcsin(h))-h*((1-(h)**2)**0.5)))-12.4 \n",
        "\n",
        "h = np.linspace(-1, 1, 100)\n",
        "\n",
        "plt.figure()\n",
        "plt.plot(h, j(h) )\n",
        "plt.grid()"
      ],
      "execution_count": 104,
      "outputs": [
        {
          "output_type": "display_data",
          "data": {
            "image/png": "[encoded data removed]",
            "text/plain": [
              "<Figure size 432x288 with 1 Axes>"
            ]
          },
          "metadata": {
            "tags": [],
            "needs_background": "light"
          }
        }
      ]
    },
    {
      "cell_type": "markdown",
      "metadata": {
        "id": "CTOu9Dn1ig3-"
      },
      "source": [
        "## Aquí se observa que la raiz es aproximadamente $x = 0.5$"
      ]
    },
    {
      "cell_type": "code",
      "metadata": {
        "colab": {
          "base_uri": "https://localhost:8080/"
        },
        "id": "R9TKCuG7VHa8",
        "outputId": "81da588f-fc2f-4714-f1a2-766ff8fe3013"
      },
      "source": [
        "# Luego hago uso del metodo de newton para hallar la raiz\n",
        "\n",
        "root_new = optimize.newton(j, 0)\n",
        "print('La raiz por el metodo de Newton es:  {}'.format(root_new))"
      ],
      "execution_count": 105,
      "outputs": [
        {
          "output_type": "stream",
          "text": [
            "La raiz por el metodo de Newton es:  0.16616603465836785\n"
          ],
          "name": "stdout"
        }
      ]
    },
    {
      "cell_type": "code",
      "metadata": {
        "colab": {
          "base_uri": "https://localhost:8080/"
        },
        "id": "KROz_bEzVR9_",
        "outputId": "2c50946b-eaae-4b65-bd52-31e2135f7d32"
      },
      "source": [
        "# Por último se halla la profundidad del agua\n",
        "\n",
        "depth_water = r - root_new\n",
        "print ('la profundidad del agua para L=10 ft, r=1 ft, V=12.4 ft es:  {} ft'.format(depth_water))"
      ],
      "execution_count": 107,
      "outputs": [
        {
          "output_type": "stream",
          "text": [
            "la profundidad del agua para L=10 ft, r=1 ft, V=12.4 ft es:  0.8338339653416321 ft\n"
          ],
          "name": "stdout"
        }
      ]
    },
    {
      "cell_type": "markdown",
      "metadata": {
        "id": "1rh6utrtjnEV"
      },
      "source": [
        "-------------------------\n",
        "4. Resolver la siguiente situación\n",
        "\n",
        "En el diseño de los vehiculos para todo tipo de terreno,  es necesario tener encuentra fallas cuando se trata de liberar dos tipos de obstáculos. Una es la falla por rozamiento, y ocurre cuando el vehiculo \n",
        "intenta cruzar un obstáculo que hace que su fondo toque el suelo. La otra recibie el nombre de falla por colision de la defensa delantera y ocurre cuando el vehiculo desciende por una zanja y la defensa delantera toca el suelo.\n",
        "\n",
        "\n",
        "\n",
        "La figura muestra las componentes asociados al segundo tipo  de falla. En ella se indeca el ángulo máximo $\\alpha$ que puede alcanzar un vehiculo cuando $\\beta$ es el angulo maximo en que no ocurre la falla \n",
        "por rozamiento y satisface la siguiente ecuación: \n",
        "\n",
        "\n",
        "\\begin{equation}\n",
        "A \\sin(\\alpha) \\cos(\\alpha)+B \\sin^2(\\alpha) - C \\cos(\\alpha) -  E  \\sin(\\alpha)=0\n",
        "\\end{equation}\n",
        "\n",
        "donde; \n",
        "\\begin{equation}\n",
        "A = l \\sin(\\beta)\n",
        "\\end{equation}\n",
        "\n",
        "\\begin{equation}\n",
        "B = l \\cos(\\beta)\n",
        "\\end{equation}\n",
        "\\begin{equation}\n",
        "C = (h + 0.5 D )\\sin(\\beta) - 0.5 D \\tan(\\beta)\n",
        "\\end{equation}\n",
        "\n",
        "\\begin{equation}\n",
        "E = (h + 0.5 D ) \\cos(\\beta) - 0.5 * D\n",
        "\\end{equation}\n",
        "\n",
        "\n",
        "Para $l=89$pulg, $h=49$pul, $D=55$, $\\beta=11.5$ , el angulo se aproximara a 33. Verificar este resultados\n",
        "\n",
        "\n",
        "![fallas_vehiculo](https://raw.githubusercontent.com/hernansalinas/Metodos_Computacionales_taller/main/sesiones/images/ecuacion_1_variable/Fig2.png)\n",
        "\n",
        "Referencias: Numerical Analysis Book by J. Douglas Faires and Richard L. Burden\n",
        "\n",
        "\n",
        "\n",
        "-------------------------"
      ]
    },
    {
      "cell_type": "code",
      "metadata": {
        "id": "IUbLAf-Uevcu"
      },
      "source": [
        "# Valores ya conocidos\n",
        "\n",
        "L = 89\n",
        "h = 49\n",
        "D = 55\n",
        "beta = np.deg2rad (11.5) # Pasa grados a radianes\n",
        "\n",
        "# se toma las ecuaciones entregadas previamente\n",
        "\n",
        "A = L*np.sin(beta)\n",
        "B = L*np.cos(beta)\n",
        "C = ((h+(0.5*D))*np.sin(beta))-(0.5*D*np.tan(beta))\n",
        "E = ((h+(0.5*D))*np.cos(beta))-(0.5*D) \n"
      ],
      "execution_count": 109,
      "outputs": []
    },
    {
      "cell_type": "code",
      "metadata": {
        "id": "Tdto2vC3naWO"
      },
      "source": [
        "# Ahora haciendo las funciones \n",
        "\n",
        "z = lambda alpha: A*np.sin(alpha)*np.cos(alpha)\n",
        "y = lambda alpha: B*(np.sin(alpha)**2)\n",
        "w = lambda alpha: C*np.cos(alpha)\n",
        "v = lambda alpha: E*np.sin(alpha)\n",
        "\n",
        "u = lambda alpha: z(alpha) + y(alpha) - w(alpha) - v(alpha)"
      ],
      "execution_count": 110,
      "outputs": []
    },
    {
      "cell_type": "code",
      "metadata": {
        "colab": {
          "base_uri": "https://localhost:8080/",
          "height": 264
        },
        "id": "p7HVwfCkrI-c",
        "outputId": "da1235b4-0838-4349-9241-c4908d574c1f"
      },
      "source": [
        "# Graficando\n",
        "\n",
        "alpha = np.linspace(0, 1)\n",
        "\n",
        "plt.figure()\n",
        "plt.plot(alpha, u(alpha) )\n",
        "plt.grid()"
      ],
      "execution_count": 111,
      "outputs": [
        {
          "output_type": "display_data",
          "data": {
            "image/png": "[encoded data removed]",
            "text/plain": [
              "<Figure size 432x288 with 1 Axes>"
            ]
          },
          "metadata": {
            "tags": [],
            "needs_background": "light"
          }
        }
      ]
    },
    {
      "cell_type": "code",
      "metadata": {
        "colab": {
          "base_uri": "https://localhost:8080/"
        },
        "id": "mK1fx4-LrlkT",
        "outputId": "f9a34f0b-dff9-4125-da6f-c1c843c92560"
      },
      "source": [
        "# Usando el método de Newton\n",
        "\n",
        "root = optimize.newton(u, 0.4)\n",
        "print('el ángulo alpha se aproxima a:  {}°  '.format(np.rad2deg(root))) # Se pasa de radianes a grados "
      ],
      "execution_count": 112,
      "outputs": [
        {
          "output_type": "stream",
          "text": [
            "el ángulo alpha se aproxima a:  32.972174822419596°  \n"
          ],
          "name": "stdout"
        }
      ]
    }
  ]
}