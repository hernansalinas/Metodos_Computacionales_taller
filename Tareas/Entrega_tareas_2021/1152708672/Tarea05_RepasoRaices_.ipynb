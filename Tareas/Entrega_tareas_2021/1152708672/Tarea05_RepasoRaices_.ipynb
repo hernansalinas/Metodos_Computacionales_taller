{
  "nbformat": 4,
  "nbformat_minor": 0,
  "metadata": {
    "colab": {
      "name": "Tarea05_RepasoRaices .ipynb",
      "provenance": [],
      "collapsed_sections": []
    },
    "kernelspec": {
      "name": "python3",
      "display_name": "Python 3"
    },
    "language_info": {
      "name": "python"
    }
  },
  "cells": [
    {
      "cell_type": "markdown",
      "metadata": {
        "id": "28SCaa2Eehby"
      },
      "source": [
        "# Problemas \n",
        "\n",
        "#1. Area \n",
        "Hallar el área de un segmento circular cuya area sea igual a una cuarta parte del área del circulo. Para la solución se sugiere lo siguiente:\n",
        "\n",
        "a) Encontrar la ecuacion trascendental.\n",
        "\n",
        "b) Con la ecuación anterior, definir una funcion $f(\\theta)=0$. Emplee la funcion labmda de python.\n",
        "\n",
        "c) Construir una data frame de pandas con la columna \"theta\" con 1000 registros(filas) entre $[-2\\pi, 2\\pi]$. Sugerencia, para construir el data frame emplee la función linspace como sigue : np.linspace(-2\\*np.pi, 2\\*np.pi, 1000 )\n",
        "\n",
        "d) Construir una segunda columna titulada \"F_theta\" con los registros f(theta)\n",
        "\n",
        "f) Realice un gráfico de  \"F_theta\" vs \"theta\". Identifique el intervalo de la raiz.\n",
        "\n",
        "Estime el valor del ángulo empleando los siguientes metodos(Emplee  la documentacion):\n",
        "\n",
        "g) [Bisección](https://docs.scipy.org/doc/scipy/reference/generated/scipy.optimize.bisect.html)\n",
        "\n",
        "h) [Newton-Rapshon](https://docs.scipy.org/doc/scipy/reference/generated/scipy.optimize.newton.html)\n",
        "\n",
        "i) [Secante](https://docs.scipy.org/doc/scipy/reference/generated/scipy.optimize.newton.html) \n",
        "\n",
        "j) [Punto Fijo](https://docs.scipy.org/doc/scipy/reference/generated/scipy.optimize.fixed_point.html)\n"
      ]
    },
    {
      "cell_type": "markdown",
      "metadata": {
        "id": "qNiNEWdfeqcJ"
      },
      "source": [
        "### **a)** Encontrar la ecuacion trascendental.\n",
        "\n",
        "\\begin{equation}\n",
        "A = As - 2\\frac{(r\\cos(\\theta/2) )(r\\sin(\\theta/2))}{2} \n",
        "\\end{equation}\n",
        "\n",
        "\\begin{equation}\n",
        "\\frac{\\pi r^2}{4} = \\pi r^2\\frac{\\theta}{2\\pi} - r^2(\\cos(\\theta/2) )(\\sin\\theta/2)\n",
        "\\end{equation}\n",
        "\n",
        "\\begin{equation}\n",
        "\\frac{\\pi}{4} = \\frac{\\theta}{2} - (\\cos(\\theta/2) )(\\sin\\theta/2)\n",
        "\\end{equation}\n",
        "\n",
        "\\begin{equation}\n",
        "\\frac{\\pi}{4} = \\frac{\\theta}{2} - \\frac{\\sin\\theta}{2}\n",
        "\\end{equation}\n",
        "\n",
        "\\begin{equation}\n",
        "\\theta-\\sin \\theta = \\frac{\\pi}{2}\n",
        "\\end{equation}\n",
        "\n",
        "\\begin{equation}\n",
        "f(\\theta)= \\theta- \\sin \\theta - \\frac{\\pi}{2}=0\n",
        "\\end{equation}\n"
      ]
    },
    {
      "cell_type": "code",
      "metadata": {
        "id": "jdaC9AMGugLY"
      },
      "source": [
        "import numpy as np\n",
        "import pandas as pd\n",
        "import matplotlib.pylab as plt\n",
        "from scipy import optimize, interpolate\n"
      ],
      "execution_count": 1,
      "outputs": []
    },
    {
      "cell_type": "markdown",
      "metadata": {
        "id": "BEJHXbVM0Wzu"
      },
      "source": [
        "###**b)** Con la ecuación anterior, definir una funcion $f(\\theta)=0$. Emplee la funcion labmda de python."
      ]
    },
    {
      "cell_type": "code",
      "metadata": {
        "id": "flcnFz3_y3Dq"
      },
      "source": [
        "f = lambda theta: theta-np.sin(theta)-np.pi/2"
      ],
      "execution_count": 2,
      "outputs": []
    },
    {
      "cell_type": "markdown",
      "metadata": {
        "id": "1RfodKgP0tLV"
      },
      "source": [
        "###**c)** Construir una data frame de pandas con la columna \"theta\" con 1000 registros(filas) entre $[-2\\pi, 2\\pi]$. Sugerencia, para construir el data frame emplee la función linspace como sigue : np.linspace(-2\\*np.pi, 2\\*np.pi, 1000 )\n",
        "\n",
        "###**d)** Construir una segunda columna titulada \"F_theta\" con los registros f(theta)"
      ]
    },
    {
      "cell_type": "code",
      "metadata": {
        "colab": {
          "base_uri": "https://localhost:8080/",
          "height": 422
        },
        "id": "kRSbFHYp0uEE",
        "outputId": "e3f0a625-f1f5-4a3d-bf5f-cf21f16cc7bb"
      },
      "source": [
        "theta = np.linspace(-2*np.pi, 2*np.pi, 1000)\n",
        "df = pd.DataFrame()\n",
        "\n",
        "df[\"theta\"] = theta\n",
        "df[\"F_theta\"] = f(theta)\n",
        "df"
      ],
      "execution_count": 3,
      "outputs": [
        {
          "output_type": "execute_result",
          "data": {
            "text/html": [
              "<div>\n",
              "<style scoped>\n",
              "    .dataframe tbody tr th:only-of-type {\n",
              "        vertical-align: middle;\n",
              "    }\n",
              "\n",
              "    .dataframe tbody tr th {\n",
              "        vertical-align: top;\n",
              "    }\n",
              "\n",
              "    .dataframe thead th {\n",
              "        text-align: right;\n",
              "    }\n",
              "</style>\n",
              "<table border=\"1\" class=\"dataframe\">\n",
              "  <thead>\n",
              "    <tr style=\"text-align: right;\">\n",
              "      <th></th>\n",
              "      <th>theta</th>\n",
              "      <th>F_theta</th>\n",
              "    </tr>\n",
              "  </thead>\n",
              "  <tbody>\n",
              "    <tr>\n",
              "      <th>0</th>\n",
              "      <td>-6.283185</td>\n",
              "      <td>-7.853982</td>\n",
              "    </tr>\n",
              "    <tr>\n",
              "      <th>1</th>\n",
              "      <td>-6.270606</td>\n",
              "      <td>-7.853981</td>\n",
              "    </tr>\n",
              "    <tr>\n",
              "      <th>2</th>\n",
              "      <td>-6.258027</td>\n",
              "      <td>-7.853979</td>\n",
              "    </tr>\n",
              "    <tr>\n",
              "      <th>3</th>\n",
              "      <td>-6.245448</td>\n",
              "      <td>-7.853973</td>\n",
              "    </tr>\n",
              "    <tr>\n",
              "      <th>4</th>\n",
              "      <td>-6.232870</td>\n",
              "      <td>-7.853960</td>\n",
              "    </tr>\n",
              "    <tr>\n",
              "      <th>...</th>\n",
              "      <td>...</td>\n",
              "      <td>...</td>\n",
              "    </tr>\n",
              "    <tr>\n",
              "      <th>995</th>\n",
              "      <td>6.232870</td>\n",
              "      <td>4.712368</td>\n",
              "    </tr>\n",
              "    <tr>\n",
              "      <th>996</th>\n",
              "      <td>6.245448</td>\n",
              "      <td>4.712380</td>\n",
              "    </tr>\n",
              "    <tr>\n",
              "      <th>997</th>\n",
              "      <td>6.258027</td>\n",
              "      <td>4.712386</td>\n",
              "    </tr>\n",
              "    <tr>\n",
              "      <th>998</th>\n",
              "      <td>6.270606</td>\n",
              "      <td>4.712389</td>\n",
              "    </tr>\n",
              "    <tr>\n",
              "      <th>999</th>\n",
              "      <td>6.283185</td>\n",
              "      <td>4.712389</td>\n",
              "    </tr>\n",
              "  </tbody>\n",
              "</table>\n",
              "<p>1000 rows × 2 columns</p>\n",
              "</div>"
            ],
            "text/plain": [
              "        theta   F_theta\n",
              "0   -6.283185 -7.853982\n",
              "1   -6.270606 -7.853981\n",
              "2   -6.258027 -7.853979\n",
              "3   -6.245448 -7.853973\n",
              "4   -6.232870 -7.853960\n",
              "..        ...       ...\n",
              "995  6.232870  4.712368\n",
              "996  6.245448  4.712380\n",
              "997  6.258027  4.712386\n",
              "998  6.270606  4.712389\n",
              "999  6.283185  4.712389\n",
              "\n",
              "[1000 rows x 2 columns]"
            ]
          },
          "metadata": {},
          "execution_count": 3
        }
      ]
    },
    {
      "cell_type": "markdown",
      "metadata": {
        "id": "pxg6_3db0xAg"
      },
      "source": [
        "###**f)** Realice un gráfico de  \"F_theta\" vs \"theta\". Identifique el intervalo de la raiz."
      ]
    },
    {
      "cell_type": "code",
      "metadata": {
        "colab": {
          "base_uri": "https://localhost:8080/",
          "height": 281
        },
        "id": "sUYATmMP0Kkw",
        "outputId": "2d0172f3-928c-4883-8f0c-920e720114a5"
      },
      "source": [
        "plt.figure()\n",
        "plt.plot(df[\"theta\"], df[\"F_theta\"] )\n",
        "plt.xlabel(\"$\\\\theta$\")\n",
        "plt.ylabel(\"$f(\\\\theta)$\")\n",
        "plt.grid()\n",
        "plt.show()"
      ],
      "execution_count": 4,
      "outputs": [
        {
          "output_type": "display_data",
          "data": {
            "image/png": "[encoded data removed]",
            "text/plain": [
              "<Figure size 432x288 with 1 Axes>"
            ]
          },
          "metadata": {
            "needs_background": "light"
          }
        }
      ]
    },
    {
      "cell_type": "markdown",
      "metadata": {
        "id": "K99P0hrd1k31"
      },
      "source": [
        "###Estime el valor del ángulo empleando los siguientes metodos(Emplee  la documentacion):\n",
        "\n",
        "###**g)** Bisección"
      ]
    },
    {
      "cell_type": "code",
      "metadata": {
        "colab": {
          "base_uri": "https://localhost:8080/"
        },
        "id": "eum6zJ9a2VJQ",
        "outputId": "664ebf70-79fd-408a-82ca-9a7c7c06a661"
      },
      "source": [
        "root_bis = optimize.bisect(f, 0, 4)\n",
        "print(f\"EL ángulo por el método de Bisección es: {root_bis:.5}\" )\n",
        "print(\"En grados:\",np.rad2deg(root_bis))"
      ],
      "execution_count": 5,
      "outputs": [
        {
          "output_type": "stream",
          "text": [
            "EL ángulo por el método de Bisección es: 2.3099\n",
            "En grados: 132.3464588341314\n"
          ],
          "name": "stdout"
        }
      ]
    },
    {
      "cell_type": "markdown",
      "metadata": {
        "id": "Y8d_Pugd18hl"
      },
      "source": [
        "###**h)** Newton-Rapshon"
      ]
    },
    {
      "cell_type": "code",
      "metadata": {
        "colab": {
          "base_uri": "https://localhost:8080/"
        },
        "id": "g2QAan182WBk",
        "outputId": "02690684-a3ad-4b88-e218-eb9d33c365e6"
      },
      "source": [
        "fprime = lambda theta: 1 - np.cos(theta)\n",
        "\n",
        "root_nr = optimize.newton(f, 1, fprime)\n",
        "print(f\"EL ángulo por el método de Newton-Rapshon es: {root_nr:.5}\" )\n",
        "print(\"En grados:\",np.rad2deg(root_nr))"
      ],
      "execution_count": 6,
      "outputs": [
        {
          "output_type": "stream",
          "text": [
            "EL ángulo por el método de Newton-Rapshon es: 2.3099\n",
            "En grados: 132.3464588340929\n"
          ],
          "name": "stdout"
        }
      ]
    },
    {
      "cell_type": "markdown",
      "metadata": {
        "id": "3M9BNPhO18Wk"
      },
      "source": [
        "###**i)** Secante"
      ]
    },
    {
      "cell_type": "code",
      "metadata": {
        "id": "9I12FUQk2Wgt",
        "colab": {
          "base_uri": "https://localhost:8080/"
        },
        "outputId": "c0197989-8b3b-4e5e-b61b-09ab8af0c0f8"
      },
      "source": [
        "root_sc = optimize.newton(f, 0)\n",
        "print(f\"EL ángulo por el método de la secante es: {root_sc:.5}\" )\n",
        "print(\"En grados:\",np.rad2deg(root_sc))"
      ],
      "execution_count": 7,
      "outputs": [
        {
          "output_type": "stream",
          "text": [
            "EL ángulo por el método de la secante es: 2.3099\n",
            "En grados: 132.3464588340929\n"
          ],
          "name": "stdout"
        }
      ]
    },
    {
      "cell_type": "markdown",
      "metadata": {
        "id": "pRVmdPH418OM"
      },
      "source": [
        "###**j)** Punto Fijo"
      ]
    },
    {
      "cell_type": "code",
      "metadata": {
        "id": "BWD5QTN90Q6I",
        "colab": {
          "base_uri": "https://localhost:8080/"
        },
        "outputId": "9dd9e225-ce21-4d4d-f030-10fadb2e30f1"
      },
      "source": [
        "root_fp = optimize.fixed_point(lambda x: x - f(x), 0, maxiter=100)\n",
        "print(f\"EL ángulo por el método de Punto fijo es: {root_fp:.5}\" )\n",
        "print(\"En grados:\",np.rad2deg(root_fp))"
      ],
      "execution_count": 8,
      "outputs": [
        {
          "output_type": "stream",
          "text": [
            "EL ángulo por el método de Punto fijo es: 2.3099\n",
            "En grados: 132.3464588340929\n"
          ],
          "name": "stdout"
        }
      ]
    },
    {
      "cell_type": "markdown",
      "metadata": {
        "id": "GVQBebdo_w71"
      },
      "source": [
        "# 2. Movimiento de proyectiles en presencia de viento.\n",
        "\n",
        "Supongamos que un proyectil es lanzado desde el origen con una rapidez $v=vo( \\cos \\theta , \\sin \\theta) $. Supongamos además que el efecto del viento sobre el proyectil es el de una fuerza proporcional a la velocidad relativa entre el viento y el proyectil. Teniendo presente que si $u$ es la velocidad del viento y $\\alpha$ el ángulo que hace dirección de esta velocidad con el eje x, se puede entrontrar las siguientes ecuaciones diferenciales, asociada al estado de movimiento del [proyectil](https://iopscience.iop.org/article/10.1088/0143-0807/36/2/025016/meta):\n",
        "\n",
        "\n",
        "\\begin{equation}\n",
        "m\\frac{dv_x}{dt} = -mb(v_x-u\\cos \\alpha )\n",
        "\\end{equation}\n",
        "\n",
        "\\begin{equation}\n",
        "m\\frac{dv_y}{dt} = -mg-mb(v_x-u\\sin \\alpha ),\n",
        "\\end{equation}\n",
        "\n",
        "donde b es el párametro de rozamiento. La soluciones a las ecuaciones anteriores vienen dadas por:\n",
        "\n",
        "Posición en x\n",
        "\\begin{equation}\n",
        "x=(u\\cos \\alpha) t + \\frac{1}{b} (v_0\\cos \\theta_0 -u \\cos\\alpha)(1-\\mathrm{exp}(-bt))\n",
        "\\end{equation}\n",
        "\n",
        "Posicion en y \n",
        "\\begin{equation}\n",
        "y= \\frac{1}{b}\\left(\\frac{g}{b}+v_0 \\sin \\theta_0 -u\\sin\\alpha \\right)(1-\\mathrm{exp}(-bt))-\\left( \\frac{g}{b}-u\\sin\\alpha\\right)t\n",
        "\\end{equation}\n",
        "\n",
        "Ver imagen:  http://www.sc.ehu.es/sbweb/fisica3/fluidos/viento/parabolico.html\n",
        "\n",
        "\n",
        "0. Establezca las siguietnes condiciones inciales.\n",
        "\n",
        "```\n",
        "#Parametros iniciales\n",
        "\n",
        "v0 = 60 #Velocidad en m/s\n",
        "alpha = np.pi #Angulo del viento\n",
        "theta = np.deg2rad(45) #Angulo de lanzamiento\n",
        "u = v0/2             #rapidez del viento\n",
        "b = 0.05             #Parametro de friccion \n",
        "g = 9.8                #Aceleracion de la gravedad m/s2\n",
        "\n",
        "Params = (alpha, v0, b, u,g)  #Parametros en tupla.\n",
        "\n",
        "```\n",
        "\n",
        "\n",
        "\n",
        "1. Defina dos funciones, una para x y otra para y. \n",
        "\n",
        "```\n",
        "\n",
        "#Posicion en x\n",
        "def pos_x(t, theta, alpha, v0, b, u,g):\n",
        "  x = #escriba aca la expresión\n",
        "  return x\n",
        "\n",
        "#Posicion en y\n",
        "def pos_y(t, theta, alpha, v0, b, u,g):\n",
        "\n",
        "\n",
        "  y = #escriba aca la expresión\n",
        "  return y \n",
        "\n",
        "```\n",
        "\n",
        "2. Construya un diccionario con las claves \"X\", \"Y\", \"Tiempo\"\n",
        "\n",
        "3. Con el diccionario construya un data frame de pandas llamado df con los nombres de columnas \"X\", \"Y\", \"Tiempo\"  https://pandas.pydata.org/docs/reference/api/pandas.DataFrame.from_dict.html. Defina 1000 registros para el intervalo de tiempo elegido.\n",
        "\n",
        "\n",
        "4. Realice un gráfico de x como función del tiempo, de y como función del tiempo y la trayectoria de la partícula (df[\"X\"], df[\"tiempo\"], df[\"Y\"]).\n",
        "\n",
        "\n",
        "5. Determine el alcance máximo de la partícula, para ello tome  la solucion teórica con $y=0$, solucione numéricamente la ecuación para t y remplace este valor en la ecuación para x. Resuelvalo para $\\theta=45^{o}$.  \n",
        "\n",
        "6. Construya una  grafica del alcance máximo R como función de $\\theta$, varie $\\theta$  entre 10 y 90 grados cada 5 grados.\n",
        "\n",
        "7. Realice una interpolacion de R como función de theta.\n",
        "\n"
      ]
    },
    {
      "cell_type": "code",
      "metadata": {
        "id": "dz6PAU_I6szL"
      },
      "source": [
        "# Condiciones iniciales\n",
        "\n",
        "v0 = 60 #Velocidad en m/s\n",
        "alpha = np.pi #Angulo del viento\n",
        "theta = np.deg2rad(45) #Angulo de lanzamiento\n",
        "u = v0/2             #rapidez del viento\n",
        "b = 0.05             #Parametro de friccion \n",
        "g = 9.8                #Aceleracion de la gravedad m/s2\n",
        "\n",
        "Params = (alpha, v0, b, u, g)  #Parametros en tupla."
      ],
      "execution_count": 9,
      "outputs": []
    },
    {
      "cell_type": "markdown",
      "metadata": {
        "id": "Dws_HaGqAuK1"
      },
      "source": [
        "1. Defina dos funciones, una para x y otra para y. "
      ]
    },
    {
      "cell_type": "code",
      "metadata": {
        "id": "9169w6Z1A0Ut"
      },
      "source": [
        "#Posicion en x\n",
        "def pos_x(t, theta, alpha, v0, b, u,g):\n",
        "  T1 = u * t * np.cos(alpha) #Termino 1\n",
        "  T2 = (1./b)*(v0*np.cos(theta) - u*np.cos(alpha) ) #Termino 2\n",
        "  T3 = (1 - np.e**(-b*t)) #Termino 3\n",
        "\n",
        "  return T1 + T2*T3 \n",
        "    \n",
        "\n",
        "#Posicion en y\n",
        "def pos_y(t, theta, alpha, v0, b, u,g):\n",
        "\n",
        "  T1 = (1./b)*(g/b + v0*np.sin(theta) - u*np.sin(alpha) ) #termino 1\n",
        "  T2 = (1 - np.e**(- b * t)) #termino 2\n",
        "  T3 = (g / b - u *  np.sin(alpha))*t #termino 3\n",
        "\n",
        "  return T1* T2 - T3"
      ],
      "execution_count": 10,
      "outputs": []
    },
    {
      "cell_type": "markdown",
      "metadata": {
        "id": "hwPcYmohApbi"
      },
      "source": [
        "2. Construya un diccionario con las claves \"X\", \"Y\", \"Tiempo\""
      ]
    },
    {
      "cell_type": "code",
      "metadata": {
        "id": "ZtnaaPIFAoJA"
      },
      "source": [
        "t = np.linspace(0, 20, 1000) #Tiempo \n",
        "x = pos_x(t, theta, *Params)\n",
        "y = pos_y(t, theta, *Params) \n",
        "pos = { \"X\": x , \"Y\": y, \"Tiempo\": t }\n",
        "#pos"
      ],
      "execution_count": 11,
      "outputs": []
    },
    {
      "cell_type": "markdown",
      "metadata": {
        "id": "7kRPEyHHCeNM"
      },
      "source": [
        "3. Con el diccionario construya un data frame de pandas llamado df con los nombres de columnas \"X\", \"Y\", \"Tiempo\"  https://pandas.pydata.org/docs/reference/api/pandas.DataFrame.from_dict.html. Defina 1000 registros para el intervalo de tiempo elegido."
      ]
    },
    {
      "cell_type": "code",
      "metadata": {
        "colab": {
          "base_uri": "https://localhost:8080/",
          "height": 422
        },
        "id": "7Hu3avgRBipd",
        "outputId": "19ea3c05-7e29-435f-acd5-a954067fa4c3"
      },
      "source": [
        "df = pd.DataFrame.from_dict(pos)\n",
        "df"
      ],
      "execution_count": 30,
      "outputs": [
        {
          "output_type": "execute_result",
          "data": {
            "text/html": [
              "<div>\n",
              "<style scoped>\n",
              "    .dataframe tbody tr th:only-of-type {\n",
              "        vertical-align: middle;\n",
              "    }\n",
              "\n",
              "    .dataframe tbody tr th {\n",
              "        vertical-align: top;\n",
              "    }\n",
              "\n",
              "    .dataframe thead th {\n",
              "        text-align: right;\n",
              "    }\n",
              "</style>\n",
              "<table border=\"1\" class=\"dataframe\">\n",
              "  <thead>\n",
              "    <tr style=\"text-align: right;\">\n",
              "      <th></th>\n",
              "      <th>X</th>\n",
              "      <th>Y</th>\n",
              "      <th>Tiempo</th>\n",
              "    </tr>\n",
              "  </thead>\n",
              "  <tbody>\n",
              "    <tr>\n",
              "      <th>0</th>\n",
              "      <td>0.000000</td>\n",
              "      <td>0.000000</td>\n",
              "      <td>0.00000</td>\n",
              "    </tr>\n",
              "    <tr>\n",
              "      <th>1</th>\n",
              "      <td>0.848652</td>\n",
              "      <td>0.846989</td>\n",
              "      <td>0.02002</td>\n",
              "    </tr>\n",
              "    <tr>\n",
              "      <th>2</th>\n",
              "      <td>1.695854</td>\n",
              "      <td>1.689205</td>\n",
              "      <td>0.04004</td>\n",
              "    </tr>\n",
              "    <tr>\n",
              "      <th>3</th>\n",
              "      <td>2.541608</td>\n",
              "      <td>2.526653</td>\n",
              "      <td>0.06006</td>\n",
              "    </tr>\n",
              "    <tr>\n",
              "      <th>4</th>\n",
              "      <td>3.385914</td>\n",
              "      <td>3.359336</td>\n",
              "      <td>0.08008</td>\n",
              "    </tr>\n",
              "    <tr>\n",
              "      <th>...</th>\n",
              "      <td>...</td>\n",
              "      <td>...</td>\n",
              "      <td>...</td>\n",
              "    </tr>\n",
              "    <tr>\n",
              "      <th>995</th>\n",
              "      <td>315.908872</td>\n",
              "      <td>-897.057712</td>\n",
              "      <td>19.91992</td>\n",
              "    </tr>\n",
              "    <tr>\n",
              "      <th>996</th>\n",
              "      <td>315.843561</td>\n",
              "      <td>-899.219473</td>\n",
              "      <td>19.93994</td>\n",
              "    </tr>\n",
              "    <tr>\n",
              "      <th>997</th>\n",
              "      <td>315.777714</td>\n",
              "      <td>-901.382998</td>\n",
              "      <td>19.95996</td>\n",
              "    </tr>\n",
              "    <tr>\n",
              "      <th>998</th>\n",
              "      <td>315.711332</td>\n",
              "      <td>-903.548284</td>\n",
              "      <td>19.97998</td>\n",
              "    </tr>\n",
              "    <tr>\n",
              "      <th>999</th>\n",
              "      <td>315.644416</td>\n",
              "      <td>-905.715329</td>\n",
              "      <td>20.00000</td>\n",
              "    </tr>\n",
              "  </tbody>\n",
              "</table>\n",
              "<p>1000 rows × 3 columns</p>\n",
              "</div>"
            ],
            "text/plain": [
              "              X           Y    Tiempo\n",
              "0      0.000000    0.000000   0.00000\n",
              "1      0.848652    0.846989   0.02002\n",
              "2      1.695854    1.689205   0.04004\n",
              "3      2.541608    2.526653   0.06006\n",
              "4      3.385914    3.359336   0.08008\n",
              "..          ...         ...       ...\n",
              "995  315.908872 -897.057712  19.91992\n",
              "996  315.843561 -899.219473  19.93994\n",
              "997  315.777714 -901.382998  19.95996\n",
              "998  315.711332 -903.548284  19.97998\n",
              "999  315.644416 -905.715329  20.00000\n",
              "\n",
              "[1000 rows x 3 columns]"
            ]
          },
          "metadata": {},
          "execution_count": 30
        }
      ]
    },
    {
      "cell_type": "markdown",
      "metadata": {
        "id": "9Ep36fTnCnQ6"
      },
      "source": [
        "4. Realice un gráfico de x como función del tiempo, de y como función del tiempo y la trayectoria de la partícula (df[\"X\"], df[\"tiempo\"], df[\"Y\"])."
      ]
    },
    {
      "cell_type": "code",
      "metadata": {
        "colab": {
          "base_uri": "https://localhost:8080/",
          "height": 361
        },
        "id": "Txkw50uRCZ-t",
        "outputId": "6ccd432e-dd76-4131-afd8-bd7d6ac38f32"
      },
      "source": [
        "plt.figure(figsize=(10,5.5))\n",
        "plt.subplot(121)\n",
        "plt.plot(df[\"Tiempo\"], df[\"X\"], label=\"x como función del tiempo\") \n",
        "plt.plot(df[\"Tiempo\"], df[\"Y\"], label=\"y como función del tiempo\")\n",
        "plt.xlabel(\"t(s)\")\n",
        "plt.ylabel(\"Posicion(m)\")\n",
        "plt.legend()\n",
        "plt.grid()\n",
        "plt.show()"
      ],
      "execution_count": 31,
      "outputs": [
        {
          "output_type": "display_data",
          "data": {
            "image/png": "[encoded data removed]",
            "text/plain": [
              "<Figure size 720x396 with 1 Axes>"
            ]
          },
          "metadata": {
            "needs_background": "light"
          }
        }
      ]
    },
    {
      "cell_type": "markdown",
      "metadata": {
        "id": "o2ksKcikOmHf"
      },
      "source": [
        "5. Determine el alcance máximo de la partícula, para ello tome  la solucion teórica con $y=0$, solucione numéricamente la ecuación para t y remplace este valor en la ecuación para x. Resuelvalo para $\\theta=45^{o}$.  "
      ]
    },
    {
      "cell_type": "code",
      "metadata": {
        "colab": {
          "base_uri": "https://localhost:8080/",
          "height": 283
        },
        "id": "WZy53xTAOsTr",
        "outputId": "02596b27-dea6-4469-ba65-40ea452e42b9"
      },
      "source": [
        "#De las condiciones iniciales ya tenemos theta = 45°\n",
        "\n",
        "plt.plot(df[\"X\"], df[\"Y\"]) \n",
        "plt.xlabel(\"x(m)\")\n",
        "plt.ylabel(\"y(m)\")\n",
        "plt.ylim(-200,200)\n",
        "plt.grid()\n",
        "plt.show()"
      ],
      "execution_count": 32,
      "outputs": [
        {
          "output_type": "display_data",
          "data": {
            "image/png": "[encoded data removed]",
            "text/plain": [
              "<Figure size 432x288 with 1 Axes>"
            ]
          },
          "metadata": {
            "needs_background": "light"
          }
        }
      ]
    },
    {
      "cell_type": "code",
      "metadata": {
        "colab": {
          "base_uri": "https://localhost:8080/",
          "height": 112
        },
        "id": "xJLt_hqfWKKT",
        "outputId": "98793ecc-8a33-4967-fad5-435fa4b350e8"
      },
      "source": [
        "# Del dataframe obtenido en el punto 3 obtengo los dos valores del tiempo donde y=0 descartando el punto de orgien se tiene: \n",
        "\n",
        "df.loc[405:406,['Y', 'Tiempo']]"
      ],
      "execution_count": 40,
      "outputs": [
        {
          "output_type": "execute_result",
          "data": {
            "text/html": [
              "<div>\n",
              "<style scoped>\n",
              "    .dataframe tbody tr th:only-of-type {\n",
              "        vertical-align: middle;\n",
              "    }\n",
              "\n",
              "    .dataframe tbody tr th {\n",
              "        vertical-align: top;\n",
              "    }\n",
              "\n",
              "    .dataframe thead th {\n",
              "        text-align: right;\n",
              "    }\n",
              "</style>\n",
              "<table border=\"1\" class=\"dataframe\">\n",
              "  <thead>\n",
              "    <tr style=\"text-align: right;\">\n",
              "      <th></th>\n",
              "      <th>Y</th>\n",
              "      <th>Tiempo</th>\n",
              "    </tr>\n",
              "  </thead>\n",
              "  <tbody>\n",
              "    <tr>\n",
              "      <th>405</th>\n",
              "      <td>0.130388</td>\n",
              "      <td>8.108108</td>\n",
              "    </tr>\n",
              "    <tr>\n",
              "      <th>406</th>\n",
              "      <td>-0.612737</td>\n",
              "      <td>8.128128</td>\n",
              "    </tr>\n",
              "  </tbody>\n",
              "</table>\n",
              "</div>"
            ],
            "text/plain": [
              "            Y    Tiempo\n",
              "405  0.130388  8.108108\n",
              "406 -0.612737  8.128128"
            ]
          },
          "metadata": {},
          "execution_count": 40
        }
      ]
    },
    {
      "cell_type": "code",
      "metadata": {
        "colab": {
          "base_uri": "https://localhost:8080/",
          "height": 319
        },
        "id": "S6n_nOWtGAbP",
        "outputId": "8acc5f87-71fa-45a1-901a-6f8a40713885"
      },
      "source": [
        "# Como se observa en el valor anterior el cambio de Y aproximadamente en el tiempo 8.12\n",
        "\n",
        "alc_max = pos_x(8.12,theta, *Params)\n",
        "print ('El alcance máximo es aproximadamente', alc_max, ' Metros \\n')\n",
        "\n",
        "plt.plot(df[\"X\"], df[\"Y\"]) \n",
        "plt.plot (alc_max, 0, 'o', color='red')\n",
        "plt.xlabel(\"x(m)\")\n",
        "plt.ylabel(\"y(m)\")\n",
        "plt.ylim(-200,200)\n",
        "plt.grid()\n",
        "plt.show()"
      ],
      "execution_count": 54,
      "outputs": [
        {
          "output_type": "stream",
          "text": [
            "El alcance máximo es aproximadamente 239.7591116573081  Metros \n",
            "\n"
          ],
          "name": "stdout"
        },
        {
          "output_type": "display_data",
          "data": {
            "image/png": "[encoded data removed]",
            "text/plain": [
              "<Figure size 432x288 with 1 Axes>"
            ]
          },
          "metadata": {
            "needs_background": "light"
          }
        }
      ]
    },
    {
      "cell_type": "markdown",
      "metadata": {
        "id": "_mA2HrrGOuet"
      },
      "source": [
        "6. Construya una  grafica del alcance máximo R como función de $\\theta$, varie $\\theta$  entre 10 y 90 grados cada 5 grados."
      ]
    },
    {
      "cell_type": "code",
      "metadata": {
        "id": "5DYYS0_SOhDQ",
        "colab": {
          "base_uri": "https://localhost:8080/",
          "height": 325
        },
        "outputId": "b30e553e-1801-473d-b8f7-53fa69949bb0"
      },
      "source": [
        "# Gráfica Theta entre 10 y 90 grados con aumentos de 5 grados.\n",
        "\n",
        "theta_1 = np.linspace(10 , 90, 17)\n",
        "\n",
        "for i in theta_1:\n",
        "  x1 = pos_x(t, i, *Params)\n",
        "  y1 = pos_y(t, i, *Params) \n",
        "  pos1 = { \"X\": x1 , \"Y\": y1, \"Tiempo\": t }\n",
        "  df1 = pd.DataFrame.from_dict(pos1)\n",
        "  \n",
        " \n",
        "  plt.plot(df1[\"X\"], df1[\"Y\"], label=(\"Theta\",i)) \n",
        "\n",
        "plt.xlabel(\"x(m)\")\n",
        "plt.ylabel(\"y(m)\")\n",
        "plt.legend()\n",
        "plt.xlim(-400,400)\n",
        "plt.ylim(-25,150)\n",
        "plt.grid()\n",
        "plt.show()"
      ],
      "execution_count": 89,
      "outputs": [
        {
          "output_type": "display_data",
          "data": {
            "image/png": "[encoded data removed]",
            "text/plain": [
              "<Figure size 432x288 with 1 Axes>"
            ]
          },
          "metadata": {
            "needs_background": "light"
          }
        }
      ]
    },
    {
      "cell_type": "markdown",
      "metadata": {
        "id": "xDHGD8IHOvAV"
      },
      "source": [
        "7. Realice una interpolacion de R como función de theta."
      ]
    },
    {
      "cell_type": "code",
      "metadata": {
        "id": "rWg7650VOwSn"
      },
      "source": [
        ""
      ],
      "execution_count": null,
      "outputs": []
    }
  ]
}