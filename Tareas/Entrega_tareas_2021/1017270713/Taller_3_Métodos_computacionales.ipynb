{
  "nbformat": 4,
  "nbformat_minor": 0,
  "metadata": {
    "colab": {
      "name": "Taller 3 - Métodos computacionales",
      "provenance": []
    },
    "kernelspec": {
      "name": "python3",
      "display_name": "Python 3"
    },
    "language_info": {
      "name": "python"
    }
  },
  "cells": [
    {
      "cell_type": "markdown",
      "metadata": {
        "id": "jgSpX6whTgrw"
      },
      "source": [
        "**SEBASTIAN GAVIRIA GIRALDO** \\\\\n",
        "**C.C. 1017270713**"
      ]
    },
    {
      "cell_type": "code",
      "metadata": {
        "id": "l-pPKC6TTa28"
      },
      "source": [
        "import pandas as pd\n",
        "import seaborn as sns \n",
        "import matplotlib.pyplot as plt"
      ],
      "execution_count": 29,
      "outputs": []
    },
    {
      "cell_type": "markdown",
      "metadata": {
        "id": "YwHgG6jKTkhB"
      },
      "source": [
        "# Problema 1\n",
        "\n",
        "Usando el set `PS4_1.csv`, convertir la serie `Date` en el indice (serie de tiempo) y eliminar la serie `Unnamed: 1` (generado por pandas), retornar un  diccionario con en el siguiente orden:\n",
        "\n",
        "* Cantidad de columnas\n",
        "* Nombre de las columnas\n",
        "* Número de registros no NaN de cada columna\n",
        "* Cantidad total de memoria usada para cargar el dataset en el computador ,( df.memory_usage() )\n",
        "* Estadistica basica para cada columna, media, desviacion estandar, maximo\n",
        "* Remplazar los NaN por None"
      ]
    },
    {
      "cell_type": "code",
      "metadata": {
        "colab": {
          "base_uri": "https://localhost:8080/",
          "height": 204
        },
        "id": "vkgoNz2ETmOr",
        "outputId": "1bac5564-4e54-41a7-cf25-f72f68778aac"
      },
      "source": [
        "path = \"https://docs.google.com/spreadsheets/d/e/2PACX-1vTWsahNju_LTtJBjuaaILBx_3QutbzK-HCjGoLtrtcIBEu4rOQgdiz17AD8SDa13g/pub?output=csv\"\n",
        "df = pd.read_csv(path)\n",
        "df.head()"
      ],
      "execution_count": null,
      "outputs": [
        {
          "output_type": "execute_result",
          "data": {
            "text/html": [
              "<div>\n",
              "<style scoped>\n",
              "    .dataframe tbody tr th:only-of-type {\n",
              "        vertical-align: middle;\n",
              "    }\n",
              "\n",
              "    .dataframe tbody tr th {\n",
              "        vertical-align: top;\n",
              "    }\n",
              "\n",
              "    .dataframe thead th {\n",
              "        text-align: right;\n",
              "    }\n",
              "</style>\n",
              "<table border=\"1\" class=\"dataframe\">\n",
              "  <thead>\n",
              "    <tr style=\"text-align: right;\">\n",
              "      <th></th>\n",
              "      <th>Date</th>\n",
              "      <th>Unnamed: 1</th>\n",
              "      <th>Berri1</th>\n",
              "      <th>Maisonneuve_1</th>\n",
              "      <th>Maisonneuve_2</th>\n",
              "      <th>Brebeuf</th>\n",
              "    </tr>\n",
              "  </thead>\n",
              "  <tbody>\n",
              "    <tr>\n",
              "      <th>0</th>\n",
              "      <td>01/01/2009</td>\n",
              "      <td>0:00</td>\n",
              "      <td>29</td>\n",
              "      <td>20</td>\n",
              "      <td>35</td>\n",
              "      <td>NaN</td>\n",
              "    </tr>\n",
              "    <tr>\n",
              "      <th>1</th>\n",
              "      <td>02/01/2009</td>\n",
              "      <td>0:00</td>\n",
              "      <td>19</td>\n",
              "      <td>3</td>\n",
              "      <td>22</td>\n",
              "      <td>NaN</td>\n",
              "    </tr>\n",
              "    <tr>\n",
              "      <th>2</th>\n",
              "      <td>03/01/2009</td>\n",
              "      <td>0:00</td>\n",
              "      <td>24</td>\n",
              "      <td>12</td>\n",
              "      <td>22</td>\n",
              "      <td>NaN</td>\n",
              "    </tr>\n",
              "    <tr>\n",
              "      <th>3</th>\n",
              "      <td>04/01/2009</td>\n",
              "      <td>0:00</td>\n",
              "      <td>24</td>\n",
              "      <td>8</td>\n",
              "      <td>15</td>\n",
              "      <td>NaN</td>\n",
              "    </tr>\n",
              "    <tr>\n",
              "      <th>4</th>\n",
              "      <td>05/01/2009</td>\n",
              "      <td>0:00</td>\n",
              "      <td>120</td>\n",
              "      <td>111</td>\n",
              "      <td>141</td>\n",
              "      <td>NaN</td>\n",
              "    </tr>\n",
              "  </tbody>\n",
              "</table>\n",
              "</div>"
            ],
            "text/plain": [
              "         Date Unnamed: 1  Berri1  Maisonneuve_1  Maisonneuve_2  Brebeuf\n",
              "0  01/01/2009       0:00      29             20             35      NaN\n",
              "1  02/01/2009       0:00      19              3             22      NaN\n",
              "2  03/01/2009       0:00      24             12             22      NaN\n",
              "3  04/01/2009       0:00      24              8             15      NaN\n",
              "4  05/01/2009       0:00     120            111            141      NaN"
            ]
          },
          "metadata": {
            "tags": []
          },
          "execution_count": 13
        }
      ]
    },
    {
      "cell_type": "code",
      "metadata": {
        "colab": {
          "base_uri": "https://localhost:8080/",
          "height": 235
        },
        "id": "SfW81oQtTtjD",
        "outputId": "4ebf187e-e41a-450b-f02d-a7ed1f8baac2"
      },
      "source": [
        "#Ahora la columna de índices es la columna Date\n",
        "\n",
        "df = df.set_index(\"Date\")\n",
        "df.head()"
      ],
      "execution_count": null,
      "outputs": [
        {
          "output_type": "execute_result",
          "data": {
            "text/html": [
              "<div>\n",
              "<style scoped>\n",
              "    .dataframe tbody tr th:only-of-type {\n",
              "        vertical-align: middle;\n",
              "    }\n",
              "\n",
              "    .dataframe tbody tr th {\n",
              "        vertical-align: top;\n",
              "    }\n",
              "\n",
              "    .dataframe thead th {\n",
              "        text-align: right;\n",
              "    }\n",
              "</style>\n",
              "<table border=\"1\" class=\"dataframe\">\n",
              "  <thead>\n",
              "    <tr style=\"text-align: right;\">\n",
              "      <th></th>\n",
              "      <th>Unnamed: 1</th>\n",
              "      <th>Berri1</th>\n",
              "      <th>Maisonneuve_1</th>\n",
              "      <th>Maisonneuve_2</th>\n",
              "      <th>Brebeuf</th>\n",
              "    </tr>\n",
              "    <tr>\n",
              "      <th>Date</th>\n",
              "      <th></th>\n",
              "      <th></th>\n",
              "      <th></th>\n",
              "      <th></th>\n",
              "      <th></th>\n",
              "    </tr>\n",
              "  </thead>\n",
              "  <tbody>\n",
              "    <tr>\n",
              "      <th>01/01/2009</th>\n",
              "      <td>0:00</td>\n",
              "      <td>29</td>\n",
              "      <td>20</td>\n",
              "      <td>35</td>\n",
              "      <td>NaN</td>\n",
              "    </tr>\n",
              "    <tr>\n",
              "      <th>02/01/2009</th>\n",
              "      <td>0:00</td>\n",
              "      <td>19</td>\n",
              "      <td>3</td>\n",
              "      <td>22</td>\n",
              "      <td>NaN</td>\n",
              "    </tr>\n",
              "    <tr>\n",
              "      <th>03/01/2009</th>\n",
              "      <td>0:00</td>\n",
              "      <td>24</td>\n",
              "      <td>12</td>\n",
              "      <td>22</td>\n",
              "      <td>NaN</td>\n",
              "    </tr>\n",
              "    <tr>\n",
              "      <th>04/01/2009</th>\n",
              "      <td>0:00</td>\n",
              "      <td>24</td>\n",
              "      <td>8</td>\n",
              "      <td>15</td>\n",
              "      <td>NaN</td>\n",
              "    </tr>\n",
              "    <tr>\n",
              "      <th>05/01/2009</th>\n",
              "      <td>0:00</td>\n",
              "      <td>120</td>\n",
              "      <td>111</td>\n",
              "      <td>141</td>\n",
              "      <td>NaN</td>\n",
              "    </tr>\n",
              "  </tbody>\n",
              "</table>\n",
              "</div>"
            ],
            "text/plain": [
              "           Unnamed: 1  Berri1  Maisonneuve_1  Maisonneuve_2  Brebeuf\n",
              "Date                                                                \n",
              "01/01/2009       0:00      29             20             35      NaN\n",
              "02/01/2009       0:00      19              3             22      NaN\n",
              "03/01/2009       0:00      24             12             22      NaN\n",
              "04/01/2009       0:00      24              8             15      NaN\n",
              "05/01/2009       0:00     120            111            141      NaN"
            ]
          },
          "metadata": {
            "tags": []
          },
          "execution_count": 14
        }
      ]
    },
    {
      "cell_type": "code",
      "metadata": {
        "colab": {
          "base_uri": "https://localhost:8080/",
          "height": 235
        },
        "id": "Y0Ted_iXTv9c",
        "outputId": "fdf9c2d2-bd21-49b7-ba98-ba365b6cc777"
      },
      "source": [
        "#Eliminar la columna \"Unnamed: 1\"\n",
        "\n",
        "del df[\"Unnamed: 1\"]\n",
        "df.head()"
      ],
      "execution_count": null,
      "outputs": [
        {
          "output_type": "execute_result",
          "data": {
            "text/html": [
              "<div>\n",
              "<style scoped>\n",
              "    .dataframe tbody tr th:only-of-type {\n",
              "        vertical-align: middle;\n",
              "    }\n",
              "\n",
              "    .dataframe tbody tr th {\n",
              "        vertical-align: top;\n",
              "    }\n",
              "\n",
              "    .dataframe thead th {\n",
              "        text-align: right;\n",
              "    }\n",
              "</style>\n",
              "<table border=\"1\" class=\"dataframe\">\n",
              "  <thead>\n",
              "    <tr style=\"text-align: right;\">\n",
              "      <th></th>\n",
              "      <th>Berri1</th>\n",
              "      <th>Maisonneuve_1</th>\n",
              "      <th>Maisonneuve_2</th>\n",
              "      <th>Brebeuf</th>\n",
              "    </tr>\n",
              "    <tr>\n",
              "      <th>Date</th>\n",
              "      <th></th>\n",
              "      <th></th>\n",
              "      <th></th>\n",
              "      <th></th>\n",
              "    </tr>\n",
              "  </thead>\n",
              "  <tbody>\n",
              "    <tr>\n",
              "      <th>01/01/2009</th>\n",
              "      <td>29</td>\n",
              "      <td>20</td>\n",
              "      <td>35</td>\n",
              "      <td>NaN</td>\n",
              "    </tr>\n",
              "    <tr>\n",
              "      <th>02/01/2009</th>\n",
              "      <td>19</td>\n",
              "      <td>3</td>\n",
              "      <td>22</td>\n",
              "      <td>NaN</td>\n",
              "    </tr>\n",
              "    <tr>\n",
              "      <th>03/01/2009</th>\n",
              "      <td>24</td>\n",
              "      <td>12</td>\n",
              "      <td>22</td>\n",
              "      <td>NaN</td>\n",
              "    </tr>\n",
              "    <tr>\n",
              "      <th>04/01/2009</th>\n",
              "      <td>24</td>\n",
              "      <td>8</td>\n",
              "      <td>15</td>\n",
              "      <td>NaN</td>\n",
              "    </tr>\n",
              "    <tr>\n",
              "      <th>05/01/2009</th>\n",
              "      <td>120</td>\n",
              "      <td>111</td>\n",
              "      <td>141</td>\n",
              "      <td>NaN</td>\n",
              "    </tr>\n",
              "  </tbody>\n",
              "</table>\n",
              "</div>"
            ],
            "text/plain": [
              "            Berri1  Maisonneuve_1  Maisonneuve_2  Brebeuf\n",
              "Date                                                     \n",
              "01/01/2009      29             20             35      NaN\n",
              "02/01/2009      19              3             22      NaN\n",
              "03/01/2009      24             12             22      NaN\n",
              "04/01/2009      24              8             15      NaN\n",
              "05/01/2009     120            111            141      NaN"
            ]
          },
          "metadata": {
            "tags": []
          },
          "execution_count": 15
        }
      ]
    },
    {
      "cell_type": "code",
      "metadata": {
        "id": "I_LqVq3GTz_y"
      },
      "source": [
        "def columnas_(df):\n",
        "  Cantidad_de_columnas = df.shape[1] #Cantidad de columnas\n",
        "  return Cantidad_de_columnas\n",
        "\n",
        "def Nombres(df):\n",
        "  Nombre_de_columnas = list(df.columns) #Nombre de columnas\n",
        "  return Nombre_de_columnas\n",
        "\n",
        "def noNaN(df):\n",
        "  tf = pd.isnull(df)\n",
        "  d = {}\n",
        "  for col in tf.columns:\n",
        "    S = []\n",
        "    for i in range(len(tf)):\n",
        "      if tf[col][i] == False:\n",
        "        S.append(i)\n",
        "        d[col] = len(S)\n",
        "  return d\n",
        "\n",
        "def Memoria(df):\n",
        "  #Memoria\n",
        "  r = list(df.memory_usage())\n",
        "  s = {}\n",
        "  for col in df.columns:\n",
        "    for y in range(len(r)):\n",
        "      s[col] = r[y]\n",
        "  return s\n",
        "\n",
        "def Media(df):\n",
        "  #Estadística ; media\n",
        "  a = df.mean(axis=0)\n",
        "  m = {}\n",
        "  for col in df.columns:\n",
        "    m[col] = a[col]\n",
        "  return m\n",
        "\n",
        "def Desv_st(df):\n",
        "  #Estadística ; std\n",
        "  a1 = df.std(axis=0)\n",
        "  m1 = {}\n",
        "  for col in df.columns:\n",
        "    m1[col] = a1[col]\n",
        "  return m1\n",
        "\n",
        "def Maximo(df):\n",
        "  #Estadística ; max\n",
        "  a2 = df.max(axis=0)\n",
        "  m2 = {}\n",
        "  for col in df.columns:\n",
        "    m2[col] = a2[col]\n",
        "  return m2"
      ],
      "execution_count": null,
      "outputs": []
    },
    {
      "cell_type": "code",
      "metadata": {
        "colab": {
          "base_uri": "https://localhost:8080/"
        },
        "id": "fwdltEFkUReR",
        "outputId": "96f6473b-e8d2-4ce0-d1cc-c58345a32269"
      },
      "source": [
        "def dicc(df):\n",
        "  diccionario = {}\n",
        "  diccionario[\"Cantidad de columnas\"] = columnas_(df)\n",
        "  diccionario[\"Nombre de columnas\"] = Nombres(df)\n",
        "  diccionario[\"no NaN\"] = noNaN(df)\n",
        "  diccionario[\"Memoria\"] = Memoria(df)\n",
        "  diccionario[\"Medias\"] = Media(df)\n",
        "  diccionario[\"Desviaciones std\"] = Desv_st(df)\n",
        "  diccionario[\"Máximos\"] = Maximo(df)\n",
        "  print(diccionario)\n",
        "\n",
        "dicc(df)"
      ],
      "execution_count": null,
      "outputs": [
        {
          "output_type": "stream",
          "text": [
            "{'Cantidad de columnas': 4, 'Nombre de columnas': ['Berri1', 'Maisonneuve_1', 'Maisonneuve_2', 'Brebeuf'], 'no NaN': {'Berri1': 365, 'Maisonneuve_1': 365, 'Maisonneuve_2': 365, 'Brebeuf': 178}, 'Memoria': {'Berri1': 2920, 'Maisonneuve_1': 2920, 'Maisonneuve_2': 2920, 'Brebeuf': 2920}, 'Medias': {'Berri1': 2032.2, 'Maisonneuve_1': 1060.2520547945205, 'Maisonneuve_2': 2093.1698630136984, 'Brebeuf': 2576.3595505617977}, 'Desviaciones std': {'Berri1': 1878.8797986572208, 'Maisonneuve_1': 1079.5330858971347, 'Maisonneuve_2': 1854.3685230878293, 'Brebeuf': 2484.0047433344985}, 'Máximos': {'Berri1': 6626.0, 'Maisonneuve_1': 4242.0, 'Maisonneuve_2': 6587.0, 'Brebeuf': 7575.0}}\n"
          ],
          "name": "stdout"
        }
      ]
    },
    {
      "cell_type": "code",
      "metadata": {
        "colab": {
          "base_uri": "https://localhost:8080/",
          "height": 235
        },
        "id": "tHlBePJQVNXo",
        "outputId": "61a2aac9-03e8-44c1-91f9-15d273486248"
      },
      "source": [
        "#Reemplazo de NaN por None\n",
        "\n",
        "df[\"Brebeuf\"] = df[\"Brebeuf\"].fillna(\"None\") \n",
        "df.head()"
      ],
      "execution_count": null,
      "outputs": [
        {
          "output_type": "execute_result",
          "data": {
            "text/html": [
              "<div>\n",
              "<style scoped>\n",
              "    .dataframe tbody tr th:only-of-type {\n",
              "        vertical-align: middle;\n",
              "    }\n",
              "\n",
              "    .dataframe tbody tr th {\n",
              "        vertical-align: top;\n",
              "    }\n",
              "\n",
              "    .dataframe thead th {\n",
              "        text-align: right;\n",
              "    }\n",
              "</style>\n",
              "<table border=\"1\" class=\"dataframe\">\n",
              "  <thead>\n",
              "    <tr style=\"text-align: right;\">\n",
              "      <th></th>\n",
              "      <th>Berri1</th>\n",
              "      <th>Maisonneuve_1</th>\n",
              "      <th>Maisonneuve_2</th>\n",
              "      <th>Brebeuf</th>\n",
              "    </tr>\n",
              "    <tr>\n",
              "      <th>Date</th>\n",
              "      <th></th>\n",
              "      <th></th>\n",
              "      <th></th>\n",
              "      <th></th>\n",
              "    </tr>\n",
              "  </thead>\n",
              "  <tbody>\n",
              "    <tr>\n",
              "      <th>01/01/2009</th>\n",
              "      <td>29</td>\n",
              "      <td>20</td>\n",
              "      <td>35</td>\n",
              "      <td>None</td>\n",
              "    </tr>\n",
              "    <tr>\n",
              "      <th>02/01/2009</th>\n",
              "      <td>19</td>\n",
              "      <td>3</td>\n",
              "      <td>22</td>\n",
              "      <td>None</td>\n",
              "    </tr>\n",
              "    <tr>\n",
              "      <th>03/01/2009</th>\n",
              "      <td>24</td>\n",
              "      <td>12</td>\n",
              "      <td>22</td>\n",
              "      <td>None</td>\n",
              "    </tr>\n",
              "    <tr>\n",
              "      <th>04/01/2009</th>\n",
              "      <td>24</td>\n",
              "      <td>8</td>\n",
              "      <td>15</td>\n",
              "      <td>None</td>\n",
              "    </tr>\n",
              "    <tr>\n",
              "      <th>05/01/2009</th>\n",
              "      <td>120</td>\n",
              "      <td>111</td>\n",
              "      <td>141</td>\n",
              "      <td>None</td>\n",
              "    </tr>\n",
              "  </tbody>\n",
              "</table>\n",
              "</div>"
            ],
            "text/plain": [
              "            Berri1  Maisonneuve_1  Maisonneuve_2 Brebeuf\n",
              "Date                                                    \n",
              "01/01/2009      29             20             35    None\n",
              "02/01/2009      19              3             22    None\n",
              "03/01/2009      24             12             22    None\n",
              "04/01/2009      24              8             15    None\n",
              "05/01/2009     120            111            141    None"
            ]
          },
          "metadata": {
            "tags": []
          },
          "execution_count": 18
        }
      ]
    },
    {
      "cell_type": "markdown",
      "metadata": {
        "id": "6puU_TwJVcPI"
      },
      "source": [
        "# Problema 2\n",
        "\n",
        "Realizar la lectura del data frame \"Crimes_-_2019.csv\" asociado a los crimenes que se presentaron en Chicago en el 2019. \n",
        "\n",
        "\n",
        "1. Ver la estadistica general del data frame.\n",
        "2. Dejar las columnas PrimaryType, y Date.\n",
        "3. Transformar la columna Date que es tipo string en una tipo Fecha, use el siguiente metodo de pandaspd.to_datetime(df.Date,format=\"%m/%d/%Y %I:%M:%S %p\").\n",
        "4. Mostrar los casos totales para cada tipo de crimen de forma ascendente, emplee:\n",
        "   df.groupby(columna).Date.count()\n",
        "   \n",
        "   sort_values()\n",
        "5. Ordenar los valores por orden alfabetico de Primary type\n",
        "6. Mostrar de la fila 100 a la 120\n",
        "6. Realizar una visualización de los datos anteriores.Emplee la libreria  seaborn con un grafico tipo barplot. Ej.\n",
        "   ax = sns.barplot(x = \"contador\", y=\"Primary Type\", data = datos)"
      ]
    },
    {
      "cell_type": "code",
      "metadata": {
        "id": "2sLsp5N6VdgQ",
        "colab": {
          "base_uri": "https://localhost:8080/",
          "height": 204
        },
        "outputId": "06feaab3-64a1-4eb6-fb27-6a0e7516bbf6"
      },
      "source": [
        "link = \"https://docs.google.com/spreadsheets/d/e/2PACX-1vQqCpt9ad3JYNclQrdwHtqJVnMlMyNHI-p176ceLZSIZxK9aacD5xaCE3M5oItoTQOjsgm7aEXXW-V0/pub?output=csv\"\n",
        "df = pd.read_csv(link)\n",
        "df.head()"
      ],
      "execution_count": 6,
      "outputs": [
        {
          "output_type": "execute_result",
          "data": {
            "text/html": [
              "<div>\n",
              "<style scoped>\n",
              "    .dataframe tbody tr th:only-of-type {\n",
              "        vertical-align: middle;\n",
              "    }\n",
              "\n",
              "    .dataframe tbody tr th {\n",
              "        vertical-align: top;\n",
              "    }\n",
              "\n",
              "    .dataframe thead th {\n",
              "        text-align: right;\n",
              "    }\n",
              "</style>\n",
              "<table border=\"1\" class=\"dataframe\">\n",
              "  <thead>\n",
              "    <tr style=\"text-align: right;\">\n",
              "      <th></th>\n",
              "      <th>Unnamed: 0</th>\n",
              "      <th>Primary Type</th>\n",
              "      <th>Date</th>\n",
              "    </tr>\n",
              "  </thead>\n",
              "  <tbody>\n",
              "    <tr>\n",
              "      <th>0</th>\n",
              "      <td>0</td>\n",
              "      <td>DECEPTIVE PRACTICE</td>\n",
              "      <td>09/24/2019 8:00:00 AM</td>\n",
              "    </tr>\n",
              "    <tr>\n",
              "      <th>1</th>\n",
              "      <td>1</td>\n",
              "      <td>THEFT</td>\n",
              "      <td>10/13/2019 8:30:00 PM</td>\n",
              "    </tr>\n",
              "    <tr>\n",
              "      <th>2</th>\n",
              "      <td>2</td>\n",
              "      <td>THEFT</td>\n",
              "      <td>10/05/2019 6:30:00 PM</td>\n",
              "    </tr>\n",
              "    <tr>\n",
              "      <th>3</th>\n",
              "      <td>3</td>\n",
              "      <td>CRIMINAL DAMAGE</td>\n",
              "      <td>10/13/2019 7:00:00 PM</td>\n",
              "    </tr>\n",
              "    <tr>\n",
              "      <th>4</th>\n",
              "      <td>4</td>\n",
              "      <td>ASSAULT</td>\n",
              "      <td>10/13/2019 2:10:00 PM</td>\n",
              "    </tr>\n",
              "  </tbody>\n",
              "</table>\n",
              "</div>"
            ],
            "text/plain": [
              "   Unnamed: 0        Primary Type                   Date\n",
              "0           0  DECEPTIVE PRACTICE  09/24/2019 8:00:00 AM\n",
              "1           1               THEFT  10/13/2019 8:30:00 PM\n",
              "2           2               THEFT  10/05/2019 6:30:00 PM\n",
              "3           3     CRIMINAL DAMAGE  10/13/2019 7:00:00 PM\n",
              "4           4             ASSAULT  10/13/2019 2:10:00 PM"
            ]
          },
          "metadata": {
            "tags": []
          },
          "execution_count": 6
        }
      ]
    },
    {
      "cell_type": "code",
      "metadata": {
        "colab": {
          "base_uri": "https://localhost:8080/"
        },
        "id": "xCT4H3VAW2-f",
        "outputId": "f8ebce0e-6b40-43ff-deb3-8c83e3b6ea41"
      },
      "source": [
        "#Estadística general\n",
        "\n",
        "x = pd.DataFrame(df[\"Primary Type\"].describe())\n",
        "y = pd.DataFrame(df[\"Date\"].describe())\n",
        "\n",
        "print(x)\n",
        "print(y)"
      ],
      "execution_count": 9,
      "outputs": [
        {
          "output_type": "stream",
          "text": [
            "       Primary Type\n",
            "count          1000\n",
            "unique           23\n",
            "top           THEFT\n",
            "freq            296\n",
            "                         Date\n",
            "count                    1000\n",
            "unique                    679\n",
            "top     10/13/2019 9:00:00 PM\n",
            "freq                       19\n"
          ],
          "name": "stdout"
        }
      ]
    },
    {
      "cell_type": "code",
      "metadata": {
        "colab": {
          "base_uri": "https://localhost:8080/",
          "height": 204
        },
        "id": "qrGFbL24XPfa",
        "outputId": "115c44bc-8ff5-42e9-cbee-ec4c273b3237"
      },
      "source": [
        "#Eliminar Unnamed: 0\n",
        "\n",
        "del df[\"Unnamed: 0\"]\n",
        "df.head()"
      ],
      "execution_count": 10,
      "outputs": [
        {
          "output_type": "execute_result",
          "data": {
            "text/html": [
              "<div>\n",
              "<style scoped>\n",
              "    .dataframe tbody tr th:only-of-type {\n",
              "        vertical-align: middle;\n",
              "    }\n",
              "\n",
              "    .dataframe tbody tr th {\n",
              "        vertical-align: top;\n",
              "    }\n",
              "\n",
              "    .dataframe thead th {\n",
              "        text-align: right;\n",
              "    }\n",
              "</style>\n",
              "<table border=\"1\" class=\"dataframe\">\n",
              "  <thead>\n",
              "    <tr style=\"text-align: right;\">\n",
              "      <th></th>\n",
              "      <th>Primary Type</th>\n",
              "      <th>Date</th>\n",
              "    </tr>\n",
              "  </thead>\n",
              "  <tbody>\n",
              "    <tr>\n",
              "      <th>0</th>\n",
              "      <td>DECEPTIVE PRACTICE</td>\n",
              "      <td>09/24/2019 8:00:00 AM</td>\n",
              "    </tr>\n",
              "    <tr>\n",
              "      <th>1</th>\n",
              "      <td>THEFT</td>\n",
              "      <td>10/13/2019 8:30:00 PM</td>\n",
              "    </tr>\n",
              "    <tr>\n",
              "      <th>2</th>\n",
              "      <td>THEFT</td>\n",
              "      <td>10/05/2019 6:30:00 PM</td>\n",
              "    </tr>\n",
              "    <tr>\n",
              "      <th>3</th>\n",
              "      <td>CRIMINAL DAMAGE</td>\n",
              "      <td>10/13/2019 7:00:00 PM</td>\n",
              "    </tr>\n",
              "    <tr>\n",
              "      <th>4</th>\n",
              "      <td>ASSAULT</td>\n",
              "      <td>10/13/2019 2:10:00 PM</td>\n",
              "    </tr>\n",
              "  </tbody>\n",
              "</table>\n",
              "</div>"
            ],
            "text/plain": [
              "         Primary Type                   Date\n",
              "0  DECEPTIVE PRACTICE  09/24/2019 8:00:00 AM\n",
              "1               THEFT  10/13/2019 8:30:00 PM\n",
              "2               THEFT  10/05/2019 6:30:00 PM\n",
              "3     CRIMINAL DAMAGE  10/13/2019 7:00:00 PM\n",
              "4             ASSAULT  10/13/2019 2:10:00 PM"
            ]
          },
          "metadata": {
            "tags": []
          },
          "execution_count": 10
        }
      ]
    },
    {
      "cell_type": "code",
      "metadata": {
        "colab": {
          "base_uri": "https://localhost:8080/"
        },
        "id": "u7bn7dqAXnXk",
        "outputId": "2a39c5c0-11bc-444a-aa95-c6b0d9ab9284"
      },
      "source": [
        "#Formato fecha\n",
        "\n",
        "pd.to_datetime(df.Date,format=\"%m/%d/%Y %I:%M:%S %p\")\n",
        "df.Date"
      ],
      "execution_count": 15,
      "outputs": [
        {
          "output_type": "execute_result",
          "data": {
            "text/plain": [
              "0       09/24/2019 8:00:00 AM\n",
              "1       10/13/2019 8:30:00 PM\n",
              "2       10/05/2019 6:30:00 PM\n",
              "3       10/13/2019 7:00:00 PM\n",
              "4       10/13/2019 2:10:00 PM\n",
              "                ...          \n",
              "995    10/14/2019 10:47:00 PM\n",
              "996     10/14/2019 4:00:00 AM\n",
              "997    10/14/2019 10:25:00 AM\n",
              "998     10/14/2019 7:00:00 PM\n",
              "999     10/14/2019 4:10:00 PM\n",
              "Name: Date, Length: 1000, dtype: object"
            ]
          },
          "metadata": {
            "tags": []
          },
          "execution_count": 15
        }
      ]
    },
    {
      "cell_type": "code",
      "metadata": {
        "colab": {
          "base_uri": "https://localhost:8080/",
          "height": 235
        },
        "id": "5OSrEDPMYJpJ",
        "outputId": "c92fda4f-af86-4f89-d88f-a722c92e3832"
      },
      "source": [
        "datos = df.groupby(\"Primary Type\").Date.count().sort_values(ascending=True)\n",
        "DataFrame = pd.DataFrame(datos)\n",
        "DataFrame.head()"
      ],
      "execution_count": 20,
      "outputs": [
        {
          "output_type": "execute_result",
          "data": {
            "text/html": [
              "<div>\n",
              "<style scoped>\n",
              "    .dataframe tbody tr th:only-of-type {\n",
              "        vertical-align: middle;\n",
              "    }\n",
              "\n",
              "    .dataframe tbody tr th {\n",
              "        vertical-align: top;\n",
              "    }\n",
              "\n",
              "    .dataframe thead th {\n",
              "        text-align: right;\n",
              "    }\n",
              "</style>\n",
              "<table border=\"1\" class=\"dataframe\">\n",
              "  <thead>\n",
              "    <tr style=\"text-align: right;\">\n",
              "      <th></th>\n",
              "      <th>Date</th>\n",
              "    </tr>\n",
              "    <tr>\n",
              "      <th>Primary Type</th>\n",
              "      <th></th>\n",
              "    </tr>\n",
              "  </thead>\n",
              "  <tbody>\n",
              "    <tr>\n",
              "      <th>STALKING</th>\n",
              "      <td>1</td>\n",
              "    </tr>\n",
              "    <tr>\n",
              "      <th>CONCEALED CARRY LICENSE VIOLATION</th>\n",
              "      <td>1</td>\n",
              "    </tr>\n",
              "    <tr>\n",
              "      <th>LIQUOR LAW VIOLATION</th>\n",
              "      <td>2</td>\n",
              "    </tr>\n",
              "    <tr>\n",
              "      <th>PROSTITUTION</th>\n",
              "      <td>2</td>\n",
              "    </tr>\n",
              "    <tr>\n",
              "      <th>SEX OFFENSE</th>\n",
              "      <td>3</td>\n",
              "    </tr>\n",
              "  </tbody>\n",
              "</table>\n",
              "</div>"
            ],
            "text/plain": [
              "                                   Date\n",
              "Primary Type                           \n",
              "STALKING                              1\n",
              "CONCEALED CARRY LICENSE VIOLATION     1\n",
              "LIQUOR LAW VIOLATION                  2\n",
              "PROSTITUTION                          2\n",
              "SEX OFFENSE                           3"
            ]
          },
          "metadata": {
            "tags": []
          },
          "execution_count": 20
        }
      ]
    },
    {
      "cell_type": "code",
      "metadata": {
        "colab": {
          "base_uri": "https://localhost:8080/",
          "height": 204
        },
        "id": "i0XrYGj6Y03B",
        "outputId": "f953d9d2-fb03-4c06-eda9-e20b3de74fbb"
      },
      "source": [
        " df.sort_values(\"Primary Type\").head()"
      ],
      "execution_count": 25,
      "outputs": [
        {
          "output_type": "execute_result",
          "data": {
            "text/html": [
              "<div>\n",
              "<style scoped>\n",
              "    .dataframe tbody tr th:only-of-type {\n",
              "        vertical-align: middle;\n",
              "    }\n",
              "\n",
              "    .dataframe tbody tr th {\n",
              "        vertical-align: top;\n",
              "    }\n",
              "\n",
              "    .dataframe thead th {\n",
              "        text-align: right;\n",
              "    }\n",
              "</style>\n",
              "<table border=\"1\" class=\"dataframe\">\n",
              "  <thead>\n",
              "    <tr style=\"text-align: right;\">\n",
              "      <th></th>\n",
              "      <th>Primary Type</th>\n",
              "      <th>Date</th>\n",
              "    </tr>\n",
              "  </thead>\n",
              "  <tbody>\n",
              "    <tr>\n",
              "      <th>145</th>\n",
              "      <td>ARSON</td>\n",
              "      <td>10/13/2019 9:47:00 PM</td>\n",
              "    </tr>\n",
              "    <tr>\n",
              "      <th>992</th>\n",
              "      <td>ARSON</td>\n",
              "      <td>10/14/2019 3:57:00 AM</td>\n",
              "    </tr>\n",
              "    <tr>\n",
              "      <th>406</th>\n",
              "      <td>ARSON</td>\n",
              "      <td>05/08/2019 12:53:00 AM</td>\n",
              "    </tr>\n",
              "    <tr>\n",
              "      <th>516</th>\n",
              "      <td>ASSAULT</td>\n",
              "      <td>10/13/2019 4:32:00 AM</td>\n",
              "    </tr>\n",
              "    <tr>\n",
              "      <th>519</th>\n",
              "      <td>ASSAULT</td>\n",
              "      <td>10/13/2019 3:11:00 PM</td>\n",
              "    </tr>\n",
              "  </tbody>\n",
              "</table>\n",
              "</div>"
            ],
            "text/plain": [
              "    Primary Type                    Date\n",
              "145        ARSON   10/13/2019 9:47:00 PM\n",
              "992        ARSON   10/14/2019 3:57:00 AM\n",
              "406        ARSON  05/08/2019 12:53:00 AM\n",
              "516      ASSAULT   10/13/2019 4:32:00 AM\n",
              "519      ASSAULT   10/13/2019 3:11:00 PM"
            ]
          },
          "metadata": {
            "tags": []
          },
          "execution_count": 25
        }
      ]
    },
    {
      "cell_type": "code",
      "metadata": {
        "colab": {
          "base_uri": "https://localhost:8080/",
          "height": 700
        },
        "id": "Toj5BzUnY3p2",
        "outputId": "b4a12a94-d4c3-4cfa-9760-6b45c3228dfa"
      },
      "source": [
        "fil = df.iloc[100:121]\n",
        "fil"
      ],
      "execution_count": 24,
      "outputs": [
        {
          "output_type": "execute_result",
          "data": {
            "text/html": [
              "<div>\n",
              "<style scoped>\n",
              "    .dataframe tbody tr th:only-of-type {\n",
              "        vertical-align: middle;\n",
              "    }\n",
              "\n",
              "    .dataframe tbody tr th {\n",
              "        vertical-align: top;\n",
              "    }\n",
              "\n",
              "    .dataframe thead th {\n",
              "        text-align: right;\n",
              "    }\n",
              "</style>\n",
              "<table border=\"1\" class=\"dataframe\">\n",
              "  <thead>\n",
              "    <tr style=\"text-align: right;\">\n",
              "      <th></th>\n",
              "      <th>Primary Type</th>\n",
              "      <th>Date</th>\n",
              "    </tr>\n",
              "  </thead>\n",
              "  <tbody>\n",
              "    <tr>\n",
              "      <th>100</th>\n",
              "      <td>INTERFERENCE WITH PUBLIC OFFICER</td>\n",
              "      <td>10/13/2019 10:34:00 PM</td>\n",
              "    </tr>\n",
              "    <tr>\n",
              "      <th>101</th>\n",
              "      <td>OTHER OFFENSE</td>\n",
              "      <td>10/13/2019 2:02:00 PM</td>\n",
              "    </tr>\n",
              "    <tr>\n",
              "      <th>102</th>\n",
              "      <td>BATTERY</td>\n",
              "      <td>10/13/2019 1:21:00 PM</td>\n",
              "    </tr>\n",
              "    <tr>\n",
              "      <th>103</th>\n",
              "      <td>THEFT</td>\n",
              "      <td>04/03/2019 9:15:00 AM</td>\n",
              "    </tr>\n",
              "    <tr>\n",
              "      <th>104</th>\n",
              "      <td>BATTERY</td>\n",
              "      <td>10/13/2019 12:26:00 AM</td>\n",
              "    </tr>\n",
              "    <tr>\n",
              "      <th>105</th>\n",
              "      <td>DECEPTIVE PRACTICE</td>\n",
              "      <td>10/13/2019 9:26:00 AM</td>\n",
              "    </tr>\n",
              "    <tr>\n",
              "      <th>106</th>\n",
              "      <td>DECEPTIVE PRACTICE</td>\n",
              "      <td>10/13/2019 3:00:00 PM</td>\n",
              "    </tr>\n",
              "    <tr>\n",
              "      <th>107</th>\n",
              "      <td>BATTERY</td>\n",
              "      <td>10/13/2019 1:50:00 AM</td>\n",
              "    </tr>\n",
              "    <tr>\n",
              "      <th>108</th>\n",
              "      <td>THEFT</td>\n",
              "      <td>10/04/2019 12:56:00 AM</td>\n",
              "    </tr>\n",
              "    <tr>\n",
              "      <th>109</th>\n",
              "      <td>BATTERY</td>\n",
              "      <td>10/13/2019 9:31:00 PM</td>\n",
              "    </tr>\n",
              "    <tr>\n",
              "      <th>110</th>\n",
              "      <td>THEFT</td>\n",
              "      <td>10/13/2019 8:00:00 PM</td>\n",
              "    </tr>\n",
              "    <tr>\n",
              "      <th>111</th>\n",
              "      <td>BURGLARY</td>\n",
              "      <td>10/13/2019 7:00:00 AM</td>\n",
              "    </tr>\n",
              "    <tr>\n",
              "      <th>112</th>\n",
              "      <td>CRIMINAL DAMAGE</td>\n",
              "      <td>10/13/2019 9:30:00 AM</td>\n",
              "    </tr>\n",
              "    <tr>\n",
              "      <th>113</th>\n",
              "      <td>BATTERY</td>\n",
              "      <td>10/13/2019 2:54:00 AM</td>\n",
              "    </tr>\n",
              "    <tr>\n",
              "      <th>114</th>\n",
              "      <td>BATTERY</td>\n",
              "      <td>10/13/2019 1:00:00 AM</td>\n",
              "    </tr>\n",
              "    <tr>\n",
              "      <th>115</th>\n",
              "      <td>THEFT</td>\n",
              "      <td>10/13/2019 4:37:00 PM</td>\n",
              "    </tr>\n",
              "    <tr>\n",
              "      <th>116</th>\n",
              "      <td>THEFT</td>\n",
              "      <td>10/13/2019 3:30:00 PM</td>\n",
              "    </tr>\n",
              "    <tr>\n",
              "      <th>117</th>\n",
              "      <td>BATTERY</td>\n",
              "      <td>10/13/2019 8:45:00 AM</td>\n",
              "    </tr>\n",
              "    <tr>\n",
              "      <th>118</th>\n",
              "      <td>THEFT</td>\n",
              "      <td>10/13/2019 2:00:00 PM</td>\n",
              "    </tr>\n",
              "    <tr>\n",
              "      <th>119</th>\n",
              "      <td>DECEPTIVE PRACTICE</td>\n",
              "      <td>10/12/2019 10:20:00 PM</td>\n",
              "    </tr>\n",
              "    <tr>\n",
              "      <th>120</th>\n",
              "      <td>BATTERY</td>\n",
              "      <td>10/13/2019 12:45:00 AM</td>\n",
              "    </tr>\n",
              "  </tbody>\n",
              "</table>\n",
              "</div>"
            ],
            "text/plain": [
              "                         Primary Type                    Date\n",
              "100  INTERFERENCE WITH PUBLIC OFFICER  10/13/2019 10:34:00 PM\n",
              "101                     OTHER OFFENSE   10/13/2019 2:02:00 PM\n",
              "102                           BATTERY   10/13/2019 1:21:00 PM\n",
              "103                             THEFT   04/03/2019 9:15:00 AM\n",
              "104                           BATTERY  10/13/2019 12:26:00 AM\n",
              "105                DECEPTIVE PRACTICE   10/13/2019 9:26:00 AM\n",
              "106                DECEPTIVE PRACTICE   10/13/2019 3:00:00 PM\n",
              "107                           BATTERY   10/13/2019 1:50:00 AM\n",
              "108                             THEFT  10/04/2019 12:56:00 AM\n",
              "109                           BATTERY   10/13/2019 9:31:00 PM\n",
              "110                             THEFT   10/13/2019 8:00:00 PM\n",
              "111                          BURGLARY   10/13/2019 7:00:00 AM\n",
              "112                   CRIMINAL DAMAGE   10/13/2019 9:30:00 AM\n",
              "113                           BATTERY   10/13/2019 2:54:00 AM\n",
              "114                           BATTERY   10/13/2019 1:00:00 AM\n",
              "115                             THEFT   10/13/2019 4:37:00 PM\n",
              "116                             THEFT   10/13/2019 3:30:00 PM\n",
              "117                           BATTERY   10/13/2019 8:45:00 AM\n",
              "118                             THEFT   10/13/2019 2:00:00 PM\n",
              "119                DECEPTIVE PRACTICE  10/12/2019 10:20:00 PM\n",
              "120                           BATTERY  10/13/2019 12:45:00 AM"
            ]
          },
          "metadata": {
            "tags": []
          },
          "execution_count": 24
        }
      ]
    },
    {
      "cell_type": "code",
      "metadata": {
        "colab": {
          "base_uri": "https://localhost:8080/",
          "height": 296
        },
        "id": "ndDV1mvtZGmw",
        "outputId": "a559eb85-3efa-4819-fa74-bde686d1128b"
      },
      "source": [
        "datos = datos.reset_index()\n",
        "datos = datos.rename(columns={\"Date\":\"Contador\"})\n",
        "ax = sns.barplot(x = \"Contador\", y=\"Primary Type\", data = datos)\n",
        "\n",
        "ax"
      ],
      "execution_count": 28,
      "outputs": [
        {
          "output_type": "execute_result",
          "data": {
            "text/plain": [
              "<matplotlib.axes._subplots.AxesSubplot at 0x7f4441f10950>"
            ]
          },
          "metadata": {
            "tags": []
          },
          "execution_count": 28
        },
        {
          "output_type": "display_data",
          "data": {
            "image/png": "[encoded data removed]",
            "text/plain": [
              "<Figure size 432x288 with 1 Axes>"
            ]
          },
          "metadata": {
            "tags": [],
            "needs_background": "light"
          }
        }
      ]
    },
    {
      "cell_type": "markdown",
      "metadata": {
        "id": "YR2n5VJRZpk2"
      },
      "source": [
        "# Problema 3\n",
        "\n",
        "1. Leer el dataset country_vaccinations.csv  y filtrar los datos para Colombia\n",
        "2. Crear un csv con los datos para colombia\n",
        "3. Realizar una comparacion con los paises latinoamericanos. \n",
        "4. A traves de mascaras determinar el numero de vacunados en el intervalo  [1.5E6, 2.0E6]"
      ]
    },
    {
      "cell_type": "code",
      "metadata": {
        "colab": {
          "base_uri": "https://localhost:8080/",
          "height": 394
        },
        "id": "UJIHQNCxZqxG",
        "outputId": "95a846d9-8814-46c0-bb0f-ea730e39ecae"
      },
      "source": [
        "link2=\"https://docs.google.com/spreadsheets/d/e/2PACX-1vSJ7bFjFQu-VmuwebbH0vrg8a3b168p6aTsglLbMISvmgYmg9yGT6mPdlAUVeBl1lU1Cxnj9wtNxghu/pub?output=csv\"\n",
        "df = pd.read_csv(link2)\n",
        "df.head()"
      ],
      "execution_count": 31,
      "outputs": [
        {
          "output_type": "execute_result",
          "data": {
            "text/html": [
              "<div>\n",
              "<style scoped>\n",
              "    .dataframe tbody tr th:only-of-type {\n",
              "        vertical-align: middle;\n",
              "    }\n",
              "\n",
              "    .dataframe tbody tr th {\n",
              "        vertical-align: top;\n",
              "    }\n",
              "\n",
              "    .dataframe thead th {\n",
              "        text-align: right;\n",
              "    }\n",
              "</style>\n",
              "<table border=\"1\" class=\"dataframe\">\n",
              "  <thead>\n",
              "    <tr style=\"text-align: right;\">\n",
              "      <th></th>\n",
              "      <th>country</th>\n",
              "      <th>iso_code</th>\n",
              "      <th>date</th>\n",
              "      <th>total_vaccinations</th>\n",
              "      <th>people_vaccinated</th>\n",
              "      <th>people_fully_vaccinated</th>\n",
              "      <th>daily_vaccinations_raw</th>\n",
              "      <th>daily_vaccinations</th>\n",
              "      <th>total_vaccinations_per_hundred</th>\n",
              "      <th>people_vaccinated_per_hundred</th>\n",
              "      <th>people_fully_vaccinated_per_hundred</th>\n",
              "      <th>daily_vaccinations_per_million</th>\n",
              "      <th>vaccines</th>\n",
              "      <th>source_name</th>\n",
              "      <th>source_website</th>\n",
              "    </tr>\n",
              "  </thead>\n",
              "  <tbody>\n",
              "    <tr>\n",
              "      <th>0</th>\n",
              "      <td>Afghanistan</td>\n",
              "      <td>AFG</td>\n",
              "      <td>2021-02-22</td>\n",
              "      <td>0.0</td>\n",
              "      <td>0.0</td>\n",
              "      <td>NaN</td>\n",
              "      <td>NaN</td>\n",
              "      <td>NaN</td>\n",
              "      <td>0.0</td>\n",
              "      <td>0.0</td>\n",
              "      <td>NaN</td>\n",
              "      <td>NaN</td>\n",
              "      <td>Oxford/AstraZeneca</td>\n",
              "      <td>Government of Afghanistan</td>\n",
              "      <td>http://www.xinhuanet.com/english/asiapacific/2...</td>\n",
              "    </tr>\n",
              "    <tr>\n",
              "      <th>1</th>\n",
              "      <td>Afghanistan</td>\n",
              "      <td>AFG</td>\n",
              "      <td>2021-02-23</td>\n",
              "      <td>NaN</td>\n",
              "      <td>NaN</td>\n",
              "      <td>NaN</td>\n",
              "      <td>NaN</td>\n",
              "      <td>1367.0</td>\n",
              "      <td>NaN</td>\n",
              "      <td>NaN</td>\n",
              "      <td>NaN</td>\n",
              "      <td>35.0</td>\n",
              "      <td>Oxford/AstraZeneca</td>\n",
              "      <td>Government of Afghanistan</td>\n",
              "      <td>http://www.xinhuanet.com/english/asiapacific/2...</td>\n",
              "    </tr>\n",
              "    <tr>\n",
              "      <th>2</th>\n",
              "      <td>Afghanistan</td>\n",
              "      <td>AFG</td>\n",
              "      <td>2021-02-24</td>\n",
              "      <td>NaN</td>\n",
              "      <td>NaN</td>\n",
              "      <td>NaN</td>\n",
              "      <td>NaN</td>\n",
              "      <td>1367.0</td>\n",
              "      <td>NaN</td>\n",
              "      <td>NaN</td>\n",
              "      <td>NaN</td>\n",
              "      <td>35.0</td>\n",
              "      <td>Oxford/AstraZeneca</td>\n",
              "      <td>Government of Afghanistan</td>\n",
              "      <td>http://www.xinhuanet.com/english/asiapacific/2...</td>\n",
              "    </tr>\n",
              "    <tr>\n",
              "      <th>3</th>\n",
              "      <td>Afghanistan</td>\n",
              "      <td>AFG</td>\n",
              "      <td>2021-02-25</td>\n",
              "      <td>NaN</td>\n",
              "      <td>NaN</td>\n",
              "      <td>NaN</td>\n",
              "      <td>NaN</td>\n",
              "      <td>1367.0</td>\n",
              "      <td>NaN</td>\n",
              "      <td>NaN</td>\n",
              "      <td>NaN</td>\n",
              "      <td>35.0</td>\n",
              "      <td>Oxford/AstraZeneca</td>\n",
              "      <td>Government of Afghanistan</td>\n",
              "      <td>http://www.xinhuanet.com/english/asiapacific/2...</td>\n",
              "    </tr>\n",
              "    <tr>\n",
              "      <th>4</th>\n",
              "      <td>Afghanistan</td>\n",
              "      <td>AFG</td>\n",
              "      <td>2021-02-26</td>\n",
              "      <td>NaN</td>\n",
              "      <td>NaN</td>\n",
              "      <td>NaN</td>\n",
              "      <td>NaN</td>\n",
              "      <td>1367.0</td>\n",
              "      <td>NaN</td>\n",
              "      <td>NaN</td>\n",
              "      <td>NaN</td>\n",
              "      <td>35.0</td>\n",
              "      <td>Oxford/AstraZeneca</td>\n",
              "      <td>Government of Afghanistan</td>\n",
              "      <td>http://www.xinhuanet.com/english/asiapacific/2...</td>\n",
              "    </tr>\n",
              "  </tbody>\n",
              "</table>\n",
              "</div>"
            ],
            "text/plain": [
              "       country  ...                                     source_website\n",
              "0  Afghanistan  ...  http://www.xinhuanet.com/english/asiapacific/2...\n",
              "1  Afghanistan  ...  http://www.xinhuanet.com/english/asiapacific/2...\n",
              "2  Afghanistan  ...  http://www.xinhuanet.com/english/asiapacific/2...\n",
              "3  Afghanistan  ...  http://www.xinhuanet.com/english/asiapacific/2...\n",
              "4  Afghanistan  ...  http://www.xinhuanet.com/english/asiapacific/2...\n",
              "\n",
              "[5 rows x 15 columns]"
            ]
          },
          "metadata": {
            "tags": []
          },
          "execution_count": 31
        }
      ]
    },
    {
      "cell_type": "code",
      "metadata": {
        "id": "Pnhi4398aBbl"
      },
      "source": [
        "af = df.country == \"Colombia\"\n",
        "df1 = df[af]\n",
        "df1 = df1.reset_index() # este es el csv nuevo"
      ],
      "execution_count": 35,
      "outputs": []
    },
    {
      "cell_type": "code",
      "metadata": {
        "colab": {
          "base_uri": "https://localhost:8080/",
          "height": 633
        },
        "id": "4qJ7XJvjaKVq",
        "outputId": "80c205d5-987c-455d-8432-099372ca817f"
      },
      "source": [
        "Latinos = [\"Argentina\",\"Bolivia\",\"Brazil\",\"Colombia\",\"Chile\",\"Costa Rica\",\"Ecuador\",\"El Salvador\",\"Guatemala\",\"Honduras\",\"Mexico\",\"Panama\",\"Paraguay\",\"Peru\",\"Dominican Republic\",\"Uruguay\",\"Venezuela\"]\n",
        "\n",
        "fig, ax = plt.subplots(figsize = (10,10)) \n",
        "for pais in Latinos:\n",
        "  af = df[df[\"country\"] == pais]\n",
        "  af = af.reset_index()\n",
        "  plt.scatter(list(af.index),af.total_vaccinations, s = 10, label = pais)\n",
        "  df['country'].value_counts().tolist()\n",
        "  ax.legend()\n",
        "  ax.set_xlabel(\"Dias\")\n",
        "  ax.set_ylabel(\"Numero de personas vacunadas\")\n",
        "\n",
        "  af1 = df1[df1.total_vaccinations.apply(lambda x: x>=1.5E6 and x<=2.0E6)]\n",
        "\n",
        "  c = 0\n",
        "  for i in af1[\"daily_vaccinations\"]:\n",
        "    c += i\n",
        "\n",
        "c"
      ],
      "execution_count": 37,
      "outputs": [
        {
          "output_type": "execute_result",
          "data": {
            "text/plain": [
              "334252.0"
            ]
          },
          "metadata": {
            "tags": []
          },
          "execution_count": 37
        },
        {
          "output_type": "display_data",
          "data": {
            "image/png": "[encoded data removed]",
            "text/plain": [
              "<Figure size 720x720 with 1 Axes>"
            ]
          },
          "metadata": {
            "tags": [],
            "needs_background": "light"
          }
        }
      ]
    }
  ]
}