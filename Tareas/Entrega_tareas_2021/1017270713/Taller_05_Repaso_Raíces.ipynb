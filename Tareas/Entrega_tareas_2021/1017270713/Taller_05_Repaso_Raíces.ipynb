{
  "nbformat": 4,
  "nbformat_minor": 0,
  "metadata": {
    "colab": {
      "name": "Taller 05_Repaso_Raíces",
      "provenance": []
    },
    "kernelspec": {
      "name": "python3",
      "display_name": "Python 3"
    },
    "language_info": {
      "name": "python"
    }
  },
  "cells": [
    {
      "cell_type": "code",
      "metadata": {
        "colab": {
          "base_uri": "https://localhost:8080/"
        },
        "id": "d4O5Ef1zGpNC",
        "outputId": "7f50b066-9d58-4368-b0ff-1a8b221c9d7a"
      },
      "source": [
        "%pylab inline"
      ],
      "execution_count": 37,
      "outputs": [
        {
          "output_type": "stream",
          "text": [
            "Populating the interactive namespace from numpy and matplotlib\n"
          ],
          "name": "stdout"
        },
        {
          "output_type": "stream",
          "text": [
            "/usr/local/lib/python3.7/dist-packages/IPython/core/magics/pylab.py:161: UserWarning: pylab import has clobbered these variables: ['f']\n",
            "`%matplotlib` prevents importing * from pylab and numpy\n",
            "  \"\\n`%matplotlib` prevents importing * from pylab and numpy\"\n"
          ],
          "name": "stderr"
        }
      ]
    },
    {
      "cell_type": "code",
      "metadata": {
        "id": "z6KIuRfWHbkP"
      },
      "source": [
        "import pandas as pd\n",
        "import scipy as sp\n",
        "from scipy import optimize\n",
        "from scipy import interpolate"
      ],
      "execution_count": 62,
      "outputs": []
    },
    {
      "cell_type": "markdown",
      "metadata": {
        "id": "iMtlmOQm42xm"
      },
      "source": [
        "# Problemas \n",
        "\n",
        "#1. Area \n",
        "Hallar el área de un segmento circular cuya area sea igual a una cuarta parte del área del circulo. Para la solución se sugiere lo siguiente:\n",
        "\n",
        "a) Encontrar la ecuacion trascendental.\n",
        "\n",
        "b) Con la ecuación anterior, definir una funcion $f(\\theta)=0$. Emplee la funcion labmda de python.\n",
        "\n",
        "c) Construir una data frame de pandas con la columna \"theta\" con 1000 registros(filas) entre $[-2\\pi, 2\\pi]$. Sugerencia, para construir el data frame emplee la función linspace como sigue : np.linspace(-2*np.pi, 2*np.pi, 1000 )\n",
        "\n",
        "d) Construir una segunda columna titulada \"F_theta\" con los registros f(theta)\n",
        "\n",
        "f) Realice un gráfico de  \"F_theta\" vs \"theta\". Identifique el intervalo de la raiz.\n",
        "\n",
        "Estime el valor del ángulo empleando los siguientes metodos(Emplee  la documentacion):\n",
        "\n",
        "g) [Bisección](https://docs.scipy.org/doc/scipy/reference/generated/scipy.optimize.bisect.html)\n",
        "\n",
        "h) [Newton-Rapshon](https://docs.scipy.org/doc/scipy/reference/generated/scipy.optimize.newton.html)\n",
        "\n",
        "i) [Secante](https://docs.scipy.org/doc/scipy/reference/generated/scipy.optimize.newton.html) \n",
        "\n",
        "j) [Punto Fijo](https://docs.scipy.org/doc/scipy/reference/generated/scipy.optimize.fixed_point.html)\n",
        "\n",
        "\n"
      ]
    },
    {
      "cell_type": "markdown",
      "metadata": {
        "id": "eCerCb8C6wPT"
      },
      "source": [
        "# Respuesta Problema 1."
      ]
    },
    {
      "cell_type": "markdown",
      "metadata": {
        "id": "Ob06fO59F44n"
      },
      "source": [
        "La ecuación trascendental está dada por:\n",
        "$$\\theta - sin(\\theta) = \\frac{\\pi}{2}$$\n",
        "Por tanto, se define la función\n",
        "$$f(\\theta) = \\theta - sin(\\theta) - \\frac{\\pi}{2} = 0$$"
      ]
    },
    {
      "cell_type": "code",
      "metadata": {
        "id": "KNY3n8eGG8oh"
      },
      "source": [
        "f = lambda θ: θ - np.sin(θ) - np.pi/2"
      ],
      "execution_count": 39,
      "outputs": []
    },
    {
      "cell_type": "code",
      "metadata": {
        "colab": {
          "base_uri": "https://localhost:8080/",
          "height": 0
        },
        "id": "jBB7YSsvH_x1",
        "outputId": "85a8d865-8c33-4059-f51e-4b7617ae94b8"
      },
      "source": [
        "#Construcción del DataFrame\n",
        "\n",
        "θ = np.linspace( -2*np.pi, 2*np.pi, 1000 )      #Primera columna del df\n",
        "f_θ = f(θ)                                      #Segunda columna del df \n",
        "\n",
        "df = pd.DataFrame()                             #Construcción del DataFrame Vacío\n",
        "\n",
        "#Asignación de columnas\n",
        "\n",
        "df['θ'] = θ\n",
        "df['f_θ'] = f_θ\n",
        "df.head()"
      ],
      "execution_count": 40,
      "outputs": [
        {
          "output_type": "execute_result",
          "data": {
            "text/html": [
              "<div>\n",
              "<style scoped>\n",
              "    .dataframe tbody tr th:only-of-type {\n",
              "        vertical-align: middle;\n",
              "    }\n",
              "\n",
              "    .dataframe tbody tr th {\n",
              "        vertical-align: top;\n",
              "    }\n",
              "\n",
              "    .dataframe thead th {\n",
              "        text-align: right;\n",
              "    }\n",
              "</style>\n",
              "<table border=\"1\" class=\"dataframe\">\n",
              "  <thead>\n",
              "    <tr style=\"text-align: right;\">\n",
              "      <th></th>\n",
              "      <th>θ</th>\n",
              "      <th>f_θ</th>\n",
              "    </tr>\n",
              "  </thead>\n",
              "  <tbody>\n",
              "    <tr>\n",
              "      <th>0</th>\n",
              "      <td>-6.283185</td>\n",
              "      <td>-7.853982</td>\n",
              "    </tr>\n",
              "    <tr>\n",
              "      <th>1</th>\n",
              "      <td>-6.270606</td>\n",
              "      <td>-7.853981</td>\n",
              "    </tr>\n",
              "    <tr>\n",
              "      <th>2</th>\n",
              "      <td>-6.258027</td>\n",
              "      <td>-7.853979</td>\n",
              "    </tr>\n",
              "    <tr>\n",
              "      <th>3</th>\n",
              "      <td>-6.245448</td>\n",
              "      <td>-7.853973</td>\n",
              "    </tr>\n",
              "    <tr>\n",
              "      <th>4</th>\n",
              "      <td>-6.232870</td>\n",
              "      <td>-7.853960</td>\n",
              "    </tr>\n",
              "  </tbody>\n",
              "</table>\n",
              "</div>"
            ],
            "text/plain": [
              "          θ       f_θ\n",
              "0 -6.283185 -7.853982\n",
              "1 -6.270606 -7.853981\n",
              "2 -6.258027 -7.853979\n",
              "3 -6.245448 -7.853973\n",
              "4 -6.232870 -7.853960"
            ]
          },
          "metadata": {
            "tags": []
          },
          "execution_count": 40
        }
      ]
    },
    {
      "cell_type": "code",
      "metadata": {
        "colab": {
          "base_uri": "https://localhost:8080/",
          "height": 0
        },
        "id": "Jl66sUjQIt8S",
        "outputId": "37a39ca8-a73c-4ba3-a4d3-1bbe67decc71"
      },
      "source": [
        "#Graficación usando la info del df\n",
        "\n",
        "plt.plot( df['θ'], df['f_θ'], 'r-' )\n",
        "plt.grid(True)"
      ],
      "execution_count": 41,
      "outputs": [
        {
          "output_type": "display_data",
          "data": {
            "image/png": "[encoded data removed]",
            "text/plain": [
              "<Figure size 432x288 with 1 Axes>"
            ]
          },
          "metadata": {
            "tags": [],
            "needs_background": "light"
          }
        }
      ]
    },
    {
      "cell_type": "code",
      "metadata": {
        "colab": {
          "base_uri": "https://localhost:8080/"
        },
        "id": "eKt-Ld2jJhIg",
        "outputId": "96664c1d-82ba-401c-b6eb-63f0fa1410aa"
      },
      "source": [
        "#Solución de las raíces\n",
        "\n",
        "root_1 = optimize.bisect( f, -2*np.pi, 2*np.pi ) \n",
        "root_2 = optimize.newton( f, 0 )\n",
        "\n",
        "print(f'El ángulo por medio del método de la bisección es: {root_1:.14} rad' )\n",
        "print(f'El ángulo por medio del método de Newton es: {root_2:.14} rad')"
      ],
      "execution_count": 42,
      "outputs": [
        {
          "output_type": "stream",
          "text": [
            "El ángulo por medio del método de la bisección es: 2.3098814600102 rad\n",
            "El ángulo por medio del método de Newton es: 2.3098814600101 rad\n"
          ],
          "name": "stdout"
        }
      ]
    },
    {
      "cell_type": "markdown",
      "metadata": {
        "id": "AqZSU8CE46S9"
      },
      "source": [
        "\n",
        "\n",
        "\n",
        "# 2. Movimiento de proyectiles en presencia de viento.\n",
        "\n",
        "Supongamos que un proyectil es lanzado desde el origen con una rapidez $v=vo( \\cos \\theta , \\sin \\theta )$. Supongamos además que el efecto del viento sobre el proyectil es el de una fuerza proporcional a la velocidad relativa entre el viento y el proyectil. Teniendo presente que si u es la velocidad del viento y $\\alpha$ el ángulo que hace dirección de esta velocidad con el eje x, se puede entrontrar las siguientes ecuaciones diferenciales, asociada al estado de movimiento del [proyectil](https://iopscience.iop.org/article/10.1088/0143-0807/36/2/025016/meta):\n",
        "\n",
        "\n",
        "\\begin{equation}\n",
        "m\\frac{dv_x}{dt} = -mb(v_x-u\\cos \\alpha )\n",
        "\\end{equation}\n",
        "\n",
        "\\begin{equation}\n",
        "m\\frac{dv_y}{dt} = -mg-mb(v_x-u\\sin \\alpha ),\n",
        "\\end{equation}\n",
        "\n",
        "donde b es el párametro de rozamiento. La soluciones a las ecuaciones anteriores vienen dadas por:\n",
        "\n",
        "Posición en x\n",
        "\\begin{equation}\n",
        "x=(u\\cos \\alpha) t + \\frac{1}{b} (v_0\\cos \\theta_0 -u \\cos\\alpha)(1-\\mathrm{exp}(-bt))\n",
        "\\end{equation}\n",
        "\n",
        "Posicion en y \n",
        "\\begin{equation}\n",
        "y= \\frac{1}{b}\\left(\\frac{g}{b}+v_0 \\sin \\theta_0 -u\\sin\\alpha \\right)(1-\\mathrm{exp}(-bt))-\\left( \\frac{g}{b}-u\\sin\\alpha\\right)t\n",
        "\\end{equation}\n",
        "\n",
        "Ver imagen:  http://www.sc.ehu.es/sbweb/fisica3/fluidos/viento/parabolico.html\n",
        "\n",
        "\n",
        "0. Establezca las siguietnes condiciones inciales.\n",
        "\n",
        "```\n",
        "#Parametros iniciales\n",
        "\n",
        "v0 = 60 #Velocidad en m/s\n",
        "alpha = np.pi #Angulo del viento\n",
        "theta = np.deg2rad(45) #Angulo de lanzamiento\n",
        "u = v0/2             #rapidez del viento\n",
        "b = 0.05             #Parametro de friccion \n",
        "g = 9.8                #Aceleracion de la gravedad m/s2\n",
        "\n",
        "Params = (alpha, v0, b, u,g)  #Parametros en tupla.\n",
        "\n",
        "```\n",
        "\n",
        "\n",
        "\n",
        "1. Defina dos funciones, una para x y otra para y. \n",
        "\n",
        "```\n",
        "\n",
        "#Posicion en x\n",
        "def pos_x(t, theta, alpha, v0, b, u,g):\n",
        "  x = #escriba aca la expresión\n",
        "  return x\n",
        "\n",
        "#Posicion en y\n",
        "def pos_y(t, theta, alpha, v0, b, u,g):\n",
        "\n",
        "\n",
        "  y = #escriba aca la expresión\n",
        "  return y \n",
        "\n",
        "```\n",
        "\n",
        "2. Construya un diccionario con las claves \"X\", \"Y\", \"Tiempo\"\n",
        "\n",
        "3. Con el diccionario construya un data frame de pandas llamado df con los nombres de columnas \"X\", \"Y\", \"Tiempo\"  https://pandas.pydata.org/docs/reference/api/pandas.DataFrame.from_dict.html. Defina 1000 regitros para el intervalo de tiempo elegido.\n",
        "\n",
        "\n",
        "4. Realice un gráfico de x como función del tiempo, de y como función del tiempo y la trayectoria de la partícula (df[\"X\"], df[\"tiempo\"], df[\"Y\"]).\n",
        "\n",
        "\n",
        "5. Determine el alcance máximo de la partícula, para ello tome  la solucion teórica con $y=0$, solucione numéricamente la ecuación para t y remplace este valor en la ecuación para x. Resuelvalo para $\\theta=45^{o}$.  \n",
        "\n",
        "6. Construya una  grafica del alcance máximo R como función de $\\theta$, varie $\\theta$  entre 10 y 90 grados cada 5 grados.\n",
        "\n",
        "7. Realice una interpolacion de R como función de theta.\n",
        "\n",
        "\n",
        "\n",
        "\n",
        "\n",
        "\n",
        "\n"
      ]
    },
    {
      "cell_type": "markdown",
      "metadata": {
        "id": "66sexuMQ65nR"
      },
      "source": [
        "# Respuesta Problema 2."
      ]
    },
    {
      "cell_type": "markdown",
      "metadata": {
        "id": "daZ1lYHn6m1I"
      },
      "source": [
        "1. Defina dos funciones, una para x y otra para y."
      ]
    },
    {
      "cell_type": "code",
      "metadata": {
        "id": "xr_IxirTS9ag"
      },
      "source": [
        "#Posicion en x\n",
        "\n",
        "def pos_x(t, θ, α, v_0, b, u, g):\n",
        "  Term_1 = u*t*np.cos(α)\n",
        "  Term_2 = (v_0*np.cos(θ) - u*np.cos(α))/b\n",
        "  Term_3 = 1 - np.exp(-b*t)\n",
        "  \n",
        "  x = Term_1 + Term_2 * Term_3\n",
        "  return x\n",
        " \n",
        "\n",
        "#Posicion en y\n",
        "\n",
        "def pos_y(t, θ, α, v_0, b, u, g):\n",
        "  Term_1 = (g/b + v_0*np.sin(θ) - u*np.sin(α))/b\n",
        "  Term_2 = 1 - np.exp(-b*t)\n",
        "  Term_3 = (g/b - u*np.sin(α))*t\n",
        "  y = Term_1 * Term_2 - Term_3\n",
        "  return y "
      ],
      "execution_count": 43,
      "outputs": []
    },
    {
      "cell_type": "code",
      "metadata": {
        "id": "Do-ql2-GS9KZ"
      },
      "source": [
        "# Parametros iniciales\n",
        " \n",
        "v_0 = 60                    #Velocidad en m/s\n",
        "α = np.pi                   #Ángulo del viento\n",
        "θ_0 = np.deg2rad(45)        #Ángulo de lanzamiento\n",
        "u = v_0/2                   #Rapidez del viento\n",
        "b = 0.05                    #Parámetro de fricción \n",
        "g = 9.8                     #Aceleración de la gravedad en m/s^2\n",
        "Params = (α, v_0, b, u, g)  #Parámetros en Tupla"
      ],
      "execution_count": 44,
      "outputs": []
    },
    {
      "cell_type": "markdown",
      "metadata": {
        "id": "VL42VIkn7C7f"
      },
      "source": [
        "2. Construya un diccionario con las claves \"X\", \"Y\", \"Tiempo\""
      ]
    },
    {
      "cell_type": "code",
      "metadata": {
        "id": "ej1jZnl4YyUl"
      },
      "source": [
        "#Se define un diccionario vacío con las claves indicadas\n",
        "\n",
        "Dicc = { 'X': [''],\n",
        "         'Y': [''],\n",
        "         'Tiempo': [''] }"
      ],
      "execution_count": 45,
      "outputs": []
    },
    {
      "cell_type": "markdown",
      "metadata": {
        "id": "TOm_3Qt37SHf"
      },
      "source": [
        "3. Con el diccionario construya un data frame de pandas llamado df con los nombres de columnas \"X\", \"Y\", \"Tiempo\". Defina 1000 regitros para el intervalo de tiempo elegido."
      ]
    },
    {
      "cell_type": "code",
      "metadata": {
        "colab": {
          "base_uri": "https://localhost:8080/",
          "height": 419
        },
        "id": "YYlwjuhd7OS8",
        "outputId": "71a93ce3-9d5b-43ad-dfca-39d0f0f13288"
      },
      "source": [
        "#Se definen los mil registros para el intervalo de tiempo entre 0 y 30 segundos\n",
        "\n",
        "T = np.linspace(0,30,1000)\n",
        "\n",
        "#Se rellenan las claves del diccionario con los valores de t, x(t) y y(t)\n",
        "\n",
        "Dicc['Tiempo'] = T\n",
        "Dicc['X'] = pos_x( T, θ_0, *Params )\n",
        "Dicc['Y'] = pos_y( T, θ_0, *Params )\n",
        "\n",
        "#Después, se crea el DataFrame a partir del diccionario ya definido\n",
        "\n",
        "df = pd.DataFrame.from_dict(Dicc)\n",
        "df"
      ],
      "execution_count": 46,
      "outputs": [
        {
          "output_type": "execute_result",
          "data": {
            "text/html": [
              "<div>\n",
              "<style scoped>\n",
              "    .dataframe tbody tr th:only-of-type {\n",
              "        vertical-align: middle;\n",
              "    }\n",
              "\n",
              "    .dataframe tbody tr th {\n",
              "        vertical-align: top;\n",
              "    }\n",
              "\n",
              "    .dataframe thead th {\n",
              "        text-align: right;\n",
              "    }\n",
              "</style>\n",
              "<table border=\"1\" class=\"dataframe\">\n",
              "  <thead>\n",
              "    <tr style=\"text-align: right;\">\n",
              "      <th></th>\n",
              "      <th>X</th>\n",
              "      <th>Y</th>\n",
              "      <th>Tiempo</th>\n",
              "    </tr>\n",
              "  </thead>\n",
              "  <tbody>\n",
              "    <tr>\n",
              "      <th>0</th>\n",
              "      <td>0.000000</td>\n",
              "      <td>0.000000</td>\n",
              "      <td>0.00000</td>\n",
              "    </tr>\n",
              "    <tr>\n",
              "      <th>1</th>\n",
              "      <td>1.272434</td>\n",
              "      <td>1.268694</td>\n",
              "      <td>0.03003</td>\n",
              "    </tr>\n",
              "    <tr>\n",
              "      <th>2</th>\n",
              "      <td>2.541608</td>\n",
              "      <td>2.526653</td>\n",
              "      <td>0.06006</td>\n",
              "    </tr>\n",
              "    <tr>\n",
              "      <th>3</th>\n",
              "      <td>3.807525</td>\n",
              "      <td>3.773893</td>\n",
              "      <td>0.09009</td>\n",
              "    </tr>\n",
              "    <tr>\n",
              "      <th>4</th>\n",
              "      <td>5.070192</td>\n",
              "      <td>5.010432</td>\n",
              "      <td>0.12012</td>\n",
              "    </tr>\n",
              "    <tr>\n",
              "      <th>...</th>\n",
              "      <td>...</td>\n",
              "      <td>...</td>\n",
              "      <td>...</td>\n",
              "    </tr>\n",
              "    <tr>\n",
              "      <th>995</th>\n",
              "      <td>226.974382</td>\n",
              "      <td>-2158.340400</td>\n",
              "      <td>29.87988</td>\n",
              "    </tr>\n",
              "    <tr>\n",
              "      <th>996</th>\n",
              "      <td>226.561339</td>\n",
              "      <td>-2162.620267</td>\n",
              "      <td>29.90991</td>\n",
              "    </tr>\n",
              "    <tr>\n",
              "      <th>997</th>\n",
              "      <td>226.147564</td>\n",
              "      <td>-2166.902543</td>\n",
              "      <td>29.93994</td>\n",
              "    </tr>\n",
              "    <tr>\n",
              "      <th>998</th>\n",
              "      <td>225.733058</td>\n",
              "      <td>-2171.187225</td>\n",
              "      <td>29.96997</td>\n",
              "    </tr>\n",
              "    <tr>\n",
              "      <th>999</th>\n",
              "      <td>225.317822</td>\n",
              "      <td>-2175.474310</td>\n",
              "      <td>30.00000</td>\n",
              "    </tr>\n",
              "  </tbody>\n",
              "</table>\n",
              "<p>1000 rows × 3 columns</p>\n",
              "</div>"
            ],
            "text/plain": [
              "              X            Y    Tiempo\n",
              "0      0.000000     0.000000   0.00000\n",
              "1      1.272434     1.268694   0.03003\n",
              "2      2.541608     2.526653   0.06006\n",
              "3      3.807525     3.773893   0.09009\n",
              "4      5.070192     5.010432   0.12012\n",
              "..          ...          ...       ...\n",
              "995  226.974382 -2158.340400  29.87988\n",
              "996  226.561339 -2162.620267  29.90991\n",
              "997  226.147564 -2166.902543  29.93994\n",
              "998  225.733058 -2171.187225  29.96997\n",
              "999  225.317822 -2175.474310  30.00000\n",
              "\n",
              "[1000 rows x 3 columns]"
            ]
          },
          "metadata": {
            "tags": []
          },
          "execution_count": 46
        }
      ]
    },
    {
      "cell_type": "markdown",
      "metadata": {
        "id": "-rio9_bv8_u0"
      },
      "source": [
        "4. Realice un gráfico de x como función del tiempo, de y como función del tiempo y la trayectoria de la partícula (df[\"X\"], df[\"tiempo\"], df[\"Y\"])."
      ]
    },
    {
      "cell_type": "code",
      "metadata": {
        "colab": {
          "base_uri": "https://localhost:8080/",
          "height": 473
        },
        "id": "PlPbi7LfbEVo",
        "outputId": "55cbd52e-bbdd-41c5-bbf6-0de350a905ee"
      },
      "source": [
        "#Determinación del tamaño de las gráficas.\n",
        "\n",
        "plt.figure(figsize=(20,7))\n",
        "\n",
        "#Primer gráfica: Funciones x(t) y y(t) que dan la posición horizontal y vertical respecto al tiempo.\n",
        "\n",
        "plt.subplot(121)\n",
        "plt.plot( df['Tiempo'], df['X'], 'r-', label='x(t)')\n",
        "plt.plot( df['Tiempo'], df['Y'], 'b-', label='y(t)' )\n",
        "plt.legend()\n",
        "plt.xlabel('Tiempo (s)')\n",
        "plt.ylabel('Posición (m)')\n",
        "plt.title(f'Posiciones (x,y) en función del tiempo\\nPara un ángulo inicial de {θ_0:.6} rad')\n",
        "plt.grid(True)\n",
        "\n",
        "#Segunda gráfica: Función y(x) que da la trayectoria del proyectil en el intervalo de tiempo establecido.\n",
        "\n",
        "plt.subplot(122)\n",
        "plt.plot( df['X'], df['Y'], 'y-', label='y(x)')\n",
        "plt.legend()\n",
        "plt.xlabel('x (m)')\n",
        "plt.ylabel('y (m)')\n",
        "plt.title(f'Trayectoria del proyectil después de {T[-1]} segundos \\nPara un ángulo inicial de {θ_0:.6} rad')\n",
        "plt.grid(True)"
      ],
      "execution_count": 49,
      "outputs": [
        {
          "output_type": "display_data",
          "data": {
            "image/png": "[encoded data removed]",
            "text/plain": [
              "<Figure size 1440x504 with 2 Axes>"
            ]
          },
          "metadata": {
            "tags": [],
            "needs_background": "light"
          }
        }
      ]
    },
    {
      "cell_type": "markdown",
      "metadata": {
        "id": "vt-m7SrFTPta"
      },
      "source": [
        "5. Determine el alcance máximo de la partícula, para ello tome la solucion teórica con  y=0 , solucione numéricamente la ecuación para t y remplace este valor en la ecuación para x. Resuelvalo para  $θ=45^o$ ."
      ]
    },
    {
      "cell_type": "code",
      "metadata": {
        "colab": {
          "base_uri": "https://localhost:8080/"
        },
        "id": "DXxFMYIdlMsZ",
        "outputId": "95f4530c-f3b6-4c8e-a78f-c422a7d32f27"
      },
      "source": [
        "#Primero hallamos el tiempo donde y(t) = 0\n",
        "\n",
        "root_y = optimize.bisect( pos_y, 5, 10, args=(θ_0, *Params) )\n",
        "print( f'El tiempo de alcance máximo con Bisección: {root_y:.6} segundos' )\n",
        "root = optimize.newton( pos_y, 10, args=(θ_0, *Params) )\n",
        "print( f'El tiempo de alcance máximo con Newton: {root:.6} segundos' )\n",
        "\n",
        "#Definimos todo con 6 cifras significativas usando :.6"
      ],
      "execution_count": 53,
      "outputs": [
        {
          "output_type": "stream",
          "text": [
            "El tiempo de alcance máximo con Bisección: 8.11163 segundos\n",
            "El tiempo de alcance máximo con Newton: 8.11163 segundos\n"
          ],
          "name": "stdout"
        }
      ]
    },
    {
      "cell_type": "code",
      "metadata": {
        "colab": {
          "base_uri": "https://localhost:8080/"
        },
        "id": "cYxP2sSClzRD",
        "outputId": "021289e8-ceed-4dd3-cd8f-857822f37226"
      },
      "source": [
        "#El tiempo hallado anteriormente lo reemplazamos en la función que da la posición horizontal\n",
        "\n",
        "x_max = pos_x( root_y, θ_0, *Params )\n",
        "print(f'El alcance máximo para un ángulo de {θ_0:.6} radianes es: {x_max:.6} metros')\n",
        "\n",
        "#Este es el valor del alcance máximo para un valor de 45 grados de ángulo inicial"
      ],
      "execution_count": 54,
      "outputs": [
        {
          "output_type": "stream",
          "text": [
            "El alcance máximo para un ángulo de 0.785398 radianes es: 239.606 metros\n"
          ],
          "name": "stdout"
        }
      ]
    },
    {
      "cell_type": "markdown",
      "metadata": {
        "id": "Pq3EnbsCXI-J"
      },
      "source": [
        "6. Construya una grafica del alcance máximo R como función de  θ , varie  θ  entre 10 y 90 grados cada 5 grados."
      ]
    },
    {
      "cell_type": "code",
      "metadata": {
        "colab": {
          "base_uri": "https://localhost:8080/"
        },
        "id": "zZ7flmviaHxK",
        "outputId": "52e75246-65f0-4704-ccb7-bedfa3a34f65"
      },
      "source": [
        "#Se define el intervalo de ángulos, con pasos de a 5\n",
        "\n",
        "theta = np.arange(10,95,5)\n",
        "theta"
      ],
      "execution_count": 55,
      "outputs": [
        {
          "output_type": "execute_result",
          "data": {
            "text/plain": [
              "array([10, 15, 20, 25, 30, 35, 40, 45, 50, 55, 60, 65, 70, 75, 80, 85, 90])"
            ]
          },
          "metadata": {
            "tags": []
          },
          "execution_count": 55
        }
      ]
    },
    {
      "cell_type": "code",
      "metadata": {
        "colab": {
          "base_uri": "https://localhost:8080/"
        },
        "id": "yN437aPsZ2vv",
        "outputId": "12a7f001-f93b-4e54-d443-9aa06cd54dd1"
      },
      "source": [
        "L = []                   #Se define una lista vacía que se llenará con los tiempos que cumplen y(t) = 0 para cada ángulo\n",
        "for i in theta:\n",
        "  root_y = optimize.newton( pos_y, 10, args=(np.deg2rad(i), *Params) ) #Para cada ángulo del intervalo, se optimiza la función y(t) y se encuentran las raíces\n",
        "  L.append(root_y)       #Se llena la lista vacía con cada raíz\n",
        "L_a = np.array(L)        #Se convierte la lista a un array para la graficación\n",
        "print(L_a)"
      ],
      "execution_count": 84,
      "outputs": [
        {
          "output_type": "stream",
          "text": [
            "[ 2.08991303  3.08969274  4.05131868  4.96934254  5.83875914  6.65499011\n",
            "  7.41386887  8.11162702  8.74488266  9.31063044  9.80623346 10.22941677\n",
            " 10.5782623  10.85120507 11.04703035 11.16487174 11.20420989]\n"
          ],
          "name": "stdout"
        }
      ]
    },
    {
      "cell_type": "code",
      "metadata": {
        "colab": {
          "base_uri": "https://localhost:8080/"
        },
        "id": "L7_9qCe5aCTS",
        "outputId": "df642d37-ab8b-4355-ded2-37515f60e9d1"
      },
      "source": [
        "M = []                      #Se define una lista vacía que se llenará con los tiempos que cumplen y(t) = 0 para cada ángulo\n",
        "for j in range(len(L_a)):\n",
        "  x_max = pos_x( L_a[j], np.deg2rad(theta[j]), *Params )   #Con cada raíz encontrada se reemplaza en x(t)\n",
        "  M.append(x_max)                                          #Cada resultado de x(t) se rellena en M.\n",
        "M_a = np.array(M)                                          #Se convierte a M en un array\n",
        "print(M_a)                                                 #Este array de NumPy contiene los valores del alcance máximo para cada ángulo"
      ],
      "execution_count": 57,
      "outputs": [
        {
          "output_type": "stream",
          "text": [
            "[114.09205021 159.11424792 195.25160684 222.1925717  239.86601038\n",
            " 248.41385426 248.16428008 239.60614946 223.36511298 200.18155773\n",
            " 170.89041443 136.40273087  97.68884772  55.76297185  11.66892048\n",
            " -33.53319794 -78.7796008 ]\n"
          ],
          "name": "stdout"
        }
      ]
    },
    {
      "cell_type": "code",
      "metadata": {
        "colab": {
          "base_uri": "https://localhost:8080/",
          "height": 513
        },
        "id": "F428sDKFaRwR",
        "outputId": "2963f5a2-c115-42c7-b7c2-c81068247303"
      },
      "source": [
        "#Graficación para los 17 valores del alcance máximo respecto al ángulo\n",
        "\n",
        "plt.figure(figsize=(10,8))\n",
        "plt.plot( theta, M_a, 'r*' )\n",
        "plt.xlabel('ángulo inicial (rad)')\n",
        "plt.ylabel('Alcance máximo (m)')\n",
        "plt.title('Alcance máximo en función del ángulo inicial para 17 ángulos diferentes')\n",
        "plt.grid(True)"
      ],
      "execution_count": 82,
      "outputs": [
        {
          "output_type": "display_data",
          "data": {
            "image/png": "[encoded data removed]",
            "text/plain": [
              "<Figure size 720x576 with 1 Axes>"
            ]
          },
          "metadata": {
            "tags": [],
            "needs_background": "light"
          }
        }
      ]
    },
    {
      "cell_type": "markdown",
      "metadata": {
        "id": "oe_lUp3KdTSr"
      },
      "source": [
        "7. Realice una interpolacion de R como función de theta."
      ]
    },
    {
      "cell_type": "code",
      "metadata": {
        "id": "yL-wLtubdT86"
      },
      "source": [
        "#Se crea la función de interpolación\n",
        "\n",
        "f = interpolate.interp1d( theta, M_a )"
      ],
      "execution_count": 86,
      "outputs": []
    },
    {
      "cell_type": "code",
      "metadata": {
        "colab": {
          "base_uri": "https://localhost:8080/",
          "height": 513
        },
        "id": "s4JAIkIUeAeg",
        "outputId": "aeabff3d-b916-4f12-8fa1-6c72e6648f50"
      },
      "source": [
        "#Graficación de la interpolación\n",
        "\n",
        "plt.figure(figsize=(10,8))\n",
        "plt.plot( theta, M_a, 'r*' )\n",
        "plt.plot( theta, f(theta), 'b-' )\n",
        "plt.xlabel('ángulo inicial (rad)')\n",
        "plt.ylabel('Alcance máximo (m)')\n",
        "plt.title('Interpolación del alcance máximo en función del ángulo inicial')\n",
        "plt.grid(True)"
      ],
      "execution_count": 87,
      "outputs": [
        {
          "output_type": "display_data",
          "data": {
            "image/png": "[encoded data removed]",
            "text/plain": [
              "<Figure size 720x576 with 1 Axes>"
            ]
          },
          "metadata": {
            "tags": [],
            "needs_background": "light"
          }
        }
      ]
    }
  ]
}