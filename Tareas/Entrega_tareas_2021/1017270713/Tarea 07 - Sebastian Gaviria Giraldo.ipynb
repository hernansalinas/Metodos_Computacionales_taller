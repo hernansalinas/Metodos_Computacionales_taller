{
  "nbformat": 4,
  "nbformat_minor": 0,
  "metadata": {
    "colab": {
      "name": "Tarea 07 - Sebastian Gaviria Giraldo",
      "provenance": [],
      "collapsed_sections": []
    },
    "kernelspec": {
      "name": "python3",
      "display_name": "Python 3"
    },
    "language_info": {
      "name": "python"
    }
  },
  "cells": [
    {
      "cell_type": "markdown",
      "metadata": {
        "id": "Wi8bPLR-DIsg"
      },
      "source": [
        "# Importación de Librerías"
      ]
    },
    {
      "cell_type": "code",
      "metadata": {
        "colab": {
          "base_uri": "https://localhost:8080/"
        },
        "id": "48nGt1cAC3rV",
        "outputId": "12a6daba-9ba3-410b-a8ba-940aabdfca3d"
      },
      "source": [
        "import numpy as np\n",
        "import matplotlib, pylab as plt\n",
        "from scipy import optimize, interpolate, misc, integrate\n",
        "import pandas as pd\n",
        "import sympy as sp\n",
        "from sympy import simplify, symbols, expand, factor, sin, cos, init_printing\n",
        "import random as random\n",
        "init_printing"
      ],
      "execution_count": null,
      "outputs": [
        {
          "output_type": "execute_result",
          "data": {
            "text/plain": [
              "<function sympy.interactive.printing.init_printing>"
            ]
          },
          "metadata": {},
          "execution_count": 1
        }
      ]
    },
    {
      "cell_type": "markdown",
      "metadata": {
        "id": "mC4PN7HyDCZv"
      },
      "source": [
        "# 1. Derivadas\n",
        "\n",
        "En el metodo Smoothed-particle hydrodynamics (SPH) se emplean diferentes kernel de aproximación para calcular las propiedades de un fluído en cada punto del espacio. Uno de ellos es el Kernel de Lucy detallado a continuación:\n",
        "\n",
        "**Lucy's Quartic Kernel**\n"
      ]
    },
    {
      "cell_type": "code",
      "metadata": {
        "colab": {
          "base_uri": "https://localhost:8080/"
        },
        "id": "1pkyekzQDoVr",
        "outputId": "23600bc7-8804-4faf-bd8b-0c15912fa567"
      },
      "source": [
        "#Se define una semilla con la que se genera un número aleatorio.\n",
        "#Ese número será el límite del intervalo para las coordenadas x de los vectores r. \n",
        "\n",
        "random.seed(320073)\n",
        "d_x = random.randint( 0, 100 )\n",
        "print( f'el intervalo para las x llega hasta: {d_x}' ) "
      ],
      "execution_count": null,
      "outputs": [
        {
          "output_type": "stream",
          "name": "stdout",
          "text": [
            "el intervalo para las x llega hasta: 30\n"
          ]
        }
      ]
    },
    {
      "cell_type": "code",
      "metadata": {
        "colab": {
          "base_uri": "https://localhost:8080/"
        },
        "id": "kGGJXZPKkukw",
        "outputId": "f2ccaaca-f175-437f-c23b-fb20bb1656b3"
      },
      "source": [
        "#Se define otra semilla con la que se genera otro número aleatorio.\n",
        "#Ese número será el límite del intervalo para las coordenadas y de los vectores r. \n",
        "\n",
        "\n",
        "random.seed(512284)\n",
        "d_y = random.randint( 0, 100 )\n",
        "print( f'el intervalo para las y llega hasta: {d_y}' ) "
      ],
      "execution_count": null,
      "outputs": [
        {
          "output_type": "stream",
          "name": "stdout",
          "text": [
            "el intervalo para las y llega hasta: 35\n"
          ]
        }
      ]
    },
    {
      "cell_type": "code",
      "metadata": {
        "id": "SXkUsiE7k_QU"
      },
      "source": [
        "a_x = np.linspace( 0, d_x, 100 )  #Array con 100 coordenadas en x, desde 0 hasta 30\n",
        "a_y = np.linspace( 0, d_y, 100 )  #Array con 100 coordenadas en y, desde 0 hasta 35"
      ],
      "execution_count": null,
      "outputs": []
    },
    {
      "cell_type": "code",
      "metadata": {
        "id": "bItLogM79hKa"
      },
      "source": [
        "#Definición de los parámetros\n",
        "\n",
        "r0 = np.array( [0,0] )\n",
        "h = 10\n",
        "alpha_D = 5 / (np.pi*h**2)"
      ],
      "execution_count": null,
      "outputs": []
    },
    {
      "cell_type": "code",
      "metadata": {
        "id": "wwsRiYPSrgz9"
      },
      "source": [
        "def vector( n ):\n",
        "\n",
        "  '''\n",
        "  Función que construye los vectores, en base a los arrays a_x, a_y.\n",
        "  \n",
        "  '''\n",
        "\n",
        "  vector = np.array( [a_x[n], a_y[n]] )  #Se construye un n-ésimo vector con la posición n-ésima en x y y de los arrays a_x, a_y.\n",
        "  return vector\n",
        "\n",
        "#vector(0), mini - test\n",
        "\n",
        "def dif_vec( n ):\n",
        "\n",
        "  '''\n",
        "  Función que hace la diferencia entre el vector de origen y los vectores generados.\n",
        "  \n",
        "  '''\n",
        "  dif = r0 - vector(n)\n",
        "  return dif\n",
        "\n",
        "#dif_vec(0), mini - test\n",
        "\n",
        "def mag_vec( n ):\n",
        "\n",
        "  '''\n",
        "  Función que calcula la magnitud del vector resultante de la diferencia entre el vector de origen y los vectores generados. \n",
        "  \n",
        "  '''\n",
        "  \n",
        "  mag_s = np.dot( dif_vec(n), dif_vec(n) ) #Magnitud al cuadrado usando producto punto.\n",
        "  mag = np.sqrt( mag_s )   #Se calcula la raíz de la magnitud al cuadrado y con ello se obtiene la magnitud total.\n",
        "  return mag\n",
        "\n",
        "#mag_vec(0), mini-test\n",
        "\n",
        "def q( n ):\n",
        "  \n",
        "  '''\n",
        "  Función que construye escalares q, a partir de los vectores r0 - vector(n)\n",
        "  \n",
        "  '''\n",
        "  \n",
        "  q = mag_vec(n) / h\n",
        "  return q\n",
        "\n",
        "#q(0), mini-test\n",
        "\n",
        "q_vec = np.vectorize(q) #Se hace necesario vectorizar la función que construye los q.\n",
        "\n",
        "def W( n ):\n",
        "  \n",
        "  '''\n",
        "  Función que construye el Kernel de Lucy\n",
        "  \n",
        "  '''\n",
        "  \n",
        "  Term_1 = 1 + 3*q(n)\n",
        "  Term_2 = ( 1 - q(n) )**3\n",
        "  \n",
        "  if 0 <= q(n) <= 1:\n",
        "    Term = alpha_D * Term_1 * Term_2\n",
        "    return Term\n",
        "  elif q(n) > 1 : \n",
        "    return 0\n",
        "\n",
        "#W(0), mini-test\n",
        "\n",
        "W_vec = np.vectorize(W) #Se hace necesario vectorizar la función que construye el Kernel de Lucy."
      ],
      "execution_count": null,
      "outputs": []
    },
    {
      "cell_type": "code",
      "metadata": {
        "colab": {
          "base_uri": "https://localhost:8080/"
        },
        "id": "9GG1TRg2dao4",
        "outputId": "4cf939a1-bd63-498b-9fae-18554bfdfc7c"
      },
      "source": [
        "#Nótese que W0 = W(0), por tanto, el Kernel de Lucy depende de q externa e internamente (indirecta y directamente),\n",
        "#Lo que justifica la construcción de la gráfica en la celda siguiente a esta.\n",
        "\n",
        "q0 = q_vec(0)\n",
        "W0 = alpha_D * ( 1 + 3*q0 ) * ( 1 - q0 )**3\n",
        "\n",
        "print(f'q0 = {q0}')\n",
        "print(f'W0 = {W0}')\n",
        "print(f'W(0) = {W(0)}')\n",
        "print(f'W0 = W(0)')"
      ],
      "execution_count": null,
      "outputs": [
        {
          "output_type": "stream",
          "name": "stdout",
          "text": [
            "q0 = 0.0\n",
            "W0 = 0.015915494309189534\n",
            "W(0) = 0.015915494309189534\n",
            "W0 = W(0)\n"
          ]
        }
      ]
    },
    {
      "cell_type": "code",
      "metadata": {
        "colab": {
          "base_uri": "https://localhost:8080/"
        },
        "id": "TCPHAkHBD8DU",
        "outputId": "50f4ae67-cca6-4cb9-a0c9-ab969f5109f0"
      },
      "source": [
        "#Gráfica del Kernel de Lucy para los valores positivos de x.\n",
        "\n",
        "x_ = np.arange( 0, len(a_x), 1 )  #Se construye un conjunto de puntos n, para evaluar las funciones necesarias. Nótese que son enteros todos\n",
        "\n",
        "plt.figure( figsize = (8,6) )   #Tamaño de la gráfica\n",
        "\n",
        "plt.plot( q_vec(x_), W_vec(x_), 'k' )  #Graficamos el Kernel de Lucy, en función de los q.\n",
        "plt.xlabel( r'$q$', size = 15, labelpad=10 )\n",
        "plt.ylabel( r'$W(q,h)$', size = 15, labelpad=10 )\n",
        "plt.title( r'$W$ vs $q$', pad=10, size = 15 )\n",
        "\n",
        "plt.xlim(0,1)  #A partir de q > 1, W = 0 para toda q, por tanto, la información de la gráfica en esa parte es irrelevante\n",
        "plt.grid()"
      ],
      "execution_count": null,
      "outputs": [
        {
          "output_type": "display_data",
          "data": {
            "image/png": "[encoded data removed]",
            "text/plain": [
              "<Figure size 576x432 with 1 Axes>"
            ]
          },
          "metadata": {
            "needs_background": "light"
          }
        }
      ]
    },
    {
      "cell_type": "code",
      "metadata": {
        "colab": {
          "base_uri": "https://localhost:8080/"
        },
        "id": "3qBd9punIpiJ",
        "outputId": "285f743d-2659-4563-ef58-6f657f107078"
      },
      "source": [
        "#Implementación de la derivada en sympy.\n",
        "\n",
        "x = symbols('q')  #Se define la variable simbólica.\n",
        "\n",
        "W_l = lambda q: alpha_D * ( 1 + 3*q ) * ( 1 - q )**3  #Se define la parte no nula del Kernel de Lucy como una función lambda\n",
        "\n",
        "#W_l(x), mini-test\n",
        "\n",
        "Wp = sp.diff( W_l(x), x ) #Se deriva la parte no nula del Kernel de Lucy\n",
        "Wp"
      ],
      "execution_count": null,
      "outputs": [
        {
          "output_type": "execute_result",
          "data": {
            "text/latex": "$\\displaystyle 0.0477464829275686 \\left(1 - q\\right)^{3} - 3 \\left(1 - q\\right)^{2} \\left(0.0477464829275686 q + 0.0159154943091895\\right)$",
            "text/plain": [
              "0.0477464829275686*(1 - q)**3 - 3*(1 - q)**2*(0.0477464829275686*q + 0.0159154943091895)"
            ]
          },
          "metadata": {},
          "execution_count": 9
        }
      ]
    },
    {
      "cell_type": "code",
      "metadata": {
        "id": "neL_8l-CKEmY"
      },
      "source": [
        "Wp_np = sp.lambdify( x, Wp, 'numpy' )  #Se convierte la derivada simbólica en una función de numpy\n",
        "\n",
        "#Wp_np(2), mini-test"
      ],
      "execution_count": null,
      "outputs": []
    },
    {
      "cell_type": "code",
      "metadata": {
        "id": "0dxrt3CcK0uL"
      },
      "source": [
        "def Wderivate(n):\n",
        "  \n",
        "  '''\n",
        "  \n",
        "  Función que deriva el Kernel de Lucy.\n",
        "\n",
        "  '''\n",
        "  \n",
        "  if 0 <= q(n) <= 1:\n",
        "    return Wp_np(q(n))\n",
        "  elif q(n) > 1 : \n",
        "    return 0\n",
        "\n",
        "Wderivate_vec = np.vectorize(Wderivate) #Se hace necesario vectorizar la derivada del Kernel de Lucy."
      ],
      "execution_count": null,
      "outputs": []
    },
    {
      "cell_type": "code",
      "metadata": {
        "colab": {
          "base_uri": "https://localhost:8080/"
        },
        "id": "lEer6ehsKjEr",
        "outputId": "f6224b1a-a5cc-4f33-9ab0-730751c1cdf3"
      },
      "source": [
        "#Gráfica de la derivada del Kernel de Lucy para los valores positivos de x.\n",
        "\n",
        "plt.figure( figsize = ( 8, 6 ) )  #Tamaño de la gráfica\n",
        "\n",
        "plt.plot( q_vec(x_), Wderivate_vec(x_), 'k' )\n",
        "plt.xlabel( r'$q$', size = 15, labelpad = 10 )\n",
        "plt.ylabel( r'$\\frac{\\operatorname{d}W}{\\operatorname{d}q}$', size = 15, labelpad = 10 )\n",
        "plt.title( r'$\\frac{\\operatorname{d}W}{\\operatorname{d}q}$ vs $q$', pad=10, size = 15 )\n",
        "\n",
        "plt.xlim( 0, 1 )\n",
        "plt.grid()"
      ],
      "execution_count": null,
      "outputs": [
        {
          "output_type": "display_data",
          "data": {
            "image/png": "[encoded data removed]",
            "text/plain": [
              "<Figure size 576x432 with 1 Axes>"
            ]
          },
          "metadata": {
            "needs_background": "light"
          }
        }
      ]
    },
    {
      "cell_type": "code",
      "metadata": {
        "colab": {
          "base_uri": "https://localhost:8080/"
        },
        "id": "xFkGGm3qMRNq",
        "outputId": "14fbf510-d6dd-484a-9719-4dff48c7d6a9"
      },
      "source": [
        "#Gráfica de la derivada y  del Kernel de Lucy para los valores positivos de x.\n",
        "\n",
        "plt.figure( figsize = ( 8, 6 ) )  #Tamaño de la gráfica\n",
        "\n",
        "plt.plot( q_vec(x_), W_vec(x_), 'k-', label = 'W(q)' )\n",
        "plt.plot( q_vec(x_), Wderivate_vec(x_), 'k--', label = \"W'(q)\" )\n",
        "plt.legend()\n",
        "plt.xlabel( r'$q$', size = 15, labelpad=10 )\n",
        "plt.ylabel( r'$W(q,h)$', size = 15, labelpad=10 )\n",
        "plt.title( r\"$W$ and $W'$\", pad=10, size = 15 )\n",
        "\n",
        "#Se definen unos límites para la estética de la gráfica.\n",
        "plt.xlim( 0, 1 )\n",
        "plt.ylim( -0.03, 0.02 )\n",
        "plt.grid()"
      ],
      "execution_count": null,
      "outputs": [
        {
          "output_type": "display_data",
          "data": {
            "image/png": "[encoded data removed]",
            "text/plain": [
              "<Figure size 576x432 with 1 Axes>"
            ]
          },
          "metadata": {
            "needs_background": "light"
          }
        }
      ]
    },
    {
      "cell_type": "markdown",
      "metadata": {
        "id": "Bg3tNzMn91nB"
      },
      "source": [
        "#2. Integración"
      ]
    },
    {
      "cell_type": "code",
      "metadata": {
        "id": "7RF1pqYne3xy"
      },
      "source": [
        "epsilon = 1E-05"
      ],
      "execution_count": null,
      "outputs": []
    },
    {
      "cell_type": "markdown",
      "metadata": {
        "id": "Ibnyz_2alzQt"
      },
      "source": [
        "##1.\n",
        "$$\\int_0^1 e^{1-x^2}\\operatorname{d}x$$"
      ]
    },
    {
      "cell_type": "code",
      "metadata": {
        "id": "LbKw59wDKKVc"
      },
      "source": [
        "x = sp.symbols('x')\n",
        "f = lambda x: sp.exp( 1-x**2 )  #Definimos la función simbólicamente.\n",
        "fpp = sp.diff( f(x), x, 2 )   #Encontramos su segunda derivada.\n",
        "\n",
        "#fpp mini-test\n",
        "\n",
        "fn = sp.lambdify( x, fpp, 'numpy' )  #La convertimos a una función de numpy.\n",
        "f1 = sp.lambdify( x, f(x), 'numpy' )  #Convertimos también la función original a una función de numpy.\n",
        "\n",
        "#Vectorizamos la función orignial y su segunda derivada.\n",
        "fn = np.vectorize(fn)\n",
        "f1 = np.vectorize(f1)"
      ],
      "execution_count": null,
      "outputs": []
    },
    {
      "cell_type": "code",
      "metadata": {
        "id": "Hgcf1E6kTr66",
        "colab": {
          "base_uri": "https://localhost:8080/"
        },
        "outputId": "cb555964-1fc7-4d43-b336-1d1bf76227c2"
      },
      "source": [
        "#Hallamos el máximo de la segunda derivada, dentro del intervalo de interés\n",
        "\n",
        "max = np.max(fn(a_))\n",
        "max"
      ],
      "execution_count": null,
      "outputs": [
        {
          "output_type": "execute_result",
          "data": {
            "text/plain": [
              "2.0"
            ]
          },
          "metadata": {},
          "execution_count": 17
        }
      ]
    },
    {
      "cell_type": "code",
      "metadata": {
        "colab": {
          "base_uri": "https://localhost:8080/"
        },
        "id": "qAusqEEtRi9Z",
        "outputId": "b3fd27be-9acd-4faf-f172-1d08699db162"
      },
      "source": [
        "#De lo anterior, como tenemos asignado un epsilon de 0.00001, tenemos que,\n",
        "\n",
        "a, b = 0, 1\n",
        "h = np.sqrt(12*epsilon / ((b - a)*max))\n",
        "N = int((b - a) // h)\n",
        "intervalo = np.linspace( 0, 1, N + 1 )\n",
        "I_1t = integrate.trapz( f1(intervalo), intervalo, h )\n",
        "I_1q = integrate.quad( f1, 0, 1 )[0]\n",
        "\n",
        "print(f'El valor de la integral con el método del trapecio es: ' + str('%.5lf'%I_1t))\n",
        "print(f'El valor de la integral con el método de cuadratura es: ' + str('%.5lf'%I_1q))"
      ],
      "execution_count": null,
      "outputs": [
        {
          "output_type": "stream",
          "name": "stdout",
          "text": [
            "El valor de la integral con el método del trapecio es: 2.03007\n",
            "El valor de la integral con el método de cuadratura es: 2.03008\n"
          ]
        }
      ]
    },
    {
      "cell_type": "markdown",
      "metadata": {
        "id": "NIsqHxcms-ze"
      },
      "source": [
        "* **Definición del intervalo para el método de Sympson:**"
      ]
    },
    {
      "cell_type": "code",
      "metadata": {
        "id": "7MaSrArsqpNZ"
      },
      "source": [
        "fp_4 = sp.diff( f(x), x, 4 ) #Definimos la cuarta derivada simbólicamente.\n",
        "fp_4np = sp.lambdify( x, fp_4, 'numpy' )  #La convertimos a una función de numpy."
      ],
      "execution_count": null,
      "outputs": []
    },
    {
      "cell_type": "code",
      "metadata": {
        "colab": {
          "base_uri": "https://localhost:8080/"
        },
        "id": "J02UUpw1q40F",
        "outputId": "20dca218-cffa-46bb-ac1e-90556d921a6c"
      },
      "source": [
        "#Encontramos el máximo de la cuarta derivada en el intervalo de interés\n",
        "\n",
        "max_ = np.max(fp_4np(a_))\n",
        "max_"
      ],
      "execution_count": null,
      "outputs": [
        {
          "output_type": "execute_result",
          "data": {
            "text/plain": [
              "32.61938194150854"
            ]
          },
          "metadata": {},
          "execution_count": 50
        }
      ]
    },
    {
      "cell_type": "code",
      "metadata": {
        "colab": {
          "base_uri": "https://localhost:8080/"
        },
        "id": "cfAIWCZ1qbFQ",
        "outputId": "d7e2a613-2775-44ad-9dbc-62891374eccf"
      },
      "source": [
        "#De lo anterior, como tenemos asignado un epsilon de 0.00001, tenemos que,\n",
        "\n",
        "h_ = ( 180*epsilon / ((b - a)*max_) )**(1/4)\n",
        "N_ = int((b - a) // (2*h_))\n",
        "intervalo_ = np.linspace( a, b, N_ + 1 )\n",
        "I_1s = integrate.simps(f1(intervalo_), intervalo_, h_)\n",
        "print(f'El valor de la integral con el método de Sympson es: ' + str('%.5lf'%I_1s))"
      ],
      "execution_count": null,
      "outputs": [
        {
          "output_type": "stream",
          "name": "stdout",
          "text": [
            "El valor de la integral con el método de Sympson es: 2.02885\n"
          ]
        }
      ]
    },
    {
      "cell_type": "markdown",
      "metadata": {
        "id": "KBn5WSgSwK_Q"
      },
      "source": [
        "##2.\n",
        "$$\\int_{-\\infty}^\\infty \\frac{\\operatorname{d}x}{1+x^2} = 2\\int_0^\\infty \\frac{\\operatorname{d}x}{1+x^2} $$"
      ]
    },
    {
      "cell_type": "code",
      "metadata": {
        "id": "NsgTN7GHs6ca"
      },
      "source": [
        "g = lambda x: 1 / ( 1 + x**2 )  #Construimos la función simbólicamente\n",
        "g = sp.lambdify( x, g(x), 'numpy' )  #Convertimos a función de numpy"
      ],
      "execution_count": null,
      "outputs": []
    },
    {
      "cell_type": "code",
      "metadata": {
        "colab": {
          "base_uri": "https://localhost:8080/"
        },
        "id": "P_vxIUKlzLAF",
        "outputId": "5ae0abb8-0ce7-49c9-d49f-2b7276553db9"
      },
      "source": [
        "#Calculamos la integral impropia\n",
        "\n",
        "I_2q = 2*integrate.quad( g, 0, np.inf )[0]\n",
        "print(f'El valor de la integral con el método de cuadratura es: ' + str('%.5lf'%I_2q))"
      ],
      "execution_count": null,
      "outputs": [
        {
          "output_type": "stream",
          "name": "stdout",
          "text": [
            "El valor de la integral con el método de cuadratura es: 3.14159\n"
          ]
        }
      ]
    },
    {
      "cell_type": "markdown",
      "metadata": {
        "id": "Hl7ntRa80POI"
      },
      "source": [
        "##3.\n",
        "$$\\int_{\\sin x}^{\\cos x}\\int_0^\\frac{\\pi}{4} (2y\\sin x + \\cos^2x)\\operatorname{d}x \\operatorname{d}y$$"
      ]
    },
    {
      "cell_type": "code",
      "metadata": {
        "id": "IYrIGj4k2IiY",
        "colab": {
          "base_uri": "https://localhost:8080/",
          "height": 38
        },
        "outputId": "6b63b549-47df-405d-fc25-ee9964387ca1"
      },
      "source": [
        "y1 = lambda x: 2*sp.sin(x) #+ (sp.cos(x))**2\n",
        "y1(x)\n",
        "y2 = lambda x: (sp.cos(x))**2\n",
        "y2(x)"
      ],
      "execution_count": null,
      "outputs": [
        {
          "output_type": "execute_result",
          "data": {
            "text/latex": "$\\displaystyle \\cos^{2}{\\left(x \\right)}$",
            "text/plain": [
              "cos(x)**2"
            ]
          },
          "metadata": {},
          "execution_count": 86
        }
      ]
    },
    {
      "cell_type": "code",
      "metadata": {
        "id": "a1LojGsgwLT-"
      },
      "source": [
        "y1 = sp.lambdify( x, y1(x), 'numpy' )\n",
        "y2 = sp.lambdify( x, y2(x), 'numpy' )"
      ],
      "execution_count": null,
      "outputs": []
    },
    {
      "cell_type": "code",
      "metadata": {
        "id": "_bOLH6g-wizP"
      },
      "source": [
        "I1 = integrate.quad( y1, 0, np.pi/4 )[0]\n",
        "I2 = integrate.quad( y2, 0, np.pi/4 )[0]"
      ],
      "execution_count": null,
      "outputs": []
    },
    {
      "cell_type": "code",
      "metadata": {
        "colab": {
          "base_uri": "https://localhost:8080/",
          "height": 38
        },
        "id": "HXQTDLSswxIr",
        "outputId": "b5ff1d3c-c779-408f-9313-35ef6e86a638"
      },
      "source": [
        "y = symbols('y')\n",
        "y3 = lambda y: I1*y + I2\n",
        "y3(y)"
      ],
      "execution_count": null,
      "outputs": [
        {
          "output_type": "execute_result",
          "data": {
            "text/latex": "$\\displaystyle 0.308425137534042 y + 0.642699081698724$",
            "text/plain": [
              "0.308425137534042*y + 0.642699081698724"
            ]
          },
          "metadata": {},
          "execution_count": 98
        }
      ]
    },
    {
      "cell_type": "code",
      "metadata": {
        "colab": {
          "base_uri": "https://localhost:8080/",
          "height": 38
        },
        "id": "2kmBCIkCxHbS",
        "outputId": "47c9ad23-4161-4615-c5bd-a09e86aa137d"
      },
      "source": [
        "I3 = sp.integrate( y3(y), y, (y, sp.sin(x), sp.cos(x)) )\n",
        "I3"
      ],
      "execution_count": null,
      "outputs": [
        {
          "output_type": "execute_result",
          "data": {
            "text/latex": "$\\displaystyle - 0.0514041895890071 \\sin^{3}{\\left(x \\right)} - 0.321349540849362 \\sin^{2}{\\left(x \\right)} + 0.0514041895890071 \\cos^{3}{\\left(x \\right)} + 0.321349540849362 \\cos^{2}{\\left(x \\right)}$",
            "text/plain": [
              "-0.0514041895890071*sin(x)**3 - 0.321349540849362*sin(x)**2 + 0.0514041895890071*cos(x)**3 + 0.321349540849362*cos(x)**2"
            ]
          },
          "metadata": {},
          "execution_count": 111
        }
      ]
    },
    {
      "cell_type": "markdown",
      "metadata": {
        "id": "_9OerCx22Mtq"
      },
      "source": [
        "##4.\n",
        "$$\\int_e^{2e} \\frac{\\operatorname{d}x}{\\ln x}$$"
      ]
    },
    {
      "cell_type": "code",
      "metadata": {
        "id": "gYXuVsUC2k8p"
      },
      "source": [
        "#Construimos las funciones simbólicamente.\n",
        "\n",
        "z = lambda x: 1 / sp.ln(x)\n",
        "zpp = sp.diff( z(x), x, 2 )\n",
        "zp_4 = sp.diff( z(x), x, 4 )\n",
        "\n",
        "#Convertimos a funciones de numpy.\n",
        "\n",
        "z = np.vectorize(sp.lambdify( x, z(x), 'numpy' ))\n",
        "zpp = sp.lambdify( x, zpp, 'numpy' )\n",
        "zp_4 = sp.lambdify( x, zp_4, 'numpy' )"
      ],
      "execution_count": null,
      "outputs": []
    },
    {
      "cell_type": "code",
      "metadata": {
        "colab": {
          "base_uri": "https://localhost:8080/"
        },
        "id": "391DeAkuhtSf",
        "outputId": "1a1cbf19-4980-4e8a-f50a-e0967239e3d1"
      },
      "source": [
        "Inter = np.linspace( np.e, 2*np.e )\n",
        "max3 = np.max( zpp(Inter) )\n",
        "max3"
      ],
      "execution_count": null,
      "outputs": [
        {
          "output_type": "execute_result",
          "data": {
            "text/plain": [
              "0.4060058497098381"
            ]
          },
          "metadata": {},
          "execution_count": 57
        }
      ]
    },
    {
      "cell_type": "code",
      "metadata": {
        "id": "FbtgiB3MiNBe"
      },
      "source": [
        "h3 = np.sqrt(12*epsilon / ((2*np.e - np.e)*max3))\n",
        "N3 = (2*np.e - np.e) // h3"
      ],
      "execution_count": null,
      "outputs": []
    },
    {
      "cell_type": "code",
      "metadata": {
        "colab": {
          "base_uri": "https://localhost:8080/"
        },
        "id": "FsY4FUAe4sdX",
        "outputId": "0fe86c6b-8dee-4ed6-af3b-2b71ce311a57"
      },
      "source": [
        "intervalo3 = np.linspace( np.e, 2*np.e, int(N3) + 1 )\n",
        "I_3t = integrate.trapz( z(intervalo3), intervalo3, h3 )\n",
        "I_3q = integrate.quad( z, np.e, 2*np.e )[0]\n",
        "\n",
        "print(f'El valor de la integral con el método del trapecio es: ' + str('%.5lf'%I_3t))\n",
        "print(f'El valor de la integral con el método de cuadratura es: ' + str('%.5lf'%I_3q))"
      ],
      "execution_count": null,
      "outputs": [
        {
          "output_type": "stream",
          "name": "stdout",
          "text": [
            "El valor de la integral con el método del trapecio es: 2.00381\n",
            "El valor de la integral con el método de cuadratura es: 2.00381\n"
          ]
        }
      ]
    },
    {
      "cell_type": "markdown",
      "metadata": {
        "id": "VDE3GKUZoEJ6"
      },
      "source": [
        "* **Definición del intervalo para el método de Sympson:**"
      ]
    },
    {
      "cell_type": "code",
      "metadata": {
        "colab": {
          "base_uri": "https://localhost:8080/"
        },
        "id": "KmxqgfePnXky",
        "outputId": "b610068a-7117-4e6e-fc38-0c07f0c2d115"
      },
      "source": [
        "#Encontramos el máximo de la cuarta derivada en el intervalo de interés\n",
        "\n",
        "max_3 = np.max(fp_4np(Inter))\n",
        "max_3"
      ],
      "execution_count": null,
      "outputs": [
        {
          "output_type": "execute_result",
          "data": {
            "text/plain": [
              "0.8918204069528738"
            ]
          },
          "metadata": {},
          "execution_count": 62
        }
      ]
    },
    {
      "cell_type": "code",
      "metadata": {
        "colab": {
          "base_uri": "https://localhost:8080/"
        },
        "id": "uJAA27Ouno3C",
        "outputId": "f7e6e9d7-1171-4bac-ff6e-7720a1e3b922"
      },
      "source": [
        "#De lo anterior, como tenemos asignado un epsilon de 0.00001, tenemos que,\n",
        "\n",
        "h_3 = ( 180*epsilon / ((b - a)*max_3) )**(1/4)\n",
        "N_3 = int((b - a) // (2*h_3))\n",
        "intervalo_3 = np.linspace( a, b, N_3 + 1 )\n",
        "I_3s = integrate.simps(f1(intervalo_3), intervalo_3, h_3)\n",
        "print(f'El valor de la integral con el método de Sympson es: ' + str('%.5lf'%I_3s))"
      ],
      "execution_count": null,
      "outputs": [
        {
          "output_type": "stream",
          "name": "stdout",
          "text": [
            "El valor de la integral con el método de Sympson es: 2.03105\n"
          ]
        }
      ]
    }
  ]
}