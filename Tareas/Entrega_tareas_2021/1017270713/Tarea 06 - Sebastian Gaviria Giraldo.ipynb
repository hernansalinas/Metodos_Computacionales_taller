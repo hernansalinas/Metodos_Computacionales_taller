{
  "nbformat": 4,
  "nbformat_minor": 0,
  "metadata": {
    "colab": {
      "name": "Tarea 06 - Sebastian Gaviria Giraldo",
      "provenance": []
    },
    "kernelspec": {
      "name": "python3",
      "display_name": "Python 3"
    },
    "language_info": {
      "name": "python"
    }
  },
  "cells": [
    {
      "cell_type": "code",
      "metadata": {
        "colab": {
          "base_uri": "https://localhost:8080/"
        },
        "id": "RtVFvz01TTXe",
        "outputId": "f85f3452-40ff-4a07-fc34-dc73d08ac88e"
      },
      "source": [
        "import numpy as np\n",
        "import pandas as pd\n",
        "import matplotlib.pyplot as plt\n",
        "import scipy\n",
        "from scipy import misc, fft, interpolate, optimize\n",
        "from scipy.interpolate import CubicSpline\n",
        "from sympy import init_printing\n",
        "init_printing"
      ],
      "execution_count": 2,
      "outputs": [
        {
          "output_type": "execute_result",
          "data": {
            "text/plain": [
              "<function sympy.interactive.printing.init_printing>"
            ]
          },
          "metadata": {},
          "execution_count": 2
        }
      ]
    },
    {
      "cell_type": "code",
      "metadata": {
        "colab": {
          "base_uri": "https://localhost:8080/",
          "height": 419
        },
        "id": "QeKrteV9UehT",
        "outputId": "da041551-b432-4689-8e0b-f536375e6a7c"
      },
      "source": [
        "link = \"https://docs.google.com/spreadsheets/d/e/2PACX-1vT8btHZ-A6ChzV5Rx_CQmCzbhO10J7R6LvQAyHx9qOCoCDAL9RJgaGUATf2z5lTMo-SjByvrnaX02Cz/pub?output=csv\"\n",
        "df = pd.read_csv(link,';')\n",
        "df"
      ],
      "execution_count": 3,
      "outputs": [
        {
          "output_type": "execute_result",
          "data": {
            "text/html": [
              "<div>\n",
              "<style scoped>\n",
              "    .dataframe tbody tr th:only-of-type {\n",
              "        vertical-align: middle;\n",
              "    }\n",
              "\n",
              "    .dataframe tbody tr th {\n",
              "        vertical-align: top;\n",
              "    }\n",
              "\n",
              "    .dataframe thead th {\n",
              "        text-align: right;\n",
              "    }\n",
              "</style>\n",
              "<table border=\"1\" class=\"dataframe\">\n",
              "  <thead>\n",
              "    <tr style=\"text-align: right;\">\n",
              "      <th></th>\n",
              "      <th>Tiempo (ms)</th>\n",
              "      <th>Ángulo 1,</th>\n",
              "    </tr>\n",
              "  </thead>\n",
              "  <tbody>\n",
              "    <tr>\n",
              "      <th>0</th>\n",
              "      <td>9</td>\n",
              "      <td>59,289611816406</td>\n",
              "    </tr>\n",
              "    <tr>\n",
              "      <th>1</th>\n",
              "      <td>42</td>\n",
              "      <td>59,9823265075684</td>\n",
              "    </tr>\n",
              "    <tr>\n",
              "      <th>2</th>\n",
              "      <td>75</td>\n",
              "      <td>61,2374534606934</td>\n",
              "    </tr>\n",
              "    <tr>\n",
              "      <th>3</th>\n",
              "      <td>108</td>\n",
              "      <td>63,49247741699</td>\n",
              "    </tr>\n",
              "    <tr>\n",
              "      <th>4</th>\n",
              "      <td>142</td>\n",
              "      <td>65,3887710571289</td>\n",
              "    </tr>\n",
              "    <tr>\n",
              "      <th>...</th>\n",
              "      <td>...</td>\n",
              "      <td>...</td>\n",
              "    </tr>\n",
              "    <tr>\n",
              "      <th>2842</th>\n",
              "      <td>94709</td>\n",
              "      <td>94,9375762939453</td>\n",
              "    </tr>\n",
              "    <tr>\n",
              "      <th>2843</th>\n",
              "      <td>94743</td>\n",
              "      <td>96,479850769043</td>\n",
              "    </tr>\n",
              "    <tr>\n",
              "      <th>2844</th>\n",
              "      <td>94776</td>\n",
              "      <td>97,9406890869141</td>\n",
              "    </tr>\n",
              "    <tr>\n",
              "      <th>2845</th>\n",
              "      <td>94809</td>\n",
              "      <td>99,3180923461914</td>\n",
              "    </tr>\n",
              "    <tr>\n",
              "      <th>2846</th>\n",
              "      <td>94843</td>\n",
              "      <td>100,637817382813</td>\n",
              "    </tr>\n",
              "  </tbody>\n",
              "</table>\n",
              "<p>2847 rows × 2 columns</p>\n",
              "</div>"
            ],
            "text/plain": [
              "      Tiempo (ms)         Ángulo 1,\n",
              "0               9   59,289611816406\n",
              "1              42  59,9823265075684\n",
              "2              75  61,2374534606934\n",
              "3             108    63,49247741699\n",
              "4             142  65,3887710571289\n",
              "...           ...               ...\n",
              "2842        94709  94,9375762939453\n",
              "2843        94743   96,479850769043\n",
              "2844        94776  97,9406890869141\n",
              "2845        94809  99,3180923461914\n",
              "2846        94843  100,637817382813\n",
              "\n",
              "[2847 rows x 2 columns]"
            ]
          },
          "metadata": {},
          "execution_count": 3
        }
      ]
    },
    {
      "cell_type": "code",
      "metadata": {
        "colab": {
          "base_uri": "https://localhost:8080/",
          "height": 419
        },
        "id": "srYNggnoYeJC",
        "outputId": "d8180306-f6ed-439f-d3a3-cf3d48c7bf31"
      },
      "source": [
        "df = df.rename( columns = { 'Tiempo (ms)' : 'Tiempo[ms]', 'Ángulo 1,' : 'Ángulo[Deg]' } )\n",
        "df"
      ],
      "execution_count": 4,
      "outputs": [
        {
          "output_type": "execute_result",
          "data": {
            "text/html": [
              "<div>\n",
              "<style scoped>\n",
              "    .dataframe tbody tr th:only-of-type {\n",
              "        vertical-align: middle;\n",
              "    }\n",
              "\n",
              "    .dataframe tbody tr th {\n",
              "        vertical-align: top;\n",
              "    }\n",
              "\n",
              "    .dataframe thead th {\n",
              "        text-align: right;\n",
              "    }\n",
              "</style>\n",
              "<table border=\"1\" class=\"dataframe\">\n",
              "  <thead>\n",
              "    <tr style=\"text-align: right;\">\n",
              "      <th></th>\n",
              "      <th>Tiempo[ms]</th>\n",
              "      <th>Ángulo[Deg]</th>\n",
              "    </tr>\n",
              "  </thead>\n",
              "  <tbody>\n",
              "    <tr>\n",
              "      <th>0</th>\n",
              "      <td>9</td>\n",
              "      <td>59,289611816406</td>\n",
              "    </tr>\n",
              "    <tr>\n",
              "      <th>1</th>\n",
              "      <td>42</td>\n",
              "      <td>59,9823265075684</td>\n",
              "    </tr>\n",
              "    <tr>\n",
              "      <th>2</th>\n",
              "      <td>75</td>\n",
              "      <td>61,2374534606934</td>\n",
              "    </tr>\n",
              "    <tr>\n",
              "      <th>3</th>\n",
              "      <td>108</td>\n",
              "      <td>63,49247741699</td>\n",
              "    </tr>\n",
              "    <tr>\n",
              "      <th>4</th>\n",
              "      <td>142</td>\n",
              "      <td>65,3887710571289</td>\n",
              "    </tr>\n",
              "    <tr>\n",
              "      <th>...</th>\n",
              "      <td>...</td>\n",
              "      <td>...</td>\n",
              "    </tr>\n",
              "    <tr>\n",
              "      <th>2842</th>\n",
              "      <td>94709</td>\n",
              "      <td>94,9375762939453</td>\n",
              "    </tr>\n",
              "    <tr>\n",
              "      <th>2843</th>\n",
              "      <td>94743</td>\n",
              "      <td>96,479850769043</td>\n",
              "    </tr>\n",
              "    <tr>\n",
              "      <th>2844</th>\n",
              "      <td>94776</td>\n",
              "      <td>97,9406890869141</td>\n",
              "    </tr>\n",
              "    <tr>\n",
              "      <th>2845</th>\n",
              "      <td>94809</td>\n",
              "      <td>99,3180923461914</td>\n",
              "    </tr>\n",
              "    <tr>\n",
              "      <th>2846</th>\n",
              "      <td>94843</td>\n",
              "      <td>100,637817382813</td>\n",
              "    </tr>\n",
              "  </tbody>\n",
              "</table>\n",
              "<p>2847 rows × 2 columns</p>\n",
              "</div>"
            ],
            "text/plain": [
              "      Tiempo[ms]       Ángulo[Deg]\n",
              "0              9   59,289611816406\n",
              "1             42  59,9823265075684\n",
              "2             75  61,2374534606934\n",
              "3            108    63,49247741699\n",
              "4            142  65,3887710571289\n",
              "...          ...               ...\n",
              "2842       94709  94,9375762939453\n",
              "2843       94743   96,479850769043\n",
              "2844       94776  97,9406890869141\n",
              "2845       94809  99,3180923461914\n",
              "2846       94843  100,637817382813\n",
              "\n",
              "[2847 rows x 2 columns]"
            ]
          },
          "metadata": {},
          "execution_count": 4
        }
      ]
    },
    {
      "cell_type": "code",
      "metadata": {
        "colab": {
          "base_uri": "https://localhost:8080/",
          "height": 419
        },
        "id": "wjscn7hhpBuC",
        "outputId": "3ab74945-9d4e-4637-a2a8-8fc960c85fbc"
      },
      "source": [
        "df['Tiempo[ms]'] = df['Tiempo[ms]'].apply(float)\n",
        "df['Ángulo[Deg]'] = df['Ángulo[Deg]'].str.replace(',','.').apply(float)#astype('float64')\n",
        "df"
      ],
      "execution_count": 5,
      "outputs": [
        {
          "output_type": "execute_result",
          "data": {
            "text/html": [
              "<div>\n",
              "<style scoped>\n",
              "    .dataframe tbody tr th:only-of-type {\n",
              "        vertical-align: middle;\n",
              "    }\n",
              "\n",
              "    .dataframe tbody tr th {\n",
              "        vertical-align: top;\n",
              "    }\n",
              "\n",
              "    .dataframe thead th {\n",
              "        text-align: right;\n",
              "    }\n",
              "</style>\n",
              "<table border=\"1\" class=\"dataframe\">\n",
              "  <thead>\n",
              "    <tr style=\"text-align: right;\">\n",
              "      <th></th>\n",
              "      <th>Tiempo[ms]</th>\n",
              "      <th>Ángulo[Deg]</th>\n",
              "    </tr>\n",
              "  </thead>\n",
              "  <tbody>\n",
              "    <tr>\n",
              "      <th>0</th>\n",
              "      <td>9.0</td>\n",
              "      <td>59.289612</td>\n",
              "    </tr>\n",
              "    <tr>\n",
              "      <th>1</th>\n",
              "      <td>42.0</td>\n",
              "      <td>59.982327</td>\n",
              "    </tr>\n",
              "    <tr>\n",
              "      <th>2</th>\n",
              "      <td>75.0</td>\n",
              "      <td>61.237453</td>\n",
              "    </tr>\n",
              "    <tr>\n",
              "      <th>3</th>\n",
              "      <td>108.0</td>\n",
              "      <td>63.492477</td>\n",
              "    </tr>\n",
              "    <tr>\n",
              "      <th>4</th>\n",
              "      <td>142.0</td>\n",
              "      <td>65.388771</td>\n",
              "    </tr>\n",
              "    <tr>\n",
              "      <th>...</th>\n",
              "      <td>...</td>\n",
              "      <td>...</td>\n",
              "    </tr>\n",
              "    <tr>\n",
              "      <th>2842</th>\n",
              "      <td>94709.0</td>\n",
              "      <td>94.937576</td>\n",
              "    </tr>\n",
              "    <tr>\n",
              "      <th>2843</th>\n",
              "      <td>94743.0</td>\n",
              "      <td>96.479851</td>\n",
              "    </tr>\n",
              "    <tr>\n",
              "      <th>2844</th>\n",
              "      <td>94776.0</td>\n",
              "      <td>97.940689</td>\n",
              "    </tr>\n",
              "    <tr>\n",
              "      <th>2845</th>\n",
              "      <td>94809.0</td>\n",
              "      <td>99.318092</td>\n",
              "    </tr>\n",
              "    <tr>\n",
              "      <th>2846</th>\n",
              "      <td>94843.0</td>\n",
              "      <td>100.637817</td>\n",
              "    </tr>\n",
              "  </tbody>\n",
              "</table>\n",
              "<p>2847 rows × 2 columns</p>\n",
              "</div>"
            ],
            "text/plain": [
              "      Tiempo[ms]  Ángulo[Deg]\n",
              "0            9.0    59.289612\n",
              "1           42.0    59.982327\n",
              "2           75.0    61.237453\n",
              "3          108.0    63.492477\n",
              "4          142.0    65.388771\n",
              "...          ...          ...\n",
              "2842     94709.0    94.937576\n",
              "2843     94743.0    96.479851\n",
              "2844     94776.0    97.940689\n",
              "2845     94809.0    99.318092\n",
              "2846     94843.0   100.637817\n",
              "\n",
              "[2847 rows x 2 columns]"
            ]
          },
          "metadata": {},
          "execution_count": 5
        }
      ]
    },
    {
      "cell_type": "code",
      "metadata": {
        "id": "h5xu3110YiGi"
      },
      "source": [
        "#Método alternativo para convertir las filas de str a float\n",
        "#Se vectoriza la función eval, y a partir de eso se evalúa en la columna\n",
        "\n",
        "#eval_= np.vectorize(eval )\n",
        "#d = eval_(df[\"AnguloDeg\"].str.replace(\",\", \".\"))"
      ],
      "execution_count": 6,
      "outputs": []
    },
    {
      "cell_type": "code",
      "metadata": {
        "colab": {
          "base_uri": "https://localhost:8080/",
          "height": 419
        },
        "id": "mRrOzK6qY9mf",
        "outputId": "ac55cd9b-b4d9-4dc7-ab24-1e51d14fcc8c"
      },
      "source": [
        "df['Ángulo[Rad]'] = df['Ángulo[Deg]'].apply( np.deg2rad )\n",
        "df"
      ],
      "execution_count": 7,
      "outputs": [
        {
          "output_type": "execute_result",
          "data": {
            "text/html": [
              "<div>\n",
              "<style scoped>\n",
              "    .dataframe tbody tr th:only-of-type {\n",
              "        vertical-align: middle;\n",
              "    }\n",
              "\n",
              "    .dataframe tbody tr th {\n",
              "        vertical-align: top;\n",
              "    }\n",
              "\n",
              "    .dataframe thead th {\n",
              "        text-align: right;\n",
              "    }\n",
              "</style>\n",
              "<table border=\"1\" class=\"dataframe\">\n",
              "  <thead>\n",
              "    <tr style=\"text-align: right;\">\n",
              "      <th></th>\n",
              "      <th>Tiempo[ms]</th>\n",
              "      <th>Ángulo[Deg]</th>\n",
              "      <th>Ángulo[Rad]</th>\n",
              "    </tr>\n",
              "  </thead>\n",
              "  <tbody>\n",
              "    <tr>\n",
              "      <th>0</th>\n",
              "      <td>9.0</td>\n",
              "      <td>59.289612</td>\n",
              "      <td>1.034799</td>\n",
              "    </tr>\n",
              "    <tr>\n",
              "      <th>1</th>\n",
              "      <td>42.0</td>\n",
              "      <td>59.982327</td>\n",
              "      <td>1.046889</td>\n",
              "    </tr>\n",
              "    <tr>\n",
              "      <th>2</th>\n",
              "      <td>75.0</td>\n",
              "      <td>61.237453</td>\n",
              "      <td>1.068795</td>\n",
              "    </tr>\n",
              "    <tr>\n",
              "      <th>3</th>\n",
              "      <td>108.0</td>\n",
              "      <td>63.492477</td>\n",
              "      <td>1.108153</td>\n",
              "    </tr>\n",
              "    <tr>\n",
              "      <th>4</th>\n",
              "      <td>142.0</td>\n",
              "      <td>65.388771</td>\n",
              "      <td>1.141249</td>\n",
              "    </tr>\n",
              "    <tr>\n",
              "      <th>...</th>\n",
              "      <td>...</td>\n",
              "      <td>...</td>\n",
              "      <td>...</td>\n",
              "    </tr>\n",
              "    <tr>\n",
              "      <th>2842</th>\n",
              "      <td>94709.0</td>\n",
              "      <td>94.937576</td>\n",
              "      <td>1.656973</td>\n",
              "    </tr>\n",
              "    <tr>\n",
              "      <th>2843</th>\n",
              "      <td>94743.0</td>\n",
              "      <td>96.479851</td>\n",
              "      <td>1.683891</td>\n",
              "    </tr>\n",
              "    <tr>\n",
              "      <th>2844</th>\n",
              "      <td>94776.0</td>\n",
              "      <td>97.940689</td>\n",
              "      <td>1.709387</td>\n",
              "    </tr>\n",
              "    <tr>\n",
              "      <th>2845</th>\n",
              "      <td>94809.0</td>\n",
              "      <td>99.318092</td>\n",
              "      <td>1.733428</td>\n",
              "    </tr>\n",
              "    <tr>\n",
              "      <th>2846</th>\n",
              "      <td>94843.0</td>\n",
              "      <td>100.637817</td>\n",
              "      <td>1.756461</td>\n",
              "    </tr>\n",
              "  </tbody>\n",
              "</table>\n",
              "<p>2847 rows × 3 columns</p>\n",
              "</div>"
            ],
            "text/plain": [
              "      Tiempo[ms]  Ángulo[Deg]  Ángulo[Rad]\n",
              "0            9.0    59.289612     1.034799\n",
              "1           42.0    59.982327     1.046889\n",
              "2           75.0    61.237453     1.068795\n",
              "3          108.0    63.492477     1.108153\n",
              "4          142.0    65.388771     1.141249\n",
              "...          ...          ...          ...\n",
              "2842     94709.0    94.937576     1.656973\n",
              "2843     94743.0    96.479851     1.683891\n",
              "2844     94776.0    97.940689     1.709387\n",
              "2845     94809.0    99.318092     1.733428\n",
              "2846     94843.0   100.637817     1.756461\n",
              "\n",
              "[2847 rows x 3 columns]"
            ]
          },
          "metadata": {},
          "execution_count": 7
        }
      ]
    },
    {
      "cell_type": "code",
      "metadata": {
        "colab": {
          "base_uri": "https://localhost:8080/",
          "height": 483
        },
        "id": "bXZj9fJqZHsG",
        "outputId": "2db807c2-4945-458c-9d33-c30bebbacdf9"
      },
      "source": [
        "a = df['Ángulo[Rad]'] - np.pi/2\n",
        "\n",
        "plt.figure( figsize = (10,8) )\n",
        "\n",
        "plt.plot(df['Tiempo[ms]'], a,'bo-')\n",
        "\n",
        "plt.xlim(0,10000)\n",
        "\n",
        "plt.grid()"
      ],
      "execution_count": 8,
      "outputs": [
        {
          "output_type": "display_data",
          "data": {
            "image/png": "[encoded data removed]",
            "text/plain": [
              "<Figure size 720x576 with 1 Axes>"
            ]
          },
          "metadata": {
            "needs_background": "light"
          }
        }
      ]
    },
    {
      "cell_type": "code",
      "metadata": {
        "colab": {
          "base_uri": "https://localhost:8080/",
          "height": 333
        },
        "id": "r8B0zf3xbOjB",
        "outputId": "5a0135ab-2805-4156-bcff-c855e8b0669b"
      },
      "source": [
        "tf = fft(df['Ángulo[Rad]'].values)\n",
        "T = 33E-3 #Paso del tiempo\n",
        "N = len(df['Tiempo[ms]'])\n",
        "xf = fft.fftfreq(N, T)[:N//2]\n",
        "\n",
        "plt.plot(xf[1:N//2], np.abs(tf[1:N//2]),\"o-\")\n",
        "plt.ylabel(\"TF\")\n",
        "plt.xlabel(\"Frecuencia\")\n",
        "plt.xlim(0, 2)\n",
        "\n",
        "plt.grid()"
      ],
      "execution_count": 9,
      "outputs": [
        {
          "output_type": "stream",
          "name": "stderr",
          "text": [
            "/usr/local/lib/python3.7/dist-packages/ipykernel_launcher.py:1: DeprecationWarning: Using scipy.fft as a function is deprecated and will be removed in SciPy 1.5.0, use scipy.fft.fft instead.\n",
            "  \"\"\"Entry point for launching an IPython kernel.\n"
          ]
        },
        {
          "output_type": "display_data",
          "data": {
            "image/png": "[encoded data removed]",
            "text/plain": [
              "<Figure size 432x288 with 1 Axes>"
            ]
          },
          "metadata": {
            "needs_background": "light"
          }
        }
      ]
    },
    {
      "cell_type": "code",
      "metadata": {
        "colab": {
          "base_uri": "https://localhost:8080/",
          "height": 282
        },
        "id": "Wzglbl6HeaqU",
        "outputId": "71ac791f-7480-4fcf-9942-e38d36fdeb52"
      },
      "source": [
        "cs = CubicSpline(xf[1:N//2], np.abs(tf[1:N//2]))\n",
        "\n",
        "plt.plot(xf[1:N//2], np.abs(tf[1:N//2]),\"r.\")\n",
        "plt.plot(abs(xf[1:N//2]), abs(cs(xf[1:N//2])),\"b\" ) \n",
        "plt.xlim(0.25, 1)"
      ],
      "execution_count": 10,
      "outputs": [
        {
          "output_type": "execute_result",
          "data": {
            "text/plain": [
              "(0.25, 1.0)"
            ]
          },
          "metadata": {},
          "execution_count": 10
        },
        {
          "output_type": "display_data",
          "data": {
            "image/png": "[encoded data removed]",
            "text/plain": [
              "<Figure size 432x288 with 1 Axes>"
            ]
          },
          "metadata": {
            "needs_background": "light"
          }
        }
      ]
    },
    {
      "cell_type": "code",
      "metadata": {
        "colab": {
          "base_uri": "https://localhost:8080/"
        },
        "id": "6uBbBDnvew9B",
        "outputId": "e54d8d0c-ccf2-4199-cc04-336f6916d040"
      },
      "source": [
        "cs = CubicSpline(xf[1:N//2], np.abs(tf[1:N//2]))\n",
        "min = optimize.fmin_powell(cs, 0.2)"
      ],
      "execution_count": 12,
      "outputs": [
        {
          "output_type": "stream",
          "name": "stdout",
          "text": [
            "Optimization terminated successfully.\n",
            "         Current function value: 0.842280\n",
            "         Iterations: 3\n",
            "         Function evaluations: 53\n"
          ]
        }
      ]
    },
    {
      "cell_type": "code",
      "metadata": {
        "colab": {
          "base_uri": "https://localhost:8080/"
        },
        "id": "JeV4mACpe4tb",
        "outputId": "d361a389-c658-42f0-d0f1-60097cb56960"
      },
      "source": [
        "abs(cs(min))"
      ],
      "execution_count": 13,
      "outputs": [
        {
          "output_type": "execute_result",
          "data": {
            "text/plain": [
              "0.8422796094441787"
            ]
          },
          "metadata": {},
          "execution_count": 13
        }
      ]
    },
    {
      "cell_type": "code",
      "metadata": {
        "colab": {
          "base_uri": "https://localhost:8080/"
        },
        "id": "yjjsBrGWe786",
        "outputId": "a147a982-ba72-4134-a424-7d1ec58d640b"
      },
      "source": [
        "min"
      ],
      "execution_count": 14,
      "outputs": [
        {
          "output_type": "execute_result",
          "data": {
            "text/plain": [
              "array(0.06480543)"
            ]
          },
          "metadata": {},
          "execution_count": 14
        }
      ]
    },
    {
      "cell_type": "code",
      "metadata": {
        "colab": {
          "base_uri": "https://localhost:8080/"
        },
        "id": "G43XMj6ve-5Y",
        "outputId": "549f4812-f0bb-45ff-fa63-218eaf3aa875"
      },
      "source": [
        "cs_n = CubicSpline(xf[1:N//2], -np.abs(tf[1:N//2]))\n",
        "max = min = optimize.fmin_powell(cs_n, 0.2)"
      ],
      "execution_count": 18,
      "outputs": [
        {
          "output_type": "stream",
          "name": "stdout",
          "text": [
            "Optimization terminated successfully.\n",
            "         Current function value: -417.867925\n",
            "         Iterations: 2\n",
            "         Function evaluations: 44\n"
          ]
        }
      ]
    },
    {
      "cell_type": "code",
      "metadata": {
        "colab": {
          "base_uri": "https://localhost:8080/"
        },
        "id": "7ndLgTzjZz6R",
        "outputId": "671d1971-e6cb-4158-d105-fa3968f95d62"
      },
      "source": [
        "abs(cs(max))"
      ],
      "execution_count": 19,
      "outputs": [
        {
          "output_type": "execute_result",
          "data": {
            "text/plain": [
              "417.8679246313184"
            ]
          },
          "metadata": {},
          "execution_count": 19
        }
      ]
    },
    {
      "cell_type": "code",
      "metadata": {
        "id": "dUjic5WK6eU1"
      },
      "source": [
        "deriv = np.vectorize( misc.derivative )"
      ],
      "execution_count": 20,
      "outputs": []
    },
    {
      "cell_type": "code",
      "metadata": {
        "colab": {
          "base_uri": "https://localhost:8080/"
        },
        "id": "njQ0K7IV6nqC",
        "outputId": "1d1d050d-3073-4dd2-fc79-6ba859b40731"
      },
      "source": [
        "der = deriv( cs_n, max, dx=0.000001 )\n",
        "float(der)"
      ],
      "execution_count": 26,
      "outputs": [
        {
          "output_type": "execute_result",
          "data": {
            "text/plain": [
              "-1.2278178473934531e-05"
            ]
          },
          "metadata": {},
          "execution_count": 26
        }
      ]
    }
  ]
}