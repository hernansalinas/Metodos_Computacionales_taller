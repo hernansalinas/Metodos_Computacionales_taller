{
  "nbformat": 4,
  "nbformat_minor": 0,
  "metadata": {
    "colab": {
      "name": "Taller_8.ipynb",
      "provenance": []
    },
    "kernelspec": {
      "name": "python3",
      "display_name": "Python 3"
    },
    "language_info": {
      "name": "python"
    }
  },
  "cells": [
    {
      "cell_type": "markdown",
      "metadata": {
        "id": "z2BC6C8-H-tF"
      },
      "source": [
        "1. The next  problems are examples of how elliptic integrals enter into realistic physics problems. It is straightforward to evaluate any integral numerically using the techniques of this chapter, but it may be difficult for you to  know if the answers you obtain are correct. One way to hone your integral\u0002evaluating skills is to compare your answers from quadrature to power series\n",
        "expressions, or to a polynomial approximations of know precision. To help you in this regard, we present here a polynomial approximation for an elliptic integral (Abramowitz and Stegun, 1972):\n",
        "\n",
        "\\begin{equation}\n",
        "K(m)=\\int_{0}^{\\pi/2} \\frac{\\mathrm{d\\phi}}{\\sqrt{1-m\\sin^2\\phi}}\n",
        "\\end{equation}\n",
        "\n",
        "\\begin{equation}\n",
        "\\approx a_0+a_1m_1+a_2m_2 - [ b_0+b_1m_1+b_2m_1^2]\\ln m_1 + \\epsilon(m) \n",
        "\\end{equation}\n",
        "\n",
        "\n",
        "\n",
        "$m_1 = 1-m$, \n",
        "\n",
        "$ 0 \\le m \\le1 $\n",
        "\n",
        "$\\epsilon(m)\\leq 3\\times 10^{-5}$\n",
        "\n",
        "\n",
        "\n",
        "$a_0 = 1.3862944$\n",
        "\n",
        "$b_0 = 0.5$\n",
        "\n",
        "$a_1 = 0.1119723$\n",
        "\n",
        "$b_1 = 0.1213478$\n",
        "\n",
        "$a_2 = 0.00725296$\n",
        "\n",
        "$b_2 = 0.0288729$\n"
      ]
    },
    {
      "cell_type": "markdown",
      "metadata": {
        "id": "G6HsBn7_HZol"
      },
      "source": [
        " Figure 5.7 shows a current loop of radius a carrying a current I. The point P\n",
        "is a distance r from the center of the loop with spherical coordinates (r, θ, φ).\n",
        "Jackson (1988) solves for the φ component of the vector potential at point P\n",
        "in terms of elliptic integrals:\n",
        "\n",
        "\\begin{equation}\n",
        "A_{\\phi}(r, \\theta)=\\frac{\\mu_0}{4\\pi}\\frac{4Ia}{\\sqrt{a^2+r^2+2ar\\sin \\theta}}\\left(\\frac{(2-k^2)K(k)-2E(k)}{k^2} \\right)\n",
        "\\end{equation}\n",
        "\n",
        "\n",
        "where \n",
        "\n",
        "\\begin{equation}\n",
        "K(k)=\\int_{0}^{\\pi/2} \\frac{\\mathrm{d\\phi}}{\\sqrt{1-k^2\\sin^2\\phi}}\n",
        "\\end{equation}\n",
        "\n",
        "\n",
        "\\begin{equation}\n",
        "E(k)=\\int_{0}^{\\pi/2} \\mathrm{d\\phi} \\sqrt{1-k^2\\sin^2\\phi}\n",
        "\\end{equation}\n",
        "\n",
        "\n",
        "\\begin{equation}\n",
        "k^2=\\frac{4ar\\sin\\theta}{a^2+r^2+2ar\\sin\\theta}\n",
        "\\end{equation}\n",
        "\n",
        "\n",
        "\n",
        "Here K(k) is a complete elliptic integral of the first kind and E(k) is a complete\n",
        "elliptic integral of the second kind. For a = 1, I = 3, and μ0∕4π = 1, compute\n",
        "and plot\n",
        "\n",
        "$\n",
        "a) Aφ(r = 1.1, θ) vs. θ. \\\\\n",
        "b) Aφ(r, θ = π∕3) vs. r\n",
        "$\n",
        "\n",
        "#Resolver el punto b"
      ]
    },
    {
      "cell_type": "markdown",
      "metadata": {
        "id": "xMjd_PSCL3eq"
      },
      "source": [
        "Solución\n",
        "\n",
        "1. Identificar parametros iniciales \n",
        "2. Calcular k^2, Grafica. \n",
        "3. Evaluar las integrales\n",
        "4. Evaluar la funcion\n",
        "\n",
        "```\n",
        "def A (r, theta, phi, a, I ):\n",
        "  T1=Calculo \n",
        "  \n",
        "  I1 = trap(K)\n",
        "  T2 = Calulo \n",
        "  I2 = trap(E)\n",
        "  T3 = Calulo\n",
        "\n",
        "  return T1*T2*T3\n",
        "\n",
        "\n",
        "theta = np.linspace()\n",
        "Potencial=np.zeros(len(theta))\n",
        "\n",
        "for i, t in enumerate(theta):\n",
        "  Potencial[i] = A (r, theta, phi, a, I )\n",
        "\n",
        "\n",
        "```\n",
        "\n",
        "\n"
      ]
    },
    {
      "cell_type": "code",
      "metadata": {
        "id": "arU3zBKsN7WH"
      },
      "source": [
        "import numpy as np\n",
        "import matplotlib.pylab as plt\n",
        "import sympy as sp\n",
        "#from sympy import init_printing\n",
        "from scipy import integrate\n",
        "from scipy import  optimize"
      ],
      "execution_count": null,
      "outputs": []
    },
    {
      "cell_type": "markdown",
      "metadata": {
        "id": "EmU7PLinNna_"
      },
      "source": [
        "\n",
        "# Funcion para k^2\n",
        "\n",
        "\\begin{equation}\n",
        "k^2=\\frac{4ar\\sin\\theta}{a^2+r^2+2ar\\sin\\theta}\n",
        "\\end{equation}\n",
        "\n",
        "para $theta=\\pi/2$\\\n",
        "para $a = 1$ \\\n",
        "\n",
        "*   Elemento de la lista\n",
        "*   Elemento de la lista\n",
        "\n",
        "\n",
        "\n",
        "\n",
        "---\n",
        "\n",
        "\n",
        "\n",
        "$k^2 = \\frac{4*1.1}{1+1.1^2+2*1.1}$\n",
        "\n"
      ]
    },
    {
      "cell_type": "code",
      "metadata": {
        "id": "nd4sxDgSHaEU"
      },
      "source": [
        "def k_square(r, theta, a):  # funcion k**2\n",
        "  num = 4*a*r*np.sin(theta) \n",
        "  den = a**2+r**2+2*a*r*np.sin(theta) \n",
        "  return num/den\n",
        "\n",
        "theta = np.linspace(0, np.pi/2, 100) #valores de theta entre 0 y pi/2"
      ],
      "execution_count": null,
      "outputs": []
    },
    {
      "cell_type": "code",
      "metadata": {
        "colab": {
          "base_uri": "https://localhost:8080/",
          "height": 281
        },
        "id": "oo4kym3WNypg",
        "outputId": "be9148d5-8c9d-4e45-b2ad-0f4f85bb922a"
      },
      "source": [
        "plt.plot(theta, k_square(1.1,theta, 1))\n",
        "plt.xlabel(\"$\\\\theta$\")\n",
        "plt.ylabel(\"$k^2(r, \\\\theta)$\")\n",
        "plt.grid()"
      ],
      "execution_count": null,
      "outputs": [
        {
          "output_type": "display_data",
          "data": {
            "image/png": "[encoded data removed]",
            "text/plain": [
              "<Figure size 432x288 with 1 Axes>"
            ]
          },
          "metadata": {
            "needs_background": "light"
          }
        }
      ]
    },
    {
      "cell_type": "markdown",
      "metadata": {
        "id": "UI1d_fd1P3P5"
      },
      "source": [
        "\\begin{equation}\n",
        "K(k)=\\int_{0}^{\\pi/2} \\frac{\\mathrm{d\\phi}}{\\sqrt{1-k^2\\sin^2\\phi}}\n",
        "\\end{equation}\n",
        "\n"
      ]
    },
    {
      "cell_type": "code",
      "metadata": {
        "id": "ItpXs3xbN47b"
      },
      "source": [
        "K_ = lambda k, phi: 1./np.sqrt( 1 - (k * np.sin(phi)) **2 )"
      ],
      "execution_count": null,
      "outputs": []
    },
    {
      "cell_type": "code",
      "metadata": {
        "colab": {
          "base_uri": "https://localhost:8080/",
          "height": 282
        },
        "id": "tyjICQyxOES2",
        "outputId": "b000ce38-98cd-46c5-e6f2-aece2aa2b5b5"
      },
      "source": [
        "# Validacion de las funciones a integrar\n",
        "\n",
        "phi = np.linspace(0, np.pi/2, 100 )\n",
        "\n",
        "theta = np.pi/3\n",
        "k2 = k_square(1.1,theta , 1)\n",
        "plt.plot(phi, K_( np.sqrt(k2) , phi ), label=f\"theta={theta}\")\n",
        "\n",
        "theta = np.pi/4\n",
        "k2 = k_square(1.1,theta , 1)\n",
        "plt.plot(phi, K_( np.sqrt(k2) , phi ), label=f\"theta={theta}\")\n",
        "plt.legend()"
      ],
      "execution_count": null,
      "outputs": [
        {
          "output_type": "execute_result",
          "data": {
            "text/plain": [
              "<matplotlib.legend.Legend at 0x7fca60f59090>"
            ]
          },
          "metadata": {},
          "execution_count": 5
        },
        {
          "output_type": "display_data",
          "data": {
            "image/png": "[encoded data removed]",
            "text/plain": [
              "<Figure size 432x288 with 1 Axes>"
            ]
          },
          "metadata": {
            "needs_background": "light"
          }
        }
      ]
    },
    {
      "cell_type": "code",
      "metadata": {
        "colab": {
          "base_uri": "https://localhost:8080/"
        },
        "id": "9UPd-TG0WdZx",
        "outputId": "b88efc20-3387-4a2f-f5f9-b22181dfe921"
      },
      "source": [
        "# Solucion de la Integral K(k) empleando el metodo de trapecio\n",
        "# para un valor theta, r, a \n",
        "\n",
        "phi = np.linspace(0, np.pi/2, 100 )\n",
        "theta = np.pi/3\n",
        "r = 1.1\n",
        "a = 1\n",
        "k2 = k_square(r, theta , a)\n",
        "y = K_( np.sqrt(k2), phi )\n",
        "integrate.trapz(y, phi )"
      ],
      "execution_count": null,
      "outputs": [
        {
          "output_type": "execute_result",
          "data": {
            "text/plain": [
              "2.720266476771735"
            ]
          },
          "metadata": {},
          "execution_count": 6
        }
      ]
    },
    {
      "cell_type": "markdown",
      "metadata": {
        "id": "6mtqp8MxRz_b"
      },
      "source": [
        "\n",
        "\\begin{equation}\n",
        "E(k)=\\int_{0}^{\\pi/2} \\mathrm{d\\phi} \\sqrt{1-k^2\\sin^2\\phi}\n",
        "\\end{equation}\n"
      ]
    },
    {
      "cell_type": "code",
      "metadata": {
        "id": "3lVVLu15QX9n"
      },
      "source": [
        "E_ = lambda k, phi: np.sqrt( 1 - (k * np.sin(phi)) **2 )"
      ],
      "execution_count": null,
      "outputs": []
    },
    {
      "cell_type": "code",
      "metadata": {
        "colab": {
          "base_uri": "https://localhost:8080/",
          "height": 282
        },
        "id": "P8coUgCVR3k3",
        "outputId": "36cdfa3e-3374-4aeb-9c88-ec7ec6eda967"
      },
      "source": [
        "# Validacion de las funciones a integrar\n",
        "phi = np.linspace(0,np.pi/2, 100  )\n",
        "theta = np.pi/3\n",
        "\n",
        "\n",
        "plt.figure()\n",
        "k2 = k_square(1.1,theta , 1)\n",
        "plt.plot(phi, E_( np.sqrt(k2) , phi ), label=f\"theta={theta}\")\n",
        "\n",
        "theta = np.pi/4\n",
        "k2 = k_square(1.1,theta , 1)\n",
        "plt.plot(phi, E_( np.sqrt(k2) , phi ), label=f\"theta={theta}\")\n",
        "plt.legend()"
      ],
      "execution_count": null,
      "outputs": [
        {
          "output_type": "execute_result",
          "data": {
            "text/plain": [
              "<matplotlib.legend.Legend at 0x7fca60efce50>"
            ]
          },
          "metadata": {},
          "execution_count": 8
        },
        {
          "output_type": "display_data",
          "data": {
            "image/png": "[encoded data removed]",
            "text/plain": [
              "<Figure size 432x288 with 1 Axes>"
            ]
          },
          "metadata": {
            "needs_background": "light"
          }
        }
      ]
    },
    {
      "cell_type": "code",
      "metadata": {
        "colab": {
          "base_uri": "https://localhost:8080/"
        },
        "id": "aZjZcnweXb42",
        "outputId": "dced826d-4374-4937-ad98-19c5bdb361af"
      },
      "source": [
        "# Solucion de la Integral E(k) empleando el metodo de trapecio\n",
        "# para un valor theta, r, a \n",
        "\n",
        "phi = np.linspace(0, np.pi/2, 100 )\n",
        "theta = np.pi/3\n",
        "r = 1.1\n",
        "a = 1\n",
        "k2 = k_square(r, theta , a)\n",
        "y = E_( np.sqrt(k2) , phi )\n",
        "integrate.trapz(y, phi )"
      ],
      "execution_count": null,
      "outputs": [
        {
          "output_type": "execute_result",
          "data": {
            "text/plain": [
              "1.0827297068809603"
            ]
          },
          "metadata": {},
          "execution_count": 9
        }
      ]
    },
    {
      "cell_type": "markdown",
      "metadata": {
        "id": "h7gHYBPxXrtT"
      },
      "source": [
        "\n",
        "\\begin{equation}\n",
        "A_{\\phi}(r, \\theta)=\\frac{\\mu_0}{4\\pi}\\frac{4Ia}{\\sqrt{a^2+r^2+2ar\\sin \\theta}}\\left(\\frac{(2-k^2)K(k)-2E(k)}{k^2} \\right)\n",
        "\\end{equation}\n"
      ]
    },
    {
      "cell_type": "code",
      "metadata": {
        "id": "KZFmxDn3Vtx2"
      },
      "source": [
        "# Calculo del potencial\n",
        "\n",
        "E_ = lambda k, phi: np.sqrt( 1 - (k * np.sin(phi)) **2 )\n",
        "K_ = lambda k, phi: 1./np.sqrt( 1 - (k * np.sin(phi)) **2 )\n",
        "\n",
        "def k_square(r, theta, a):  \n",
        "  num = 4*a*r*np.sin(theta)\n",
        "  den = a**2+r**2+2*a*r*np.sin(theta) \n",
        "  return num/den\n",
        "\n",
        "\n",
        "\n",
        "def Apotencial(r, theta, phi, a, I, cte = 1 ):\n",
        "  \n",
        "  T11 = cte*4*I*a\n",
        "  T12 = np.sqrt( a**2 + r**2 + 2*a*r*np.sin(theta))\n",
        "  T1 = T11/T12\n",
        "\n",
        "  k2 = k_square(r, theta, a)\n",
        "  T21 = (2 - k2)\n",
        "  T22 = integrate.trapz(  K_(np.sqrt(k2), phi), phi) # es k2 y no k, puesto que k ni esta definido \n",
        "  T2 = T21*T22\n",
        "\n",
        "  T3 =  integrate.trapz(  E_(np.sqrt(k2), phi), phi) # es k2 y no k, puesto que k ni esta definido \n",
        "  A = T1*(T2 - 2*T3)/k2\n",
        "\n",
        "  return A"
      ],
      "execution_count": null,
      "outputs": []
    },
    {
      "cell_type": "code",
      "metadata": {
        "colab": {
          "base_uri": "https://localhost:8080/"
        },
        "id": "yiIO8lZ8ZloR",
        "outputId": "6e19b499-f7ab-43f0-ad39-ed028b2290f1"
      },
      "source": [
        "# Parametros \n",
        "theta = np.pi/3\n",
        "r = 1.1\n",
        "a = 1.0\n",
        "I = 3.0\n",
        "phi = np.linspace(0, np.pi/2, 100)\n",
        "\n",
        "A = Apotencial(r, theta, phi, a, I, cte = 1 )\n",
        "print(A)"
      ],
      "execution_count": null,
      "outputs": [
        {
          "output_type": "stream",
          "name": "stdout",
          "text": [
            "4.831268608470725\n"
          ]
        }
      ]
    },
    {
      "cell_type": "code",
      "metadata": {
        "id": "ZWRT2XeNZ4vw"
      },
      "source": [
        "r = 1.1 # Punto donde calcular el potencial \n",
        "a = 1.0 # RAdio de la espira, unidades computacionales\n",
        "I = 3.0 #Corriente que circula por la espira, unidades computacionales\n",
        "N = 100 # Numero o resolución en theta y phi\n",
        "\n",
        "\n",
        "theta = np.linspace(0.01, np.pi/2, N)\n",
        "phi = np.linspace(0, np.pi/2, N)\n",
        "\n",
        "Ap = np.zeros(len(theta))\n",
        "\n",
        "for i, t in enumerate(theta):\n",
        "    Ap[i] = Apotencial(r, t, phi, a, I, cte = 1 )"
      ],
      "execution_count": null,
      "outputs": []
    },
    {
      "cell_type": "code",
      "metadata": {
        "colab": {
          "base_uri": "https://localhost:8080/",
          "height": 304
        },
        "id": "LLZgdfKnbVI-",
        "outputId": "e825df68-da87-4879-cc25-de9bf434439c"
      },
      "source": [
        "plt.plot(theta, Ap)\n",
        "plt.xlabel(\"$\\\\theta$\", size = 12)\n",
        "plt.ylabel(\"$A(r=1.1, \\\\theta)$\", size = 12)\n",
        "plt.title(\"$Aφ(r = 1.1, θ) \\ vs \\ θ$\", size = 20)\n",
        "plt.grid()"
      ],
      "execution_count": null,
      "outputs": [
        {
          "output_type": "display_data",
          "data": {
            "image/png": "[encoded data removed]",
            "text/plain": [
              "<Figure size 432x288 with 1 Axes>"
            ]
          },
          "metadata": {
            "needs_background": "light"
          }
        }
      ]
    },
    {
      "cell_type": "markdown",
      "metadata": {
        "id": "2xsHhmQh2dwx"
      },
      "source": [
        "$b) Aφ(r, θ = π∕3) vs. r$"
      ]
    },
    {
      "cell_type": "code",
      "metadata": {
        "id": "5xmMQOD61qKQ"
      },
      "source": [
        "theta = np.pi/3 # Punto donde calcular el potencial \n",
        "a = 1.0 # RAdio de la espira, unidades computacionales\n",
        "I = 3.0 #Corriente que circula por la espira, unidades computacionales\n",
        "N = 100 # Numero o resolución en theta y phi\n",
        "\n",
        "\n",
        "r = np.linspace(0.1, 1.1, N)\n",
        "phi = np.linspace(0, np.pi/2, N)\n",
        "\n",
        "B = np.zeros(len(r))\n",
        "\n",
        "for i, p in enumerate(r):\n",
        "    B[i] = Apotencial(p, theta, phi, a, I, cte = 1 ) "
      ],
      "execution_count": null,
      "outputs": []
    },
    {
      "cell_type": "code",
      "metadata": {
        "colab": {
          "base_uri": "https://localhost:8080/",
          "height": 304
        },
        "id": "WWa6DSqD9EXU",
        "outputId": "00eb949d-7385-435c-8917-ec7439557026"
      },
      "source": [
        "plt.plot(r, B)\n",
        "plt.xlabel(\"$r$\", size = 12)\n",
        "plt.ylabel(\"$Aφ(r, θ = π∕3)$\", size = 15)\n",
        "plt.title(\"$Aφ(r, θ = π∕3) \\ vs \\ r $\", size = 20)\n",
        "plt.grid()"
      ],
      "execution_count": null,
      "outputs": [
        {
          "output_type": "display_data",
          "data": {
            "image/png": "[encoded data removed]",
            "text/plain": [
              "<Figure size 432x288 with 1 Axes>"
            ]
          },
          "metadata": {
            "needs_background": "light"
          }
        }
      ]
    },
    {
      "cell_type": "markdown",
      "metadata": {
        "id": "rs1GD9i6JvoP"
      },
      "source": [
        "1. The next  problems are examples of how elliptic integrals enter into realistic physics problems. It is straightforward to evaluate any integral numerically using the techniques of this chapter, but it may be difficult for you to  know if the answers you obtain are correct. One way to hone your integral\u0002evaluating skills is to compare your answers from quadrature to power series\n",
        "expressions, or to a polynomial approximations of know precision. To help you in this regard, we present here a polynomial approximation for an elliptic integral (Abramowitz and Stegun, 1972):\n",
        "\n",
        "\\begin{equation}\n",
        "K(m)=\\int_{0}^{\\pi/2} \\frac{\\mathrm{d\\phi}}{\\sqrt{1-m\\sin^2\\phi}}\n",
        "\\end{equation}\n",
        "\n",
        "\\begin{equation}\n",
        "\\approx a_0+a_1m_1+a_2m_2 - [ b_0+b_1m_1+b_2m_1^2]\\ln m_1 + \\epsilon(m) \n",
        "\\end{equation}\n",
        "\n",
        "\n",
        "\n",
        "$m_1 = 1-m$, \n",
        "\n",
        "$ 0 \\le m \\le1 $\n",
        "\n",
        "$\\epsilon(m)\\leq 3\\times 10^{-5}$\n",
        "\n",
        "\n",
        "\n",
        "$a_0 = 1.3862944$\n",
        "\n",
        "$b_0 = 0.5$\n",
        "\n",
        "$a_1 = 0.1119723$\n",
        "\n",
        "$b_1 = 0.1213478$\n",
        "\n",
        "$a_2 = 0.00725296$\n",
        "\n",
        "$b_2 = 0.0288729$\n"
      ]
    },
    {
      "cell_type": "code",
      "metadata": {
        "colab": {
          "base_uri": "https://localhost:8080/",
          "height": 65
        },
        "id": "X4M-YVwzUfAv",
        "outputId": "3eb37b96-afc4-4fe9-e927-9b095306468b"
      },
      "source": [
        "def f(m, phi):\n",
        "  return 1/(sp.sqrt( 1 - m * (sp.sin(phi)**2 )))\n",
        "\n",
        "a, b = 0, np.pi/2\n",
        "\n",
        "m = sp.Symbol(\"m\")\n",
        "phi = sp.Symbol(\"phi\")\n",
        "#Derivadas de la funcion \n",
        "sp.diff(f(m, phi), phi, 1) #Primera derivada"
      ],
      "execution_count": null,
      "outputs": [
        {
          "output_type": "execute_result",
          "data": {
            "text/latex": "$\\displaystyle \\frac{m \\sin{\\left(\\phi \\right)} \\cos{\\left(\\phi \\right)}}{\\left(- m \\sin^{2}{\\left(\\phi \\right)} + 1\\right)^{\\frac{3}{2}}}$",
            "text/plain": [
              "m*sin(phi)*cos(phi)/(-m*sin(phi)**2 + 1)**(3/2)"
            ]
          },
          "metadata": {},
          "execution_count": 16
        }
      ]
    },
    {
      "cell_type": "code",
      "metadata": {
        "colab": {
          "base_uri": "https://localhost:8080/",
          "height": 78
        },
        "id": "C-fqI5RYUJht",
        "outputId": "a19e49b1-4070-41c3-f3b9-c63baf4347dc"
      },
      "source": [
        "f2 = sp.diff(f(m, phi), phi, 2) #segunda derivada\n",
        "f2"
      ],
      "execution_count": null,
      "outputs": [
        {
          "output_type": "execute_result",
          "data": {
            "text/latex": "$\\displaystyle \\frac{m \\left(\\frac{3 m \\sin^{2}{\\left(\\phi \\right)} \\cos^{2}{\\left(\\phi \\right)}}{- m \\sin^{2}{\\left(\\phi \\right)} + 1} - \\sin^{2}{\\left(\\phi \\right)} + \\cos^{2}{\\left(\\phi \\right)}\\right)}{\\left(- m \\sin^{2}{\\left(\\phi \\right)} + 1\\right)^{\\frac{3}{2}}}$",
            "text/plain": [
              "m*(3*m*sin(phi)**2*cos(phi)**2/(-m*sin(phi)**2 + 1) - sin(phi)**2 + cos(phi)**2)/(-m*sin(phi)**2 + 1)**(3/2)"
            ]
          },
          "metadata": {},
          "execution_count": 17
        }
      ]
    },
    {
      "cell_type": "code",
      "metadata": {
        "id": "Bs4AMdysZvG9"
      },
      "source": [
        "lista = [m, phi]\n",
        "fxn2 = sp.lambdify(lista, -f2, 'numpy')"
      ],
      "execution_count": null,
      "outputs": []
    },
    {
      "cell_type": "code",
      "metadata": {
        "colab": {
          "base_uri": "https://localhost:8080/",
          "height": 442
        },
        "id": "4o-PlB0naCCK",
        "outputId": "b0788744-92c0-46ff-84bb-65772a177aee"
      },
      "source": [
        "phi_ = np.linspace(0, np.pi/2)\n",
        "m = 0.5\n",
        "\n",
        "print(fxn2(m, phi_))\n",
        "\n",
        "plt.figure()\n",
        "plt.plot(phi_, fxn2(m, phi_))\n",
        "plt.xlabel(\"phi\")\n",
        "plt.ylabel(\"f''(phi)\")\n",
        "plt.grid()\n",
        "plt.show()"
      ],
      "execution_count": null,
      "outputs": [
        {
          "output_type": "stream",
          "name": "stdout",
          "text": [
            "[-0.5        -0.50012807 -0.50050756 -0.5011243  -0.50195433 -0.50296352\n",
            " -0.50410691 -0.50532791 -0.50655735 -0.50771229 -0.50869467 -0.50938981\n",
            " -0.5096647  -0.50936622 -0.50831919 -0.50632432 -0.50315628 -0.49856172\n",
            " -0.49225749 -0.48392932 -0.47323081 -0.45978339 -0.44317712 -0.42297299\n",
            " -0.39870689 -0.36989582 -0.33604677 -0.29666868 -0.25128816 -0.19946909\n",
            " -0.1408366  -0.07510532 -0.00211156  0.07815114  0.16549467  0.25949894\n",
            "  0.35947728  0.46444777  0.57311461  0.68386343  0.79477472  0.9036586\n",
            "  1.00811295  1.10560498  1.1935737   1.26954843  1.33127537  1.37684269\n",
            "  1.4047931   1.41421356]\n"
          ]
        },
        {
          "output_type": "display_data",
          "data": {
            "image/png": "[encoded data removed]",
            "text/plain": [
              "<Figure size 432x288 with 1 Axes>"
            ]
          },
          "metadata": {
            "needs_background": "light"
          }
        }
      ]
    },
    {
      "cell_type": "code",
      "metadata": {
        "colab": {
          "base_uri": "https://localhost:8080/"
        },
        "id": "olBWixkYcQSl",
        "outputId": "3e12bae4-b383-4445-b5d0-479d99f28253"
      },
      "source": [
        "max = np.max((fxn2(m, phi_))) # punto maximo en la segunda derivada\n",
        "max"
      ],
      "execution_count": null,
      "outputs": [
        {
          "output_type": "execute_result",
          "data": {
            "text/plain": [
              "1.414213562373095"
            ]
          },
          "metadata": {},
          "execution_count": 20
        }
      ]
    },
    {
      "cell_type": "code",
      "metadata": {
        "colab": {
          "base_uri": "https://localhost:8080/"
        },
        "id": "MLT9bzXscmzK",
        "outputId": "b267ca1d-7d95-4ebb-936d-e520ee4db28e"
      },
      "source": [
        "#<> parametros \n",
        "m = 0.5 # arbitrario \n",
        "epsilon_m = 3*10**(-5) # un error de 0.00003\n",
        "b = np.pi/2\n",
        "a = 0\n",
        "\n",
        "phi = np.linspace(0, np.pi, 100)\n",
        "def h(a, b, epsilon_m, max ):\n",
        "  return np.sqrt((12*epsilon_m)/((b-a)*max))\n",
        "\n",
        "h = h(a, b, epsilon_m, max)\n",
        "h"
      ],
      "execution_count": null,
      "outputs": [
        {
          "output_type": "execute_result",
          "data": {
            "text/plain": [
              "0.012730158557860902"
            ]
          },
          "metadata": {},
          "execution_count": 21
        }
      ]
    },
    {
      "cell_type": "code",
      "metadata": {
        "colab": {
          "base_uri": "https://localhost:8080/"
        },
        "id": "94GZpsT2wLYk",
        "outputId": "a6450230-2032-4f21-b0ac-08120c1b7558"
      },
      "source": [
        "print(f\"El numero de particiones deben ser {(b-a)/h}\")"
      ],
      "execution_count": null,
      "outputs": [
        {
          "output_type": "stream",
          "name": "stdout",
          "text": [
            "El numero de particiones deben ser 123.39173307664156\n"
          ]
        }
      ]
    },
    {
      "cell_type": "code",
      "metadata": {
        "colab": {
          "base_uri": "https://localhost:8080/"
        },
        "id": "Kau0u9FZxIVt",
        "outputId": "046360ec-2240-4c27-e0eb-b82d8b748231"
      },
      "source": [
        "def f(m, phi): # reescribimos aca la funcion puesto que , la funcion de arriba esta escrita con sympy, y no deja meter los array de numpy, por lo tanto\n",
        "  return 1/(np.sqrt( 1 - m * (np.sin(phi)**2 ))) # la reescribi, en vez de sp, va np\n",
        "\n",
        "N = 123\n",
        "h = float((b - a)/N)\n",
        "m = 0.5\n",
        "\n",
        "x = np.linspace(a, b, N+1) #Definición de los puntos extremos\n",
        "\n",
        "x_interior = x[1:-1]  #Puntos del interior\n",
        "\n",
        "T1 =  (f(m, a))\n",
        "T3 =  (f(m, b))\n",
        "T2 =  sum(f(m, x_interior[:]))\n",
        "\n",
        "trap_f = T1 + 2*T2 + T3\n",
        "trap_f = 0.5*h*trap_f\n",
        "\n",
        "error = (((b-a)*(h)**2)/12)*max\n",
        "print(f\"El valor de la integral es: {trap_f} con un error de +/- {error}\")"
      ],
      "execution_count": null,
      "outputs": [
        {
          "output_type": "stream",
          "name": "stdout",
          "text": [
            "El valor de la integral es: 1.8540746773013717 con un error de +/- 3.019139359836835e-05\n"
          ]
        }
      ]
    },
    {
      "cell_type": "code",
      "metadata": {
        "colab": {
          "base_uri": "https://localhost:8080/"
        },
        "id": "ayO-n7kV2__7",
        "outputId": "1e35c007-fdfa-4fe1-ac12-63bd9338e4b2"
      },
      "source": [
        "m_1 = 1-m\n",
        "epsilon_m = 3*10**(-5)\n",
        "a_0 = 1.3862944\n",
        "b_0 = 0.5\n",
        "a_1 = 0.1119723\n",
        "b_1 = 0.1213478\n",
        "a_2 = 0.00725296\n",
        "b_2 = 0.0288729\n",
        "\n",
        "valor_aprox = a_0 + a_1* m_1 + a_2*m_1 - (b_0 + b_1 * m_1 + b_2*m_1**2)*np.log(m_1) + epsilon_m\n",
        "valor_aprox"
      ],
      "execution_count": null,
      "outputs": [
        {
          "output_type": "execute_result",
          "data": {
            "text/plain": [
              "1.839569855305946"
            ]
          },
          "metadata": {},
          "execution_count": 24
        }
      ]
    },
    {
      "cell_type": "code",
      "metadata": {
        "colab": {
          "base_uri": "https://localhost:8080/"
        },
        "id": "ijYs2hDL8FPt",
        "outputId": "5bdc6dc9-5ed2-40cc-e7b7-876f147de944"
      },
      "source": [
        "print(f\"El valor de la integral es: {trap_f} con un error de +/- {error}\")\n",
        "print(\"\\n\")\n",
        "print(f\"El valor de la integral por la aproximacion es: {valor_aprox}\")"
      ],
      "execution_count": null,
      "outputs": [
        {
          "output_type": "stream",
          "name": "stdout",
          "text": [
            "El valor de la integral es: 1.8540746773013717 con un error de +/- 3.019139359836835e-05\n",
            "\n",
            "\n",
            "El valor de la integral por la aproximacion es: 1.839569855305946\n"
          ]
        }
      ]
    }
  ]
}