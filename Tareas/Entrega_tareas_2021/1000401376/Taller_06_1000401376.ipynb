{
  "nbformat": 4,
  "nbformat_minor": 0,
  "metadata": {
    "colab": {
      "name": "Taller_06_1000401376.ipynb",
      "provenance": []
    },
    "kernelspec": {
      "name": "python3",
      "display_name": "Python 3"
    },
    "language_info": {
      "name": "python"
    }
  },
  "cells": [
    {
      "cell_type": "code",
      "metadata": {
        "colab": {
          "base_uri": "https://localhost:8080/"
        },
        "id": "RtVFvz01TTXe",
        "outputId": "801e3f4f-3743-4634-e1de-8b81293cfc1a"
      },
      "source": [
        "import numpy as np\n",
        "import pandas as pd\n",
        "import matplotlib.pyplot as plt\n",
        "import scipy\n",
        "from scipy import misc, fft, interpolate, optimize\n",
        "from scipy.interpolate import CubicSpline\n",
        "from sympy import init_printing\n",
        "init_printing"
      ],
      "execution_count": 59,
      "outputs": [
        {
          "output_type": "execute_result",
          "data": {
            "text/plain": [
              "<function sympy.interactive.printing.init_printing>"
            ]
          },
          "metadata": {},
          "execution_count": 59
        }
      ]
    },
    {
      "cell_type": "code",
      "metadata": {
        "colab": {
          "base_uri": "https://localhost:8080/",
          "height": 124
        },
        "id": "VAnrRM9UCJT7",
        "outputId": "913fa019-1193-4fe5-fc2d-13a2087e5c75"
      },
      "source": [
        "\"\"\"\n",
        "Tarea Derivada\n",
        "Los siguientes datos, son datos experimentales de un péndulo simple tomadas a través de una cámara web y procesados con el programa kinovea. Dados los datos en formato csv, se pide construir un programa que realice lo siguiente:\n",
        "\n",
        "Leer el archivo csv a través de un Data Frame de Pandas, las columnas del data frame deberan ser:\n",
        "col=[\"Tiempo[ms]\", \"AnguloDeg\", \"AnguloRad\"]\n",
        "\n",
        "Construya una grafica de : plt.plot(df['Tiempo[ms]'], df['AnguloDeg'],\"b-\")\n",
        "¿Qué puede concluir respecto al movimiento del pendulo?\n",
        "\n",
        "Calculo la transformada de fourier de los datos obtenidos, para encontrar la frecuencia de oscilacion del sistema, para ello realice lo siguiente:\n",
        "importe la librerias de scipy fft, fftfreq.\n",
        "Aplique la transformada de fourier como sigue:\n",
        "tf = fft(df['AnguloRad'].values)\n",
        "T = 33E-3 #Paso del tiempo\n",
        "N = len(df['Tiempo[ms]'])\n",
        "xf = fftfreq(N, T)[:N//2]\n",
        "\n",
        "plt.plot(xf[1:N//2], np.abs(tf[1:N//2]),\"o-\")\n",
        "plt.ylabel(\"TF\")\n",
        "plt.xlabel(\"Frecuencia\")\n",
        "plt.xlim(0, 2)\n",
        "Para las valores en el eje x y eje y de la anterior gráfica, realice una interpolación.\n",
        "\n",
        "Encuentra el valor máximo empleando metodos de diferenciación.\n",
        "\"\"\""
      ],
      "execution_count": 60,
      "outputs": [
        {
          "output_type": "execute_result",
          "data": {
            "application/vnd.google.colaboratory.intrinsic+json": {
              "type": "string"
            },
            "text/plain": [
              "'\\nTarea Derivada\\nLos siguientes datos, son datos experimentales de un péndulo simple tomadas a través de una cámara web y procesados con el programa kinovea. Dados los datos en formato csv, se pide construir un programa que realice lo siguiente:\\n\\nLeer el archivo csv a través de un Data Frame de Pandas, las columnas del data frame deberan ser:\\ncol=[\"Tiempo[ms]\", \"AnguloDeg\", \"AnguloRad\"]\\n\\nConstruya una grafica de : plt.plot(df[\\'Tiempo[ms]\\'], df[\\'AnguloDeg\\'],\"b-\")\\n¿Qué puede concluir respecto al movimiento del pendulo?\\n\\nCalculo la transformada de fourier de los datos obtenidos, para encontrar la frecuencia de oscilacion del sistema, para ello realice lo siguiente:\\nimporte la librerias de scipy fft, fftfreq.\\nAplique la transformada de fourier como sigue:\\ntf = fft(df[\\'AnguloRad\\'].values)\\nT = 33E-3 #Paso del tiempo\\nN = len(df[\\'Tiempo[ms]\\'])\\nxf = fftfreq(N, T)[:N//2]\\n\\nplt.plot(xf[1:N//2], np.abs(tf[1:N//2]),\"o-\")\\nplt.ylabel(\"TF\")\\nplt.xlabel(\"Frecuencia\")\\nplt.xlim(0, 2)\\nPara las valores en el eje x y eje y de la anterior gráfica, realice una interpolación.\\n\\nEncuentra el valor máximo empleando metodos de diferenciación.\\n'"
            ]
          },
          "metadata": {},
          "execution_count": 60
        }
      ]
    },
    {
      "cell_type": "code",
      "metadata": {
        "colab": {
          "base_uri": "https://localhost:8080/",
          "height": 414
        },
        "id": "QeKrteV9UehT",
        "outputId": "e2d79ead-979c-4025-a03c-7682193bd3e6"
      },
      "source": [
        "link = \"https://docs.google.com/spreadsheets/d/e/2PACX-1vT8btHZ-A6ChzV5Rx_CQmCzbhO10J7R6LvQAyHx9qOCoCDAL9RJgaGUATf2z5lTMo-SjByvrnaX02Cz/pub?output=csv\"\n",
        "df = pd.read_csv(link,';')\n",
        "df"
      ],
      "execution_count": 61,
      "outputs": [
        {
          "output_type": "execute_result",
          "data": {
            "text/html": [
              "<div>\n",
              "<style scoped>\n",
              "    .dataframe tbody tr th:only-of-type {\n",
              "        vertical-align: middle;\n",
              "    }\n",
              "\n",
              "    .dataframe tbody tr th {\n",
              "        vertical-align: top;\n",
              "    }\n",
              "\n",
              "    .dataframe thead th {\n",
              "        text-align: right;\n",
              "    }\n",
              "</style>\n",
              "<table border=\"1\" class=\"dataframe\">\n",
              "  <thead>\n",
              "    <tr style=\"text-align: right;\">\n",
              "      <th></th>\n",
              "      <th>Tiempo (ms)</th>\n",
              "      <th>Ángulo 1,</th>\n",
              "    </tr>\n",
              "  </thead>\n",
              "  <tbody>\n",
              "    <tr>\n",
              "      <th>0</th>\n",
              "      <td>9</td>\n",
              "      <td>59,289611816406</td>\n",
              "    </tr>\n",
              "    <tr>\n",
              "      <th>1</th>\n",
              "      <td>42</td>\n",
              "      <td>59,9823265075684</td>\n",
              "    </tr>\n",
              "    <tr>\n",
              "      <th>2</th>\n",
              "      <td>75</td>\n",
              "      <td>61,2374534606934</td>\n",
              "    </tr>\n",
              "    <tr>\n",
              "      <th>3</th>\n",
              "      <td>108</td>\n",
              "      <td>63,49247741699</td>\n",
              "    </tr>\n",
              "    <tr>\n",
              "      <th>4</th>\n",
              "      <td>142</td>\n",
              "      <td>65,3887710571289</td>\n",
              "    </tr>\n",
              "    <tr>\n",
              "      <th>...</th>\n",
              "      <td>...</td>\n",
              "      <td>...</td>\n",
              "    </tr>\n",
              "    <tr>\n",
              "      <th>2842</th>\n",
              "      <td>94709</td>\n",
              "      <td>94,9375762939453</td>\n",
              "    </tr>\n",
              "    <tr>\n",
              "      <th>2843</th>\n",
              "      <td>94743</td>\n",
              "      <td>96,479850769043</td>\n",
              "    </tr>\n",
              "    <tr>\n",
              "      <th>2844</th>\n",
              "      <td>94776</td>\n",
              "      <td>97,9406890869141</td>\n",
              "    </tr>\n",
              "    <tr>\n",
              "      <th>2845</th>\n",
              "      <td>94809</td>\n",
              "      <td>99,3180923461914</td>\n",
              "    </tr>\n",
              "    <tr>\n",
              "      <th>2846</th>\n",
              "      <td>94843</td>\n",
              "      <td>100,637817382813</td>\n",
              "    </tr>\n",
              "  </tbody>\n",
              "</table>\n",
              "<p>2847 rows × 2 columns</p>\n",
              "</div>"
            ],
            "text/plain": [
              "      Tiempo (ms)         Ángulo 1,\n",
              "0               9   59,289611816406\n",
              "1              42  59,9823265075684\n",
              "2              75  61,2374534606934\n",
              "3             108    63,49247741699\n",
              "4             142  65,3887710571289\n",
              "...           ...               ...\n",
              "2842        94709  94,9375762939453\n",
              "2843        94743   96,479850769043\n",
              "2844        94776  97,9406890869141\n",
              "2845        94809  99,3180923461914\n",
              "2846        94843  100,637817382813\n",
              "\n",
              "[2847 rows x 2 columns]"
            ]
          },
          "metadata": {},
          "execution_count": 61
        }
      ]
    },
    {
      "cell_type": "code",
      "metadata": {
        "colab": {
          "base_uri": "https://localhost:8080/",
          "height": 414
        },
        "id": "srYNggnoYeJC",
        "outputId": "576a3446-b6d3-48dd-d0f3-67a32aa8a312"
      },
      "source": [
        "df = df.rename( columns = { 'Tiempo (ms)' : 'Tiempo[ms]', 'Ángulo 1,' : 'Ángulo[Deg]' } )\n",
        "df"
      ],
      "execution_count": 62,
      "outputs": [
        {
          "output_type": "execute_result",
          "data": {
            "text/html": [
              "<div>\n",
              "<style scoped>\n",
              "    .dataframe tbody tr th:only-of-type {\n",
              "        vertical-align: middle;\n",
              "    }\n",
              "\n",
              "    .dataframe tbody tr th {\n",
              "        vertical-align: top;\n",
              "    }\n",
              "\n",
              "    .dataframe thead th {\n",
              "        text-align: right;\n",
              "    }\n",
              "</style>\n",
              "<table border=\"1\" class=\"dataframe\">\n",
              "  <thead>\n",
              "    <tr style=\"text-align: right;\">\n",
              "      <th></th>\n",
              "      <th>Tiempo[ms]</th>\n",
              "      <th>Ángulo[Deg]</th>\n",
              "    </tr>\n",
              "  </thead>\n",
              "  <tbody>\n",
              "    <tr>\n",
              "      <th>0</th>\n",
              "      <td>9</td>\n",
              "      <td>59,289611816406</td>\n",
              "    </tr>\n",
              "    <tr>\n",
              "      <th>1</th>\n",
              "      <td>42</td>\n",
              "      <td>59,9823265075684</td>\n",
              "    </tr>\n",
              "    <tr>\n",
              "      <th>2</th>\n",
              "      <td>75</td>\n",
              "      <td>61,2374534606934</td>\n",
              "    </tr>\n",
              "    <tr>\n",
              "      <th>3</th>\n",
              "      <td>108</td>\n",
              "      <td>63,49247741699</td>\n",
              "    </tr>\n",
              "    <tr>\n",
              "      <th>4</th>\n",
              "      <td>142</td>\n",
              "      <td>65,3887710571289</td>\n",
              "    </tr>\n",
              "    <tr>\n",
              "      <th>...</th>\n",
              "      <td>...</td>\n",
              "      <td>...</td>\n",
              "    </tr>\n",
              "    <tr>\n",
              "      <th>2842</th>\n",
              "      <td>94709</td>\n",
              "      <td>94,9375762939453</td>\n",
              "    </tr>\n",
              "    <tr>\n",
              "      <th>2843</th>\n",
              "      <td>94743</td>\n",
              "      <td>96,479850769043</td>\n",
              "    </tr>\n",
              "    <tr>\n",
              "      <th>2844</th>\n",
              "      <td>94776</td>\n",
              "      <td>97,9406890869141</td>\n",
              "    </tr>\n",
              "    <tr>\n",
              "      <th>2845</th>\n",
              "      <td>94809</td>\n",
              "      <td>99,3180923461914</td>\n",
              "    </tr>\n",
              "    <tr>\n",
              "      <th>2846</th>\n",
              "      <td>94843</td>\n",
              "      <td>100,637817382813</td>\n",
              "    </tr>\n",
              "  </tbody>\n",
              "</table>\n",
              "<p>2847 rows × 2 columns</p>\n",
              "</div>"
            ],
            "text/plain": [
              "      Tiempo[ms]       Ángulo[Deg]\n",
              "0              9   59,289611816406\n",
              "1             42  59,9823265075684\n",
              "2             75  61,2374534606934\n",
              "3            108    63,49247741699\n",
              "4            142  65,3887710571289\n",
              "...          ...               ...\n",
              "2842       94709  94,9375762939453\n",
              "2843       94743   96,479850769043\n",
              "2844       94776  97,9406890869141\n",
              "2845       94809  99,3180923461914\n",
              "2846       94843  100,637817382813\n",
              "\n",
              "[2847 rows x 2 columns]"
            ]
          },
          "metadata": {},
          "execution_count": 62
        }
      ]
    },
    {
      "cell_type": "code",
      "metadata": {
        "colab": {
          "base_uri": "https://localhost:8080/",
          "height": 414
        },
        "id": "wjscn7hhpBuC",
        "outputId": "07fd8e67-dcc8-4885-e124-56e6467a1c98"
      },
      "source": [
        "df['Tiempo[ms]'] = df['Tiempo[ms]'].apply(float)\n",
        "df['Ángulo[Deg]'] = df['Ángulo[Deg]'].str.replace(',','.').apply(float)#astype('float64')\n",
        "df"
      ],
      "execution_count": 63,
      "outputs": [
        {
          "output_type": "execute_result",
          "data": {
            "text/html": [
              "<div>\n",
              "<style scoped>\n",
              "    .dataframe tbody tr th:only-of-type {\n",
              "        vertical-align: middle;\n",
              "    }\n",
              "\n",
              "    .dataframe tbody tr th {\n",
              "        vertical-align: top;\n",
              "    }\n",
              "\n",
              "    .dataframe thead th {\n",
              "        text-align: right;\n",
              "    }\n",
              "</style>\n",
              "<table border=\"1\" class=\"dataframe\">\n",
              "  <thead>\n",
              "    <tr style=\"text-align: right;\">\n",
              "      <th></th>\n",
              "      <th>Tiempo[ms]</th>\n",
              "      <th>Ángulo[Deg]</th>\n",
              "    </tr>\n",
              "  </thead>\n",
              "  <tbody>\n",
              "    <tr>\n",
              "      <th>0</th>\n",
              "      <td>9.0</td>\n",
              "      <td>59.289612</td>\n",
              "    </tr>\n",
              "    <tr>\n",
              "      <th>1</th>\n",
              "      <td>42.0</td>\n",
              "      <td>59.982327</td>\n",
              "    </tr>\n",
              "    <tr>\n",
              "      <th>2</th>\n",
              "      <td>75.0</td>\n",
              "      <td>61.237453</td>\n",
              "    </tr>\n",
              "    <tr>\n",
              "      <th>3</th>\n",
              "      <td>108.0</td>\n",
              "      <td>63.492477</td>\n",
              "    </tr>\n",
              "    <tr>\n",
              "      <th>4</th>\n",
              "      <td>142.0</td>\n",
              "      <td>65.388771</td>\n",
              "    </tr>\n",
              "    <tr>\n",
              "      <th>...</th>\n",
              "      <td>...</td>\n",
              "      <td>...</td>\n",
              "    </tr>\n",
              "    <tr>\n",
              "      <th>2842</th>\n",
              "      <td>94709.0</td>\n",
              "      <td>94.937576</td>\n",
              "    </tr>\n",
              "    <tr>\n",
              "      <th>2843</th>\n",
              "      <td>94743.0</td>\n",
              "      <td>96.479851</td>\n",
              "    </tr>\n",
              "    <tr>\n",
              "      <th>2844</th>\n",
              "      <td>94776.0</td>\n",
              "      <td>97.940689</td>\n",
              "    </tr>\n",
              "    <tr>\n",
              "      <th>2845</th>\n",
              "      <td>94809.0</td>\n",
              "      <td>99.318092</td>\n",
              "    </tr>\n",
              "    <tr>\n",
              "      <th>2846</th>\n",
              "      <td>94843.0</td>\n",
              "      <td>100.637817</td>\n",
              "    </tr>\n",
              "  </tbody>\n",
              "</table>\n",
              "<p>2847 rows × 2 columns</p>\n",
              "</div>"
            ],
            "text/plain": [
              "      Tiempo[ms]  Ángulo[Deg]\n",
              "0            9.0    59.289612\n",
              "1           42.0    59.982327\n",
              "2           75.0    61.237453\n",
              "3          108.0    63.492477\n",
              "4          142.0    65.388771\n",
              "...          ...          ...\n",
              "2842     94709.0    94.937576\n",
              "2843     94743.0    96.479851\n",
              "2844     94776.0    97.940689\n",
              "2845     94809.0    99.318092\n",
              "2846     94843.0   100.637817\n",
              "\n",
              "[2847 rows x 2 columns]"
            ]
          },
          "metadata": {},
          "execution_count": 63
        }
      ]
    },
    {
      "cell_type": "code",
      "metadata": {
        "id": "h5xu3110YiGi"
      },
      "source": [
        "#Método alternativo para convertir las filas de str a float\n",
        "#Se vectoriza la función eval, y a partir de eso se evalúa en la columna\n",
        "\n",
        "#eval_= np.vectorize(eval )\n",
        "#d = eval_(df[\"AnguloDeg\"].str.replace(\",\", \".\"))"
      ],
      "execution_count": 64,
      "outputs": []
    },
    {
      "cell_type": "code",
      "metadata": {
        "colab": {
          "base_uri": "https://localhost:8080/",
          "height": 414
        },
        "id": "mRrOzK6qY9mf",
        "outputId": "ff786f2f-21c6-4815-f66c-879b5b057f00"
      },
      "source": [
        "df['Ángulo[Rad]'] = df['Ángulo[Deg]'].apply( np.deg2rad )\n",
        "df"
      ],
      "execution_count": 65,
      "outputs": [
        {
          "output_type": "execute_result",
          "data": {
            "text/html": [
              "<div>\n",
              "<style scoped>\n",
              "    .dataframe tbody tr th:only-of-type {\n",
              "        vertical-align: middle;\n",
              "    }\n",
              "\n",
              "    .dataframe tbody tr th {\n",
              "        vertical-align: top;\n",
              "    }\n",
              "\n",
              "    .dataframe thead th {\n",
              "        text-align: right;\n",
              "    }\n",
              "</style>\n",
              "<table border=\"1\" class=\"dataframe\">\n",
              "  <thead>\n",
              "    <tr style=\"text-align: right;\">\n",
              "      <th></th>\n",
              "      <th>Tiempo[ms]</th>\n",
              "      <th>Ángulo[Deg]</th>\n",
              "      <th>Ángulo[Rad]</th>\n",
              "    </tr>\n",
              "  </thead>\n",
              "  <tbody>\n",
              "    <tr>\n",
              "      <th>0</th>\n",
              "      <td>9.0</td>\n",
              "      <td>59.289612</td>\n",
              "      <td>1.034799</td>\n",
              "    </tr>\n",
              "    <tr>\n",
              "      <th>1</th>\n",
              "      <td>42.0</td>\n",
              "      <td>59.982327</td>\n",
              "      <td>1.046889</td>\n",
              "    </tr>\n",
              "    <tr>\n",
              "      <th>2</th>\n",
              "      <td>75.0</td>\n",
              "      <td>61.237453</td>\n",
              "      <td>1.068795</td>\n",
              "    </tr>\n",
              "    <tr>\n",
              "      <th>3</th>\n",
              "      <td>108.0</td>\n",
              "      <td>63.492477</td>\n",
              "      <td>1.108153</td>\n",
              "    </tr>\n",
              "    <tr>\n",
              "      <th>4</th>\n",
              "      <td>142.0</td>\n",
              "      <td>65.388771</td>\n",
              "      <td>1.141249</td>\n",
              "    </tr>\n",
              "    <tr>\n",
              "      <th>...</th>\n",
              "      <td>...</td>\n",
              "      <td>...</td>\n",
              "      <td>...</td>\n",
              "    </tr>\n",
              "    <tr>\n",
              "      <th>2842</th>\n",
              "      <td>94709.0</td>\n",
              "      <td>94.937576</td>\n",
              "      <td>1.656973</td>\n",
              "    </tr>\n",
              "    <tr>\n",
              "      <th>2843</th>\n",
              "      <td>94743.0</td>\n",
              "      <td>96.479851</td>\n",
              "      <td>1.683891</td>\n",
              "    </tr>\n",
              "    <tr>\n",
              "      <th>2844</th>\n",
              "      <td>94776.0</td>\n",
              "      <td>97.940689</td>\n",
              "      <td>1.709387</td>\n",
              "    </tr>\n",
              "    <tr>\n",
              "      <th>2845</th>\n",
              "      <td>94809.0</td>\n",
              "      <td>99.318092</td>\n",
              "      <td>1.733428</td>\n",
              "    </tr>\n",
              "    <tr>\n",
              "      <th>2846</th>\n",
              "      <td>94843.0</td>\n",
              "      <td>100.637817</td>\n",
              "      <td>1.756461</td>\n",
              "    </tr>\n",
              "  </tbody>\n",
              "</table>\n",
              "<p>2847 rows × 3 columns</p>\n",
              "</div>"
            ],
            "text/plain": [
              "      Tiempo[ms]  Ángulo[Deg]  Ángulo[Rad]\n",
              "0            9.0    59.289612     1.034799\n",
              "1           42.0    59.982327     1.046889\n",
              "2           75.0    61.237453     1.068795\n",
              "3          108.0    63.492477     1.108153\n",
              "4          142.0    65.388771     1.141249\n",
              "...          ...          ...          ...\n",
              "2842     94709.0    94.937576     1.656973\n",
              "2843     94743.0    96.479851     1.683891\n",
              "2844     94776.0    97.940689     1.709387\n",
              "2845     94809.0    99.318092     1.733428\n",
              "2846     94843.0   100.637817     1.756461\n",
              "\n",
              "[2847 rows x 3 columns]"
            ]
          },
          "metadata": {},
          "execution_count": 65
        }
      ]
    },
    {
      "cell_type": "code",
      "metadata": {
        "colab": {
          "base_uri": "https://localhost:8080/",
          "height": 483
        },
        "id": "bXZj9fJqZHsG",
        "outputId": "f094df6f-ce75-4a65-9b51-2ef322f900f5"
      },
      "source": [
        "a = df['Ángulo[Rad]'] - np.pi/2\n",
        "\n",
        "plt.figure( figsize = (10,8) )\n",
        "\n",
        "plt.plot(df['Tiempo[ms]'], a,'bo-')\n",
        "\n",
        "plt.xlim(0,10000)\n",
        "\n",
        "plt.grid()"
      ],
      "execution_count": 66,
      "outputs": [
        {
          "output_type": "display_data",
          "data": {
            "image/png": "[encoded data removed]",
            "text/plain": [
              "<Figure size 720x576 with 1 Axes>"
            ]
          },
          "metadata": {
            "needs_background": "light"
          }
        }
      ]
    },
    {
      "cell_type": "code",
      "metadata": {
        "colab": {
          "base_uri": "https://localhost:8080/",
          "height": 334
        },
        "id": "r8B0zf3xbOjB",
        "outputId": "6eb890e1-2fc1-41a2-821a-d609a8150eab"
      },
      "source": [
        "tf = fft(df['Ángulo[Rad]'].values)\n",
        "T = 33E-3 #Paso del tiempo\n",
        "N = len(df['Tiempo[ms]'])\n",
        "xf = fft.fftfreq(N, T)[:N//2]\n",
        "\n",
        "plt.plot(xf[1:N//2], np.abs(tf[1:N//2]),\"o-\")\n",
        "plt.ylabel(\"TF\")\n",
        "plt.xlabel(\"Frecuencia\")\n",
        "plt.xlim(0, 2)\n",
        "\n",
        "plt.grid()"
      ],
      "execution_count": 67,
      "outputs": [
        {
          "output_type": "stream",
          "name": "stderr",
          "text": [
            "/usr/local/lib/python3.7/dist-packages/ipykernel_launcher.py:1: DeprecationWarning: Using scipy.fft as a function is deprecated and will be removed in SciPy 1.5.0, use scipy.fft.fft instead.\n",
            "  \"\"\"Entry point for launching an IPython kernel.\n"
          ]
        },
        {
          "output_type": "display_data",
          "data": {
            "image/png": "[encoded data removed]",
            "text/plain": [
              "<Figure size 432x288 with 1 Axes>"
            ]
          },
          "metadata": {
            "needs_background": "light"
          }
        }
      ]
    },
    {
      "cell_type": "code",
      "metadata": {
        "colab": {
          "base_uri": "https://localhost:8080/",
          "height": 282
        },
        "id": "Wzglbl6HeaqU",
        "outputId": "d90803a7-26b4-485e-8471-5977480657d0"
      },
      "source": [
        "cs = CubicSpline(xf[1:N//2], np.abs(tf[1:N//2]))\n",
        "\n",
        "plt.plot(xf[1:N//2], np.abs(tf[1:N//2]),\"r.\")\n",
        "plt.plot(abs(xf[1:N//2]), -abs(cs(xf[1:N//2])),\"b\" ) \n",
        "plt.xlim(0.25, 1)"
      ],
      "execution_count": 68,
      "outputs": [
        {
          "output_type": "execute_result",
          "data": {
            "text/plain": [
              "(0.25, 1.0)"
            ]
          },
          "metadata": {},
          "execution_count": 68
        },
        {
          "output_type": "display_data",
          "data": {
            "image/png": "[encoded data removed]",
            "text/plain": [
              "<Figure size 432x288 with 1 Axes>"
            ]
          },
          "metadata": {
            "needs_background": "light"
          }
        }
      ]
    },
    {
      "cell_type": "code",
      "metadata": {
        "colab": {
          "base_uri": "https://localhost:8080/"
        },
        "id": "6uBbBDnvew9B",
        "outputId": "09f1f84e-076d-4c7b-fd49-061c1206448e"
      },
      "source": [
        "cs = CubicSpline(xf[1:N//2], -np.abs(tf[1:N//2]))\n",
        "min = optimize.fmin_powell(cs, 0.2)"
      ],
      "execution_count": 69,
      "outputs": [
        {
          "output_type": "stream",
          "name": "stdout",
          "text": [
            "Optimization terminated successfully.\n",
            "         Current function value: -417.867925\n",
            "         Iterations: 2\n",
            "         Function evaluations: 44\n"
          ]
        }
      ]
    },
    {
      "cell_type": "code",
      "metadata": {
        "colab": {
          "base_uri": "https://localhost:8080/"
        },
        "id": "JeV4mACpe4tb",
        "outputId": "b46e375a-409b-4560-e0bc-0f6d866f4cb0"
      },
      "source": [
        "abs(cs(min))"
      ],
      "execution_count": 70,
      "outputs": [
        {
          "output_type": "execute_result",
          "data": {
            "text/plain": [
              "417.8679246313184"
            ]
          },
          "metadata": {},
          "execution_count": 70
        }
      ]
    },
    {
      "cell_type": "code",
      "metadata": {
        "colab": {
          "base_uri": "https://localhost:8080/"
        },
        "id": "yjjsBrGWe786",
        "outputId": "e68ec564-c145-4566-aa37-4224ec8ac73f"
      },
      "source": [
        "cs = CubicSpline(xf[1:N//2], np.abs(tf[1:N//2])) # cuando no es negativo np.abs(tf[1:N//2])\n",
        "min = optimize.fmin_powell(cs, 0.2)"
      ],
      "execution_count": 71,
      "outputs": [
        {
          "output_type": "stream",
          "name": "stdout",
          "text": [
            "Optimization terminated successfully.\n",
            "         Current function value: 0.842280\n",
            "         Iterations: 3\n",
            "         Function evaluations: 53\n"
          ]
        }
      ]
    },
    {
      "cell_type": "code",
      "metadata": {
        "colab": {
          "base_uri": "https://localhost:8080/"
        },
        "id": "J242G4gYBKL1",
        "outputId": "503f5db7-ff4e-4f8b-eddb-1e2f5fd14fda"
      },
      "source": [
        "abs(cs(min))"
      ],
      "execution_count": 72,
      "outputs": [
        {
          "output_type": "execute_result",
          "data": {
            "text/plain": [
              "0.8422796094441787"
            ]
          },
          "metadata": {},
          "execution_count": 72
        }
      ]
    },
    {
      "cell_type": "code",
      "metadata": {
        "colab": {
          "base_uri": "https://localhost:8080/"
        },
        "id": "G43XMj6ve-5Y",
        "outputId": "32f01c0a-13ed-4eb9-c83e-e40446f4ecd9"
      },
      "source": [
        "csn_ = CubicSpline(xf[1:N//2], -np.abs(tf[1:N//2]))\n",
        "max = min = optimize.fmin_powell(csn_, 0.2)\n",
        "abs(cs(max))\n",
        "derivada = np.vectorize( misc.derivative ) # vectorizamos misc.derivative, para poder que acepte arrays\n",
        "derivada_ = derivada( csn_, max, dx=0.000001 ) # derivada sera el valor minimo \n",
        "print(f\"este es la derivada el valor minimo {float(derivada_)}\")"
      ],
      "execution_count": 73,
      "outputs": [
        {
          "output_type": "stream",
          "name": "stdout",
          "text": [
            "Optimization terminated successfully.\n",
            "         Current function value: -417.867925\n",
            "         Iterations: 2\n",
            "         Function evaluations: 44\n",
            "este es la derivada el valor minimo -1.2278178473934531e-05\n"
          ]
        }
      ]
    },
    {
      "cell_type": "code",
      "metadata": {
        "id": "D7pVETp1CdsR"
      },
      "source": [
        ""
      ],
      "execution_count": 73,
      "outputs": []
    }
  ]
}