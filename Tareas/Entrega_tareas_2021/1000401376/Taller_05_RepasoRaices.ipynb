{
  "nbformat": 4,
  "nbformat_minor": 0,
  "metadata": {
    "colab": {
      "name": "Taller_05_RepasoRaices.ipynb",
      "provenance": [],
      "collapsed_sections": []
    },
    "kernelspec": {
      "name": "python3",
      "display_name": "Python 3"
    },
    "language_info": {
      "name": "python"
    }
  },
  "cells": [
    {
      "cell_type": "markdown",
      "metadata": {
        "id": "iMtlmOQm42xm"
      },
      "source": [
        "# Problemas \n",
        "\n",
        "#1. Area \n",
        "Hallar el área de un segmento circular cuya area sea igual a una cuarta parte del área del circulo. Para la solución se sugiere lo siguiente:\n",
        "\n",
        "a) Encontrar la ecuacion trascendental.\n",
        "\n",
        "b) Con la ecuación anterior, definir una funcion $f(\\theta)=0$. Emplee la funcion labmda de python.\n",
        "\n",
        "c) Construir una data frame de pandas con la columna \"theta\" con 1000 registros(filas) entre $[-2\\pi, 2\\pi]$. Sugerencia, para construir el data frame emplee la función linspace como sigue : np.linspace(-2\\*np.pi, 2\\*np.pi, 1000 )\n",
        "\n",
        "d) Construir una segunda columna titulada \"F_theta\" con los registros f(theta)\n",
        "\n",
        "f) Realice un gráfico de  \"F_theta\" vs \"theta\". Identifique el intervalo de la raiz.\n",
        "\n",
        "Estime el valor del ángulo empleando los siguientes metodos(Emplee  la documentacion):\n",
        "\n",
        "g) [Bisección](https://docs.scipy.org/doc/scipy/reference/generated/scipy.optimize.bisect.html)\n",
        "\n",
        "h) [Newton-Rapshon](https://docs.scipy.org/doc/scipy/reference/generated/scipy.optimize.newton.html)\n",
        "\n",
        "i) [Secante](https://docs.scipy.org/doc/scipy/reference/generated/scipy.optimize.newton.html) \n",
        "\n",
        "j) [Punto Fijo](https://docs.scipy.org/doc/scipy/reference/generated/scipy.optimize.fixed_point.html)\n",
        "\n",
        "\n"
      ]
    },
    {
      "cell_type": "markdown",
      "metadata": {
        "id": "kInCJhnR_V-L"
      },
      "source": [
        "\n",
        "\n",
        "\n",
        "\\begin{equation}\n",
        "A = As - 2\\frac{(r\\cos\\theta/2 )(r\\sin\\theta/2)}{2} \n",
        "\\end{equation}\n",
        "\n",
        "\n",
        ".\n",
        "\n",
        ".\n",
        "\n",
        ".\n",
        "\n",
        "\n",
        "\n",
        "\n",
        "\\begin{equation}\n",
        "\\theta-\\sin \\theta = \\frac{\\pi}{2}\n",
        "\\end{equation}\n",
        "\n",
        "\n",
        "\n",
        "\\begin{equation}\n",
        "f(\\theta)= \\theta- \\sin \\theta - \\frac{\\pi}{2}=0\n",
        "\\end{equation}\n",
        "\n"
      ]
    },
    {
      "cell_type": "code",
      "metadata": {
        "id": "0Sflt26CFHVU"
      },
      "source": [
        "import numpy as np\n",
        "import pandas as pd\n",
        "import matplotlib.pylab as plt\n",
        "import scipy as sp\n",
        "from scipy import optimize"
      ],
      "execution_count": 594,
      "outputs": []
    },
    {
      "cell_type": "code",
      "metadata": {
        "colab": {
          "base_uri": "https://localhost:8080/",
          "height": 299
        },
        "id": "rBaxZsmvIkCJ",
        "outputId": "b33cb009-8cc2-4716-855d-812d3b7f2cc3"
      },
      "source": [
        "def f(theta): \n",
        "  return theta-np.sin(theta)-np.pi/2 #funcion trascendental igual a cero la real es theta-np.sin(theta) = np.pi/2, puntos a) y b)\n",
        "\n",
        "df = pd.DataFrame({\"theta\":np.linspace(-2*np.pi,2*np.pi,1000)}) # la parte c), el dataframe \n",
        "\n",
        "df[\"f(theta)\"] = f(np.linspace(-2*np.pi,2*np.pi,1000)) # parte de la d)\n",
        "\n",
        "plt.plot(df[\"theta\"],df[\"f(theta)\"]) #parte f)\n",
        "plt.grid()\n",
        "\n",
        "print(f\"resultado con bisect es {optimize.bisect(f,0,4)}. Ademas este tambien es el angulo \")\n",
        "#La funcion bisect recibe como parametro: una funcion a la cual se le quiere encontrar las raices, un x0 = 0, en este caso, y un xn = 4 en este caso. \n",
        "# x0 y xn deben tener signos contrarios\n",
        "\n",
        "print(f\"El resultado con Newton {optimize.newton(f,0)}\")\n",
        "#La funcion newton recibe como parametro: una funcion a la cual se le quiere encontrar las raices y un x0 = 0, en este caso"
      ],
      "execution_count": 595,
      "outputs": [
        {
          "output_type": "stream",
          "text": [
            "resultado con bisect es 2.309881460010729. Ademas este tambien es el angulo \n",
            "El resultado con Newton 2.309881460010057\n"
          ],
          "name": "stdout"
        },
        {
          "output_type": "display_data",
          "data": {
            "image/png": "[encoded data removed]",
            "text/plain": [
              "<Figure size 432x288 with 1 Axes>"
            ]
          },
          "metadata": {
            "tags": [],
            "needs_background": "light"
          }
        }
      ]
    },
    {
      "cell_type": "markdown",
      "metadata": {
        "id": "AqZSU8CE46S9"
      },
      "source": [
        "\n",
        "\n",
        "\n",
        "# 2. Movimiento de proyectiles en presencia de viento.\n",
        "\n",
        "Supongamos que un proyectil es lanzado desde el origen con una rapidez $v=vo( \\cos \\theta , \\sin \\theta) $. Supongamos además que el efecto del viento sobre el proyectil es el de una fuerza proporcional a la velocidad relativa entre el viento y el proyectil. Teniendo presente que si $u$ es la velocidad del viento y $\\alpha$ el ángulo que hace dirección de esta velocidad con el eje x, se puede entrontrar las siguientes ecuaciones diferenciales, asociada al estado de movimiento del [proyectil](https://iopscience.iop.org/article/10.1088/0143-0807/36/2/025016/meta):\n",
        "\n",
        "\n",
        "\\begin{equation}\n",
        "m\\frac{dv_x}{dt} = -mb(v_x-u\\cos \\alpha )\n",
        "\\end{equation}\n",
        "\n",
        "\\begin{equation}\n",
        "m\\frac{dv_y}{dt} = -mg-mb(v_x-u\\sin \\alpha ),\n",
        "\\end{equation}\n",
        "\n",
        "donde b es el párametro de rozamiento. La soluciones a las ecuaciones anteriores vienen dadas por:\n",
        "\n",
        "Posición en x\n",
        "\\begin{equation}\n",
        "x=(u\\cos \\alpha) t + \\frac{1}{b} (v_0\\cos \\theta_0 -u \\cos\\alpha)(1-\\mathrm{exp}(-bt))\n",
        "\\end{equation}\n",
        "\n",
        "Posicion en y \n",
        "\\begin{equation}\n",
        "y= \\frac{1}{b}\\left(\\frac{g}{b}+v_0 \\sin \\theta_0 -u\\sin\\alpha \\right)(1-\\mathrm{exp}(-bt))-\\left( \\frac{g}{b}-u\\sin\\alpha\\right)t\n",
        "\\end{equation}\n",
        "\n",
        "Ver imagen:  http://www.sc.ehu.es/sbweb/fisica3/fluidos/viento/parabolico.html\n",
        "\n",
        "\n",
        "0. Establezca las siguietnes condiciones inciales.\n",
        "\n",
        "```\n",
        "#Parametros iniciales\n",
        "\n",
        "v0 = 60 #Velocidad en m/s\n",
        "alpha = np.pi #Angulo del viento\n",
        "theta = np.deg2rad(45) #Angulo de lanzamiento\n",
        "u = v0/2             #rapidez del viento\n",
        "b = 0.05             #Parametro de friccion \n",
        "g = 9.8                #Aceleracion de la gravedad m/s2\n",
        "\n",
        "Params = (alpha, v0, b, u,g)  #Parametros en tupla.\n",
        "\n",
        "```\n",
        "\n",
        "\n",
        "\n",
        "1. Defina dos funciones, una para x y otra para y. \n",
        "\n",
        "```\n",
        "\n",
        "#Posicion en x\n",
        "def pos_x(t, theta, alpha, v0, b, u,g):\n",
        "  x = #escriba aca la expresión\n",
        "  return x\n",
        "\n",
        "#Posicion en y\n",
        "def pos_y(t, theta, alpha, v0, b, u,g):\n",
        "\n",
        "\n",
        "  y = #escriba aca la expresión\n",
        "  return y \n",
        "\n",
        "```\n",
        "\n",
        "2. Construya un diccionario con las claves \"X\", \"Y\", \"Tiempo\"\n",
        "\n",
        "3. Con el diccionario construya un data frame de pandas llamado df con los nombres de columnas \"X\", \"Y\", \"Tiempo\"  https://pandas.pydata.org/docs/reference/api/pandas.DataFrame.from_dict.html. Defina 1000 registros para el intervalo de tiempo elegido.\n",
        "\n",
        "\n",
        "4. Realice un gráfico de x como función del tiempo, de y como función del tiempo y la trayectoria de la partícula (df[\"X\"], df[\"tiempo\"], df[\"Y\"]).\n",
        "\n",
        "\n",
        "5. Determine el alcance máximo de la partícula, para ello tome  la solucion teórica con $y=0$, solucione numéricamente la ecuación para t y remplace este valor en la ecuación para x. Resuelvalo para $\\theta=45^{o}$.  \n",
        "\n",
        "6. Construya una  grafica del alcance máximo R como función de $\\theta$, varie $\\theta$  entre 10 y 90 grados cada 5 grados.\n",
        "\n",
        "7. Realice una interpolacion de R como función de theta.\n",
        "\n",
        "\n",
        "\n",
        "\n",
        "\n",
        "\n",
        "\n"
      ]
    },
    {
      "cell_type": "code",
      "metadata": {
        "id": "HEEtRuug464L"
      },
      "source": [
        "# Parametros iniciales\n",
        "v0 = 60 #Velocidad del proyectil en m/s\n",
        "alpha = np.pi #Angulo del viento, va en sentido contrario de donde se lanza el proyectil \n",
        "theta = np.deg2rad(45) #Angulo de lanzamiento del proyectil\n",
        "b = 0.05             #Parametro de friccion \n",
        "u = v0/2             #Rapidez del viento\n",
        "g = 9.8              #Aceleracion de la gravedad m/(s^2)\n",
        "Params = (alpha, v0, b, u, g)  #Parametros en tupla."
      ],
      "execution_count": 596,
      "outputs": []
    },
    {
      "cell_type": "code",
      "metadata": {
        "id": "okWfAokwJsaF"
      },
      "source": [
        "#Posicion en x\n",
        "def pos_x(t, theta, alpha, v0, b, u, g):\n",
        "  T1 = u * t * np.cos(alpha) #Termino 1\n",
        "  T2 = (1./b)*(v0*np.cos(theta) - u*np.cos(alpha) ) #Termino 2\n",
        "  T3 = (1 - np.e**(-b*t)) #Termino 3\n",
        "\n",
        "  return T1 + T2*T3  # Ecuacion de la posicion de X\n",
        "\n",
        "#Posicion en y\n",
        "def pos_y(t, theta, alpha, v0, b, u, g):\n",
        "\n",
        "  T1 = (1./b)*(g/b + v0*np.sin(theta) - u*np.sin(alpha) ) #termino 1\n",
        "  T2 = (1 - np.e**(- b * t)) #termino 2\n",
        "  T3 = (g / b - u *  np.sin(alpha))*t #termino 3\n",
        "\n",
        "  return T1* T2 - T3 # Ecuacion de la posicion de Y\n"
      ],
      "execution_count": 597,
      "outputs": []
    },
    {
      "cell_type": "code",
      "metadata": {
        "id": "Vf17m2ehLB6F"
      },
      "source": [
        "t = np.linspace(0, 20, 100) #Tiempo entre 0 y 20 con 100 puntos \n",
        "x = pos_x(t, theta, *Params) #x es un array de las posiciones que toma el proyectil a lo largo del tiempo t\n",
        "y = pos_y(t, theta, *Params) #y es un array de las posiciones que toma el proyectil a lo largo del tiempo t\n",
        "pos = { \"X\": x , \"Y\": y, \"Tiempo\": t } #Diccionario para crear el dataframe\n",
        "df = pd.DataFrame.from_dict(pos) # creacion del dataframe "
      ],
      "execution_count": 598,
      "outputs": []
    },
    {
      "cell_type": "code",
      "metadata": {
        "colab": {
          "base_uri": "https://localhost:8080/",
          "height": 377
        },
        "id": "oFxst287Lnjp",
        "outputId": "10d048f1-3481-469d-f157-689b58b21163"
      },
      "source": [
        "#Creacion de la figura de las posiciones X, y Y respecto al tiempo \n",
        "plt.figure(figsize=(15,5.5))\n",
        "plt.subplot(121)\n",
        "plt.plot(df[\"Tiempo\"], df[\"X\"], label=\"pos_x\") \n",
        "plt.plot(df[\"Tiempo\"], df[\"Y\"], label=\"pos_y\")\n",
        "plt.xlabel(\"t [s]\")\n",
        "plt.ylabel(\"Posicion [m]\")\n",
        "plt.legend()\n",
        "plt.title(\"Theta = \" + str(\"%.3lf\"%theta))\n",
        "plt.grid()\n",
        "\n",
        "#Creacion de la figura con la trayectoria del proyectil \n",
        "plt.subplot(122)\n",
        "plt.plot(df[\"X\"], df[\"Y\"], label=\"pos_x\") \n",
        "plt.xlabel(\"x [m]\")\n",
        "plt.ylabel(\"y [m]\")\n",
        "plt.legend()\n",
        "plt.title(\"Theta = \" + str(\"%.3lf\"%theta))\n",
        "plt.grid()\n",
        "plt.show()"
      ],
      "execution_count": 599,
      "outputs": [
        {
          "output_type": "display_data",
          "data": {
            "image/png": "[encoded data removed]",
            "text/plain": [
              "<Figure size 1080x396 with 2 Axes>"
            ]
          },
          "metadata": {
            "tags": [],
            "needs_background": "light"
          }
        }
      ]
    },
    {
      "cell_type": "code",
      "metadata": {
        "colab": {
          "base_uri": "https://localhost:8080/",
          "height": 312
        },
        "id": "mKdWoBgbWyWk",
        "outputId": "f4f81a31-4a63-4301-eeef-a9bb80557a1b"
      },
      "source": [
        "#En esta celda encontramos t con newton normal.\n",
        "tupla = theta, alpha, v0, b, u, g\n",
        "print(f\"El tiempo que se demora en llegar de nuevo a y = 0 es {optimize.newton(pos_y, 10, args = tupla )}\")\n",
        "plt.plot(df[\"X\"], df[\"Y\"], label=\"pos_x\") \n",
        "plt.plot(pos_x(8.11162702209557,*(tupla)),pos_y(8.11162702209557,*(tupla)),\"ro\")\n",
        "plt.xlabel(\"x [m]\")\n",
        "plt.ylabel(\"y [m]\")\n",
        "plt.legend()\n",
        "plt.title(\"Theta = \" + str(\"%.3lf\"%theta))\n",
        "plt.grid()"
      ],
      "execution_count": 600,
      "outputs": [
        {
          "output_type": "stream",
          "text": [
            "El tiempo que se demora en llegar de nuevo a y = 0 es 8.11162702209557\n"
          ],
          "name": "stdout"
        },
        {
          "output_type": "display_data",
          "data": {
            "image/png": "[encoded data removed]",
            "text/plain": [
              "<Figure size 432x288 with 1 Axes>"
            ]
          },
          "metadata": {
            "tags": [],
            "needs_background": "light"
          }
        }
      ]
    },
    {
      "cell_type": "code",
      "metadata": {
        "colab": {
          "base_uri": "https://localhost:8080/"
        },
        "id": "8ySxHjLN3TRF",
        "outputId": "fac0bb7e-8264-4b3c-8696-45ef4f4b97a2"
      },
      "source": [
        "#Ahora reemplzando el tiempo t_prima = 8.11162702209557 en la posicion de x, y para un angulo θ=45°\n",
        "t_prima = 8.11162702209557\n",
        "print(pos_x(t_prima, theta, alpha, v0, b, u, g))"
      ],
      "execution_count": 601,
      "outputs": [
        {
          "output_type": "stream",
          "text": [
            "239.60614945520706\n"
          ],
          "name": "stdout"
        }
      ]
    },
    {
      "cell_type": "code",
      "metadata": {
        "id": "6_c0929kKTnr",
        "colab": {
          "base_uri": "https://localhost:8080/"
        },
        "outputId": "c5002a9f-c475-4a16-fba8-e77ebd3054d0"
      },
      "source": [
        "theta = np.linspace(10, 90, 17) # 10 <= theta <= 90\n",
        "array = np.zeros(len(theta)) # este array son los tiempos que se demora y = 0 para cada θ entre 10 y 90  \n",
        "tupla_1 = alpha, v0, b, u, g\n",
        "j = 0\n",
        "for i in theta:\n",
        "  raiz = optimize.newton(pos_y, 10, args = (np.deg2rad(i), *tupla_1))\n",
        "  array[j] = raiz\n",
        "  j += 1 \n",
        "print(array)\n",
        "\n",
        "array_1 = np.zeros(len(theta)) # este array tiene las posiciones del x, para cada θ\n",
        "for i in range(0, len(theta)):\n",
        "  R = pos_x(array[i], np.deg2rad(theta[i]), *tupla_1) \n",
        "  array_1[i] = R\n",
        "print(array_1)"
      ],
      "execution_count": 602,
      "outputs": [
        {
          "output_type": "stream",
          "text": [
            "[ 2.08991303  3.08969274  4.05131868  4.96934254  5.83875914  6.65499011\n",
            "  7.41386887  8.11162702  8.74488266  9.31063044  9.80623346 10.22941677\n",
            " 10.5782623  10.85120507 11.04703035 11.16487174 11.20420989]\n",
            "[114.09205021 159.11424792 195.25160684 222.1925717  239.86601038\n",
            " 248.41385426 248.16428008 239.60614946 223.36511298 200.18155773\n",
            " 170.89041443 136.40273087  97.68884772  55.76297185  11.66892048\n",
            " -33.53319794 -78.7796008 ]\n"
          ],
          "name": "stdout"
        }
      ]
    },
    {
      "cell_type": "code",
      "metadata": {
        "colab": {
          "base_uri": "https://localhost:8080/",
          "height": 576
        },
        "id": "CyyY9ndLX0PK",
        "outputId": "1b5a1baf-8800-4bba-860d-6d28270a2c06"
      },
      "source": [
        "# Creamos el diccionario y luego el dataframe a partir del diccionario, y a partir del diccionario creamos el plot \n",
        "dicc = {\"R\" : array_1, \"theta\" : theta}\n",
        "df1 = pd.DataFrame.from_dict(dicc) \n",
        "df1"
      ],
      "execution_count": 603,
      "outputs": [
        {
          "output_type": "execute_result",
          "data": {
            "text/html": [
              "<div>\n",
              "<style scoped>\n",
              "    .dataframe tbody tr th:only-of-type {\n",
              "        vertical-align: middle;\n",
              "    }\n",
              "\n",
              "    .dataframe tbody tr th {\n",
              "        vertical-align: top;\n",
              "    }\n",
              "\n",
              "    .dataframe thead th {\n",
              "        text-align: right;\n",
              "    }\n",
              "</style>\n",
              "<table border=\"1\" class=\"dataframe\">\n",
              "  <thead>\n",
              "    <tr style=\"text-align: right;\">\n",
              "      <th></th>\n",
              "      <th>R</th>\n",
              "      <th>theta</th>\n",
              "    </tr>\n",
              "  </thead>\n",
              "  <tbody>\n",
              "    <tr>\n",
              "      <th>0</th>\n",
              "      <td>114.092050</td>\n",
              "      <td>10.0</td>\n",
              "    </tr>\n",
              "    <tr>\n",
              "      <th>1</th>\n",
              "      <td>159.114248</td>\n",
              "      <td>15.0</td>\n",
              "    </tr>\n",
              "    <tr>\n",
              "      <th>2</th>\n",
              "      <td>195.251607</td>\n",
              "      <td>20.0</td>\n",
              "    </tr>\n",
              "    <tr>\n",
              "      <th>3</th>\n",
              "      <td>222.192572</td>\n",
              "      <td>25.0</td>\n",
              "    </tr>\n",
              "    <tr>\n",
              "      <th>4</th>\n",
              "      <td>239.866010</td>\n",
              "      <td>30.0</td>\n",
              "    </tr>\n",
              "    <tr>\n",
              "      <th>5</th>\n",
              "      <td>248.413854</td>\n",
              "      <td>35.0</td>\n",
              "    </tr>\n",
              "    <tr>\n",
              "      <th>6</th>\n",
              "      <td>248.164280</td>\n",
              "      <td>40.0</td>\n",
              "    </tr>\n",
              "    <tr>\n",
              "      <th>7</th>\n",
              "      <td>239.606149</td>\n",
              "      <td>45.0</td>\n",
              "    </tr>\n",
              "    <tr>\n",
              "      <th>8</th>\n",
              "      <td>223.365113</td>\n",
              "      <td>50.0</td>\n",
              "    </tr>\n",
              "    <tr>\n",
              "      <th>9</th>\n",
              "      <td>200.181558</td>\n",
              "      <td>55.0</td>\n",
              "    </tr>\n",
              "    <tr>\n",
              "      <th>10</th>\n",
              "      <td>170.890414</td>\n",
              "      <td>60.0</td>\n",
              "    </tr>\n",
              "    <tr>\n",
              "      <th>11</th>\n",
              "      <td>136.402731</td>\n",
              "      <td>65.0</td>\n",
              "    </tr>\n",
              "    <tr>\n",
              "      <th>12</th>\n",
              "      <td>97.688848</td>\n",
              "      <td>70.0</td>\n",
              "    </tr>\n",
              "    <tr>\n",
              "      <th>13</th>\n",
              "      <td>55.762972</td>\n",
              "      <td>75.0</td>\n",
              "    </tr>\n",
              "    <tr>\n",
              "      <th>14</th>\n",
              "      <td>11.668920</td>\n",
              "      <td>80.0</td>\n",
              "    </tr>\n",
              "    <tr>\n",
              "      <th>15</th>\n",
              "      <td>-33.533198</td>\n",
              "      <td>85.0</td>\n",
              "    </tr>\n",
              "    <tr>\n",
              "      <th>16</th>\n",
              "      <td>-78.779601</td>\n",
              "      <td>90.0</td>\n",
              "    </tr>\n",
              "  </tbody>\n",
              "</table>\n",
              "</div>"
            ],
            "text/plain": [
              "             R  theta\n",
              "0   114.092050   10.0\n",
              "1   159.114248   15.0\n",
              "2   195.251607   20.0\n",
              "3   222.192572   25.0\n",
              "4   239.866010   30.0\n",
              "5   248.413854   35.0\n",
              "6   248.164280   40.0\n",
              "7   239.606149   45.0\n",
              "8   223.365113   50.0\n",
              "9   200.181558   55.0\n",
              "10  170.890414   60.0\n",
              "11  136.402731   65.0\n",
              "12   97.688848   70.0\n",
              "13   55.762972   75.0\n",
              "14   11.668920   80.0\n",
              "15  -33.533198   85.0\n",
              "16  -78.779601   90.0"
            ]
          },
          "metadata": {
            "tags": []
          },
          "execution_count": 603
        }
      ]
    },
    {
      "cell_type": "code",
      "metadata": {
        "id": "rXXpqgse-mF2",
        "colab": {
          "base_uri": "https://localhost:8080/",
          "height": 394
        },
        "outputId": "67e04cb8-1bc7-4f9a-ea6e-cdc3790b8aa4"
      },
      "source": [
        "# crear la grafica del punto 5\n",
        "plt.figure(figsize=(8,5.5))\n",
        "plt.plot(df1[\"theta\"], df1[\"R\"], \"ro\") \n",
        "plt.xlabel(\"theta\")\n",
        "plt.ylabel(\"R\")\n",
        "plt.legend()\n",
        "plt.title(\"R vs Theta\")\n",
        "plt.grid()"
      ],
      "execution_count": 604,
      "outputs": [
        {
          "output_type": "stream",
          "text": [
            "No handles with labels found to put in legend.\n"
          ],
          "name": "stderr"
        },
        {
          "output_type": "display_data",
          "data": {
            "image/png": "[encoded data removed]",
            "text/plain": [
              "<Figure size 576x396 with 1 Axes>"
            ]
          },
          "metadata": {
            "tags": [],
            "needs_background": "light"
          }
        }
      ]
    },
    {
      "cell_type": "code",
      "metadata": {
        "colab": {
          "base_uri": "https://localhost:8080/",
          "height": 265
        },
        "id": "LJMToViUasId",
        "outputId": "71688999-2a41-4c54-e3cb-089f6848e750"
      },
      "source": [
        "#Realizamos la interpolacion y mostramos la grafica\n",
        "f=sp.interpolate.interp1d(df1[\"theta\"],df1[\"R\"]) # Interpolacion a partir del df1\n",
        "plt.plot(df1[\"theta\"], df1[\"R\"], \"ro\")\n",
        "plt.plot(df1[\"theta\"],f(df1[\"theta\"]),\"b-\")\n",
        "plt.grid()"
      ],
      "execution_count": 605,
      "outputs": [
        {
          "output_type": "display_data",
          "data": {
            "image/png": "[encoded data removed]",
            "text/plain": [
              "<Figure size 432x288 with 1 Axes>"
            ]
          },
          "metadata": {
            "tags": [],
            "needs_background": "light"
          }
        }
      ]
    }
  ]
}