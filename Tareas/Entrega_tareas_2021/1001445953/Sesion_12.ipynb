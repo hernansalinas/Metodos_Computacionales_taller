{
  "nbformat": 4,
  "nbformat_minor": 0,
  "metadata": {
    "colab": {
      "name": "Sesion_12.ipynb",
      "provenance": [],
      "collapsed_sections": []
    },
    "kernelspec": {
      "name": "python3",
      "display_name": "Python 3"
    },
    "language_info": {
      "name": "python"
    }
  },
  "cells": [
    {
      "cell_type": "markdown",
      "metadata": {
        "id": "z2BC6C8-H-tF"
      },
      "source": [
        "1. The next  problems are examples of how elliptic integrals enter into realistic physics problems. It is straightforward to evaluate any integral numerically using the techniques of this chapter, but it may be difficult for you to  know if the answers you obtain are correct. One way to hone your integral\u0002evaluating skills is to compare your answers from quadrature to power series\n",
        "expressions, or to a polynomial approximations of know precision. To help you in this regard, we present here a polynomial approximation for an elliptic integral (Abramowitz and Stegun, 1972):\n",
        "\n",
        "\\begin{equation}\n",
        "K(m)=\\int_{0}^{\\pi/2} \\frac{\\mathrm{d\\phi}}{\\sqrt{1-m\\sin^2\\phi}}\n",
        "\\end{equation}\n",
        "\n",
        "\\begin{equation}\n",
        "\\approx a_0+a_1m_1+a_2m_2 - [ b_0+b_1m_1+b_2m_1^2]\\ln m_1 + \\epsilon(m) \n",
        "\\end{equation}\n",
        "\n",
        "\n",
        "\n",
        "$m_1 = 1-m$, \n",
        "\n",
        "$ 0 \\le m \\le1 $\n",
        "\n",
        "$\\epsilon(m)\\leq 3\\times 10^{-5}$\n",
        "\n",
        "\n",
        "\n",
        "$a_0 = 1.3862944$\n",
        "\n",
        "$b_0 = 0.5$\n",
        "\n",
        "$a_1 = 0.1119723$\n",
        "\n",
        "$b_1 = 0.1213478$\n",
        "\n",
        "$a_2 = 0.00725296$\n",
        "\n",
        "$b_2 = 0.0288729$\n"
      ]
    },
    {
      "cell_type": "markdown",
      "metadata": {
        "id": "G6HsBn7_HZol"
      },
      "source": [
        " Figure 5.7 shows a current loop of radius a carrying a current I. The point P\n",
        "is a distance r from the center of the loop with spherical coordinates (r, θ, φ).\n",
        "Jackson (1988) solves for the φ component of the vector potential at point P\n",
        "in terms of elliptic integrals:\n",
        "\n",
        "\\begin{equation}\n",
        "A_{\\phi}(r, \\theta)=\\frac{\\mu_0}{4\\pi}\\frac{4Ia}{\\sqrt{a^2+r^2+2ar\\sin \\theta}}\\left(\\frac{(2-k^2)K(k)-2E(k)}{k^2} \\right)\n",
        "\\end{equation}\n",
        "\n",
        "\n",
        "where \n",
        "\n",
        "\\begin{equation}\n",
        "K(k)=\\int_{0}^{\\pi/2} \\frac{\\mathrm{d\\phi}}{\\sqrt{1-k^2\\sin^2\\phi}}\n",
        "\\end{equation}\n",
        "\n",
        "\n",
        "\\begin{equation}\n",
        "E(k)=\\int_{0}^{\\pi/2} \\mathrm{d\\phi} \\sqrt{1-k^2\\sin^2\\phi}\n",
        "\\end{equation}\n",
        "\n",
        "\n",
        "\\begin{equation}\n",
        "k^2=\\frac{4ar\\sin\\theta}{a^2+r^2+2ar\\sin\\theta}\n",
        "\\end{equation}\n",
        "\n",
        "\n",
        "\n",
        "Here K(k) is a complete elliptic integral of the first kind and E(k) is a complete\n",
        "elliptic integral of the second kind. For a = 1, I = 3, and μ0∕4π = 1, compute\n",
        "and plot\n",
        "\n",
        "a) Aφ(r = 1.1, θ) vs. θ.\n",
        "b) Aφ(r, θ = π∕3) vs. r\n",
        "\n",
        "\n",
        "#Resolver el punto b"
      ]
    },
    {
      "cell_type": "markdown",
      "metadata": {
        "id": "xMjd_PSCL3eq"
      },
      "source": [
        "Solución\n",
        "\n",
        "1. Identificar parametros iniciales \n",
        "2. Calcular k^2, Grafica. \n",
        "3. Evaluar las integrales\n",
        "4. Evaluar la funcion\n",
        "\n",
        "```\n",
        "def A (r, theta, phi, a, I ):\n",
        "  T1=Calculo \n",
        "  \n",
        "  I1 = trap(K)\n",
        "  T2 = Calulo \n",
        "  I2 = trap(E)\n",
        "  T3 = Calulo\n",
        "\n",
        "  return T1*T2*T3\n",
        "\n",
        "\n",
        "theta = np.linspace()\n",
        "Potencial=np.zeros(len(theta))\n",
        "\n",
        "for i, t in enumerate(theta):\n",
        "  Potencial[i] = A (r, theta, phi, a, I )\n",
        "\n",
        "\n",
        "```\n",
        "\n",
        "\n"
      ]
    },
    {
      "cell_type": "code",
      "metadata": {
        "id": "arU3zBKsN7WH"
      },
      "source": [
        "import numpy as np\n",
        "import matplotlib.pylab as plt\n",
        "from scipy import integrate"
      ],
      "execution_count": 18,
      "outputs": []
    },
    {
      "cell_type": "markdown",
      "metadata": {
        "id": "EmU7PLinNna_"
      },
      "source": [
        "\n",
        "# Funcion para k^2\n",
        "\n",
        "\\begin{equation}\n",
        "k^2=\\frac{4ar\\sin\\theta}{a^2+r^2+2ar\\sin\\theta}\n",
        "\\end{equation}\n",
        "\n",
        "para $theta=\\pi/2$\n",
        "\n",
        "\n",
        "---\n",
        "\n",
        "\n",
        "\n",
        "$k^2 = \\frac{4*1.1}{1+1.1^2+2*1.1}$\n",
        "\n"
      ]
    },
    {
      "cell_type": "code",
      "metadata": {
        "id": "nd4sxDgSHaEU"
      },
      "source": [
        "def k_square(r, theta, a):  \n",
        "  num = 4*a*r*np.sin(theta)\n",
        "  den = a**2+r**2+2*a*r*np.sin(theta) \n",
        "  return num/den\n",
        "\n",
        "theta = np.linspace(0, np.pi/2, 100)"
      ],
      "execution_count": 19,
      "outputs": []
    },
    {
      "cell_type": "code",
      "metadata": {
        "colab": {
          "base_uri": "https://localhost:8080/",
          "height": 298
        },
        "id": "oo4kym3WNypg",
        "outputId": "d381dc23-2f87-4114-de4f-a6397ca046f0"
      },
      "source": [
        "plt.plot(theta, k_square(1.1,theta, 1 ))\n",
        "plt.xlabel(\"$\\\\theta$\")\n",
        "plt.ylabel(\"$k^2(r, \\\\theta)$\")"
      ],
      "execution_count": 20,
      "outputs": [
        {
          "output_type": "execute_result",
          "data": {
            "text/plain": [
              "Text(0, 0.5, '$k^2(r, \\\\theta)$')"
            ]
          },
          "metadata": {},
          "execution_count": 20
        },
        {
          "output_type": "display_data",
          "data": {
            "image/png": "[encoded data removed]",
            "text/plain": [
              "<Figure size 432x288 with 1 Axes>"
            ]
          },
          "metadata": {
            "needs_background": "light"
          }
        }
      ]
    },
    {
      "cell_type": "markdown",
      "metadata": {
        "id": "UI1d_fd1P3P5"
      },
      "source": [
        "\\begin{equation}\n",
        "K(k)=\\int_{0}^{\\pi/2} \\frac{\\mathrm{d\\phi}}{\\sqrt{1-k^2\\sin^2\\phi}}\n",
        "\\end{equation}\n",
        "\n"
      ]
    },
    {
      "cell_type": "code",
      "metadata": {
        "id": "ItpXs3xbN47b"
      },
      "source": [
        "K_ = lambda k, phi: 1./np.sqrt( 1 - (k * np.sin(phi)) **2 )"
      ],
      "execution_count": 21,
      "outputs": []
    },
    {
      "cell_type": "code",
      "metadata": {
        "colab": {
          "base_uri": "https://localhost:8080/",
          "height": 282
        },
        "id": "tyjICQyxOES2",
        "outputId": "7e48dc84-6759-4ef6-b52a-ad7d9e4ae8f7"
      },
      "source": [
        "# Validacion de las funciones a integrar\n",
        "\n",
        "phi = np.linspace(0,np.pi/2, 100  )\n",
        "\n",
        "theta = np.pi/3\n",
        "k2 = k_square(1.1,theta , 1)\n",
        "plt.plot(phi, K_( np.sqrt(k2) , phi ), label=f\"theta={theta}\")\n",
        "\n",
        "theta = np.pi/4\n",
        "k2 = k_square(1.1,theta , 1)\n",
        "plt.plot(phi, K_( np.sqrt(k2) , phi ), label=f\"theta={theta}\")\n",
        "plt.legend()"
      ],
      "execution_count": 22,
      "outputs": [
        {
          "output_type": "execute_result",
          "data": {
            "text/plain": [
              "<matplotlib.legend.Legend at 0x7fc83b60ec90>"
            ]
          },
          "metadata": {},
          "execution_count": 22
        },
        {
          "output_type": "display_data",
          "data": {
            "image/png": "[encoded data removed]",
            "text/plain": [
              "<Figure size 432x288 with 1 Axes>"
            ]
          },
          "metadata": {
            "needs_background": "light"
          }
        }
      ]
    },
    {
      "cell_type": "code",
      "metadata": {
        "colab": {
          "base_uri": "https://localhost:8080/"
        },
        "id": "9UPd-TG0WdZx",
        "outputId": "34ff9fd1-0b35-4269-d008-b6c40cc99727"
      },
      "source": [
        "#Solucion de la Integral empleando el metodo de trapecio\n",
        "# para un valor theta, r, a \n",
        "\n",
        "phi = np.linspace(0, np.pi/2, 100 )\n",
        "theta = np.pi/3\n",
        "r = 1.1\n",
        "a = 1\n",
        "k2 = k_square(r, theta , a)\n",
        "y = K_( np.sqrt(k2) , phi )\n",
        "integrate.trapz(y, phi )"
      ],
      "execution_count": 23,
      "outputs": [
        {
          "output_type": "execute_result",
          "data": {
            "text/plain": [
              "2.720266476771735"
            ]
          },
          "metadata": {},
          "execution_count": 23
        }
      ]
    },
    {
      "cell_type": "markdown",
      "metadata": {
        "id": "6mtqp8MxRz_b"
      },
      "source": [
        "\n",
        "\\begin{equation}\n",
        "E(k)=\\int_{0}^{\\pi/2} \\mathrm{d\\phi} \\sqrt{1-k^2\\sin^2\\phi}\n",
        "\\end{equation}\n"
      ]
    },
    {
      "cell_type": "code",
      "metadata": {
        "id": "3lVVLu15QX9n"
      },
      "source": [
        "E_ = lambda k, phi: np.sqrt( 1 - (k * np.sin(phi)) **2 )"
      ],
      "execution_count": 24,
      "outputs": []
    },
    {
      "cell_type": "code",
      "metadata": {
        "colab": {
          "base_uri": "https://localhost:8080/",
          "height": 282
        },
        "id": "P8coUgCVR3k3",
        "outputId": "ddac0a07-2487-4377-e632-2313af6c133f"
      },
      "source": [
        "# Validacion de las funciones a integrar\n",
        "phi = np.linspace(0,np.pi/2, 100  )\n",
        "theta = np.pi/3\n",
        "\n",
        "\n",
        "plt.figure()\n",
        "k2 = k_square(1.1,theta , 1)\n",
        "plt.plot(phi, E_( np.sqrt(k2) , phi ), label=f\"theta={theta}\")\n",
        "\n",
        "theta = np.pi/4\n",
        "k2 = k_square(1.1,theta , 1)\n",
        "plt.plot(phi, E_( np.sqrt(k2) , phi ), label=f\"theta={theta}\")\n",
        "plt.legend()"
      ],
      "execution_count": 25,
      "outputs": [
        {
          "output_type": "execute_result",
          "data": {
            "text/plain": [
              "<matplotlib.legend.Legend at 0x7fc83b58df10>"
            ]
          },
          "metadata": {},
          "execution_count": 25
        },
        {
          "output_type": "display_data",
          "data": {
            "image/png": "[encoded data removed]",
            "text/plain": [
              "<Figure size 432x288 with 1 Axes>"
            ]
          },
          "metadata": {
            "needs_background": "light"
          }
        }
      ]
    },
    {
      "cell_type": "code",
      "metadata": {
        "colab": {
          "base_uri": "https://localhost:8080/"
        },
        "id": "aZjZcnweXb42",
        "outputId": "79a8323e-ea24-4c01-9c03-fd02192164a0"
      },
      "source": [
        "#Solucion de la Integral empleando el metodo de trapecio\n",
        "# para un valor theta, r, a \n",
        "\n",
        "phi = np.linspace(0, np.pi/2, 100 )\n",
        "theta = np.pi/3\n",
        "r = 1.1\n",
        "a = 1\n",
        "k2 = k_square(r, theta , a)\n",
        "y = E_( np.sqrt(k2) , phi )\n",
        "integrate.trapz(y, phi )"
      ],
      "execution_count": 26,
      "outputs": [
        {
          "output_type": "execute_result",
          "data": {
            "text/plain": [
              "1.0827297068809603"
            ]
          },
          "metadata": {},
          "execution_count": 26
        }
      ]
    },
    {
      "cell_type": "markdown",
      "metadata": {
        "id": "h7gHYBPxXrtT"
      },
      "source": [
        "\n",
        "\\begin{equation}\n",
        "A_{\\phi}(r, \\theta)=\\frac{\\mu_0}{4\\pi}\\frac{4Ia}{\\sqrt{a^2+r^2+2ar\\sin \\theta}}\\left(\\frac{(2-k^2)K(k)-2E(k)}{k^2} \\right)\n",
        "\\end{equation}\n"
      ]
    },
    {
      "cell_type": "code",
      "metadata": {
        "id": "KZFmxDn3Vtx2"
      },
      "source": [
        "# Calculo del potencial\n",
        "\n",
        "E_ = lambda k, phi: np.sqrt( 1 - (k * np.sin(phi)) **2 )\n",
        "K_ = lambda k, phi: 1./np.sqrt( 1 - (k * np.sin(phi)) **2 )\n",
        "\n",
        "def k_square(r, theta, a):  \n",
        "  num = 4*a*r*np.sin(theta)\n",
        "  den = a**2+r**2+2*a*r*np.sin(theta) \n",
        "  return num/den\n",
        "\n",
        "\n",
        "\n",
        "def Apotencial(r, theta, phi, a, I, cte = 1 ):\n",
        "  \n",
        "  T11 = cte*4*I*a\n",
        "  T12 = np.sqrt( a**2 + r**2 + 2*a*r*np.sin(theta))\n",
        "  T1 = T11/T12\n",
        "\n",
        "  k2 = k_square(r, theta, a)\n",
        "  T21 = (2 - k2)\n",
        "  T22 = integrate.trapz(  K_(np.sqrt(k2), phi), phi)\n",
        "  T2 = T21*T22\n",
        "\n",
        "  T3 =  integrate.trapz(  E_(np.sqrt(k2), phi), phi)\n",
        "  A = T1*(T2 - 2*T3)/k2\n",
        "\n",
        "  return A\n",
        "\n",
        "  \n"
      ],
      "execution_count": 27,
      "outputs": []
    },
    {
      "cell_type": "code",
      "metadata": {
        "colab": {
          "base_uri": "https://localhost:8080/"
        },
        "id": "yiIO8lZ8ZloR",
        "outputId": "a660c9fc-1777-4598-e7a0-ae30c89abcff"
      },
      "source": [
        "# Paramtros \n",
        "theta = np.pi/3\n",
        "r = 1.1\n",
        "a = 1.0\n",
        "I = 3.0\n",
        "phi = np.linspace(0, np.pi/2, 100)\n",
        "\n",
        "A = Apotencial(r, theta, phi, a, I, cte = 1 )\n",
        "print(A)"
      ],
      "execution_count": 28,
      "outputs": [
        {
          "output_type": "stream",
          "name": "stdout",
          "text": [
            "4.831268608470725\n"
          ]
        }
      ]
    },
    {
      "cell_type": "code",
      "metadata": {
        "id": "ZWRT2XeNZ4vw"
      },
      "source": [
        "r = 1.1 # Punto donde calcular el potencial \n",
        "a = 1.0 # RAdio de la espira, unidades computacionales\n",
        "I = 3.0 #Corriente que circula por la espira, unidades computacionales\n",
        "N = 100 # Numero o resolución en theta y phi\n",
        "\n",
        "\n",
        "theta = np.linspace(0.01, np.pi/2, N)\n",
        "phi = np.linspace(0, np.pi/2, N)\n",
        "\n",
        "Ap = np.zeros(len(theta))\n",
        "\n",
        "for i, t in enumerate(theta):\n",
        "    Ap[i] = Apotencial(r, t, phi, a, I, cte = 1 )\n",
        "\n"
      ],
      "execution_count": 29,
      "outputs": []
    },
    {
      "cell_type": "code",
      "metadata": {
        "colab": {
          "base_uri": "https://localhost:8080/",
          "height": 302
        },
        "id": "LLZgdfKnbVI-",
        "outputId": "b9896ace-9ef8-424d-b49e-4713473ad793"
      },
      "source": [
        "plt.plot(theta, Ap)\n",
        "plt.xlim(0.1, np.pi)\n",
        "plt.ylim(0,100)\n",
        "plt.xlabel(\"$\\\\theta$\")\n",
        "plt.ylabel(\"$A(r=1.1, \\\\theta)$\")"
      ],
      "execution_count": 30,
      "outputs": [
        {
          "output_type": "execute_result",
          "data": {
            "text/plain": [
              "Text(0, 0.5, '$A(r=1.1, \\\\theta)$')"
            ]
          },
          "metadata": {},
          "execution_count": 30
        },
        {
          "output_type": "display_data",
          "data": {
            "image/png": "[encoded data removed]",
            "text/plain": [
              "<Figure size 432x288 with 1 Axes>"
            ]
          },
          "metadata": {
            "needs_background": "light"
          }
        }
      ]
    },
    {
      "cell_type": "markdown",
      "metadata": {
        "id": "0Zi_xCADkP5f"
      },
      "source": [
        "##**Parte B** "
      ]
    },
    {
      "cell_type": "code",
      "metadata": {
        "colab": {
          "base_uri": "https://localhost:8080/",
          "height": 370
        },
        "id": "K-zb754RkdEX",
        "outputId": "1af44aa6-a78b-474b-e0c5-a0b6df0c6805"
      },
      "source": [
        "from scipy import integrate\n",
        "\n",
        "\n",
        "θ = np.pi/3 # Punto donde calcular el potencial \n",
        "a = 1.0 # RAdio de la espira, unidades computacionales\n",
        "I = 3.0 #Corriente que circula por la espira, unidades computacionales\n",
        "N = 100 # Numero o resolución en r y phi\n",
        "ϕ = np.linspace(0,np.pi/2,N)\n",
        "\n",
        "\n",
        "def k(r, θ, a):  \n",
        "  num = 4*a*r*np.sin(θ)\n",
        "  den = a**2+r**2+2*a*r*np.sin(θ) \n",
        "  return np.sqrt(num/den)\n",
        "\n",
        "K = lambda k,ϕ: 1 /(np.sqrt(1-(k * np.sin(ϕ))**2))\n",
        "E = lambda k,ϕ: np.sqrt(1-(k * np.sin(ϕ))**2)\n",
        "\n",
        "r = 1.1\n",
        "\n",
        "#Integrales utilizando el método del trapecio para r = 1.1\n",
        "g = integrate.trapz(K(k(r,θ,a),ϕ),ϕ)\n",
        "h = integrate.trapz(E(k(r,θ,a),ϕ),ϕ)\n",
        "print(g,h)\n",
        "\n",
        "u = np.linspace(0,np.pi/2,100)\n",
        "i = np.linspace(0,10,100)\n",
        "\n",
        "plt.figure(figsize=(10,5))\n",
        "\n",
        "plt.subplot(122)\n",
        "\n",
        "plt.title(\"k vs $\\\\theta$\")\n",
        "plt.plot(u,k(1.1,u,1))\n",
        "plt.xlabel(\"$\\\\theta$\")\n",
        "plt.ylabel(\"k^2\")\n",
        "\n",
        "plt.subplot(121)\n",
        "plt.title(\"k vs r\")\n",
        "plt.plot(i,k(i,np.pi/3,1))\n",
        "plt.xlabel(\"r\")\n",
        "plt.ylabel(\"k^2\")\n",
        "\n",
        "plt.show()"
      ],
      "execution_count": 31,
      "outputs": [
        {
          "output_type": "stream",
          "name": "stdout",
          "text": [
            "2.720266476771735 1.0827297068809603\n"
          ]
        },
        {
          "output_type": "display_data",
          "data": {
            "image/png": "[encoded data removed]",
            "text/plain": [
              "<Figure size 720x360 with 2 Axes>"
            ]
          },
          "metadata": {
            "needs_background": "light"
          }
        }
      ]
    },
    {
      "cell_type": "markdown",
      "metadata": {
        "id": "J4M0BBVK7-OY"
      },
      "source": [
        "\n",
        "\\begin{equation}\n",
        "A_{\\phi}(r, \\theta)=\\frac{\\mu_0}{4\\pi}\\frac{4Ia}{\\sqrt{a^2+r^2+2ar\\sin \\theta}}\\left(\\frac{(2-k^2)K(k)-2E(k)}{k^2} \\right)\n",
        "\\end{equation}\n"
      ]
    },
    {
      "cell_type": "code",
      "metadata": {
        "id": "ZQRXpwUPsuB-"
      },
      "source": [
        "#Calculo del Potencial \n",
        "\n",
        "def k_cuadrado(r, theta, a):  \n",
        "  num = 4*a*r*np.sin(theta)\n",
        "  den = a**2+r**2+2*a*r*np.sin(theta) \n",
        "  return num/den\n",
        "\n",
        "K = lambda k,ϕ: 1. /(np.sqrt(1-(k * np.sin(ϕ))**2))\n",
        "E = lambda k,ϕ: np.sqrt(1-(k * np.sin(ϕ))**2)\n",
        "\n",
        "def A_potencial(r,theta,phi,a,I,ctc = 1):\n",
        "  T11 = ctc*4*I*a\n",
        "  T12 = np.sqrt(a**2 + r**2 + 2*a*r*np.sin(theta))\n",
        "\n",
        "  k = k_cuadrado(r,theta,a)\n",
        "  T21 = (2-k)\n",
        "  T22 = integrate.trapz(K(np.sqrt(k),phi),phi)\n",
        "\n",
        "  T1 = T11/T12\n",
        "  T2 = T21 * T22\n",
        "  T3 = integrate.trapz(E(np.sqrt(k),phi),phi)\n",
        "\n",
        "  A = T1 * (T2 - 2*T3) / k\n",
        "\n",
        "  return A\n",
        "\n"
      ],
      "execution_count": 32,
      "outputs": []
    },
    {
      "cell_type": "code",
      "metadata": {
        "colab": {
          "base_uri": "https://localhost:8080/"
        },
        "id": "OzwUUkc9vcwD",
        "outputId": "57b8f6e5-a457-42ed-8be5-1236203d73bd"
      },
      "source": [
        "### Calculo del potencial para un punto particular\n",
        "\n",
        "θ = np.pi/3 \n",
        "a = 1.0 # RAdio de la espira, unidades computacionales\n",
        "I = 3.0 #Corriente que circula por la espira, unidades computacionales\n",
        "N = 100 # Numero o resolución en r y phi\n",
        "r = 1.1 # Punto donde calcular el potencial \n",
        "ϕ = np.linspace(0,np.pi/2,100)\n",
        "\n",
        "A_potencial(r,θ,ϕ,a,I)"
      ],
      "execution_count": 33,
      "outputs": [
        {
          "output_type": "execute_result",
          "data": {
            "text/plain": [
              "4.831268608470725"
            ]
          },
          "metadata": {},
          "execution_count": 33
        }
      ]
    },
    {
      "cell_type": "code",
      "metadata": {
        "colab": {
          "base_uri": "https://localhost:8080/",
          "height": 314
        },
        "id": "9Kxhqs23-POA",
        "outputId": "3dd2a40a-8d5f-413a-d6a6-ed362a50a1d4"
      },
      "source": [
        "θ = np.pi/3 # Punto donde calcular el potencial\n",
        "a = 1.0 # RAdio de la espira, unidades computacionales\n",
        "I = 3.0 #Corriente que circula por la espira, unidades computacionales\n",
        "N = 100 # Numero o resolución en r y phi\n",
        "\n",
        "\n",
        "r = np.linspace(0.01,10,N)\n",
        "ϕ = np.linspace(0,np.pi/2,100)\n",
        "\n",
        "\n",
        "Ap = np.zeros(len(r))\n",
        "for i,t in enumerate(r):\n",
        "  Ap[i] = A_potencial(t,θ,ϕ,a,I)\n",
        "\n",
        "plt.title(\"A(r,$\\\\theta)$ vs r \")\n",
        "plt.plot(r,Ap)\n",
        "plt.xlabel(\"r\")\n",
        "plt.ylabel(\"$A(r,\\\\theta)$\")"
      ],
      "execution_count": 34,
      "outputs": [
        {
          "output_type": "execute_result",
          "data": {
            "text/plain": [
              "Text(0, 0.5, '$A(r,\\\\theta)$')"
            ]
          },
          "metadata": {},
          "execution_count": 34
        },
        {
          "output_type": "display_data",
          "data": {
            "image/png": "[encoded data removed]",
            "text/plain": [
              "<Figure size 432x288 with 1 Axes>"
            ]
          },
          "metadata": {
            "needs_background": "light"
          }
        }
      ]
    }
  ]
}