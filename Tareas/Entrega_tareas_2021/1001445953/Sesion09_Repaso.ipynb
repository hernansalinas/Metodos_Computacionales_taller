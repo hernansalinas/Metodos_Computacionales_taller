{
  "nbformat": 4,
  "nbformat_minor": 0,
  "metadata": {
    "colab": {
      "name": "Sesion09_Repaso.ipynb",
      "provenance": [],
      "collapsed_sections": []
    },
    "kernelspec": {
      "display_name": "Python 3",
      "name": "python3"
    },
    "language_info": {
      "name": "python"
    }
  },
  "cells": [
    {
      "cell_type": "markdown",
      "metadata": {
        "id": "MqAnAQCz6mQe"
      },
      "source": [
        "# Problemas \n",
        "\n",
        "#1. Area \n",
        "Hallar el área de un segmento circular cuya area sea igual a una cuarta parte del área del circulo. Para la solución se sugiere lo siguiente:\n",
        "\n",
        "a) Encontrar la ecuacion trascendental.\n",
        "\n",
        "b) Con la ecuación anterior, definir una funcion $f(\\theta)=0$. Emplee la funcion labmda de python.\n",
        "\n",
        "c) Construir una data frame de pandas con la columna \"theta\" con 1000 registros(filas) entre $[-2\\pi, 2\\pi]$. Sugerencia, para construir el data frame emplee la función linspace como sigue : np.linspace(-2*np.pi, 2*np.pi, 1000 )\n",
        "\n",
        "d) Construir una segunda columna titulada \"F_theta\" con los registros f(theta)\n",
        "\n",
        "f) Realice un gráfico de  \"F_theta\" vs \"theta\". Identifique el intervalo de la raiz.\n",
        "\n",
        "Estime el valor del ángulo empleando los siguientes metodos(Emplee  la documentacion):\n",
        "\n",
        "g) [Bisección](https://docs.scipy.org/doc/scipy/reference/generated/scipy.optimize.bisect.html)\n",
        "\n",
        "h) [Newton-Rapshon](https://docs.scipy.org/doc/scipy/reference/generated/scipy.optimize.newton.html)\n",
        "\n",
        "i) [Secante](https://docs.scipy.org/doc/scipy/reference/generated/scipy.optimize.newton.html) \n",
        "\n",
        "j) [Punto Fijo](https://docs.scipy.org/doc/scipy/reference/generated/scipy.optimize.fixed_point.html)"
      ]
    },
    {
      "cell_type": "code",
      "metadata": {
        "id": "CkMPBICd6yJM"
      },
      "source": [
        "#Importamos las librerias\n",
        "import numpy as np\n",
        "import pandas as pd\n",
        "import matplotlib.pyplot as plt\n",
        "import scipy as sp\n",
        "from scipy import optimize\n",
        "from scipy import interpolate "
      ],
      "execution_count": 35,
      "outputs": []
    },
    {
      "cell_type": "code",
      "metadata": {
        "colab": {
          "base_uri": "https://localhost:8080/",
          "height": 364
        },
        "id": "LSu86XV485Vh",
        "outputId": "d52a8a2a-48a6-45d3-fde6-e04ef6f89930"
      },
      "source": [
        "#A) Encontrar la ecuación trascendental\n",
        "\"\"\"θ - sen(θ) = π/2\"\"\"\n",
        "\n",
        "#B) Con la ecuación anterior, definir una funcion  f(θ)=0 . Emplee la funcion labmda de python.\n",
        "\n",
        "f = lambda θ: θ - np.sin(θ) - np.pi/2 \n",
        "\n",
        "#C) Construir una data frame de pandas con la columna \"theta\" con 1000 registros\n",
        "#(filas) entre  [−2π,2π] . Sugerencia, para construir el data frame emplee la función l\n",
        "#inspace como sigue : np.linspace(-2np.pi, 2np.pi, 1000 )\n",
        "\n",
        "θ = np.linspace(-2*np.pi, 2*np.pi, 1000 )\n",
        "\n",
        "df = pd.DataFrame()\n",
        "df['θ'] = θ\n",
        "df['f(θ)']= f(θ)\n",
        "\n",
        "plt.plot(θ,f(θ))\n",
        "plt.xlabel(\"θ\")\n",
        "plt.ylabel(\"f(θ)\")\n",
        "plt.grid()\n",
        "plt.show()\n",
        "\n",
        "#Metodo de la Bisección\n",
        "root_b = optimize.bisect(f, -2*np.pi, 2*np.pi)\n",
        "print(\"\\nPor el metodo de la bisección se obtiene: {}\".format(root_b))\n",
        "\n",
        "\"\"\"\n",
        "Tarea: Terminar de probar los otros métodos \n",
        "\"\"\"\n",
        "\n",
        "#Metodo del punto fijo\n",
        "\n",
        "root_fp = optimize.fixed_point(lambda θ: θ - f(θ),0)\n",
        "print(\"Por el metodo de punto fijo se obtiene: {}\".format(root_fp))\n",
        "\n",
        "#Metodo de la secante\n",
        "root_s = optimize.newton(f,2)\n",
        "print(\"Por el metodo de la secante se obtiene: {}\".format(root_s))\n",
        "\n",
        "#Metodo de Newton \n",
        "\n",
        "root_nr = optimize.newton(f,2,fprime= lambda θ: 1 - np.cos(θ)) \n",
        "print(\"Por el metodo de Newton raphson se obtiene: {}\".format(root_nr))"
      ],
      "execution_count": 36,
      "outputs": [
        {
          "output_type": "display_data",
          "data": {
            "image/png": "[encoded data removed]",
            "text/plain": [
              "<Figure size 432x288 with 1 Axes>"
            ]
          },
          "metadata": {
            "tags": [],
            "needs_background": "light"
          }
        },
        {
          "output_type": "stream",
          "text": [
            "\n",
            "Por el metodo de la bisección se obtiene: 2.3098814600101703\n",
            "Por el metodo de punto fijo se obtiene: 2.309881460010057\n",
            "Por el metodo de la secante se obtiene: 2.309881460010033\n",
            "Por el metodo de Newton raphson se obtiene: 2.3098814600100575\n"
          ],
          "name": "stdout"
        }
      ]
    },
    {
      "cell_type": "markdown",
      "metadata": {
        "id": "VpZWUHTP6rIo"
      },
      "source": [
        "# 2. Movimiento de proyectiles en presencia de viento.\n",
        "\n",
        "Supongamos que un proyectil es lanzado desde el origen con una rapidez $v=vo( \\cos \\theta , \\sin \\theta $. Supongamos además que el efecto del viento sobre el proyectil es el de una fuerza proporcional a la velocidad relativa entre el viento y el proyectil. Teniendo presente que si u es la velocidad del viento y $\\alpha$ el ángulo que hace dirección de esta velocidad con el eje x, se puede entrontrar las siguientes ecuaciones diferenciales, asociada al estado de movimiento del [proyectil](https://iopscience.iop.org/article/10.1088/0143-0807/36/2/025016/meta):\n",
        "\n",
        "\n",
        "\\begin{equation}\n",
        "m\\frac{dv_x}{dt} = -mb(v_x-u\\cos \\alpha )\n",
        "\\end{equation}\n",
        "\n",
        "\\begin{equation}\n",
        "m\\frac{dv_y}{dt} = -mg-mb(v_x-u\\sin \\alpha ),\n",
        "\\end{equation}\n",
        "\n",
        "donde b es el párametro de rozamiento. La soluciones a las ecuaciones anteriores vienen dadas por:\n",
        "\n",
        "Posición en x\n",
        "\\begin{equation}\n",
        "x=(u\\cos \\alpha) t + \\frac{1}{b} (v_0\\cos \\theta_0 -u \\cos\\alpha)(1-\\mathrm{exp}(-bt))\n",
        "\\end{equation}\n",
        "\n",
        "Posicion en y \n",
        "\\begin{equation}\n",
        "y= \\frac{1}{b}\\left(\\frac{g}{b}+v_0 \\sin \\theta_0 -u\\sin\\alpha \\right)(1-\\mathrm{exp}(-bt))-\\left( \\frac{g}{b}-u\\sin\\alpha\\right)t\n",
        "\\end{equation}\n",
        "\n",
        "Ver imagen:  http://www.sc.ehu.es/sbweb/fisica3/fluidos/viento/parabolico.html\n",
        "\n",
        "\n",
        "0. Establezca las siguietnes condiciones inciales.\n",
        "\n",
        "```\n",
        "#Parametros iniciales\n",
        "\n",
        "v0 = 60 #Velocidad en m/s\n",
        "alpha = np.pi #Angulo del viento\n",
        "theta = np.deg2rad(45) #Angulo de lanzamiento\n",
        "u = v0/2             #rapidez del viento\n",
        "b = 0.05             #Parametro de friccion \n",
        "g = 9.8                #Aceleracion de la gravedad m/s2\n",
        "\n",
        "Params = (alpha, v0, b, u,g)  #Parametros en tupla.\n",
        "\n",
        "```\n",
        "\n",
        "\n",
        "\n",
        "1. Defina dos funciones, una para x y otra para y. \n",
        "\n",
        "```\n",
        "\n",
        "#Posicion en x\n",
        "def pos_x(t, theta, alpha, v0, b, u,g):\n",
        "  x = #escriba aca la expresión\n",
        "  return x\n",
        "\n",
        "#Posicion en y\n",
        "def pos_y(t, theta, alpha, v0, b, u,g):\n",
        "\n",
        "\n",
        "  y = #escriba aca la expresión\n",
        "  return y \n",
        "\n",
        "```\n",
        "\n",
        "2. Construya un diccionario con las claves \"X\", \"Y\", \"Tiempo\"\n",
        "\n",
        "3. Con el diccionario construya un data frame de pandas llamado df con los nombres de columnas \"X\", \"Y\", \"Tiempo\"  https://pandas.pydata.org/docs/reference/api/pandas.DataFrame.from_dict.html. Defina 1000 regitros para el intervalo de tiempo elegido.\n",
        "\n",
        "\n",
        "4. Realice un gráfico de x como función del tiempo, de y como función del tiempo y la trayectoria de la partícula (df[\"X\"], df[\"tiempo\"], df[\"Y\"]).\n",
        "\n",
        "\n",
        "5. Determine el alcance máximo de la partícula, para ello tome  la solucion teórica con $y=0$, solucione numéricamente la ecuación para t y remplace este valor en la ecuación para x. Resuelvalo para $\\theta=45^{o}$.  \n",
        "\n",
        "6. Construya una  grafica del alcance máximo R como función de $\\theta$, varie $\\theta$  entre 10 y 80 grados cada 5 grados.\n",
        "\n",
        "7. Realice una interpolacion de R como función de theta.\n",
        "\n",
        "\n",
        "\n",
        "\n",
        "\n"
      ]
    },
    {
      "cell_type": "code",
      "metadata": {
        "colab": {
          "base_uri": "https://localhost:8080/",
          "height": 419
        },
        "id": "9LjWAdK-a9cM",
        "outputId": "2eb40e09-857b-43e5-dbf9-bacac879b809"
      },
      "source": [
        "\n",
        "#Parametros Iniciales\n",
        "v0 = 60                   #Velocidad en m/s\n",
        "alpha = np.pi             #Angulo del viento\n",
        "theta = np.deg2rad(45)    #Angulo de lanzamiento\n",
        "u = v0/2                  #rapidez del viento\n",
        "b = 0.05                  #Parametro de friccion \n",
        "g = 9.8                   #Aceleracion de la gravedad m/s2\n",
        "t = np.linspace(0, 12, 1000) #Tiempo \n",
        "Params = (alpha, v0, b, u, g)  #Parametros en tupla.\n",
        "\n",
        "\n",
        "#Posicion en x\n",
        "def pos_x(t, theta, alpha, v0, b, u,g):\n",
        "  T1 = u * t * np.cos(alpha) #Termino 1\n",
        "  T2 = (1./b)*(v0*np.cos(theta) - u*np.cos(alpha) ) #Termino 2\n",
        "  T3 = (1 - np.e**(-b*t)) #Termino 3\n",
        "\n",
        "  return T1 + T2*T3 \n",
        "    \n",
        "#Posicion en y\n",
        "def pos_y(t, theta, alpha, v0, b, u,g):\n",
        "\n",
        "  T1 = (1./b)*(g/b + v0*np.sin(theta) - u*np.sin(alpha) ) #termino 1\n",
        "  T2 = (1 - np.e**(- b * t)) #termino 2\n",
        "  T3 = (g / b - u *  np.sin(alpha))*t #termino 3\n",
        "\n",
        "  return T1* T2 - T3\n",
        "\n",
        "x = pos_x(t,theta, *Params)  \n",
        "y = pos_y(t,theta, *Params)\n",
        "pos = {'X':x,'Y':y,'Tiempo':t}\n",
        "\n",
        "df = pd.DataFrame(pos)\n",
        "df"
      ],
      "execution_count": 37,
      "outputs": [
        {
          "output_type": "execute_result",
          "data": {
            "text/html": [
              "<div>\n",
              "<style scoped>\n",
              "    .dataframe tbody tr th:only-of-type {\n",
              "        vertical-align: middle;\n",
              "    }\n",
              "\n",
              "    .dataframe tbody tr th {\n",
              "        vertical-align: top;\n",
              "    }\n",
              "\n",
              "    .dataframe thead th {\n",
              "        text-align: right;\n",
              "    }\n",
              "</style>\n",
              "<table border=\"1\" class=\"dataframe\">\n",
              "  <thead>\n",
              "    <tr style=\"text-align: right;\">\n",
              "      <th></th>\n",
              "      <th>X</th>\n",
              "      <th>Y</th>\n",
              "      <th>Tiempo</th>\n",
              "    </tr>\n",
              "  </thead>\n",
              "  <tbody>\n",
              "    <tr>\n",
              "      <th>0</th>\n",
              "      <td>0.000000</td>\n",
              "      <td>0.000000</td>\n",
              "      <td>0.000000</td>\n",
              "    </tr>\n",
              "    <tr>\n",
              "      <th>1</th>\n",
              "      <td>0.509365</td>\n",
              "      <td>0.508767</td>\n",
              "      <td>0.012012</td>\n",
              "    </tr>\n",
              "    <tr>\n",
              "      <th>2</th>\n",
              "      <td>1.018208</td>\n",
              "      <td>1.015814</td>\n",
              "      <td>0.024024</td>\n",
              "    </tr>\n",
              "    <tr>\n",
              "      <th>3</th>\n",
              "      <td>1.526530</td>\n",
              "      <td>1.521144</td>\n",
              "      <td>0.036036</td>\n",
              "    </tr>\n",
              "    <tr>\n",
              "      <th>4</th>\n",
              "      <td>2.034329</td>\n",
              "      <td>2.024756</td>\n",
              "      <td>0.048048</td>\n",
              "    </tr>\n",
              "    <tr>\n",
              "      <th>...</th>\n",
              "      <td>...</td>\n",
              "      <td>...</td>\n",
              "      <td>...</td>\n",
              "    </tr>\n",
              "    <tr>\n",
              "      <th>995</th>\n",
              "      <td>293.088350</td>\n",
              "      <td>-197.372876</td>\n",
              "      <td>11.951952</td>\n",
              "    </tr>\n",
              "    <tr>\n",
              "      <th>996</th>\n",
              "      <td>293.206454</td>\n",
              "      <td>-198.152137</td>\n",
              "      <td>11.963964</td>\n",
              "    </tr>\n",
              "    <tr>\n",
              "      <th>997</th>\n",
              "      <td>293.324270</td>\n",
              "      <td>-198.932344</td>\n",
              "      <td>11.975976</td>\n",
              "    </tr>\n",
              "    <tr>\n",
              "      <th>998</th>\n",
              "      <td>293.441798</td>\n",
              "      <td>-199.713495</td>\n",
              "      <td>11.987988</td>\n",
              "    </tr>\n",
              "    <tr>\n",
              "      <th>999</th>\n",
              "      <td>293.559040</td>\n",
              "      <td>-200.495591</td>\n",
              "      <td>12.000000</td>\n",
              "    </tr>\n",
              "  </tbody>\n",
              "</table>\n",
              "<p>1000 rows × 3 columns</p>\n",
              "</div>"
            ],
            "text/plain": [
              "              X           Y     Tiempo\n",
              "0      0.000000    0.000000   0.000000\n",
              "1      0.509365    0.508767   0.012012\n",
              "2      1.018208    1.015814   0.024024\n",
              "3      1.526530    1.521144   0.036036\n",
              "4      2.034329    2.024756   0.048048\n",
              "..          ...         ...        ...\n",
              "995  293.088350 -197.372876  11.951952\n",
              "996  293.206454 -198.152137  11.963964\n",
              "997  293.324270 -198.932344  11.975976\n",
              "998  293.441798 -199.713495  11.987988\n",
              "999  293.559040 -200.495591  12.000000\n",
              "\n",
              "[1000 rows x 3 columns]"
            ]
          },
          "metadata": {
            "tags": []
          },
          "execution_count": 37
        }
      ]
    },
    {
      "cell_type": "code",
      "metadata": {
        "colab": {
          "base_uri": "https://localhost:8080/",
          "height": 350
        },
        "id": "VVoqYlTNdHFf",
        "outputId": "218da563-52b8-4a2f-fa99-2ecb84f625a1"
      },
      "source": [
        "#Grafico\n",
        "plt.figure(figsize=(10,5))\n",
        "plt.subplot(121)\n",
        "plt.plot(df['Tiempo'],df['X'], label = \"Pos_x\")\n",
        "plt.plot(df['Tiempo'],df['Y'], label = \"Pos_y\")\n",
        "plt.legend()\n",
        "plt.title(\"Theta = \" + str(\"%.3lf\"%theta))\n",
        "plt.xlabel(\"t(s)\")\n",
        "plt.ylabel(\"posición(m)\")\n",
        "plt.grid()\n",
        "\n",
        "\n",
        "#Trayectoria de la parcitula \n",
        "plt.subplot(122)\n",
        "plt.plot(df['X'],df['Y'], label = \"Posicion\")\n",
        "plt.legend()\n",
        "plt.title(\"Theta = \" + str(\"%.3lf\"%theta))\n",
        "plt.xlabel(\"X(m)\")\n",
        "plt.ylabel(\"Y(m)\")\n",
        "plt.grid()\n",
        "plt.show()"
      ],
      "execution_count": 38,
      "outputs": [
        {
          "output_type": "display_data",
          "data": {
            "image/png": "[encoded data removed]",
            "text/plain": [
              "<Figure size 720x360 with 2 Axes>"
            ]
          },
          "metadata": {
            "tags": [],
            "needs_background": "light"
          }
        }
      ]
    },
    {
      "cell_type": "code",
      "metadata": {
        "colab": {
          "base_uri": "https://localhost:8080/"
        },
        "id": "tVMQ5e2Og2IQ",
        "outputId": "7ba3403d-b1e0-41ea-f4ea-cb9e2d9eca28"
      },
      "source": [
        "#5)  Alcance maximo de la particula \n",
        "\n",
        "root_y = optimize.fixed_point(lambda t: t - pos_y(t,theta, *Params),8, maxiter=2000)  #Instante de tiempo donde y = 0\n",
        "print(\"El instante en que y = 0 es en: {}s\".format(root_y))\n",
        "alc_max_x_1 = pos_x(root_y,theta,*Params)                     #Posicion x en el instante t donde y = 0\n",
        "print(\"Alcance maximo con θ = 45° es: {}\".format(alc_max_x_1))\n"
      ],
      "execution_count": 39,
      "outputs": [
        {
          "output_type": "stream",
          "text": [
            "El instante en que y = 0 es en: 8.111627022095586s\n",
            "Alcance maximo con θ = 45° es: 239.60614945520737\n"
          ],
          "name": "stdout"
        }
      ]
    },
    {
      "cell_type": "code",
      "metadata": {
        "colab": {
          "base_uri": "https://localhost:8080/",
          "height": 295
        },
        "id": "lOZIfoitWURn",
        "outputId": "2edb1ed2-ed45-4ce0-c6cf-46e18d3c2904"
      },
      "source": [
        "#6) Construya una grafica del alcance máximo R como función de  θ , varie  θ  entre 10 y 80 grados cada 5 grados.\n",
        "\n",
        "θ = np.arange(10,95,5)        #Intervalo de angulos \n",
        "\n",
        "alc_max = []                  #Lista de los alcances maximos \n",
        "for i in θ:\n",
        "  root_yθ = optimize.fixed_point(lambda t: t - pos_y(t,np.deg2rad(i), *Params),12, maxiter=2000) #Instante t donde y = 0 para cada angulo\n",
        "  max = pos_x(root_yθ,np.deg2rad(i),*Params)     #Alcance maximo para cada angulo \n",
        "  alc_max.append(max)\n",
        "\n",
        "#Grafica \n",
        "plt.figure()\n",
        "plt.title(\"R vs θ\")\n",
        "plt.plot(θ,alc_max,'bo')\n",
        "plt.plot(θ,alc_max)\n",
        "plt.xlabel(\" Angulo (°)\")\n",
        "plt.ylabel(\"Alcance Maximo en X (m)\")\n",
        "plt.grid()\n",
        "plt.show()"
      ],
      "execution_count": 40,
      "outputs": [
        {
          "output_type": "display_data",
          "data": {
            "image/png": "[encoded data removed]",
            "text/plain": [
              "<Figure size 432x288 with 1 Axes>"
            ]
          },
          "metadata": {
            "tags": [],
            "needs_background": "light"
          }
        }
      ]
    },
    {
      "cell_type": "code",
      "metadata": {
        "id": "ud1baBX0hZO4",
        "colab": {
          "base_uri": "https://localhost:8080/",
          "height": 350
        },
        "outputId": "d5ed2e25-c0fa-4320-8a59-e7ec78716a4d"
      },
      "source": [
        "#7) Realice una interpolacion de R como función de theta.\n",
        "\n",
        "#Interpolacion con numpy \n",
        "coef = np.polyfit(θ,alc_max,3)\n",
        "p = np.poly1d(coef)\n",
        "\n",
        "#Interpolación con scipy\n",
        "f = interpolate.interp1d(θ,alc_max,kind='linear')\n",
        "\n",
        "\n",
        "#Graficos de la interpolación \n",
        "plt.figure(figsize=(10,5))\n",
        "\n",
        "#Grafico de la Interpolacion con numpy \n",
        "plt.subplot(121)\n",
        "a = np.linspace(10,90,100)\n",
        "plt.plot(θ,alc_max,'ro', label = \"Valores\")\n",
        "plt.plot(a,p(a), label = \"Interpolación\")\n",
        "plt.legend()\n",
        "plt.title(\"Interpolación con Numpy\")\n",
        "plt.xlabel(\" Angulo (°)\")\n",
        "plt.ylabel(\"Alcance Maximo en X (m)\")\n",
        "plt.grid()\n",
        "\n",
        "#Grafico de la Interpolación con scipy\n",
        "plt.subplot(122)\n",
        "plt.plot(θ,alc_max,'bo', label = \"Valores\")\n",
        "plt.plot(a,f(a),label = \"Interpolación\",color = \"magenta\")\n",
        "plt.legend()\n",
        "plt.title(\"Interpolación con Scipy\")\n",
        "plt.xlabel(\" Angulo (°)\")\n",
        "plt.ylabel(\"Alcance Maximo en X (m)\")\n",
        "plt.grid()"
      ],
      "execution_count": 44,
      "outputs": [
        {
          "output_type": "display_data",
          "data": {
            "image/png": "[encoded data removed]",
            "text/plain": [
              "<Figure size 720x360 with 2 Axes>"
            ]
          },
          "metadata": {
            "tags": [],
            "needs_background": "light"
          }
        }
      ]
    }
  ]
}