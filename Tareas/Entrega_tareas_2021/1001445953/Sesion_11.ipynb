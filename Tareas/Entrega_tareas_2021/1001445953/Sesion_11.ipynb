{
  "nbformat": 4,
  "nbformat_minor": 0,
  "metadata": {
    "colab": {
      "name": "Sesion_11.ipynb",
      "provenance": [],
      "collapsed_sections": []
    },
    "kernelspec": {
      "display_name": "Python 3",
      "name": "python3"
    },
    "language_info": {
      "name": "python"
    }
  },
  "cells": [
    {
      "cell_type": "markdown",
      "metadata": {
        "id": "TpT4NGQY-0Nk"
      },
      "source": [
        "# 1.0 Derivadas \n",
        "\n",
        "En el metodo Smoothed-particle hydrodynamics (SPH) se emplean diferentes kernel de aproximación para calcular las propiedades de un fluído en cada punto del espacio. Uno de ellos es el Kernel de Lucy detallado a continuación:\n",
        "\n",
        "$ W(r,h) = \\alpha_{D} \\left\\lbrace \\begin{array}{c} (1+3q)(1-q^3) ~~ 0 \\leq q < h \\\\ 0~otro~caso \\end{array}\\right\\rbrace$\n",
        "\n",
        "donde $  q = \\frac{|(\\overrightarrow{r}-\\overrightarrow{r}´)|}{h}$\n",
        "\n",
        "y $\\alpha_{D}$ es llamada es la constante de normalización:\n",
        "\n",
        "*   en 2 dimensiones, viene dada por: $\\alpha_{D} = \\frac{5}{\\pi h^2}$ \n",
        "*   en 3 dimensiones, viene dada por: $\\alpha_{D} = \\frac{105}{16\\pi h^3}$ \n",
        "\n",
        "Para el kernel de Lucy en 2D encontrar su derivada a través de los siguientes pasos:\n",
        "\n",
        "1.  Realizar un gráfico del kernel de Lucy.\n",
        "2.   Encontrar la derivada empleanda la libreria simbolica\n",
        "3.   Realizar un grafico de los cálculos encontrados con la libreria simbólica y comparar con la derivada numérica de los datos del punto 1.\n",
        "\n",
        "Recuerde siempre comparar sus resultados con sus cálculos realizados en papel y lapiz.\n",
        "\n",
        "Opcional.\n",
        "\n",
        "Resolver el problema en 3D\n",
        "\n",
        "\n",
        "\n",
        "\n",
        "\n",
        "\n",
        "\n"
      ]
    },
    {
      "cell_type": "code",
      "metadata": {
        "id": "T8-DfL7DC_3m"
      },
      "source": [
        "### LIBRERIAS ###\n",
        "\n",
        "#=================================================\n",
        "import sympy as sp \n",
        "import scipy.misc as sm\n",
        "import numpy as np\n",
        "import matplotlib.pylab as plt\n",
        "from sympy import init_printing\n",
        "from scipy import  optimize\n",
        "from scipy import misc\n",
        "from scipy import interpolate\n",
        "init_printing() \n",
        "#=================================================\n",
        "\n",
        "#https://philip-mocz.medium.com/create-your-own-smoothed-particle-hydrodynamics-simulation-with-python-76e1cec505f1\n",
        "\n",
        "### Valores ### \n",
        "\n",
        "#=================================================\n",
        "h = np.random.random()*10\n",
        "αD = 5/(np.pi * h**2)\n",
        "\n",
        "\n",
        "#=================================================\n",
        "\n",
        "def W(r,h, rp=None):\n",
        "  \"\"\"\n",
        "  Donde r es una 2-tupla y h constante\n",
        "  y se toma la posición fija  rp como igual a cero\n",
        "  \"\"\"\n",
        "  if rp==None:\n",
        "    rp=np.zeros(np.shape(r))  \n",
        "  q=r/h\n",
        "  return αD*(1+3*q)*(1-q**3)\n",
        "\n",
        "\n",
        "  "
      ],
      "execution_count": 22,
      "outputs": []
    },
    {
      "cell_type": "code",
      "metadata": {
        "colab": {
          "base_uri": "https://localhost:8080/",
          "height": 282
        },
        "id": "MuNtrSu4VjRN",
        "outputId": "5cf3a562-4071-40ab-b55a-9aa396e84ec8"
      },
      "source": [
        "h=np.random.random()*10\n",
        "print(h)\n",
        "# X_=np.sort(np.random.random(size=(50))*h)\n",
        "X_=np.linspace(0,h)\n",
        "Y_=W(X_,h)\n",
        "\n",
        "x=sp.symbols('x')\n",
        "Y=sp.diff(W(x,h))\n",
        "\n",
        "Yx = sp.lambdify(x,Y,'numpy')\n",
        "\n",
        "plt.plot(X_,Y_,label=\"W (r,h)\")\n",
        "plt.plot(X_,Yx(X_),label=\"W´(r,h)\")\n",
        "plt.plot(αD,'r.', label='αD')\n",
        "plt.plot(h,0,'m.', label='h',)\n",
        "\n",
        "plt.legend()\n",
        "plt.grid()\n",
        "plt.show()"
      ],
      "execution_count": 23,
      "outputs": [
        {
          "output_type": "stream",
          "name": "stdout",
          "text": [
            "6.690040240401549\n"
          ]
        },
        {
          "output_type": "display_data",
          "data": {
            "image/png": "[encoded data removed]",
            "text/plain": [
              "<Figure size 432x288 with 1 Axes>"
            ]
          },
          "metadata": {
            "needs_background": "light"
          }
        }
      ]
    },
    {
      "cell_type": "code",
      "metadata": {
        "colab": {
          "base_uri": "https://localhost:8080/",
          "height": 643
        },
        "id": "H-Xaq8Mz-b2g",
        "outputId": "7257369b-2a05-4ca6-cade-4ce20bcd04a7"
      },
      "source": [
        "#Derivada Numerica \n",
        "f = interpolate.CubicSpline(X_,Y_)\n",
        "array_derivate=np.vectorize(misc.derivative)\n",
        "fp = array_derivate(f,X_,dx=1E-14)\n",
        "\n",
        "\n",
        "print(\"Derivada simbolica: \",Yx(X_))\n",
        "print(\"\\nDerivada numerica: \",fp)\n",
        "\n",
        "plt.figure(figsize=(10,5))\n",
        "\n",
        "plt.subplot(121)\n",
        "plt.plot(X_,Yx(X_),label=\"W´(r,h) sim\")\n",
        "plt.plot(X_,fp,label=\"W´(r,h) num \")\n",
        "plt.legend()\n",
        "plt.grid()\n",
        "\n",
        "plt.subplot(122)\n",
        "plt.plot(X_,abs(Yx(X_)-fp), label='Diferencia entre derivada \\n numérica y simbólica')\n",
        "plt.legend()\n",
        "plt.grid()\n",
        "\n",
        "plt.show()"
      ],
      "execution_count": 24,
      "outputs": [
        {
          "output_type": "stream",
          "name": "stdout",
          "text": [
            "Derivada simbolica:  [ 0.12680852  0.12675139  0.12656277  0.12621678  0.12568755  0.12494922\n",
            "  0.12397592  0.12274177  0.12122092  0.11938749  0.11721561  0.11467942\n",
            "  0.11175305  0.10841062  0.10462627  0.10037414  0.09562834  0.09036302\n",
            "  0.08455231  0.07817033  0.07119122  0.06358911  0.05533813  0.04641242\n",
            "  0.0367861   0.02643331  0.01532817  0.00344482 -0.0092426  -0.02275998\n",
            " -0.03713317 -0.05238805 -0.06855048 -0.08564633 -0.10370147 -0.12274177\n",
            " -0.1427931  -0.16388133 -0.18603232 -0.20927194 -0.23362607 -0.25912057\n",
            " -0.2857813  -0.31363414 -0.34270496 -0.37301962 -0.404604   -0.43748395\n",
            " -0.47168536 -0.50723408]\n",
            "\n",
            "Derivada numerica:  [ 0.12767565  0.12767565  0.12490009  0.12767565  0.12767565  0.12490009\n",
            "  0.12490009  0.12212453  0.12212453  0.11657342  0.11657342  0.11657342\n",
            "  0.1110223   0.1110223   0.09992007  0.10547119  0.09992007  0.09436896\n",
            "  0.08326673  0.08326673  0.0721645   0.06661338  0.05551115  0.04996004\n",
            "  0.03330669  0.02775558  0.01110223  0.         -0.01110223 -0.02220446\n",
            " -0.03330669 -0.05551115 -0.06661338 -0.08326673 -0.09992007 -0.11657342\n",
            " -0.13877788 -0.15543122 -0.1831868  -0.2026157  -0.22759572 -0.25257574\n",
            " -0.27755576 -0.30808689 -0.33306691 -0.36359804 -0.39551695 -0.42743586\n",
            " -0.46004867 -0.49548446]\n"
          ]
        },
        {
          "output_type": "display_data",
          "data": {
            "image/png": "[encoded data removed]",
            "text/plain": [
              "<Figure size 720x360 with 2 Axes>"
            ]
          },
          "metadata": {
            "needs_background": "light"
          }
        }
      ]
    },
    {
      "cell_type": "markdown",
      "metadata": {
        "id": "vtI1FYHxEdx9"
      },
      "source": [
        "# 2.0 Integración \n",
        "\n",
        "1.   Escribir en código Markdown la deducción para calcular una integral con la regla del trapecio. Ver libro guia.\n",
        "\n",
        "2.   Escribir en código Markdown la expresión para calcular una integral con la regla del simpson\n",
        "\n",
        "1.   Escribir en código Markdown la expresión para calcular una integral con el metodo de cuadratura.\n",
        "\n",
        "2.   Calcular con los metodos 1,2,3 las siguientes integrales\n",
        "\n",
        "$$\n",
        "\\int_0^1 e^{1-x^2}\\, dx\n",
        "$$\n",
        "$$\n",
        "\\int_{-\\infty}^{\\infty} \\frac{1}{1+x^2} \\, dx\n",
        "$$\n",
        "$$\n",
        "\\int_{0}^{\\pi/4} \\int_{\\sin x}^{\\cos x} (2y\\sin x +\\cos^2 x)\\, dxdy\n",
        "$$\n",
        "\n",
        "$$\n",
        "\\int_{-\\infty}^{\\infty} \\frac{1}{1+x^2} \\, dx\n",
        "$$\n",
        "$$\n",
        "\\int_{e}^{2e} \\frac{1}{\\ln x} \\, dx\n",
        "$$\n",
        "garantizando que el error sea menor a $\\varepsilon=1E-5$.\n",
        "\n",
        "1.   Suppose a body of mass m is traveling vertically upward starting at the surface of the earth. If all resistance except gravity is neglected, the escape velocity v is given by\n",
        "$$\n",
        "v^2=2gR\\int_1 ^\\infty z^{-2} dz,\n",
        "$$\n",
        "where z=x/R, R is the earth radius and g de gravity aceleration. Approximate the scape velocity\n",
        "\n",
        "6 Write a double precision program to integrate an arbitrary function numerically using the trapezoid rule, the Simpson rule, and Gaussian quadrature. For our assumed problems there is an analytics answer:\n",
        "\n",
        "$$\n",
        "\\frac{\\mathrm{d}N(t)}{\\mathrm{d}t}=e^{-t}\n",
        "$$$$\n",
        "N(1)=\\int_0^{1}e^{-t} dt=1-e^{-1}\n",
        "$$\n",
        "6.2. Compute the relative error $\\epsilon=|numerical-exact|/exact$ in each case. Present your data in the tabular form with space or tabas seprating the field. Try N values of 2, 10, 20 , 40 , 80, 160\n",
        "\n",
        "N\t$\\epsilon_T$\t$\\epsilon_S$\t$\\epsilon_G$\n",
        "2\t...\t...\t...\n",
        "10\t...\t...\t...\n",
        "\n",
        "6.3. Make a log-log plot of relative errore versus. You should observe that $\\epsilon\\approx CN^{\\alpha}$, $\\mathrm{log} \\epsilon =\\alpha \\mathrm{log}N + \\mathrm{constant}$. This mean that a power-law dependence appears as a straight line on a log-log plot, and that if you use $\\log_{10}$, the the ordinate on your log-log plot will be the negative of the number of decimal places of presicion in your calculation. 6.4. Use your plot or table to stimate the power-law dependence of the error $\\epsilon$ on the number of points N and to determine the number of decimal places of presicion in your calculation. Do this for both the trapezoid and simpsons rules and for both the algolrithmic and round-off error regimes. (Note that if may be hard to reach the round-off error regime for the trapezoid rule becasue the aproximation ) error is so large"
      ]
    },
    {
      "cell_type": "markdown",
      "metadata": {
        "id": "mjkiTlOwKZKS"
      },
      "source": [
        "#Solucion 2.0"
      ]
    },
    {
      "cell_type": "markdown",
      "metadata": {
        "id": "CP9p0kbXDl99"
      },
      "source": [
        "##**1. Escribir en código Markdown la deducción para calcular una integral con la regla del trapecio. Ver libro guia.**\n",
        "\n",
        "Para derivar la regla trapezoidal (o regla del trapecio) para aproximar $\\int_a^b f(x)\\, dx$, sean $x_0=a, x_1=b, h=b-a$ y utilice el polinomio de Lagrange\n",
        "\n",
        "$$\n",
        "P_1(x)= \\frac{(x-x_1)}{(x_0-x_1)}f(x_0) + \\frac{(x-x_0)}{(x_1-x_0)}f(x_1)\n",
        "$$\n",
        "\n",
        "Entonces\n",
        "\n",
        "$$ \n",
        "\\int_a^b f(x) \\, dx = \\int_{x_0}^{x_1} \\left[{\\frac{(x-x_1)}{(x_0-x_1)}f(x_0) + \\frac{(x-x_0)}{(x_1-x_0)}f(x_1)}\\right] \\, dx +\\frac{1}{2}\\int_{x_0}^{x_1} f''(\\xi(x))(x-x_0)(x-x_1)\\, dx\n",
        "$$\n",
        "(4.23)\n",
        "\n",
        "El producto $(x-x_0)(x-x_1)$ no ambia de signo en $[x_0, x_1]$, por lo que el teorema del valor promedio ponderado para integrales 1.13 se puede aplicar al término de error para obtener, para algunos $\\xi$ en $(x_0, x_1)$\n",
        "\n",
        "\n",
        "$$\n",
        "\\begin{split}\n",
        "\\int_{x_0}^{x_1} f''(\\xi(x))(x-x_0)(x-x_1)\\, dx&={ f''(\\xi) \\int_{x_0}^{x_1}(x-x_0)(x-x_1) \\, dx} \\\\ &= f''(\\xi) \\left[{\\frac{x^3}{3}-\\frac{(x_1+x_0)}{2}x^2 + x_0x_1x}\\right]_{x_0}^{x_1} \\\\ &= -\\frac{h^3}{6} f''(\\xi)\n",
        "\\end{split}\n",
        "$$\n",
        "\n",
        "Por consiguiente, la ecuación (4.23) implica que\n",
        "\n",
        "$$\n",
        "\\begin {split}\n",
        "\\int_a^b f(x)\\, dx & = \\left[{\\frac{(x-x_1)}{(x_0-x_1)}f(x_0) + \\frac{(x-x_0)}{(x_1-x_0)}f(x_1)}\\right]_{x_0}^{x_1} - \\frac {h^3}{12}f''(\\xi)\\\\ & = \\frac{(x_1-x_0)}{2}[f(x_0)+f(x_1)] -  \\frac {h^3}{12}f''(\\xi)\n",
        "\\end {split}\n",
        "$$\n",
        "\n",
        "Por medio de la notación $h=x_1-x_0$ obtenemos la siguiente regla:\n",
        "\n",
        "##**Regla trapezoidal**\n",
        "\n",
        "$$\n",
        "\\int_a^b f(x) \\, dx = \\frac{h}{2} [f(x_0)+ f(x_1)] - \\frac{h^3}{12}f''(\\xi)\n",
        "$$"
      ]
    },
    {
      "cell_type": "markdown",
      "metadata": {
        "id": "f_IMsFiIDxB1"
      },
      "source": [
        "##**2. Escribir en código Markdown la expresión para calcular una integral con la regla del simpson**\n",
        "\n",
        "La regla de simpson resulta de la integración sobre $[a, b]$ del segundo polinomio de Lagrange con nodos igualmente espaciados $x_0=a, x_2=b$ y $x_1=a+h$, en donde  $h = (b-a)/2$.\n",
        "\n",
        "$$\n",
        "\\int_a^b f(x) \\, dx = \\int_{x_0}^{x_2}\\left[\\frac{(x-x_1)(x-x_2)}{(x_0-x_1)(x_0-x_2)}f(x_0) + \\frac{(x-x_0)(x-x_2)}{(x_1-x_0)(x_1-x_2)}f(x_1)+\\frac{(x-x_0)(x-x_1)}{(x_2-x_0)(x_2-x_1)}f(x_2)\\right] \\, dx +  \\int_{x_0}^{x_2} \\frac{(x-x_0)(x-x_1)(x-x_2)}{6} f^{(3)} (\\xi(x)) \\,dx\n",
        "$$\n",
        "\n",
        "Al deducir la regla de simpson de esta forma, sin embargo, da un solo término de error $O(h^4)$ relacionado con $f^{(3)}$. Al aproximar el problema de otra forma, se puede derivar otro término de orden superior relacionado con $f^{(4)}$. \\\\\n",
        "Para ilustrar este método alternativo, suponga que $f$ se expande en el tercer polinomio de Taylor alrededor de $x_1$. Entonces, para cada $x$ en $[x_0, x_2]$, existe un número $\\xi (x)$ en $(x_0, x_2)$ con \n",
        "\n",
        "$$\n",
        "f(x) = f(x_1) + f'(x_1)(x-x_1) + \\frac{f''(x_1)}{2}(x-x_1)^2 + \\frac{f'''(x_1)}{6}(x-x_1)^3 + \\frac{f^{(4)}(\\xi(x))}{24}(x-x_1)^4\n",
        "$$\n",
        "\n",
        "y \n",
        "\n",
        "$$\n",
        "\\int_{x_0}^{x_2} f(x) \\, dx = \\left[f(x_1)(x-x_1) + \\frac{f'(x_1)}{2}(x-x_1)^2 + \\frac{f''(x_1)}{6}(x-x_1)^3 + \\frac{f'''(x_1)}{24}(x-x_1)^4 \\right]{x_0}^{x_2} + \\frac{1}{24}\\int{x_0}^{x_2} f^{(4)}(\\xi(x))(x-x_1)^4 \\, dx\n",
        "$$\n",
        "\n",
        "(4.24)\n",
        "\n",
        "Puesto que $(x-x_1)^4$ nunca es negativo en $[x_0,x_2]$, el teorema de valor promedio ponderado para las integrales implica que\n",
        "\n",
        "$$\n",
        "\\frac{1}{24}\\int_{x_0}^{x_2} f^{(4)}(\\xi(x))(x-x_1)^4 \\, dx =\\frac{f^{4}(\\xi_1)}{24} \\int_{x_0}^{x_2} (x-x_1)^4 \\, dx =\\left[ \\frac{f^{4}(\\xi_1)}{120} (x-x_1)^5 \\right]_{x_0}^{x_2}\n",
        "$$\n",
        "\n",
        "Para algún número $\\xi_1$ en $(x_0,x_2)$.\n",
        "Sin embargo, $h=x_2-x_1=x_1-x_0$, por lo que\n",
        "\n",
        "$$\n",
        "(x_2-x_1)^2-(x_0-x_1)^2=(x_2-x_1)^4-(x_0-x_1)^4=0\n",
        "$$\n",
        "\n",
        "mientras\n",
        "\n",
        "$$\n",
        "(x_2-x_1)^3-(x_0-x_1)^3=2h^3\n",
        "$$\n",
        "y\n",
        "$$\n",
        "(x_2-x_1)^5-(x_0-x_1)^5=2h^5\n",
        "$$\n",
        "\n",
        "Por consiguiente, la ecuación (4.24) se puede reescribir como\n",
        "\n",
        "$$\n",
        "\\int_{x_0}^{x_2} f(x) \\, dx = 2hf(x_1)+ \\frac{h^3}{3}f''(x_1)+ \\frac{f^{(4)}(\\xi_1)}{60}h^5\n",
        "$$\n",
        "\n",
        "Ahora, si reemplazamos $f''(x_1)$ por medio de la aproximación determinada en la ecuación (4.9) de la sección 4.1, tenemos\n",
        "\n",
        "$$\n",
        "\\int_{x_0}^{x_2} f(x) \\, dx = 2hf(x_1)+\\frac{h^3}{3}\\left\\lbrace \\frac{1}{h^2}[f(x_0)-2f(x_1)+f(x_2)]- \\frac{h^2}{12}f^{(4)}(\\xi_2) \\right\\rbrace + \\frac{f^{(4)}(\\xi_1)}{60}h^5 \n",
        "$$\n",
        "\n",
        "$$\n",
        "=\\frac{h}{3}[f(x_0)+4f(x_1)+f(x_2)]-\\frac{h^5}{12}\\left[\\frac{1}{3} f^{(4)}(\\xi_2)-\\frac{1}{5}f^{(4)}(\\xi_1)\\right]\n",
        "$$\n",
        "\n",
        "Con métodos alternos se puede mostrar que los valores $\\xi_1$ y $\\xi_2$ en esta expresión se pueden reemplazar mediante un valor común $\\xi$ en $(x_0, x_2)$. Esto da la regla de simpson.\n",
        "\n",
        "##**Regla de Simpson:**\n",
        "\n",
        "$$\n",
        "\\int_{x_0}^{x_2} f(x) \\, dx = \\frac{h}{3}[f(x_0)+4f(x_1)+f(x_2)]-\\frac{h^5}{90}f^{(4)}(\\xi)\n",
        "$$\n",
        "\n",
        "El término de error en la regla de Simpson implica la cuarta derivada de $f$, por lo que da resultados exactos cuando se aplica a cualquier polinomio de grado tres o menos."
      ]
    },
    {
      "cell_type": "markdown",
      "metadata": {
        "id": "JKB7i1s1QfqC"
      },
      "source": [
        "##**3. Escribir en código Markdown la expresión para calcular una integral con el metodo de cuadratura.**\n",
        "\n",
        "A menudo surge la necesidad de evaluar la integral definida de una función que no tiene una antiderivada o cuya antiderivada no e fácil de obtener. El método básico asociado con la aproximación de $\\int_a^b f(x) \\, dx$ recibe el nombre de **cuadratura numérica**. Éste utiliza una suma $\\sum_{i=0}^n a_if(x_i)$ para aproximar $\\int_a^b f(x) \\, dx$.\n",
        "\n",
        "La idea básica es seleccionar un conjunto de nodos distintos {$x_0,...,x_n$} del intervalo $[a, b]$ Entonces integramos el polinomio interpolante de Lagrange\n",
        "\n",
        "$$\n",
        "P_n(x)= \\sum_{i=0}^n f(x_i)L_i(x)\n",
        "$$\n",
        "\n",
        "Y su término de error de truncamiento sobre $[a,b]$ para obtener\n",
        "\n",
        "$$\n",
        "\\begin{split}\n",
        "\\int_a^b f(x) \\, dx&=\\int_a^b \\sum_{i=0}^n f (x_i)L_i(x) \\, dx + \\int_a^b \\prod_{i=0}^n (x-x_i)\\frac{f^{(n+1)}(\\xi(x))}{(n+1)!} \\, dx \\\\ &= \\sum_{i=0}^n a_i f(x_i)+\\frac{1}{(n+1)!} \\int_a^b \\prod_{i=0}^n (x-x_i)f^{(n+1)}(\\xi(x)) \\, dx\n",
        "\\end{split}\n",
        "$$\n",
        "\n",
        "donde $\\xi(x)$ se encuentra en $[a,b]$ para cada $x$ y\n",
        "\n",
        "$$\n",
        "a_i = \\int_a^b L_i(x) \\, dx \n",
        "$$\n",
        "\n",
        "para cada $i=0,1,...,n$\n",
        "\n",
        "La formula de cuadratura es, por lo tanto\n",
        "$$\n",
        "\\int_a^b f(x) \\ dx \\approx \\sum_{i=0}^n a_i f(x_i)\n",
        "$$\n",
        "\n",
        "con un error dado por\n",
        "\n",
        "$$\n",
        "E(f)= \\frac{1}{(n+1)!} \\int_a^b \\prod_{i=0}^n (x-x_i)f^{(n+1)}(\\xi(x)) \\, dx\n",
        "$$"
      ]
    },
    {
      "cell_type": "code",
      "metadata": {
        "id": "fPRP-rwQmcrY"
      },
      "source": [
        "from scipy import integrate\n",
        "from scipy.integrate import quad\n",
        "from sympy import simplify\n",
        "from sympy import init_printing\n",
        "\n",
        "x = sp.symbols(\"x\") #Definicion de x como simbolo.\n"
      ],
      "execution_count": 25,
      "outputs": []
    },
    {
      "cell_type": "markdown",
      "metadata": {
        "id": "FwdqoB3rk4GV"
      },
      "source": [
        "#$$\n",
        "\\int_0^1 e^{1-x^2}\\, dx\n",
        "$$\n"
      ]
    },
    {
      "cell_type": "markdown",
      "metadata": {
        "id": "tuFAfPGmbsFe"
      },
      "source": [
        "##Método del trapecio\n",
        "\n",
        "$$\n",
        "|E_N(f)| \\leq \\frac{(b-a)h^2}{12}f''(\\xi)\n",
        "$$\n",
        "$$\n",
        "\\frac{(1-0)h^2}{12}f''(\\xi) < \\epsilon\n",
        "$$\n",
        "$$\n",
        "h<\\sqrt{\\frac{12}{f''(\\xi)}\\epsilon}\n",
        "$$"
      ]
    },
    {
      "cell_type": "code",
      "metadata": {
        "colab": {
          "base_uri": "https://localhost:8080/"
        },
        "id": "uJfpjnptk532",
        "outputId": "fbc1fef9-38f4-4756-b549-ad90d3879a54"
      },
      "source": [
        "f1=lambda x: np.e**(1-x**2)\n",
        "\n",
        "f1_2 = sp.diff(f1(x), x, 2)\n",
        "F1_2 = sp.lambdify(x, -f1_2, 'numpy')\n",
        "\n",
        "\n",
        "max1 = -optimize.fmin_powell( F1_2, 0.1,  ftol=1E-7 , full_output=True)[1]\n",
        "\n",
        "h1= np.sqrt(12/(max1)*(10**-5))"
      ],
      "execution_count": 26,
      "outputs": [
        {
          "output_type": "stream",
          "name": "stdout",
          "text": [
            "Optimization terminated successfully.\n",
            "         Current function value: -2.426123\n",
            "         Iterations: 2\n",
            "         Function evaluations: 34\n"
          ]
        }
      ]
    },
    {
      "cell_type": "markdown",
      "metadata": {
        "id": "A5H3sWNILK7h"
      },
      "source": [
        "$$\n",
        "h<\\sqrt{\\frac{12}{2.426...}\\epsilon}\n",
        "$$"
      ]
    },
    {
      "cell_type": "code",
      "metadata": {
        "colab": {
          "base_uri": "https://localhost:8080/"
        },
        "id": "bDhsBWMTLWQn",
        "outputId": "f560a0b0-fda5-48c2-f422-b52c56a6abaa"
      },
      "source": [
        "\n",
        "N1=int(1/h1)\n",
        "\n",
        "X1=np.linspace(0,1,N1+1)\n",
        "\n",
        "print('Método del trapecio:', integrate.trapz(f1(X1), X1, h1))"
      ],
      "execution_count": 27,
      "outputs": [
        {
          "output_type": "stream",
          "name": "stdout",
          "text": [
            "Método del trapecio: 2.030070203709265\n"
          ]
        }
      ]
    },
    {
      "cell_type": "code",
      "metadata": {
        "id": "NuLNwBWOck_g"
      },
      "source": [
        ""
      ],
      "execution_count": 27,
      "outputs": []
    },
    {
      "cell_type": "markdown",
      "metadata": {
        "id": "xzJm7iA5-Euz"
      },
      "source": [
        "##Método de Simpson\n",
        "$$\n",
        "N^4\\leq\\frac{(b-a)^5}{90\\cdot2^5\\epsilon}f^{(4)}(\\xi)\n",
        "$$"
      ]
    },
    {
      "cell_type": "code",
      "metadata": {
        "colab": {
          "base_uri": "https://localhost:8080/"
        },
        "id": "R0z5vu-h9XeO",
        "outputId": "9b2af907-5f00-4121-dcfa-14b778d18952"
      },
      "source": [
        "f1_4 = sp.diff(f1(x), x, 4)\n",
        "F1_4 = sp.lambdify(x, -f1_4, 'numpy')\n",
        "\n",
        "\n",
        "max1_ = -optimize.fmin_powell( F1_4, 0.1,  ftol=1E-7 , full_output=True)[1]\n",
        "\n",
        "epsilon=1e-5\n",
        "\n",
        "def N(a, b, M):\n",
        "  return ((b-a)**5*M/(epsilon*180*2**4))**(0.25)\n",
        "\n",
        "print('N=',N(0,1,max1_),', aproximadamente 6')"
      ],
      "execution_count": 28,
      "outputs": [
        {
          "output_type": "stream",
          "name": "stdout",
          "text": [
            "Optimization terminated successfully.\n",
            "         Current function value: -32.619382\n",
            "         Iterations: 2\n",
            "         Function evaluations: 44\n",
            "N= 5.801239696025048 , aproximadamente 6\n"
          ]
        }
      ]
    },
    {
      "cell_type": "markdown",
      "metadata": {
        "id": "usTugKYtJksp"
      },
      "source": [
        "$$\n",
        "N = \\sqrt[4]{\\frac{32.619...}{11250}}\\approx6\n",
        "$$"
      ]
    },
    {
      "cell_type": "code",
      "metadata": {
        "colab": {
          "base_uri": "https://localhost:8080/"
        },
        "id": "oyPlqJGMdB0P",
        "outputId": "f9b71813-c494-416c-a943-d03d29ed1ba0"
      },
      "source": [
        "print('Método de simpson:', integrate.simps( f1(X1), X1, 6))\n",
        "\n"
      ],
      "execution_count": 29,
      "outputs": [
        {
          "output_type": "stream",
          "name": "stdout",
          "text": [
            "Método de simpson: 2.0300784693333593\n"
          ]
        }
      ]
    },
    {
      "cell_type": "markdown",
      "metadata": {
        "id": "jdwlpU0DdbVL"
      },
      "source": [
        "##Método de cuadratura\n",
        "\n",
        "La función de scipy para este método incluye el parámetro para ajustar el error absoluto "
      ]
    },
    {
      "cell_type": "code",
      "metadata": {
        "colab": {
          "base_uri": "https://localhost:8080/"
        },
        "id": "ajcXz_VQdaQ3",
        "outputId": "6454eda3-c42a-4238-a7d4-97a12153c00d"
      },
      "source": [
        "print('Método de cuadratura:', integrate.quad( f1, 0, 1,epsabs=1E-5)[0])"
      ],
      "execution_count": 30,
      "outputs": [
        {
          "output_type": "stream",
          "name": "stdout",
          "text": [
            "Método de cuadratura: 2.030078469278705\n"
          ]
        }
      ]
    },
    {
      "cell_type": "markdown",
      "metadata": {
        "id": "FPab1qKUpwDg"
      },
      "source": [
        "#$$\n",
        "\\int_{e}^{2e} \\frac{1}{\\ln x} \\, dx\n",
        "$$"
      ]
    },
    {
      "cell_type": "markdown",
      "metadata": {
        "id": "uBwIy0mnKQwh"
      },
      "source": [
        "$$\n",
        "|E_N(f)| \\leq \\frac{(b-a)h^2}{12}f''(\\xi)\n",
        "$$\n",
        "$$\n",
        "\\frac{(1-0)h^2}{12}f''(\\xi) < \\epsilon\n",
        "$$\n",
        "$$\n",
        "h<\\sqrt{\\frac{12}{f''(\\xi)}\\epsilon}\n",
        "$$"
      ]
    },
    {
      "cell_type": "code",
      "metadata": {
        "colab": {
          "base_uri": "https://localhost:8080/"
        },
        "id": "uZhA-sbyLiyk",
        "outputId": "991e5472-8242-4651-d8ef-544198d3a11c"
      },
      "source": [
        "f4=lambda x: 1 / sp.log( x ) \n",
        "\n",
        "\n",
        "f4_2 = sp.diff(f4(x), x, 2)\n",
        "F4_2 = sp.lambdify(x, -f4_2, 'numpy')\n",
        "\n",
        "\n",
        "max4 = -optimize.fmin_powell( F4_2, 0.1,  ftol=1E-7 , full_output=True)[1]\n",
        "\n",
        "h4= np.sqrt(12/(max4)*(10**-5))"
      ],
      "execution_count": 31,
      "outputs": [
        {
          "output_type": "stream",
          "name": "stdout",
          "text": [
            "Optimization terminated successfully.\n",
            "         Current function value: -182687704666362905340279811392876225351494139904.000000\n",
            "         Iterations: 6\n",
            "         Function evaluations: 264\n"
          ]
        },
        {
          "output_type": "stream",
          "name": "stderr",
          "text": [
            "<string>:2: RuntimeWarning: invalid value encountered in log\n"
          ]
        }
      ]
    },
    {
      "cell_type": "markdown",
      "metadata": {
        "id": "Ph6zC1Nsd-6L"
      },
      "source": [
        "##Observación importante\n",
        "Como podemos observar, la segunda derivada de la función $\\frac{1}{\\ln{x}}$ tiene sus máximos valores en divergencias al infinito ubicadas en $x=0$ y $x=1$, siendo así, es imposible garantizar una precisión mínima para el método del trapecio, pues el espaciado entre intervalos sería $0$, y la cantidad de estos sería infinita. Similarmente ocurre con el método de Simpson"
      ]
    },
    {
      "cell_type": "code",
      "metadata": {
        "colab": {
          "base_uri": "https://localhost:8080/",
          "height": 37
        },
        "id": "YRMnKdN1nh7p",
        "outputId": "d46e5b16-e870-41cf-b6a8-fa25dd7a50c5"
      },
      "source": [
        "h4"
      ],
      "execution_count": 32,
      "outputs": [
        {
          "output_type": "execute_result",
          "data": {
            "image/png": "[encoded data removed]",
            "text/latex": "$\\displaystyle 2.56292538937882 \\cdot 10^{-26}$",
            "text/plain": [
              "2.5629253893788208e-26"
            ]
          },
          "metadata": {},
          "execution_count": 32
        }
      ]
    },
    {
      "cell_type": "code",
      "metadata": {
        "colab": {
          "base_uri": "https://localhost:8080/"
        },
        "id": "N3VWbK8GpvRn",
        "outputId": "1c5c5fc7-4fdb-4c89-862b-b2d784a7a379"
      },
      "source": [
        "f4=lambda x: 1 / np.log( x ) \n",
        "\n",
        "X_4=np.linspace( np.e, 2 * np.e )\n",
        "print('Resultados por precisión predeterminada de las funciones de scipy')\n",
        "print('Método del trapecio:', integrate.trapz( f4(X_4) , X_4) )\n",
        "\n",
        "print('Método de simpson:', integrate.simps( f4(X_4), X_4) )\n"
      ],
      "execution_count": 33,
      "outputs": [
        {
          "output_type": "stream",
          "name": "stdout",
          "text": [
            "Resultados por precisión predeterminada de las funciones de scipy\n",
            "Método del trapecio: 2.0038884430101813\n",
            "Método de simpson: 2.0038135372994286\n"
          ]
        }
      ]
    },
    {
      "cell_type": "code",
      "metadata": {
        "colab": {
          "base_uri": "https://localhost:8080/"
        },
        "id": "-DyNq46Od-XV",
        "outputId": "98b67220-50aa-4777-f315-68c63121875f"
      },
      "source": [
        "print('Método de cuadratura (con epsilon=0.00001):', integrate.quad( f4, np.e, 2 * np.e, epsabs=1E-5  )[0])"
      ],
      "execution_count": 34,
      "outputs": [
        {
          "output_type": "stream",
          "name": "stdout",
          "text": [
            "Método de cuadratura (con epsilon=0.00001): 2.0038105616240243\n"
          ]
        }
      ]
    },
    {
      "cell_type": "markdown",
      "metadata": {
        "id": "6MabtRRhJMwI"
      },
      "source": [
        "#$$\n",
        "\\int_{-\\infty}^{\\infty} \\frac{1}{1+x^2} \\, dx\n",
        "$$\n",
        "\n",
        "\n",
        "Por el metodo del trapecio tenemos que: \n",
        "\n",
        "$$ \\frac{(b-a)h^2}{12} f´´(\\epsilon) ≤ \\epsilon$$\n",
        "\n",
        "luego, despejando h \n",
        "\n",
        "$$ h = \\sqrt{\\frac{12 \\epsilon }{(b-a)f´´(\\epsilon)}}$$\n",
        "\n",
        "como b = $\\infty$ y a = $-\\infty$\n",
        "\n",
        "b - a = $\\infty - (-\\infty) = \\infty + \\infty = 2\\infty = \\infty$\n",
        "\n",
        "\n",
        "luego $ h = \\sqrt{\\frac{12\\epsilon}{\\infty}} = 0 $ .\n",
        "\n",
        "Sabemos que la formula por el método del trapecio es: \n",
        "\n",
        "$$\n",
        "  \\int_{a}^{b} f(x)\\,dx \n",
        "  = \\sum_{i=0}^{N-1}  \\int_{i}^{x_{i+1}} f(x)\\,dx\n",
        "  =  \\frac{h}{2} \\sum_{i=0}^{N-1}(f(x_i)+f(x_{i+1})) \n",
        "    - \\frac{(b-a) h^2}{12}f''(\\xi),\n",
        "  $$\n",
        "\n",
        "pero como h = 0 \n",
        "\n",
        "$$ \\int_{a}^{b} f(x)\\,dx  =  0$$\n",
        "\n",
        "Resolviendo esta integral a mano podemos ver que esto es diferente de cero, por \n",
        "lo tanto el metodo del trapecio no funciona en esta ocasión.\n",
        "\n",
        "De manera similar para el método de simpson, se puede llegar a la misma conclusión."
      ]
    },
    {
      "cell_type": "code",
      "metadata": {
        "id": "IvEsH4qiJVCm",
        "colab": {
          "base_uri": "https://localhost:8080/"
        },
        "outputId": "ad6ca935-0d9a-4c71-a317-f9f2f77b86a7"
      },
      "source": [
        "f = lambda x: 1/(1+x**2)\n",
        "b = np.inf\n",
        "a = -np.inf\n",
        "\n",
        "\n",
        "#metodo del trapecio\n",
        "h1 = 0\n",
        "x1= np.linspace( np.NINF,  np.inf, h1)\n",
        "print('Método del trapecio:', integrate.trapz( f(x1) , x1,h1) )\n",
        "\n",
        "#Metodo de simpson\n",
        "x2=np.linspace( -np.inf,  np.inf)\n",
        "print('Método de simpson:', integrate.simps( f(x2), x2) )\n",
        "\n",
        "#Metodo de cuadratura \n",
        "print('Método de cuadratura:', integrate.quad( f, -np.inf, np.inf  )[0])\n"
      ],
      "execution_count": 35,
      "outputs": [
        {
          "output_type": "stream",
          "name": "stdout",
          "text": [
            "Método del trapecio: 0.0\n",
            "Método de simpson: nan\n",
            "Método de cuadratura: 3.141592653589793\n"
          ]
        },
        {
          "output_type": "stream",
          "name": "stderr",
          "text": [
            "/usr/local/lib/python3.7/dist-packages/numpy/core/function_base.py:144: RuntimeWarning: invalid value encountered in multiply\n",
            "  y *= step\n",
            "/usr/local/lib/python3.7/dist-packages/numpy/core/function_base.py:154: RuntimeWarning: invalid value encountered in add\n",
            "  y += start\n"
          ]
        }
      ]
    },
    {
      "cell_type": "markdown",
      "metadata": {
        "id": "rhF1QPmeLpmF"
      },
      "source": [
        "#$$\n",
        "\\int_{0}^{\\pi/4} \\int_{\\sin x}^{\\cos x} (2y\\sin x +\\cos^2 x)\\, dxdy\n",
        "$$"
      ]
    },
    {
      "cell_type": "code",
      "metadata": {
        "id": "FXEWCoUWLqR6",
        "colab": {
          "base_uri": "https://localhost:8080/",
          "height": 69
        },
        "outputId": "752b9629-dd1d-4608-9ef6-3d71254c3121"
      },
      "source": [
        "from sympy import simplify\n",
        "from sympy import integrate\n",
        "\n",
        "y = sp.symbols(\"y\")\n",
        "\n",
        "def k(x,y): \n",
        "  return 2*y*sp.sin(x)+sp.cos(x)**2\n",
        "\n",
        "I1 = integrate(k(x,y),(x,sp.sin(x),sp.cos(x)))\n",
        "\n",
        "simplify(integrate(I1,(y,0,np.pi/4)))\n",
        "\n",
        " ### Prueba de integración con sympy\n",
        "#f = lambda x: 1/(1+x**2)\n",
        "#I3 = integrate(f(x),(x,-np.inf,np.inf))\n",
        "#print(I3)                                 Es bastante precisa "
      ],
      "execution_count": 36,
      "outputs": [
        {
          "output_type": "execute_result",
          "data": {
            "image/png": "[encoded data removed]",
            "text/latex": "$\\displaystyle - 0.196349540849362 \\sin{\\left(2 \\sin{\\left(x \\right)} \\right)} + 0.196349540849362 \\sin{\\left(2 \\cos{\\left(x \\right)} \\right)} + 0.392699081698724 \\sqrt{2} \\cos{\\left(x + \\frac{\\pi}{4} \\right)} + 0.616850275068085 \\cos{\\left(\\sin{\\left(x \\right)} \\right)} - 0.616850275068085 \\cos{\\left(\\cos{\\left(x \\right)} \\right)}$",
            "text/plain": [
              "                                                                              \n",
              "-0.196349540849362⋅sin(2⋅sin(x)) + 0.196349540849362⋅sin(2⋅cos(x)) + 0.3926990\n",
              "                                                                              \n",
              "\n",
              "               ⎛    π⎞                                                        \n",
              "81698724⋅√2⋅cos⎜x + ─⎟ + 0.616850275068085⋅cos(sin(x)) - 0.616850275068085⋅cos\n",
              "               ⎝    4⎠                                                        \n",
              "\n",
              "        \n",
              "(cos(x))\n",
              "        "
            ]
          },
          "metadata": {},
          "execution_count": 36
        }
      ]
    },
    {
      "cell_type": "markdown",
      "metadata": {
        "id": "IslIbQPEJL_p"
      },
      "source": [
        "#1.   Suppose a body of mass m is traveling vertically upward starting at the surface of the earth. If all resistance except gravity is neglected, the escape velocity v is given by\n",
        "$$\n",
        "v^2=2gR\\int_1 ^\\infty z^{-2} dz,\n",
        "$$\n",
        "where z=x/R, R is the earth radius and g de gravity aceleration. Approximate the scape velocity\n"
      ]
    },
    {
      "cell_type": "code",
      "metadata": {
        "id": "hOkLdn35JN5o",
        "colab": {
          "base_uri": "https://localhost:8080/"
        },
        "outputId": "ccfb89e2-ba57-493b-fa1e-dd244a2ef55e"
      },
      "source": [
        "from scipy import integrate\n",
        "from sympy import simplify\n",
        "from sympy import init_printing\n",
        "\n",
        "R=6371000\n",
        "integrando= lambda x: x**-2\n",
        "\n",
        "integ=integrate.quad(integrando,1,np.inf)\n",
        "print((2*9.8*R*integ[0])**0.5)\n",
        "\n",
        "\n",
        "# x_ = np.linspace(1, 500,500000)\n",
        "# integ2=integrate.trapz(integrando(x_), x_)\n",
        "# print((2*9.8*R*integ2)**0.5)"
      ],
      "execution_count": 37,
      "outputs": [
        {
          "output_type": "stream",
          "name": "stdout",
          "text": [
            "11174.596189572132\n"
          ]
        }
      ]
    },
    {
      "cell_type": "markdown",
      "metadata": {
        "id": "9JlnzqF3YZxg"
      },
      "source": [
        "#6 \n",
        "Write a double precision program to integrate an arbitrary function numerically using the trapezoid rule, the Simpson rule, and Gaussian quadrature. For our assumed problems there is an analytics answer:\n",
        "\n",
        "$$\n",
        "\\frac{\\mathrm{d}N(t)}{\\mathrm{d}t}=e^{-t}\n",
        "$$$$\n",
        "N(1)=\\int_0^{1}e^{-t} dt=1-e^{-1}\n",
        "$$"
      ]
    },
    {
      "cell_type": "code",
      "metadata": {
        "id": "kzpL0BJqYaZR",
        "colab": {
          "base_uri": "https://localhost:8080/"
        },
        "outputId": "6c97da8b-7ba7-4a40-e3db-56b7309bff0d"
      },
      "source": [
        "t = sp.symbols(\"t\")\n",
        "\n",
        "N = lambda t: np.e**(-t)\n",
        "E = 1E-6\n",
        "\n",
        "# como a = 0, b-a = b\n",
        "b = 2     #Valor hasta el cual se calcula la integral\n",
        "\n",
        "#Metodo del trapecio\n",
        "N_p2 = sp.diff(N(t),t,2)\n",
        "No_p2 = sp.lambdify(t,-N_p2,'numpy')\n",
        "\n",
        "min1=optimize.minimize(No_p2,x0=4,bounds=((0,1 ), ) )\n",
        "max = np.abs(min1['fun'][0])\n",
        "\n",
        "h1 = np.sqrt(12*E/(max)*b) \n",
        "\n",
        "N1=int(b/h1)\n",
        "x1= np.linspace(0,b,N1+1)\n",
        "\n",
        "print('Método del trapecio:', integrate.trapz( N(x1) , x1, h1) )\n",
        "\n",
        "#Metodo de simpson \n",
        "\n",
        "  #h = (b-a)/(2N)\n",
        "  #N**4 = (b-a)**5 * Max(f'4(E))/(180*(2)**4*E)\n",
        "\n",
        "N_p4 = sp.diff(N(t),t,4)\n",
        "No_p4 = sp.lambdify(t,-N_p4,'numpy')\n",
        "\n",
        "min2 = optimize.minimize(No_p4,4,bounds=((0,1),))\n",
        "max2 = np.abs(min2['fun'][0])\n",
        "\n",
        "N2 = int(((b**5 * max2)/(180 * 2**4 * E))**(1/4))\n",
        "h2 = b/(2*N2)\n",
        "x2 = np.linspace(0,b,N2+1)\n",
        "\n",
        "print('Método de simpson', integrate.simps( N(x2) , x2, h2) )\n",
        "\n",
        "\n",
        "#Metodo de cuadratura \n",
        "print('Método de cuadratura:', integrate.quad( N, 0, b)[0])\n",
        "\n",
        "#Exacto\n",
        "exact = 1-np.e**(-b)\n",
        "print(\"El valor exacto sería: \",exact)\n"
      ],
      "execution_count": 38,
      "outputs": [
        {
          "output_type": "stream",
          "name": "stdout",
          "text": [
            "Método del trapecio: 0.8646664481975522\n",
            "Método de simpson 0.8646723662255082\n",
            "Método de cuadratura: 0.8646647167633872\n",
            "El valor exacto sería:  0.8646647167633873\n"
          ]
        }
      ]
    },
    {
      "cell_type": "markdown",
      "metadata": {
        "id": "ta_rMt6iojxU"
      },
      "source": [
        "#**6.2**.\n",
        " Compute the relative error $\\epsilon=|numerical-exact|/exact$ in each case. Present your data in the tabular form with space or tabas seprating the field. Try N values of 2, 10, 20 , 40 , 80, 160\n",
        "\n",
        "N\t$\\epsilon_T$\t$\\epsilon_S$\t$\\epsilon_G$\n",
        "2\t...\t...\t...\n",
        "10\t...\t...\t..."
      ]
    },
    {
      "cell_type": "code",
      "metadata": {
        "id": "6Ow89RTEjL_o"
      },
      "source": [
        "import pandas as pd\n",
        "\n",
        "\n",
        "t = sp.symbols(\"t\")\n",
        "N = lambda t: np.e**(-t)\n",
        "vals = (2,10,20,40,80,160)\n",
        "\n",
        "NumϵT = np.zeros(6)\n",
        "NumϵS = np.zeros(6)\n",
        "NumϵG = np.zeros(6)\n",
        "\n",
        "exact = lambda t: 1-np.e**(-t)\n",
        "\n",
        "for i in range(len(vals)):\n",
        "  x1= np.linspace(0,1,vals[i])\n",
        "  h=1/vals[i]\n",
        "\n",
        "  NumεT[i]=integrate.trapz( N(x1) , x1, h)\n",
        "\n",
        "  NumϵS[i]=integrate.simps( N(x1) , x1, h)\n",
        "\n",
        "  NumϵG[i]=integrate.quad( N, 0, 1)[0]\n",
        "\n",
        "NumE= exact(1)"
      ],
      "execution_count": 39,
      "outputs": []
    },
    {
      "cell_type": "code",
      "metadata": {
        "colab": {
          "base_uri": "https://localhost:8080/",
          "height": 235
        },
        "id": "9e2j35wJgiUf",
        "outputId": "098a17dd-0875-4047-c1b1-b8ce4a678873"
      },
      "source": [
        "ϵT = np.abs(NumϵT - NumE) / NumE\n",
        "ϵS = np.abs(NumϵS - NumE) / NumE\n",
        "ϵG = np.abs(NumϵG - NumE) / NumE\n",
        "\n",
        "#Cuadro\n",
        "df = pd.DataFrame()\n",
        "df['N'] = vals\n",
        "df['ϵT'] = ϵT \n",
        "df['ϵS'] = ϵS \n",
        "df['ϵG'] = ϵG \n",
        "\n",
        "df"
      ],
      "execution_count": 40,
      "outputs": [
        {
          "output_type": "execute_result",
          "data": {
            "text/html": [
              "<div>\n",
              "<style scoped>\n",
              "    .dataframe tbody tr th:only-of-type {\n",
              "        vertical-align: middle;\n",
              "    }\n",
              "\n",
              "    .dataframe tbody tr th {\n",
              "        vertical-align: top;\n",
              "    }\n",
              "\n",
              "    .dataframe thead th {\n",
              "        text-align: right;\n",
              "    }\n",
              "</style>\n",
              "<table border=\"1\" class=\"dataframe\">\n",
              "  <thead>\n",
              "    <tr style=\"text-align: right;\">\n",
              "      <th></th>\n",
              "      <th>N</th>\n",
              "      <th>ϵT</th>\n",
              "      <th>ϵS</th>\n",
              "      <th>ϵG</th>\n",
              "    </tr>\n",
              "  </thead>\n",
              "  <tbody>\n",
              "    <tr>\n",
              "      <th>0</th>\n",
              "      <td>2</td>\n",
              "      <td>0.081977</td>\n",
              "      <td>8.197671e-02</td>\n",
              "      <td>1.756347e-16</td>\n",
              "    </tr>\n",
              "    <tr>\n",
              "      <th>1</th>\n",
              "      <td>10</td>\n",
              "      <td>0.001029</td>\n",
              "      <td>1.214802e-04</td>\n",
              "      <td>1.756347e-16</td>\n",
              "    </tr>\n",
              "    <tr>\n",
              "      <th>2</th>\n",
              "      <td>20</td>\n",
              "      <td>0.000231</td>\n",
              "      <td>1.303125e-05</td>\n",
              "      <td>1.756347e-16</td>\n",
              "    </tr>\n",
              "    <tr>\n",
              "      <th>3</th>\n",
              "      <td>40</td>\n",
              "      <td>0.000055</td>\n",
              "      <td>1.513477e-06</td>\n",
              "      <td>1.756347e-16</td>\n",
              "    </tr>\n",
              "    <tr>\n",
              "      <th>4</th>\n",
              "      <td>80</td>\n",
              "      <td>0.000013</td>\n",
              "      <td>1.824856e-07</td>\n",
              "      <td>1.756347e-16</td>\n",
              "    </tr>\n",
              "    <tr>\n",
              "      <th>5</th>\n",
              "      <td>160</td>\n",
              "      <td>0.000003</td>\n",
              "      <td>2.240700e-08</td>\n",
              "      <td>1.756347e-16</td>\n",
              "    </tr>\n",
              "  </tbody>\n",
              "</table>\n",
              "</div>"
            ],
            "text/plain": [
              "     N        ϵT            ϵS            ϵG\n",
              "0    2  0.081977  8.197671e-02  1.756347e-16\n",
              "1   10  0.001029  1.214802e-04  1.756347e-16\n",
              "2   20  0.000231  1.303125e-05  1.756347e-16\n",
              "3   40  0.000055  1.513477e-06  1.756347e-16\n",
              "4   80  0.000013  1.824856e-07  1.756347e-16\n",
              "5  160  0.000003  2.240700e-08  1.756347e-16"
            ]
          },
          "metadata": {},
          "execution_count": 40
        }
      ]
    },
    {
      "cell_type": "markdown",
      "metadata": {
        "id": "yuE8W74Bx4Yl"
      },
      "source": [
        "#6.3.\n",
        " Make a log-log plot of relative errore versus. You should observe that $\\epsilon\\approx CN^{\\alpha}$, $\\mathrm{log} \\epsilon =\\alpha \\mathrm{log}N + \\mathrm{constant}$. This mean that a power-law dependence appears as a straight line on a log-log plot, and that if you use $\\log_{10}$, the the ordinate on your log-log plot will be the negative of the number of decimal places of presicion in your calculation."
      ]
    },
    {
      "cell_type": "code",
      "metadata": {
        "colab": {
          "base_uri": "https://localhost:8080/",
          "height": 413
        },
        "id": "X_FoUJjfx8iT",
        "outputId": "1500af15-e2dd-41d7-821d-1f1681781920"
      },
      "source": [
        "plt.figure(figsize=(10,6))\n",
        "\n",
        "plt.title(\"ϵ vs N\", fontsize=20)\n",
        "plt.loglog(df['N'],df['ϵT'],'ro-',label = \"ϵT\")\n",
        "plt.loglog(df['N'],df['ϵS'],'bo-',label = \"ϵS\")\n",
        "plt.loglog(df['N'],df['ϵG'],'yo-',label = \"ϵG\")\n",
        "\n",
        "plt.xlabel(\"N\")\n",
        "plt.ylabel(\"Errores\")\n",
        "plt.legend()\n",
        "plt.show()"
      ],
      "execution_count": 41,
      "outputs": [
        {
          "output_type": "display_data",
          "data": {
            "image/png": "[encoded data removed]",
            "text/plain": [
              "<Figure size 720x432 with 1 Axes>"
            ]
          },
          "metadata": {
            "needs_background": "light"
          }
        }
      ]
    },
    {
      "cell_type": "markdown",
      "metadata": {
        "id": "zJSqY2zERO9W"
      },
      "source": [
        "###6.4. \n",
        "Use your plot or table to stimate the power-law dependence of the error $\\epsilon$ on the number of points N and to determine the number of decimal places of presicion in your calculation. Do this for both the trapezoid and simpsons rules and for both the algolrithmic and round-off error regimes. (Note that if may be hard to reach the round-off error regime for the trapezoid rule becasue the aproximation ) error is so large"
      ]
    },
    {
      "cell_type": "code",
      "metadata": {
        "colab": {
          "base_uri": "https://localhost:8080/",
          "height": 235
        },
        "id": "Po6g9H9TwGEj",
        "outputId": "401f44c1-ddec-4629-95c8-e63205540b09"
      },
      "source": [
        "df['log10(ϵT)']=np.log10(df['ϵT'])\n",
        "df['log10(ϵS)']=np.log10(df['ϵS'])\n",
        "df['log10(N)']=np.log10(df['N'])\n",
        "\n",
        "\n",
        "#α=log(ϵ)/log(N)\n",
        "df['αT']=df['log10(ϵT)']/df['log10(N)']\n",
        "df['αS']=df['log10(ϵS)']/df['log10(N)']\n",
        "df"
      ],
      "execution_count": 42,
      "outputs": [
        {
          "output_type": "execute_result",
          "data": {
            "text/html": [
              "<div>\n",
              "<style scoped>\n",
              "    .dataframe tbody tr th:only-of-type {\n",
              "        vertical-align: middle;\n",
              "    }\n",
              "\n",
              "    .dataframe tbody tr th {\n",
              "        vertical-align: top;\n",
              "    }\n",
              "\n",
              "    .dataframe thead th {\n",
              "        text-align: right;\n",
              "    }\n",
              "</style>\n",
              "<table border=\"1\" class=\"dataframe\">\n",
              "  <thead>\n",
              "    <tr style=\"text-align: right;\">\n",
              "      <th></th>\n",
              "      <th>N</th>\n",
              "      <th>ϵT</th>\n",
              "      <th>ϵS</th>\n",
              "      <th>ϵG</th>\n",
              "      <th>log10(ϵT)</th>\n",
              "      <th>log10(ϵS)</th>\n",
              "      <th>log10(N)</th>\n",
              "      <th>αT</th>\n",
              "      <th>αS</th>\n",
              "    </tr>\n",
              "  </thead>\n",
              "  <tbody>\n",
              "    <tr>\n",
              "      <th>0</th>\n",
              "      <td>2</td>\n",
              "      <td>0.081977</td>\n",
              "      <td>8.197671e-02</td>\n",
              "      <td>1.756347e-16</td>\n",
              "      <td>-1.086310</td>\n",
              "      <td>-1.086310</td>\n",
              "      <td>0.30103</td>\n",
              "      <td>-3.608642</td>\n",
              "      <td>-3.608642</td>\n",
              "    </tr>\n",
              "    <tr>\n",
              "      <th>1</th>\n",
              "      <td>10</td>\n",
              "      <td>0.001029</td>\n",
              "      <td>1.214802e-04</td>\n",
              "      <td>1.756347e-16</td>\n",
              "      <td>-2.987756</td>\n",
              "      <td>-3.915494</td>\n",
              "      <td>1.00000</td>\n",
              "      <td>-2.987756</td>\n",
              "      <td>-3.915494</td>\n",
              "    </tr>\n",
              "    <tr>\n",
              "      <th>2</th>\n",
              "      <td>20</td>\n",
              "      <td>0.000231</td>\n",
              "      <td>1.303125e-05</td>\n",
              "      <td>1.756347e-16</td>\n",
              "      <td>-3.636708</td>\n",
              "      <td>-4.885014</td>\n",
              "      <td>1.30103</td>\n",
              "      <td>-2.795253</td>\n",
              "      <td>-3.754728</td>\n",
              "    </tr>\n",
              "    <tr>\n",
              "      <th>3</th>\n",
              "      <td>40</td>\n",
              "      <td>0.000055</td>\n",
              "      <td>1.513477e-06</td>\n",
              "      <td>1.756347e-16</td>\n",
              "      <td>-4.261315</td>\n",
              "      <td>-5.820024</td>\n",
              "      <td>1.60206</td>\n",
              "      <td>-2.659897</td>\n",
              "      <td>-3.632838</td>\n",
              "    </tr>\n",
              "    <tr>\n",
              "      <th>4</th>\n",
              "      <td>80</td>\n",
              "      <td>0.000013</td>\n",
              "      <td>1.824856e-07</td>\n",
              "      <td>1.756347e-16</td>\n",
              "      <td>-4.874437</td>\n",
              "      <td>-6.738771</td>\n",
              "      <td>1.90309</td>\n",
              "      <td>-2.561327</td>\n",
              "      <td>-3.540963</td>\n",
              "    </tr>\n",
              "    <tr>\n",
              "      <th>5</th>\n",
              "      <td>160</td>\n",
              "      <td>0.000003</td>\n",
              "      <td>2.240700e-08</td>\n",
              "      <td>1.756347e-16</td>\n",
              "      <td>-5.481976</td>\n",
              "      <td>-7.649616</td>\n",
              "      <td>2.20412</td>\n",
              "      <td>-2.487149</td>\n",
              "      <td>-3.470599</td>\n",
              "    </tr>\n",
              "  </tbody>\n",
              "</table>\n",
              "</div>"
            ],
            "text/plain": [
              "     N        ϵT            ϵS  ...  log10(N)        αT        αS\n",
              "0    2  0.081977  8.197671e-02  ...   0.30103 -3.608642 -3.608642\n",
              "1   10  0.001029  1.214802e-04  ...   1.00000 -2.987756 -3.915494\n",
              "2   20  0.000231  1.303125e-05  ...   1.30103 -2.795253 -3.754728\n",
              "3   40  0.000055  1.513477e-06  ...   1.60206 -2.659897 -3.632838\n",
              "4   80  0.000013  1.824856e-07  ...   1.90309 -2.561327 -3.540963\n",
              "5  160  0.000003  2.240700e-08  ...   2.20412 -2.487149 -3.470599\n",
              "\n",
              "[6 rows x 9 columns]"
            ]
          },
          "metadata": {},
          "execution_count": 42
        }
      ]
    },
    {
      "cell_type": "markdown",
      "metadata": {
        "id": "3Zj-JhorkWx_"
      },
      "source": [
        "El valor de alpha para el método de simpson ronda el $3.6$ y para el método del trapecio está por $2.6$\n",
        "\n",
        "Para el método de cuadratura el error relativo es el $0$ computacional"
      ]
    }
  ]
}