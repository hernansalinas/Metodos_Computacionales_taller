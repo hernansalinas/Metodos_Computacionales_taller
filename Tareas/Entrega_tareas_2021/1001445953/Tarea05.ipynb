{
  "nbformat": 4,
  "nbformat_minor": 0,
  "metadata": {
    "colab": {
      "name": "Tarea05.ipynb",
      "provenance": [],
      "collapsed_sections": []
    },
    "kernelspec": {
      "name": "python3",
      "display_name": "Python 3"
    },
    "language_info": {
      "name": "python"
    }
  },
  "cells": [
    {
      "cell_type": "markdown",
      "metadata": {
        "id": "_noOEchrni8v"
      },
      "source": [
        "# Taller Resolver los siguientes problemas, por el metodo de la biseccion, Punto fijo, newton, secante, etc.\n",
        "\n",
        "**Nombre:** Marlon Jhassir García Velásquez\n",
        "\n",
        "**Identificacion:** 1001445953\n",
        "\n",
        "3. Un reservorio de longitud L tiene una seccion transveral en forma de semicirculo con radio r.\n",
        "\n",
        "\\begin{equation}\n",
        "V=L \\left ( \\frac{1}{2}\\pi r^2 -r^2 \\arcsin{\\frac{h}{r}}-h(r^2-h^2) ^{1/2} \\right)\n",
        "\\end{equation}\n",
        "\n",
        "Determinar la profundidad del agua para L=10pies, r=1pies, V=12.4pies\n",
        "\n",
        "\n",
        "![Reservorio](https://raw.githubusercontent.com/hernansalinas/Metodos_Computacionales_taller/main/sesiones/images/ecuacion_1_variable/Fig1.png)\n"
      ]
    },
    {
      "cell_type": "code",
      "metadata": {
        "cellView": "form",
        "id": "A_US0Mh_8wzc"
      },
      "source": [
        "#@title Librerias\n",
        "\n",
        "import numpy as np\n",
        "from scipy import optimize"
      ],
      "execution_count": 1,
      "outputs": []
    },
    {
      "cell_type": "code",
      "metadata": {
        "colab": {
          "base_uri": "https://localhost:8080/"
        },
        "id": "vRS1ph2PnlFH",
        "outputId": "04c75a52-db2b-4441-edfd-57d36700e141"
      },
      "source": [
        "#Valores dados por el enunciado\n",
        "V = 12.4\n",
        "L = 10\n",
        "R = 1\n",
        "\n",
        "#Definimos las funciones g,h y f para aplicar el metodo de bisección\n",
        "g = lambda x: np.pi*R/2 - V/L - np.arcsin(x/R)\n",
        "h = lambda x: x*np.sqrt(R**2-x**2)\n",
        "f = lambda x: g(x) - h(x)\n",
        "\n",
        "#Aplicamos el metodo e imprimimos los resultados\n",
        "h = optimize.bisect(f,0,R)  #como R = 1, tomamos el intervalo [0,R] = [0,1]\n",
        "print(\"h sería aproximadamente: {}\".format(h))\n",
        "p = R-h\n",
        "print(\"\"\"Tenemos entonces, que la profundidad del agua sería aproximadamenre\n",
        "R - h = {} - {} = {}\n",
        "  \"\"\".format(R,h,p))"
      ],
      "execution_count": 2,
      "outputs": [
        {
          "output_type": "stream",
          "text": [
            "h sería aproximadamente: 0.1661660346599092\n",
            "Tenemos entonces, que la profundidad del agua sería aproximadamenre\n",
            "R - h = 1 - 0.1661660346599092 = 0.8338339653400908\n",
            "  \n"
          ],
          "name": "stdout"
        }
      ]
    },
    {
      "cell_type": "markdown",
      "metadata": {
        "id": "IcnaoSBUnmFn"
      },
      "source": [
        "4.Resolver la siguiente situación\n",
        "\n",
        "En el diseño de los vehiculos para todo tipo de terreno,  es necesario tener encuentra fallas cuando se trata de liberar dos tipos de obstáculos. Una es la falla por rozamiento, y ocurre cuando el vehiculo \n",
        "intenta cruzar un obstáculo que hace que su fondo toque el suelo. La otra recibie el nombre de falla por colision de la defensa delantera y ocurre cuando el vehiculo desciende por una zanja y la defensa delantera toca el suelo.\n",
        "\n",
        "\n",
        "\n",
        "La figura muestra las componentes asociados al segundo tipo  de falla. En ella se indeca el ángulo máximo $\\alpha$ que puede alcanzar un vehiculo cuando $\\beta$ es el angulo maximo en que no ocurre la falla \n",
        "por rozamiento y satisface la siguiente ecuación: \n",
        "\n",
        "\n",
        "\\begin{equation}\n",
        "A \\sin(\\alpha) \\cos(\\alpha)+B \\sin^2(\\alpha) - C \\cos(\\alpha) -  E  \\sin(\\alpha)=0\n",
        "\\end{equation}\n",
        "\n",
        "donde; \n",
        "\\begin{equation}\n",
        "A = l \\sin(\\beta)\n",
        "\\end{equation}\n",
        "\n",
        "\\begin{equation}\n",
        "B = l \\cos(\\beta)\n",
        "\\end{equation}\n",
        "\\begin{equation}\n",
        "C = (h + 0.5 D )\\sin(\\beta) - 0.5 D \\tan(\\beta)\n",
        "\\end{equation}\n",
        "\n",
        "\\begin{equation}\n",
        "E = (h + 0.5 D ) \\cos(\\beta) - 0.5 * D\n",
        "\\end{equation}\n",
        "\n",
        "\n",
        "Para $l=89$pulg, $h=49$pul, $D=55$, $\\beta=11.5$ , el angulo se aproximara a 33. Verificar este resultados\n",
        "\n",
        "\n",
        "![fallas_vehiculo](https://raw.githubusercontent.com/hernansalinas/Metodos_Computacionales_taller/main/sesiones/images/ecuacion_1_variable/Fig2.png)\n",
        "\n",
        "Referencias: Numerical Analysis Book by J. Douglas Faires and Richard L. Burden"
      ]
    },
    {
      "cell_type": "code",
      "metadata": {
        "colab": {
          "base_uri": "https://localhost:8080/"
        },
        "id": "NOsPHvRfnrnS",
        "outputId": "19cd8a51-0229-4bb3-e0a0-307b3626674e"
      },
      "source": [
        "#Valores dados por el enunciado\n",
        "l = 89\n",
        "h = 49\n",
        "D = 55\n",
        "β = 11.5 * np.pi / 180\n",
        "\n",
        "\"\"\"Con los valores anteriores, hallamos A,B,C y E de esta manera\n",
        "el univo valor desconocido es α \"\"\"\n",
        "A = l*np.sin(β)\n",
        "B = l*np.cos(β)\n",
        "C = (h+0.5*D)*np.sin(β) - 0.5*D*np.tan(β)\n",
        "E = (h+0.5*D)*np.cos(β) - 0.5*D\n",
        "\n",
        "#Definimos las funciones g,h,f para aplicar el metodo de Newton-raphson\n",
        "g = lambda α: A*np.sin(α)*np.cos(α)+B*(np.sin(α))**2\n",
        "h = lambda α: C*np.cos(α)+ E*np.sin(α)\n",
        "f = lambda α: g(α) - h(α)\n",
        "\n",
        "#Aplicamos el metodo e imprimimos el resultado\n",
        "α = optimize.newton(f,30)\n",
        "print(\"\"\"\n",
        "obtenemos que α = {}\n",
        "\n",
        "como podemos ver se aproxima es a 32, esto se podria deber\n",
        "debido a los errores que tiene el computador al hacer \n",
        "calculos\n",
        "\"\"\".format(α))"
      ],
      "execution_count": 3,
      "outputs": [
        {
          "output_type": "stream",
          "text": [
            "\n",
            "obtenemos que α = 31.99139954809234\n",
            "\n",
            "como podemos ver se aproxima es a 32, esto se podria deber\n",
            "debido a los errores que tiene el computador al hacer \n",
            "calculos\n",
            "\n"
          ],
          "name": "stdout"
        }
      ]
    }
  ]
}