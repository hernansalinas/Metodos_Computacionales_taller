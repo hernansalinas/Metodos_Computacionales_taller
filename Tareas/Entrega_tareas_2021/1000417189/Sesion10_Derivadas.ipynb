{
  "nbformat": 4,
  "nbformat_minor": 0,
  "metadata": {
    "colab": {
      "name": "Copia de Sesion10_Derivadas.ipynb",
      "provenance": [],
      "collapsed_sections": [],
      "include_colab_link": true
    },
    "kernelspec": {
      "name": "python3",
      "display_name": "Python 3"
    }
  },
  "cells": [
    {
      "cell_type": "markdown",
      "metadata": {
        "id": "view-in-github",
        "colab_type": "text"
      },
      "source": [
        "<a href=\"https://colab.research.google.com/github/CamiloLon/Metodos_Computacionales_taller/blob/main/Tareas/Entrega_tareas_2021/1000417189/Sesion10_Derivadas.ipynb\" target=\"_parent\"><img src=\"https://colab.research.google.com/assets/colab-badge.svg\" alt=\"Open In Colab\"/></a>"
      ]
    },
    {
      "cell_type": "code",
      "metadata": {
        "id": "P2nPTRL6kOKi"
      },
      "source": [
        " import numpy as np\n",
        "import sympy as sp\n",
        "import scipy as sc\n",
        "import pandas as pd\n",
        "from scipy.misc import derivative\n",
        "from sympy import init_printing\n",
        "import matplotlib.pylab as plt\n",
        "init_printing() "
      ],
      "execution_count": 1,
      "outputs": []
    },
    {
      "cell_type": "markdown",
      "metadata": {
        "id": "pBgX4KV08EEw"
      },
      "source": [
        "# Tarea Derivada\n",
        "\n",
        "Los siguientes datos, son datos experimentales de un péndulo simple tomadas a través de una cámara web y procesados con el programa kinovea. Dados los datos en formato csv, se pide  construir un programa que realice lo siguiente: \n",
        "\n",
        "1. Leer el archivo csv a través de un Data Frame de Pandas, las columnas del data frame deberan ser:\n",
        "\n",
        "col=[\"Tiempo[ms]\", \"AnguloDeg\", \"AnguloRad\"]\n",
        "\n",
        "2. Construya una grafica de :\n",
        "plt.plot(df['Tiempo[ms]'], df['AnguloDeg'],\"b-\")\n",
        "\n",
        "¿Qué puede concluir respecto al movimiento del pendulo?\n",
        "\n",
        "\n",
        "3. Calculo la transformada de fourier de los datos obtenidos, para encontrar la frecuencia de oscilacion del sistema, para ello realice lo siguiente:\n",
        "\n",
        "- importe la librerias de scipy fft, fftfreq.\n",
        "- Aplique la transformada de fourier como sigue:\n",
        "\n",
        "```\n",
        "tf = fft(df['AnguloRad'].values)\n",
        "T = 33E-3 #Paso del tiempo\n",
        "N = len(df['Tiempo[ms]'])\n",
        "xf = fftfreq(N, T)[:N//2]\n",
        "\n",
        "plt.plot(xf[1:N//2], np.abs(tf[1:N//2]),\"o-\")\n",
        "plt.ylabel(\"TF\")\n",
        "plt.xlabel(\"Frecuencia\")\n",
        "plt.xlim(0, 2)\n",
        "\n",
        "```\n",
        "\n",
        "-  Para las valores en el eje x y eje y de la anterior gráfica, realice una interpolación. \n",
        "\n",
        "- Encuentra el valor máximo empleando metodos de diferenciación.\n",
        "\n",
        "\n",
        "\n",
        "\n",
        "\n"
      ]
    },
    {
      "cell_type": "code",
      "metadata": {
        "id": "YL3BB1w78f3r"
      },
      "source": [
        "import pandas as pd"
      ],
      "execution_count": 2,
      "outputs": []
    },
    {
      "cell_type": "code",
      "metadata": {
        "id": "TeqNmFGqG3TW"
      },
      "source": [
        "route = \"https://docs.google.com/spreadsheets/d/e/2PACX-1vT8btHZ-A6ChzV5Rx_CQmCzbhO10J7R6LvQAyHx9qOCoCDAL9RJgaGUATf2z5lTMo-SjByvrnaX02Cz/pub?output=csv\"\n",
        "df = pd.read_csv(route,\";\")"
      ],
      "execution_count": 3,
      "outputs": []
    },
    {
      "cell_type": "code",
      "metadata": {
        "id": "OSOiGUoNHDez"
      },
      "source": [
        ""
      ],
      "execution_count": 3,
      "outputs": []
    },
    {
      "cell_type": "code",
      "metadata": {
        "id": "e1WzA7aPHFH7"
      },
      "source": [
        "col = [\"Tiempo[ms]\", \"AnguloDeg\", \"AnguloRad\"]\n",
        "#1. Como hacer un rename \n",
        "# https://pandas.pydata.org/pandas-docs/stable/reference/api/pandas.DataFrame.rename.html\n",
        "\n",
        "#2. Como pasar los valores del angulo que son tipo string a float "
      ],
      "execution_count": 4,
      "outputs": []
    },
    {
      "cell_type": "code",
      "metadata": {
        "id": "tb4CwYCEUifF",
        "colab": {
          "base_uri": "https://localhost:8080/",
          "height": 419
        },
        "outputId": "4532e975-dc4f-4a74-c48e-68154b26e7d8"
      },
      "source": [
        "df = df.rename(columns = {'Tiempo (ms)':\"Tiempo[ms]\", 'Ángulo 1,':'AnguloDeg'})\n",
        "df"
      ],
      "execution_count": 5,
      "outputs": [
        {
          "output_type": "execute_result",
          "data": {
            "text/html": [
              "<div>\n",
              "<style scoped>\n",
              "    .dataframe tbody tr th:only-of-type {\n",
              "        vertical-align: middle;\n",
              "    }\n",
              "\n",
              "    .dataframe tbody tr th {\n",
              "        vertical-align: top;\n",
              "    }\n",
              "\n",
              "    .dataframe thead th {\n",
              "        text-align: right;\n",
              "    }\n",
              "</style>\n",
              "<table border=\"1\" class=\"dataframe\">\n",
              "  <thead>\n",
              "    <tr style=\"text-align: right;\">\n",
              "      <th></th>\n",
              "      <th>Tiempo[ms]</th>\n",
              "      <th>AnguloDeg</th>\n",
              "    </tr>\n",
              "  </thead>\n",
              "  <tbody>\n",
              "    <tr>\n",
              "      <th>0</th>\n",
              "      <td>9</td>\n",
              "      <td>59,289611816406</td>\n",
              "    </tr>\n",
              "    <tr>\n",
              "      <th>1</th>\n",
              "      <td>42</td>\n",
              "      <td>59,9823265075684</td>\n",
              "    </tr>\n",
              "    <tr>\n",
              "      <th>2</th>\n",
              "      <td>75</td>\n",
              "      <td>61,2374534606934</td>\n",
              "    </tr>\n",
              "    <tr>\n",
              "      <th>3</th>\n",
              "      <td>108</td>\n",
              "      <td>63,49247741699</td>\n",
              "    </tr>\n",
              "    <tr>\n",
              "      <th>4</th>\n",
              "      <td>142</td>\n",
              "      <td>65,3887710571289</td>\n",
              "    </tr>\n",
              "    <tr>\n",
              "      <th>...</th>\n",
              "      <td>...</td>\n",
              "      <td>...</td>\n",
              "    </tr>\n",
              "    <tr>\n",
              "      <th>2842</th>\n",
              "      <td>94709</td>\n",
              "      <td>94,9375762939453</td>\n",
              "    </tr>\n",
              "    <tr>\n",
              "      <th>2843</th>\n",
              "      <td>94743</td>\n",
              "      <td>96,479850769043</td>\n",
              "    </tr>\n",
              "    <tr>\n",
              "      <th>2844</th>\n",
              "      <td>94776</td>\n",
              "      <td>97,9406890869141</td>\n",
              "    </tr>\n",
              "    <tr>\n",
              "      <th>2845</th>\n",
              "      <td>94809</td>\n",
              "      <td>99,3180923461914</td>\n",
              "    </tr>\n",
              "    <tr>\n",
              "      <th>2846</th>\n",
              "      <td>94843</td>\n",
              "      <td>100,637817382813</td>\n",
              "    </tr>\n",
              "  </tbody>\n",
              "</table>\n",
              "<p>2847 rows × 2 columns</p>\n",
              "</div>"
            ],
            "text/plain": [
              "      Tiempo[ms]         AnguloDeg\n",
              "0              9   59,289611816406\n",
              "1             42  59,9823265075684\n",
              "2             75  61,2374534606934\n",
              "3            108    63,49247741699\n",
              "4            142  65,3887710571289\n",
              "...          ...               ...\n",
              "2842       94709  94,9375762939453\n",
              "2843       94743   96,479850769043\n",
              "2844       94776  97,9406890869141\n",
              "2845       94809  99,3180923461914\n",
              "2846       94843  100,637817382813\n",
              "\n",
              "[2847 rows x 2 columns]"
            ]
          },
          "metadata": {},
          "execution_count": 5
        }
      ]
    },
    {
      "cell_type": "code",
      "metadata": {
        "id": "-47fs6x8JKtJ",
        "colab": {
          "base_uri": "https://localhost:8080/",
          "height": 35
        },
        "outputId": "b4d33a20-e8df-452c-af4f-0736e233af28"
      },
      "source": [
        "valor1=df[\"AnguloDeg\"].values[0]\n",
        "valor1"
      ],
      "execution_count": 6,
      "outputs": [
        {
          "output_type": "execute_result",
          "data": {
            "application/vnd.google.colaboratory.intrinsic+json": {
              "type": "string"
            },
            "text/plain": [
              "'59,289611816406'"
            ]
          },
          "metadata": {},
          "execution_count": 6
        }
      ]
    },
    {
      "cell_type": "code",
      "metadata": {
        "id": "5V1BqIt4KY8M",
        "colab": {
          "base_uri": "https://localhost:8080/"
        },
        "outputId": "c4a58437-8ef1-4343-89bc-99f9d8d05090"
      },
      "source": [
        "a=\"3.0\"\n",
        "(df[\"AnguloDeg\"].values)"
      ],
      "execution_count": 7,
      "outputs": [
        {
          "output_type": "execute_result",
          "data": {
            "text/plain": [
              "array(['59,289611816406', '59,9823265075684', '61,2374534606934', ...,\n",
              "       '97,9406890869141', '99,3180923461914', '100,637817382813'],\n",
              "      dtype=object)"
            ]
          },
          "metadata": {},
          "execution_count": 7
        }
      ]
    },
    {
      "cell_type": "code",
      "metadata": {
        "id": "6Nb5IKHXJmz4"
      },
      "source": [
        "valor2 = valor1.replace(\",\", \".\")"
      ],
      "execution_count": 8,
      "outputs": []
    },
    {
      "cell_type": "markdown",
      "metadata": {
        "id": "K6YKfPQOJiP9"
      },
      "source": [
        ""
      ]
    },
    {
      "cell_type": "code",
      "metadata": {
        "id": "5lWYAF8PJQn6"
      },
      "source": [
        "eval_= np.vectorize(eval )\n",
        "df[\"AnguloDeg\"] = eval_(df[\"AnguloDeg\"].str.replace(\",\", \".\")).astype(\"float64\")"
      ],
      "execution_count": 23,
      "outputs": []
    },
    {
      "cell_type": "code",
      "metadata": {
        "id": "k9R-7br8Jy9r",
        "colab": {
          "base_uri": "https://localhost:8080/"
        },
        "outputId": "cd47f99a-a1aa-4af4-d77d-324898f9ed38"
      },
      "source": [
        "df[\"AnguloDeg\"]"
      ],
      "execution_count": 24,
      "outputs": [
        {
          "output_type": "execute_result",
          "data": {
            "text/plain": [
              "0        59.289612\n",
              "1        59.982327\n",
              "2        61.237453\n",
              "3        63.492477\n",
              "4        65.388771\n",
              "           ...    \n",
              "2842     94.937576\n",
              "2843     96.479851\n",
              "2844     97.940689\n",
              "2845     99.318092\n",
              "2846    100.637817\n",
              "Name: AnguloDeg, Length: 2847, dtype: float64"
            ]
          },
          "metadata": {},
          "execution_count": 24
        }
      ]
    },
    {
      "cell_type": "code",
      "metadata": {
        "id": "tVfn_E8nLRRN"
      },
      "source": [
        "df[\"AnguloRad\"] = np.deg2rad(df[\"AnguloDeg\"].values )"
      ],
      "execution_count": 26,
      "outputs": []
    },
    {
      "cell_type": "code",
      "metadata": {
        "id": "xlvt1wQqLRvc",
        "colab": {
          "base_uri": "https://localhost:8080/"
        },
        "outputId": "c904177f-753d-4b6e-cfff-a20af747e181"
      },
      "source": [
        "df[\"AnguloRad\"] = df[\"AnguloRad\"] - np.pi/2\n",
        "print(df[\"AnguloRad\"])"
      ],
      "execution_count": 27,
      "outputs": [
        {
          "output_type": "stream",
          "name": "stdout",
          "text": [
            "0      -0.535997\n",
            "1      -0.523907\n",
            "2      -0.502001\n",
            "3      -0.462644\n",
            "4      -0.429547\n",
            "          ...   \n",
            "2842    0.086177\n",
            "2843    0.113095\n",
            "2844    0.138591\n",
            "2845    0.162631\n",
            "2846    0.185665\n",
            "Name: AnguloRad, Length: 2847, dtype: float64\n"
          ]
        }
      ]
    },
    {
      "cell_type": "code",
      "metadata": {
        "id": "p9F3PLJALfxh",
        "colab": {
          "base_uri": "https://localhost:8080/",
          "height": 285
        },
        "outputId": "0745a85c-51cb-4a55-a3a2-d2df8042ead4"
      },
      "source": [
        "plt.figure()\n",
        "plt.plot(df[\"Tiempo[ms]\"], df[\"AnguloRad\"], \"r.\")\n",
        "plt.xlim(0, 30000 )"
      ],
      "execution_count": 28,
      "outputs": [
        {
          "output_type": "execute_result",
          "data": {
            "image/png": "[encoded data removed]",
            "text/latex": "$\\displaystyle \\left( 0.0, \\  30000.0\\right)$",
            "text/plain": [
              "(0.0, 30000.0)"
            ]
          },
          "metadata": {},
          "execution_count": 28
        },
        {
          "output_type": "display_data",
          "data": {
            "image/png": "[encoded data removed]",
            "text/plain": [
              "<Figure size 432x288 with 1 Axes>"
            ]
          },
          "metadata": {
            "needs_background": "light"
          }
        }
      ]
    },
    {
      "cell_type": "code",
      "metadata": {
        "id": "3Zlw0fsFNo3n"
      },
      "source": [
        "from scipy.fft import fft, fftfreq"
      ],
      "execution_count": 29,
      "outputs": []
    },
    {
      "cell_type": "code",
      "metadata": {
        "id": "wLgV5RziLn8o",
        "colab": {
          "base_uri": "https://localhost:8080/",
          "height": 299
        },
        "outputId": "f4cbe35d-aee8-4212-88d4-d12d8ff3d7ac"
      },
      "source": [
        "tf = fft(df['AnguloRad'].values)\n",
        "T = 33E-3 #Paso del tiempo\n",
        "N = len(df['Tiempo[ms]'])\n",
        "xf = fftfreq(N, T)[:N//2]\n",
        "plt.plot(xf[1:N//2], np.abs(tf[1:N//2]),\"o-\")\n",
        "plt.ylabel(\"TF\")\n",
        "plt.xlabel(\"Frecuencia\")\n",
        "plt.xlim(0.6, 0.75)"
      ],
      "execution_count": 30,
      "outputs": [
        {
          "output_type": "execute_result",
          "data": {
            "image/png": "[encoded data removed]",
            "text/latex": "$\\displaystyle \\left( 0.6, \\  0.75\\right)$",
            "text/plain": [
              "(0.6, 0.75)"
            ]
          },
          "metadata": {},
          "execution_count": 30
        },
        {
          "output_type": "display_data",
          "data": {
            "image/png": "[encoded data removed]",
            "text/plain": [
              "<Figure size 432x288 with 1 Axes>"
            ]
          },
          "metadata": {
            "needs_background": "light"
          }
        }
      ]
    },
    {
      "cell_type": "code",
      "metadata": {
        "id": "JaAjQOvcOC-6"
      },
      "source": [
        "from scipy.interpolate import CubicSpline\n"
      ],
      "execution_count": 31,
      "outputs": []
    },
    {
      "cell_type": "code",
      "metadata": {
        "id": "UBNzNonNQFBj"
      },
      "source": [
        "cs = CubicSpline(xf[1:N//2], np.abs(tf[1:N//2]))"
      ],
      "execution_count": 32,
      "outputs": []
    },
    {
      "cell_type": "code",
      "metadata": {
        "id": "wWMmIjR5SIGN",
        "colab": {
          "base_uri": "https://localhost:8080/",
          "height": 285
        },
        "outputId": "f4aa68ce-ba01-4261-de53-266ea63401ff"
      },
      "source": [
        "plt.plot(xf[1:N//2], np.abs(tf[1:N//2]),\"r.\")\n",
        "plt.plot(abs(xf[1:N//2]), -abs(cs(xf[1:N//2])),\"b\" ) \n",
        "plt.xlim(0.25, 1)"
      ],
      "execution_count": 33,
      "outputs": [
        {
          "output_type": "execute_result",
          "data": {
            "image/png": "[encoded data removed]",
            "text/latex": "$\\displaystyle \\left( 0.25, \\  1.0\\right)$",
            "text/plain": [
              "(0.25, 1.0)"
            ]
          },
          "metadata": {},
          "execution_count": 33
        },
        {
          "output_type": "display_data",
          "data": {
            "image/png": "[encoded data removed]",
            "text/plain": [
              "<Figure size 432x288 with 1 Axes>"
            ]
          },
          "metadata": {
            "needs_background": "light"
          }
        }
      ]
    },
    {
      "cell_type": "code",
      "metadata": {
        "id": "QjLNJf5YSJEb"
      },
      "source": [
        "from scipy import optimize\n"
      ],
      "execution_count": 34,
      "outputs": []
    },
    {
      "cell_type": "code",
      "metadata": {
        "id": "o0xqzvEySlAI",
        "colab": {
          "base_uri": "https://localhost:8080/"
        },
        "outputId": "edfdccd3-13b8-444e-ef6e-26937614edc3"
      },
      "source": [
        "cs = CubicSpline(xf[1:N//2], -np.abs(tf[1:N//2]))\n",
        "min = optimize.fmin_powell(cs, 0.2)\n"
      ],
      "execution_count": 35,
      "outputs": [
        {
          "output_type": "stream",
          "name": "stdout",
          "text": [
            "Optimization terminated successfully.\n",
            "         Current function value: -417.867925\n",
            "         Iterations: 2\n",
            "         Function evaluations: 44\n"
          ]
        }
      ]
    },
    {
      "cell_type": "code",
      "metadata": {
        "id": "JSp45yTmS-Wb",
        "colab": {
          "base_uri": "https://localhost:8080/",
          "height": 37
        },
        "outputId": "4ec18504-680c-42f1-9ed6-0a79f636caf7"
      },
      "source": [
        "abs(cs(min))"
      ],
      "execution_count": 36,
      "outputs": [
        {
          "output_type": "execute_result",
          "data": {
            "image/png": "[encoded data removed]",
            "text/latex": "$\\displaystyle 417.867924631318$",
            "text/plain": [
              "417.86792463131843"
            ]
          },
          "metadata": {},
          "execution_count": 36
        }
      ]
    },
    {
      "cell_type": "code",
      "metadata": {
        "id": "pjE-cevDToGO",
        "colab": {
          "base_uri": "https://localhost:8080/"
        },
        "outputId": "62b1de52-cb26-4f30-e9d5-0f4d10477659"
      },
      "source": [
        "min"
      ],
      "execution_count": 37,
      "outputs": [
        {
          "output_type": "execute_result",
          "data": {
            "text/plain": [
              "array(0.67156)"
            ]
          },
          "metadata": {},
          "execution_count": 37
        }
      ]
    },
    {
      "cell_type": "code",
      "metadata": {
        "id": "s4_3FOfOTu-W",
        "colab": {
          "base_uri": "https://localhost:8080/"
        },
        "outputId": "9b429460-8a18-4db2-f930-73cf2a5c6c30"
      },
      "source": [
        "cs(0.67156)"
      ],
      "execution_count": 38,
      "outputs": [
        {
          "output_type": "execute_result",
          "data": {
            "text/plain": [
              "array(-417.86792463)"
            ]
          },
          "metadata": {},
          "execution_count": 38
        }
      ]
    },
    {
      "cell_type": "code",
      "metadata": {
        "colab": {
          "base_uri": "https://localhost:8080/",
          "height": 347
        },
        "id": "xmVnfujd7urN",
        "outputId": "81a7326e-295c-4980-d70f-84d99ed57340"
      },
      "source": [
        "from scipy import misc\n",
        "\n",
        "#Hallar el maximo derivando \n",
        "csx = CubicSpline(xf[1:N//2], np.abs(tf[1:N//2])) \n",
        "\n",
        "#Vectorizamos la funcion de derivada \n",
        "array_derivate=np.vectorize(misc.derivative)\n",
        "\n",
        "#Hallamos la derivada\n",
        "csp = array_derivate(csx,xf[1:N//2],dx=1E-14)\n",
        "\n",
        "#Hacemos una interpolación con la derivada\n",
        "cs1 = CubicSpline(xf[1:N//2], csp) \n",
        "\n",
        "#hallamos el punto en el cual la derivada se hace 0 \n",
        "max = optimize.bisect(cs1,0.6,0.7)\n",
        "\n",
        "#Impresiones\n",
        "print(\"\"\"\n",
        "El valor donde la frecuencia es maxima es: {}\n",
        "Y su valor en frecuencia es :              {}\n",
        "\"\"\".format(max,csx(max)))\n",
        "\n",
        "#Gráfico \n",
        "plt.figure()\n",
        "plt.plot(xf[1:N//2],np.abs(csx(xf[1:N//2])),color=\"purple\")\n",
        "plt.plot(abs(xf[1:N//2]), csp,\"b\")\n",
        "plt.ylabel(\"TF\")\n",
        "plt.xlabel(\"Frecuencia\")\n",
        "plt.grid()\n",
        "plt.ylim(-100,450)\n",
        "plt.xlim(0.25, 1)\n",
        "plt.show()"
      ],
      "execution_count": 41,
      "outputs": [
        {
          "output_type": "stream",
          "name": "stdout",
          "text": [
            "\n",
            "El valor donde la frecuencia es maxima es: 0.6726099658219027\n",
            "Y su valor en frecuencia es :              414.4494992803135\n",
            "\n"
          ]
        },
        {
          "output_type": "display_data",
          "data": {
            "image/png": "[encoded data removed]",
            "text/plain": [
              "<Figure size 432x288 with 1 Axes>"
            ]
          },
          "metadata": {
            "needs_background": "light"
          }
        }
      ]
    }
  ]
}