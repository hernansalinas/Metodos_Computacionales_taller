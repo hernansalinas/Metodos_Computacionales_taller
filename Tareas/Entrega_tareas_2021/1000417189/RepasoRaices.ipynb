{
  "nbformat": 4,
  "nbformat_minor": 0,
  "metadata": {
    "colab": {
      "name": "RepasoRaices.ipynb",
      "provenance": [],
      "collapsed_sections": [],
      "include_colab_link": true
    },
    "kernelspec": {
      "name": "python3",
      "display_name": "Python 3"
    },
    "language_info": {
      "name": "python"
    }
  },
  "cells": [
    {
      "cell_type": "markdown",
      "metadata": {
        "id": "view-in-github",
        "colab_type": "text"
      },
      "source": [
        "<a href=\"https://colab.research.google.com/github/CamiloLon/Metodos_Computacionales_taller/blob/main/Tareas/Entrega_tareas_2021/1000417189/RepasoRaices.ipynb\" target=\"_parent\"><img src=\"https://colab.research.google.com/assets/colab-badge.svg\" alt=\"Open In Colab\"/></a>"
      ]
    },
    {
      "cell_type": "markdown",
      "metadata": {
        "id": "iMtlmOQm42xm"
      },
      "source": [
        "# Problemas \n",
        "\n",
        "#1. Area \n",
        "Hallar el área de un segmento circular cuya area sea igual a una cuarta parte del área del circulo. Para la solución se sugiere lo siguiente:\n",
        "\n",
        "a) Encontrar la ecuacion trascendental.\n",
        "\n",
        "b) Con la ecuación anterior, definir una funcion $f(\\theta)=0$. Emplee la funcion labmda de python.\n",
        "\n",
        "c) Construir una data frame de pandas con la columna \"theta\" con 1000 registros(filas) entre $[-2\\pi, 2\\pi]$. Sugerencia, para construir el data frame emplee la función linspace como sigue : np.linspace(-2\\*np.pi, 2\\*np.pi, 1000 )\n",
        "\n",
        "d) Construir una segunda columna titulada \"F_theta\" con los registros f(theta)\n",
        "\n",
        "f) Realice un gráfico de  \"F_theta\" vs \"theta\". Identifique el intervalo de la raiz.\n",
        "\n",
        "Estime el valor del ángulo empleando los siguientes metodos(Emplee  la documentacion):\n",
        "\n",
        "g) [Bisección](https://docs.scipy.org/doc/scipy/reference/generated/scipy.optimize.bisect.html)\n",
        "\n",
        "h) [Newton-Rapshon](https://docs.scipy.org/doc/scipy/reference/generated/scipy.optimize.newton.html)\n",
        "\n",
        "i) [Secante](https://docs.scipy.org/doc/scipy/reference/generated/scipy.optimize.newton.html) \n",
        "\n",
        "j) [Punto Fijo](https://docs.scipy.org/doc/scipy/reference/generated/scipy.optimize.fixed_point.html)\n",
        "\n",
        "\n"
      ]
    },
    {
      "cell_type": "markdown",
      "metadata": {
        "id": "kInCJhnR_V-L"
      },
      "source": [
        "\n",
        "\n",
        "\n",
        "\\begin{equation}\n",
        "A = As - 2\\frac{(r\\cos\\theta/2 )(r\\sin\\theta/2)}{2} \n",
        "\\end{equation}\n",
        "\n",
        "\n",
        ".\n",
        "\n",
        ".\n",
        "\n",
        ".\n",
        "\n",
        "\n",
        "\n",
        "\n",
        "\\begin{equation}\n",
        "\\theta-\\sin \\theta = \\frac{\\pi}{2}\n",
        "\\end{equation}\n",
        "\n",
        "\n",
        "\n",
        "\\begin{equation}\n",
        "f(\\theta)= \\theta- \\sin \\theta - \\frac{\\pi}{2}=0\n",
        "\\end{equation}\n",
        "\n"
      ]
    },
    {
      "cell_type": "code",
      "metadata": {
        "id": "0Sflt26CFHVU"
      },
      "source": [
        "import numpy as np\n",
        "import pandas as pd\n",
        "import matplotlib.pylab as plt\n",
        "from scipy import optimize"
      ],
      "execution_count": null,
      "outputs": []
    },
    {
      "cell_type": "code",
      "metadata": {
        "id": "1rBnaTtP43Zj"
      },
      "source": [
        "f = lambda theta: theta-np.sin(theta)-np.pi/2"
      ],
      "execution_count": null,
      "outputs": []
    },
    {
      "cell_type": "code",
      "metadata": {
        "id": "o8PhsJJQFFLx"
      },
      "source": [
        "theta = np.linspace(-2*np.pi, 2*np.pi, 1000)\n"
      ],
      "execution_count": null,
      "outputs": []
    },
    {
      "cell_type": "code",
      "metadata": {
        "id": "aMCwOVDlFpXU",
        "colab": {
          "base_uri": "https://localhost:8080/",
          "height": 419
        },
        "outputId": "c822b58d-2093-43cd-81b5-5549fb24a9ec"
      },
      "source": [
        "df = pd.DataFrame()\n",
        "\n",
        "df[\"theta\"] = theta\n",
        "df[\"F_theta\"] = f(theta)\n",
        "df"
      ],
      "execution_count": null,
      "outputs": [
        {
          "output_type": "execute_result",
          "data": {
            "text/html": [
              "<div>\n",
              "<style scoped>\n",
              "    .dataframe tbody tr th:only-of-type {\n",
              "        vertical-align: middle;\n",
              "    }\n",
              "\n",
              "    .dataframe tbody tr th {\n",
              "        vertical-align: top;\n",
              "    }\n",
              "\n",
              "    .dataframe thead th {\n",
              "        text-align: right;\n",
              "    }\n",
              "</style>\n",
              "<table border=\"1\" class=\"dataframe\">\n",
              "  <thead>\n",
              "    <tr style=\"text-align: right;\">\n",
              "      <th></th>\n",
              "      <th>theta</th>\n",
              "      <th>F_theta</th>\n",
              "    </tr>\n",
              "  </thead>\n",
              "  <tbody>\n",
              "    <tr>\n",
              "      <th>0</th>\n",
              "      <td>-6.283185</td>\n",
              "      <td>-7.853982</td>\n",
              "    </tr>\n",
              "    <tr>\n",
              "      <th>1</th>\n",
              "      <td>-6.270606</td>\n",
              "      <td>-7.853981</td>\n",
              "    </tr>\n",
              "    <tr>\n",
              "      <th>2</th>\n",
              "      <td>-6.258027</td>\n",
              "      <td>-7.853979</td>\n",
              "    </tr>\n",
              "    <tr>\n",
              "      <th>3</th>\n",
              "      <td>-6.245448</td>\n",
              "      <td>-7.853973</td>\n",
              "    </tr>\n",
              "    <tr>\n",
              "      <th>4</th>\n",
              "      <td>-6.232870</td>\n",
              "      <td>-7.853960</td>\n",
              "    </tr>\n",
              "    <tr>\n",
              "      <th>...</th>\n",
              "      <td>...</td>\n",
              "      <td>...</td>\n",
              "    </tr>\n",
              "    <tr>\n",
              "      <th>995</th>\n",
              "      <td>6.232870</td>\n",
              "      <td>4.712368</td>\n",
              "    </tr>\n",
              "    <tr>\n",
              "      <th>996</th>\n",
              "      <td>6.245448</td>\n",
              "      <td>4.712380</td>\n",
              "    </tr>\n",
              "    <tr>\n",
              "      <th>997</th>\n",
              "      <td>6.258027</td>\n",
              "      <td>4.712386</td>\n",
              "    </tr>\n",
              "    <tr>\n",
              "      <th>998</th>\n",
              "      <td>6.270606</td>\n",
              "      <td>4.712389</td>\n",
              "    </tr>\n",
              "    <tr>\n",
              "      <th>999</th>\n",
              "      <td>6.283185</td>\n",
              "      <td>4.712389</td>\n",
              "    </tr>\n",
              "  </tbody>\n",
              "</table>\n",
              "<p>1000 rows × 2 columns</p>\n",
              "</div>"
            ],
            "text/plain": [
              "        theta   F_theta\n",
              "0   -6.283185 -7.853982\n",
              "1   -6.270606 -7.853981\n",
              "2   -6.258027 -7.853979\n",
              "3   -6.245448 -7.853973\n",
              "4   -6.232870 -7.853960\n",
              "..        ...       ...\n",
              "995  6.232870  4.712368\n",
              "996  6.245448  4.712380\n",
              "997  6.258027  4.712386\n",
              "998  6.270606  4.712389\n",
              "999  6.283185  4.712389\n",
              "\n",
              "[1000 rows x 2 columns]"
            ]
          },
          "metadata": {
            "tags": []
          },
          "execution_count": 5
        }
      ]
    },
    {
      "cell_type": "code",
      "metadata": {
        "colab": {
          "base_uri": "https://localhost:8080/",
          "height": 281
        },
        "id": "p9Al6-A0FzyW",
        "outputId": "ff9a19cf-8e2d-4351-fb78-78525a51fc23"
      },
      "source": [
        "plt.figure()\n",
        "plt.plot(df[\"theta\"], df[\"F_theta\"] )\n",
        "plt.xlabel(\"$\\\\theta$\")\n",
        "plt.ylabel(\"$f(\\\\theta)$\")\n",
        "plt.grid()\n",
        "plt.show()"
      ],
      "execution_count": null,
      "outputs": [
        {
          "output_type": "display_data",
          "data": {
            "image/png": "[encoded data removed]",
            "text/plain": [
              "<Figure size 432x288 with 1 Axes>"
            ]
          },
          "metadata": {
            "tags": [],
            "needs_background": "light"
          }
        }
      ]
    },
    {
      "cell_type": "code",
      "metadata": {
        "colab": {
          "base_uri": "https://localhost:8080/"
        },
        "id": "VX9-aicdHT8D",
        "outputId": "0201bdb1-a02e-416b-fbfb-7df7dab72536"
      },
      "source": [
        "root = optimize.bisect(f, 0, 4)\n",
        "print(f\"EL ángulo es: {root} \")"
      ],
      "execution_count": null,
      "outputs": [
        {
          "output_type": "stream",
          "text": [
            "EL ángulo es: 2.309881460010729 \n"
          ],
          "name": "stdout"
        }
      ]
    },
    {
      "cell_type": "code",
      "metadata": {
        "colab": {
          "base_uri": "https://localhost:8080/"
        },
        "id": "BgpsfSBAoLU_",
        "outputId": "28fbbc41-d15e-4a34-be36-3f407350f79e"
      },
      "source": [
        "#Método Newton-Raphson\n",
        "\n",
        "#Derivada de f:\n",
        "fp= lambda theta: 1-np.cos(theta)\n",
        "#Resultado\n",
        "optimize.newton(f, 2, fprime=fp, maxiter=1000)"
      ],
      "execution_count": null,
      "outputs": [
        {
          "output_type": "execute_result",
          "data": {
            "text/plain": [
              "2.3098814600100575"
            ]
          },
          "metadata": {
            "tags": []
          },
          "execution_count": 8
        }
      ]
    },
    {
      "cell_type": "code",
      "metadata": {
        "colab": {
          "base_uri": "https://localhost:8080/"
        },
        "id": "0sk0_LnJodqH",
        "outputId": "f48a11d4-1089-4bf1-c674-d40b7b59d0fe"
      },
      "source": [
        "#Método de la secante\n",
        "optimize.newton(f, np.sqrt(2))"
      ],
      "execution_count": null,
      "outputs": [
        {
          "output_type": "execute_result",
          "data": {
            "text/plain": [
              "2.309881460010057"
            ]
          },
          "metadata": {
            "tags": []
          },
          "execution_count": 9
        }
      ]
    },
    {
      "cell_type": "code",
      "metadata": {
        "colab": {
          "base_uri": "https://localhost:8080/"
        },
        "id": "8uvbzjPfuabE",
        "outputId": "b0ae7244-6743-4ce3-c77d-8594d7455d29"
      },
      "source": [
        "#Método de punto fijo\n",
        "\n",
        "#Función g(x)=x-f(x):\n",
        "g=lambda theta: theta - (theta-np.sin(theta)-np.pi/2)\n",
        "#Resultado\n",
        "optimize.fixed_point(g,0)"
      ],
      "execution_count": null,
      "outputs": [
        {
          "output_type": "execute_result",
          "data": {
            "text/plain": [
              "array(2.30988146)"
            ]
          },
          "metadata": {
            "tags": []
          },
          "execution_count": 10
        }
      ]
    },
    {
      "cell_type": "code",
      "metadata": {
        "id": "s2EoIUruICxq",
        "colab": {
          "base_uri": "https://localhost:8080/"
        },
        "outputId": "c20b2c5c-dbdc-4df3-9d93-30fd38bd2be5"
      },
      "source": [
        "np.rad2deg(root)"
      ],
      "execution_count": null,
      "outputs": [
        {
          "output_type": "execute_result",
          "data": {
            "text/plain": [
              "132.3464588341314"
            ]
          },
          "metadata": {
            "tags": []
          },
          "execution_count": 11
        }
      ]
    },
    {
      "cell_type": "markdown",
      "metadata": {
        "id": "AqZSU8CE46S9"
      },
      "source": [
        "\n",
        "\n",
        "\n",
        "# 2. Movimiento de proyectiles en presencia de viento.\n",
        "\n",
        "Supongamos que un proyectil es lanzado desde el origen con una rapidez $v=vo( \\cos \\theta , \\sin \\theta) $. Supongamos además que el efecto del viento sobre el proyectil es el de una fuerza proporcional a la velocidad relativa entre el viento y el proyectil. Teniendo presente que si $u$ es la velocidad del viento y $\\alpha$ el ángulo que hace dirección de esta velocidad con el eje x, se puede entrontrar las siguientes ecuaciones diferenciales, asociada al estado de movimiento del [proyectil](https://iopscience.iop.org/article/10.1088/0143-0807/36/2/025016/meta):\n",
        "\n",
        "\n",
        "\\begin{equation}\n",
        "m\\frac{dv_x}{dt} = -mb(v_x-u\\cos \\alpha )\n",
        "\\end{equation}\n",
        "\n",
        "\\begin{equation}\n",
        "m\\frac{dv_y}{dt} = -mg-mb(v_x-u\\sin \\alpha ),\n",
        "\\end{equation}\n",
        "\n",
        "donde b es el párametro de rozamiento. La soluciones a las ecuaciones anteriores vienen dadas por:\n",
        "\n",
        "Posición en x\n",
        "\\begin{equation}\n",
        "x=(u\\cos \\alpha) t + \\frac{1}{b} (v_0\\cos \\theta_0 -u \\cos\\alpha)(1-\\mathrm{exp}(-bt))\n",
        "\\end{equation}\n",
        "\n",
        "Posicion en y \n",
        "\\begin{equation}\n",
        "y= \\frac{1}{b}\\left(\\frac{g}{b}+v_0 \\sin \\theta_0 -u\\sin\\alpha \\right)(1-\\mathrm{exp}(-bt))-\\left( \\frac{g}{b}-u\\sin\\alpha\\right)t\n",
        "\\end{equation}\n",
        "\n",
        "Ver imagen:  http://www.sc.ehu.es/sbweb/fisica3/fluidos/viento/parabolico.html\n",
        "\n",
        "\n",
        "0. Establezca las siguietnes condiciones inciales.\n",
        "\n",
        "```\n",
        "#Parametros iniciales\n",
        "\n",
        "v0 = 60 #Velocidad en m/s\n",
        "alpha = np.pi #Angulo del viento\n",
        "theta = np.deg2rad(45) #Angulo de lanzamiento\n",
        "u = v0/2             #rapidez del viento\n",
        "b = 0.05             #Parametro de friccion \n",
        "g = 9.8                #Aceleracion de la gravedad m/s2\n",
        "\n",
        "Params = (alpha, v0, b, u,g)  #Parametros en tupla.\n",
        "\n",
        "```\n",
        "\n",
        "\n",
        "\n",
        "1. Defina dos funciones, una para x y otra para y. \n",
        "\n",
        "```\n",
        "\n",
        "#Posicion en x\n",
        "def pos_x(t, theta, alpha, v0, b, u,g):\n",
        "  x = #escriba aca la expresión\n",
        "  return x\n",
        "\n",
        "#Posicion en y\n",
        "def pos_y(t, theta, alpha, v0, b, u,g):\n",
        "\n",
        "\n",
        "  y = #escriba aca la expresión\n",
        "  return y \n",
        "\n",
        "```\n",
        "\n",
        "2. Construya un diccionario con las claves \"X\", \"Y\", \"Tiempo\"\n",
        "\n",
        "3. Con el diccionario construya un data frame de pandas llamado df con los nombres de columnas \"X\", \"Y\", \"Tiempo\"  https://pandas.pydata.org/docs/reference/api/pandas.DataFrame.from_dict.html. Defina 1000 registros para el intervalo de tiempo elegido.\n",
        "\n",
        "\n",
        "4. Realice un gráfico de x como función del tiempo, de y como función del tiempo y la trayectoria de la partícula (df[\"X\"], df[\"tiempo\"], df[\"Y\"]).\n",
        "\n",
        "\n",
        "5. Determine el alcance máximo de la partícula, para ello tome  la solucion teórica con $y=0$, solucione numéricamente la ecuación para t y remplace este valor en la ecuación para x. Resuelvalo para $\\theta=45^{o}$.  \n",
        "\n",
        "6. Construya una  grafica del alcance máximo R como función de $\\theta$, varie $\\theta$  entre 10 y 90 grados cada 5 grados.\n",
        "\n",
        "7. Realice una interpolacion de R como función de theta.\n",
        "\n",
        "\n",
        "\n",
        "\n",
        "\n",
        "\n",
        "\n"
      ]
    },
    {
      "cell_type": "code",
      "metadata": {
        "id": "HEEtRuug464L"
      },
      "source": [
        "\n",
        "v0 = 60 #Velocidad en m/s\n",
        "alpha = np.pi #Angulo del viento\n",
        "theta = np.deg2rad(45) #Angulo de lanzamiento\n",
        "u = v0/2             #rapidez del viento\n",
        "b = 0.05             #Parametro de friccion \n",
        "g = 9.8                #Aceleracion de la gravedad m/s2\n",
        "\n",
        "Params = (alpha, v0, b, u, g)  #Parametros en tupla."
      ],
      "execution_count": null,
      "outputs": []
    },
    {
      "cell_type": "code",
      "metadata": {
        "id": "okWfAokwJsaF"
      },
      "source": [
        "\n",
        "#Posicion en x\n",
        "def pos_x(t, theta, alpha, v0, b, u, g):\n",
        "  T1 = u * t * np.cos(alpha) #Termino 1\n",
        "  T2 = (1./b)*(v0*np.cos(theta) - u*np.cos(alpha) ) #Termino 2\n",
        "  T3 = (1 - np.e**(-b*t)) #Termino 3\n",
        "\n",
        "  return T1 + T2*T3 \n",
        "    \n",
        "\n",
        "#Posicion en y\n",
        "def pos_y(t, theta, alpha, v0, b, u, g):\n",
        "\n",
        "  T1 = (1./b)*(g/b + v0*np.sin(theta) - u*np.sin(alpha) ) #termino 1\n",
        "  T2 = (1 - np.e**(- b * t)) #termino 2\n",
        "  T3 = (g / b - u *  np.sin(alpha))*t #termino 3\n",
        "\n",
        "  return T1* T2 - T3\n",
        "  \n"
      ],
      "execution_count": null,
      "outputs": []
    },
    {
      "cell_type": "code",
      "metadata": {
        "id": "Vf17m2ehLB6F",
        "colab": {
          "base_uri": "https://localhost:8080/",
          "height": 1000
        },
        "outputId": "3aec97b3-0d7d-4272-e06f-741f166e79ab"
      },
      "source": [
        "T = np.linspace(0, 8.2,50) #Tiempo \n",
        "x = pos_x(T, theta, *Params)\n",
        "y = pos_y(T, theta, *Params) \n",
        "pos = { \"X\": x , \"Y\": y, \"Tiempo\": T }\n",
        "df = pd.DataFrame.from_dict(pos)\n",
        "df"
      ],
      "execution_count": null,
      "outputs": [
        {
          "output_type": "execute_result",
          "data": {
            "text/html": [
              "<div>\n",
              "<style scoped>\n",
              "    .dataframe tbody tr th:only-of-type {\n",
              "        vertical-align: middle;\n",
              "    }\n",
              "\n",
              "    .dataframe tbody tr th {\n",
              "        vertical-align: top;\n",
              "    }\n",
              "\n",
              "    .dataframe thead th {\n",
              "        text-align: right;\n",
              "    }\n",
              "</style>\n",
              "<table border=\"1\" class=\"dataframe\">\n",
              "  <thead>\n",
              "    <tr style=\"text-align: right;\">\n",
              "      <th></th>\n",
              "      <th>X</th>\n",
              "      <th>Y</th>\n",
              "      <th>Tiempo</th>\n",
              "    </tr>\n",
              "  </thead>\n",
              "  <tbody>\n",
              "    <tr>\n",
              "      <th>0</th>\n",
              "      <td>0.000000</td>\n",
              "      <td>0.000000</td>\n",
              "      <td>0.000000</td>\n",
              "    </tr>\n",
              "    <tr>\n",
              "      <th>1</th>\n",
              "      <td>7.049363</td>\n",
              "      <td>6.933466</td>\n",
              "      <td>0.167347</td>\n",
              "    </tr>\n",
              "    <tr>\n",
              "      <th>2</th>\n",
              "      <td>13.998155</td>\n",
              "      <td>13.535855</td>\n",
              "      <td>0.334694</td>\n",
              "    </tr>\n",
              "    <tr>\n",
              "      <th>3</th>\n",
              "      <td>20.847215</td>\n",
              "      <td>19.809926</td>\n",
              "      <td>0.502041</td>\n",
              "    </tr>\n",
              "    <tr>\n",
              "      <th>4</th>\n",
              "      <td>27.597373</td>\n",
              "      <td>25.758414</td>\n",
              "      <td>0.669388</td>\n",
              "    </tr>\n",
              "    <tr>\n",
              "      <th>5</th>\n",
              "      <td>34.249453</td>\n",
              "      <td>31.384034</td>\n",
              "      <td>0.836735</td>\n",
              "    </tr>\n",
              "    <tr>\n",
              "      <th>6</th>\n",
              "      <td>40.804274</td>\n",
              "      <td>36.689474</td>\n",
              "      <td>1.004082</td>\n",
              "    </tr>\n",
              "    <tr>\n",
              "      <th>7</th>\n",
              "      <td>47.262644</td>\n",
              "      <td>41.677403</td>\n",
              "      <td>1.171429</td>\n",
              "    </tr>\n",
              "    <tr>\n",
              "      <th>8</th>\n",
              "      <td>53.625368</td>\n",
              "      <td>46.350467</td>\n",
              "      <td>1.338776</td>\n",
              "    </tr>\n",
              "    <tr>\n",
              "      <th>9</th>\n",
              "      <td>59.893243</td>\n",
              "      <td>50.711288</td>\n",
              "      <td>1.506122</td>\n",
              "    </tr>\n",
              "    <tr>\n",
              "      <th>10</th>\n",
              "      <td>66.067059</td>\n",
              "      <td>54.762469</td>\n",
              "      <td>1.673469</td>\n",
              "    </tr>\n",
              "    <tr>\n",
              "      <th>11</th>\n",
              "      <td>72.147600</td>\n",
              "      <td>58.506590</td>\n",
              "      <td>1.840816</td>\n",
              "    </tr>\n",
              "    <tr>\n",
              "      <th>12</th>\n",
              "      <td>78.135643</td>\n",
              "      <td>61.946210</td>\n",
              "      <td>2.008163</td>\n",
              "    </tr>\n",
              "    <tr>\n",
              "      <th>13</th>\n",
              "      <td>84.031959</td>\n",
              "      <td>65.083865</td>\n",
              "      <td>2.175510</td>\n",
              "    </tr>\n",
              "    <tr>\n",
              "      <th>14</th>\n",
              "      <td>89.837311</td>\n",
              "      <td>67.922072</td>\n",
              "      <td>2.342857</td>\n",
              "    </tr>\n",
              "    <tr>\n",
              "      <th>15</th>\n",
              "      <td>95.552459</td>\n",
              "      <td>70.463325</td>\n",
              "      <td>2.510204</td>\n",
              "    </tr>\n",
              "    <tr>\n",
              "      <th>16</th>\n",
              "      <td>101.178153</td>\n",
              "      <td>72.710100</td>\n",
              "      <td>2.677551</td>\n",
              "    </tr>\n",
              "    <tr>\n",
              "      <th>17</th>\n",
              "      <td>106.715140</td>\n",
              "      <td>74.664850</td>\n",
              "      <td>2.844898</td>\n",
              "    </tr>\n",
              "    <tr>\n",
              "      <th>18</th>\n",
              "      <td>112.164157</td>\n",
              "      <td>76.330008</td>\n",
              "      <td>3.012245</td>\n",
              "    </tr>\n",
              "    <tr>\n",
              "      <th>19</th>\n",
              "      <td>117.525939</td>\n",
              "      <td>77.707987</td>\n",
              "      <td>3.179592</td>\n",
              "    </tr>\n",
              "    <tr>\n",
              "      <th>20</th>\n",
              "      <td>122.801212</td>\n",
              "      <td>78.801180</td>\n",
              "      <td>3.346939</td>\n",
              "    </tr>\n",
              "    <tr>\n",
              "      <th>21</th>\n",
              "      <td>127.990696</td>\n",
              "      <td>79.611960</td>\n",
              "      <td>3.514286</td>\n",
              "    </tr>\n",
              "    <tr>\n",
              "      <th>22</th>\n",
              "      <td>133.095108</td>\n",
              "      <td>80.142681</td>\n",
              "      <td>3.681633</td>\n",
              "    </tr>\n",
              "    <tr>\n",
              "      <th>23</th>\n",
              "      <td>138.115154</td>\n",
              "      <td>80.395675</td>\n",
              "      <td>3.848980</td>\n",
              "    </tr>\n",
              "    <tr>\n",
              "      <th>24</th>\n",
              "      <td>143.051540</td>\n",
              "      <td>80.373257</td>\n",
              "      <td>4.016327</td>\n",
              "    </tr>\n",
              "    <tr>\n",
              "      <th>25</th>\n",
              "      <td>147.904961</td>\n",
              "      <td>80.077723</td>\n",
              "      <td>4.183673</td>\n",
              "    </tr>\n",
              "    <tr>\n",
              "      <th>26</th>\n",
              "      <td>152.676109</td>\n",
              "      <td>79.511346</td>\n",
              "      <td>4.351020</td>\n",
              "    </tr>\n",
              "    <tr>\n",
              "      <th>27</th>\n",
              "      <td>157.365669</td>\n",
              "      <td>78.676385</td>\n",
              "      <td>4.518367</td>\n",
              "    </tr>\n",
              "    <tr>\n",
              "      <th>28</th>\n",
              "      <td>161.974322</td>\n",
              "      <td>77.575078</td>\n",
              "      <td>4.685714</td>\n",
              "    </tr>\n",
              "    <tr>\n",
              "      <th>29</th>\n",
              "      <td>166.502741</td>\n",
              "      <td>76.209643</td>\n",
              "      <td>4.853061</td>\n",
              "    </tr>\n",
              "    <tr>\n",
              "      <th>30</th>\n",
              "      <td>170.951595</td>\n",
              "      <td>74.582281</td>\n",
              "      <td>5.020408</td>\n",
              "    </tr>\n",
              "    <tr>\n",
              "      <th>31</th>\n",
              "      <td>175.321547</td>\n",
              "      <td>72.695175</td>\n",
              "      <td>5.187755</td>\n",
              "    </tr>\n",
              "    <tr>\n",
              "      <th>32</th>\n",
              "      <td>179.613255</td>\n",
              "      <td>70.550490</td>\n",
              "      <td>5.355102</td>\n",
              "    </tr>\n",
              "    <tr>\n",
              "      <th>33</th>\n",
              "      <td>183.827370</td>\n",
              "      <td>68.150371</td>\n",
              "      <td>5.522449</td>\n",
              "    </tr>\n",
              "    <tr>\n",
              "      <th>34</th>\n",
              "      <td>187.964539</td>\n",
              "      <td>65.496947</td>\n",
              "      <td>5.689796</td>\n",
              "    </tr>\n",
              "    <tr>\n",
              "      <th>35</th>\n",
              "      <td>192.025402</td>\n",
              "      <td>62.592328</td>\n",
              "      <td>5.857143</td>\n",
              "    </tr>\n",
              "    <tr>\n",
              "      <th>36</th>\n",
              "      <td>196.010597</td>\n",
              "      <td>59.438608</td>\n",
              "      <td>6.024490</td>\n",
              "    </tr>\n",
              "    <tr>\n",
              "      <th>37</th>\n",
              "      <td>199.920753</td>\n",
              "      <td>56.037862</td>\n",
              "      <td>6.191837</td>\n",
              "    </tr>\n",
              "    <tr>\n",
              "      <th>38</th>\n",
              "      <td>203.756496</td>\n",
              "      <td>52.392149</td>\n",
              "      <td>6.359184</td>\n",
              "    </tr>\n",
              "    <tr>\n",
              "      <th>39</th>\n",
              "      <td>207.518445</td>\n",
              "      <td>48.503509</td>\n",
              "      <td>6.526531</td>\n",
              "    </tr>\n",
              "    <tr>\n",
              "      <th>40</th>\n",
              "      <td>211.207216</td>\n",
              "      <td>44.373968</td>\n",
              "      <td>6.693878</td>\n",
              "    </tr>\n",
              "    <tr>\n",
              "      <th>41</th>\n",
              "      <td>214.823419</td>\n",
              "      <td>40.005531</td>\n",
              "      <td>6.861224</td>\n",
              "    </tr>\n",
              "    <tr>\n",
              "      <th>42</th>\n",
              "      <td>218.367657</td>\n",
              "      <td>35.400190</td>\n",
              "      <td>7.028571</td>\n",
              "    </tr>\n",
              "    <tr>\n",
              "      <th>43</th>\n",
              "      <td>221.840531</td>\n",
              "      <td>30.559919</td>\n",
              "      <td>7.195918</td>\n",
              "    </tr>\n",
              "    <tr>\n",
              "      <th>44</th>\n",
              "      <td>225.242635</td>\n",
              "      <td>25.486676</td>\n",
              "      <td>7.363265</td>\n",
              "    </tr>\n",
              "    <tr>\n",
              "      <th>45</th>\n",
              "      <td>228.574559</td>\n",
              "      <td>20.182401</td>\n",
              "      <td>7.530612</td>\n",
              "    </tr>\n",
              "    <tr>\n",
              "      <th>46</th>\n",
              "      <td>231.836887</td>\n",
              "      <td>14.649019</td>\n",
              "      <td>7.697959</td>\n",
              "    </tr>\n",
              "    <tr>\n",
              "      <th>47</th>\n",
              "      <td>235.030201</td>\n",
              "      <td>8.888440</td>\n",
              "      <td>7.865306</td>\n",
              "    </tr>\n",
              "    <tr>\n",
              "      <th>48</th>\n",
              "      <td>238.155074</td>\n",
              "      <td>2.902557</td>\n",
              "      <td>8.032653</td>\n",
              "    </tr>\n",
              "    <tr>\n",
              "      <th>49</th>\n",
              "      <td>241.212077</td>\n",
              "      <td>-3.306754</td>\n",
              "      <td>8.200000</td>\n",
              "    </tr>\n",
              "  </tbody>\n",
              "</table>\n",
              "</div>"
            ],
            "text/plain": [
              "             X          Y    Tiempo\n",
              "0     0.000000   0.000000  0.000000\n",
              "1     7.049363   6.933466  0.167347\n",
              "2    13.998155  13.535855  0.334694\n",
              "3    20.847215  19.809926  0.502041\n",
              "4    27.597373  25.758414  0.669388\n",
              "5    34.249453  31.384034  0.836735\n",
              "6    40.804274  36.689474  1.004082\n",
              "7    47.262644  41.677403  1.171429\n",
              "8    53.625368  46.350467  1.338776\n",
              "9    59.893243  50.711288  1.506122\n",
              "10   66.067059  54.762469  1.673469\n",
              "11   72.147600  58.506590  1.840816\n",
              "12   78.135643  61.946210  2.008163\n",
              "13   84.031959  65.083865  2.175510\n",
              "14   89.837311  67.922072  2.342857\n",
              "15   95.552459  70.463325  2.510204\n",
              "16  101.178153  72.710100  2.677551\n",
              "17  106.715140  74.664850  2.844898\n",
              "18  112.164157  76.330008  3.012245\n",
              "19  117.525939  77.707987  3.179592\n",
              "20  122.801212  78.801180  3.346939\n",
              "21  127.990696  79.611960  3.514286\n",
              "22  133.095108  80.142681  3.681633\n",
              "23  138.115154  80.395675  3.848980\n",
              "24  143.051540  80.373257  4.016327\n",
              "25  147.904961  80.077723  4.183673\n",
              "26  152.676109  79.511346  4.351020\n",
              "27  157.365669  78.676385  4.518367\n",
              "28  161.974322  77.575078  4.685714\n",
              "29  166.502741  76.209643  4.853061\n",
              "30  170.951595  74.582281  5.020408\n",
              "31  175.321547  72.695175  5.187755\n",
              "32  179.613255  70.550490  5.355102\n",
              "33  183.827370  68.150371  5.522449\n",
              "34  187.964539  65.496947  5.689796\n",
              "35  192.025402  62.592328  5.857143\n",
              "36  196.010597  59.438608  6.024490\n",
              "37  199.920753  56.037862  6.191837\n",
              "38  203.756496  52.392149  6.359184\n",
              "39  207.518445  48.503509  6.526531\n",
              "40  211.207216  44.373968  6.693878\n",
              "41  214.823419  40.005531  6.861224\n",
              "42  218.367657  35.400190  7.028571\n",
              "43  221.840531  30.559919  7.195918\n",
              "44  225.242635  25.486676  7.363265\n",
              "45  228.574559  20.182401  7.530612\n",
              "46  231.836887  14.649019  7.697959\n",
              "47  235.030201   8.888440  7.865306\n",
              "48  238.155074   2.902557  8.032653\n",
              "49  241.212077  -3.306754  8.200000"
            ]
          },
          "metadata": {
            "tags": []
          },
          "execution_count": 14
        }
      ]
    },
    {
      "cell_type": "code",
      "metadata": {
        "id": "oFxst287Lnjp",
        "colab": {
          "base_uri": "https://localhost:8080/",
          "height": 350
        },
        "outputId": "db9ce58e-cbbe-42d3-c6c6-2170895301be"
      },
      "source": [
        "plt.figure(figsize=(11,5))\n",
        "\n",
        "plt.subplot(121)\n",
        "plt.plot(df[\"Tiempo\"], df[\"X\"], label=\"pos_x\") \n",
        "plt.plot(df[\"Tiempo\"], df[\"Y\"], label=\"pos_y\")\n",
        "plt.ylim(bottom=0)\n",
        "plt.xlim(right=10)\n",
        "plt.xlabel(\"t(s)\")\n",
        "plt.ylabel(\"Posicion(m)\")\n",
        "plt.legend()\n",
        "plt.grid()\n",
        "plt.title(\"Theta = \" + str(\"%.3lf\"%theta))\n",
        "\n",
        "plt.subplot(122)\n",
        "\n",
        "plt.plot(df[\"X\"], df[\"Y\"], label=\"pos_x\") \n",
        "plt.ylim(bottom=0)\n",
        "plt.xlabel(\"x(m)\")\n",
        "plt.ylabel(\"y(m)\")\n",
        "plt.legend()\n",
        "plt.title(\"Theta = \" + str(\"%.3lf\"%theta))\n",
        "plt.grid()\n",
        "\n",
        "\n",
        "plt.show()"
      ],
      "execution_count": null,
      "outputs": [
        {
          "output_type": "display_data",
          "data": {
            "image/png": "[encoded data removed]",
            "text/plain": [
              "<Figure size 792x360 with 2 Axes>"
            ]
          },
          "metadata": {
            "tags": [],
            "needs_background": "light"
          }
        }
      ]
    },
    {
      "cell_type": "markdown",
      "metadata": {
        "id": "b3L8H_bfZ4C8"
      },
      "source": [
        "Posición en x\n",
        "\\begin{equation}\n",
        "x=(u\\cos \\alpha) t + \\frac{1}{b} (v_0\\cos \\theta_0 -u \\cos\\alpha)(1-\\mathrm{exp}(-bt))\n",
        "\\end{equation}\n",
        "\n",
        "Posicion en y \n",
        "\\begin{equation}\n",
        "y= \\frac{1}{b}\\left(\\frac{g}{b}+v_0 \\sin \\theta_0 -u\\sin\\alpha \\right)(1-\\mathrm{exp}(-bt))-\\left( \\frac{g}{b}-u\\sin\\alpha\\right)t\n",
        "\\end{equation}\n",
        "\n",
        "\n",
        "5. Determine el alcance máximo de la partícula, para ello tome  la solucion teórica con $y=0$, solucione numéricamente la ecuación para t y remplace este valor en la ecuación para x. Resuelvalo para $\\theta=45^{o}$.  \n",
        "\n",
        "6. Construya una  grafica del alcance máximo R como función de $\\theta$, varie $\\theta$  entre 10 y 90 grados cada 5 grados.\n",
        "\n",
        "7. Realice una interpolacion de R como función de theta."
      ]
    },
    {
      "cell_type": "code",
      "metadata": {
        "colab": {
          "base_uri": "https://localhost:8080/"
        },
        "id": "gi5zed_5ggrM",
        "outputId": "5b041ef1-40f8-4018-dc77-81939741652b"
      },
      "source": [
        "#Segunda solución de y=0 (No trivial)\n",
        "Y=lambda t: pos_y(t, theta, *Params)\n",
        "T_end=optimize.newton(Y,10)\n",
        "T_end"
      ],
      "execution_count": null,
      "outputs": [
        {
          "output_type": "execute_result",
          "data": {
            "text/plain": [
              "8.11162702209557"
            ]
          },
          "metadata": {
            "tags": []
          },
          "execution_count": 16
        }
      ]
    },
    {
      "cell_type": "code",
      "metadata": {
        "colab": {
          "base_uri": "https://localhost:8080/"
        },
        "id": "dithL7nYosFm",
        "outputId": "48155b18-a437-4835-d03e-53fef0b11911"
      },
      "source": [
        "#Posición en x al caer:\n",
        "pos_x(T_end, theta, *Params)"
      ],
      "execution_count": null,
      "outputs": [
        {
          "output_type": "execute_result",
          "data": {
            "text/plain": [
              "239.60614945520706"
            ]
          },
          "metadata": {
            "tags": []
          },
          "execution_count": 17
        }
      ]
    },
    {
      "cell_type": "code",
      "metadata": {
        "colab": {
          "base_uri": "https://localhost:8080/"
        },
        "id": "owonN9YJxq0T",
        "outputId": "9c103a90-5f83-4d43-817f-36ec766f5b27"
      },
      "source": [
        "#Ángulos de 5 en 5 desde 10 hasta 90\n",
        "angs=np.linspace(10,90,17)\n",
        "angs"
      ],
      "execution_count": null,
      "outputs": [
        {
          "output_type": "execute_result",
          "data": {
            "text/plain": [
              "array([10., 15., 20., 25., 30., 35., 40., 45., 50., 55., 60., 65., 70.,\n",
              "       75., 80., 85., 90.])"
            ]
          },
          "metadata": {
            "tags": []
          },
          "execution_count": 18
        }
      ]
    },
    {
      "cell_type": "code",
      "metadata": {
        "colab": {
          "base_uri": "https://localhost:8080/"
        },
        "id": "4aNsVz29Zipa",
        "outputId": "ebebe4f1-2678-403e-f353-4949c2645109"
      },
      "source": [
        "X=lambda t: pos_x(t,45,*Params)\n",
        "Xx=lambda t: pos_x(t,5,*Params)\n",
        "M=[X,Xx]\n",
        "M"
      ],
      "execution_count": null,
      "outputs": [
        {
          "output_type": "execute_result",
          "data": {
            "text/plain": [
              "[<function __main__.<lambda>>, <function __main__.<lambda>>]"
            ]
          },
          "metadata": {
            "tags": []
          },
          "execution_count": 19
        }
      ]
    },
    {
      "cell_type": "code",
      "metadata": {
        "colab": {
          "base_uri": "https://localhost:8080/",
          "height": 248
        },
        "id": "dJEg9ItsGNf6",
        "outputId": "4698f71c-b93c-40e0-ea26-537ea2b9e7ad"
      },
      "source": [
        "#Array vacío\n",
        "# B=np.st(17)\n",
        "print(type(Y))\n",
        "for i in range(0,17):\n",
        "  # Definir una función nueva cada vez con un nuevo ángulo\n",
        "  B[i]='a'#(lambda t: pos_y(t, np.deg2rad(angs[i]), *Params))\n",
        "opti= np.vectorize(optimize.newton)\n",
        "\n",
        "opti(Y,10)\n",
        "Y[9](11.204)\n",
        "#Evaluar pos_x en cada tiempo final y ángulo correspondiente\n",
        "# R=pos_x(T_end, np.deg2rad(angs), *Params)\n",
        "# R"
      ],
      "execution_count": null,
      "outputs": [
        {
          "output_type": "stream",
          "text": [
            "<class 'builtin_function_or_method'>\n"
          ],
          "name": "stdout"
        },
        {
          "output_type": "error",
          "ename": "ValueError",
          "evalue": "ignored",
          "traceback": [
            "\u001b[0;31m---------------------------------------------------------------------------\u001b[0m",
            "\u001b[0;31mValueError\u001b[0m                                Traceback (most recent call last)",
            "\u001b[0;32m<ipython-input-33-2b02d3f392dd>\u001b[0m in \u001b[0;36m<module>\u001b[0;34m()\u001b[0m\n\u001b[1;32m      4\u001b[0m \u001b[0;32mfor\u001b[0m \u001b[0mi\u001b[0m \u001b[0;32min\u001b[0m \u001b[0mrange\u001b[0m\u001b[0;34m(\u001b[0m\u001b[0;36m0\u001b[0m\u001b[0;34m,\u001b[0m\u001b[0;36m17\u001b[0m\u001b[0;34m)\u001b[0m\u001b[0;34m:\u001b[0m\u001b[0;34m\u001b[0m\u001b[0;34m\u001b[0m\u001b[0m\n\u001b[1;32m      5\u001b[0m   \u001b[0;31m# Definir una función nueva cada vez con un nuevo ángulo\u001b[0m\u001b[0;34m\u001b[0m\u001b[0;34m\u001b[0m\u001b[0;34m\u001b[0m\u001b[0m\n\u001b[0;32m----> 6\u001b[0;31m   \u001b[0mB\u001b[0m\u001b[0;34m[\u001b[0m\u001b[0mi\u001b[0m\u001b[0;34m]\u001b[0m\u001b[0;34m=\u001b[0m\u001b[0;34m'a'\u001b[0m\u001b[0;31m#(lambda t: pos_y(t, np.deg2rad(angs[i]), *Params))\u001b[0m\u001b[0;34m\u001b[0m\u001b[0;34m\u001b[0m\u001b[0m\n\u001b[0m\u001b[1;32m      7\u001b[0m \u001b[0mopti\u001b[0m\u001b[0;34m=\u001b[0m \u001b[0mnp\u001b[0m\u001b[0;34m.\u001b[0m\u001b[0mvectorize\u001b[0m\u001b[0;34m(\u001b[0m\u001b[0moptimize\u001b[0m\u001b[0;34m.\u001b[0m\u001b[0mnewton\u001b[0m\u001b[0;34m)\u001b[0m\u001b[0;34m\u001b[0m\u001b[0;34m\u001b[0m\u001b[0m\n\u001b[1;32m      8\u001b[0m \u001b[0;34m\u001b[0m\u001b[0m\n",
            "\u001b[0;31mValueError\u001b[0m: could not convert string to float: 'a'"
          ]
        }
      ]
    },
    {
      "cell_type": "code",
      "metadata": {
        "colab": {
          "base_uri": "https://localhost:8080/"
        },
        "id": "gW15svdu804b",
        "outputId": "5bedd267-6a8e-43ee-94de-9d3262c5194c"
      },
      "source": [
        "def one1():\n",
        "    print(\"Method one1 called\")\n",
        "def one2():\n",
        "    print(\"Method one2 called\")\n",
        "def one3():\n",
        "    print(\"Method one3 called\")\n",
        "methodDictionary = {1: one1, 2:one2, 3: one3}\n",
        "method1 = methodDictionary[1]\n",
        "method1()\n",
        "method2 = methodDictionary[2]\n",
        "method2()\n",
        "method3 = methodDictionary[3]\n",
        "method3()"
      ],
      "execution_count": null,
      "outputs": [
        {
          "output_type": "stream",
          "text": [
            "Method one1 called\n",
            "Method one2 called\n",
            "Method one3 called\n"
          ],
          "name": "stdout"
        }
      ]
    },
    {
      "cell_type": "code",
      "metadata": {
        "colab": {
          "base_uri": "https://localhost:8080/"
        },
        "id": "OYD0N7sCcSDR",
        "outputId": "c946cdec-79e7-429c-e06a-4966a7481b47"
      },
      "source": [
        "#Array vacío\n",
        "T_end=np.zeros(17)\n",
        "for i in range(0,17):\n",
        "  # Definir una función nueva cada vez con un nuevo ángulo\n",
        "  Y  = lambda t: pos_y(t, np.deg2rad(angs[i]), *Params)\n",
        "  T_end[i] = optimize.newton(Y,10)\n",
        "\n",
        "R=pos_x(T_end, np.deg2rad(angs), *Params)\n",
        "R"
      ],
      "execution_count": null,
      "outputs": [
        {
          "output_type": "execute_result",
          "data": {
            "text/plain": [
              "array([114.09205021, 159.11424792, 195.25160684, 222.1925717 ,\n",
              "       239.86601038, 248.41385426, 248.16428008, 239.60614946,\n",
              "       223.36511298, 200.18155773, 170.89041443, 136.40273087,\n",
              "        97.68884772,  55.76297185,  11.66892048, -33.53319794,\n",
              "       -78.7796008 ])"
            ]
          },
          "metadata": {
            "tags": []
          },
          "execution_count": 102
        }
      ]
    },
    {
      "cell_type": "code",
      "metadata": {
        "colab": {
          "base_uri": "https://localhost:8080/",
          "height": 295
        },
        "id": "r4MslxjWAnay",
        "outputId": "f364e6cc-7e19-464c-fcaf-255a7f18ada6"
      },
      "source": [
        "# plt.figure()\n",
        "plt.plot(angs,R,'ro')\n",
        "plt.plot(angs,R)\n",
        "\n",
        "plt.title('theta vs x máx')\n",
        "plt.xlabel('theta(rad)')\n",
        "plt.ylabel('x(m)')\n",
        "plt.grid()"
      ],
      "execution_count": null,
      "outputs": [
        {
          "output_type": "display_data",
          "data": {
            "image/png": "[encoded data removed]",
            "text/plain": [
              "<Figure size 432x288 with 1 Axes>"
            ]
          },
          "metadata": {
            "tags": [],
            "needs_background": "light"
          }
        }
      ]
    },
    {
      "cell_type": "code",
      "metadata": {
        "id": "2D9u9x4gAoNc"
      },
      "source": [
        "from scipy.interpolate import lagrange\n",
        "data=(angs, R)\n",
        "polLag= lagrange(angs,R)"
      ],
      "execution_count": null,
      "outputs": []
    },
    {
      "cell_type": "code",
      "metadata": {
        "colab": {
          "base_uri": "https://localhost:8080/",
          "height": 432
        },
        "id": "5iY__YLRBdGF",
        "outputId": "895daa27-ccfd-4a0f-c1a2-91f2d508b24c"
      },
      "source": [
        "plt.plot(angs, polLag(angs), angs, R, 'ro')\n",
        "plt.title('Polinomio de Lagrange')\n",
        "plt.grid()\n",
        "plt.xlabel('Theta_i')\n",
        "plt.ylabel('Alcance máximo')\n",
        "plt.show()\n",
        "print(np.poly1d(polLag))"
      ],
      "execution_count": null,
      "outputs": [
        {
          "output_type": "display_data",
          "data": {
            "image/png": "[encoded data removed]",
            "text/plain": [
              "<Figure size 432x288 with 1 Axes>"
            ]
          },
          "metadata": {
            "tags": [],
            "needs_background": "light"
          }
        },
        {
          "output_type": "stream",
          "text": [
            "           16             15             14             13\n",
            "5.474e-33 x  - 6.028e-30 x  + 3.292e-27 x  - 1.132e-24 x \n",
            "              12             11             10             9\n",
            " + 2.697e-22 x  - 4.563e-20 x  + 5.159e-18 x  - 2.505e-16 x\n",
            "              8            7            6             5             4\n",
            " - 3.648e-14 x + 9.69e-12 x - 9.39e-10 x - 2.373e-08 x + 2.179e-05 x\n",
            "             3          2\n",
            " - 0.001791 x - 0.1256 x + 12.82 x + 3.921e-07\n"
          ],
          "name": "stdout"
        }
      ]
    },
    {
      "cell_type": "code",
      "metadata": {
        "id": "WCzZ9jv6GSAZ"
      },
      "source": [
        ""
      ],
      "execution_count": null,
      "outputs": []
    }
  ]
}