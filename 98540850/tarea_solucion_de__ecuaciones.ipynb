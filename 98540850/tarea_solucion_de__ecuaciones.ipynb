{
  "nbformat": 4,
  "nbformat_minor": 0,
  "metadata": {
    "colab": {
      "name": "tarea_solucion_de _ecuaciones.ipynb",
      "provenance": [],
      "collapsed_sections": []
    },
    "kernelspec": {
      "name": "python3",
      "display_name": "Python 3"
    },
    "language_info": {
      "name": "python"
    }
  },
  "cells": [
    {
      "cell_type": "markdown",
      "metadata": {
        "id": "MgsFJql3WQ37"
      },
      "source": [
        "# Taller Resolver los siguientes problemas, por el metodo de la biseccion, Punto fijo, newton, secante, etc.\n",
        "\n",
        "1. *Encontrar* los ceros de $e^{x}-2= \\cos(e^x-2)$"
      ]
    },
    {
      "cell_type": "markdown",
      "metadata": {
        "id": "V9VZWcHrWdmM"
      },
      "source": [
        "# Solucion \n",
        "\n",
        "1. *Encontrar* los ceros de $e^{x}-2= \\cos(e^x-2)$\n",
        "\n",
        "\\begin{equation}\n",
        "f(x) = e^{x} - 2 - \\cos(e^x-2) \n",
        "\\end{equation}"
      ]
    },
    {
      "cell_type": "code",
      "metadata": {
        "colab": {
          "base_uri": "https://localhost:8080/",
          "height": 350
        },
        "id": "xD4hl6cTV9bQ",
        "outputId": "4ac2813c-a5d6-4d72-951e-c3e2be95f15b"
      },
      "source": [
        "#librerias \n",
        "import numpy as np\n",
        "from scipy import optimize\n",
        "import matplotlib.pylab as plt\n",
        "\n",
        "x = np.linspace(-2, 2, 100)# conjunto de puntos desde -2 a 2, 100 puntos\n",
        "#definir las funciones \n",
        "g = lambda x: np.exp(x)-2\n",
        "h = lambda x: np.cos( np.exp(x)-2)\n",
        "f = lambda x: g(x) - h(x)\n",
        "\n",
        "#definire una fincion para el metodo de punto fijo\n",
        "def n(x):\n",
        "    return g(x) - h(x)\n",
        "\n",
        "\n",
        "\n",
        "#grafica para ver donde estan los ceros\n",
        "plt.plot(x, g(x), label=\"g(x)\")\n",
        "plt.plot(x, h(x), label=\"h(x)\")\n",
        "plt.plot(x, h(x)-g(x), label=\"f(x)\")# superposicion de g(x) y h(x)\n",
        "plt.grid()\n",
        "plt.legend()\n",
        "print(\" raices por los diferentes metodos\")\n",
        "print()\n",
        "# calculo de las raices por los diferentes metodos \n",
        "# Metodo Newton Rapshod\n",
        "root2 = optimize.newton(f, 5)\n",
        "print({root2},\"-----> metodo Newton-Rapson\")\n",
        "# Metodo bisect\n",
        "root = optimize.bisect(f, 0.5, 1.5)# para este metodo se requieren dos puntont\n",
        "print({root},\"-----> metodo de la bisecccion \")\n",
        "# Metodo fixed_point\n",
        "root_3=optimize.fixed_point(lambda x: x-n(x),1,xtol=1e-08,maxiter=500) # se requiere un punto, lo mas cerca a la raiz\n",
        "print(root_3,\"-----> metodo del punto fijo\")\n",
        "\n",
        "#scipy.optimize.fixed_point(func, x0, args=(), xtol=1e-08, maxiter=500, method='del2')[source]¶"
      ],
      "execution_count": null,
      "outputs": [
        {
          "output_type": "stream",
          "text": [
            " raices por los diferentes metodos\n",
            "\n",
            "{1.0076239716581368} -----> metodo Newton-Rapson\n",
            "{1.0076239716563578} -----> metodo de la bisecccion \n",
            "1.0076239716581368 -----> metodo del punto fijo\n"
          ],
          "name": "stdout"
        },
        {
          "output_type": "display_data",
          "data": {
            "image/png": "[encoded data removed]",
            "text/plain": [
              "<Figure size 432x288 with 1 Axes>"
            ]
          },
          "metadata": {
            "tags": [],
            "needs_background": "light"
          }
        }
      ]
    },
    {
      "cell_type": "code",
      "metadata": {
        "id": "8Dtr9ozagJle"
      },
      "source": [
        ""
      ],
      "execution_count": null,
      "outputs": []
    },
    {
      "cell_type": "markdown",
      "metadata": {
        "id": "e9yZL1N-gKRJ"
      },
      "source": [
        "Punto 2.\n",
        "\n",
        "2. Una particula parte del reposo sobre un plano inclinado uniforme, cuyo ángulo \n",
        "$\\theta$ cambia con una rapidez constante de : \n",
        "\n",
        "\\begin{equation}\n",
        "\\frac{\\mathrm{d}\\theta}{\\mathrm{d} t} = \\omega < 0\n",
        "\\end{equation}\n",
        "\n",
        "Al final de t segundos, la posición del objeto esta dada por: \n",
        "\\begin{equation}\n",
        "x(t) = -\\frac{g}{2\\omega^2} \\left( \\frac{e^{\\omega t}-e^{-\\omega t}}{2}\\right) -\\sin\\omega t\n",
        "\\end{equation}\n",
        "\n",
        "\\begin{equation}\n",
        "f(\\omega,t ) = 2\\omega^2(x(t)+\\sin \\omega t )\n",
        "\\end{equation}\n",
        "\n",
        "\n",
        "\\begin{equation}\n",
        "g(\\omega,t ) = -g\\left( \\frac{e^{\\omega t}-e^{-\\omega t}}{2}\\right) \n",
        "\\end{equation}\n",
        "\n",
        "\n",
        "\n",
        "\n",
        "Suponga que la partícula se desplazo 0.51m en 1s. Encuentre, con una exactitud de $10^{-5}$, la rapidez $\\omega$ con que $\\theta$ cambia. Suponga que $g=9.76m/s$\n",
        "\n",
        "\n",
        "![Plano Inclinado](https://raw.githubusercontent.com/hernansalinas/Metodos_Computacionales_taller/main/sesiones/images/ecuacion_1_variable/Fig0.png)\n",
        "\n"
      ]
    },
    {
      "cell_type": "code",
      "metadata": {
        "colab": {
          "base_uri": "https://localhost:8080/",
          "height": 350
        },
        "id": "eHBtlBzVgu_w",
        "outputId": "d6842663-8f53-4c69-8e0a-dbed012d2419"
      },
      "source": [
        "#defino las funciones ()\n",
        "f = lambda omega : 2*omega**2 * (0.51+np.sin(omega))\n",
        "\n",
        "g = lambda omega : -9.76* 0.5*(np.exp(omega)-np.exp(-omega))\n",
        "\n",
        "h = lambda omega : f(omega)-g(omega)\n",
        "#definire una fincion para el metodo de punto fijo\n",
        "def n_1(x):\n",
        "    return g(x) - h(x)\n",
        "omega = np.linspace(-np.pi/4, np.pi/4)# dominio para la grafica \n",
        "plt.figure()\n",
        "plt.plot(omega, h(omega) )# grafica para saber donde esta la raz o las raices \n",
        "plt.plot(0,0, marker=\"o\", color=\"red\")\n",
        "plt.grid()\n",
        "print(\" raices por los diferentes metodos\")\n",
        "print()\n",
        "# calculo de las raices por los diferentes metodos \n",
        "# Metodo Newton Rapshod\n",
        "root2 = optimize.newton(h, 3)\n",
        "print(\"{:.5f}\".format(root2),\"-----> metodo Newton-Rapson\")\n",
        "# Metodo bisect\n",
        "root = optimize.bisect(h, -0.2, 0.2)# para este metodo se requieren dos puntont\n",
        "print(\"{:.5f}\".format(root2),\"-----> metodo de la bisecccion \")\n",
        "# Metodo fixed_point\n",
        "root_3=optimize.fixed_point(lambda x: x-n_1(x),0.1,xtol=1e-08) # se requiere un punto, lo mas cerca a la raiz\n",
        "print(\"{:.5f}\".format(root_3),\"-----> metodo del punto fijo\")\n"
      ],
      "execution_count": null,
      "outputs": [
        {
          "output_type": "stream",
          "text": [
            " raices por los diferentes metodos\n",
            "\n",
            "0.00000 -----> metodo Newton-Rapson\n",
            "0.00000 -----> metodo de la bisecccion \n",
            "-0.00000 -----> metodo del punto fijo\n"
          ],
          "name": "stdout"
        },
        {
          "output_type": "display_data",
          "data": {
            "image/png": "[encoded data removed]",
            "text/plain": [
              "<Figure size 432x288 with 1 Axes>"
            ]
          },
          "metadata": {
            "tags": [],
            "needs_background": "light"
          }
        }
      ]
    },
    {
      "cell_type": "code",
      "metadata": {
        "id": "NVWA0Orpv7MN"
      },
      "source": [
        ""
      ],
      "execution_count": null,
      "outputs": []
    },
    {
      "cell_type": "markdown",
      "metadata": {
        "id": "UZNdpA5ov7_P"
      },
      "source": [
        "3. Un reservorio de longitud L tiene una seccion transveral en forma de semicirculo con radio r.\n",
        "\n",
        "\\begin{equation}\n",
        "V=L \\left ( \\frac{1}{2}\\pi r^2 -r^2 \\arcsin{\\frac{h}{r}}-h(r^2-h^2) ^{1/2} \\right)\n",
        "\\end{equation}\n",
        "\n",
        "Determinar la profundidad del agua para L=10pies, r=1pies, V=12.4pies\n",
        "\n",
        "\n",
        "![Reservorio](https://raw.githubusercontent.com/hernansalinas/Metodos_Computacionales_taller/main/sesiones/images/ecuacion_1_variable/Fig1.png)\n",
        "\n"
      ]
    },
    {
      "cell_type": "code",
      "metadata": {
        "id": "Sc2pWoONwkHy"
      },
      "source": [
        ""
      ],
      "execution_count": null,
      "outputs": []
    },
    {
      "cell_type": "markdown",
      "metadata": {
        "id": "IdmTKtkif6Yq"
      },
      "source": [
        "voy a igual a cero \n",
        "\\begin{equation}\n",
        "-V+L \\left ( \\frac{1}{2}\\pi r^2 -r^2 \\arcsin{\\frac{h}{r}}-h(r^2-h^2) ^{1/2} \\right)=0\n",
        "\\end{equation}\n",
        "\n",
        "\n",
        "\\begin{equation}\n",
        "f(h)= -12.4+(10)\\frac{1}{2}\\pi  - (10) \\arcsin{h}-(10)h(1-h^2) ^{1/2} \n",
        "\\end{equation}\n",
        "\n",
        "reescribo la ecuaion priginal\n",
        "\\begin{equation}\n",
        "f(h)=12.4\n",
        "\\end{equation}\n",
        "\n",
        "\\begin{equation}\n",
        "g(h)=5\\pi\n",
        "\\end{equation}\n",
        "\n",
        "\\begin{equation}\n",
        "k(h)=-(10) \\arcsin{{h}}\n",
        "\\end{equation}\n",
        "\n",
        "\\begin{equation}\n",
        "m(h)=-(10)h(1-h^2) ^{1/2} \n",
        "\\end{equation}\n",
        "\n",
        "\\begin{equation}\n",
        "n(h)= f(h)-g(h)-k(h)-m(h)\n",
        "\\end{equation}\n",
        "\n"
      ]
    },
    {
      "cell_type": "code",
      "metadata": {
        "colab": {
          "base_uri": "https://localhost:8080/",
          "height": 381
        },
        "id": "n8_3pDfjhfES",
        "outputId": "c1943c67-8f43-4859-d112-cb3b955c37bb"
      },
      "source": [
        "# importar la librearias\n",
        "import numpy as np\n",
        "from scipy import optimize\n",
        "import matplotlib.pylab as plt\n",
        "import math\n",
        "\n",
        "r=1 # radio del de semicirculo en ft\n",
        "\n",
        "# aqui reecribo la ecuacion original separandola \n",
        "f = lambda h: 12.4  \n",
        "g = lambda h: 5*np.pi\n",
        "k = lambda h: -(np.arcsin(h)*10)\n",
        "m = lambda h: -(10*h*(1-(h**2))**0.5)\n",
        "n = lambda h: f(h)-g(h)-k(h)-m(h)# junto cada funcion , esta resultate es igual cero , para poder sacar la raiz( valor de h)\n",
        "\n",
        "h = np.arange(0,1,0.01) # arreglo para grafica y saber donde esta el cero o la raiz \n",
        "\n",
        "plt.figure()\n",
        "plt.plot(0.166,0, marker=\"o\", color=\"red\")\n",
        "plt.plot(h, n(h))\n",
        "plt.xlabel(\"h\")\n",
        "plt.ylabel(\"n(h)\")\n",
        "plt.grid()\n",
        "plt.legend()\n",
        "\n",
        "#encontremos h en pies, luego lo convierto a metros o centimetros\n",
        "\n",
        "# metodo del punto fijo\n",
        "raiz_1=optimize.fixed_point(lambda h: h-n(h),0.2,xtol=1e-08,maxiter=500)# se requiere un punto, lo mas cerca al cero para mejor exactitud \n",
        "print(\"h: \"\"{:.3f}\".format(raiz_1),\"----->\"\"metodo del punto fijo\")\n",
        "\n",
        "# metodo bisect\n",
        "root = optimize.bisect(n, -0.2, 0.2)# para este metodo se requieren dos puntos\n",
        "print(\"h: \"\"{:.3f}\".format(root),\"-----> metodo de la bisecccion \")\n",
        "\n",
        "\n",
        "# la profundidad de agua el es r - h\n",
        "print(\"la profundidad del agua es :\"\" {:.3f}\".format(r-root), \"en pies\" )\n",
        "print(\" o en metros\")\n",
        "print (\"la profundidad del agua es :\"\" {:.3f}\".format((r-root)*0.3048),\"m\" )"
      ],
      "execution_count": null,
      "outputs": [
        {
          "output_type": "stream",
          "text": [
            "No handles with labels found to put in legend.\n"
          ],
          "name": "stderr"
        },
        {
          "output_type": "stream",
          "text": [
            "h: 0.166 ----->metodo del punto fijo\n",
            "h: 0.166 -----> metodo de la bisecccion \n",
            "la profundidad del agua es : 0.834 en pies\n",
            " o en metros\n",
            "la profundidad del agua es : 0.254 m\n"
          ],
          "name": "stdout"
        },
        {
          "output_type": "display_data",
          "data": {
            "image/png": "[encoded data removed]",
            "text/plain": [
              "<Figure size 432x288 with 1 Axes>"
            ]
          },
          "metadata": {
            "tags": [],
            "needs_background": "light"
          }
        }
      ]
    },
    {
      "cell_type": "code",
      "metadata": {
        "id": "sEhWWM5xjgVK"
      },
      "source": [
        ""
      ],
      "execution_count": null,
      "outputs": []
    },
    {
      "cell_type": "markdown",
      "metadata": {
        "id": "U65oNm3Gtzgu"
      },
      "source": [
        "4.Resolver la siguiente situación\n",
        "\n",
        "En el diseño de los vehiculos para todo tipo de terreno,  es necesario tener encuentra fallas cuando se trata de liberar dos tipos de obstáculos. Una es la falla por rozamiento, y ocurre cuando el vehiculo \n",
        "intenta cruzar un obstáculo que hace que su fondo toque el suelo. La otra recibie el nombre de falla por colision de la defensa delantera y ocurre cuando el vehiculo desciende por una zanja y la defensa delantera toca el suelo.\n",
        "\n",
        "\n",
        "\n",
        "La figura muestra las componentes asociados al segundo tipo  de falla. En ella se indeca el ángulo máximo $\\alpha$ que puede alcanzar un vehiculo cuando $\\beta$ es el angulo maximo en que no ocurre la falla \n",
        "por rozamiento y satisface la siguiente ecuación: \n",
        "\n",
        "\n",
        "\\begin{equation}\n",
        "A \\sin(\\alpha) \\cos(\\alpha)+B \\sin^2(\\alpha) - C \\cos(\\alpha) -  E  \\sin(\\alpha)=0\n",
        "\\end{equation}\n",
        "\n",
        "donde; \n",
        "\\begin{equation}\n",
        "A = l \\sin(\\beta)\n",
        "\\end{equation}\n",
        "\n",
        "\\begin{equation}\n",
        "B = l \\cos(\\beta)\n",
        "\\end{equation}\n",
        "\\begin{equation}\n",
        "C = (h + 0.5 D )\\sin(\\beta) - 0.5 D \\tan(\\beta)\n",
        "\\end{equation}\n",
        "\n",
        "\\begin{equation}\n",
        "E = (h + 0.5 D ) \\cos(\\beta) - 0.5 * D\n",
        "\\end{equation}\n",
        "\n",
        "\n",
        "Para $l=89$pulg, $h=49$pul, $D=55$, $\\beta=11.5$ , el angulo se aproximara a 33. Verificar este resultados\n",
        "\n",
        "\n",
        "![fallas_vehiculo](https://raw.githubusercontent.com/hernansalinas/Metodos_Computacionales_taller/main/sesiones/images/ecuacion_1_variable/Fig2.png)\n",
        "\n",
        "Referencias: Numerical Analysis Book by J. Douglas Faires and Richard L. Burden\n",
        "\n"
      ]
    },
    {
      "cell_type": "markdown",
      "metadata": {
        "id": "EIAgEkT-vZdc"
      },
      "source": [
        "\n",
        "\n",
        "\n",
        "\n",
        "reemplazando la ecuacion anterior y reescribiendo en funciones \n",
        "\n",
        "\\begin{equation}\n",
        "a(\\alpha)=(89) \\sin(11.5) \\sin(\\alpha) \\cos(\\alpha)\n",
        "\\end{equation}\n",
        "\n",
        "\\begin{equation}\n",
        "b(\\alpha)= (89) \\cos(11.5) \\sin^2(\\alpha)\n",
        "\\end{equation}\n",
        "\n",
        "\\begin{equation}\n",
        "c(\\alpha)= (76.5 )\\sin(11.5)\\cos(\\alpha)\n",
        "\\end{equation}\n",
        "\n",
        "\\begin{equation}\n",
        "d(\\alpha)=  (27.5) \\tan(11.5) \\cos(\\alpha)\n",
        "\\end{equation}\n",
        "\n",
        "\\begin{equation}\n",
        "e(\\alpha)=(76.5 ) \\cos(11.5)\\sin(\\alpha)\n",
        "\\end{equation}\n",
        "\n",
        "\\begin{equation}\n",
        "f(\\alpha)=(27.5)  \\sin(\\alpha)\n",
        "\\end{equation}\n",
        "\n",
        "\\begin{equation}\n",
        "g(\\alpha)= a(\\alpha)+ b(\\alpha) - c(\\alpha) + d(\\alpha) -  e(\\alpha) + f(\\alpha)\n",
        "\\end{equation}\n",
        "\n",
        "\\begin{equation}\n",
        "g(\\alpha)=0\n",
        "\\end{equation}\n",
        "\n",
        "sera  necesario igualar a cero para hallar la raiz"
      ]
    },
    {
      "cell_type": "code",
      "metadata": {
        "colab": {
          "base_uri": "https://localhost:8080/",
          "height": 347
        },
        "id": "djDPN2Rwv4jP",
        "outputId": "41a5876a-0089-4873-a034-65a7b626a438"
      },
      "source": [
        "# importar la librearias\n",
        "import numpy as np\n",
        "from scipy import optimize\n",
        "import matplotlib.pylab as plt\n",
        "import math\n",
        "\n",
        "# aqui reecribo la ecuacion original separandola en funciones \n",
        "\n",
        "a = lambda alfa: 89*np.sin(math.radians(11.5))*(np.sin(alfa))*(np.cos(alfa))\n",
        "b=  lambda alfa: 89*np.cos(math.radians(11.5))*(np.sin(alfa))**2\n",
        "c = lambda alfa: 76.5*np.sin(math.radians(11.5))*np.cos(alfa)\n",
        "d = lambda alfa: 27.5*np.tan(math.radians(11.5))*np.cos(alfa)\n",
        "e=  lambda alfa: 76.5*np.cos(math.radians(11.5))*np.sin(alfa)\n",
        "f=  lambda alfa: 27.5*np.sin(alfa)\n",
        "g=  lambda alfa: a(alfa)+b(alfa)-c(alfa)+d(alfa)-e(alfa)+f(alfa)# esta parte igual cero para encontrar la raiz (alfa)\n",
        "\n",
        "alfa = np.linspace(0, np.pi/4) # arreglo para grafica y saber donde esta el cero o la raiz \n",
        "\n",
        "plt.figure()\n",
        "plt.plot(0.575473,0, marker=\"o\", color=\"red\")\n",
        "plt.plot(alfa, g(alfa))\n",
        "plt.xlabel(\"h\")\n",
        "plt.ylabel(\"n(h)\")\n",
        "plt.grid()\n",
        "plt.legend()\n",
        "\n",
        "# metodo bisect\n",
        "root = optimize.bisect(g, 0.5, 0.6)# para este metodo se requieren dos puntos\n",
        "root_1=(math.degrees(root))# pasando de radianes a grados\n",
        "print(\"alfa=\" \"{:.2f}\".format(root_1),\"-----> metodo de la bisecccion \")\n",
        "#medtodo de newton-rapson\n",
        "root_2 = optimize.newton(g,0.6)\n",
        "print(\"alfa=\"\"{:.2f}\".format(math.degrees(root_2)),\"----> metodo newton rapson\")\n",
        "\n",
        "print(\" el angulo alfa se aproxima a 33 grados\")\n"
      ],
      "execution_count": null,
      "outputs": [
        {
          "output_type": "stream",
          "text": [
            "No handles with labels found to put in legend.\n"
          ],
          "name": "stderr"
        },
        {
          "output_type": "stream",
          "text": [
            "alfa=32.97 -----> metodo de la bisecccion \n",
            "alfa=32.97 ----> metodo newton rapson\n",
            " el angulo alfa se aproxima a 33 grados\n"
          ],
          "name": "stdout"
        },
        {
          "output_type": "display_data",
          "data": {
            "image/png": "[encoded data removed]",
            "text/plain": [
              "<Figure size 432x288 with 1 Axes>"
            ]
          },
          "metadata": {
            "tags": [],
            "needs_background": "light"
          }
        }
      ]
    }
  ]
}